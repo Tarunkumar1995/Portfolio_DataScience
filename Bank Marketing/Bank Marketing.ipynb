{
 "cells": [
  {
   "cell_type": "markdown",
   "metadata": {},
   "source": [
    "#### Bank Marketing\n",
    "- Abstract: The data is related with direct marketing campaigns (phone calls) of a Portuguese banking institution. The        classification goal is to predict if the client will subscribe a term deposit (variable y).\n",
    "\n",
    "- Data Set Information: The data is related with direct marketing campaigns of a Portuguese banking institution. The marketing campaigns were based on phone calls. Often, more than one contact to the same client was required, in order to access if the product (bank term deposit) would be ('yes') or not ('no') subscribed.\n",
    "\n",
    "\n",
    "#### Attribute Information:\n",
    "\n",
    "###### Bank client data$:\n",
    "\n",
    "\n",
    "\n"
   ]
  },
  {
   "cell_type": "markdown",
   "metadata": {},
   "source": [
    " - Age (numeric)\n",
    "- Job : type of job (categorical: 'admin.', 'blue-collar', 'entrepreneur', 'housemaid', 'management', 'retired', 'self-employed', 'services', 'student', 'technician', 'unemployed', 'unknown')\n",
    "- Marital : marital status (categorical: 'divorced', 'married', 'single', 'unknown' ; note: 'divorced' means divorced or widowed)\n",
    "- Education (categorical: 'basic.4y', 'basic.6y', 'basic.9y', 'high.school', 'illiterate', 'professional.course', 'university.degree', 'unknown')\n",
    "- Default: has credit in default? (categorical: 'no', 'yes', 'unknown')\n",
    "- Housing: has housing loan? (categorical: 'no', 'yes', 'unknown')\n",
    "- Loan: has personal loan? (categorical: 'no', 'yes', 'unknown') "
   ]
  },
  {
   "cell_type": "markdown",
   "metadata": {},
   "source": [
    "#### Related with the last contact of the current campaign:\n",
    "\n",
    "- Contact: contact communication type (categorical: 'cellular','telephone')\n",
    "- Month: last contact month of year (categorical: 'jan', 'feb', 'mar', ..., 'nov', 'dec')\n",
    "- Day_of_week: last contact day of the week (categorical: 'mon','tue','wed','thu','fri')\n",
    "- Duration: last contact duration, in seconds (numeric). Important note: this attribute highly affects the output target (e.g.,  if duration=0 then y='no'). Yet, the duration is not known before a call is performed. Also, after the end of the call y is obviously known. Thus, this input should only be included for benchmark purposes and should be discarded if the intention is to have a realistic predictive model."
   ]
  },
  {
   "cell_type": "markdown",
   "metadata": {},
   "source": [
    "####  Other attributes:\n",
    "- Campaign: number of contacts performed during this campaign and for this client (numeric, includes last contact)\n",
    "- Pdays: number of days that passed by after the client was last contacted from a previous campaign (numeric; 999 means client was not previously contacted)\n",
    "- Previous: number of contacts performed before this campaign and for this client (numeric)\n",
    "- Poutcome: outcome of the previous marketing campaign (categorical: 'failure','nonexistent','success')."
   ]
  },
  {
   "cell_type": "markdown",
   "metadata": {},
   "source": [
    "#### Social and economic context attributes:\n",
    "- Emp.var.rate: employment variation rate - quarterly indicator (numeric)\n",
    "- Cons.price.idx: consumer price index - monthly indicator (numeric)\n",
    "- Cons.conf.idx: consumer confidence index - monthly indicator (numeric)\n",
    "- Euribor3m: euribor 3 month rate - daily indicator (numeric)\n",
    "- Nr.employed: number of employees - quarterly indicator (numeric)\n",
    "\n",
    "#### Output variable (desired target):\n",
    "\n",
    "- y - has the client subscribed a term deposit? (binary: 'yes', 'no').\n",
    "\n",
    "### Source\n",
    "- Dataset from :http://archive.ics.uci.edu/ml/datasets/Bank+Marketing#"
   ]
  },
  {
   "cell_type": "code",
   "execution_count": 3,
   "metadata": {},
   "outputs": [],
   "source": [
    "import pandas as pd\n",
    "import numpy as np\n",
    "import matplotlib.pyplot as plt\n",
    "import seaborn as sns\n",
    "%matplotlib inline\n",
    "sns.set_style(style='darkgrid')\n",
    "pd.set_option('display.max_columns',None)\n",
    "\n",
    "\n",
    "import warnings\n",
    "warnings.filterwarnings('ignore')"
   ]
  },
  {
   "cell_type": "code",
   "execution_count": 4,
   "metadata": {},
   "outputs": [
    {
     "data": {
      "text/html": [
       "<div>\n",
       "<style scoped>\n",
       "    .dataframe tbody tr th:only-of-type {\n",
       "        vertical-align: middle;\n",
       "    }\n",
       "\n",
       "    .dataframe tbody tr th {\n",
       "        vertical-align: top;\n",
       "    }\n",
       "\n",
       "    .dataframe thead th {\n",
       "        text-align: right;\n",
       "    }\n",
       "</style>\n",
       "<table border=\"1\" class=\"dataframe\">\n",
       "  <thead>\n",
       "    <tr style=\"text-align: right;\">\n",
       "      <th></th>\n",
       "      <th>age</th>\n",
       "      <th>job</th>\n",
       "      <th>marital</th>\n",
       "      <th>education</th>\n",
       "      <th>default</th>\n",
       "      <th>housing</th>\n",
       "      <th>loan</th>\n",
       "      <th>contact</th>\n",
       "      <th>month</th>\n",
       "      <th>day_of_week</th>\n",
       "      <th>duration</th>\n",
       "      <th>campaign</th>\n",
       "      <th>pdays</th>\n",
       "      <th>previous</th>\n",
       "      <th>poutcome</th>\n",
       "      <th>emp.var.rate</th>\n",
       "      <th>cons.price.idx</th>\n",
       "      <th>cons.conf.idx</th>\n",
       "      <th>euribor3m</th>\n",
       "      <th>nr.employed</th>\n",
       "      <th>y</th>\n",
       "    </tr>\n",
       "  </thead>\n",
       "  <tbody>\n",
       "    <tr>\n",
       "      <th>0</th>\n",
       "      <td>56</td>\n",
       "      <td>housemaid</td>\n",
       "      <td>married</td>\n",
       "      <td>basic.4y</td>\n",
       "      <td>no</td>\n",
       "      <td>no</td>\n",
       "      <td>no</td>\n",
       "      <td>telephone</td>\n",
       "      <td>may</td>\n",
       "      <td>mon</td>\n",
       "      <td>261</td>\n",
       "      <td>1</td>\n",
       "      <td>999</td>\n",
       "      <td>0</td>\n",
       "      <td>nonexistent</td>\n",
       "      <td>1.1</td>\n",
       "      <td>93.994</td>\n",
       "      <td>-36.4</td>\n",
       "      <td>4.857</td>\n",
       "      <td>5191.0</td>\n",
       "      <td>no</td>\n",
       "    </tr>\n",
       "    <tr>\n",
       "      <th>1</th>\n",
       "      <td>57</td>\n",
       "      <td>services</td>\n",
       "      <td>married</td>\n",
       "      <td>high.school</td>\n",
       "      <td>unknown</td>\n",
       "      <td>no</td>\n",
       "      <td>no</td>\n",
       "      <td>telephone</td>\n",
       "      <td>may</td>\n",
       "      <td>mon</td>\n",
       "      <td>149</td>\n",
       "      <td>1</td>\n",
       "      <td>999</td>\n",
       "      <td>0</td>\n",
       "      <td>nonexistent</td>\n",
       "      <td>1.1</td>\n",
       "      <td>93.994</td>\n",
       "      <td>-36.4</td>\n",
       "      <td>4.857</td>\n",
       "      <td>5191.0</td>\n",
       "      <td>no</td>\n",
       "    </tr>\n",
       "    <tr>\n",
       "      <th>2</th>\n",
       "      <td>37</td>\n",
       "      <td>services</td>\n",
       "      <td>married</td>\n",
       "      <td>high.school</td>\n",
       "      <td>no</td>\n",
       "      <td>yes</td>\n",
       "      <td>no</td>\n",
       "      <td>telephone</td>\n",
       "      <td>may</td>\n",
       "      <td>mon</td>\n",
       "      <td>226</td>\n",
       "      <td>1</td>\n",
       "      <td>999</td>\n",
       "      <td>0</td>\n",
       "      <td>nonexistent</td>\n",
       "      <td>1.1</td>\n",
       "      <td>93.994</td>\n",
       "      <td>-36.4</td>\n",
       "      <td>4.857</td>\n",
       "      <td>5191.0</td>\n",
       "      <td>no</td>\n",
       "    </tr>\n",
       "    <tr>\n",
       "      <th>3</th>\n",
       "      <td>40</td>\n",
       "      <td>admin.</td>\n",
       "      <td>married</td>\n",
       "      <td>basic.6y</td>\n",
       "      <td>no</td>\n",
       "      <td>no</td>\n",
       "      <td>no</td>\n",
       "      <td>telephone</td>\n",
       "      <td>may</td>\n",
       "      <td>mon</td>\n",
       "      <td>151</td>\n",
       "      <td>1</td>\n",
       "      <td>999</td>\n",
       "      <td>0</td>\n",
       "      <td>nonexistent</td>\n",
       "      <td>1.1</td>\n",
       "      <td>93.994</td>\n",
       "      <td>-36.4</td>\n",
       "      <td>4.857</td>\n",
       "      <td>5191.0</td>\n",
       "      <td>no</td>\n",
       "    </tr>\n",
       "    <tr>\n",
       "      <th>4</th>\n",
       "      <td>56</td>\n",
       "      <td>services</td>\n",
       "      <td>married</td>\n",
       "      <td>high.school</td>\n",
       "      <td>no</td>\n",
       "      <td>no</td>\n",
       "      <td>yes</td>\n",
       "      <td>telephone</td>\n",
       "      <td>may</td>\n",
       "      <td>mon</td>\n",
       "      <td>307</td>\n",
       "      <td>1</td>\n",
       "      <td>999</td>\n",
       "      <td>0</td>\n",
       "      <td>nonexistent</td>\n",
       "      <td>1.1</td>\n",
       "      <td>93.994</td>\n",
       "      <td>-36.4</td>\n",
       "      <td>4.857</td>\n",
       "      <td>5191.0</td>\n",
       "      <td>no</td>\n",
       "    </tr>\n",
       "  </tbody>\n",
       "</table>\n",
       "</div>"
      ],
      "text/plain": [
       "   age        job  marital    education  default housing loan    contact  \\\n",
       "0   56  housemaid  married     basic.4y       no      no   no  telephone   \n",
       "1   57   services  married  high.school  unknown      no   no  telephone   \n",
       "2   37   services  married  high.school       no     yes   no  telephone   \n",
       "3   40     admin.  married     basic.6y       no      no   no  telephone   \n",
       "4   56   services  married  high.school       no      no  yes  telephone   \n",
       "\n",
       "  month day_of_week  duration  campaign  pdays  previous     poutcome  \\\n",
       "0   may         mon       261         1    999         0  nonexistent   \n",
       "1   may         mon       149         1    999         0  nonexistent   \n",
       "2   may         mon       226         1    999         0  nonexistent   \n",
       "3   may         mon       151         1    999         0  nonexistent   \n",
       "4   may         mon       307         1    999         0  nonexistent   \n",
       "\n",
       "   emp.var.rate  cons.price.idx  cons.conf.idx  euribor3m  nr.employed   y  \n",
       "0           1.1          93.994          -36.4      4.857       5191.0  no  \n",
       "1           1.1          93.994          -36.4      4.857       5191.0  no  \n",
       "2           1.1          93.994          -36.4      4.857       5191.0  no  \n",
       "3           1.1          93.994          -36.4      4.857       5191.0  no  \n",
       "4           1.1          93.994          -36.4      4.857       5191.0  no  "
      ]
     },
     "execution_count": 4,
     "metadata": {},
     "output_type": "execute_result"
    }
   ],
   "source": [
    "df=pd.read_csv('~/Desktop/Data sets ML/30368_38700_bundle_archive/bank-additional-full.csv',sep=';')\n",
    "df.head()"
   ]
  },
  {
   "cell_type": "code",
   "execution_count": 3,
   "metadata": {},
   "outputs": [
    {
     "data": {
      "text/plain": [
       "<matplotlib.axes._subplots.AxesSubplot at 0x138cc124488>"
      ]
     },
     "execution_count": 3,
     "metadata": {},
     "output_type": "execute_result"
    },
    {
     "data": {
      "image/png": "[encoded data removed]",
      "text/plain": [
       "<Figure size 432x288 with 1 Axes>"
      ]
     },
     "metadata": {},
     "output_type": "display_data"
    }
   ],
   "source": [
    "sns.countplot(df['y'])"
   ]
  },
  {
   "cell_type": "markdown",
   "metadata": {},
   "source": [
    "- This is clearly an imbalanced dataset,by using sampling techniques we need to rectify it."
   ]
  },
  {
   "cell_type": "code",
   "execution_count": 4,
   "metadata": {},
   "outputs": [
    {
     "name": "stdout",
     "output_type": "stream",
     "text": [
      "<class 'pandas.core.frame.DataFrame'>\n",
      "RangeIndex: 41188 entries, 0 to 41187\n",
      "Data columns (total 21 columns):\n",
      " #   Column          Non-Null Count  Dtype  \n",
      "---  ------          --------------  -----  \n",
      " 0   age             41188 non-null  int64  \n",
      " 1   job             41188 non-null  object \n",
      " 2   marital         41188 non-null  object \n",
      " 3   education       41188 non-null  object \n",
      " 4   default         41188 non-null  object \n",
      " 5   housing         41188 non-null  object \n",
      " 6   loan            41188 non-null  object \n",
      " 7   contact         41188 non-null  object \n",
      " 8   month           41188 non-null  object \n",
      " 9   day_of_week     41188 non-null  object \n",
      " 10  duration        41188 non-null  int64  \n",
      " 11  campaign        41188 non-null  int64  \n",
      " 12  pdays           41188 non-null  int64  \n",
      " 13  previous        41188 non-null  int64  \n",
      " 14  poutcome        41188 non-null  object \n",
      " 15  emp.var.rate    41188 non-null  float64\n",
      " 16  cons.price.idx  41188 non-null  float64\n",
      " 17  cons.conf.idx   41188 non-null  float64\n",
      " 18  euribor3m       41188 non-null  float64\n",
      " 19  nr.employed     41188 non-null  float64\n",
      " 20  y               41188 non-null  object \n",
      "dtypes: float64(5), int64(5), object(11)\n",
      "memory usage: 6.6+ MB\n"
     ]
    }
   ],
   "source": [
    "df.info()"
   ]
  },
  {
   "cell_type": "code",
   "execution_count": 5,
   "metadata": {},
   "outputs": [],
   "source": [
    "def missingvalues(df):\n",
    "    total=df.isnull().sum().sort_values()\n",
    "    percent=round(((df.isnull().sum().sort_values()/df.index.size)*100),2)\n",
    "    return pd.concat([total,percent],keys=(['Total','Percent']),axis=1)\n"
   ]
  },
  {
   "cell_type": "code",
   "execution_count": 6,
   "metadata": {},
   "outputs": [
    {
     "data": {
      "text/html": [
       "<div>\n",
       "<style scoped>\n",
       "    .dataframe tbody tr th:only-of-type {\n",
       "        vertical-align: middle;\n",
       "    }\n",
       "\n",
       "    .dataframe tbody tr th {\n",
       "        vertical-align: top;\n",
       "    }\n",
       "\n",
       "    .dataframe thead th {\n",
       "        text-align: right;\n",
       "    }\n",
       "</style>\n",
       "<table border=\"1\" class=\"dataframe\">\n",
       "  <thead>\n",
       "    <tr style=\"text-align: right;\">\n",
       "      <th></th>\n",
       "      <th>Total</th>\n",
       "      <th>Percent</th>\n",
       "    </tr>\n",
       "  </thead>\n",
       "  <tbody>\n",
       "    <tr>\n",
       "      <th>age</th>\n",
       "      <td>0</td>\n",
       "      <td>0.0</td>\n",
       "    </tr>\n",
       "    <tr>\n",
       "      <th>euribor3m</th>\n",
       "      <td>0</td>\n",
       "      <td>0.0</td>\n",
       "    </tr>\n",
       "    <tr>\n",
       "      <th>cons.conf.idx</th>\n",
       "      <td>0</td>\n",
       "      <td>0.0</td>\n",
       "    </tr>\n",
       "    <tr>\n",
       "      <th>cons.price.idx</th>\n",
       "      <td>0</td>\n",
       "      <td>0.0</td>\n",
       "    </tr>\n",
       "    <tr>\n",
       "      <th>emp.var.rate</th>\n",
       "      <td>0</td>\n",
       "      <td>0.0</td>\n",
       "    </tr>\n",
       "    <tr>\n",
       "      <th>poutcome</th>\n",
       "      <td>0</td>\n",
       "      <td>0.0</td>\n",
       "    </tr>\n",
       "    <tr>\n",
       "      <th>previous</th>\n",
       "      <td>0</td>\n",
       "      <td>0.0</td>\n",
       "    </tr>\n",
       "    <tr>\n",
       "      <th>pdays</th>\n",
       "      <td>0</td>\n",
       "      <td>0.0</td>\n",
       "    </tr>\n",
       "    <tr>\n",
       "      <th>campaign</th>\n",
       "      <td>0</td>\n",
       "      <td>0.0</td>\n",
       "    </tr>\n",
       "    <tr>\n",
       "      <th>nr.employed</th>\n",
       "      <td>0</td>\n",
       "      <td>0.0</td>\n",
       "    </tr>\n",
       "    <tr>\n",
       "      <th>duration</th>\n",
       "      <td>0</td>\n",
       "      <td>0.0</td>\n",
       "    </tr>\n",
       "    <tr>\n",
       "      <th>month</th>\n",
       "      <td>0</td>\n",
       "      <td>0.0</td>\n",
       "    </tr>\n",
       "    <tr>\n",
       "      <th>contact</th>\n",
       "      <td>0</td>\n",
       "      <td>0.0</td>\n",
       "    </tr>\n",
       "    <tr>\n",
       "      <th>loan</th>\n",
       "      <td>0</td>\n",
       "      <td>0.0</td>\n",
       "    </tr>\n",
       "    <tr>\n",
       "      <th>housing</th>\n",
       "      <td>0</td>\n",
       "      <td>0.0</td>\n",
       "    </tr>\n",
       "    <tr>\n",
       "      <th>default</th>\n",
       "      <td>0</td>\n",
       "      <td>0.0</td>\n",
       "    </tr>\n",
       "    <tr>\n",
       "      <th>education</th>\n",
       "      <td>0</td>\n",
       "      <td>0.0</td>\n",
       "    </tr>\n",
       "    <tr>\n",
       "      <th>marital</th>\n",
       "      <td>0</td>\n",
       "      <td>0.0</td>\n",
       "    </tr>\n",
       "    <tr>\n",
       "      <th>job</th>\n",
       "      <td>0</td>\n",
       "      <td>0.0</td>\n",
       "    </tr>\n",
       "    <tr>\n",
       "      <th>day_of_week</th>\n",
       "      <td>0</td>\n",
       "      <td>0.0</td>\n",
       "    </tr>\n",
       "    <tr>\n",
       "      <th>y</th>\n",
       "      <td>0</td>\n",
       "      <td>0.0</td>\n",
       "    </tr>\n",
       "  </tbody>\n",
       "</table>\n",
       "</div>"
      ],
      "text/plain": [
       "                Total  Percent\n",
       "age                 0      0.0\n",
       "euribor3m           0      0.0\n",
       "cons.conf.idx       0      0.0\n",
       "cons.price.idx      0      0.0\n",
       "emp.var.rate        0      0.0\n",
       "poutcome            0      0.0\n",
       "previous            0      0.0\n",
       "pdays               0      0.0\n",
       "campaign            0      0.0\n",
       "nr.employed         0      0.0\n",
       "duration            0      0.0\n",
       "month               0      0.0\n",
       "contact             0      0.0\n",
       "loan                0      0.0\n",
       "housing             0      0.0\n",
       "default             0      0.0\n",
       "education           0      0.0\n",
       "marital             0      0.0\n",
       "job                 0      0.0\n",
       "day_of_week         0      0.0\n",
       "y                   0      0.0"
      ]
     },
     "execution_count": 6,
     "metadata": {},
     "output_type": "execute_result"
    }
   ],
   "source": [
    "missingvalues(df)"
   ]
  },
  {
   "cell_type": "code",
   "execution_count": 7,
   "metadata": {},
   "outputs": [
    {
     "data": {
      "text/plain": [
       "(41188, 21)"
      ]
     },
     "execution_count": 7,
     "metadata": {},
     "output_type": "execute_result"
    }
   ],
   "source": [
    "df.shape"
   ]
  },
  {
   "cell_type": "code",
   "execution_count": 8,
   "metadata": {
    "scrolled": true
   },
   "outputs": [
    {
     "data": {
      "text/plain": [
       "Index(['age', 'job', 'marital', 'education', 'default', 'housing', 'loan',\n",
       "       'contact', 'month', 'day_of_week', 'duration', 'campaign', 'pdays',\n",
       "       'previous', 'poutcome', 'emp.var.rate', 'cons.price.idx',\n",
       "       'cons.conf.idx', 'euribor3m', 'nr.employed', 'y'],\n",
       "      dtype='object')"
      ]
     },
     "execution_count": 8,
     "metadata": {},
     "output_type": "execute_result"
    }
   ],
   "source": [
    "df.columns"
   ]
  },
  {
   "cell_type": "markdown",
   "metadata": {},
   "source": [
    "###  Working with the bank client data and understanding it"
   ]
  },
  {
   "cell_type": "markdown",
   "metadata": {},
   "source": [
    " -  Bank client data columns:\n",
    "      - Age\n",
    "      - job\n",
    "      - marital\n",
    "      - education\n",
    "      - default\n",
    "      - housing\n",
    "      - loan\n",
    " - Making another dataset for only client columns and doing analysis on it."
   ]
  },
  {
   "cell_type": "code",
   "execution_count": 9,
   "metadata": {},
   "outputs": [],
   "source": [
    "Bank_client=df.iloc[:,:7]"
   ]
  },
  {
   "cell_type": "code",
   "execution_count": 10,
   "metadata": {},
   "outputs": [
    {
     "data": {
      "text/html": [
       "<div>\n",
       "<style scoped>\n",
       "    .dataframe tbody tr th:only-of-type {\n",
       "        vertical-align: middle;\n",
       "    }\n",
       "\n",
       "    .dataframe tbody tr th {\n",
       "        vertical-align: top;\n",
       "    }\n",
       "\n",
       "    .dataframe thead th {\n",
       "        text-align: right;\n",
       "    }\n",
       "</style>\n",
       "<table border=\"1\" class=\"dataframe\">\n",
       "  <thead>\n",
       "    <tr style=\"text-align: right;\">\n",
       "      <th></th>\n",
       "      <th>age</th>\n",
       "      <th>job</th>\n",
       "      <th>marital</th>\n",
       "      <th>education</th>\n",
       "      <th>default</th>\n",
       "      <th>housing</th>\n",
       "      <th>loan</th>\n",
       "    </tr>\n",
       "  </thead>\n",
       "  <tbody>\n",
       "    <tr>\n",
       "      <th>0</th>\n",
       "      <td>56</td>\n",
       "      <td>housemaid</td>\n",
       "      <td>married</td>\n",
       "      <td>basic.4y</td>\n",
       "      <td>no</td>\n",
       "      <td>no</td>\n",
       "      <td>no</td>\n",
       "    </tr>\n",
       "    <tr>\n",
       "      <th>1</th>\n",
       "      <td>57</td>\n",
       "      <td>services</td>\n",
       "      <td>married</td>\n",
       "      <td>high.school</td>\n",
       "      <td>unknown</td>\n",
       "      <td>no</td>\n",
       "      <td>no</td>\n",
       "    </tr>\n",
       "    <tr>\n",
       "      <th>2</th>\n",
       "      <td>37</td>\n",
       "      <td>services</td>\n",
       "      <td>married</td>\n",
       "      <td>high.school</td>\n",
       "      <td>no</td>\n",
       "      <td>yes</td>\n",
       "      <td>no</td>\n",
       "    </tr>\n",
       "    <tr>\n",
       "      <th>3</th>\n",
       "      <td>40</td>\n",
       "      <td>admin.</td>\n",
       "      <td>married</td>\n",
       "      <td>basic.6y</td>\n",
       "      <td>no</td>\n",
       "      <td>no</td>\n",
       "      <td>no</td>\n",
       "    </tr>\n",
       "    <tr>\n",
       "      <th>4</th>\n",
       "      <td>56</td>\n",
       "      <td>services</td>\n",
       "      <td>married</td>\n",
       "      <td>high.school</td>\n",
       "      <td>no</td>\n",
       "      <td>no</td>\n",
       "      <td>yes</td>\n",
       "    </tr>\n",
       "    <tr>\n",
       "      <th>...</th>\n",
       "      <td>...</td>\n",
       "      <td>...</td>\n",
       "      <td>...</td>\n",
       "      <td>...</td>\n",
       "      <td>...</td>\n",
       "      <td>...</td>\n",
       "      <td>...</td>\n",
       "    </tr>\n",
       "    <tr>\n",
       "      <th>41183</th>\n",
       "      <td>73</td>\n",
       "      <td>retired</td>\n",
       "      <td>married</td>\n",
       "      <td>professional.course</td>\n",
       "      <td>no</td>\n",
       "      <td>yes</td>\n",
       "      <td>no</td>\n",
       "    </tr>\n",
       "    <tr>\n",
       "      <th>41184</th>\n",
       "      <td>46</td>\n",
       "      <td>blue-collar</td>\n",
       "      <td>married</td>\n",
       "      <td>professional.course</td>\n",
       "      <td>no</td>\n",
       "      <td>no</td>\n",
       "      <td>no</td>\n",
       "    </tr>\n",
       "    <tr>\n",
       "      <th>41185</th>\n",
       "      <td>56</td>\n",
       "      <td>retired</td>\n",
       "      <td>married</td>\n",
       "      <td>university.degree</td>\n",
       "      <td>no</td>\n",
       "      <td>yes</td>\n",
       "      <td>no</td>\n",
       "    </tr>\n",
       "    <tr>\n",
       "      <th>41186</th>\n",
       "      <td>44</td>\n",
       "      <td>technician</td>\n",
       "      <td>married</td>\n",
       "      <td>professional.course</td>\n",
       "      <td>no</td>\n",
       "      <td>no</td>\n",
       "      <td>no</td>\n",
       "    </tr>\n",
       "    <tr>\n",
       "      <th>41187</th>\n",
       "      <td>74</td>\n",
       "      <td>retired</td>\n",
       "      <td>married</td>\n",
       "      <td>professional.course</td>\n",
       "      <td>no</td>\n",
       "      <td>yes</td>\n",
       "      <td>no</td>\n",
       "    </tr>\n",
       "  </tbody>\n",
       "</table>\n",
       "<p>41188 rows × 7 columns</p>\n",
       "</div>"
      ],
      "text/plain": [
       "       age          job  marital            education  default housing loan\n",
       "0       56    housemaid  married             basic.4y       no      no   no\n",
       "1       57     services  married          high.school  unknown      no   no\n",
       "2       37     services  married          high.school       no     yes   no\n",
       "3       40       admin.  married             basic.6y       no      no   no\n",
       "4       56     services  married          high.school       no      no  yes\n",
       "...    ...          ...      ...                  ...      ...     ...  ...\n",
       "41183   73      retired  married  professional.course       no     yes   no\n",
       "41184   46  blue-collar  married  professional.course       no      no   no\n",
       "41185   56      retired  married    university.degree       no     yes   no\n",
       "41186   44   technician  married  professional.course       no      no   no\n",
       "41187   74      retired  married  professional.course       no     yes   no\n",
       "\n",
       "[41188 rows x 7 columns]"
      ]
     },
     "execution_count": 10,
     "metadata": {},
     "output_type": "execute_result"
    }
   ],
   "source": [
    "Bank_client"
   ]
  },
  {
   "cell_type": "markdown",
   "metadata": {},
   "source": [
    "### Age"
   ]
  },
  {
   "cell_type": "code",
   "execution_count": 11,
   "metadata": {},
   "outputs": [
    {
     "data": {
      "image/png": "[encoded data removed]",
      "text/plain": [
       "<Figure size 576x432 with 1 Axes>"
      ]
     },
     "metadata": {},
     "output_type": "display_data"
    }
   ],
   "source": [
    "# lets see the age distribution\n",
    "plt.figure(figsize=(8,6))\n",
    "sns.distplot(Bank_client['age'])\n",
    "plt.show()"
   ]
  },
  {
   "cell_type": "code",
   "execution_count": 12,
   "metadata": {},
   "outputs": [
    {
     "data": {
      "text/plain": [
       "(17, 98)"
      ]
     },
     "execution_count": 12,
     "metadata": {},
     "output_type": "execute_result"
    }
   ],
   "source": [
    "Bank_client['age'].min(),Bank_client['age'].max()"
   ]
  },
  {
   "cell_type": "code",
   "execution_count": 13,
   "metadata": {},
   "outputs": [
    {
     "data": {
      "image/png": "[encoded data removed]",
      "text/plain": [
       "<Figure size 576x432 with 1 Axes>"
      ]
     },
     "metadata": {},
     "output_type": "display_data"
    }
   ],
   "source": [
    "plt.figure(figsize=(8,6))\n",
    "sns.boxplot(Bank_client['age'],orient='v')\n",
    "plt.ylabel('Age',fontsize=14)\n",
    "plt.show()"
   ]
  },
  {
   "cell_type": "markdown",
   "metadata": {},
   "source": [
    "-  We can see there are outliers in the age column.\n",
    "- The median age is 38. and above 70 are outliers."
   ]
  },
  {
   "cell_type": "code",
   "execution_count": 14,
   "metadata": {},
   "outputs": [
    {
     "name": "stdout",
     "output_type": "stream",
     "text": [
      "Q1 32.0\n",
      "Q2 38.0\n",
      "Q3 47.0\n",
      "Q4 98.0\n",
      "69.5 are outliers\n"
     ]
    }
   ],
   "source": [
    "print(\"Q1\",Bank_client['age'].quantile(0.25))\n",
    "print(\"Q2\",Bank_client['age'].quantile(0.50))\n",
    "print('Q3',Bank_client['age'].quantile(0.75))\n",
    "print('Q4',Bank_client['age'].quantile(1.00))\n",
    "print(Bank_client['age'].quantile(q = 0.75) + \n",
    "                      1.5*(Bank_client['age'].quantile(q = 0.75) -  Bank_client['age'].quantile(q = 0.25)), 'are outliers')"
   ]
  },
  {
   "cell_type": "code",
   "execution_count": 15,
   "metadata": {},
   "outputs": [
    {
     "data": {
      "text/plain": [
       "503"
      ]
     },
     "execution_count": 15,
     "metadata": {},
     "output_type": "execute_result"
    }
   ],
   "source": [
    "(Bank_client[Bank_client['age']>=69])['age'].count()"
   ]
  },
  {
   "cell_type": "markdown",
   "metadata": {},
   "source": [
    " - We can see there are 503 outliers in the data but we are not going to remove them .\n",
    " - As we have distribution of all the ages."
   ]
  },
  {
   "cell_type": "markdown",
   "metadata": {},
   "source": [
    "## Job"
   ]
  },
  {
   "cell_type": "code",
   "execution_count": 16,
   "metadata": {},
   "outputs": [
    {
     "data": {
      "text/plain": [
       "array(['housemaid', 'services', 'admin.', 'blue-collar', 'technician',\n",
       "       'retired', 'management', 'unemployed', 'self-employed', 'unknown',\n",
       "       'entrepreneur', 'student'], dtype=object)"
      ]
     },
     "execution_count": 16,
     "metadata": {},
     "output_type": "execute_result"
    }
   ],
   "source": [
    "Bank_client['job'].unique()"
   ]
  },
  {
   "cell_type": "code",
   "execution_count": 17,
   "metadata": {},
   "outputs": [
    {
     "data": {
      "text/plain": [
       "admin.           10422\n",
       "blue-collar       9254\n",
       "technician        6743\n",
       "services          3969\n",
       "management        2924\n",
       "retired           1720\n",
       "entrepreneur      1456\n",
       "self-employed     1421\n",
       "housemaid         1060\n",
       "unemployed        1014\n",
       "student            875\n",
       "unknown            330\n",
       "Name: job, dtype: int64"
      ]
     },
     "execution_count": 17,
     "metadata": {},
     "output_type": "execute_result"
    }
   ],
   "source": [
    "Bank_client['job'].value_counts()"
   ]
  },
  {
   "cell_type": "code",
   "execution_count": 18,
   "metadata": {},
   "outputs": [
    {
     "data": {
      "image/png": "[encoded data removed]",
      "text/plain": [
       "<Figure size 720x432 with 1 Axes>"
      ]
     },
     "metadata": {},
     "output_type": "display_data"
    }
   ],
   "source": [
    "plt.figure(figsize=(10,6))\n",
    "sns.countplot(Bank_client['job'])\n",
    "plt.xticks(rotation=90)\n",
    "plt.show()"
   ]
  },
  {
   "cell_type": "markdown",
   "metadata": {},
   "source": [
    "- job on admin had more people which is followed by blue-collar.\n",
    "- unknown had least in number."
   ]
  },
  {
   "cell_type": "markdown",
   "metadata": {},
   "source": [
    "## Marital"
   ]
  },
  {
   "cell_type": "code",
   "execution_count": 19,
   "metadata": {},
   "outputs": [
    {
     "data": {
      "text/plain": [
       "array(['married', 'single', 'divorced', 'unknown'], dtype=object)"
      ]
     },
     "execution_count": 19,
     "metadata": {},
     "output_type": "execute_result"
    }
   ],
   "source": [
    "Bank_client['marital'].unique()"
   ]
  },
  {
   "cell_type": "code",
   "execution_count": 20,
   "metadata": {},
   "outputs": [
    {
     "data": {
      "text/plain": [
       "married     24928\n",
       "single      11568\n",
       "divorced     4612\n",
       "unknown        80\n",
       "Name: marital, dtype: int64"
      ]
     },
     "execution_count": 20,
     "metadata": {},
     "output_type": "execute_result"
    }
   ],
   "source": [
    "Bank_client['marital'].value_counts()"
   ]
  },
  {
   "cell_type": "code",
   "execution_count": 21,
   "metadata": {},
   "outputs": [
    {
     "data": {
      "image/png": "[encoded data removed]",
      "text/plain": [
       "<Figure size 720x576 with 1 Axes>"
      ]
     },
     "metadata": {},
     "output_type": "display_data"
    }
   ],
   "source": [
    "plt.figure(figsize=(10,8))\n",
    "sns.countplot(Bank_client['marital'])\n",
    "plt.show()"
   ]
  },
  {
   "cell_type": "code",
   "execution_count": 22,
   "metadata": {},
   "outputs": [
    {
     "data": {
      "text/html": [
       "<div>\n",
       "<style scoped>\n",
       "    .dataframe tbody tr th:only-of-type {\n",
       "        vertical-align: middle;\n",
       "    }\n",
       "\n",
       "    .dataframe tbody tr th {\n",
       "        vertical-align: top;\n",
       "    }\n",
       "\n",
       "    .dataframe thead th {\n",
       "        text-align: right;\n",
       "    }\n",
       "</style>\n",
       "<table border=\"1\" class=\"dataframe\">\n",
       "  <thead>\n",
       "    <tr style=\"text-align: right;\">\n",
       "      <th></th>\n",
       "      <th>age</th>\n",
       "      <th>job</th>\n",
       "      <th>marital</th>\n",
       "      <th>education</th>\n",
       "      <th>default</th>\n",
       "      <th>housing</th>\n",
       "      <th>loan</th>\n",
       "    </tr>\n",
       "  </thead>\n",
       "  <tbody>\n",
       "    <tr>\n",
       "      <th>1608</th>\n",
       "      <td>32</td>\n",
       "      <td>unknown</td>\n",
       "      <td>unknown</td>\n",
       "      <td>university.degree</td>\n",
       "      <td>no</td>\n",
       "      <td>no</td>\n",
       "      <td>no</td>\n",
       "    </tr>\n",
       "    <tr>\n",
       "      <th>4344</th>\n",
       "      <td>32</td>\n",
       "      <td>unknown</td>\n",
       "      <td>unknown</td>\n",
       "      <td>university.degree</td>\n",
       "      <td>no</td>\n",
       "      <td>yes</td>\n",
       "      <td>yes</td>\n",
       "    </tr>\n",
       "    <tr>\n",
       "      <th>7145</th>\n",
       "      <td>32</td>\n",
       "      <td>unknown</td>\n",
       "      <td>unknown</td>\n",
       "      <td>university.degree</td>\n",
       "      <td>no</td>\n",
       "      <td>yes</td>\n",
       "      <td>yes</td>\n",
       "    </tr>\n",
       "    <tr>\n",
       "      <th>11355</th>\n",
       "      <td>32</td>\n",
       "      <td>unknown</td>\n",
       "      <td>unknown</td>\n",
       "      <td>university.degree</td>\n",
       "      <td>no</td>\n",
       "      <td>no</td>\n",
       "      <td>no</td>\n",
       "    </tr>\n",
       "    <tr>\n",
       "      <th>14788</th>\n",
       "      <td>45</td>\n",
       "      <td>unknown</td>\n",
       "      <td>unknown</td>\n",
       "      <td>unknown</td>\n",
       "      <td>no</td>\n",
       "      <td>yes</td>\n",
       "      <td>yes</td>\n",
       "    </tr>\n",
       "    <tr>\n",
       "      <th>14789</th>\n",
       "      <td>45</td>\n",
       "      <td>unknown</td>\n",
       "      <td>unknown</td>\n",
       "      <td>unknown</td>\n",
       "      <td>no</td>\n",
       "      <td>yes</td>\n",
       "      <td>no</td>\n",
       "    </tr>\n",
       "    <tr>\n",
       "      <th>17344</th>\n",
       "      <td>49</td>\n",
       "      <td>unknown</td>\n",
       "      <td>unknown</td>\n",
       "      <td>unknown</td>\n",
       "      <td>unknown</td>\n",
       "      <td>yes</td>\n",
       "      <td>yes</td>\n",
       "    </tr>\n",
       "    <tr>\n",
       "      <th>17421</th>\n",
       "      <td>55</td>\n",
       "      <td>unknown</td>\n",
       "      <td>unknown</td>\n",
       "      <td>unknown</td>\n",
       "      <td>unknown</td>\n",
       "      <td>yes</td>\n",
       "      <td>no</td>\n",
       "    </tr>\n",
       "    <tr>\n",
       "      <th>17652</th>\n",
       "      <td>41</td>\n",
       "      <td>unknown</td>\n",
       "      <td>unknown</td>\n",
       "      <td>unknown</td>\n",
       "      <td>no</td>\n",
       "      <td>yes</td>\n",
       "      <td>no</td>\n",
       "    </tr>\n",
       "  </tbody>\n",
       "</table>\n",
       "</div>"
      ],
      "text/plain": [
       "       age      job  marital          education  default housing loan\n",
       "1608    32  unknown  unknown  university.degree       no      no   no\n",
       "4344    32  unknown  unknown  university.degree       no     yes  yes\n",
       "7145    32  unknown  unknown  university.degree       no     yes  yes\n",
       "11355   32  unknown  unknown  university.degree       no      no   no\n",
       "14788   45  unknown  unknown            unknown       no     yes  yes\n",
       "14789   45  unknown  unknown            unknown       no     yes   no\n",
       "17344   49  unknown  unknown            unknown  unknown     yes  yes\n",
       "17421   55  unknown  unknown            unknown  unknown     yes   no\n",
       "17652   41  unknown  unknown            unknown       no     yes   no"
      ]
     },
     "execution_count": 22,
     "metadata": {},
     "output_type": "execute_result"
    }
   ],
   "source": [
    "Bank_client[(Bank_client['marital']=='unknown') & (Bank_client['job']=='unknown')]"
   ]
  },
  {
   "cell_type": "markdown",
   "metadata": {},
   "source": [
    "## Education"
   ]
  },
  {
   "cell_type": "code",
   "execution_count": 23,
   "metadata": {},
   "outputs": [
    {
     "data": {
      "text/plain": [
       "array(['basic.4y', 'high.school', 'basic.6y', 'basic.9y',\n",
       "       'professional.course', 'unknown', 'university.degree',\n",
       "       'illiterate'], dtype=object)"
      ]
     },
     "execution_count": 23,
     "metadata": {},
     "output_type": "execute_result"
    }
   ],
   "source": [
    "Bank_client['education'].unique()"
   ]
  },
  {
   "cell_type": "code",
   "execution_count": 24,
   "metadata": {},
   "outputs": [
    {
     "data": {
      "text/plain": [
       "university.degree      12168\n",
       "high.school             9515\n",
       "basic.9y                6045\n",
       "professional.course     5243\n",
       "basic.4y                4176\n",
       "basic.6y                2292\n",
       "unknown                 1731\n",
       "illiterate                18\n",
       "Name: education, dtype: int64"
      ]
     },
     "execution_count": 24,
     "metadata": {},
     "output_type": "execute_result"
    }
   ],
   "source": [
    "Bank_client['education'].value_counts()"
   ]
  },
  {
   "cell_type": "code",
   "execution_count": 25,
   "metadata": {},
   "outputs": [
    {
     "data": {
      "image/png": "[encoded data removed]",
      "text/plain": [
       "<Figure size 720x432 with 1 Axes>"
      ]
     },
     "metadata": {},
     "output_type": "display_data"
    }
   ],
   "source": [
    "plt.figure(figsize=(10,6))\n",
    "sns.countplot(Bank_client['education'])\n",
    "plt.show()"
   ]
  },
  {
   "cell_type": "markdown",
   "metadata": {},
   "source": [
    "## Default,Housing ,Loan"
   ]
  },
  {
   "cell_type": "code",
   "execution_count": 26,
   "metadata": {},
   "outputs": [
    {
     "data": {
      "text/plain": [
       "array(['no', 'unknown', 'yes'], dtype=object)"
      ]
     },
     "execution_count": 26,
     "metadata": {},
     "output_type": "execute_result"
    }
   ],
   "source": [
    "Bank_client['default'].unique()"
   ]
  },
  {
   "cell_type": "code",
   "execution_count": 27,
   "metadata": {},
   "outputs": [
    {
     "data": {
      "text/plain": [
       "yes        21576\n",
       "no         18622\n",
       "unknown      990\n",
       "Name: housing, dtype: int64"
      ]
     },
     "execution_count": 27,
     "metadata": {},
     "output_type": "execute_result"
    }
   ],
   "source": [
    "Bank_client['housing'].value_counts()"
   ]
  },
  {
   "cell_type": "code",
   "execution_count": 28,
   "metadata": {},
   "outputs": [
    {
     "data": {
      "text/plain": [
       "no         33950\n",
       "yes         6248\n",
       "unknown      990\n",
       "Name: loan, dtype: int64"
      ]
     },
     "execution_count": 28,
     "metadata": {},
     "output_type": "execute_result"
    }
   ],
   "source": [
    "Bank_client['loan'].value_counts()"
   ]
  },
  {
   "cell_type": "code",
   "execution_count": 29,
   "metadata": {},
   "outputs": [
    {
     "data": {
      "image/png": "[encoded data removed]",
      "text/plain": [
       "<Figure size 432x288 with 1 Axes>"
      ]
     },
     "metadata": {},
     "output_type": "display_data"
    },
    {
     "data": {
      "image/png": "[encoded data removed]",
      "text/plain": [
       "<Figure size 432x288 with 1 Axes>"
      ]
     },
     "metadata": {},
     "output_type": "display_data"
    },
    {
     "data": {
      "image/png": "[encoded data removed]",
      "text/plain": [
       "<Figure size 432x288 with 1 Axes>"
      ]
     },
     "metadata": {},
     "output_type": "display_data"
    },
    {
     "data": {
      "text/plain": [
       "<Figure size 432x288 with 0 Axes>"
      ]
     },
     "metadata": {},
     "output_type": "display_data"
    }
   ],
   "source": [
    "features=['default','housing','loan']\n",
    "for a,b in enumerate(features):\n",
    "    plt.subplot(1,len(features),a+1)\n",
    "    sns.countplot(Bank_client[b])               \n",
    "    plt.xlabel(b,fontsize=12)\n",
    "    plt.show()\n",
    "plt.tight_layout()\n",
    "    \n",
    "    "
   ]
  },
  {
   "cell_type": "markdown",
   "metadata": {},
   "source": [
    "#####  Insights:\n",
    "- Many people didn't have a credit card in default.and very least people have credit card in default.\n",
    "- Many people have housing loan compared when compared to the no housing loan.\n",
    "- personal loan have been less for people."
   ]
  },
  {
   "cell_type": "code",
   "execution_count": 30,
   "metadata": {},
   "outputs": [
    {
     "name": "stdout",
     "output_type": "stream",
     "text": [
      "Has Credit card in Default\n",
      "No credit in Default 32588\n",
      "yes in Default 3\n",
      "Unknown in Default 8597\n",
      "\n",
      "\n",
      "Has Housing Loan\n",
      "No housing loan 18622\n",
      "yes housig loan 21576\n",
      "Unknown 990\n",
      "\n",
      "\n",
      "Personal Loan\n",
      "No personal Loan 33950\n",
      "yes 6248\n",
      "unknown 990\n"
     ]
    }
   ],
   "source": [
    "print('Has Credit card in Default')\n",
    "print('No credit in Default',Bank_client[Bank_client['default']=='no']['default'].count())\n",
    "print('yes in Default',Bank_client[Bank_client['default']=='yes']['default'].count())\n",
    "print('Unknown in Default',Bank_client[Bank_client['default']=='unknown']['default'].count())\n",
    "print('\\n')\n",
    "print('Has Housing Loan')\n",
    "print('No housing loan',Bank_client[Bank_client['housing']=='no']['housing'].count())\n",
    "print('yes housig loan',Bank_client[Bank_client['housing']=='yes']['housing'].count())\n",
    "print('Unknown',Bank_client[Bank_client['housing']=='unknown']['housing'].count())\n",
    "print('\\n')\n",
    "print('Personal Loan')\n",
    "print('No personal Loan',Bank_client[Bank_client['loan']=='no']['loan'].count())\n",
    "print('yes',Bank_client[Bank_client['loan']=='yes']['loan'].count())\n",
    "print('unknown',Bank_client[Bank_client['loan']=='unknown']['housing'].count())\n",
    "\n",
    "\n",
    "eefffe"
   ]
  },
  {
   "cell_type": "code",
   "execution_count": 31,
   "metadata": {},
   "outputs": [
    {
     "data": {
      "text/html": [
       "<div>\n",
       "<style scoped>\n",
       "    .dataframe tbody tr th:only-of-type {\n",
       "        vertical-align: middle;\n",
       "    }\n",
       "\n",
       "    .dataframe tbody tr th {\n",
       "        vertical-align: top;\n",
       "    }\n",
       "\n",
       "    .dataframe thead th {\n",
       "        text-align: right;\n",
       "    }\n",
       "</style>\n",
       "<table border=\"1\" class=\"dataframe\">\n",
       "  <thead>\n",
       "    <tr style=\"text-align: right;\">\n",
       "      <th></th>\n",
       "      <th>age</th>\n",
       "      <th>job</th>\n",
       "      <th>marital</th>\n",
       "      <th>education</th>\n",
       "      <th>default</th>\n",
       "      <th>housing</th>\n",
       "      <th>loan</th>\n",
       "    </tr>\n",
       "  </thead>\n",
       "  <tbody>\n",
       "    <tr>\n",
       "      <th>0</th>\n",
       "      <td>56</td>\n",
       "      <td>3</td>\n",
       "      <td>married</td>\n",
       "      <td>basic.4y</td>\n",
       "      <td>no</td>\n",
       "      <td>no</td>\n",
       "      <td>no</td>\n",
       "    </tr>\n",
       "    <tr>\n",
       "      <th>1</th>\n",
       "      <td>57</td>\n",
       "      <td>7</td>\n",
       "      <td>married</td>\n",
       "      <td>high.school</td>\n",
       "      <td>unknown</td>\n",
       "      <td>no</td>\n",
       "      <td>no</td>\n",
       "    </tr>\n",
       "    <tr>\n",
       "      <th>2</th>\n",
       "      <td>37</td>\n",
       "      <td>7</td>\n",
       "      <td>married</td>\n",
       "      <td>high.school</td>\n",
       "      <td>no</td>\n",
       "      <td>yes</td>\n",
       "      <td>no</td>\n",
       "    </tr>\n",
       "    <tr>\n",
       "      <th>3</th>\n",
       "      <td>40</td>\n",
       "      <td>0</td>\n",
       "      <td>married</td>\n",
       "      <td>basic.6y</td>\n",
       "      <td>no</td>\n",
       "      <td>no</td>\n",
       "      <td>no</td>\n",
       "    </tr>\n",
       "    <tr>\n",
       "      <th>4</th>\n",
       "      <td>56</td>\n",
       "      <td>7</td>\n",
       "      <td>married</td>\n",
       "      <td>high.school</td>\n",
       "      <td>no</td>\n",
       "      <td>no</td>\n",
       "      <td>yes</td>\n",
       "    </tr>\n",
       "    <tr>\n",
       "      <th>...</th>\n",
       "      <td>...</td>\n",
       "      <td>...</td>\n",
       "      <td>...</td>\n",
       "      <td>...</td>\n",
       "      <td>...</td>\n",
       "      <td>...</td>\n",
       "      <td>...</td>\n",
       "    </tr>\n",
       "    <tr>\n",
       "      <th>41183</th>\n",
       "      <td>73</td>\n",
       "      <td>5</td>\n",
       "      <td>married</td>\n",
       "      <td>professional.course</td>\n",
       "      <td>no</td>\n",
       "      <td>yes</td>\n",
       "      <td>no</td>\n",
       "    </tr>\n",
       "    <tr>\n",
       "      <th>41184</th>\n",
       "      <td>46</td>\n",
       "      <td>1</td>\n",
       "      <td>married</td>\n",
       "      <td>professional.course</td>\n",
       "      <td>no</td>\n",
       "      <td>no</td>\n",
       "      <td>no</td>\n",
       "    </tr>\n",
       "    <tr>\n",
       "      <th>41185</th>\n",
       "      <td>56</td>\n",
       "      <td>5</td>\n",
       "      <td>married</td>\n",
       "      <td>university.degree</td>\n",
       "      <td>no</td>\n",
       "      <td>yes</td>\n",
       "      <td>no</td>\n",
       "    </tr>\n",
       "    <tr>\n",
       "      <th>41186</th>\n",
       "      <td>44</td>\n",
       "      <td>9</td>\n",
       "      <td>married</td>\n",
       "      <td>professional.course</td>\n",
       "      <td>no</td>\n",
       "      <td>no</td>\n",
       "      <td>no</td>\n",
       "    </tr>\n",
       "    <tr>\n",
       "      <th>41187</th>\n",
       "      <td>74</td>\n",
       "      <td>5</td>\n",
       "      <td>married</td>\n",
       "      <td>professional.course</td>\n",
       "      <td>no</td>\n",
       "      <td>yes</td>\n",
       "      <td>no</td>\n",
       "    </tr>\n",
       "  </tbody>\n",
       "</table>\n",
       "<p>41188 rows × 7 columns</p>\n",
       "</div>"
      ],
      "text/plain": [
       "       age  job  marital            education  default housing loan\n",
       "0       56    3  married             basic.4y       no      no   no\n",
       "1       57    7  married          high.school  unknown      no   no\n",
       "2       37    7  married          high.school       no     yes   no\n",
       "3       40    0  married             basic.6y       no      no   no\n",
       "4       56    7  married          high.school       no      no  yes\n",
       "...    ...  ...      ...                  ...      ...     ...  ...\n",
       "41183   73    5  married  professional.course       no     yes   no\n",
       "41184   46    1  married  professional.course       no      no   no\n",
       "41185   56    5  married    university.degree       no     yes   no\n",
       "41186   44    9  married  professional.course       no      no   no\n",
       "41187   74    5  married  professional.course       no     yes   no\n",
       "\n",
       "[41188 rows x 7 columns]"
      ]
     },
     "execution_count": 31,
     "metadata": {},
     "output_type": "execute_result"
    }
   ],
   "source": [
    "#Converting categorical data\n",
    "from sklearn.preprocessing import LabelEncoder\n",
    "le=LabelEncoder()\n",
    "Bank_client['job']=le.fit_transform(Bank_client['job'])\n",
    "Bank_client"
   ]
  },
  {
   "cell_type": "code",
   "execution_count": 32,
   "metadata": {},
   "outputs": [],
   "source": [
    "Bank_client=Bank_client[Bank_client.columns].apply(lambda x : le.fit_transform(x))"
   ]
  },
  {
   "cell_type": "code",
   "execution_count": 33,
   "metadata": {},
   "outputs": [
    {
     "data": {
      "text/html": [
       "<div>\n",
       "<style scoped>\n",
       "    .dataframe tbody tr th:only-of-type {\n",
       "        vertical-align: middle;\n",
       "    }\n",
       "\n",
       "    .dataframe tbody tr th {\n",
       "        vertical-align: top;\n",
       "    }\n",
       "\n",
       "    .dataframe thead th {\n",
       "        text-align: right;\n",
       "    }\n",
       "</style>\n",
       "<table border=\"1\" class=\"dataframe\">\n",
       "  <thead>\n",
       "    <tr style=\"text-align: right;\">\n",
       "      <th></th>\n",
       "      <th>age</th>\n",
       "      <th>job</th>\n",
       "      <th>marital</th>\n",
       "      <th>education</th>\n",
       "      <th>default</th>\n",
       "      <th>housing</th>\n",
       "      <th>loan</th>\n",
       "    </tr>\n",
       "  </thead>\n",
       "  <tbody>\n",
       "    <tr>\n",
       "      <th>0</th>\n",
       "      <td>39</td>\n",
       "      <td>3</td>\n",
       "      <td>1</td>\n",
       "      <td>0</td>\n",
       "      <td>0</td>\n",
       "      <td>0</td>\n",
       "      <td>0</td>\n",
       "    </tr>\n",
       "    <tr>\n",
       "      <th>1</th>\n",
       "      <td>40</td>\n",
       "      <td>7</td>\n",
       "      <td>1</td>\n",
       "      <td>3</td>\n",
       "      <td>1</td>\n",
       "      <td>0</td>\n",
       "      <td>0</td>\n",
       "    </tr>\n",
       "    <tr>\n",
       "      <th>2</th>\n",
       "      <td>20</td>\n",
       "      <td>7</td>\n",
       "      <td>1</td>\n",
       "      <td>3</td>\n",
       "      <td>0</td>\n",
       "      <td>2</td>\n",
       "      <td>0</td>\n",
       "    </tr>\n",
       "    <tr>\n",
       "      <th>3</th>\n",
       "      <td>23</td>\n",
       "      <td>0</td>\n",
       "      <td>1</td>\n",
       "      <td>1</td>\n",
       "      <td>0</td>\n",
       "      <td>0</td>\n",
       "      <td>0</td>\n",
       "    </tr>\n",
       "    <tr>\n",
       "      <th>4</th>\n",
       "      <td>39</td>\n",
       "      <td>7</td>\n",
       "      <td>1</td>\n",
       "      <td>3</td>\n",
       "      <td>0</td>\n",
       "      <td>0</td>\n",
       "      <td>2</td>\n",
       "    </tr>\n",
       "  </tbody>\n",
       "</table>\n",
       "</div>"
      ],
      "text/plain": [
       "   age  job  marital  education  default  housing  loan\n",
       "0   39    3        1          0        0        0     0\n",
       "1   40    7        1          3        1        0     0\n",
       "2   20    7        1          3        0        2     0\n",
       "3   23    0        1          1        0        0     0\n",
       "4   39    7        1          3        0        0     2"
      ]
     },
     "execution_count": 33,
     "metadata": {},
     "output_type": "execute_result"
    }
   ],
   "source": [
    "Bank_client.head()"
   ]
  },
  {
   "cell_type": "markdown",
   "metadata": {},
   "source": [
    "### Related with the last contact of the current campaign"
   ]
  },
  {
   "cell_type": "code",
   "execution_count": 34,
   "metadata": {},
   "outputs": [],
   "source": [
    "Bank_related=df.iloc[:,7:11]"
   ]
  },
  {
   "cell_type": "code",
   "execution_count": 35,
   "metadata": {},
   "outputs": [
    {
     "data": {
      "text/html": [
       "<div>\n",
       "<style scoped>\n",
       "    .dataframe tbody tr th:only-of-type {\n",
       "        vertical-align: middle;\n",
       "    }\n",
       "\n",
       "    .dataframe tbody tr th {\n",
       "        vertical-align: top;\n",
       "    }\n",
       "\n",
       "    .dataframe thead th {\n",
       "        text-align: right;\n",
       "    }\n",
       "</style>\n",
       "<table border=\"1\" class=\"dataframe\">\n",
       "  <thead>\n",
       "    <tr style=\"text-align: right;\">\n",
       "      <th></th>\n",
       "      <th>contact</th>\n",
       "      <th>month</th>\n",
       "      <th>day_of_week</th>\n",
       "      <th>duration</th>\n",
       "    </tr>\n",
       "  </thead>\n",
       "  <tbody>\n",
       "    <tr>\n",
       "      <th>0</th>\n",
       "      <td>telephone</td>\n",
       "      <td>may</td>\n",
       "      <td>mon</td>\n",
       "      <td>261</td>\n",
       "    </tr>\n",
       "    <tr>\n",
       "      <th>1</th>\n",
       "      <td>telephone</td>\n",
       "      <td>may</td>\n",
       "      <td>mon</td>\n",
       "      <td>149</td>\n",
       "    </tr>\n",
       "    <tr>\n",
       "      <th>2</th>\n",
       "      <td>telephone</td>\n",
       "      <td>may</td>\n",
       "      <td>mon</td>\n",
       "      <td>226</td>\n",
       "    </tr>\n",
       "    <tr>\n",
       "      <th>3</th>\n",
       "      <td>telephone</td>\n",
       "      <td>may</td>\n",
       "      <td>mon</td>\n",
       "      <td>151</td>\n",
       "    </tr>\n",
       "    <tr>\n",
       "      <th>4</th>\n",
       "      <td>telephone</td>\n",
       "      <td>may</td>\n",
       "      <td>mon</td>\n",
       "      <td>307</td>\n",
       "    </tr>\n",
       "  </tbody>\n",
       "</table>\n",
       "</div>"
      ],
      "text/plain": [
       "     contact month day_of_week  duration\n",
       "0  telephone   may         mon       261\n",
       "1  telephone   may         mon       149\n",
       "2  telephone   may         mon       226\n",
       "3  telephone   may         mon       151\n",
       "4  telephone   may         mon       307"
      ]
     },
     "execution_count": 35,
     "metadata": {},
     "output_type": "execute_result"
    }
   ],
   "source": [
    "Bank_related.head()"
   ]
  },
  {
   "cell_type": "code",
   "execution_count": 36,
   "metadata": {},
   "outputs": [
    {
     "data": {
      "text/plain": [
       "array(['telephone', 'cellular'], dtype=object)"
      ]
     },
     "execution_count": 36,
     "metadata": {},
     "output_type": "execute_result"
    }
   ],
   "source": [
    "Bank_related['contact'].unique()"
   ]
  },
  {
   "cell_type": "code",
   "execution_count": 37,
   "metadata": {},
   "outputs": [
    {
     "data": {
      "text/plain": [
       "cellular     26144\n",
       "telephone    15044\n",
       "Name: contact, dtype: int64"
      ]
     },
     "execution_count": 37,
     "metadata": {},
     "output_type": "execute_result"
    }
   ],
   "source": [
    "Bank_related['contact'].value_counts()"
   ]
  },
  {
   "cell_type": "code",
   "execution_count": 38,
   "metadata": {},
   "outputs": [
    {
     "data": {
      "image/png": "[encoded data removed]",
      "text/plain": [
       "<Figure size 576x432 with 1 Axes>"
      ]
     },
     "metadata": {},
     "output_type": "display_data"
    }
   ],
   "source": [
    "plt.figure(figsize=(8,6))\n",
    "sns.countplot(Bank_related['contact'])\n",
    "plt.show()"
   ]
  },
  {
   "cell_type": "code",
   "execution_count": 39,
   "metadata": {},
   "outputs": [
    {
     "data": {
      "text/plain": [
       "array(['may', 'jun', 'jul', 'aug', 'oct', 'nov', 'dec', 'mar', 'apr',\n",
       "       'sep'], dtype=object)"
      ]
     },
     "execution_count": 39,
     "metadata": {},
     "output_type": "execute_result"
    }
   ],
   "source": [
    "Bank_related['month'].unique()"
   ]
  },
  {
   "cell_type": "code",
   "execution_count": 40,
   "metadata": {},
   "outputs": [
    {
     "data": {
      "image/png": "[encoded data removed]",
      "text/plain": [
       "<Figure size 720x432 with 1 Axes>"
      ]
     },
     "metadata": {},
     "output_type": "display_data"
    }
   ],
   "source": [
    "plt.figure(figsize=(10,6))\n",
    "sns.countplot(Bank_related['month'])\n",
    "plt.show()"
   ]
  },
  {
   "cell_type": "code",
   "execution_count": 41,
   "metadata": {},
   "outputs": [
    {
     "data": {
      "text/plain": [
       "thu    8623\n",
       "mon    8514\n",
       "wed    8134\n",
       "tue    8090\n",
       "fri    7827\n",
       "Name: day_of_week, dtype: int64"
      ]
     },
     "execution_count": 41,
     "metadata": {},
     "output_type": "execute_result"
    }
   ],
   "source": [
    "Bank_related['day_of_week'].value_counts()"
   ]
  },
  {
   "cell_type": "code",
   "execution_count": 42,
   "metadata": {},
   "outputs": [
    {
     "data": {
      "text/plain": [
       "<matplotlib.axes._subplots.AxesSubplot at 0x138cf4bc3c8>"
      ]
     },
     "execution_count": 42,
     "metadata": {},
     "output_type": "execute_result"
    },
    {
     "data": {
      "image/png": "[encoded data removed]",
      "text/plain": [
       "<Figure size 432x288 with 1 Axes>"
      ]
     },
     "metadata": {},
     "output_type": "display_data"
    }
   ],
   "source": [
    "Bank_related['day_of_week'].hist()"
   ]
  },
  {
   "cell_type": "code",
   "execution_count": 43,
   "metadata": {},
   "outputs": [
    {
     "data": {
      "image/png": "[encoded data removed]",
      "text/plain": [
       "<Figure size 720x432 with 1 Axes>"
      ]
     },
     "metadata": {},
     "output_type": "display_data"
    }
   ],
   "source": [
    "plt.figure(figsize=(10,6))\n",
    "sns.distplot(Bank_related['duration'])\n",
    "plt.xlabel('Duration in Sec',fontsize=15)\n",
    "plt.show()"
   ]
  },
  {
   "cell_type": "code",
   "execution_count": 44,
   "metadata": {},
   "outputs": [
    {
     "data": {
      "text/plain": [
       "(4918, 0)"
      ]
     },
     "execution_count": 44,
     "metadata": {},
     "output_type": "execute_result"
    }
   ],
   "source": [
    "Bank_related['duration'].max(),Bank_related['duration'].min()"
   ]
  },
  {
   "cell_type": "code",
   "execution_count": 45,
   "metadata": {},
   "outputs": [
    {
     "name": "stdout",
     "output_type": "stream",
     "text": [
      "Q1 102.0\n",
      "Q2 180.0\n",
      "Q3 319.0\n",
      "Q4 4918.0\n",
      "Duration call above 644.5\n"
     ]
    }
   ],
   "source": [
    "print('Q1',Bank_related['duration'].quantile(0.25))\n",
    "print('Q2',Bank_related['duration'].quantile(0.50))\n",
    "print('Q3',Bank_related['duration'].quantile(0.75))\n",
    "print('Q4',Bank_related['duration'].quantile(1.0))\n",
    "print('Duration call above',Bank_related['duration'].quantile(0.75)+1.5*(Bank_related['duration'].quantile(0.75)-Bank_related['duration'].quantile(0.25)))"
   ]
  },
  {
   "cell_type": "code",
   "execution_count": 46,
   "metadata": {},
   "outputs": [
    {
     "data": {
      "text/html": [
       "<div>\n",
       "<style scoped>\n",
       "    .dataframe tbody tr th:only-of-type {\n",
       "        vertical-align: middle;\n",
       "    }\n",
       "\n",
       "    .dataframe tbody tr th {\n",
       "        vertical-align: top;\n",
       "    }\n",
       "\n",
       "    .dataframe thead th {\n",
       "        text-align: right;\n",
       "    }\n",
       "</style>\n",
       "<table border=\"1\" class=\"dataframe\">\n",
       "  <thead>\n",
       "    <tr style=\"text-align: right;\">\n",
       "      <th></th>\n",
       "      <th>contact</th>\n",
       "      <th>month</th>\n",
       "      <th>day_of_week</th>\n",
       "      <th>duration</th>\n",
       "    </tr>\n",
       "  </thead>\n",
       "  <tbody>\n",
       "    <tr>\n",
       "      <th>6251</th>\n",
       "      <td>telephone</td>\n",
       "      <td>may</td>\n",
       "      <td>tue</td>\n",
       "      <td>0</td>\n",
       "    </tr>\n",
       "    <tr>\n",
       "      <th>23031</th>\n",
       "      <td>cellular</td>\n",
       "      <td>aug</td>\n",
       "      <td>tue</td>\n",
       "      <td>0</td>\n",
       "    </tr>\n",
       "    <tr>\n",
       "      <th>28063</th>\n",
       "      <td>cellular</td>\n",
       "      <td>apr</td>\n",
       "      <td>fri</td>\n",
       "      <td>0</td>\n",
       "    </tr>\n",
       "    <tr>\n",
       "      <th>33015</th>\n",
       "      <td>cellular</td>\n",
       "      <td>may</td>\n",
       "      <td>mon</td>\n",
       "      <td>0</td>\n",
       "    </tr>\n",
       "  </tbody>\n",
       "</table>\n",
       "</div>"
      ],
      "text/plain": [
       "         contact month day_of_week  duration\n",
       "6251   telephone   may         tue         0\n",
       "23031   cellular   aug         tue         0\n",
       "28063   cellular   apr         fri         0\n",
       "33015   cellular   may         mon         0"
      ]
     },
     "execution_count": 46,
     "metadata": {},
     "output_type": "execute_result"
    }
   ],
   "source": [
    "Bank_related[Bank_related['duration']<=0] #This should be deleted as we know the duration is 0 it means not subscribed."
   ]
  },
  {
   "cell_type": "code",
   "execution_count": 47,
   "metadata": {},
   "outputs": [],
   "source": [
    "Bank_related=Bank_related[Bank_related.columns].apply(lambda x: le.fit_transform(x))"
   ]
  },
  {
   "cell_type": "code",
   "execution_count": 48,
   "metadata": {},
   "outputs": [
    {
     "data": {
      "text/html": [
       "<div>\n",
       "<style scoped>\n",
       "    .dataframe tbody tr th:only-of-type {\n",
       "        vertical-align: middle;\n",
       "    }\n",
       "\n",
       "    .dataframe tbody tr th {\n",
       "        vertical-align: top;\n",
       "    }\n",
       "\n",
       "    .dataframe thead th {\n",
       "        text-align: right;\n",
       "    }\n",
       "</style>\n",
       "<table border=\"1\" class=\"dataframe\">\n",
       "  <thead>\n",
       "    <tr style=\"text-align: right;\">\n",
       "      <th></th>\n",
       "      <th>contact</th>\n",
       "      <th>month</th>\n",
       "      <th>day_of_week</th>\n",
       "      <th>duration</th>\n",
       "    </tr>\n",
       "  </thead>\n",
       "  <tbody>\n",
       "    <tr>\n",
       "      <th>0</th>\n",
       "      <td>1</td>\n",
       "      <td>6</td>\n",
       "      <td>1</td>\n",
       "      <td>261</td>\n",
       "    </tr>\n",
       "    <tr>\n",
       "      <th>1</th>\n",
       "      <td>1</td>\n",
       "      <td>6</td>\n",
       "      <td>1</td>\n",
       "      <td>149</td>\n",
       "    </tr>\n",
       "    <tr>\n",
       "      <th>2</th>\n",
       "      <td>1</td>\n",
       "      <td>6</td>\n",
       "      <td>1</td>\n",
       "      <td>226</td>\n",
       "    </tr>\n",
       "    <tr>\n",
       "      <th>3</th>\n",
       "      <td>1</td>\n",
       "      <td>6</td>\n",
       "      <td>1</td>\n",
       "      <td>151</td>\n",
       "    </tr>\n",
       "    <tr>\n",
       "      <th>4</th>\n",
       "      <td>1</td>\n",
       "      <td>6</td>\n",
       "      <td>1</td>\n",
       "      <td>307</td>\n",
       "    </tr>\n",
       "    <tr>\n",
       "      <th>5</th>\n",
       "      <td>1</td>\n",
       "      <td>6</td>\n",
       "      <td>1</td>\n",
       "      <td>198</td>\n",
       "    </tr>\n",
       "    <tr>\n",
       "      <th>6</th>\n",
       "      <td>1</td>\n",
       "      <td>6</td>\n",
       "      <td>1</td>\n",
       "      <td>139</td>\n",
       "    </tr>\n",
       "    <tr>\n",
       "      <th>7</th>\n",
       "      <td>1</td>\n",
       "      <td>6</td>\n",
       "      <td>1</td>\n",
       "      <td>217</td>\n",
       "    </tr>\n",
       "    <tr>\n",
       "      <th>8</th>\n",
       "      <td>1</td>\n",
       "      <td>6</td>\n",
       "      <td>1</td>\n",
       "      <td>380</td>\n",
       "    </tr>\n",
       "    <tr>\n",
       "      <th>9</th>\n",
       "      <td>1</td>\n",
       "      <td>6</td>\n",
       "      <td>1</td>\n",
       "      <td>50</td>\n",
       "    </tr>\n",
       "  </tbody>\n",
       "</table>\n",
       "</div>"
      ],
      "text/plain": [
       "   contact  month  day_of_week  duration\n",
       "0        1      6            1       261\n",
       "1        1      6            1       149\n",
       "2        1      6            1       226\n",
       "3        1      6            1       151\n",
       "4        1      6            1       307\n",
       "5        1      6            1       198\n",
       "6        1      6            1       139\n",
       "7        1      6            1       217\n",
       "8        1      6            1       380\n",
       "9        1      6            1        50"
      ]
     },
     "execution_count": 48,
     "metadata": {},
     "output_type": "execute_result"
    }
   ],
   "source": [
    "Bank_related.head(10)"
   ]
  },
  {
   "cell_type": "code",
   "execution_count": 49,
   "metadata": {},
   "outputs": [
    {
     "data": {
      "text/plain": [
       "dict_items([(0, 6), (1, 6), (2, 6), (3, 6), (4, 6), (5, 6), (6, 6), (7, 6), (8, 6), (9, 6), (10, 6), (11, 6), (12, 6), (13, 6), (14, 6), (15, 6), (16, 6), (17, 6), (18, 6), (19, 6), (20, 6), (21, 6), (22, 6), (23, 6), (24, 6), (25, 6), (26, 6), (27, 6), (28, 6), (29, 6), (30, 6), (31, 6), (32, 6), (33, 6), (34, 6), (35, 6), (36, 6), (37, 6), (38, 6), (39, 6), (40, 6), (41, 6), (42, 6), (43, 6), (44, 6), (45, 6), (46, 6), (47, 6), (48, 6), (49, 6), (50, 6), (51, 6), (52, 6), (53, 6), (54, 6), (55, 6), (56, 6), (57, 6), (58, 6), (59, 6), (60, 6), (61, 6), (62, 6), (63, 6), (64, 6), (65, 6), (66, 6), (67, 6), (68, 6), (69, 6), (70, 6), (71, 6), (72, 6), (73, 6), (74, 6), (75, 6), (76, 6), (77, 6), (78, 6), (79, 6), (80, 6), (81, 6), (82, 6), (83, 6), (84, 6), (85, 6), (86, 6), (87, 6), (88, 6), (89, 6), (90, 6), (91, 6), (92, 6), (93, 6), (94, 6), (95, 6), (96, 6), (97, 6), (98, 6), (99, 6), (100, 6), (101, 6), (102, 6), (103, 6), (104, 6), (105, 6), (106, 6), (107, 6), (108, 6), (109, 6), (110, 6), (111, 6), (112, 6), (113, 6), (114, 6), (115, 6), (116, 6), (117, 6), (118, 6), (119, 6), (120, 6), (121, 6), (122, 6), (123, 6), (124, 6), (125, 6), (126, 6), (127, 6), (128, 6), (129, 6), (130, 6), (131, 6), (132, 6), (133, 6), (134, 6), (135, 6), (136, 6), (137, 6), (138, 6), (139, 6), (140, 6), (141, 6), (142, 6), (143, 6), (144, 6), (145, 6), (146, 6), (147, 6), (148, 6), (149, 6), (150, 6), (151, 6), (152, 6), (153, 6), (154, 6), (155, 6), (156, 6), (157, 6), (158, 6), (159, 6), (160, 6), (161, 6), (162, 6), (163, 6), (164, 6), (165, 6), (166, 6), (167, 6), (168, 6), (169, 6), (170, 6), (171, 6), (172, 6), (173, 6), (174, 6), (175, 6), (176, 6), (177, 6), (178, 6), (179, 6), (180, 6), (181, 6), (182, 6), (183, 6), (184, 6), (185, 6), (186, 6), (187, 6), (188, 6), (189, 6), (190, 6), (191, 6), (192, 6), (193, 6), (194, 6), (195, 6), (196, 6), (197, 6), (198, 6), (199, 6), (200, 6), (201, 6), (202, 6), (203, 6), (204, 6), (205, 6), (206, 6), (207, 6), (208, 6), (209, 6), (210, 6), (211, 6), (212, 6), (213, 6), (214, 6), (215, 6), (216, 6), (217, 6), (218, 6), (219, 6), (220, 6), (221, 6), (222, 6), (223, 6), (224, 6), (225, 6), (226, 6), (227, 6), (228, 6), (229, 6), (230, 6), (231, 6), (232, 6), (233, 6), (234, 6), (235, 6), (236, 6), (237, 6), (238, 6), (239, 6), (240, 6), (241, 6), (242, 6), (243, 6), (244, 6), (245, 6), (246, 6), (247, 6), (248, 6), (249, 6), (250, 6), (251, 6), (252, 6), (253, 6), (254, 6), (255, 6), (256, 6), (257, 6), (258, 6), (259, 6), (260, 6), (261, 6), (262, 6), (263, 6), (264, 6), (265, 6), (266, 6), (267, 6), (268, 6), (269, 6), (270, 6), (271, 6), (272, 6), (273, 6), (274, 6), (275, 6), (276, 6), (277, 6), (278, 6), (279, 6), (280, 6), (281, 6), (282, 6), (283, 6), (284, 6), (285, 6), (286, 6), (287, 6), (288, 6), (289, 6), (290, 6), (291, 6), (292, 6), (293, 6), (294, 6), (295, 6), (296, 6), (297, 6), (298, 6), (299, 6), (300, 6), (301, 6), (302, 6), (303, 6), (304, 6), (305, 6), (306, 6), (307, 6), (308, 6), (309, 6), (310, 6), (311, 6), (312, 6), (313, 6), (314, 6), (315, 6), (316, 6), (317, 6), (318, 6), (319, 6), (320, 6), (321, 6), (322, 6), (323, 6), (324, 6), (325, 6), (326, 6), (327, 6), (328, 6), (329, 6), (330, 6), (331, 6), (332, 6), (333, 6), (334, 6), (335, 6), (336, 6), (337, 6), (338, 6), (339, 6), (340, 6), (341, 6), (342, 6), (343, 6), (344, 6), (345, 6), (346, 6), (347, 6), (348, 6), (349, 6), (350, 6), (351, 6), (352, 6), (353, 6), (354, 6), (355, 6), (356, 6), (357, 6), (358, 6), (359, 6), (360, 6), (361, 6), (362, 6), (363, 6), (364, 6), (365, 6), (366, 6), (367, 6), (368, 6), (369, 6), (370, 6), (371, 6), (372, 6), (373, 6), (374, 6), (375, 6), (376, 6), (377, 6), (378, 6), (379, 6), (380, 6), (381, 6), (382, 6), (383, 6), (384, 6), (385, 6), (386, 6), (387, 6), (388, 6), (389, 6), (390, 6), (391, 6), (392, 6), (393, 6), (394, 6), (395, 6), (396, 6), (397, 6), (398, 6), (399, 6), (400, 6), (401, 6), (402, 6), (403, 6), (404, 6), (405, 6), (406, 6), (407, 6), (408, 6), (409, 6), (410, 6), (411, 6), (412, 6), (413, 6), (414, 6), (415, 6), (416, 6), (417, 6), (418, 6), (419, 6), (420, 6), (421, 6), (422, 6), (423, 6), (424, 6), (425, 6), (426, 6), (427, 6), (428, 6), (429, 6), (430, 6), (431, 6), (432, 6), (433, 6), (434, 6), (435, 6), (436, 6), (437, 6), (438, 6), (439, 6), (440, 6), (441, 6), (442, 6), (443, 6), (444, 6), (445, 6), (446, 6), (447, 6), (448, 6), (449, 6), (450, 6), (451, 6), (452, 6), (453, 6), (454, 6), (455, 6), (456, 6), (457, 6), (458, 6), (459, 6), (460, 6), (461, 6), (462, 6), (463, 6), (464, 6), (465, 6), (466, 6), (467, 6), (468, 6), (469, 6), (470, 6), (471, 6), (472, 6), (473, 6), (474, 6), (475, 6), (476, 6), (477, 6), (478, 6), (479, 6), (480, 6), (481, 6), (482, 6), (483, 6), (484, 6), (485, 6), (486, 6), (487, 6), (488, 6), (489, 6), (490, 6), (491, 6), (492, 6), (493, 6), (494, 6), (495, 6), (496, 6), (497, 6), (498, 6), (499, 6), (500, 6), (501, 6), (502, 6), (503, 6), (504, 6), (505, 6), (506, 6), (507, 6), (508, 6), (509, 6), (510, 6), (511, 6), (512, 6), (513, 6), (514, 6), (515, 6), (516, 6), (517, 6), (518, 6), (519, 6), (520, 6), (521, 6), (522, 6), (523, 6), (524, 6), (525, 6), (526, 6), (527, 6), (528, 6), (529, 6), (530, 6), (531, 6), (532, 6), (533, 6), (534, 6), (535, 6), (536, 6), (537, 6), (538, 6), (539, 6), (540, 6), (541, 6), (542, 6), (543, 6), (544, 6), (545, 6), (546, 6), (547, 6), (548, 6), (549, 6), (550, 6), (551, 6), (552, 6), (553, 6), (554, 6), (555, 6), (556, 6), (557, 6), (558, 6), (559, 6), (560, 6), (561, 6), (562, 6), (563, 6), (564, 6), (565, 6), (566, 6), (567, 6), (568, 6), (569, 6), (570, 6), (571, 6), (572, 6), (573, 6), (574, 6), (575, 6), (576, 6), (577, 6), (578, 6), (579, 6), (580, 6), (581, 6), (582, 6), (583, 6), (584, 6), (585, 6), (586, 6), (587, 6), (588, 6), (589, 6), (590, 6), (591, 6), (592, 6), (593, 6), (594, 6), (595, 6), (596, 6), (597, 6), (598, 6), (599, 6), (600, 6), (601, 6), (602, 6), (603, 6), (604, 6), (605, 6), (606, 6), (607, 6), (608, 6), (609, 6), (610, 6), (611, 6), (612, 6), (613, 6), (614, 6), (615, 6), (616, 6), (617, 6), (618, 6), (619, 6), (620, 6), (621, 6), (622, 6), (623, 6), (624, 6), (625, 6), (626, 6), (627, 6), (628, 6), (629, 6), (630, 6), (631, 6), (632, 6), (633, 6), (634, 6), (635, 6), (636, 6), (637, 6), (638, 6), (639, 6), (640, 6), (641, 6), (642, 6), (643, 6), (644, 6), (645, 6), (646, 6), (647, 6), (648, 6), (649, 6), (650, 6), (651, 6), (652, 6), (653, 6), (654, 6), (655, 6), (656, 6), (657, 6), (658, 6), (659, 6), (660, 6), (661, 6), (662, 6), (663, 6), (664, 6), (665, 6), (666, 6), (667, 6), (668, 6), (669, 6), (670, 6), (671, 6), (672, 6), (673, 6), (674, 6), (675, 6), (676, 6), (677, 6), (678, 6), (679, 6), (680, 6), (681, 6), (682, 6), (683, 6), (684, 6), (685, 6), (686, 6), (687, 6), (688, 6), (689, 6), (690, 6), (691, 6), (692, 6), (693, 6), (694, 6), (695, 6), (696, 6), (697, 6), (698, 6), (699, 6), (700, 6), (701, 6), (702, 6), (703, 6), (704, 6), (705, 6), (706, 6), (707, 6), (708, 6), (709, 6), (710, 6), (711, 6), (712, 6), (713, 6), (714, 6), (715, 6), (716, 6), (717, 6), (718, 6), (719, 6), (720, 6), (721, 6), (722, 6), (723, 6), (724, 6), (725, 6), (726, 6), (727, 6), (728, 6), (729, 6), (730, 6), (731, 6), (732, 6), (733, 6), (734, 6), (735, 6), (736, 6), (737, 6), (738, 6), (739, 6), (740, 6), (741, 6), (742, 6), (743, 6), (744, 6), (745, 6), (746, 6), (747, 6), (748, 6), (749, 6), (750, 6), (751, 6), (752, 6), (753, 6), (754, 6), (755, 6), (756, 6), (757, 6), (758, 6), (759, 6), (760, 6), (761, 6), (762, 6), (763, 6), (764, 6), (765, 6), (766, 6), (767, 6), (768, 6), (769, 6), (770, 6), (771, 6), (772, 6), (773, 6), (774, 6), (775, 6), (776, 6), (777, 6), (778, 6), (779, 6), (780, 6), (781, 6), (782, 6), (783, 6), (784, 6), (785, 6), (786, 6), (787, 6), (788, 6), (789, 6), (790, 6), (791, 6), (792, 6), (793, 6), (794, 6), (795, 6), (796, 6), (797, 6), (798, 6), (799, 6), (800, 6), (801, 6), (802, 6), (803, 6), (804, 6), (805, 6), (806, 6), (807, 6), (808, 6), (809, 6), (810, 6), (811, 6), (812, 6), (813, 6), (814, 6), (815, 6), (816, 6), (817, 6), (818, 6), (819, 6), (820, 6), (821, 6), (822, 6), (823, 6), (824, 6), (825, 6), (826, 6), (827, 6), (828, 6), (829, 6), (830, 6), (831, 6), (832, 6), (833, 6), (834, 6), (835, 6), (836, 6), (837, 6), (838, 6), (839, 6), (840, 6), (841, 6), (842, 6), (843, 6), (844, 6), (845, 6), (846, 6), (847, 6), (848, 6), (849, 6), (850, 6), (851, 6), (852, 6), (853, 6), (854, 6), (855, 6), (856, 6), (857, 6), (858, 6), (859, 6), (860, 6), (861, 6), (862, 6), (863, 6), (864, 6), (865, 6), (866, 6), (867, 6), (868, 6), (869, 6), (870, 6), (871, 6), (872, 6), (873, 6), (874, 6), (875, 6), (876, 6), (877, 6), (878, 6), (879, 6), (880, 6), (881, 6), (882, 6), (883, 6), (884, 6), (885, 6), (886, 6), (887, 6), (888, 6), (889, 6), (890, 6), (891, 6), (892, 6), (893, 6), (894, 6), (895, 6), (896, 6), (897, 6), (898, 6), (899, 6), (900, 6), (901, 6), (902, 6), (903, 6), (904, 6), (905, 6), (906, 6), (907, 6), (908, 6), (909, 6), (910, 6), (911, 6), (912, 6), (913, 6), (914, 6), (915, 6), (916, 6), (917, 6), (918, 6), (919, 6), (920, 6), (921, 6), (922, 6), (923, 6), (924, 6), (925, 6), (926, 6), (927, 6), (928, 6), (929, 6), (930, 6), (931, 6), (932, 6), (933, 6), (934, 6), (935, 6), (936, 6), (937, 6), (938, 6), (939, 6), (940, 6), (941, 6), (942, 6), (943, 6), (944, 6), (945, 6), (946, 6), (947, 6), (948, 6), (949, 6), (950, 6), (951, 6), (952, 6), (953, 6), (954, 6), (955, 6), (956, 6), (957, 6), (958, 6), (959, 6), (960, 6), (961, 6), (962, 6), (963, 6), (964, 6), (965, 6), (966, 6), (967, 6), (968, 6), (969, 6), (970, 6), (971, 6), (972, 6), (973, 6), (974, 6), (975, 6), (976, 6), (977, 6), (978, 6), (979, 6), (980, 6), (981, 6), (982, 6), (983, 6), (984, 6), (985, 6), (986, 6), (987, 6), (988, 6), (989, 6), (990, 6), (991, 6), (992, 6), (993, 6), (994, 6), (995, 6), (996, 6), (997, 6), (998, 6), (999, 6), (1000, 6), (1001, 6), (1002, 6), (1003, 6), (1004, 6), (1005, 6), (1006, 6), (1007, 6), (1008, 6), (1009, 6), (1010, 6), (1011, 6), (1012, 6), (1013, 6), (1014, 6), (1015, 6), (1016, 6), (1017, 6), (1018, 6), (1019, 6), (1020, 6), (1021, 6), (1022, 6), (1023, 6), (1024, 6), (1025, 6), (1026, 6), (1027, 6), (1028, 6), (1029, 6), (1030, 6), (1031, 6), (1032, 6), (1033, 6), (1034, 6), (1035, 6), (1036, 6), (1037, 6), (1038, 6), (1039, 6), (1040, 6), (1041, 6), (1042, 6), (1043, 6), (1044, 6), (1045, 6), (1046, 6), (1047, 6), (1048, 6), (1049, 6), (1050, 6), (1051, 6), (1052, 6), (1053, 6), (1054, 6), (1055, 6), (1056, 6), (1057, 6), (1058, 6), (1059, 6), (1060, 6), (1061, 6), (1062, 6), (1063, 6), (1064, 6), (1065, 6), (1066, 6), (1067, 6), (1068, 6), (1069, 6), (1070, 6), (1071, 6), (1072, 6), (1073, 6), (1074, 6), (1075, 6), (1076, 6), (1077, 6), (1078, 6), (1079, 6), (1080, 6), (1081, 6), (1082, 6), (1083, 6), (1084, 6), (1085, 6), (1086, 6), (1087, 6), (1088, 6), (1089, 6), (1090, 6), (1091, 6), (1092, 6), (1093, 6), (1094, 6), (1095, 6), (1096, 6), (1097, 6), (1098, 6), (1099, 6), (1100, 6), (1101, 6), (1102, 6), (1103, 6), (1104, 6), (1105, 6), (1106, 6), (1107, 6), (1108, 6), (1109, 6), (1110, 6), (1111, 6), (1112, 6), (1113, 6), (1114, 6), (1115, 6), (1116, 6), (1117, 6), (1118, 6), (1119, 6), (1120, 6), (1121, 6), (1122, 6), (1123, 6), (1124, 6), (1125, 6), (1126, 6), (1127, 6), (1128, 6), (1129, 6), (1130, 6), (1131, 6), (1132, 6), (1133, 6), (1134, 6), (1135, 6), (1136, 6), (1137, 6), (1138, 6), (1139, 6), (1140, 6), (1141, 6), (1142, 6), (1143, 6), (1144, 6), (1145, 6), (1146, 6), (1147, 6), (1148, 6), (1149, 6), (1150, 6), (1151, 6), (1152, 6), (1153, 6), (1154, 6), (1155, 6), (1156, 6), (1157, 6), (1158, 6), (1159, 6), (1160, 6), (1161, 6), (1162, 6), (1163, 6), (1164, 6), (1165, 6), (1166, 6), (1167, 6), (1168, 6), (1169, 6), (1170, 6), (1171, 6), (1172, 6), (1173, 6), (1174, 6), (1175, 6), (1176, 6), (1177, 6), (1178, 6), (1179, 6), (1180, 6), (1181, 6), (1182, 6), (1183, 6), (1184, 6), (1185, 6), (1186, 6), (1187, 6), (1188, 6), (1189, 6), (1190, 6), (1191, 6), (1192, 6), (1193, 6), (1194, 6), (1195, 6), (1196, 6), (1197, 6), (1198, 6), (1199, 6), (1200, 6), (1201, 6), (1202, 6), (1203, 6), (1204, 6), (1205, 6), (1206, 6), (1207, 6), (1208, 6), (1209, 6), (1210, 6), (1211, 6), (1212, 6), (1213, 6), (1214, 6), (1215, 6), (1216, 6), (1217, 6), (1218, 6), (1219, 6), (1220, 6), (1221, 6), (1222, 6), (1223, 6), (1224, 6), (1225, 6), (1226, 6), (1227, 6), (1228, 6), (1229, 6), (1230, 6), (1231, 6), (1232, 6), (1233, 6), (1234, 6), (1235, 6), (1236, 6), (1237, 6), (1238, 6), (1239, 6), (1240, 6), (1241, 6), (1242, 6), (1243, 6), (1244, 6), (1245, 6), (1246, 6), (1247, 6), (1248, 6), (1249, 6), (1250, 6), (1251, 6), (1252, 6), (1253, 6), (1254, 6), (1255, 6), (1256, 6), (1257, 6), (1258, 6), (1259, 6), (1260, 6), (1261, 6), (1262, 6), (1263, 6), (1264, 6), (1265, 6), (1266, 6), (1267, 6), (1268, 6), (1269, 6), (1270, 6), (1271, 6), (1272, 6), (1273, 6), (1274, 6), (1275, 6), (1276, 6), (1277, 6), (1278, 6), (1279, 6), (1280, 6), (1281, 6), (1282, 6), (1283, 6), (1284, 6), (1285, 6), (1286, 6), (1287, 6), (1288, 6), (1289, 6), (1290, 6), (1291, 6), (1292, 6), (1293, 6), (1294, 6), (1295, 6), (1296, 6), (1297, 6), (1298, 6), (1299, 6), (1300, 6), (1301, 6), (1302, 6), (1303, 6), (1304, 6), (1305, 6), (1306, 6), (1307, 6), (1308, 6), (1309, 6), (1310, 6), (1311, 6), (1312, 6), (1313, 6), (1314, 6), (1315, 6), (1316, 6), (1317, 6), (1318, 6), (1319, 6), (1320, 6), (1321, 6), (1322, 6), (1323, 6), (1324, 6), (1325, 6), (1326, 6), (1327, 6), (1328, 6), (1329, 6), (1330, 6), (1331, 6), (1332, 6), (1333, 6), (1334, 6), (1335, 6), (1336, 6), (1337, 6), (1338, 6), (1339, 6), (1340, 6), (1341, 6), (1342, 6), (1343, 6), (1344, 6), (1345, 6), (1346, 6), (1347, 6), (1348, 6), (1349, 6), (1350, 6), (1351, 6), (1352, 6), (1353, 6), (1354, 6), (1355, 6), (1356, 6), (1357, 6), (1358, 6), (1359, 6), (1360, 6), (1361, 6), (1362, 6), (1363, 6), (1364, 6), (1365, 6), (1366, 6), (1367, 6), (1368, 6), (1369, 6), (1370, 6), (1371, 6), (1372, 6), (1373, 6), (1374, 6), (1375, 6), (1376, 6), (1377, 6), (1378, 6), (1379, 6), (1380, 6), (1381, 6), (1382, 6), (1383, 6), (1384, 6), (1385, 6), (1386, 6), (1387, 6), (1388, 6), (1389, 6), (1390, 6), (1391, 6), (1392, 6), (1393, 6), (1394, 6), (1395, 6), (1396, 6), (1397, 6), (1398, 6), (1399, 6), (1400, 6), (1401, 6), (1402, 6), (1403, 6), (1404, 6), (1405, 6), (1406, 6), (1407, 6), (1408, 6), (1409, 6), (1410, 6), (1411, 6), (1412, 6), (1413, 6), (1414, 6), (1415, 6), (1416, 6), (1417, 6), (1418, 6), (1419, 6), (1420, 6), (1421, 6), (1422, 6), (1423, 6), (1424, 6), (1425, 6), (1426, 6), (1427, 6), (1428, 6), (1429, 6), (1430, 6), (1431, 6), (1432, 6), (1433, 6), (1434, 6), (1435, 6), (1436, 6), (1437, 6), (1438, 6), (1439, 6), (1440, 6), (1441, 6), (1442, 6), (1443, 6), (1444, 6), (1445, 6), (1446, 6), (1447, 6), (1448, 6), (1449, 6), (1450, 6), (1451, 6), (1452, 6), (1453, 6), (1454, 6), (1455, 6), (1456, 6), (1457, 6), (1458, 6), (1459, 6), (1460, 6), (1461, 6), (1462, 6), (1463, 6), (1464, 6), (1465, 6), (1466, 6), (1467, 6), (1468, 6), (1469, 6), (1470, 6), (1471, 6), (1472, 6), (1473, 6), (1474, 6), (1475, 6), (1476, 6), (1477, 6), (1478, 6), (1479, 6), (1480, 6), (1481, 6), (1482, 6), (1483, 6), (1484, 6), (1485, 6), (1486, 6), (1487, 6), (1488, 6), (1489, 6), (1490, 6), (1491, 6), (1492, 6), (1493, 6), (1494, 6), (1495, 6), (1496, 6), (1497, 6), (1498, 6), (1499, 6), (1500, 6), (1501, 6), (1502, 6), (1503, 6), (1504, 6), (1505, 6), (1506, 6), (1507, 6), (1508, 6), (1509, 6), (1510, 6), (1511, 6), (1512, 6), (1513, 6), (1514, 6), (1515, 6), (1516, 6), (1517, 6), (1518, 6), (1519, 6), (1520, 6), (1521, 6), (1522, 6), (1523, 6), (1524, 6), (1525, 6), (1526, 6), (1527, 6), (1528, 6), (1529, 6), (1530, 6), (1531, 6), (1532, 6), (1533, 6), (1534, 6), (1535, 6), (1536, 6), (1537, 6), (1538, 6), (1539, 6), (1540, 6), (1541, 6), (1542, 6), (1543, 6), (1544, 6), (1545, 6), (1546, 6), (1547, 6), (1548, 6), (1549, 6), (1550, 6), (1551, 6), (1552, 6), (1553, 6), (1554, 6), (1555, 6), (1556, 6), (1557, 6), (1558, 6), (1559, 6), (1560, 6), (1561, 6), (1562, 6), (1563, 6), (1564, 6), (1565, 6), (1566, 6), (1567, 6), (1568, 6), (1569, 6), (1570, 6), (1571, 6), (1572, 6), (1573, 6), (1574, 6), (1575, 6), (1576, 6), (1577, 6), (1578, 6), (1579, 6), (1580, 6), (1581, 6), (1582, 6), (1583, 6), (1584, 6), (1585, 6), (1586, 6), (1587, 6), (1588, 6), (1589, 6), (1590, 6), (1591, 6), (1592, 6), (1593, 6), (1594, 6), (1595, 6), (1596, 6), (1597, 6), (1598, 6), (1599, 6), (1600, 6), (1601, 6), (1602, 6), (1603, 6), (1604, 6), (1605, 6), (1606, 6), (1607, 6), (1608, 6), (1609, 6), (1610, 6), (1611, 6), (1612, 6), (1613, 6), (1614, 6), (1615, 6), (1616, 6), (1617, 6), (1618, 6), (1619, 6), (1620, 6), (1621, 6), (1622, 6), (1623, 6), (1624, 6), (1625, 6), (1626, 6), (1627, 6), (1628, 6), (1629, 6), (1630, 6), (1631, 6), (1632, 6), (1633, 6), (1634, 6), (1635, 6), (1636, 6), (1637, 6), (1638, 6), (1639, 6), (1640, 6), (1641, 6), (1642, 6), (1643, 6), (1644, 6), (1645, 6), (1646, 6), (1647, 6), (1648, 6), (1649, 6), (1650, 6), (1651, 6), (1652, 6), (1653, 6), (1654, 6), (1655, 6), (1656, 6), (1657, 6), (1658, 6), (1659, 6), (1660, 6), (1661, 6), (1662, 6), (1663, 6), (1664, 6), (1665, 6), (1666, 6), (1667, 6), (1668, 6), (1669, 6), (1670, 6), (1671, 6), (1672, 6), (1673, 6), (1674, 6), (1675, 6), (1676, 6), (1677, 6), (1678, 6), (1679, 6), (1680, 6), (1681, 6), (1682, 6), (1683, 6), (1684, 6), (1685, 6), (1686, 6), (1687, 6), (1688, 6), (1689, 6), (1690, 6), (1691, 6), (1692, 6), (1693, 6), (1694, 6), (1695, 6), (1696, 6), (1697, 6), (1698, 6), (1699, 6), (1700, 6), (1701, 6), (1702, 6), (1703, 6), (1704, 6), (1705, 6), (1706, 6), (1707, 6), (1708, 6), (1709, 6), (1710, 6), (1711, 6), (1712, 6), (1713, 6), (1714, 6), (1715, 6), (1716, 6), (1717, 6), (1718, 6), (1719, 6), (1720, 6), (1721, 6), (1722, 6), (1723, 6), (1724, 6), (1725, 6), (1726, 6), (1727, 6), (1728, 6), (1729, 6), (1730, 6), (1731, 6), (1732, 6), (1733, 6), (1734, 6), (1735, 6), (1736, 6), (1737, 6), (1738, 6), (1739, 6), (1740, 6), (1741, 6), (1742, 6), (1743, 6), (1744, 6), (1745, 6), (1746, 6), (1747, 6), (1748, 6), (1749, 6), (1750, 6), (1751, 6), (1752, 6), (1753, 6), (1754, 6), (1755, 6), (1756, 6), (1757, 6), (1758, 6), (1759, 6), (1760, 6), (1761, 6), (1762, 6), (1763, 6), (1764, 6), (1765, 6), (1766, 6), (1767, 6), (1768, 6), (1769, 6), (1770, 6), (1771, 6), (1772, 6), (1773, 6), (1774, 6), (1775, 6), (1776, 6), (1777, 6), (1778, 6), (1779, 6), (1780, 6), (1781, 6), (1782, 6), (1783, 6), (1784, 6), (1785, 6), (1786, 6), (1787, 6), (1788, 6), (1789, 6), (1790, 6), (1791, 6), (1792, 6), (1793, 6), (1794, 6), (1795, 6), (1796, 6), (1797, 6), (1798, 6), (1799, 6), (1800, 6), (1801, 6), (1802, 6), (1803, 6), (1804, 6), (1805, 6), (1806, 6), (1807, 6), (1808, 6), (1809, 6), (1810, 6), (1811, 6), (1812, 6), (1813, 6), (1814, 6), (1815, 6), (1816, 6), (1817, 6), (1818, 6), (1819, 6), (1820, 6), (1821, 6), (1822, 6), (1823, 6), (1824, 6), (1825, 6), (1826, 6), (1827, 6), (1828, 6), (1829, 6), (1830, 6), (1831, 6), (1832, 6), (1833, 6), (1834, 6), (1835, 6), (1836, 6), (1837, 6), (1838, 6), (1839, 6), (1840, 6), (1841, 6), (1842, 6), (1843, 6), (1844, 6), (1845, 6), (1846, 6), (1847, 6), (1848, 6), (1849, 6), (1850, 6), (1851, 6), (1852, 6), (1853, 6), (1854, 6), (1855, 6), (1856, 6), (1857, 6), (1858, 6), (1859, 6), (1860, 6), (1861, 6), (1862, 6), (1863, 6), (1864, 6), (1865, 6), (1866, 6), (1867, 6), (1868, 6), (1869, 6), (1870, 6), (1871, 6), (1872, 6), (1873, 6), (1874, 6), (1875, 6), (1876, 6), (1877, 6), (1878, 6), (1879, 6), (1880, 6), (1881, 6), (1882, 6), (1883, 6), (1884, 6), (1885, 6), (1886, 6), (1887, 6), (1888, 6), (1889, 6), (1890, 6), (1891, 6), (1892, 6), (1893, 6), (1894, 6), (1895, 6), (1896, 6), (1897, 6), (1898, 6), (1899, 6), (1900, 6), (1901, 6), (1902, 6), (1903, 6), (1904, 6), (1905, 6), (1906, 6), (1907, 6), (1908, 6), (1909, 6), (1910, 6), (1911, 6), (1912, 6), (1913, 6), (1914, 6), (1915, 6), (1916, 6), (1917, 6), (1918, 6), (1919, 6), (1920, 6), (1921, 6), (1922, 6), (1923, 6), (1924, 6), (1925, 6), (1926, 6), (1927, 6), (1928, 6), (1929, 6), (1930, 6), (1931, 6), (1932, 6), (1933, 6), (1934, 6), (1935, 6), (1936, 6), (1937, 6), (1938, 6), (1939, 6), (1940, 6), (1941, 6), (1942, 6), (1943, 6), (1944, 6), (1945, 6), (1946, 6), (1947, 6), (1948, 6), (1949, 6), (1950, 6), (1951, 6), (1952, 6), (1953, 6), (1954, 6), (1955, 6), (1956, 6), (1957, 6), (1958, 6), (1959, 6), (1960, 6), (1961, 6), (1962, 6), (1963, 6), (1964, 6), (1965, 6), (1966, 6), (1967, 6), (1968, 6), (1969, 6), (1970, 6), (1971, 6), (1972, 6), (1973, 6), (1974, 6), (1975, 6), (1976, 6), (1977, 6), (1978, 6), (1979, 6), (1980, 6), (1981, 6), (1982, 6), (1983, 6), (1984, 6), (1985, 6), (1986, 6), (1987, 6), (1988, 6), (1989, 6), (1990, 6), (1991, 6), (1992, 6), (1993, 6), (1994, 6), (1995, 6), (1996, 6), (1997, 6), (1998, 6), (1999, 6), (2000, 6), (2001, 6), (2002, 6), (2003, 6), (2004, 6), (2005, 6), (2006, 6), (2007, 6), (2008, 6), (2009, 6), (2010, 6), (2011, 6), (2012, 6), (2013, 6), (2014, 6), (2015, 6), (2016, 6), (2017, 6), (2018, 6), (2019, 6), (2020, 6), (2021, 6), (2022, 6), (2023, 6), (2024, 6), (2025, 6), (2026, 6), (2027, 6), (2028, 6), (2029, 6), (2030, 6), (2031, 6), (2032, 6), (2033, 6), (2034, 6), (2035, 6), (2036, 6), (2037, 6), (2038, 6), (2039, 6), (2040, 6), (2041, 6), (2042, 6), (2043, 6), (2044, 6), (2045, 6), (2046, 6), (2047, 6), (2048, 6), (2049, 6), (2050, 6), (2051, 6), (2052, 6), (2053, 6), (2054, 6), (2055, 6), (2056, 6), (2057, 6), (2058, 6), (2059, 6), (2060, 6), (2061, 6), (2062, 6), (2063, 6), (2064, 6), (2065, 6), (2066, 6), (2067, 6), (2068, 6), (2069, 6), (2070, 6), (2071, 6), (2072, 6), (2073, 6), (2074, 6), (2075, 6), (2076, 6), (2077, 6), (2078, 6), (2079, 6), (2080, 6), (2081, 6), (2082, 6), (2083, 6), (2084, 6), (2085, 6), (2086, 6), (2087, 6), (2088, 6), (2089, 6), (2090, 6), (2091, 6), (2092, 6), (2093, 6), (2094, 6), (2095, 6), (2096, 6), (2097, 6), (2098, 6), (2099, 6), (2100, 6), (2101, 6), (2102, 6), (2103, 6), (2104, 6), (2105, 6), (2106, 6), (2107, 6), (2108, 6), (2109, 6), (2110, 6), (2111, 6), (2112, 6), (2113, 6), (2114, 6), (2115, 6), (2116, 6), (2117, 6), (2118, 6), (2119, 6), (2120, 6), (2121, 6), (2122, 6), (2123, 6), (2124, 6), (2125, 6), (2126, 6), (2127, 6), (2128, 6), (2129, 6), (2130, 6), (2131, 6), (2132, 6), (2133, 6), (2134, 6), (2135, 6), (2136, 6), (2137, 6), (2138, 6), (2139, 6), (2140, 6), (2141, 6), (2142, 6), (2143, 6), (2144, 6), (2145, 6), (2146, 6), (2147, 6), (2148, 6), (2149, 6), (2150, 6), (2151, 6), (2152, 6), (2153, 6), (2154, 6), (2155, 6), (2156, 6), (2157, 6), (2158, 6), (2159, 6), (2160, 6), (2161, 6), (2162, 6), (2163, 6), (2164, 6), (2165, 6), (2166, 6), (2167, 6), (2168, 6), (2169, 6), (2170, 6), (2171, 6), (2172, 6), (2173, 6), (2174, 6), (2175, 6), (2176, 6), (2177, 6), (2178, 6), (2179, 6), (2180, 6), (2181, 6), (2182, 6), (2183, 6), (2184, 6), (2185, 6), (2186, 6), (2187, 6), (2188, 6), (2189, 6), (2190, 6), (2191, 6), (2192, 6), (2193, 6), (2194, 6), (2195, 6), (2196, 6), (2197, 6), (2198, 6), (2199, 6), (2200, 6), (2201, 6), (2202, 6), (2203, 6), (2204, 6), (2205, 6), (2206, 6), (2207, 6), (2208, 6), (2209, 6), (2210, 6), (2211, 6), (2212, 6), (2213, 6), (2214, 6), (2215, 6), (2216, 6), (2217, 6), (2218, 6), (2219, 6), (2220, 6), (2221, 6), (2222, 6), (2223, 6), (2224, 6), (2225, 6), (2226, 6), (2227, 6), (2228, 6), (2229, 6), (2230, 6), (2231, 6), (2232, 6), (2233, 6), (2234, 6), (2235, 6), (2236, 6), (2237, 6), (2238, 6), (2239, 6), (2240, 6), (2241, 6), (2242, 6), (2243, 6), (2244, 6), (2245, 6), (2246, 6), (2247, 6), (2248, 6), (2249, 6), (2250, 6), (2251, 6), (2252, 6), (2253, 6), (2254, 6), (2255, 6), (2256, 6), (2257, 6), (2258, 6), (2259, 6), (2260, 6), (2261, 6), (2262, 6), (2263, 6), (2264, 6), (2265, 6), (2266, 6), (2267, 6), (2268, 6), (2269, 6), (2270, 6), (2271, 6), (2272, 6), (2273, 6), (2274, 6), (2275, 6), (2276, 6), (2277, 6), (2278, 6), (2279, 6), (2280, 6), (2281, 6), (2282, 6), (2283, 6), (2284, 6), (2285, 6), (2286, 6), (2287, 6), (2288, 6), (2289, 6), (2290, 6), (2291, 6), (2292, 6), (2293, 6), (2294, 6), (2295, 6), (2296, 6), (2297, 6), (2298, 6), (2299, 6), (2300, 6), (2301, 6), (2302, 6), (2303, 6), (2304, 6), (2305, 6), (2306, 6), (2307, 6), (2308, 6), (2309, 6), (2310, 6), (2311, 6), (2312, 6), (2313, 6), (2314, 6), (2315, 6), (2316, 6), (2317, 6), (2318, 6), (2319, 6), (2320, 6), (2321, 6), (2322, 6), (2323, 6), (2324, 6), (2325, 6), (2326, 6), (2327, 6), (2328, 6), (2329, 6), (2330, 6), (2331, 6), (2332, 6), (2333, 6), (2334, 6), (2335, 6), (2336, 6), (2337, 6), (2338, 6), (2339, 6), (2340, 6), (2341, 6), (2342, 6), (2343, 6), (2344, 6), (2345, 6), (2346, 6), (2347, 6), (2348, 6), (2349, 6), (2350, 6), (2351, 6), (2352, 6), (2353, 6), (2354, 6), (2355, 6), (2356, 6), (2357, 6), (2358, 6), (2359, 6), (2360, 6), (2361, 6), (2362, 6), (2363, 6), (2364, 6), (2365, 6), (2366, 6), (2367, 6), (2368, 6), (2369, 6), (2370, 6), (2371, 6), (2372, 6), (2373, 6), (2374, 6), (2375, 6), (2376, 6), (2377, 6), (2378, 6), (2379, 6), (2380, 6), (2381, 6), (2382, 6), (2383, 6), (2384, 6), (2385, 6), (2386, 6), (2387, 6), (2388, 6), (2389, 6), (2390, 6), (2391, 6), (2392, 6), (2393, 6), (2394, 6), (2395, 6), (2396, 6), (2397, 6), (2398, 6), (2399, 6), (2400, 6), (2401, 6), (2402, 6), (2403, 6), (2404, 6), (2405, 6), (2406, 6), (2407, 6), (2408, 6), (2409, 6), (2410, 6), (2411, 6), (2412, 6), (2413, 6), (2414, 6), (2415, 6), (2416, 6), (2417, 6), (2418, 6), (2419, 6), (2420, 6), (2421, 6), (2422, 6), (2423, 6), (2424, 6), (2425, 6), (2426, 6), (2427, 6), (2428, 6), (2429, 6), (2430, 6), (2431, 6), (2432, 6), (2433, 6), (2434, 6), (2435, 6), (2436, 6), (2437, 6), (2438, 6), (2439, 6), (2440, 6), (2441, 6), (2442, 6), (2443, 6), (2444, 6), (2445, 6), (2446, 6), (2447, 6), (2448, 6), (2449, 6), (2450, 6), (2451, 6), (2452, 6), (2453, 6), (2454, 6), (2455, 6), (2456, 6), (2457, 6), (2458, 6), (2459, 6), (2460, 6), (2461, 6), (2462, 6), (2463, 6), (2464, 6), (2465, 6), (2466, 6), (2467, 6), (2468, 6), (2469, 6), (2470, 6), (2471, 6), (2472, 6), (2473, 6), (2474, 6), (2475, 6), (2476, 6), (2477, 6), (2478, 6), (2479, 6), (2480, 6), (2481, 6), (2482, 6), (2483, 6), (2484, 6), (2485, 6), (2486, 6), (2487, 6), (2488, 6), (2489, 6), (2490, 6), (2491, 6), (2492, 6), (2493, 6), (2494, 6), (2495, 6), (2496, 6), (2497, 6), (2498, 6), (2499, 6), (2500, 6), (2501, 6), (2502, 6), (2503, 6), (2504, 6), (2505, 6), (2506, 6), (2507, 6), (2508, 6), (2509, 6), (2510, 6), (2511, 6), (2512, 6), (2513, 6), (2514, 6), (2515, 6), (2516, 6), (2517, 6), (2518, 6), (2519, 6), (2520, 6), (2521, 6), (2522, 6), (2523, 6), (2524, 6), (2525, 6), (2526, 6), (2527, 6), (2528, 6), (2529, 6), (2530, 6), (2531, 6), (2532, 6), (2533, 6), (2534, 6), (2535, 6), (2536, 6), (2537, 6), (2538, 6), (2539, 6), (2540, 6), (2541, 6), (2542, 6), (2543, 6), (2544, 6), (2545, 6), (2546, 6), (2547, 6), (2548, 6), (2549, 6), (2550, 6), (2551, 6), (2552, 6), (2553, 6), (2554, 6), (2555, 6), (2556, 6), (2557, 6), (2558, 6), (2559, 6), (2560, 6), (2561, 6), (2562, 6), (2563, 6), (2564, 6), (2565, 6), (2566, 6), (2567, 6), (2568, 6), (2569, 6), (2570, 6), (2571, 6), (2572, 6), (2573, 6), (2574, 6), (2575, 6), (2576, 6), (2577, 6), (2578, 6), (2579, 6), (2580, 6), (2581, 6), (2582, 6), (2583, 6), (2584, 6), (2585, 6), (2586, 6), (2587, 6), (2588, 6), (2589, 6), (2590, 6), (2591, 6), (2592, 6), (2593, 6), (2594, 6), (2595, 6), (2596, 6), (2597, 6), (2598, 6), (2599, 6), (2600, 6), (2601, 6), (2602, 6), (2603, 6), (2604, 6), (2605, 6), (2606, 6), (2607, 6), (2608, 6), (2609, 6), (2610, 6), (2611, 6), (2612, 6), (2613, 6), (2614, 6), (2615, 6), (2616, 6), (2617, 6), (2618, 6), (2619, 6), (2620, 6), (2621, 6), (2622, 6), (2623, 6), (2624, 6), (2625, 6), (2626, 6), (2627, 6), (2628, 6), (2629, 6), (2630, 6), (2631, 6), (2632, 6), (2633, 6), (2634, 6), (2635, 6), (2636, 6), (2637, 6), (2638, 6), (2639, 6), (2640, 6), (2641, 6), (2642, 6), (2643, 6), (2644, 6), (2645, 6), (2646, 6), (2647, 6), (2648, 6), (2649, 6), (2650, 6), (2651, 6), (2652, 6), (2653, 6), (2654, 6), (2655, 6), (2656, 6), (2657, 6), (2658, 6), (2659, 6), (2660, 6), (2661, 6), (2662, 6), (2663, 6), (2664, 6), (2665, 6), (2666, 6), (2667, 6), (2668, 6), (2669, 6), (2670, 6), (2671, 6), (2672, 6), (2673, 6), (2674, 6), (2675, 6), (2676, 6), (2677, 6), (2678, 6), (2679, 6), (2680, 6), (2681, 6), (2682, 6), (2683, 6), (2684, 6), (2685, 6), (2686, 6), (2687, 6), (2688, 6), (2689, 6), (2690, 6), (2691, 6), (2692, 6), (2693, 6), (2694, 6), (2695, 6), (2696, 6), (2697, 6), (2698, 6), (2699, 6), (2700, 6), (2701, 6), (2702, 6), (2703, 6), (2704, 6), (2705, 6), (2706, 6), (2707, 6), (2708, 6), (2709, 6), (2710, 6), (2711, 6), (2712, 6), (2713, 6), (2714, 6), (2715, 6), (2716, 6), (2717, 6), (2718, 6), (2719, 6), (2720, 6), (2721, 6), (2722, 6), (2723, 6), (2724, 6), (2725, 6), (2726, 6), (2727, 6), (2728, 6), (2729, 6), (2730, 6), (2731, 6), (2732, 6), (2733, 6), (2734, 6), (2735, 6), (2736, 6), (2737, 6), (2738, 6), (2739, 6), (2740, 6), (2741, 6), (2742, 6), (2743, 6), (2744, 6), (2745, 6), (2746, 6), (2747, 6), (2748, 6), (2749, 6), (2750, 6), (2751, 6), (2752, 6), (2753, 6), (2754, 6), (2755, 6), (2756, 6), (2757, 6), (2758, 6), (2759, 6), (2760, 6), (2761, 6), (2762, 6), (2763, 6), (2764, 6), (2765, 6), (2766, 6), (2767, 6), (2768, 6), (2769, 6), (2770, 6), (2771, 6), (2772, 6), (2773, 6), (2774, 6), (2775, 6), (2776, 6), (2777, 6), (2778, 6), (2779, 6), (2780, 6), (2781, 6), (2782, 6), (2783, 6), (2784, 6), (2785, 6), (2786, 6), (2787, 6), (2788, 6), (2789, 6), (2790, 6), (2791, 6), (2792, 6), (2793, 6), (2794, 6), (2795, 6), (2796, 6), (2797, 6), (2798, 6), (2799, 6), (2800, 6), (2801, 6), (2802, 6), (2803, 6), (2804, 6), (2805, 6), (2806, 6), (2807, 6), (2808, 6), (2809, 6), (2810, 6), (2811, 6), (2812, 6), (2813, 6), (2814, 6), (2815, 6), (2816, 6), (2817, 6), (2818, 6), (2819, 6), (2820, 6), (2821, 6), (2822, 6), (2823, 6), (2824, 6), (2825, 6), (2826, 6), (2827, 6), (2828, 6), (2829, 6), (2830, 6), (2831, 6), (2832, 6), (2833, 6), (2834, 6), (2835, 6), (2836, 6), (2837, 6), (2838, 6), (2839, 6), (2840, 6), (2841, 6), (2842, 6), (2843, 6), (2844, 6), (2845, 6), (2846, 6), (2847, 6), (2848, 6), (2849, 6), (2850, 6), (2851, 6), (2852, 6), (2853, 6), (2854, 6), (2855, 6), (2856, 6), (2857, 6), (2858, 6), (2859, 6), (2860, 6), (2861, 6), (2862, 6), (2863, 6), (2864, 6), (2865, 6), (2866, 6), (2867, 6), (2868, 6), (2869, 6), (2870, 6), (2871, 6), (2872, 6), (2873, 6), (2874, 6), (2875, 6), (2876, 6), (2877, 6), (2878, 6), (2879, 6), (2880, 6), (2881, 6), (2882, 6), (2883, 6), (2884, 6), (2885, 6), (2886, 6), (2887, 6), (2888, 6), (2889, 6), (2890, 6), (2891, 6), (2892, 6), (2893, 6), (2894, 6), (2895, 6), (2896, 6), (2897, 6), (2898, 6), (2899, 6), (2900, 6), (2901, 6), (2902, 6), (2903, 6), (2904, 6), (2905, 6), (2906, 6), (2907, 6), (2908, 6), (2909, 6), (2910, 6), (2911, 6), (2912, 6), (2913, 6), (2914, 6), (2915, 6), (2916, 6), (2917, 6), (2918, 6), (2919, 6), (2920, 6), (2921, 6), (2922, 6), (2923, 6), (2924, 6), (2925, 6), (2926, 6), (2927, 6), (2928, 6), (2929, 6), (2930, 6), (2931, 6), (2932, 6), (2933, 6), (2934, 6), (2935, 6), (2936, 6), (2937, 6), (2938, 6), (2939, 6), (2940, 6), (2941, 6), (2942, 6), (2943, 6), (2944, 6), (2945, 6), (2946, 6), (2947, 6), (2948, 6), (2949, 6), (2950, 6), (2951, 6), (2952, 6), (2953, 6), (2954, 6), (2955, 6), (2956, 6), (2957, 6), (2958, 6), (2959, 6), (2960, 6), (2961, 6), (2962, 6), (2963, 6), (2964, 6), (2965, 6), (2966, 6), (2967, 6), (2968, 6), (2969, 6), (2970, 6), (2971, 6), (2972, 6), (2973, 6), (2974, 6), (2975, 6), (2976, 6), (2977, 6), (2978, 6), (2979, 6), (2980, 6), (2981, 6), (2982, 6), (2983, 6), (2984, 6), (2985, 6), (2986, 6), (2987, 6), (2988, 6), (2989, 6), (2990, 6), (2991, 6), (2992, 6), (2993, 6), (2994, 6), (2995, 6), (2996, 6), (2997, 6), (2998, 6), (2999, 6), (3000, 6), (3001, 6), (3002, 6), (3003, 6), (3004, 6), (3005, 6), (3006, 6), (3007, 6), (3008, 6), (3009, 6), (3010, 6), (3011, 6), (3012, 6), (3013, 6), (3014, 6), (3015, 6), (3016, 6), (3017, 6), (3018, 6), (3019, 6), (3020, 6), (3021, 6), (3022, 6), (3023, 6), (3024, 6), (3025, 6), (3026, 6), (3027, 6), (3028, 6), (3029, 6), (3030, 6), (3031, 6), (3032, 6), (3033, 6), (3034, 6), (3035, 6), (3036, 6), (3037, 6), (3038, 6), (3039, 6), (3040, 6), (3041, 6), (3042, 6), (3043, 6), (3044, 6), (3045, 6), (3046, 6), (3047, 6), (3048, 6), (3049, 6), (3050, 6), (3051, 6), (3052, 6), (3053, 6), (3054, 6), (3055, 6), (3056, 6), (3057, 6), (3058, 6), (3059, 6), (3060, 6), (3061, 6), (3062, 6), (3063, 6), (3064, 6), (3065, 6), (3066, 6), (3067, 6), (3068, 6), (3069, 6), (3070, 6), (3071, 6), (3072, 6), (3073, 6), (3074, 6), (3075, 6), (3076, 6), (3077, 6), (3078, 6), (3079, 6), (3080, 6), (3081, 6), (3082, 6), (3083, 6), (3084, 6), (3085, 6), (3086, 6), (3087, 6), (3088, 6), (3089, 6), (3090, 6), (3091, 6), (3092, 6), (3093, 6), (3094, 6), (3095, 6), (3096, 6), (3097, 6), (3098, 6), (3099, 6), (3100, 6), (3101, 6), (3102, 6), (3103, 6), (3104, 6), (3105, 6), (3106, 6), (3107, 6), (3108, 6), (3109, 6), (3110, 6), (3111, 6), (3112, 6), (3113, 6), (3114, 6), (3115, 6), (3116, 6), (3117, 6), (3118, 6), (3119, 6), (3120, 6), (3121, 6), (3122, 6), (3123, 6), (3124, 6), (3125, 6), (3126, 6), (3127, 6), (3128, 6), (3129, 6), (3130, 6), (3131, 6), (3132, 6), (3133, 6), (3134, 6), (3135, 6), (3136, 6), (3137, 6), (3138, 6), (3139, 6), (3140, 6), (3141, 6), (3142, 6), (3143, 6), (3144, 6), (3145, 6), (3146, 6), (3147, 6), (3148, 6), (3149, 6), (3150, 6), (3151, 6), (3152, 6), (3153, 6), (3154, 6), (3155, 6), (3156, 6), (3157, 6), (3158, 6), (3159, 6), (3160, 6), (3161, 6), (3162, 6), (3163, 6), (3164, 6), (3165, 6), (3166, 6), (3167, 6), (3168, 6), (3169, 6), (3170, 6), (3171, 6), (3172, 6), (3173, 6), (3174, 6), (3175, 6), (3176, 6), (3177, 6), (3178, 6), (3179, 6), (3180, 6), (3181, 6), (3182, 6), (3183, 6), (3184, 6), (3185, 6), (3186, 6), (3187, 6), (3188, 6), (3189, 6), (3190, 6), (3191, 6), (3192, 6), (3193, 6), (3194, 6), (3195, 6), (3196, 6), (3197, 6), (3198, 6), (3199, 6), (3200, 6), (3201, 6), (3202, 6), (3203, 6), (3204, 6), (3205, 6), (3206, 6), (3207, 6), (3208, 6), (3209, 6), (3210, 6), (3211, 6), (3212, 6), (3213, 6), (3214, 6), (3215, 6), (3216, 6), (3217, 6), (3218, 6), (3219, 6), (3220, 6), (3221, 6), (3222, 6), (3223, 6), (3224, 6), (3225, 6), (3226, 6), (3227, 6), (3228, 6), (3229, 6), (3230, 6), (3231, 6), (3232, 6), (3233, 6), (3234, 6), (3235, 6), (3236, 6), (3237, 6), (3238, 6), (3239, 6), (3240, 6), (3241, 6), (3242, 6), (3243, 6), (3244, 6), (3245, 6), (3246, 6), (3247, 6), (3248, 6), (3249, 6), (3250, 6), (3251, 6), (3252, 6), (3253, 6), (3254, 6), (3255, 6), (3256, 6), (3257, 6), (3258, 6), (3259, 6), (3260, 6), (3261, 6), (3262, 6), (3263, 6), (3264, 6), (3265, 6), (3266, 6), (3267, 6), (3268, 6), (3269, 6), (3270, 6), (3271, 6), (3272, 6), (3273, 6), (3274, 6), (3275, 6), (3276, 6), (3277, 6), (3278, 6), (3279, 6), (3280, 6), (3281, 6), (3282, 6), (3283, 6), (3284, 6), (3285, 6), (3286, 6), (3287, 6), (3288, 6), (3289, 6), (3290, 6), (3291, 6), (3292, 6), (3293, 6), (3294, 6), (3295, 6), (3296, 6), (3297, 6), (3298, 6), (3299, 6), (3300, 6), (3301, 6), (3302, 6), (3303, 6), (3304, 6), (3305, 6), (3306, 6), (3307, 6), (3308, 6), (3309, 6), (3310, 6), (3311, 6), (3312, 6), (3313, 6), (3314, 6), (3315, 6), (3316, 6), (3317, 6), (3318, 6), (3319, 6), (3320, 6), (3321, 6), (3322, 6), (3323, 6), (3324, 6), (3325, 6), (3326, 6), (3327, 6), (3328, 6), (3329, 6), (3330, 6), (3331, 6), (3332, 6), (3333, 6), (3334, 6), (3335, 6), (3336, 6), (3337, 6), (3338, 6), (3339, 6), (3340, 6), (3341, 6), (3342, 6), (3343, 6), (3344, 6), (3345, 6), (3346, 6), (3347, 6), (3348, 6), (3349, 6), (3350, 6), (3351, 6), (3352, 6), (3353, 6), (3354, 6), (3355, 6), (3356, 6), (3357, 6), (3358, 6), (3359, 6), (3360, 6), (3361, 6), (3362, 6), (3363, 6), (3364, 6), (3365, 6), (3366, 6), (3367, 6), (3368, 6), (3369, 6), (3370, 6), (3371, 6), (3372, 6), (3373, 6), (3374, 6), (3375, 6), (3376, 6), (3377, 6), (3378, 6), (3379, 6), (3380, 6), (3381, 6), (3382, 6), (3383, 6), (3384, 6), (3385, 6), (3386, 6), (3387, 6), (3388, 6), (3389, 6), (3390, 6), (3391, 6), (3392, 6), (3393, 6), (3394, 6), (3395, 6), (3396, 6), (3397, 6), (3398, 6), (3399, 6), (3400, 6), (3401, 6), (3402, 6), (3403, 6), (3404, 6), (3405, 6), (3406, 6), (3407, 6), (3408, 6), (3409, 6), (3410, 6), (3411, 6), (3412, 6), (3413, 6), (3414, 6), (3415, 6), (3416, 6), (3417, 6), (3418, 6), (3419, 6), (3420, 6), (3421, 6), (3422, 6), (3423, 6), (3424, 6), (3425, 6), (3426, 6), (3427, 6), (3428, 6), (3429, 6), (3430, 6), (3431, 6), (3432, 6), (3433, 6), (3434, 6), (3435, 6), (3436, 6), (3437, 6), (3438, 6), (3439, 6), (3440, 6), (3441, 6), (3442, 6), (3443, 6), (3444, 6), (3445, 6), (3446, 6), (3447, 6), (3448, 6), (3449, 6), (3450, 6), (3451, 6), (3452, 6), (3453, 6), (3454, 6), (3455, 6), (3456, 6), (3457, 6), (3458, 6), (3459, 6), (3460, 6), (3461, 6), (3462, 6), (3463, 6), (3464, 6), (3465, 6), (3466, 6), (3467, 6), (3468, 6), (3469, 6), (3470, 6), (3471, 6), (3472, 6), (3473, 6), (3474, 6), (3475, 6), (3476, 6), (3477, 6), (3478, 6), (3479, 6), (3480, 6), (3481, 6), (3482, 6), (3483, 6), (3484, 6), (3485, 6), (3486, 6), (3487, 6), (3488, 6), (3489, 6), (3490, 6), (3491, 6), (3492, 6), (3493, 6), (3494, 6), (3495, 6), (3496, 6), (3497, 6), (3498, 6), (3499, 6), (3500, 6), (3501, 6), (3502, 6), (3503, 6), (3504, 6), (3505, 6), (3506, 6), (3507, 6), (3508, 6), (3509, 6), (3510, 6), (3511, 6), (3512, 6), (3513, 6), (3514, 6), (3515, 6), (3516, 6), (3517, 6), (3518, 6), (3519, 6), (3520, 6), (3521, 6), (3522, 6), (3523, 6), (3524, 6), (3525, 6), (3526, 6), (3527, 6), (3528, 6), (3529, 6), (3530, 6), (3531, 6), (3532, 6), (3533, 6), (3534, 6), (3535, 6), (3536, 6), (3537, 6), (3538, 6), (3539, 6), (3540, 6), (3541, 6), (3542, 6), (3543, 6), (3544, 6), (3545, 6), (3546, 6), (3547, 6), (3548, 6), (3549, 6), (3550, 6), (3551, 6), (3552, 6), (3553, 6), (3554, 6), (3555, 6), (3556, 6), (3557, 6), (3558, 6), (3559, 6), (3560, 6), (3561, 6), (3562, 6), (3563, 6), (3564, 6), (3565, 6), (3566, 6), (3567, 6), (3568, 6), (3569, 6), (3570, 6), (3571, 6), (3572, 6), (3573, 6), (3574, 6), (3575, 6), (3576, 6), (3577, 6), (3578, 6), (3579, 6), (3580, 6), (3581, 6), (3582, 6), (3583, 6), (3584, 6), (3585, 6), (3586, 6), (3587, 6), (3588, 6), (3589, 6), (3590, 6), (3591, 6), (3592, 6), (3593, 6), (3594, 6), (3595, 6), (3596, 6), (3597, 6), (3598, 6), (3599, 6), (3600, 6), (3601, 6), (3602, 6), (3603, 6), (3604, 6), (3605, 6), (3606, 6), (3607, 6), (3608, 6), (3609, 6), (3610, 6), (3611, 6), (3612, 6), (3613, 6), (3614, 6), (3615, 6), (3616, 6), (3617, 6), (3618, 6), (3619, 6), (3620, 6), (3621, 6), (3622, 6), (3623, 6), (3624, 6), (3625, 6), (3626, 6), (3627, 6), (3628, 6), (3629, 6), (3630, 6), (3631, 6), (3632, 6), (3633, 6), (3634, 6), (3635, 6), (3636, 6), (3637, 6), (3638, 6), (3639, 6), (3640, 6), (3641, 6), (3642, 6), (3643, 6), (3644, 6), (3645, 6), (3646, 6), (3647, 6), (3648, 6), (3649, 6), (3650, 6), (3651, 6), (3652, 6), (3653, 6), (3654, 6), (3655, 6), (3656, 6), (3657, 6), (3658, 6), (3659, 6), (3660, 6), (3661, 6), (3662, 6), (3663, 6), (3664, 6), (3665, 6), (3666, 6), (3667, 6), (3668, 6), (3669, 6), (3670, 6), (3671, 6), (3672, 6), (3673, 6), (3674, 6), (3675, 6), (3676, 6), (3677, 6), (3678, 6), (3679, 6), (3680, 6), (3681, 6), (3682, 6), (3683, 6), (3684, 6), (3685, 6), (3686, 6), (3687, 6), (3688, 6), (3689, 6), (3690, 6), (3691, 6), (3692, 6), (3693, 6), (3694, 6), (3695, 6), (3696, 6), (3697, 6), (3698, 6), (3699, 6), (3700, 6), (3701, 6), (3702, 6), (3703, 6), (3704, 6), (3705, 6), (3706, 6), (3707, 6), (3708, 6), (3709, 6), (3710, 6), (3711, 6), (3712, 6), (3713, 6), (3714, 6), (3715, 6), (3716, 6), (3717, 6), (3718, 6), (3719, 6), (3720, 6), (3721, 6), (3722, 6), (3723, 6), (3724, 6), (3725, 6), (3726, 6), (3727, 6), (3728, 6), (3729, 6), (3730, 6), (3731, 6), (3732, 6), (3733, 6), (3734, 6), (3735, 6), (3736, 6), (3737, 6), (3738, 6), (3739, 6), (3740, 6), (3741, 6), (3742, 6), (3743, 6), (3744, 6), (3745, 6), (3746, 6), (3747, 6), (3748, 6), (3749, 6), (3750, 6), (3751, 6), (3752, 6), (3753, 6), (3754, 6), (3755, 6), (3756, 6), (3757, 6), (3758, 6), (3759, 6), (3760, 6), (3761, 6), (3762, 6), (3763, 6), (3764, 6), (3765, 6), (3766, 6), (3767, 6), (3768, 6), (3769, 6), (3770, 6), (3771, 6), (3772, 6), (3773, 6), (3774, 6), (3775, 6), (3776, 6), (3777, 6), (3778, 6), (3779, 6), (3780, 6), (3781, 6), (3782, 6), (3783, 6), (3784, 6), (3785, 6), (3786, 6), (3787, 6), (3788, 6), (3789, 6), (3790, 6), (3791, 6), (3792, 6), (3793, 6), (3794, 6), (3795, 6), (3796, 6), (3797, 6), (3798, 6), (3799, 6), (3800, 6), (3801, 6), (3802, 6), (3803, 6), (3804, 6), (3805, 6), (3806, 6), (3807, 6), (3808, 6), (3809, 6), (3810, 6), (3811, 6), (3812, 6), (3813, 6), (3814, 6), (3815, 6), (3816, 6), (3817, 6), (3818, 6), (3819, 6), (3820, 6), (3821, 6), (3822, 6), (3823, 6), (3824, 6), (3825, 6), (3826, 6), (3827, 6), (3828, 6), (3829, 6), (3830, 6), (3831, 6), (3832, 6), (3833, 6), (3834, 6), (3835, 6), (3836, 6), (3837, 6), (3838, 6), (3839, 6), (3840, 6), (3841, 6), (3842, 6), (3843, 6), (3844, 6), (3845, 6), (3846, 6), (3847, 6), (3848, 6), (3849, 6), (3850, 6), (3851, 6), (3852, 6), (3853, 6), (3854, 6), (3855, 6), (3856, 6), (3857, 6), (3858, 6), (3859, 6), (3860, 6), (3861, 6), (3862, 6), (3863, 6), (3864, 6), (3865, 6), (3866, 6), (3867, 6), (3868, 6), (3869, 6), (3870, 6), (3871, 6), (3872, 6), (3873, 6), (3874, 6), (3875, 6), (3876, 6), (3877, 6), (3878, 6), (3879, 6), (3880, 6), (3881, 6), (3882, 6), (3883, 6), (3884, 6), (3885, 6), (3886, 6), (3887, 6), (3888, 6), (3889, 6), (3890, 6), (3891, 6), (3892, 6), (3893, 6), (3894, 6), (3895, 6), (3896, 6), (3897, 6), (3898, 6), (3899, 6), (3900, 6), (3901, 6), (3902, 6), (3903, 6), (3904, 6), (3905, 6), (3906, 6), (3907, 6), (3908, 6), (3909, 6), (3910, 6), (3911, 6), (3912, 6), (3913, 6), (3914, 6), (3915, 6), (3916, 6), (3917, 6), (3918, 6), (3919, 6), (3920, 6), (3921, 6), (3922, 6), (3923, 6), (3924, 6), (3925, 6), (3926, 6), (3927, 6), (3928, 6), (3929, 6), (3930, 6), (3931, 6), (3932, 6), (3933, 6), (3934, 6), (3935, 6), (3936, 6), (3937, 6), (3938, 6), (3939, 6), (3940, 6), (3941, 6), (3942, 6), (3943, 6), (3944, 6), (3945, 6), (3946, 6), (3947, 6), (3948, 6), (3949, 6), (3950, 6), (3951, 6), (3952, 6), (3953, 6), (3954, 6), (3955, 6), (3956, 6), (3957, 6), (3958, 6), (3959, 6), (3960, 6), (3961, 6), (3962, 6), (3963, 6), (3964, 6), (3965, 6), (3966, 6), (3967, 6), (3968, 6), (3969, 6), (3970, 6), (3971, 6), (3972, 6), (3973, 6), (3974, 6), (3975, 6), (3976, 6), (3977, 6), (3978, 6), (3979, 6), (3980, 6), (3981, 6), (3982, 6), (3983, 6), (3984, 6), (3985, 6), (3986, 6), (3987, 6), (3988, 6), (3989, 6), (3990, 6), (3991, 6), (3992, 6), (3993, 6), (3994, 6), (3995, 6), (3996, 6), (3997, 6), (3998, 6), (3999, 6), (4000, 6), (4001, 6), (4002, 6), (4003, 6), (4004, 6), (4005, 6), (4006, 6), (4007, 6), (4008, 6), (4009, 6), (4010, 6), (4011, 6), (4012, 6), (4013, 6), (4014, 6), (4015, 6), (4016, 6), (4017, 6), (4018, 6), (4019, 6), (4020, 6), (4021, 6), (4022, 6), (4023, 6), (4024, 6), (4025, 6), (4026, 6), (4027, 6), (4028, 6), (4029, 6), (4030, 6), (4031, 6), (4032, 6), (4033, 6), (4034, 6), (4035, 6), (4036, 6), (4037, 6), (4038, 6), (4039, 6), (4040, 6), (4041, 6), (4042, 6), (4043, 6), (4044, 6), (4045, 6), (4046, 6), (4047, 6), (4048, 6), (4049, 6), (4050, 6), (4051, 6), (4052, 6), (4053, 6), (4054, 6), (4055, 6), (4056, 6), (4057, 6), (4058, 6), (4059, 6), (4060, 6), (4061, 6), (4062, 6), (4063, 6), (4064, 6), (4065, 6), (4066, 6), (4067, 6), (4068, 6), (4069, 6), (4070, 6), (4071, 6), (4072, 6), (4073, 6), (4074, 6), (4075, 6), (4076, 6), (4077, 6), (4078, 6), (4079, 6), (4080, 6), (4081, 6), (4082, 6), (4083, 6), (4084, 6), (4085, 6), (4086, 6), (4087, 6), (4088, 6), (4089, 6), (4090, 6), (4091, 6), (4092, 6), (4093, 6), (4094, 6), (4095, 6), (4096, 6), (4097, 6), (4098, 6), (4099, 6), (4100, 6), (4101, 6), (4102, 6), (4103, 6), (4104, 6), (4105, 6), (4106, 6), (4107, 6), (4108, 6), (4109, 6), (4110, 6), (4111, 6), (4112, 6), (4113, 6), (4114, 6), (4115, 6), (4116, 6), (4117, 6), (4118, 6), (4119, 6), (4120, 6), (4121, 6), (4122, 6), (4123, 6), (4124, 6), (4125, 6), (4126, 6), (4127, 6), (4128, 6), (4129, 6), (4130, 6), (4131, 6), (4132, 6), (4133, 6), (4134, 6), (4135, 6), (4136, 6), (4137, 6), (4138, 6), (4139, 6), (4140, 6), (4141, 6), (4142, 6), (4143, 6), (4144, 6), (4145, 6), (4146, 6), (4147, 6), (4148, 6), (4149, 6), (4150, 6), (4151, 6), (4152, 6), (4153, 6), (4154, 6), (4155, 6), (4156, 6), (4157, 6), (4158, 6), (4159, 6), (4160, 6), (4161, 6), (4162, 6), (4163, 6), (4164, 6), (4165, 6), (4166, 6), (4167, 6), (4168, 6), (4169, 6), (4170, 6), (4171, 6), (4172, 6), (4173, 6), (4174, 6), (4175, 6), (4176, 6), (4177, 6), (4178, 6), (4179, 6), (4180, 6), (4181, 6), (4182, 6), (4183, 6), (4184, 6), (4185, 6), (4186, 6), (4187, 6), (4188, 6), (4189, 6), (4190, 6), (4191, 6), (4192, 6), (4193, 6), (4194, 6), (4195, 6), (4196, 6), (4197, 6), (4198, 6), (4199, 6), (4200, 6), (4201, 6), (4202, 6), (4203, 6), (4204, 6), (4205, 6), (4206, 6), (4207, 6), (4208, 6), (4209, 6), (4210, 6), (4211, 6), (4212, 6), (4213, 6), (4214, 6), (4215, 6), (4216, 6), (4217, 6), (4218, 6), (4219, 6), (4220, 6), (4221, 6), (4222, 6), (4223, 6), (4224, 6), (4225, 6), (4226, 6), (4227, 6), (4228, 6), (4229, 6), (4230, 6), (4231, 6), (4232, 6), (4233, 6), (4234, 6), (4235, 6), (4236, 6), (4237, 6), (4238, 6), (4239, 6), (4240, 6), (4241, 6), (4242, 6), (4243, 6), (4244, 6), (4245, 6), (4246, 6), (4247, 6), (4248, 6), (4249, 6), (4250, 6), (4251, 6), (4252, 6), (4253, 6), (4254, 6), (4255, 6), (4256, 6), (4257, 6), (4258, 6), (4259, 6), (4260, 6), (4261, 6), (4262, 6), (4263, 6), (4264, 6), (4265, 6), (4266, 6), (4267, 6), (4268, 6), (4269, 6), (4270, 6), (4271, 6), (4272, 6), (4273, 6), (4274, 6), (4275, 6), (4276, 6), (4277, 6), (4278, 6), (4279, 6), (4280, 6), (4281, 6), (4282, 6), (4283, 6), (4284, 6), (4285, 6), (4286, 6), (4287, 6), (4288, 6), (4289, 6), (4290, 6), (4291, 6), (4292, 6), (4293, 6), (4294, 6), (4295, 6), (4296, 6), (4297, 6), (4298, 6), (4299, 6), (4300, 6), (4301, 6), (4302, 6), (4303, 6), (4304, 6), (4305, 6), (4306, 6), (4307, 6), (4308, 6), (4309, 6), (4310, 6), (4311, 6), (4312, 6), (4313, 6), (4314, 6), (4315, 6), (4316, 6), (4317, 6), (4318, 6), (4319, 6), (4320, 6), (4321, 6), (4322, 6), (4323, 6), (4324, 6), (4325, 6), (4326, 6), (4327, 6), (4328, 6), (4329, 6), (4330, 6), (4331, 6), (4332, 6), (4333, 6), (4334, 6), (4335, 6), (4336, 6), (4337, 6), (4338, 6), (4339, 6), (4340, 6), (4341, 6), (4342, 6), (4343, 6), (4344, 6), (4345, 6), (4346, 6), (4347, 6), (4348, 6), (4349, 6), (4350, 6), (4351, 6), (4352, 6), (4353, 6), (4354, 6), (4355, 6), (4356, 6), (4357, 6), (4358, 6), (4359, 6), (4360, 6), (4361, 6), (4362, 6), (4363, 6), (4364, 6), (4365, 6), (4366, 6), (4367, 6), (4368, 6), (4369, 6), (4370, 6), (4371, 6), (4372, 6), (4373, 6), (4374, 6), (4375, 6), (4376, 6), (4377, 6), (4378, 6), (4379, 6), (4380, 6), (4381, 6), (4382, 6), (4383, 6), (4384, 6), (4385, 6), (4386, 6), (4387, 6), (4388, 6), (4389, 6), (4390, 6), (4391, 6), (4392, 6), (4393, 6), (4394, 6), (4395, 6), (4396, 6), (4397, 6), (4398, 6), (4399, 6), (4400, 6), (4401, 6), (4402, 6), (4403, 6), (4404, 6), (4405, 6), (4406, 6), (4407, 6), (4408, 6), (4409, 6), (4410, 6), (4411, 6), (4412, 6), (4413, 6), (4414, 6), (4415, 6), (4416, 6), (4417, 6), (4418, 6), (4419, 6), (4420, 6), (4421, 6), (4422, 6), (4423, 6), (4424, 6), (4425, 6), (4426, 6), (4427, 6), (4428, 6), (4429, 6), (4430, 6), (4431, 6), (4432, 6), (4433, 6), (4434, 6), (4435, 6), (4436, 6), (4437, 6), (4438, 6), (4439, 6), (4440, 6), (4441, 6), (4442, 6), (4443, 6), (4444, 6), (4445, 6), (4446, 6), (4447, 6), (4448, 6), (4449, 6), (4450, 6), (4451, 6), (4452, 6), (4453, 6), (4454, 6), (4455, 6), (4456, 6), (4457, 6), (4458, 6), (4459, 6), (4460, 6), (4461, 6), (4462, 6), (4463, 6), (4464, 6), (4465, 6), (4466, 6), (4467, 6), (4468, 6), (4469, 6), (4470, 6), (4471, 6), (4472, 6), (4473, 6), (4474, 6), (4475, 6), (4476, 6), (4477, 6), (4478, 6), (4479, 6), (4480, 6), (4481, 6), (4482, 6), (4483, 6), (4484, 6), (4485, 6), (4486, 6), (4487, 6), (4488, 6), (4489, 6), (4490, 6), (4491, 6), (4492, 6), (4493, 6), (4494, 6), (4495, 6), (4496, 6), (4497, 6), (4498, 6), (4499, 6), (4500, 6), (4501, 6), (4502, 6), (4503, 6), (4504, 6), (4505, 6), (4506, 6), (4507, 6), (4508, 6), (4509, 6), (4510, 6), (4511, 6), (4512, 6), (4513, 6), (4514, 6), (4515, 6), (4516, 6), (4517, 6), (4518, 6), (4519, 6), (4520, 6), (4521, 6), (4522, 6), (4523, 6), (4524, 6), (4525, 6), (4526, 6), (4527, 6), (4528, 6), (4529, 6), (4530, 6), (4531, 6), (4532, 6), (4533, 6), (4534, 6), (4535, 6), (4536, 6), (4537, 6), (4538, 6), (4539, 6), (4540, 6), (4541, 6), (4542, 6), (4543, 6), (4544, 6), (4545, 6), (4546, 6), (4547, 6), (4548, 6), (4549, 6), (4550, 6), (4551, 6), (4552, 6), (4553, 6), (4554, 6), (4555, 6), (4556, 6), (4557, 6), (4558, 6), (4559, 6), (4560, 6), (4561, 6), (4562, 6), (4563, 6), (4564, 6), (4565, 6), (4566, 6), (4567, 6), (4568, 6), (4569, 6), (4570, 6), (4571, 6), (4572, 6), (4573, 6), (4574, 6), (4575, 6), (4576, 6), (4577, 6), (4578, 6), (4579, 6), (4580, 6), (4581, 6), (4582, 6), (4583, 6), (4584, 6), (4585, 6), (4586, 6), (4587, 6), (4588, 6), (4589, 6), (4590, 6), (4591, 6), (4592, 6), (4593, 6), (4594, 6), (4595, 6), (4596, 6), (4597, 6), (4598, 6), (4599, 6), (4600, 6), (4601, 6), (4602, 6), (4603, 6), (4604, 6), (4605, 6), (4606, 6), (4607, 6), (4608, 6), (4609, 6), (4610, 6), (4611, 6), (4612, 6), (4613, 6), (4614, 6), (4615, 6), (4616, 6), (4617, 6), (4618, 6), (4619, 6), (4620, 6), (4621, 6), (4622, 6), (4623, 6), (4624, 6), (4625, 6), (4626, 6), (4627, 6), (4628, 6), (4629, 6), (4630, 6), (4631, 6), (4632, 6), (4633, 6), (4634, 6), (4635, 6), (4636, 6), (4637, 6), (4638, 6), (4639, 6), (4640, 6), (4641, 6), (4642, 6), (4643, 6), (4644, 6), (4645, 6), (4646, 6), (4647, 6), (4648, 6), (4649, 6), (4650, 6), (4651, 6), (4652, 6), (4653, 6), (4654, 6), (4655, 6), (4656, 6), (4657, 6), (4658, 6), (4659, 6), (4660, 6), (4661, 6), (4662, 6), (4663, 6), (4664, 6), (4665, 6), (4666, 6), (4667, 6), (4668, 6), (4669, 6), (4670, 6), (4671, 6), (4672, 6), (4673, 6), (4674, 6), (4675, 6), (4676, 6), (4677, 6), (4678, 6), (4679, 6), (4680, 6), (4681, 6), (4682, 6), (4683, 6), (4684, 6), (4685, 6), (4686, 6), (4687, 6), (4688, 6), (4689, 6), (4690, 6), (4691, 6), (4692, 6), (4693, 6), (4694, 6), (4695, 6), (4696, 6), (4697, 6), (4698, 6), (4699, 6), (4700, 6), (4701, 6), (4702, 6), (4703, 6), (4704, 6), (4705, 6), (4706, 6), (4707, 6), (4708, 6), (4709, 6), (4710, 6), (4711, 6), (4712, 6), (4713, 6), (4714, 6), (4715, 6), (4716, 6), (4717, 6), (4718, 6), (4719, 6), (4720, 6), (4721, 6), (4722, 6), (4723, 6), (4724, 6), (4725, 6), (4726, 6), (4727, 6), (4728, 6), (4729, 6), (4730, 6), (4731, 6), (4732, 6), (4733, 6), (4734, 6), (4735, 6), (4736, 6), (4737, 6), (4738, 6), (4739, 6), (4740, 6), (4741, 6), (4742, 6), (4743, 6), (4744, 6), (4745, 6), (4746, 6), (4747, 6), (4748, 6), (4749, 6), (4750, 6), (4751, 6), (4752, 6), (4753, 6), (4754, 6), (4755, 6), (4756, 6), (4757, 6), (4758, 6), (4759, 6), (4760, 6), (4761, 6), (4762, 6), (4763, 6), (4764, 6), (4765, 6), (4766, 6), (4767, 6), (4768, 6), (4769, 6), (4770, 6), (4771, 6), (4772, 6), (4773, 6), (4774, 6), (4775, 6), (4776, 6), (4777, 6), (4778, 6), (4779, 6), (4780, 6), (4781, 6), (4782, 6), (4783, 6), (4784, 6), (4785, 6), (4786, 6), (4787, 6), (4788, 6), (4789, 6), (4790, 6), (4791, 6), (4792, 6), (4793, 6), (4794, 6), (4795, 6), (4796, 6), (4797, 6), (4798, 6), (4799, 6), (4800, 6), (4801, 6), (4802, 6), (4803, 6), (4804, 6), (4805, 6), (4806, 6), (4807, 6), (4808, 6), (4809, 6), (4810, 6), (4811, 6), (4812, 6), (4813, 6), (4814, 6), (4815, 6), (4816, 6), (4817, 6), (4818, 6), (4819, 6), (4820, 6), (4821, 6), (4822, 6), (4823, 6), (4824, 6), (4825, 6), (4826, 6), (4827, 6), (4828, 6), (4829, 6), (4830, 6), (4831, 6), (4832, 6), (4833, 6), (4834, 6), (4835, 6), (4836, 6), (4837, 6), (4838, 6), (4839, 6), (4840, 6), (4841, 6), (4842, 6), (4843, 6), (4844, 6), (4845, 6), (4846, 6), (4847, 6), (4848, 6), (4849, 6), (4850, 6), (4851, 6), (4852, 6), (4853, 6), (4854, 6), (4855, 6), (4856, 6), (4857, 6), (4858, 6), (4859, 6), (4860, 6), (4861, 6), (4862, 6), (4863, 6), (4864, 6), (4865, 6), (4866, 6), (4867, 6), (4868, 6), (4869, 6), (4870, 6), (4871, 6), (4872, 6), (4873, 6), (4874, 6), (4875, 6), (4876, 6), (4877, 6), (4878, 6), (4879, 6), (4880, 6), (4881, 6), (4882, 6), (4883, 6), (4884, 6), (4885, 6), (4886, 6), (4887, 6), (4888, 6), (4889, 6), (4890, 6), (4891, 6), (4892, 6), (4893, 6), (4894, 6), (4895, 6), (4896, 6), (4897, 6), (4898, 6), (4899, 6), (4900, 6), (4901, 6), (4902, 6), (4903, 6), (4904, 6), (4905, 6), (4906, 6), (4907, 6), (4908, 6), (4909, 6), (4910, 6), (4911, 6), (4912, 6), (4913, 6), (4914, 6), (4915, 6), (4916, 6), (4917, 6), (4918, 6), (4919, 6), (4920, 6), (4921, 6), (4922, 6), (4923, 6), (4924, 6), (4925, 6), (4926, 6), (4927, 6), (4928, 6), (4929, 6), (4930, 6), (4931, 6), (4932, 6), (4933, 6), (4934, 6), (4935, 6), (4936, 6), (4937, 6), (4938, 6), (4939, 6), (4940, 6), (4941, 6), (4942, 6), (4943, 6), (4944, 6), (4945, 6), (4946, 6), (4947, 6), (4948, 6), (4949, 6), (4950, 6), (4951, 6), (4952, 6), (4953, 6), (4954, 6), (4955, 6), (4956, 6), (4957, 6), (4958, 6), (4959, 6), (4960, 6), (4961, 6), (4962, 6), (4963, 6), (4964, 6), (4965, 6), (4966, 6), (4967, 6), (4968, 6), (4969, 6), (4970, 6), (4971, 6), (4972, 6), (4973, 6), (4974, 6), (4975, 6), (4976, 6), (4977, 6), (4978, 6), (4979, 6), (4980, 6), (4981, 6), (4982, 6), (4983, 6), (4984, 6), (4985, 6), (4986, 6), (4987, 6), (4988, 6), (4989, 6), (4990, 6), (4991, 6), (4992, 6), (4993, 6), (4994, 6), (4995, 6), (4996, 6), (4997, 6), (4998, 6), (4999, 6), (5000, 6), (5001, 6), (5002, 6), (5003, 6), (5004, 6), (5005, 6), (5006, 6), (5007, 6), (5008, 6), (5009, 6), (5010, 6), (5011, 6), (5012, 6), (5013, 6), (5014, 6), (5015, 6), (5016, 6), (5017, 6), (5018, 6), (5019, 6), (5020, 6), (5021, 6), (5022, 6), (5023, 6), (5024, 6), (5025, 6), (5026, 6), (5027, 6), (5028, 6), (5029, 6), (5030, 6), (5031, 6), (5032, 6), (5033, 6), (5034, 6), (5035, 6), (5036, 6), (5037, 6), (5038, 6), (5039, 6), (5040, 6), (5041, 6), (5042, 6), (5043, 6), (5044, 6), (5045, 6), (5046, 6), (5047, 6), (5048, 6), (5049, 6), (5050, 6), (5051, 6), (5052, 6), (5053, 6), (5054, 6), (5055, 6), (5056, 6), (5057, 6), (5058, 6), (5059, 6), (5060, 6), (5061, 6), (5062, 6), (5063, 6), (5064, 6), (5065, 6), (5066, 6), (5067, 6), (5068, 6), (5069, 6), (5070, 6), (5071, 6), (5072, 6), (5073, 6), (5074, 6), (5075, 6), (5076, 6), (5077, 6), (5078, 6), (5079, 6), (5080, 6), (5081, 6), (5082, 6), (5083, 6), (5084, 6), (5085, 6), (5086, 6), (5087, 6), (5088, 6), (5089, 6), (5090, 6), (5091, 6), (5092, 6), (5093, 6), (5094, 6), (5095, 6), (5096, 6), (5097, 6), (5098, 6), (5099, 6), (5100, 6), (5101, 6), (5102, 6), (5103, 6), (5104, 6), (5105, 6), (5106, 6), (5107, 6), (5108, 6), (5109, 6), (5110, 6), (5111, 6), (5112, 6), (5113, 6), (5114, 6), (5115, 6), (5116, 6), (5117, 6), (5118, 6), (5119, 6), (5120, 6), (5121, 6), (5122, 6), (5123, 6), (5124, 6), (5125, 6), (5126, 6), (5127, 6), (5128, 6), (5129, 6), (5130, 6), (5131, 6), (5132, 6), (5133, 6), (5134, 6), (5135, 6), (5136, 6), (5137, 6), (5138, 6), (5139, 6), (5140, 6), (5141, 6), (5142, 6), (5143, 6), (5144, 6), (5145, 6), (5146, 6), (5147, 6), (5148, 6), (5149, 6), (5150, 6), (5151, 6), (5152, 6), (5153, 6), (5154, 6), (5155, 6), (5156, 6), (5157, 6), (5158, 6), (5159, 6), (5160, 6), (5161, 6), (5162, 6), (5163, 6), (5164, 6), (5165, 6), (5166, 6), (5167, 6), (5168, 6), (5169, 6), (5170, 6), (5171, 6), (5172, 6), (5173, 6), (5174, 6), (5175, 6), (5176, 6), (5177, 6), (5178, 6), (5179, 6), (5180, 6), (5181, 6), (5182, 6), (5183, 6), (5184, 6), (5185, 6), (5186, 6), (5187, 6), (5188, 6), (5189, 6), (5190, 6), (5191, 6), (5192, 6), (5193, 6), (5194, 6), (5195, 6), (5196, 6), (5197, 6), (5198, 6), (5199, 6), (5200, 6), (5201, 6), (5202, 6), (5203, 6), (5204, 6), (5205, 6), (5206, 6), (5207, 6), (5208, 6), (5209, 6), (5210, 6), (5211, 6), (5212, 6), (5213, 6), (5214, 6), (5215, 6), (5216, 6), (5217, 6), (5218, 6), (5219, 6), (5220, 6), (5221, 6), (5222, 6), (5223, 6), (5224, 6), (5225, 6), (5226, 6), (5227, 6), (5228, 6), (5229, 6), (5230, 6), (5231, 6), (5232, 6), (5233, 6), (5234, 6), (5235, 6), (5236, 6), (5237, 6), (5238, 6), (5239, 6), (5240, 6), (5241, 6), (5242, 6), (5243, 6), (5244, 6), (5245, 6), (5246, 6), (5247, 6), (5248, 6), (5249, 6), (5250, 6), (5251, 6), (5252, 6), (5253, 6), (5254, 6), (5255, 6), (5256, 6), (5257, 6), (5258, 6), (5259, 6), (5260, 6), (5261, 6), (5262, 6), (5263, 6), (5264, 6), (5265, 6), (5266, 6), (5267, 6), (5268, 6), (5269, 6), (5270, 6), (5271, 6), (5272, 6), (5273, 6), (5274, 6), (5275, 6), (5276, 6), (5277, 6), (5278, 6), (5279, 6), (5280, 6), (5281, 6), (5282, 6), (5283, 6), (5284, 6), (5285, 6), (5286, 6), (5287, 6), (5288, 6), (5289, 6), (5290, 6), (5291, 6), (5292, 6), (5293, 6), (5294, 6), (5295, 6), (5296, 6), (5297, 6), (5298, 6), (5299, 6), (5300, 6), (5301, 6), (5302, 6), (5303, 6), (5304, 6), (5305, 6), (5306, 6), (5307, 6), (5308, 6), (5309, 6), (5310, 6), (5311, 6), (5312, 6), (5313, 6), (5314, 6), (5315, 6), (5316, 6), (5317, 6), (5318, 6), (5319, 6), (5320, 6), (5321, 6), (5322, 6), (5323, 6), (5324, 6), (5325, 6), (5326, 6), (5327, 6), (5328, 6), (5329, 6), (5330, 6), (5331, 6), (5332, 6), (5333, 6), (5334, 6), (5335, 6), (5336, 6), (5337, 6), (5338, 6), (5339, 6), (5340, 6), (5341, 6), (5342, 6), (5343, 6), (5344, 6), (5345, 6), (5346, 6), (5347, 6), (5348, 6), (5349, 6), (5350, 6), (5351, 6), (5352, 6), (5353, 6), (5354, 6), (5355, 6), (5356, 6), (5357, 6), (5358, 6), (5359, 6), (5360, 6), (5361, 6), (5362, 6), (5363, 6), (5364, 6), (5365, 6), (5366, 6), (5367, 6), (5368, 6), (5369, 6), (5370, 6), (5371, 6), (5372, 6), (5373, 6), (5374, 6), (5375, 6), (5376, 6), (5377, 6), (5378, 6), (5379, 6), (5380, 6), (5381, 6), (5382, 6), (5383, 6), (5384, 6), (5385, 6), (5386, 6), (5387, 6), (5388, 6), (5389, 6), (5390, 6), (5391, 6), (5392, 6), (5393, 6), (5394, 6), (5395, 6), (5396, 6), (5397, 6), (5398, 6), (5399, 6), (5400, 6), (5401, 6), (5402, 6), (5403, 6), (5404, 6), (5405, 6), (5406, 6), (5407, 6), (5408, 6), (5409, 6), (5410, 6), (5411, 6), (5412, 6), (5413, 6), (5414, 6), (5415, 6), (5416, 6), (5417, 6), (5418, 6), (5419, 6), (5420, 6), (5421, 6), (5422, 6), (5423, 6), (5424, 6), (5425, 6), (5426, 6), (5427, 6), (5428, 6), (5429, 6), (5430, 6), (5431, 6), (5432, 6), (5433, 6), (5434, 6), (5435, 6), (5436, 6), (5437, 6), (5438, 6), (5439, 6), (5440, 6), (5441, 6), (5442, 6), (5443, 6), (5444, 6), (5445, 6), (5446, 6), (5447, 6), (5448, 6), (5449, 6), (5450, 6), (5451, 6), (5452, 6), (5453, 6), (5454, 6), (5455, 6), (5456, 6), (5457, 6), (5458, 6), (5459, 6), (5460, 6), (5461, 6), (5462, 6), (5463, 6), (5464, 6), (5465, 6), (5466, 6), (5467, 6), (5468, 6), (5469, 6), (5470, 6), (5471, 6), (5472, 6), (5473, 6), (5474, 6), (5475, 6), (5476, 6), (5477, 6), (5478, 6), (5479, 6), (5480, 6), (5481, 6), (5482, 6), (5483, 6), (5484, 6), (5485, 6), (5486, 6), (5487, 6), (5488, 6), (5489, 6), (5490, 6), (5491, 6), (5492, 6), (5493, 6), (5494, 6), (5495, 6), (5496, 6), (5497, 6), (5498, 6), (5499, 6), (5500, 6), (5501, 6), (5502, 6), (5503, 6), (5504, 6), (5505, 6), (5506, 6), (5507, 6), (5508, 6), (5509, 6), (5510, 6), (5511, 6), (5512, 6), (5513, 6), (5514, 6), (5515, 6), (5516, 6), (5517, 6), (5518, 6), (5519, 6), (5520, 6), (5521, 6), (5522, 6), (5523, 6), (5524, 6), (5525, 6), (5526, 6), (5527, 6), (5528, 6), (5529, 6), (5530, 6), (5531, 6), (5532, 6), (5533, 6), (5534, 6), (5535, 6), (5536, 6), (5537, 6), (5538, 6), (5539, 6), (5540, 6), (5541, 6), (5542, 6), (5543, 6), (5544, 6), (5545, 6), (5546, 6), (5547, 6), (5548, 6), (5549, 6), (5550, 6), (5551, 6), (5552, 6), (5553, 6), (5554, 6), (5555, 6), (5556, 6), (5557, 6), (5558, 6), (5559, 6), (5560, 6), (5561, 6), (5562, 6), (5563, 6), (5564, 6), (5565, 6), (5566, 6), (5567, 6), (5568, 6), (5569, 6), (5570, 6), (5571, 6), (5572, 6), (5573, 6), (5574, 6), (5575, 6), (5576, 6), (5577, 6), (5578, 6), (5579, 6), (5580, 6), (5581, 6), (5582, 6), (5583, 6), (5584, 6), (5585, 6), (5586, 6), (5587, 6), (5588, 6), (5589, 6), (5590, 6), (5591, 6), (5592, 6), (5593, 6), (5594, 6), (5595, 6), (5596, 6), (5597, 6), (5598, 6), (5599, 6), (5600, 6), (5601, 6), (5602, 6), (5603, 6), (5604, 6), (5605, 6), (5606, 6), (5607, 6), (5608, 6), (5609, 6), (5610, 6), (5611, 6), (5612, 6), (5613, 6), (5614, 6), (5615, 6), (5616, 6), (5617, 6), (5618, 6), (5619, 6), (5620, 6), (5621, 6), (5622, 6), (5623, 6), (5624, 6), (5625, 6), (5626, 6), (5627, 6), (5628, 6), (5629, 6), (5630, 6), (5631, 6), (5632, 6), (5633, 6), (5634, 6), (5635, 6), (5636, 6), (5637, 6), (5638, 6), (5639, 6), (5640, 6), (5641, 6), (5642, 6), (5643, 6), (5644, 6), (5645, 6), (5646, 6), (5647, 6), (5648, 6), (5649, 6), (5650, 6), (5651, 6), (5652, 6), (5653, 6), (5654, 6), (5655, 6), (5656, 6), (5657, 6), (5658, 6), (5659, 6), (5660, 6), (5661, 6), (5662, 6), (5663, 6), (5664, 6), (5665, 6), (5666, 6), (5667, 6), (5668, 6), (5669, 6), (5670, 6), (5671, 6), (5672, 6), (5673, 6), (5674, 6), (5675, 6), (5676, 6), (5677, 6), (5678, 6), (5679, 6), (5680, 6), (5681, 6), (5682, 6), (5683, 6), (5684, 6), (5685, 6), (5686, 6), (5687, 6), (5688, 6), (5689, 6), (5690, 6), (5691, 6), (5692, 6), (5693, 6), (5694, 6), (5695, 6), (5696, 6), (5697, 6), (5698, 6), (5699, 6), (5700, 6), (5701, 6), (5702, 6), (5703, 6), (5704, 6), (5705, 6), (5706, 6), (5707, 6), (5708, 6), (5709, 6), (5710, 6), (5711, 6), (5712, 6), (5713, 6), (5714, 6), (5715, 6), (5716, 6), (5717, 6), (5718, 6), (5719, 6), (5720, 6), (5721, 6), (5722, 6), (5723, 6), (5724, 6), (5725, 6), (5726, 6), (5727, 6), (5728, 6), (5729, 6), (5730, 6), (5731, 6), (5732, 6), (5733, 6), (5734, 6), (5735, 6), (5736, 6), (5737, 6), (5738, 6), (5739, 6), (5740, 6), (5741, 6), (5742, 6), (5743, 6), (5744, 6), (5745, 6), (5746, 6), (5747, 6), (5748, 6), (5749, 6), (5750, 6), (5751, 6), (5752, 6), (5753, 6), (5754, 6), (5755, 6), (5756, 6), (5757, 6), (5758, 6), (5759, 6), (5760, 6), (5761, 6), (5762, 6), (5763, 6), (5764, 6), (5765, 6), (5766, 6), (5767, 6), (5768, 6), (5769, 6), (5770, 6), (5771, 6), (5772, 6), (5773, 6), (5774, 6), (5775, 6), (5776, 6), (5777, 6), (5778, 6), (5779, 6), (5780, 6), (5781, 6), (5782, 6), (5783, 6), (5784, 6), (5785, 6), (5786, 6), (5787, 6), (5788, 6), (5789, 6), (5790, 6), (5791, 6), (5792, 6), (5793, 6), (5794, 6), (5795, 6), (5796, 6), (5797, 6), (5798, 6), (5799, 6), (5800, 6), (5801, 6), (5802, 6), (5803, 6), (5804, 6), (5805, 6), (5806, 6), (5807, 6), (5808, 6), (5809, 6), (5810, 6), (5811, 6), (5812, 6), (5813, 6), (5814, 6), (5815, 6), (5816, 6), (5817, 6), (5818, 6), (5819, 6), (5820, 6), (5821, 6), (5822, 6), (5823, 6), (5824, 6), (5825, 6), (5826, 6), (5827, 6), (5828, 6), (5829, 6), (5830, 6), (5831, 6), (5832, 6), (5833, 6), (5834, 6), (5835, 6), (5836, 6), (5837, 6), (5838, 6), (5839, 6), (5840, 6), (5841, 6), (5842, 6), (5843, 6), (5844, 6), (5845, 6), (5846, 6), (5847, 6), (5848, 6), (5849, 6), (5850, 6), (5851, 6), (5852, 6), (5853, 6), (5854, 6), (5855, 6), (5856, 6), (5857, 6), (5858, 6), (5859, 6), (5860, 6), (5861, 6), (5862, 6), (5863, 6), (5864, 6), (5865, 6), (5866, 6), (5867, 6), (5868, 6), (5869, 6), (5870, 6), (5871, 6), (5872, 6), (5873, 6), (5874, 6), (5875, 6), (5876, 6), (5877, 6), (5878, 6), (5879, 6), (5880, 6), (5881, 6), (5882, 6), (5883, 6), (5884, 6), (5885, 6), (5886, 6), (5887, 6), (5888, 6), (5889, 6), (5890, 6), (5891, 6), (5892, 6), (5893, 6), (5894, 6), (5895, 6), (5896, 6), (5897, 6), (5898, 6), (5899, 6), (5900, 6), (5901, 6), (5902, 6), (5903, 6), (5904, 6), (5905, 6), (5906, 6), (5907, 6), (5908, 6), (5909, 6), (5910, 6), (5911, 6), (5912, 6), (5913, 6), (5914, 6), (5915, 6), (5916, 6), (5917, 6), (5918, 6), (5919, 6), (5920, 6), (5921, 6), (5922, 6), (5923, 6), (5924, 6), (5925, 6), (5926, 6), (5927, 6), (5928, 6), (5929, 6), (5930, 6), (5931, 6), (5932, 6), (5933, 6), (5934, 6), (5935, 6), (5936, 6), (5937, 6), (5938, 6), (5939, 6), (5940, 6), (5941, 6), (5942, 6), (5943, 6), (5944, 6), (5945, 6), (5946, 6), (5947, 6), (5948, 6), (5949, 6), (5950, 6), (5951, 6), (5952, 6), (5953, 6), (5954, 6), (5955, 6), (5956, 6), (5957, 6), (5958, 6), (5959, 6), (5960, 6), (5961, 6), (5962, 6), (5963, 6), (5964, 6), (5965, 6), (5966, 6), (5967, 6), (5968, 6), (5969, 6), (5970, 6), (5971, 6), (5972, 6), (5973, 6), (5974, 6), (5975, 6), (5976, 6), (5977, 6), (5978, 6), (5979, 6), (5980, 6), (5981, 6), (5982, 6), (5983, 6), (5984, 6), (5985, 6), (5986, 6), (5987, 6), (5988, 6), (5989, 6), (5990, 6), (5991, 6), (5992, 6), (5993, 6), (5994, 6), (5995, 6), (5996, 6), (5997, 6), (5998, 6), (5999, 6), (6000, 6), (6001, 6), (6002, 6), (6003, 6), (6004, 6), (6005, 6), (6006, 6), (6007, 6), (6008, 6), (6009, 6), (6010, 6), (6011, 6), (6012, 6), (6013, 6), (6014, 6), (6015, 6), (6016, 6), (6017, 6), (6018, 6), (6019, 6), (6020, 6), (6021, 6), (6022, 6), (6023, 6), (6024, 6), (6025, 6), (6026, 6), (6027, 6), (6028, 6), (6029, 6), (6030, 6), (6031, 6), (6032, 6), (6033, 6), (6034, 6), (6035, 6), (6036, 6), (6037, 6), (6038, 6), (6039, 6), (6040, 6), (6041, 6), (6042, 6), (6043, 6), (6044, 6), (6045, 6), (6046, 6), (6047, 6), (6048, 6), (6049, 6), (6050, 6), (6051, 6), (6052, 6), (6053, 6), (6054, 6), (6055, 6), (6056, 6), (6057, 6), (6058, 6), (6059, 6), (6060, 6), (6061, 6), (6062, 6), (6063, 6), (6064, 6), (6065, 6), (6066, 6), (6067, 6), (6068, 6), (6069, 6), (6070, 6), (6071, 6), (6072, 6), (6073, 6), (6074, 6), (6075, 6), (6076, 6), (6077, 6), (6078, 6), (6079, 6), (6080, 6), (6081, 6), (6082, 6), (6083, 6), (6084, 6), (6085, 6), (6086, 6), (6087, 6), (6088, 6), (6089, 6), (6090, 6), (6091, 6), (6092, 6), (6093, 6), (6094, 6), (6095, 6), (6096, 6), (6097, 6), (6098, 6), (6099, 6), (6100, 6), (6101, 6), (6102, 6), (6103, 6), (6104, 6), (6105, 6), (6106, 6), (6107, 6), (6108, 6), (6109, 6), (6110, 6), (6111, 6), (6112, 6), (6113, 6), (6114, 6), (6115, 6), (6116, 6), (6117, 6), (6118, 6), (6119, 6), (6120, 6), (6121, 6), (6122, 6), (6123, 6), (6124, 6), (6125, 6), (6126, 6), (6127, 6), (6128, 6), (6129, 6), (6130, 6), (6131, 6), (6132, 6), (6133, 6), (6134, 6), (6135, 6), (6136, 6), (6137, 6), (6138, 6), (6139, 6), (6140, 6), (6141, 6), (6142, 6), (6143, 6), (6144, 6), (6145, 6), (6146, 6), (6147, 6), (6148, 6), (6149, 6), (6150, 6), (6151, 6), (6152, 6), (6153, 6), (6154, 6), (6155, 6), (6156, 6), (6157, 6), (6158, 6), (6159, 6), (6160, 6), (6161, 6), (6162, 6), (6163, 6), (6164, 6), (6165, 6), (6166, 6), (6167, 6), (6168, 6), (6169, 6), (6170, 6), (6171, 6), (6172, 6), (6173, 6), (6174, 6), (6175, 6), (6176, 6), (6177, 6), (6178, 6), (6179, 6), (6180, 6), (6181, 6), (6182, 6), (6183, 6), (6184, 6), (6185, 6), (6186, 6), (6187, 6), (6188, 6), (6189, 6), (6190, 6), (6191, 6), (6192, 6), (6193, 6), (6194, 6), (6195, 6), (6196, 6), (6197, 6), (6198, 6), (6199, 6), (6200, 6), (6201, 6), (6202, 6), (6203, 6), (6204, 6), (6205, 6), (6206, 6), (6207, 6), (6208, 6), (6209, 6), (6210, 6), (6211, 6), (6212, 6), (6213, 6), (6214, 6), (6215, 6), (6216, 6), (6217, 6), (6218, 6), (6219, 6), (6220, 6), (6221, 6), (6222, 6), (6223, 6), (6224, 6), (6225, 6), (6226, 6), (6227, 6), (6228, 6), (6229, 6), (6230, 6), (6231, 6), (6232, 6), (6233, 6), (6234, 6), (6235, 6), (6236, 6), (6237, 6), (6238, 6), (6239, 6), (6240, 6), (6241, 6), (6242, 6), (6243, 6), (6244, 6), (6245, 6), (6246, 6), (6247, 6), (6248, 6), (6249, 6), (6250, 6), (6251, 6), (6252, 6), (6253, 6), (6254, 6), (6255, 6), (6256, 6), (6257, 6), (6258, 6), (6259, 6), (6260, 6), (6261, 6), (6262, 6), (6263, 6), (6264, 6), (6265, 6), (6266, 6), (6267, 6), (6268, 6), (6269, 6), (6270, 6), (6271, 6), (6272, 6), (6273, 6), (6274, 6), (6275, 6), (6276, 6), (6277, 6), (6278, 6), (6279, 6), (6280, 6), (6281, 6), (6282, 6), (6283, 6), (6284, 6), (6285, 6), (6286, 6), (6287, 6), (6288, 6), (6289, 6), (6290, 6), (6291, 6), (6292, 6), (6293, 6), (6294, 6), (6295, 6), (6296, 6), (6297, 6), (6298, 6), (6299, 6), (6300, 6), (6301, 6), (6302, 6), (6303, 6), (6304, 6), (6305, 6), (6306, 6), (6307, 6), (6308, 6), (6309, 6), (6310, 6), (6311, 6), (6312, 6), (6313, 6), (6314, 6), (6315, 6), (6316, 6), (6317, 6), (6318, 6), (6319, 6), (6320, 6), (6321, 6), (6322, 6), (6323, 6), (6324, 6), (6325, 6), (6326, 6), (6327, 6), (6328, 6), (6329, 6), (6330, 6), (6331, 6), (6332, 6), (6333, 6), (6334, 6), (6335, 6), (6336, 6), (6337, 6), (6338, 6), (6339, 6), (6340, 6), (6341, 6), (6342, 6), (6343, 6), (6344, 6), (6345, 6), (6346, 6), (6347, 6), (6348, 6), (6349, 6), (6350, 6), (6351, 6), (6352, 6), (6353, 6), (6354, 6), (6355, 6), (6356, 6), (6357, 6), (6358, 6), (6359, 6), (6360, 6), (6361, 6), (6362, 6), (6363, 6), (6364, 6), (6365, 6), (6366, 6), (6367, 6), (6368, 6), (6369, 6), (6370, 6), (6371, 6), (6372, 6), (6373, 6), (6374, 6), (6375, 6), (6376, 6), (6377, 6), (6378, 6), (6379, 6), (6380, 6), (6381, 6), (6382, 6), (6383, 6), (6384, 6), (6385, 6), (6386, 6), (6387, 6), (6388, 6), (6389, 6), (6390, 6), (6391, 6), (6392, 6), (6393, 6), (6394, 6), (6395, 6), (6396, 6), (6397, 6), (6398, 6), (6399, 6), (6400, 6), (6401, 6), (6402, 6), (6403, 6), (6404, 6), (6405, 6), (6406, 6), (6407, 6), (6408, 6), (6409, 6), (6410, 6), (6411, 6), (6412, 6), (6413, 6), (6414, 6), (6415, 6), (6416, 6), (6417, 6), (6418, 6), (6419, 6), (6420, 6), (6421, 6), (6422, 6), (6423, 6), (6424, 6), (6425, 6), (6426, 6), (6427, 6), (6428, 6), (6429, 6), (6430, 6), (6431, 6), (6432, 6), (6433, 6), (6434, 6), (6435, 6), (6436, 6), (6437, 6), (6438, 6), (6439, 6), (6440, 6), (6441, 6), (6442, 6), (6443, 6), (6444, 6), (6445, 6), (6446, 6), (6447, 6), (6448, 6), (6449, 6), (6450, 6), (6451, 6), (6452, 6), (6453, 6), (6454, 6), (6455, 6), (6456, 6), (6457, 6), (6458, 6), (6459, 6), (6460, 6), (6461, 6), (6462, 6), (6463, 6), (6464, 6), (6465, 6), (6466, 6), (6467, 6), (6468, 6), (6469, 6), (6470, 6), (6471, 6), (6472, 6), (6473, 6), (6474, 6), (6475, 6), (6476, 6), (6477, 6), (6478, 6), (6479, 6), (6480, 6), (6481, 6), (6482, 6), (6483, 6), (6484, 6), (6485, 6), (6486, 6), (6487, 6), (6488, 6), (6489, 6), (6490, 6), (6491, 6), (6492, 6), (6493, 6), (6494, 6), (6495, 6), (6496, 6), (6497, 6), (6498, 6), (6499, 6), (6500, 6), (6501, 6), (6502, 6), (6503, 6), (6504, 6), (6505, 6), (6506, 6), (6507, 6), (6508, 6), (6509, 6), (6510, 6), (6511, 6), (6512, 6), (6513, 6), (6514, 6), (6515, 6), (6516, 6), (6517, 6), (6518, 6), (6519, 6), (6520, 6), (6521, 6), (6522, 6), (6523, 6), (6524, 6), (6525, 6), (6526, 6), (6527, 6), (6528, 6), (6529, 6), (6530, 6), (6531, 6), (6532, 6), (6533, 6), (6534, 6), (6535, 6), (6536, 6), (6537, 6), (6538, 6), (6539, 6), (6540, 6), (6541, 6), (6542, 6), (6543, 6), (6544, 6), (6545, 6), (6546, 6), (6547, 6), (6548, 6), (6549, 6), (6550, 6), (6551, 6), (6552, 6), (6553, 6), (6554, 6), (6555, 6), (6556, 6), (6557, 6), (6558, 6), (6559, 6), (6560, 6), (6561, 6), (6562, 6), (6563, 6), (6564, 6), (6565, 6), (6566, 6), (6567, 6), (6568, 6), (6569, 6), (6570, 6), (6571, 6), (6572, 6), (6573, 6), (6574, 6), (6575, 6), (6576, 6), (6577, 6), (6578, 6), (6579, 6), (6580, 6), (6581, 6), (6582, 6), (6583, 6), (6584, 6), (6585, 6), (6586, 6), (6587, 6), (6588, 6), (6589, 6), (6590, 6), (6591, 6), (6592, 6), (6593, 6), (6594, 6), (6595, 6), (6596, 6), (6597, 6), (6598, 6), (6599, 6), (6600, 6), (6601, 6), (6602, 6), (6603, 6), (6604, 6), (6605, 6), (6606, 6), (6607, 6), (6608, 6), (6609, 6), (6610, 6), (6611, 6), (6612, 6), (6613, 6), (6614, 6), (6615, 6), (6616, 6), (6617, 6), (6618, 6), (6619, 6), (6620, 6), (6621, 6), (6622, 6), (6623, 6), (6624, 6), (6625, 6), (6626, 6), (6627, 6), (6628, 6), (6629, 6), (6630, 6), (6631, 6), (6632, 6), (6633, 6), (6634, 6), (6635, 6), (6636, 6), (6637, 6), (6638, 6), (6639, 6), (6640, 6), (6641, 6), (6642, 6), (6643, 6), (6644, 6), (6645, 6), (6646, 6), (6647, 6), (6648, 6), (6649, 6), (6650, 6), (6651, 6), (6652, 6), (6653, 6), (6654, 6), (6655, 6), (6656, 6), (6657, 6), (6658, 6), (6659, 6), (6660, 6), (6661, 6), (6662, 6), (6663, 6), (6664, 6), (6665, 6), (6666, 6), (6667, 6), (6668, 6), (6669, 6), (6670, 6), (6671, 6), (6672, 6), (6673, 6), (6674, 6), (6675, 6), (6676, 6), (6677, 6), (6678, 6), (6679, 6), (6680, 6), (6681, 6), (6682, 6), (6683, 6), (6684, 6), (6685, 6), (6686, 6), (6687, 6), (6688, 6), (6689, 6), (6690, 6), (6691, 6), (6692, 6), (6693, 6), (6694, 6), (6695, 6), (6696, 6), (6697, 6), (6698, 6), (6699, 6), (6700, 6), (6701, 6), (6702, 6), (6703, 6), (6704, 6), (6705, 6), (6706, 6), (6707, 6), (6708, 6), (6709, 6), (6710, 6), (6711, 6), (6712, 6), (6713, 6), (6714, 6), (6715, 6), (6716, 6), (6717, 6), (6718, 6), (6719, 6), (6720, 6), (6721, 6), (6722, 6), (6723, 6), (6724, 6), (6725, 6), (6726, 6), (6727, 6), (6728, 6), (6729, 6), (6730, 6), (6731, 6), (6732, 6), (6733, 6), (6734, 6), (6735, 6), (6736, 6), (6737, 6), (6738, 6), (6739, 6), (6740, 6), (6741, 6), (6742, 6), (6743, 6), (6744, 6), (6745, 6), (6746, 6), (6747, 6), (6748, 6), (6749, 6), (6750, 6), (6751, 6), (6752, 6), (6753, 6), (6754, 6), (6755, 6), (6756, 6), (6757, 6), (6758, 6), (6759, 6), (6760, 6), (6761, 6), (6762, 6), (6763, 6), (6764, 6), (6765, 6), (6766, 6), (6767, 6), (6768, 6), (6769, 6), (6770, 6), (6771, 6), (6772, 6), (6773, 6), (6774, 6), (6775, 6), (6776, 6), (6777, 6), (6778, 6), (6779, 6), (6780, 6), (6781, 6), (6782, 6), (6783, 6), (6784, 6), (6785, 6), (6786, 6), (6787, 6), (6788, 6), (6789, 6), (6790, 6), (6791, 6), (6792, 6), (6793, 6), (6794, 6), (6795, 6), (6796, 6), (6797, 6), (6798, 6), (6799, 6), (6800, 6), (6801, 6), (6802, 6), (6803, 6), (6804, 6), (6805, 6), (6806, 6), (6807, 6), (6808, 6), (6809, 6), (6810, 6), (6811, 6), (6812, 6), (6813, 6), (6814, 6), (6815, 6), (6816, 6), (6817, 6), (6818, 6), (6819, 6), (6820, 6), (6821, 6), (6822, 6), (6823, 6), (6824, 6), (6825, 6), (6826, 6), (6827, 6), (6828, 6), (6829, 6), (6830, 6), (6831, 6), (6832, 6), (6833, 6), (6834, 6), (6835, 6), (6836, 6), (6837, 6), (6838, 6), (6839, 6), (6840, 6), (6841, 6), (6842, 6), (6843, 6), (6844, 6), (6845, 6), (6846, 6), (6847, 6), (6848, 6), (6849, 6), (6850, 6), (6851, 6), (6852, 6), (6853, 6), (6854, 6), (6855, 6), (6856, 6), (6857, 6), (6858, 6), (6859, 6), (6860, 6), (6861, 6), (6862, 6), (6863, 6), (6864, 6), (6865, 6), (6866, 6), (6867, 6), (6868, 6), (6869, 6), (6870, 6), (6871, 6), (6872, 6), (6873, 6), (6874, 6), (6875, 6), (6876, 6), (6877, 6), (6878, 6), (6879, 6), (6880, 6), (6881, 6), (6882, 6), (6883, 6), (6884, 6), (6885, 6), (6886, 6), (6887, 6), (6888, 6), (6889, 6), (6890, 6), (6891, 6), (6892, 6), (6893, 6), (6894, 6), (6895, 6), (6896, 6), (6897, 6), (6898, 6), (6899, 6), (6900, 6), (6901, 6), (6902, 6), (6903, 6), (6904, 6), (6905, 6), (6906, 6), (6907, 6), (6908, 6), (6909, 6), (6910, 6), (6911, 6), (6912, 6), (6913, 6), (6914, 6), (6915, 6), (6916, 6), (6917, 6), (6918, 6), (6919, 6), (6920, 6), (6921, 6), (6922, 6), (6923, 6), (6924, 6), (6925, 6), (6926, 6), (6927, 6), (6928, 6), (6929, 6), (6930, 6), (6931, 6), (6932, 6), (6933, 6), (6934, 6), (6935, 6), (6936, 6), (6937, 6), (6938, 6), (6939, 6), (6940, 6), (6941, 6), (6942, 6), (6943, 6), (6944, 6), (6945, 6), (6946, 6), (6947, 6), (6948, 6), (6949, 6), (6950, 6), (6951, 6), (6952, 6), (6953, 6), (6954, 6), (6955, 6), (6956, 6), (6957, 6), (6958, 6), (6959, 6), (6960, 6), (6961, 6), (6962, 6), (6963, 6), (6964, 6), (6965, 6), (6966, 6), (6967, 6), (6968, 6), (6969, 6), (6970, 6), (6971, 6), (6972, 6), (6973, 6), (6974, 6), (6975, 6), (6976, 6), (6977, 6), (6978, 6), (6979, 6), (6980, 6), (6981, 6), (6982, 6), (6983, 6), (6984, 6), (6985, 6), (6986, 6), (6987, 6), (6988, 6), (6989, 6), (6990, 6), (6991, 6), (6992, 6), (6993, 6), (6994, 6), (6995, 6), (6996, 6), (6997, 6), (6998, 6), (6999, 6), (7000, 6), (7001, 6), (7002, 6), (7003, 6), (7004, 6), (7005, 6), (7006, 6), (7007, 6), (7008, 6), (7009, 6), (7010, 6), (7011, 6), (7012, 6), (7013, 6), (7014, 6), (7015, 6), (7016, 6), (7017, 6), (7018, 6), (7019, 6), (7020, 6), (7021, 6), (7022, 6), (7023, 6), (7024, 6), (7025, 6), (7026, 6), (7027, 6), (7028, 6), (7029, 6), (7030, 6), (7031, 6), (7032, 6), (7033, 6), (7034, 6), (7035, 6), (7036, 6), (7037, 6), (7038, 6), (7039, 6), (7040, 6), (7041, 6), (7042, 6), (7043, 6), (7044, 6), (7045, 6), (7046, 6), (7047, 6), (7048, 6), (7049, 6), (7050, 6), (7051, 6), (7052, 6), (7053, 6), (7054, 6), (7055, 6), (7056, 6), (7057, 6), (7058, 6), (7059, 6), (7060, 6), (7061, 6), (7062, 6), (7063, 6), (7064, 6), (7065, 6), (7066, 6), (7067, 6), (7068, 6), (7069, 6), (7070, 6), (7071, 6), (7072, 6), (7073, 6), (7074, 6), (7075, 6), (7076, 6), (7077, 6), (7078, 6), (7079, 6), (7080, 6), (7081, 6), (7082, 6), (7083, 6), (7084, 6), (7085, 6), (7086, 6), (7087, 6), (7088, 6), (7089, 6), (7090, 6), (7091, 6), (7092, 6), (7093, 6), (7094, 6), (7095, 6), (7096, 6), (7097, 6), (7098, 6), (7099, 6), (7100, 6), (7101, 6), (7102, 6), (7103, 6), (7104, 6), (7105, 6), (7106, 6), (7107, 6), (7108, 6), (7109, 6), (7110, 6), (7111, 6), (7112, 6), (7113, 6), (7114, 6), (7115, 6), (7116, 6), (7117, 6), (7118, 6), (7119, 6), (7120, 6), (7121, 6), (7122, 6), (7123, 6), (7124, 6), (7125, 6), (7126, 6), (7127, 6), (7128, 6), (7129, 6), (7130, 6), (7131, 6), (7132, 6), (7133, 6), (7134, 6), (7135, 6), (7136, 6), (7137, 6), (7138, 6), (7139, 6), (7140, 6), (7141, 6), (7142, 6), (7143, 6), (7144, 6), (7145, 6), (7146, 6), (7147, 6), (7148, 6), (7149, 6), (7150, 6), (7151, 6), (7152, 6), (7153, 6), (7154, 6), (7155, 6), (7156, 6), (7157, 6), (7158, 6), (7159, 6), (7160, 6), (7161, 6), (7162, 6), (7163, 6), (7164, 6), (7165, 6), (7166, 6), (7167, 6), (7168, 6), (7169, 6), (7170, 6), (7171, 6), (7172, 6), (7173, 6), (7174, 6), (7175, 6), (7176, 6), (7177, 6), (7178, 6), (7179, 6), (7180, 6), (7181, 6), (7182, 6), (7183, 6), (7184, 6), (7185, 6), (7186, 6), (7187, 6), (7188, 6), (7189, 6), (7190, 6), (7191, 6), (7192, 6), (7193, 6), (7194, 6), (7195, 6), (7196, 6), (7197, 6), (7198, 6), (7199, 6), (7200, 6), (7201, 6), (7202, 6), (7203, 6), (7204, 6), (7205, 6), (7206, 6), (7207, 6), (7208, 6), (7209, 6), (7210, 6), (7211, 6), (7212, 6), (7213, 6), (7214, 6), (7215, 6), (7216, 6), (7217, 6), (7218, 6), (7219, 6), (7220, 6), (7221, 6), (7222, 6), (7223, 6), (7224, 6), (7225, 6), (7226, 6), (7227, 6), (7228, 6), (7229, 6), (7230, 6), (7231, 6), (7232, 6), (7233, 6), (7234, 6), (7235, 6), (7236, 6), (7237, 6), (7238, 6), (7239, 6), (7240, 6), (7241, 6), (7242, 6), (7243, 6), (7244, 6), (7245, 6), (7246, 6), (7247, 6), (7248, 6), (7249, 6), (7250, 6), (7251, 6), (7252, 6), (7253, 6), (7254, 6), (7255, 6), (7256, 6), (7257, 6), (7258, 6), (7259, 6), (7260, 6), (7261, 6), (7262, 6), (7263, 6), (7264, 6), (7265, 6), (7266, 6), (7267, 6), (7268, 6), (7269, 6), (7270, 6), (7271, 6), (7272, 6), (7273, 6), (7274, 6), (7275, 6), (7276, 6), (7277, 6), (7278, 6), (7279, 6), (7280, 6), (7281, 6), (7282, 6), (7283, 6), (7284, 6), (7285, 6), (7286, 6), (7287, 6), (7288, 6), (7289, 6), (7290, 6), (7291, 6), (7292, 6), (7293, 6), (7294, 6), (7295, 6), (7296, 6), (7297, 6), (7298, 6), (7299, 6), (7300, 6), (7301, 6), (7302, 6), (7303, 6), (7304, 6), (7305, 6), (7306, 6), (7307, 6), (7308, 6), (7309, 6), (7310, 6), (7311, 6), (7312, 6), (7313, 6), (7314, 6), (7315, 6), (7316, 6), (7317, 6), (7318, 6), (7319, 6), (7320, 6), (7321, 6), (7322, 6), (7323, 6), (7324, 6), (7325, 6), (7326, 6), (7327, 6), (7328, 6), (7329, 6), (7330, 6), (7331, 6), (7332, 6), (7333, 6), (7334, 6), (7335, 6), (7336, 6), (7337, 6), (7338, 6), (7339, 6), (7340, 6), (7341, 6), (7342, 6), (7343, 6), (7344, 6), (7345, 6), (7346, 6), (7347, 6), (7348, 6), (7349, 6), (7350, 6), (7351, 6), (7352, 6), (7353, 6), (7354, 6), (7355, 6), (7356, 6), (7357, 6), (7358, 6), (7359, 6), (7360, 6), (7361, 6), (7362, 6), (7363, 6), (7364, 6), (7365, 6), (7366, 6), (7367, 6), (7368, 6), (7369, 6), (7370, 6), (7371, 6), (7372, 6), (7373, 6), (7374, 6), (7375, 6), (7376, 6), (7377, 6), (7378, 6), (7379, 6), (7380, 6), (7381, 6), (7382, 6), (7383, 6), (7384, 6), (7385, 6), (7386, 6), (7387, 6), (7388, 6), (7389, 6), (7390, 6), (7391, 6), (7392, 6), (7393, 6), (7394, 6), (7395, 6), (7396, 6), (7397, 6), (7398, 6), (7399, 6), (7400, 6), (7401, 6), (7402, 6), (7403, 6), (7404, 6), (7405, 6), (7406, 6), (7407, 6), (7408, 6), (7409, 6), (7410, 6), (7411, 6), (7412, 6), (7413, 6), (7414, 6), (7415, 6), (7416, 6), (7417, 6), (7418, 6), (7419, 6), (7420, 6), (7421, 6), (7422, 6), (7423, 6), (7424, 6), (7425, 6), (7426, 6), (7427, 6), (7428, 6), (7429, 6), (7430, 6), (7431, 6), (7432, 6), (7433, 6), (7434, 6), (7435, 6), (7436, 6), (7437, 6), (7438, 6), (7439, 6), (7440, 6), (7441, 6), (7442, 6), (7443, 6), (7444, 6), (7445, 6), (7446, 6), (7447, 6), (7448, 6), (7449, 6), (7450, 6), (7451, 6), (7452, 6), (7453, 6), (7454, 6), (7455, 6), (7456, 6), (7457, 6), (7458, 6), (7459, 6), (7460, 6), (7461, 6), (7462, 6), (7463, 6), (7464, 6), (7465, 6), (7466, 6), (7467, 6), (7468, 6), (7469, 6), (7470, 6), (7471, 6), (7472, 6), (7473, 6), (7474, 6), (7475, 6), (7476, 6), (7477, 6), (7478, 6), (7479, 6), (7480, 6), (7481, 6), (7482, 6), (7483, 6), (7484, 6), (7485, 6), (7486, 6), (7487, 6), (7488, 6), (7489, 6), (7490, 6), (7491, 6), (7492, 6), (7493, 6), (7494, 6), (7495, 6), (7496, 6), (7497, 6), (7498, 6), (7499, 6), (7500, 6), (7501, 6), (7502, 6), (7503, 6), (7504, 6), (7505, 6), (7506, 6), (7507, 6), (7508, 6), (7509, 6), (7510, 6), (7511, 6), (7512, 6), (7513, 6), (7514, 6), (7515, 6), (7516, 6), (7517, 6), (7518, 6), (7519, 6), (7520, 6), (7521, 6), (7522, 6), (7523, 6), (7524, 6), (7525, 6), (7526, 6), (7527, 6), (7528, 6), (7529, 6), (7530, 6), (7531, 6), (7532, 6), (7533, 6), (7534, 6), (7535, 6), (7536, 6), (7537, 6), (7538, 6), (7539, 6), (7540, 6), (7541, 6), (7542, 6), (7543, 6), (7544, 6), (7545, 6), (7546, 6), (7547, 6), (7548, 6), (7549, 6), (7550, 6), (7551, 6), (7552, 6), (7553, 6), (7554, 6), (7555, 6), (7556, 6), (7557, 6), (7558, 6), (7559, 6), (7560, 6), (7561, 6), (7562, 6), (7563, 6), (7564, 6), (7565, 6), (7566, 6), (7567, 6), (7568, 6), (7569, 6), (7570, 6), (7571, 6), (7572, 6), (7573, 6), (7574, 6), (7575, 6), (7576, 6), (7577, 6), (7578, 6), (7579, 6), (7580, 6), (7581, 6), (7582, 6), (7583, 6), (7584, 6), (7585, 6), (7586, 6), (7587, 6), (7588, 6), (7589, 6), (7590, 6), (7591, 6), (7592, 6), (7593, 6), (7594, 6), (7595, 6), (7596, 6), (7597, 6), (7598, 6), (7599, 6), (7600, 6), (7601, 6), (7602, 6), (7603, 6), (7604, 6), (7605, 6), (7606, 6), (7607, 6), (7608, 6), (7609, 6), (7610, 6), (7611, 6), (7612, 6), (7613, 6), (7614, 6), (7615, 6), (7616, 6), (7617, 6), (7618, 6), (7619, 6), (7620, 6), (7621, 6), (7622, 6), (7623, 6), (7624, 6), (7625, 6), (7626, 6), (7627, 6), (7628, 6), (7629, 6), (7630, 6), (7631, 6), (7632, 6), (7633, 6), (7634, 6), (7635, 6), (7636, 6), (7637, 6), (7638, 6), (7639, 6), (7640, 6), (7641, 6), (7642, 6), (7643, 6), (7644, 6), (7645, 6), (7646, 6), (7647, 6), (7648, 6), (7649, 6), (7650, 6), (7651, 6), (7652, 6), (7653, 6), (7654, 6), (7655, 6), (7656, 6), (7657, 6), (7658, 6), (7659, 6), (7660, 6), (7661, 6), (7662, 6), (7663, 6), (7664, 6), (7665, 6), (7666, 6), (7667, 6), (7668, 6), (7669, 6), (7670, 6), (7671, 6), (7672, 6), (7673, 6), (7674, 6), (7675, 6), (7676, 6), (7677, 6), (7678, 6), (7679, 6), (7680, 6), (7681, 6), (7682, 6), (7683, 6), (7684, 6), (7685, 6), (7686, 6), (7687, 6), (7688, 6), (7689, 6), (7690, 6), (7691, 6), (7692, 6), (7693, 6), (7694, 6), (7695, 6), (7696, 6), (7697, 6), (7698, 6), (7699, 6), (7700, 6), (7701, 6), (7702, 6), (7703, 6), (7704, 6), (7705, 6), (7706, 6), (7707, 6), (7708, 6), (7709, 6), (7710, 6), (7711, 6), (7712, 6), (7713, 6), (7714, 6), (7715, 6), (7716, 6), (7717, 6), (7718, 6), (7719, 6), (7720, 6), (7721, 6), (7722, 6), (7723, 6), (7724, 6), (7725, 6), (7726, 6), (7727, 6), (7728, 6), (7729, 6), (7730, 6), (7731, 6), (7732, 6), (7733, 6), (7734, 6), (7735, 6), (7736, 6), (7737, 6), (7738, 6), (7739, 6), (7740, 6), (7741, 6), (7742, 6), (7743, 6), (7744, 6), (7745, 6), (7746, 6), (7747, 6), (7748, 6), (7749, 6), (7750, 6), (7751, 6), (7752, 6), (7753, 6), (7754, 6), (7755, 6), (7756, 6), (7757, 6), (7758, 6), (7759, 6), (7760, 6), (7761, 6), (7762, 6), (7763, 4), (7764, 4), (7765, 4), (7766, 4), (7767, 4), (7768, 4), (7769, 4), (7770, 4), (7771, 4), (7772, 4), (7773, 4), (7774, 4), (7775, 4), (7776, 4), (7777, 4), (7778, 4), (7779, 4), (7780, 4), (7781, 4), (7782, 4), (7783, 4), (7784, 4), (7785, 4), (7786, 4), (7787, 4), (7788, 4), (7789, 4), (7790, 4), (7791, 4), (7792, 4), (7793, 4), (7794, 4), (7795, 4), (7796, 4), (7797, 4), (7798, 4), (7799, 4), (7800, 4), (7801, 4), (7802, 4), (7803, 4), (7804, 4), (7805, 4), (7806, 4), (7807, 4), (7808, 4), (7809, 4), (7810, 4), (7811, 4), (7812, 4), (7813, 4), (7814, 4), (7815, 4), (7816, 4), (7817, 4), (7818, 4), (7819, 4), (7820, 4), (7821, 4), (7822, 4), (7823, 4), (7824, 4), (7825, 4), (7826, 4), (7827, 4), (7828, 4), (7829, 4), (7830, 4), (7831, 4), (7832, 4), (7833, 4), (7834, 4), (7835, 4), (7836, 4), (7837, 4), (7838, 4), (7839, 4), (7840, 4), (7841, 4), (7842, 4), (7843, 4), (7844, 4), (7845, 4), (7846, 4), (7847, 4), (7848, 4), (7849, 4), (7850, 4), (7851, 4), (7852, 4), (7853, 4), (7854, 4), (7855, 4), (7856, 4), (7857, 4), (7858, 4), (7859, 4), (7860, 4), (7861, 4), (7862, 4), (7863, 4), (7864, 4), (7865, 4), (7866, 4), (7867, 4), (7868, 4), (7869, 4), (7870, 4), (7871, 4), (7872, 4), (7873, 4), (7874, 4), (7875, 4), (7876, 4), (7877, 4), (7878, 4), (7879, 4), (7880, 4), (7881, 4), (7882, 4), (7883, 4), (7884, 4), (7885, 4), (7886, 4), (7887, 4), (7888, 4), (7889, 4), (7890, 4), (7891, 4), (7892, 4), (7893, 4), (7894, 4), (7895, 4), (7896, 4), (7897, 4), (7898, 4), (7899, 4), (7900, 4), (7901, 4), (7902, 4), (7903, 4), (7904, 4), (7905, 4), (7906, 4), (7907, 4), (7908, 4), (7909, 4), (7910, 4), (7911, 4), (7912, 4), (7913, 4), (7914, 4), (7915, 4), (7916, 4), (7917, 4), (7918, 4), (7919, 4), (7920, 4), (7921, 4), (7922, 4), (7923, 4), (7924, 4), (7925, 4), (7926, 4), (7927, 4), (7928, 4), (7929, 4), (7930, 4), (7931, 4), (7932, 4), (7933, 4), (7934, 4), (7935, 4), (7936, 4), (7937, 4), (7938, 4), (7939, 4), (7940, 4), (7941, 4), (7942, 4), (7943, 4), (7944, 4), (7945, 4), (7946, 4), (7947, 4), (7948, 4), (7949, 4), (7950, 4), (7951, 4), (7952, 4), (7953, 4), (7954, 4), (7955, 4), (7956, 4), (7957, 4), (7958, 4), (7959, 4), (7960, 4), (7961, 4), (7962, 4), (7963, 4), (7964, 4), (7965, 4), (7966, 4), (7967, 4), (7968, 4), (7969, 4), (7970, 4), (7971, 4), (7972, 4), (7973, 4), (7974, 4), (7975, 4), (7976, 4), (7977, 4), (7978, 4), (7979, 4), (7980, 4), (7981, 4), (7982, 4), (7983, 4), (7984, 4), (7985, 4), (7986, 4), (7987, 4), (7988, 4), (7989, 4), (7990, 4), (7991, 4), (7992, 4), (7993, 4), (7994, 4), (7995, 4), (7996, 4), (7997, 4), (7998, 4), (7999, 4), (8000, 4), (8001, 4), (8002, 4), (8003, 4), (8004, 4), (8005, 4), (8006, 4), (8007, 4), (8008, 4), (8009, 4), (8010, 4), (8011, 4), (8012, 4), (8013, 4), (8014, 4), (8015, 4), (8016, 4), (8017, 4), (8018, 4), (8019, 4), (8020, 4), (8021, 4), (8022, 4), (8023, 4), (8024, 4), (8025, 4), (8026, 4), (8027, 4), (8028, 4), (8029, 4), (8030, 4), (8031, 4), (8032, 4), (8033, 4), (8034, 4), (8035, 4), (8036, 4), (8037, 4), (8038, 4), (8039, 4), (8040, 4), (8041, 4), (8042, 4), (8043, 4), (8044, 4), (8045, 4), (8046, 4), (8047, 4), (8048, 4), (8049, 4), (8050, 4), (8051, 4), (8052, 4), (8053, 4), (8054, 4), (8055, 4), (8056, 4), (8057, 4), (8058, 4), (8059, 4), (8060, 4), (8061, 4), (8062, 4), (8063, 4), (8064, 4), (8065, 4), (8066, 4), (8067, 4), (8068, 4), (8069, 4), (8070, 4), (8071, 4), (8072, 4), (8073, 4), (8074, 4), (8075, 4), (8076, 4), (8077, 4), (8078, 4), (8079, 4), (8080, 4), (8081, 4), (8082, 4), (8083, 4), (8084, 4), (8085, 4), (8086, 4), (8087, 4), (8088, 4), (8089, 4), (8090, 4), (8091, 4), (8092, 4), (8093, 4), (8094, 4), (8095, 4), (8096, 4), (8097, 4), (8098, 4), (8099, 4), (8100, 4), (8101, 4), (8102, 4), (8103, 4), (8104, 4), (8105, 4), (8106, 4), (8107, 4), (8108, 4), (8109, 4), (8110, 4), (8111, 4), (8112, 4), (8113, 4), (8114, 4), (8115, 4), (8116, 4), (8117, 4), (8118, 4), (8119, 4), (8120, 4), (8121, 4), (8122, 4), (8123, 4), (8124, 4), (8125, 4), (8126, 4), (8127, 4), (8128, 4), (8129, 4), (8130, 4), (8131, 4), (8132, 4), (8133, 4), (8134, 4), (8135, 4), (8136, 4), (8137, 4), (8138, 4), (8139, 4), (8140, 4), (8141, 4), (8142, 4), (8143, 4), (8144, 4), (8145, 4), (8146, 4), (8147, 4), (8148, 4), (8149, 4), (8150, 4), (8151, 4), (8152, 4), (8153, 4), (8154, 4), (8155, 4), (8156, 4), (8157, 4), (8158, 4), (8159, 4), (8160, 4), (8161, 4), (8162, 4), (8163, 4), (8164, 4), (8165, 4), (8166, 4), (8167, 4), (8168, 4), (8169, 4), (8170, 4), (8171, 4), (8172, 4), (8173, 4), (8174, 4), (8175, 4), (8176, 4), (8177, 4), (8178, 4), (8179, 4), (8180, 4), (8181, 4), (8182, 4), (8183, 4), (8184, 4), (8185, 4), (8186, 4), (8187, 4), (8188, 4), (8189, 4), (8190, 4), (8191, 4), (8192, 4), (8193, 4), (8194, 4), (8195, 4), (8196, 4), (8197, 4), (8198, 4), (8199, 4), (8200, 4), (8201, 4), (8202, 4), (8203, 4), (8204, 4), (8205, 4), (8206, 4), (8207, 4), (8208, 4), (8209, 4), (8210, 4), (8211, 4), (8212, 4), (8213, 4), (8214, 4), (8215, 4), (8216, 4), (8217, 4), (8218, 4), (8219, 4), (8220, 4), (8221, 4), (8222, 4), (8223, 4), (8224, 4), (8225, 4), (8226, 4), (8227, 4), (8228, 4), (8229, 4), (8230, 4), (8231, 4), (8232, 4), (8233, 4), (8234, 4), (8235, 4), (8236, 4), (8237, 4), (8238, 4), (8239, 4), (8240, 4), (8241, 4), (8242, 4), (8243, 4), (8244, 4), (8245, 4), (8246, 4), (8247, 4), (8248, 4), (8249, 4), (8250, 4), (8251, 4), (8252, 4), (8253, 4), (8254, 4), (8255, 4), (8256, 4), (8257, 4), (8258, 4), (8259, 4), (8260, 4), (8261, 4), (8262, 4), (8263, 4), (8264, 4), (8265, 4), (8266, 4), (8267, 4), (8268, 4), (8269, 4), (8270, 4), (8271, 4), (8272, 4), (8273, 4), (8274, 4), (8275, 4), (8276, 4), (8277, 4), (8278, 4), (8279, 4), (8280, 4), (8281, 4), (8282, 4), (8283, 4), (8284, 4), (8285, 4), (8286, 4), (8287, 4), (8288, 4), (8289, 4), (8290, 4), (8291, 4), (8292, 4), (8293, 4), (8294, 4), (8295, 4), (8296, 4), (8297, 4), (8298, 4), (8299, 4), (8300, 4), (8301, 4), (8302, 4), (8303, 4), (8304, 4), (8305, 4), (8306, 4), (8307, 4), (8308, 4), (8309, 4), (8310, 4), (8311, 4), (8312, 4), (8313, 4), (8314, 4), (8315, 4), (8316, 4), (8317, 4), (8318, 4), (8319, 4), (8320, 4), (8321, 4), (8322, 4), (8323, 4), (8324, 4), (8325, 4), (8326, 4), (8327, 4), (8328, 4), (8329, 4), (8330, 4), (8331, 4), (8332, 4), (8333, 4), (8334, 4), (8335, 4), (8336, 4), (8337, 4), (8338, 4), (8339, 4), (8340, 4), (8341, 4), (8342, 4), (8343, 4), (8344, 4), (8345, 4), (8346, 4), (8347, 4), (8348, 4), (8349, 4), (8350, 4), (8351, 4), (8352, 4), (8353, 4), (8354, 4), (8355, 4), (8356, 4), (8357, 4), (8358, 4), (8359, 4), (8360, 4), (8361, 4), (8362, 4), (8363, 4), (8364, 4), (8365, 4), (8366, 4), (8367, 4), (8368, 4), (8369, 4), (8370, 4), (8371, 4), (8372, 4), (8373, 4), (8374, 4), (8375, 4), (8376, 4), (8377, 4), (8378, 4), (8379, 4), (8380, 4), (8381, 4), (8382, 4), (8383, 4), (8384, 4), (8385, 4), (8386, 4), (8387, 4), (8388, 4), (8389, 4), (8390, 4), (8391, 4), (8392, 4), (8393, 4), (8394, 4), (8395, 4), (8396, 4), (8397, 4), (8398, 4), (8399, 4), (8400, 4), (8401, 4), (8402, 4), (8403, 4), (8404, 4), (8405, 4), (8406, 4), (8407, 4), (8408, 4), (8409, 4), (8410, 4), (8411, 4), (8412, 4), (8413, 4), (8414, 4), (8415, 4), (8416, 4), (8417, 4), (8418, 4), (8419, 4), (8420, 4), (8421, 4), (8422, 4), (8423, 4), (8424, 4), (8425, 4), (8426, 4), (8427, 4), (8428, 4), (8429, 4), (8430, 4), (8431, 4), (8432, 4), (8433, 4), (8434, 4), (8435, 4), (8436, 4), (8437, 4), (8438, 4), (8439, 4), (8440, 4), (8441, 4), (8442, 4), (8443, 4), (8444, 4), (8445, 4), (8446, 4), (8447, 4), (8448, 4), (8449, 4), (8450, 4), (8451, 4), (8452, 4), (8453, 4), (8454, 4), (8455, 4), (8456, 4), (8457, 4), (8458, 4), (8459, 4), (8460, 4), (8461, 4), (8462, 4), (8463, 4), (8464, 4), (8465, 4), (8466, 4), (8467, 4), (8468, 4), (8469, 4), (8470, 4), (8471, 4), (8472, 4), (8473, 4), (8474, 4), (8475, 4), (8476, 4), (8477, 4), (8478, 4), (8479, 4), (8480, 4), (8481, 4), (8482, 4), (8483, 4), (8484, 4), (8485, 4), (8486, 4), (8487, 4), (8488, 4), (8489, 4), (8490, 4), (8491, 4), (8492, 4), (8493, 4), (8494, 4), (8495, 4), (8496, 4), (8497, 4), (8498, 4), (8499, 4), (8500, 4), (8501, 4), (8502, 4), (8503, 4), (8504, 4), (8505, 4), (8506, 4), (8507, 4), (8508, 4), (8509, 4), (8510, 4), (8511, 4), (8512, 4), (8513, 4), (8514, 4), (8515, 4), (8516, 4), (8517, 4), (8518, 4), (8519, 4), (8520, 4), (8521, 4), (8522, 4), (8523, 4), (8524, 4), (8525, 4), (8526, 4), (8527, 4), (8528, 4), (8529, 4), (8530, 4), (8531, 4), (8532, 4), (8533, 4), (8534, 4), (8535, 4), (8536, 4), (8537, 4), (8538, 4), (8539, 4), (8540, 4), (8541, 4), (8542, 4), (8543, 4), (8544, 4), (8545, 4), (8546, 4), (8547, 4), (8548, 4), (8549, 4), (8550, 4), (8551, 4), (8552, 4), (8553, 4), (8554, 4), (8555, 4), (8556, 4), (8557, 4), (8558, 4), (8559, 4), (8560, 4), (8561, 4), (8562, 4), (8563, 4), (8564, 4), (8565, 4), (8566, 4), (8567, 4), (8568, 4), (8569, 4), (8570, 4), (8571, 4), (8572, 4), (8573, 4), (8574, 4), (8575, 4), (8576, 4), (8577, 4), (8578, 4), (8579, 4), (8580, 4), (8581, 4), (8582, 4), (8583, 4), (8584, 4), (8585, 4), (8586, 4), (8587, 4), (8588, 4), (8589, 4), (8590, 4), (8591, 4), (8592, 4), (8593, 4), (8594, 4), (8595, 4), (8596, 4), (8597, 4), (8598, 4), (8599, 4), (8600, 4), (8601, 4), (8602, 4), (8603, 4), (8604, 4), (8605, 4), (8606, 4), (8607, 4), (8608, 4), (8609, 4), (8610, 4), (8611, 4), (8612, 4), (8613, 4), (8614, 4), (8615, 4), (8616, 4), (8617, 4), (8618, 4), (8619, 4), (8620, 4), (8621, 4), (8622, 4), (8623, 4), (8624, 4), (8625, 4), (8626, 4), (8627, 4), (8628, 4), (8629, 4), (8630, 4), (8631, 4), (8632, 4), (8633, 4), (8634, 4), (8635, 4), (8636, 4), (8637, 4), (8638, 4), (8639, 4), (8640, 4), (8641, 4), (8642, 4), (8643, 4), (8644, 4), (8645, 4), (8646, 4), (8647, 4), (8648, 4), (8649, 4), (8650, 4), (8651, 4), (8652, 4), (8653, 4), (8654, 4), (8655, 4), (8656, 4), (8657, 4), (8658, 4), (8659, 4), (8660, 4), (8661, 4), (8662, 4), (8663, 4), (8664, 4), (8665, 4), (8666, 4), (8667, 4), (8668, 4), (8669, 4), (8670, 4), (8671, 4), (8672, 4), (8673, 4), (8674, 4), (8675, 4), (8676, 4), (8677, 4), (8678, 4), (8679, 4), (8680, 4), (8681, 4), (8682, 4), (8683, 4), (8684, 4), (8685, 4), (8686, 4), (8687, 4), (8688, 4), (8689, 4), (8690, 4), (8691, 4), (8692, 4), (8693, 4), (8694, 4), (8695, 4), (8696, 4), (8697, 4), (8698, 4), (8699, 4), (8700, 4), (8701, 4), (8702, 4), (8703, 4), (8704, 4), (8705, 4), (8706, 4), (8707, 4), (8708, 4), (8709, 4), (8710, 4), (8711, 4), (8712, 4), (8713, 4), (8714, 4), (8715, 4), (8716, 4), (8717, 4), (8718, 4), (8719, 4), (8720, 4), (8721, 4), (8722, 4), (8723, 4), (8724, 4), (8725, 4), (8726, 4), (8727, 4), (8728, 4), (8729, 4), (8730, 4), (8731, 4), (8732, 4), (8733, 4), (8734, 4), (8735, 4), (8736, 4), (8737, 4), (8738, 4), (8739, 4), (8740, 4), (8741, 4), (8742, 4), (8743, 4), (8744, 4), (8745, 4), (8746, 4), (8747, 4), (8748, 4), (8749, 4), (8750, 4), (8751, 4), (8752, 4), (8753, 4), (8754, 4), (8755, 4), (8756, 4), (8757, 4), (8758, 4), (8759, 4), (8760, 4), (8761, 4), (8762, 4), (8763, 4), (8764, 4), (8765, 4), (8766, 4), (8767, 4), (8768, 4), (8769, 4), (8770, 4), (8771, 4), (8772, 4), (8773, 4), (8774, 4), (8775, 4), (8776, 4), (8777, 4), (8778, 4), (8779, 4), (8780, 4), (8781, 4), (8782, 4), (8783, 4), (8784, 4), (8785, 4), (8786, 4), (8787, 4), (8788, 4), (8789, 4), (8790, 4), (8791, 4), (8792, 4), (8793, 4), (8794, 4), (8795, 4), (8796, 4), (8797, 4), (8798, 4), (8799, 4), (8800, 4), (8801, 4), (8802, 4), (8803, 4), (8804, 4), (8805, 4), (8806, 4), (8807, 4), (8808, 4), (8809, 4), (8810, 4), (8811, 4), (8812, 4), (8813, 4), (8814, 4), (8815, 4), (8816, 4), (8817, 4), (8818, 4), (8819, 4), (8820, 4), (8821, 4), (8822, 4), (8823, 4), (8824, 4), (8825, 4), (8826, 4), (8827, 4), (8828, 4), (8829, 4), (8830, 4), (8831, 4), (8832, 4), (8833, 4), (8834, 4), (8835, 4), (8836, 4), (8837, 4), (8838, 4), (8839, 4), (8840, 4), (8841, 4), (8842, 4), (8843, 4), (8844, 4), (8845, 4), (8846, 4), (8847, 4), (8848, 4), (8849, 4), (8850, 4), (8851, 4), (8852, 4), (8853, 4), (8854, 4), (8855, 4), (8856, 4), (8857, 4), (8858, 4), (8859, 4), (8860, 4), (8861, 4), (8862, 4), (8863, 4), (8864, 4), (8865, 4), (8866, 4), (8867, 4), (8868, 4), (8869, 4), (8870, 4), (8871, 4), (8872, 4), (8873, 4), (8874, 4), (8875, 4), (8876, 4), (8877, 4), (8878, 4), (8879, 4), (8880, 4), (8881, 4), (8882, 4), (8883, 4), (8884, 4), (8885, 4), (8886, 4), (8887, 4), (8888, 4), (8889, 4), (8890, 4), (8891, 4), (8892, 4), (8893, 4), (8894, 4), (8895, 4), (8896, 4), (8897, 4), (8898, 4), (8899, 4), (8900, 4), (8901, 4), (8902, 4), (8903, 4), (8904, 4), (8905, 4), (8906, 4), (8907, 4), (8908, 4), (8909, 4), (8910, 4), (8911, 4), (8912, 4), (8913, 4), (8914, 4), (8915, 4), (8916, 4), (8917, 4), (8918, 4), (8919, 4), (8920, 4), (8921, 4), (8922, 4), (8923, 4), (8924, 4), (8925, 4), (8926, 4), (8927, 4), (8928, 4), (8929, 4), (8930, 4), (8931, 4), (8932, 4), (8933, 4), (8934, 4), (8935, 4), (8936, 4), (8937, 4), (8938, 4), (8939, 4), (8940, 4), (8941, 4), (8942, 4), (8943, 4), (8944, 4), (8945, 4), (8946, 4), (8947, 4), (8948, 4), (8949, 4), (8950, 4), (8951, 4), (8952, 4), (8953, 4), (8954, 4), (8955, 4), (8956, 4), (8957, 4), (8958, 4), (8959, 4), (8960, 4), (8961, 4), (8962, 4), (8963, 4), (8964, 4), (8965, 4), (8966, 4), (8967, 4), (8968, 4), (8969, 4), (8970, 4), (8971, 4), (8972, 4), (8973, 4), (8974, 4), (8975, 4), (8976, 4), (8977, 4), (8978, 4), (8979, 4), (8980, 4), (8981, 4), (8982, 4), (8983, 4), (8984, 4), (8985, 4), (8986, 4), (8987, 4), (8988, 4), (8989, 4), (8990, 4), (8991, 4), (8992, 4), (8993, 4), (8994, 4), (8995, 4), (8996, 4), (8997, 4), (8998, 4), (8999, 4), (9000, 4), (9001, 4), (9002, 4), (9003, 4), (9004, 4), (9005, 4), (9006, 4), (9007, 4), (9008, 4), (9009, 4), (9010, 4), (9011, 4), (9012, 4), (9013, 4), (9014, 4), (9015, 4), (9016, 4), (9017, 4), (9018, 4), (9019, 4), (9020, 4), (9021, 4), (9022, 4), (9023, 4), (9024, 4), (9025, 4), (9026, 4), (9027, 4), (9028, 4), (9029, 4), (9030, 4), (9031, 4), (9032, 4), (9033, 4), (9034, 4), (9035, 4), (9036, 4), (9037, 4), (9038, 4), (9039, 4), (9040, 4), (9041, 4), (9042, 4), (9043, 4), (9044, 4), (9045, 4), (9046, 4), (9047, 4), (9048, 4), (9049, 4), (9050, 4), (9051, 4), (9052, 4), (9053, 4), (9054, 4), (9055, 4), (9056, 4), (9057, 4), (9058, 4), (9059, 4), (9060, 4), (9061, 4), (9062, 4), (9063, 4), (9064, 4), (9065, 4), (9066, 4), (9067, 4), (9068, 4), (9069, 4), (9070, 4), (9071, 4), (9072, 4), (9073, 4), (9074, 4), (9075, 4), (9076, 4), (9077, 4), (9078, 4), (9079, 4), (9080, 4), (9081, 4), (9082, 4), (9083, 4), (9084, 4), (9085, 4), (9086, 4), (9087, 4), (9088, 4), (9089, 4), (9090, 4), (9091, 4), (9092, 4), (9093, 4), (9094, 4), (9095, 4), (9096, 4), (9097, 4), (9098, 4), (9099, 4), (9100, 4), (9101, 4), (9102, 4), (9103, 4), (9104, 4), (9105, 4), (9106, 4), (9107, 4), (9108, 4), (9109, 4), (9110, 4), (9111, 4), (9112, 4), (9113, 4), (9114, 4), (9115, 4), (9116, 4), (9117, 4), (9118, 4), (9119, 4), (9120, 4), (9121, 4), (9122, 4), (9123, 4), (9124, 4), (9125, 4), (9126, 4), (9127, 4), (9128, 4), (9129, 4), (9130, 4), (9131, 4), (9132, 4), (9133, 4), (9134, 4), (9135, 4), (9136, 4), (9137, 4), (9138, 4), (9139, 4), (9140, 4), (9141, 4), (9142, 4), (9143, 4), (9144, 4), (9145, 4), (9146, 4), (9147, 4), (9148, 4), (9149, 4), (9150, 4), (9151, 4), (9152, 4), (9153, 4), (9154, 4), (9155, 4), (9156, 4), (9157, 4), (9158, 4), (9159, 4), (9160, 4), (9161, 4), (9162, 4), (9163, 4), (9164, 4), (9165, 4), (9166, 4), (9167, 4), (9168, 4), (9169, 4), (9170, 4), (9171, 4), (9172, 4), (9173, 4), (9174, 4), (9175, 4), (9176, 4), (9177, 4), (9178, 4), (9179, 4), (9180, 4), (9181, 4), (9182, 4), (9183, 4), (9184, 4), (9185, 4), (9186, 4), (9187, 4), (9188, 4), (9189, 4), (9190, 4), (9191, 4), (9192, 4), (9193, 4), (9194, 4), (9195, 4), (9196, 4), (9197, 4), (9198, 4), (9199, 4), (9200, 4), (9201, 4), (9202, 4), (9203, 4), (9204, 4), (9205, 4), (9206, 4), (9207, 4), (9208, 4), (9209, 4), (9210, 4), (9211, 4), (9212, 4), (9213, 4), (9214, 4), (9215, 4), (9216, 4), (9217, 4), (9218, 4), (9219, 4), (9220, 4), (9221, 4), (9222, 4), (9223, 4), (9224, 4), (9225, 4), (9226, 4), (9227, 4), (9228, 4), (9229, 4), (9230, 4), (9231, 4), (9232, 4), (9233, 4), (9234, 4), (9235, 4), (9236, 4), (9237, 4), (9238, 4), (9239, 4), (9240, 4), (9241, 4), (9242, 4), (9243, 4), (9244, 4), (9245, 4), (9246, 4), (9247, 4), (9248, 4), (9249, 4), (9250, 4), (9251, 4), (9252, 4), (9253, 4), (9254, 4), (9255, 4), (9256, 4), (9257, 4), (9258, 4), (9259, 4), (9260, 4), (9261, 4), (9262, 4), (9263, 4), (9264, 4), (9265, 4), (9266, 4), (9267, 4), (9268, 4), (9269, 4), (9270, 4), (9271, 4), (9272, 4), (9273, 4), (9274, 4), (9275, 4), (9276, 4), (9277, 4), (9278, 4), (9279, 4), (9280, 4), (9281, 4), (9282, 4), (9283, 4), (9284, 4), (9285, 4), (9286, 4), (9287, 4), (9288, 4), (9289, 4), (9290, 4), (9291, 4), (9292, 4), (9293, 4), (9294, 4), (9295, 4), (9296, 4), (9297, 4), (9298, 4), (9299, 4), (9300, 4), (9301, 4), (9302, 4), (9303, 4), (9304, 4), (9305, 4), (9306, 4), (9307, 4), (9308, 4), (9309, 4), (9310, 4), (9311, 4), (9312, 4), (9313, 4), (9314, 4), (9315, 4), (9316, 4), (9317, 4), (9318, 4), (9319, 4), (9320, 4), (9321, 4), (9322, 4), (9323, 4), (9324, 4), (9325, 4), (9326, 4), (9327, 4), (9328, 4), (9329, 4), (9330, 4), (9331, 4), (9332, 4), (9333, 4), (9334, 4), (9335, 4), (9336, 4), (9337, 4), (9338, 4), (9339, 4), (9340, 4), (9341, 4), (9342, 4), (9343, 4), (9344, 4), (9345, 4), (9346, 4), (9347, 4), (9348, 4), (9349, 4), (9350, 4), (9351, 4), (9352, 4), (9353, 4), (9354, 4), (9355, 4), (9356, 4), (9357, 4), (9358, 4), (9359, 4), (9360, 4), (9361, 4), (9362, 4), (9363, 4), (9364, 4), (9365, 4), (9366, 4), (9367, 4), (9368, 4), (9369, 4), (9370, 4), (9371, 4), (9372, 4), (9373, 4), (9374, 4), (9375, 4), (9376, 4), (9377, 4), (9378, 4), (9379, 4), (9380, 4), (9381, 4), (9382, 4), (9383, 4), (9384, 4), (9385, 4), (9386, 4), (9387, 4), (9388, 4), (9389, 4), (9390, 4), (9391, 4), (9392, 4), (9393, 4), (9394, 4), (9395, 4), (9396, 4), (9397, 4), (9398, 4), (9399, 4), (9400, 4), (9401, 4), (9402, 4), (9403, 4), (9404, 4), (9405, 4), (9406, 4), (9407, 4), (9408, 4), (9409, 4), (9410, 4), (9411, 4), (9412, 4), (9413, 4), (9414, 4), (9415, 4), (9416, 4), (9417, 4), (9418, 4), (9419, 4), (9420, 4), (9421, 4), (9422, 4), (9423, 4), (9424, 4), (9425, 4), (9426, 4), (9427, 4), (9428, 4), (9429, 4), (9430, 4), (9431, 4), (9432, 4), (9433, 4), (9434, 4), (9435, 4), (9436, 4), (9437, 4), (9438, 4), (9439, 4), (9440, 4), (9441, 4), (9442, 4), (9443, 4), (9444, 4), (9445, 4), (9446, 4), (9447, 4), (9448, 4), (9449, 4), (9450, 4), (9451, 4), (9452, 4), (9453, 4), (9454, 4), (9455, 4), (9456, 4), (9457, 4), (9458, 4), (9459, 4), (9460, 4), (9461, 4), (9462, 4), (9463, 4), (9464, 4), (9465, 4), (9466, 4), (9467, 4), (9468, 4), (9469, 4), (9470, 4), (9471, 4), (9472, 4), (9473, 4), (9474, 4), (9475, 4), (9476, 4), (9477, 4), (9478, 4), (9479, 4), (9480, 4), (9481, 4), (9482, 4), (9483, 4), (9484, 4), (9485, 4), (9486, 4), (9487, 4), (9488, 4), (9489, 4), (9490, 4), (9491, 4), (9492, 4), (9493, 4), (9494, 4), (9495, 4), (9496, 4), (9497, 4), (9498, 4), (9499, 4), (9500, 4), (9501, 4), (9502, 4), (9503, 4), (9504, 4), (9505, 4), (9506, 4), (9507, 4), (9508, 4), (9509, 4), (9510, 4), (9511, 4), (9512, 4), (9513, 4), (9514, 4), (9515, 4), (9516, 4), (9517, 4), (9518, 4), (9519, 4), (9520, 4), (9521, 4), (9522, 4), (9523, 4), (9524, 4), (9525, 4), (9526, 4), (9527, 4), (9528, 4), (9529, 4), (9530, 4), (9531, 4), (9532, 4), (9533, 4), (9534, 4), (9535, 4), (9536, 4), (9537, 4), (9538, 4), (9539, 4), (9540, 4), (9541, 4), (9542, 4), (9543, 4), (9544, 4), (9545, 4), (9546, 4), (9547, 4), (9548, 4), (9549, 4), (9550, 4), (9551, 4), (9552, 4), (9553, 4), (9554, 4), (9555, 4), (9556, 4), (9557, 4), (9558, 4), (9559, 4), (9560, 4), (9561, 4), (9562, 4), (9563, 4), (9564, 4), (9565, 4), (9566, 4), (9567, 4), (9568, 4), (9569, 4), (9570, 4), (9571, 4), (9572, 4), (9573, 4), (9574, 4), (9575, 4), (9576, 4), (9577, 4), (9578, 4), (9579, 4), (9580, 4), (9581, 4), (9582, 4), (9583, 4), (9584, 4), (9585, 4), (9586, 4), (9587, 4), (9588, 4), (9589, 4), (9590, 4), (9591, 4), (9592, 4), (9593, 4), (9594, 4), (9595, 4), (9596, 4), (9597, 4), (9598, 4), (9599, 4), (9600, 4), (9601, 4), (9602, 4), (9603, 4), (9604, 4), (9605, 4), (9606, 4), (9607, 4), (9608, 4), (9609, 4), (9610, 4), (9611, 4), (9612, 4), (9613, 4), (9614, 4), (9615, 4), (9616, 4), (9617, 4), (9618, 4), (9619, 4), (9620, 4), (9621, 4), (9622, 4), (9623, 4), (9624, 4), (9625, 4), (9626, 4), (9627, 4), (9628, 4), (9629, 4), (9630, 4), (9631, 4), (9632, 4), (9633, 4), (9634, 4), (9635, 4), (9636, 4), (9637, 4), (9638, 4), (9639, 4), (9640, 4), (9641, 4), (9642, 4), (9643, 4), (9644, 4), (9645, 4), (9646, 4), (9647, 4), (9648, 4), (9649, 4), (9650, 4), (9651, 4), (9652, 4), (9653, 4), (9654, 4), (9655, 4), (9656, 4), (9657, 4), (9658, 4), (9659, 4), (9660, 4), (9661, 4), (9662, 4), (9663, 4), (9664, 4), (9665, 4), (9666, 4), (9667, 4), (9668, 4), (9669, 4), (9670, 4), (9671, 4), (9672, 4), (9673, 4), (9674, 4), (9675, 4), (9676, 4), (9677, 4), (9678, 4), (9679, 4), (9680, 4), (9681, 4), (9682, 4), (9683, 4), (9684, 4), (9685, 4), (9686, 4), (9687, 4), (9688, 4), (9689, 4), (9690, 4), (9691, 4), (9692, 4), (9693, 4), (9694, 4), (9695, 4), (9696, 4), (9697, 4), (9698, 4), (9699, 4), (9700, 4), (9701, 4), (9702, 4), (9703, 4), (9704, 4), (9705, 4), (9706, 4), (9707, 4), (9708, 4), (9709, 4), (9710, 4), (9711, 4), (9712, 4), (9713, 4), (9714, 4), (9715, 4), (9716, 4), (9717, 4), (9718, 4), (9719, 4), (9720, 4), (9721, 4), (9722, 4), (9723, 4), (9724, 4), (9725, 4), (9726, 4), (9727, 4), (9728, 4), (9729, 4), (9730, 4), (9731, 4), (9732, 4), (9733, 4), (9734, 4), (9735, 4), (9736, 4), (9737, 4), (9738, 4), (9739, 4), (9740, 4), (9741, 4), (9742, 4), (9743, 4), (9744, 4), (9745, 4), (9746, 4), (9747, 4), (9748, 4), (9749, 4), (9750, 4), (9751, 4), (9752, 4), (9753, 4), (9754, 4), (9755, 4), (9756, 4), (9757, 4), (9758, 4), (9759, 4), (9760, 4), (9761, 4), (9762, 4), (9763, 4), (9764, 4), (9765, 4), (9766, 4), (9767, 4), (9768, 4), (9769, 4), (9770, 4), (9771, 4), (9772, 4), (9773, 4), (9774, 4), (9775, 4), (9776, 4), (9777, 4), (9778, 4), (9779, 4), (9780, 4), (9781, 4), (9782, 4), (9783, 4), (9784, 4), (9785, 4), (9786, 4), (9787, 4), (9788, 4), (9789, 4), (9790, 4), (9791, 4), (9792, 4), (9793, 4), (9794, 4), (9795, 4), (9796, 4), (9797, 4), (9798, 4), (9799, 4), (9800, 4), (9801, 4), (9802, 4), (9803, 4), (9804, 4), (9805, 4), (9806, 4), (9807, 4), (9808, 4), (9809, 4), (9810, 4), (9811, 4), (9812, 4), (9813, 4), (9814, 4), (9815, 4), (9816, 4), (9817, 4), (9818, 4), (9819, 4), (9820, 4), (9821, 4), (9822, 4), (9823, 4), (9824, 4), (9825, 4), (9826, 4), (9827, 4), (9828, 4), (9829, 4), (9830, 4), (9831, 4), (9832, 4), (9833, 4), (9834, 4), (9835, 4), (9836, 4), (9837, 4), (9838, 4), (9839, 4), (9840, 4), (9841, 4), (9842, 4), (9843, 4), (9844, 4), (9845, 4), (9846, 4), (9847, 4), (9848, 4), (9849, 4), (9850, 4), (9851, 4), (9852, 4), (9853, 4), (9854, 4), (9855, 4), (9856, 4), (9857, 4), (9858, 4), (9859, 4), (9860, 4), (9861, 4), (9862, 4), (9863, 4), (9864, 4), (9865, 4), (9866, 4), (9867, 4), (9868, 4), (9869, 4), (9870, 4), (9871, 4), (9872, 4), (9873, 4), (9874, 4), (9875, 4), (9876, 4), (9877, 4), (9878, 4), (9879, 4), (9880, 4), (9881, 4), (9882, 4), (9883, 4), (9884, 4), (9885, 4), (9886, 4), (9887, 4), (9888, 4), (9889, 4), (9890, 4), (9891, 4), (9892, 4), (9893, 4), (9894, 4), (9895, 4), (9896, 4), (9897, 4), (9898, 4), (9899, 4), (9900, 4), (9901, 4), (9902, 4), (9903, 4), (9904, 4), (9905, 4), (9906, 4), (9907, 4), (9908, 4), (9909, 4), (9910, 4), (9911, 4), (9912, 4), (9913, 4), (9914, 4), (9915, 4), (9916, 4), (9917, 4), (9918, 4), (9919, 4), (9920, 4), (9921, 4), (9922, 4), (9923, 4), (9924, 4), (9925, 4), (9926, 4), (9927, 4), (9928, 4), (9929, 4), (9930, 4), (9931, 4), (9932, 4), (9933, 4), (9934, 4), (9935, 4), (9936, 4), (9937, 4), (9938, 4), (9939, 4), (9940, 4), (9941, 4), (9942, 4), (9943, 4), (9944, 4), (9945, 4), (9946, 4), (9947, 4), (9948, 4), (9949, 4), (9950, 4), (9951, 4), (9952, 4), (9953, 4), (9954, 4), (9955, 4), (9956, 4), (9957, 4), (9958, 4), (9959, 4), (9960, 4), (9961, 4), (9962, 4), (9963, 4), (9964, 4), (9965, 4), (9966, 4), (9967, 4), (9968, 4), (9969, 4), (9970, 4), (9971, 4), (9972, 4), (9973, 4), (9974, 4), (9975, 4), (9976, 4), (9977, 4), (9978, 4), (9979, 4), (9980, 4), (9981, 4), (9982, 4), (9983, 4), (9984, 4), (9985, 4), (9986, 4), (9987, 4), (9988, 4), (9989, 4), (9990, 4), (9991, 4), (9992, 4), (9993, 4), (9994, 4), (9995, 4), (9996, 4), (9997, 4), (9998, 4), (9999, 4), (10000, 4), (10001, 4), (10002, 4), (10003, 4), (10004, 4), (10005, 4), (10006, 4), (10007, 4), (10008, 4), (10009, 4), (10010, 4), (10011, 4), (10012, 4), (10013, 4), (10014, 4), (10015, 4), (10016, 4), (10017, 4), (10018, 4), (10019, 4), (10020, 4), (10021, 4), (10022, 4), (10023, 4), (10024, 4), (10025, 4), (10026, 4), (10027, 4), (10028, 4), (10029, 4), (10030, 4), (10031, 4), (10032, 4), (10033, 4), (10034, 4), (10035, 4), (10036, 4), (10037, 4), (10038, 4), (10039, 4), (10040, 4), (10041, 4), (10042, 4), (10043, 4), (10044, 4), (10045, 4), (10046, 4), (10047, 4), (10048, 4), (10049, 4), (10050, 4), (10051, 4), (10052, 4), (10053, 4), (10054, 4), (10055, 4), (10056, 4), (10057, 4), (10058, 4), (10059, 4), (10060, 4), (10061, 4), (10062, 4), (10063, 4), (10064, 4), (10065, 4), (10066, 4), (10067, 4), (10068, 4), (10069, 4), (10070, 4), (10071, 4), (10072, 4), (10073, 4), (10074, 4), (10075, 4), (10076, 4), (10077, 4), (10078, 4), (10079, 4), (10080, 4), (10081, 4), (10082, 4), (10083, 4), (10084, 4), (10085, 4), (10086, 4), (10087, 4), (10088, 4), (10089, 4), (10090, 4), (10091, 4), (10092, 4), (10093, 4), (10094, 4), (10095, 4), (10096, 4), (10097, 4), (10098, 4), (10099, 4), (10100, 4), (10101, 4), (10102, 4), (10103, 4), (10104, 4), (10105, 4), (10106, 4), (10107, 4), (10108, 4), (10109, 4), (10110, 4), (10111, 4), (10112, 4), (10113, 4), (10114, 4), (10115, 4), (10116, 4), (10117, 4), (10118, 4), (10119, 4), (10120, 4), (10121, 4), (10122, 4), (10123, 4), (10124, 4), (10125, 4), (10126, 4), (10127, 4), (10128, 4), (10129, 4), (10130, 4), (10131, 4), (10132, 4), (10133, 4), (10134, 4), (10135, 4), (10136, 4), (10137, 4), (10138, 4), (10139, 4), (10140, 4), (10141, 4), (10142, 4), (10143, 4), (10144, 4), (10145, 4), (10146, 4), (10147, 4), (10148, 4), (10149, 4), (10150, 4), (10151, 4), (10152, 4), (10153, 4), (10154, 4), (10155, 4), (10156, 4), (10157, 4), (10158, 4), (10159, 4), (10160, 4), (10161, 4), (10162, 4), (10163, 4), (10164, 4), (10165, 4), (10166, 4), (10167, 4), (10168, 4), (10169, 4), (10170, 4), (10171, 4), (10172, 4), (10173, 4), (10174, 4), (10175, 4), (10176, 4), (10177, 4), (10178, 4), (10179, 4), (10180, 4), (10181, 4), (10182, 4), (10183, 4), (10184, 4), (10185, 4), (10186, 4), (10187, 4), (10188, 4), (10189, 4), (10190, 4), (10191, 4), (10192, 4), (10193, 4), (10194, 4), (10195, 4), (10196, 4), (10197, 4), (10198, 4), (10199, 4), (10200, 4), (10201, 4), (10202, 4), (10203, 4), (10204, 4), (10205, 4), (10206, 4), (10207, 4), (10208, 4), (10209, 4), (10210, 4), (10211, 4), (10212, 4), (10213, 4), (10214, 4), (10215, 4), (10216, 4), (10217, 4), (10218, 4), (10219, 4), (10220, 4), (10221, 4), (10222, 4), (10223, 4), (10224, 4), (10225, 4), (10226, 4), (10227, 4), (10228, 4), (10229, 4), (10230, 4), (10231, 4), (10232, 4), (10233, 4), (10234, 4), (10235, 4), (10236, 4), (10237, 4), (10238, 4), (10239, 4), (10240, 4), (10241, 4), (10242, 4), (10243, 4), (10244, 4), (10245, 4), (10246, 4), (10247, 4), (10248, 4), (10249, 4), (10250, 4), (10251, 4), (10252, 4), (10253, 4), (10254, 4), (10255, 4), (10256, 4), (10257, 4), (10258, 4), (10259, 4), (10260, 4), (10261, 4), (10262, 4), (10263, 4), (10264, 4), (10265, 4), (10266, 4), (10267, 4), (10268, 4), (10269, 4), (10270, 4), (10271, 4), (10272, 4), (10273, 4), (10274, 4), (10275, 4), (10276, 4), (10277, 4), (10278, 4), (10279, 4), (10280, 4), (10281, 4), (10282, 4), (10283, 4), (10284, 4), (10285, 4), (10286, 4), (10287, 4), (10288, 4), (10289, 4), (10290, 4), (10291, 4), (10292, 4), (10293, 4), (10294, 4), (10295, 4), (10296, 4), (10297, 4), (10298, 4), (10299, 4), (10300, 4), (10301, 4), (10302, 4), (10303, 4), (10304, 4), (10305, 4), (10306, 4), (10307, 4), (10308, 4), (10309, 4), (10310, 4), (10311, 4), (10312, 4), (10313, 4), (10314, 4), (10315, 4), (10316, 4), (10317, 4), (10318, 4), (10319, 4), (10320, 4), (10321, 4), (10322, 4), (10323, 4), (10324, 4), (10325, 4), (10326, 4), (10327, 4), (10328, 4), (10329, 4), (10330, 4), (10331, 4), (10332, 4), (10333, 4), (10334, 4), (10335, 4), (10336, 4), (10337, 4), (10338, 4), (10339, 4), (10340, 4), (10341, 4), (10342, 4), (10343, 4), (10344, 4), (10345, 4), (10346, 4), (10347, 4), (10348, 4), (10349, 4), (10350, 4), (10351, 4), (10352, 4), (10353, 4), (10354, 4), (10355, 4), (10356, 4), (10357, 4), (10358, 4), (10359, 4), (10360, 4), (10361, 4), (10362, 4), (10363, 4), (10364, 4), (10365, 4), (10366, 4), (10367, 4), (10368, 4), (10369, 4), (10370, 4), (10371, 4), (10372, 4), (10373, 4), (10374, 4), (10375, 4), (10376, 4), (10377, 4), (10378, 4), (10379, 4), (10380, 4), (10381, 4), (10382, 4), (10383, 4), (10384, 4), (10385, 4), (10386, 4), (10387, 4), (10388, 4), (10389, 4), (10390, 4), (10391, 4), (10392, 4), (10393, 4), (10394, 4), (10395, 4), (10396, 4), (10397, 4), (10398, 4), (10399, 4), (10400, 4), (10401, 4), (10402, 4), (10403, 4), (10404, 4), (10405, 4), (10406, 4), (10407, 4), (10408, 4), (10409, 4), (10410, 4), (10411, 4), (10412, 4), (10413, 4), (10414, 4), (10415, 4), (10416, 4), (10417, 4), (10418, 4), (10419, 4), (10420, 4), (10421, 4), (10422, 4), (10423, 4), (10424, 4), (10425, 4), (10426, 4), (10427, 4), (10428, 4), (10429, 4), (10430, 4), (10431, 4), (10432, 4), (10433, 4), (10434, 4), (10435, 4), (10436, 4), (10437, 4), (10438, 4), (10439, 4), (10440, 4), (10441, 4), (10442, 4), (10443, 4), (10444, 4), (10445, 4), (10446, 4), (10447, 4), (10448, 4), (10449, 4), (10450, 4), (10451, 4), (10452, 4), (10453, 4), (10454, 4), (10455, 4), (10456, 4), (10457, 4), (10458, 4), (10459, 4), (10460, 4), (10461, 4), (10462, 4), (10463, 4), (10464, 4), (10465, 4), (10466, 4), (10467, 4), (10468, 4), (10469, 4), (10470, 4), (10471, 4), (10472, 4), (10473, 4), (10474, 4), (10475, 4), (10476, 4), (10477, 4), (10478, 4), (10479, 4), (10480, 4), (10481, 4), (10482, 4), (10483, 4), (10484, 4), (10485, 4), (10486, 4), (10487, 4), (10488, 4), (10489, 4), (10490, 4), (10491, 4), (10492, 4), (10493, 4), (10494, 4), (10495, 4), (10496, 4), (10497, 4), (10498, 4), (10499, 4), (10500, 4), (10501, 4), (10502, 4), (10503, 4), (10504, 4), (10505, 4), (10506, 4), (10507, 4), (10508, 4), (10509, 4), (10510, 4), (10511, 4), (10512, 4), (10513, 4), (10514, 4), (10515, 4), (10516, 4), (10517, 4), (10518, 4), (10519, 4), (10520, 4), (10521, 4), (10522, 4), (10523, 4), (10524, 4), (10525, 4), (10526, 4), (10527, 4), (10528, 4), (10529, 4), (10530, 4), (10531, 4), (10532, 4), (10533, 4), (10534, 4), (10535, 4), (10536, 4), (10537, 4), (10538, 4), (10539, 4), (10540, 4), (10541, 4), (10542, 4), (10543, 4), (10544, 4), (10545, 4), (10546, 4), (10547, 4), (10548, 4), (10549, 4), (10550, 4), (10551, 4), (10552, 4), (10553, 4), (10554, 4), (10555, 4), (10556, 4), (10557, 4), (10558, 4), (10559, 4), (10560, 4), (10561, 4), (10562, 4), (10563, 4), (10564, 4), (10565, 4), (10566, 4), (10567, 4), (10568, 4), (10569, 4), (10570, 4), (10571, 4), (10572, 4), (10573, 4), (10574, 4), (10575, 4), (10576, 4), (10577, 4), (10578, 4), (10579, 4), (10580, 4), (10581, 4), (10582, 4), (10583, 4), (10584, 4), (10585, 4), (10586, 4), (10587, 4), (10588, 4), (10589, 4), (10590, 4), (10591, 4), (10592, 4), (10593, 4), (10594, 4), (10595, 4), (10596, 4), (10597, 4), (10598, 4), (10599, 4), (10600, 4), (10601, 4), (10602, 4), (10603, 4), (10604, 4), (10605, 4), (10606, 4), (10607, 4), (10608, 4), (10609, 4), (10610, 4), (10611, 4), (10612, 4), (10613, 4), (10614, 4), (10615, 4), (10616, 4), (10617, 4), (10618, 4), (10619, 4), (10620, 4), (10621, 4), (10622, 4), (10623, 4), (10624, 4), (10625, 4), (10626, 4), (10627, 4), (10628, 4), (10629, 4), (10630, 4), (10631, 4), (10632, 4), (10633, 4), (10634, 4), (10635, 4), (10636, 4), (10637, 4), (10638, 4), (10639, 4), (10640, 4), (10641, 4), (10642, 4), (10643, 4), (10644, 4), (10645, 4), (10646, 4), (10647, 4), (10648, 4), (10649, 4), (10650, 4), (10651, 4), (10652, 4), (10653, 4), (10654, 4), (10655, 4), (10656, 4), (10657, 4), (10658, 4), (10659, 4), (10660, 4), (10661, 4), (10662, 4), (10663, 4), (10664, 4), (10665, 4), (10666, 4), (10667, 4), (10668, 4), (10669, 4), (10670, 4), (10671, 4), (10672, 4), (10673, 4), (10674, 4), (10675, 4), (10676, 4), (10677, 4), (10678, 4), (10679, 4), (10680, 4), (10681, 4), (10682, 4), (10683, 4), (10684, 4), (10685, 4), (10686, 4), (10687, 4), (10688, 4), (10689, 4), (10690, 4), (10691, 4), (10692, 4), (10693, 4), (10694, 4), (10695, 4), (10696, 4), (10697, 4), (10698, 4), (10699, 4), (10700, 4), (10701, 4), (10702, 4), (10703, 4), (10704, 4), (10705, 4), (10706, 4), (10707, 4), (10708, 4), (10709, 4), (10710, 4), (10711, 4), (10712, 4), (10713, 4), (10714, 4), (10715, 4), (10716, 4), (10717, 4), (10718, 4), (10719, 4), (10720, 4), (10721, 4), (10722, 4), (10723, 4), (10724, 4), (10725, 4), (10726, 4), (10727, 4), (10728, 4), (10729, 4), (10730, 4), (10731, 4), (10732, 4), (10733, 4), (10734, 4), (10735, 4), (10736, 4), (10737, 4), (10738, 4), (10739, 4), (10740, 4), (10741, 4), (10742, 4), (10743, 4), (10744, 4), (10745, 4), (10746, 4), (10747, 4), (10748, 4), (10749, 4), (10750, 4), (10751, 4), (10752, 4), (10753, 4), (10754, 4), (10755, 4), (10756, 4), (10757, 4), (10758, 4), (10759, 4), (10760, 4), (10761, 4), (10762, 4), (10763, 4), (10764, 4), (10765, 4), (10766, 4), (10767, 4), (10768, 4), (10769, 4), (10770, 4), (10771, 4), (10772, 4), (10773, 4), (10774, 4), (10775, 4), (10776, 4), (10777, 4), (10778, 4), (10779, 4), (10780, 4), (10781, 4), (10782, 4), (10783, 4), (10784, 4), (10785, 4), (10786, 4), (10787, 4), (10788, 4), (10789, 4), (10790, 4), (10791, 4), (10792, 4), (10793, 4), (10794, 4), (10795, 4), (10796, 4), (10797, 4), (10798, 4), (10799, 4), (10800, 4), (10801, 4), (10802, 4), (10803, 4), (10804, 4), (10805, 4), (10806, 4), (10807, 4), (10808, 4), (10809, 4), (10810, 4), (10811, 4), (10812, 4), (10813, 4), (10814, 4), (10815, 4), (10816, 4), (10817, 4), (10818, 4), (10819, 4), (10820, 4), (10821, 4), (10822, 4), (10823, 4), (10824, 4), (10825, 4), (10826, 4), (10827, 4), (10828, 4), (10829, 4), (10830, 4), (10831, 4), (10832, 4), (10833, 4), (10834, 4), (10835, 4), (10836, 4), (10837, 4), (10838, 4), (10839, 4), (10840, 4), (10841, 4), (10842, 4), (10843, 4), (10844, 4), (10845, 4), (10846, 4), (10847, 4), (10848, 4), (10849, 4), (10850, 4), (10851, 4), (10852, 4), (10853, 4), (10854, 4), (10855, 4), (10856, 4), (10857, 4), (10858, 4), (10859, 4), (10860, 4), (10861, 4), (10862, 4), (10863, 4), (10864, 4), (10865, 4), (10866, 4), (10867, 4), (10868, 4), (10869, 4), (10870, 4), (10871, 4), (10872, 4), (10873, 4), (10874, 4), (10875, 4), (10876, 4), (10877, 4), (10878, 4), (10879, 4), (10880, 4), (10881, 4), (10882, 4), (10883, 4), (10884, 4), (10885, 4), (10886, 4), (10887, 4), (10888, 4), (10889, 4), (10890, 4), (10891, 4), (10892, 4), (10893, 4), (10894, 4), (10895, 4), (10896, 4), (10897, 4), (10898, 4), (10899, 4), (10900, 4), (10901, 4), (10902, 4), (10903, 4), (10904, 4), (10905, 4), (10906, 4), (10907, 4), (10908, 4), (10909, 4), (10910, 4), (10911, 4), (10912, 4), (10913, 4), (10914, 4), (10915, 4), (10916, 4), (10917, 4), (10918, 4), (10919, 4), (10920, 4), (10921, 4), (10922, 4), (10923, 4), (10924, 4), (10925, 4), (10926, 4), (10927, 4), (10928, 4), (10929, 4), (10930, 4), (10931, 4), (10932, 4), (10933, 4), (10934, 4), (10935, 4), (10936, 4), (10937, 4), (10938, 4), (10939, 4), (10940, 4), (10941, 4), (10942, 4), (10943, 4), (10944, 4), (10945, 4), (10946, 4), (10947, 4), (10948, 4), (10949, 4), (10950, 4), (10951, 4), (10952, 4), (10953, 4), (10954, 4), (10955, 4), (10956, 4), (10957, 4), (10958, 4), (10959, 4), (10960, 4), (10961, 4), (10962, 4), (10963, 4), (10964, 4), (10965, 4), (10966, 4), (10967, 4), (10968, 4), (10969, 4), (10970, 4), (10971, 4), (10972, 4), (10973, 4), (10974, 4), (10975, 4), (10976, 4), (10977, 4), (10978, 4), (10979, 4), (10980, 4), (10981, 4), (10982, 4), (10983, 4), (10984, 4), (10985, 4), (10986, 4), (10987, 4), (10988, 4), (10989, 4), (10990, 4), (10991, 4), (10992, 4), (10993, 4), (10994, 4), (10995, 4), (10996, 4), (10997, 4), (10998, 4), (10999, 4), (11000, 4), (11001, 4), (11002, 4), (11003, 4), (11004, 4), (11005, 4), (11006, 4), (11007, 4), (11008, 4), (11009, 4), (11010, 4), (11011, 4), (11012, 4), (11013, 4), (11014, 4), (11015, 4), (11016, 4), (11017, 4), (11018, 4), (11019, 4), (11020, 4), (11021, 4), (11022, 4), (11023, 4), (11024, 4), (11025, 4), (11026, 4), (11027, 4), (11028, 4), (11029, 4), (11030, 4), (11031, 4), (11032, 4), (11033, 4), (11034, 4), (11035, 4), (11036, 4), (11037, 4), (11038, 4), (11039, 4), (11040, 4), (11041, 4), (11042, 4), (11043, 4), (11044, 4), (11045, 4), (11046, 4), (11047, 4), (11048, 4), (11049, 4), (11050, 4), (11051, 4), (11052, 4), (11053, 4), (11054, 4), (11055, 4), (11056, 4), (11057, 4), (11058, 4), (11059, 4), (11060, 4), (11061, 4), (11062, 4), (11063, 4), (11064, 4), (11065, 4), (11066, 4), (11067, 4), (11068, 4), (11069, 4), (11070, 4), (11071, 4), (11072, 4), (11073, 4), (11074, 4), (11075, 4), (11076, 4), (11077, 4), (11078, 4), (11079, 4), (11080, 4), (11081, 4), (11082, 4), (11083, 4), (11084, 4), (11085, 4), (11086, 4), (11087, 4), (11088, 4), (11089, 4), (11090, 4), (11091, 4), (11092, 4), (11093, 4), (11094, 4), (11095, 4), (11096, 4), (11097, 4), (11098, 4), (11099, 4), (11100, 4), (11101, 4), (11102, 4), (11103, 4), (11104, 4), (11105, 4), (11106, 4), (11107, 4), (11108, 4), (11109, 4), (11110, 4), (11111, 4), (11112, 4), (11113, 4), (11114, 4), (11115, 4), (11116, 4), (11117, 4), (11118, 4), (11119, 4), (11120, 4), (11121, 4), (11122, 4), (11123, 4), (11124, 4), (11125, 4), (11126, 4), (11127, 4), (11128, 4), (11129, 4), (11130, 4), (11131, 4), (11132, 4), (11133, 4), (11134, 4), (11135, 4), (11136, 4), (11137, 4), (11138, 4), (11139, 4), (11140, 4), (11141, 4), (11142, 4), (11143, 4), (11144, 4), (11145, 4), (11146, 4), (11147, 4), (11148, 4), (11149, 4), (11150, 4), (11151, 4), (11152, 4), (11153, 4), (11154, 4), (11155, 4), (11156, 4), (11157, 4), (11158, 4), (11159, 4), (11160, 4), (11161, 4), (11162, 4), (11163, 4), (11164, 4), (11165, 4), (11166, 4), (11167, 4), (11168, 4), (11169, 4), (11170, 4), (11171, 4), (11172, 4), (11173, 4), (11174, 4), (11175, 4), (11176, 4), (11177, 4), (11178, 4), (11179, 4), (11180, 4), (11181, 4), (11182, 4), (11183, 4), (11184, 4), (11185, 4), (11186, 4), (11187, 4), (11188, 4), (11189, 4), (11190, 4), (11191, 4), (11192, 4), (11193, 4), (11194, 4), (11195, 4), (11196, 4), (11197, 4), (11198, 4), (11199, 4), (11200, 4), (11201, 4), (11202, 4), (11203, 4), (11204, 4), (11205, 4), (11206, 4), (11207, 4), (11208, 4), (11209, 4), (11210, 4), (11211, 4), (11212, 4), (11213, 4), (11214, 4), (11215, 4), (11216, 4), (11217, 4), (11218, 4), (11219, 4), (11220, 4), (11221, 4), (11222, 4), (11223, 4), (11224, 4), (11225, 4), (11226, 4), (11227, 4), (11228, 4), (11229, 4), (11230, 4), (11231, 4), (11232, 4), (11233, 4), (11234, 4), (11235, 4), (11236, 4), (11237, 4), (11238, 4), (11239, 4), (11240, 4), (11241, 4), (11242, 4), (11243, 4), (11244, 4), (11245, 4), (11246, 4), (11247, 4), (11248, 4), (11249, 4), (11250, 4), (11251, 4), (11252, 4), (11253, 4), (11254, 4), (11255, 4), (11256, 4), (11257, 4), (11258, 4), (11259, 4), (11260, 4), (11261, 4), (11262, 4), (11263, 4), (11264, 4), (11265, 4), (11266, 4), (11267, 4), (11268, 4), (11269, 4), (11270, 4), (11271, 4), (11272, 4), (11273, 4), (11274, 4), (11275, 4), (11276, 4), (11277, 4), (11278, 4), (11279, 4), (11280, 4), (11281, 4), (11282, 4), (11283, 4), (11284, 4), (11285, 4), (11286, 4), (11287, 4), (11288, 4), (11289, 4), (11290, 4), (11291, 4), (11292, 4), (11293, 4), (11294, 4), (11295, 4), (11296, 4), (11297, 4), (11298, 4), (11299, 4), (11300, 4), (11301, 4), (11302, 4), (11303, 4), (11304, 4), (11305, 4), (11306, 4), (11307, 4), (11308, 4), (11309, 4), (11310, 4), (11311, 4), (11312, 4), (11313, 4), (11314, 4), (11315, 4), (11316, 4), (11317, 4), (11318, 4), (11319, 4), (11320, 4), (11321, 4), (11322, 4), (11323, 4), (11324, 4), (11325, 4), (11326, 4), (11327, 4), (11328, 4), (11329, 4), (11330, 4), (11331, 4), (11332, 4), (11333, 4), (11334, 4), (11335, 4), (11336, 4), (11337, 4), (11338, 4), (11339, 4), (11340, 4), (11341, 4), (11342, 4), (11343, 4), (11344, 4), (11345, 4), (11346, 4), (11347, 4), (11348, 4), (11349, 4), (11350, 4), (11351, 4), (11352, 4), (11353, 4), (11354, 4), (11355, 4), (11356, 4), (11357, 4), (11358, 4), (11359, 4), (11360, 4), (11361, 4), (11362, 4), (11363, 4), (11364, 4), (11365, 4), (11366, 4), (11367, 4), (11368, 4), (11369, 4), (11370, 4), (11371, 4), (11372, 4), (11373, 4), (11374, 4), (11375, 4), (11376, 4), (11377, 4), (11378, 4), (11379, 4), (11380, 4), (11381, 4), (11382, 4), (11383, 4), (11384, 4), (11385, 4), (11386, 4), (11387, 4), (11388, 4), (11389, 4), (11390, 4), (11391, 4), (11392, 4), (11393, 4), (11394, 4), (11395, 4), (11396, 4), (11397, 4), (11398, 4), (11399, 4), (11400, 4), (11401, 4), (11402, 4), (11403, 4), (11404, 4), (11405, 4), (11406, 4), (11407, 4), (11408, 4), (11409, 4), (11410, 4), (11411, 4), (11412, 4), (11413, 4), (11414, 4), (11415, 4), (11416, 4), (11417, 4), (11418, 4), (11419, 4), (11420, 4), (11421, 4), (11422, 4), (11423, 4), (11424, 4), (11425, 4), (11426, 4), (11427, 4), (11428, 4), (11429, 4), (11430, 4), (11431, 4), (11432, 4), (11433, 4), (11434, 4), (11435, 4), (11436, 4), (11437, 4), (11438, 4), (11439, 4), (11440, 4), (11441, 4), (11442, 4), (11443, 4), (11444, 4), (11445, 4), (11446, 4), (11447, 4), (11448, 4), (11449, 4), (11450, 4), (11451, 4), (11452, 4), (11453, 4), (11454, 4), (11455, 4), (11456, 4), (11457, 4), (11458, 4), (11459, 4), (11460, 4), (11461, 4), (11462, 4), (11463, 4), (11464, 4), (11465, 4), (11466, 4), (11467, 4), (11468, 4), (11469, 4), (11470, 4), (11471, 4), (11472, 4), (11473, 4), (11474, 4), (11475, 4), (11476, 4), (11477, 4), (11478, 4), (11479, 4), (11480, 4), (11481, 4), (11482, 4), (11483, 4), (11484, 4), (11485, 4), (11486, 4), (11487, 4), (11488, 4), (11489, 4), (11490, 4), (11491, 4), (11492, 4), (11493, 4), (11494, 4), (11495, 4), (11496, 4), (11497, 4), (11498, 4), (11499, 4), (11500, 4), (11501, 4), (11502, 4), (11503, 4), (11504, 4), (11505, 4), (11506, 4), (11507, 4), (11508, 4), (11509, 4), (11510, 4), (11511, 4), (11512, 4), (11513, 4), (11514, 4), (11515, 4), (11516, 4), (11517, 4), (11518, 4), (11519, 4), (11520, 4), (11521, 4), (11522, 4), (11523, 4), (11524, 4), (11525, 4), (11526, 4), (11527, 4), (11528, 4), (11529, 4), (11530, 4), (11531, 4), (11532, 4), (11533, 4), (11534, 4), (11535, 4), (11536, 4), (11537, 4), (11538, 4), (11539, 4), (11540, 4), (11541, 4), (11542, 4), (11543, 4), (11544, 4), (11545, 4), (11546, 4), (11547, 4), (11548, 4), (11549, 4), (11550, 4), (11551, 4), (11552, 4), (11553, 4), (11554, 4), (11555, 4), (11556, 4), (11557, 4), (11558, 4), (11559, 4), (11560, 4), (11561, 4), (11562, 4), (11563, 4), (11564, 4), (11565, 4), (11566, 4), (11567, 4), (11568, 4), (11569, 4), (11570, 4), (11571, 4), (11572, 4), (11573, 4), (11574, 4), (11575, 4), (11576, 4), (11577, 4), (11578, 4), (11579, 4), (11580, 4), (11581, 4), (11582, 4), (11583, 4), (11584, 4), (11585, 4), (11586, 4), (11587, 4), (11588, 4), (11589, 4), (11590, 4), (11591, 4), (11592, 4), (11593, 4), (11594, 4), (11595, 4), (11596, 4), (11597, 4), (11598, 4), (11599, 4), (11600, 4), (11601, 4), (11602, 4), (11603, 4), (11604, 4), (11605, 4), (11606, 4), (11607, 4), (11608, 4), (11609, 4), (11610, 4), (11611, 4), (11612, 4), (11613, 4), (11614, 4), (11615, 4), (11616, 4), (11617, 4), (11618, 4), (11619, 4), (11620, 4), (11621, 4), (11622, 4), (11623, 4), (11624, 4), (11625, 4), (11626, 4), (11627, 4), (11628, 4), (11629, 4), (11630, 4), (11631, 4), (11632, 4), (11633, 4), (11634, 4), (11635, 4), (11636, 4), (11637, 4), (11638, 4), (11639, 4), (11640, 4), (11641, 4), (11642, 4), (11643, 4), (11644, 4), (11645, 4), (11646, 4), (11647, 4), (11648, 4), (11649, 4), (11650, 4), (11651, 4), (11652, 4), (11653, 4), (11654, 4), (11655, 4), (11656, 4), (11657, 4), (11658, 4), (11659, 4), (11660, 4), (11661, 4), (11662, 4), (11663, 4), (11664, 4), (11665, 4), (11666, 4), (11667, 4), (11668, 4), (11669, 4), (11670, 4), (11671, 4), (11672, 4), (11673, 4), (11674, 4), (11675, 4), (11676, 4), (11677, 4), (11678, 4), (11679, 4), (11680, 4), (11681, 4), (11682, 4), (11683, 4), (11684, 4), (11685, 4), (11686, 4), (11687, 4), (11688, 4), (11689, 4), (11690, 4), (11691, 4), (11692, 4), (11693, 4), (11694, 4), (11695, 4), (11696, 4), (11697, 4), (11698, 4), (11699, 4), (11700, 4), (11701, 4), (11702, 4), (11703, 4), (11704, 4), (11705, 4), (11706, 4), (11707, 4), (11708, 4), (11709, 4), (11710, 4), (11711, 4), (11712, 4), (11713, 4), (11714, 4), (11715, 4), (11716, 4), (11717, 4), (11718, 4), (11719, 4), (11720, 4), (11721, 4), (11722, 4), (11723, 4), (11724, 4), (11725, 4), (11726, 4), (11727, 4), (11728, 4), (11729, 4), (11730, 4), (11731, 4), (11732, 4), (11733, 4), (11734, 4), (11735, 4), (11736, 4), (11737, 4), (11738, 4), (11739, 4), (11740, 4), (11741, 4), (11742, 4), (11743, 4), (11744, 4), (11745, 4), (11746, 4), (11747, 4), (11748, 4), (11749, 4), (11750, 4), (11751, 4), (11752, 4), (11753, 4), (11754, 4), (11755, 4), (11756, 4), (11757, 4), (11758, 4), (11759, 4), (11760, 4), (11761, 4), (11762, 4), (11763, 4), (11764, 4), (11765, 4), (11766, 4), (11767, 4), (11768, 4), (11769, 4), (11770, 4), (11771, 4), (11772, 4), (11773, 4), (11774, 4), (11775, 4), (11776, 4), (11777, 4), (11778, 4), (11779, 4), (11780, 4), (11781, 4), (11782, 4), (11783, 4), (11784, 4), (11785, 4), (11786, 4), (11787, 4), (11788, 4), (11789, 4), (11790, 4), (11791, 4), (11792, 4), (11793, 4), (11794, 4), (11795, 4), (11796, 4), (11797, 4), (11798, 4), (11799, 4), (11800, 4), (11801, 4), (11802, 4), (11803, 4), (11804, 4), (11805, 4), (11806, 4), (11807, 4), (11808, 4), (11809, 4), (11810, 4), (11811, 4), (11812, 4), (11813, 4), (11814, 4), (11815, 4), (11816, 4), (11817, 4), (11818, 4), (11819, 4), (11820, 4), (11821, 4), (11822, 4), (11823, 4), (11824, 4), (11825, 4), (11826, 4), (11827, 4), (11828, 4), (11829, 4), (11830, 4), (11831, 4), (11832, 4), (11833, 4), (11834, 4), (11835, 4), (11836, 4), (11837, 4), (11838, 4), (11839, 4), (11840, 4), (11841, 4), (11842, 4), (11843, 4), (11844, 4), (11845, 4), (11846, 4), (11847, 4), (11848, 4), (11849, 4), (11850, 4), (11851, 4), (11852, 4), (11853, 4), (11854, 4), (11855, 4), (11856, 4), (11857, 4), (11858, 4), (11859, 4), (11860, 4), (11861, 4), (11862, 4), (11863, 4), (11864, 4), (11865, 4), (11866, 4), (11867, 4), (11868, 4), (11869, 4), (11870, 4), (11871, 4), (11872, 4), (11873, 4), (11874, 4), (11875, 4), (11876, 4), (11877, 4), (11878, 4), (11879, 4), (11880, 4), (11881, 4), (11882, 4), (11883, 4), (11884, 4), (11885, 4), (11886, 4), (11887, 4), (11888, 4), (11889, 4), (11890, 4), (11891, 4), (11892, 4), (11893, 4), (11894, 4), (11895, 4), (11896, 4), (11897, 4), (11898, 4), (11899, 4), (11900, 4), (11901, 4), (11902, 4), (11903, 4), (11904, 4), (11905, 4), (11906, 4), (11907, 4), (11908, 4), (11909, 4), (11910, 4), (11911, 4), (11912, 4), (11913, 4), (11914, 4), (11915, 4), (11916, 4), (11917, 4), (11918, 4), (11919, 4), (11920, 4), (11921, 4), (11922, 4), (11923, 4), (11924, 4), (11925, 4), (11926, 4), (11927, 4), (11928, 4), (11929, 4), (11930, 4), (11931, 4), (11932, 4), (11933, 4), (11934, 4), (11935, 4), (11936, 4), (11937, 4), (11938, 4), (11939, 4), (11940, 4), (11941, 4), (11942, 4), (11943, 4), (11944, 4), (11945, 4), (11946, 4), (11947, 4), (11948, 4), (11949, 4), (11950, 4), (11951, 4), (11952, 4), (11953, 4), (11954, 4), (11955, 4), (11956, 4), (11957, 4), (11958, 4), (11959, 4), (11960, 4), (11961, 4), (11962, 4), (11963, 4), (11964, 4), (11965, 4), (11966, 4), (11967, 4), (11968, 4), (11969, 4), (11970, 4), (11971, 4), (11972, 4), (11973, 4), (11974, 4), (11975, 4), (11976, 4), (11977, 4), (11978, 4), (11979, 4), (11980, 4), (11981, 4), (11982, 4), (11983, 4), (11984, 4), (11985, 4), (11986, 4), (11987, 4), (11988, 4), (11989, 4), (11990, 4), (11991, 4), (11992, 4), (11993, 4), (11994, 4), (11995, 4), (11996, 4), (11997, 4), (11998, 4), (11999, 4), (12000, 4), (12001, 4), (12002, 4), (12003, 4), (12004, 4), (12005, 4), (12006, 4), (12007, 4), (12008, 4), (12009, 4), (12010, 4), (12011, 4), (12012, 4), (12013, 4), (12014, 4), (12015, 4), (12016, 4), (12017, 4), (12018, 4), (12019, 4), (12020, 4), (12021, 4), (12022, 4), (12023, 4), (12024, 4), (12025, 4), (12026, 4), (12027, 4), (12028, 4), (12029, 4), (12030, 4), (12031, 4), (12032, 4), (12033, 4), (12034, 4), (12035, 4), (12036, 4), (12037, 4), (12038, 4), (12039, 4), (12040, 4), (12041, 4), (12042, 4), (12043, 4), (12044, 4), (12045, 4), (12046, 4), (12047, 4), (12048, 4), (12049, 4), (12050, 4), (12051, 4), (12052, 4), (12053, 4), (12054, 4), (12055, 4), (12056, 4), (12057, 4), (12058, 4), (12059, 4), (12060, 4), (12061, 4), (12062, 4), (12063, 4), (12064, 4), (12065, 4), (12066, 4), (12067, 4), (12068, 4), (12069, 4), (12070, 4), (12071, 4), (12072, 4), (12073, 4), (12074, 4), (12075, 4), (12076, 4), (12077, 4), (12078, 4), (12079, 4), (12080, 4), (12081, 4), (12082, 4), (12083, 4), (12084, 4), (12085, 4), (12086, 4), (12087, 4), (12088, 4), (12089, 4), (12090, 4), (12091, 4), (12092, 4), (12093, 4), (12094, 4), (12095, 4), (12096, 4), (12097, 4), (12098, 4), (12099, 4), (12100, 4), (12101, 4), (12102, 4), (12103, 4), (12104, 4), (12105, 4), (12106, 4), (12107, 4), (12108, 4), (12109, 4), (12110, 4), (12111, 4), (12112, 4), (12113, 4), (12114, 4), (12115, 4), (12116, 4), (12117, 4), (12118, 4), (12119, 4), (12120, 4), (12121, 4), (12122, 4), (12123, 4), (12124, 4), (12125, 4), (12126, 4), (12127, 4), (12128, 4), (12129, 4), (12130, 4), (12131, 4), (12132, 4), (12133, 4), (12134, 4), (12135, 4), (12136, 4), (12137, 3), (12138, 3), (12139, 3), (12140, 3), (12141, 3), (12142, 3), (12143, 3), (12144, 3), (12145, 3), (12146, 3), (12147, 3), (12148, 3), (12149, 3), (12150, 3), (12151, 3), (12152, 3), (12153, 3), (12154, 3), (12155, 3), (12156, 3), (12157, 3), (12158, 3), (12159, 3), (12160, 3), (12161, 3), (12162, 3), (12163, 3), (12164, 3), (12165, 3), (12166, 3), (12167, 3), (12168, 3), (12169, 3), (12170, 3), (12171, 3), (12172, 3), (12173, 3), (12174, 3), (12175, 3), (12176, 3), (12177, 3), (12178, 3), (12179, 3), (12180, 3), (12181, 3), (12182, 3), (12183, 3), (12184, 3), (12185, 3), (12186, 3), (12187, 3), (12188, 3), (12189, 3), (12190, 3), (12191, 3), (12192, 3), (12193, 3), (12194, 3), (12195, 3), (12196, 3), (12197, 3), (12198, 3), (12199, 3), (12200, 3), (12201, 3), (12202, 3), (12203, 3), (12204, 3), (12205, 3), (12206, 3), (12207, 3), (12208, 3), (12209, 3), (12210, 3), (12211, 3), (12212, 3), (12213, 3), (12214, 3), (12215, 3), (12216, 3), (12217, 3), (12218, 3), (12219, 3), (12220, 3), (12221, 3), (12222, 3), (12223, 3), (12224, 3), (12225, 3), (12226, 3), (12227, 3), (12228, 3), (12229, 3), (12230, 3), (12231, 3), (12232, 3), (12233, 3), (12234, 3), (12235, 3), (12236, 3), (12237, 3), (12238, 3), (12239, 3), (12240, 3), (12241, 3), (12242, 3), (12243, 3), (12244, 3), (12245, 3), (12246, 3), (12247, 3), (12248, 3), (12249, 3), (12250, 3), (12251, 3), (12252, 3), (12253, 3), (12254, 3), (12255, 3), (12256, 3), (12257, 3), (12258, 3), (12259, 3), (12260, 3), (12261, 3), (12262, 3), (12263, 3), (12264, 3), (12265, 3), (12266, 3), (12267, 3), (12268, 3), (12269, 3), (12270, 3), (12271, 3), (12272, 3), (12273, 3), (12274, 3), (12275, 3), (12276, 3), (12277, 3), (12278, 3), (12279, 3), (12280, 3), (12281, 3), (12282, 3), (12283, 3), (12284, 3), (12285, 3), (12286, 3), (12287, 3), (12288, 3), (12289, 3), (12290, 3), (12291, 3), (12292, 3), (12293, 3), (12294, 3), (12295, 3), (12296, 3), (12297, 3), (12298, 3), (12299, 3), (12300, 3), (12301, 3), (12302, 3), (12303, 3), (12304, 3), (12305, 3), (12306, 3), (12307, 3), (12308, 3), (12309, 3), (12310, 3), (12311, 3), (12312, 3), (12313, 3), (12314, 3), (12315, 3), (12316, 3), (12317, 3), (12318, 3), (12319, 3), (12320, 3), (12321, 3), (12322, 3), (12323, 3), (12324, 3), (12325, 3), (12326, 3), (12327, 3), (12328, 3), (12329, 3), (12330, 3), (12331, 3), (12332, 3), (12333, 3), (12334, 3), (12335, 3), (12336, 3), (12337, 3), (12338, 3), (12339, 3), (12340, 3), (12341, 3), (12342, 3), (12343, 3), (12344, 3), (12345, 3), (12346, 3), (12347, 3), (12348, 3), (12349, 3), (12350, 3), (12351, 3), (12352, 3), (12353, 3), (12354, 3), (12355, 3), (12356, 3), (12357, 3), (12358, 3), (12359, 3), (12360, 3), (12361, 3), (12362, 3), (12363, 3), (12364, 3), (12365, 3), (12366, 3), (12367, 3), (12368, 3), (12369, 3), (12370, 3), (12371, 3), (12372, 3), (12373, 3), (12374, 3), (12375, 3), (12376, 3), (12377, 3), (12378, 3), (12379, 3), (12380, 3), (12381, 3), (12382, 3), (12383, 3), (12384, 3), (12385, 3), (12386, 3), (12387, 3), (12388, 3), (12389, 3), (12390, 3), (12391, 3), (12392, 3), (12393, 3), (12394, 3), (12395, 3), (12396, 3), (12397, 3), (12398, 3), (12399, 3), (12400, 3), (12401, 3), (12402, 3), (12403, 3), (12404, 3), (12405, 3), (12406, 3), (12407, 3), (12408, 3), (12409, 3), (12410, 3), (12411, 3), (12412, 3), (12413, 3), (12414, 3), (12415, 3), (12416, 3), (12417, 3), (12418, 3), (12419, 3), (12420, 3), (12421, 3), (12422, 3), (12423, 3), (12424, 3), (12425, 3), (12426, 3), (12427, 3), (12428, 3), (12429, 3), (12430, 3), (12431, 3), (12432, 3), (12433, 3), (12434, 3), (12435, 3), (12436, 3), (12437, 3), (12438, 3), (12439, 3), (12440, 3), (12441, 3), (12442, 3), (12443, 3), (12444, 3), (12445, 3), (12446, 3), (12447, 3), (12448, 3), (12449, 3), (12450, 3), (12451, 3), (12452, 3), (12453, 3), (12454, 3), (12455, 3), (12456, 3), (12457, 3), (12458, 3), (12459, 3), (12460, 3), (12461, 3), (12462, 3), (12463, 3), (12464, 3), (12465, 3), (12466, 3), (12467, 3), (12468, 3), (12469, 3), (12470, 3), (12471, 3), (12472, 3), (12473, 3), (12474, 3), (12475, 3), (12476, 3), (12477, 3), (12478, 3), (12479, 3), (12480, 3), (12481, 3), (12482, 3), (12483, 3), (12484, 3), (12485, 3), (12486, 3), (12487, 3), (12488, 3), (12489, 3), (12490, 3), (12491, 3), (12492, 3), (12493, 3), (12494, 3), (12495, 3), (12496, 3), (12497, 3), (12498, 3), (12499, 3), (12500, 3), (12501, 3), (12502, 3), (12503, 3), (12504, 3), (12505, 3), (12506, 3), (12507, 3), (12508, 3), (12509, 3), (12510, 3), (12511, 3), (12512, 3), (12513, 3), (12514, 3), (12515, 3), (12516, 3), (12517, 3), (12518, 3), (12519, 3), (12520, 3), (12521, 3), (12522, 3), (12523, 3), (12524, 3), (12525, 3), (12526, 3), (12527, 3), (12528, 3), (12529, 3), (12530, 3), (12531, 3), (12532, 3), (12533, 3), (12534, 3), (12535, 3), (12536, 3), (12537, 3), (12538, 3), (12539, 3), (12540, 3), (12541, 3), (12542, 3), (12543, 3), (12544, 3), (12545, 3), (12546, 3), (12547, 3), (12548, 3), (12549, 3), (12550, 3), (12551, 3), (12552, 3), (12553, 3), (12554, 3), (12555, 3), (12556, 3), (12557, 3), (12558, 3), (12559, 3), (12560, 3), (12561, 3), (12562, 3), (12563, 3), (12564, 3), (12565, 3), (12566, 3), (12567, 3), (12568, 3), (12569, 3), (12570, 3), (12571, 3), (12572, 3), (12573, 3), (12574, 3), (12575, 3), (12576, 3), (12577, 3), (12578, 3), (12579, 3), (12580, 3), (12581, 3), (12582, 3), (12583, 3), (12584, 3), (12585, 3), (12586, 3), (12587, 3), (12588, 3), (12589, 3), (12590, 3), (12591, 3), (12592, 3), (12593, 3), (12594, 3), (12595, 3), (12596, 3), (12597, 3), (12598, 3), (12599, 3), (12600, 3), (12601, 3), (12602, 3), (12603, 3), (12604, 3), (12605, 3), (12606, 3), (12607, 3), (12608, 3), (12609, 3), (12610, 3), (12611, 3), (12612, 3), (12613, 3), (12614, 3), (12615, 3), (12616, 3), (12617, 3), (12618, 3), (12619, 3), (12620, 3), (12621, 3), (12622, 3), (12623, 3), (12624, 3), (12625, 3), (12626, 3), (12627, 3), (12628, 3), (12629, 3), (12630, 3), (12631, 3), (12632, 3), (12633, 3), (12634, 3), (12635, 3), (12636, 3), (12637, 3), (12638, 3), (12639, 3), (12640, 3), (12641, 3), (12642, 3), (12643, 3), (12644, 3), (12645, 3), (12646, 3), (12647, 3), (12648, 3), (12649, 3), (12650, 3), (12651, 3), (12652, 3), (12653, 3), (12654, 3), (12655, 3), (12656, 3), (12657, 3), (12658, 3), (12659, 3), (12660, 3), (12661, 3), (12662, 3), (12663, 3), (12664, 3), (12665, 3), (12666, 3), (12667, 3), (12668, 3), (12669, 3), (12670, 3), (12671, 3), (12672, 3), (12673, 3), (12674, 3), (12675, 3), (12676, 3), (12677, 3), (12678, 3), (12679, 3), (12680, 3), (12681, 3), (12682, 3), (12683, 3), (12684, 3), (12685, 3), (12686, 3), (12687, 3), (12688, 3), (12689, 3), (12690, 3), (12691, 3), (12692, 3), (12693, 3), (12694, 3), (12695, 3), (12696, 3), (12697, 3), (12698, 3), (12699, 3), (12700, 3), (12701, 3), (12702, 3), (12703, 3), (12704, 3), (12705, 3), (12706, 3), (12707, 3), (12708, 3), (12709, 3), (12710, 3), (12711, 3), (12712, 3), (12713, 3), (12714, 3), (12715, 3), (12716, 3), (12717, 3), (12718, 3), (12719, 3), (12720, 3), (12721, 3), (12722, 3), (12723, 3), (12724, 3), (12725, 3), (12726, 3), (12727, 3), (12728, 3), (12729, 3), (12730, 3), (12731, 3), (12732, 3), (12733, 3), (12734, 3), (12735, 3), (12736, 3), (12737, 3), (12738, 3), (12739, 3), (12740, 3), (12741, 3), (12742, 3), (12743, 3), (12744, 3), (12745, 3), (12746, 3), (12747, 3), (12748, 3), (12749, 3), (12750, 3), (12751, 3), (12752, 3), (12753, 3), (12754, 3), (12755, 3), (12756, 3), (12757, 3), (12758, 3), (12759, 3), (12760, 3), (12761, 3), (12762, 3), (12763, 3), (12764, 3), (12765, 3), (12766, 3), (12767, 3), (12768, 3), (12769, 3), (12770, 3), (12771, 3), (12772, 3), (12773, 3), (12774, 3), (12775, 3), (12776, 3), (12777, 3), (12778, 3), (12779, 3), (12780, 3), (12781, 3), (12782, 3), (12783, 3), (12784, 3), (12785, 3), (12786, 3), (12787, 3), (12788, 3), (12789, 3), (12790, 3), (12791, 3), (12792, 3), (12793, 3), (12794, 3), (12795, 3), (12796, 3), (12797, 3), (12798, 3), (12799, 3), (12800, 3), (12801, 3), (12802, 3), (12803, 3), (12804, 3), (12805, 3), (12806, 3), (12807, 3), (12808, 3), (12809, 3), (12810, 3), (12811, 3), (12812, 3), (12813, 3), (12814, 3), (12815, 3), (12816, 3), (12817, 3), (12818, 3), (12819, 3), (12820, 3), (12821, 3), (12822, 3), (12823, 3), (12824, 3), (12825, 3), (12826, 3), (12827, 3), (12828, 3), (12829, 3), (12830, 3), (12831, 3), (12832, 3), (12833, 3), (12834, 3), (12835, 3), (12836, 3), (12837, 3), (12838, 3), (12839, 3), (12840, 3), (12841, 3), (12842, 3), (12843, 3), (12844, 3), (12845, 3), (12846, 3), (12847, 3), (12848, 3), (12849, 3), (12850, 3), (12851, 3), (12852, 3), (12853, 3), (12854, 3), (12855, 3), (12856, 3), (12857, 3), (12858, 3), (12859, 3), (12860, 3), (12861, 3), (12862, 3), (12863, 3), (12864, 3), (12865, 3), (12866, 3), (12867, 3), (12868, 3), (12869, 3), (12870, 3), (12871, 3), (12872, 3), (12873, 3), (12874, 3), (12875, 3), (12876, 3), (12877, 3), (12878, 3), (12879, 3), (12880, 3), (12881, 3), (12882, 3), (12883, 3), (12884, 3), (12885, 3), (12886, 3), (12887, 3), (12888, 3), (12889, 3), (12890, 3), (12891, 3), (12892, 3), (12893, 3), (12894, 3), (12895, 3), (12896, 3), (12897, 3), (12898, 3), (12899, 3), (12900, 3), (12901, 3), (12902, 3), (12903, 3), (12904, 3), (12905, 3), (12906, 3), (12907, 3), (12908, 3), (12909, 3), (12910, 3), (12911, 3), (12912, 3), (12913, 3), (12914, 3), (12915, 3), (12916, 3), (12917, 3), (12918, 3), (12919, 3), (12920, 3), (12921, 3), (12922, 3), (12923, 3), (12924, 3), (12925, 3), (12926, 3), (12927, 3), (12928, 3), (12929, 3), (12930, 3), (12931, 3), (12932, 3), (12933, 3), (12934, 3), (12935, 3), (12936, 3), (12937, 3), (12938, 3), (12939, 3), (12940, 3), (12941, 3), (12942, 3), (12943, 3), (12944, 3), (12945, 3), (12946, 3), (12947, 3), (12948, 3), (12949, 3), (12950, 3), (12951, 3), (12952, 3), (12953, 3), (12954, 3), (12955, 3), (12956, 3), (12957, 3), (12958, 3), (12959, 3), (12960, 3), (12961, 3), (12962, 3), (12963, 3), (12964, 3), (12965, 3), (12966, 3), (12967, 3), (12968, 3), (12969, 3), (12970, 3), (12971, 3), (12972, 3), (12973, 3), (12974, 3), (12975, 3), (12976, 3), (12977, 3), (12978, 3), (12979, 3), (12980, 3), (12981, 3), (12982, 3), (12983, 3), (12984, 3), (12985, 3), (12986, 3), (12987, 3), (12988, 3), (12989, 3), (12990, 3), (12991, 3), (12992, 3), (12993, 3), (12994, 3), (12995, 3), (12996, 3), (12997, 3), (12998, 3), (12999, 3), (13000, 3), (13001, 3), (13002, 3), (13003, 3), (13004, 3), (13005, 3), (13006, 3), (13007, 3), (13008, 3), (13009, 3), (13010, 3), (13011, 3), (13012, 3), (13013, 3), (13014, 3), (13015, 3), (13016, 3), (13017, 3), (13018, 3), (13019, 3), (13020, 3), (13021, 3), (13022, 3), (13023, 3), (13024, 3), (13025, 3), (13026, 3), (13027, 3), (13028, 3), (13029, 3), (13030, 3), (13031, 3), (13032, 3), (13033, 3), (13034, 3), (13035, 3), (13036, 3), (13037, 3), (13038, 3), (13039, 3), (13040, 3), (13041, 3), (13042, 3), (13043, 3), (13044, 3), (13045, 3), (13046, 3), (13047, 3), (13048, 3), (13049, 3), (13050, 3), (13051, 3), (13052, 3), (13053, 3), (13054, 3), (13055, 3), (13056, 3), (13057, 3), (13058, 3), (13059, 3), (13060, 3), (13061, 3), (13062, 3), (13063, 3), (13064, 3), (13065, 3), (13066, 3), (13067, 3), (13068, 3), (13069, 3), (13070, 3), (13071, 3), (13072, 3), (13073, 3), (13074, 3), (13075, 3), (13076, 3), (13077, 3), (13078, 3), (13079, 3), (13080, 3), (13081, 3), (13082, 3), (13083, 3), (13084, 3), (13085, 3), (13086, 3), (13087, 3), (13088, 3), (13089, 3), (13090, 3), (13091, 3), (13092, 3), (13093, 3), (13094, 3), (13095, 3), (13096, 3), (13097, 3), (13098, 3), (13099, 3), (13100, 3), (13101, 3), (13102, 3), (13103, 3), (13104, 3), (13105, 3), (13106, 3), (13107, 3), (13108, 3), (13109, 3), (13110, 3), (13111, 3), (13112, 3), (13113, 3), (13114, 3), (13115, 3), (13116, 3), (13117, 3), (13118, 3), (13119, 3), (13120, 3), (13121, 3), (13122, 3), (13123, 3), (13124, 3), (13125, 3), (13126, 3), (13127, 3), (13128, 3), (13129, 3), (13130, 3), (13131, 3), (13132, 3), (13133, 3), (13134, 3), (13135, 3), (13136, 3), (13137, 3), (13138, 3), (13139, 3), (13140, 3), (13141, 3), (13142, 3), (13143, 3), (13144, 3), (13145, 3), (13146, 3), (13147, 3), (13148, 3), (13149, 3), (13150, 3), (13151, 3), (13152, 3), (13153, 3), (13154, 3), (13155, 3), (13156, 3), (13157, 3), (13158, 3), (13159, 3), (13160, 3), (13161, 3), (13162, 3), (13163, 3), (13164, 3), (13165, 3), (13166, 3), (13167, 3), (13168, 3), (13169, 3), (13170, 3), (13171, 3), (13172, 3), (13173, 3), (13174, 3), (13175, 3), (13176, 3), (13177, 3), (13178, 3), (13179, 3), (13180, 3), (13181, 3), (13182, 3), (13183, 3), (13184, 3), (13185, 3), (13186, 3), (13187, 3), (13188, 3), (13189, 3), (13190, 3), (13191, 3), (13192, 3), (13193, 3), (13194, 3), (13195, 3), (13196, 3), (13197, 3), (13198, 3), (13199, 3), (13200, 3), (13201, 3), (13202, 3), (13203, 3), (13204, 3), (13205, 3), (13206, 3), (13207, 3), (13208, 3), (13209, 3), (13210, 3), (13211, 3), (13212, 3), (13213, 3), (13214, 3), (13215, 3), (13216, 3), (13217, 3), (13218, 3), (13219, 3), (13220, 3), (13221, 3), (13222, 3), (13223, 3), (13224, 3), (13225, 3), (13226, 3), (13227, 3), (13228, 3), (13229, 3), (13230, 3), (13231, 3), (13232, 3), (13233, 3), (13234, 3), (13235, 3), (13236, 3), (13237, 3), (13238, 3), (13239, 3), (13240, 3), (13241, 3), (13242, 3), (13243, 3), (13244, 3), (13245, 3), (13246, 3), (13247, 3), (13248, 3), (13249, 3), (13250, 3), (13251, 3), (13252, 3), (13253, 3), (13254, 3), (13255, 3), (13256, 3), (13257, 3), (13258, 3), (13259, 3), (13260, 3), (13261, 3), (13262, 3), (13263, 3), (13264, 3), (13265, 3), (13266, 3), (13267, 3), (13268, 3), (13269, 3), (13270, 3), (13271, 3), (13272, 3), (13273, 3), (13274, 3), (13275, 3), (13276, 3), (13277, 3), (13278, 3), (13279, 3), (13280, 3), (13281, 3), (13282, 3), (13283, 3), (13284, 3), (13285, 3), (13286, 3), (13287, 3), (13288, 3), (13289, 3), (13290, 3), (13291, 3), (13292, 3), (13293, 3), (13294, 3), (13295, 3), (13296, 3), (13297, 3), (13298, 3), (13299, 3), (13300, 3), (13301, 3), (13302, 3), (13303, 3), (13304, 3), (13305, 3), (13306, 3), (13307, 3), (13308, 3), (13309, 3), (13310, 3), (13311, 3), (13312, 3), (13313, 3), (13314, 3), (13315, 3), (13316, 3), (13317, 3), (13318, 3), (13319, 3), (13320, 3), (13321, 3), (13322, 3), (13323, 3), (13324, 3), (13325, 3), (13326, 3), (13327, 3), (13328, 3), (13329, 3), (13330, 3), (13331, 3), (13332, 3), (13333, 3), (13334, 3), (13335, 3), (13336, 3), (13337, 3), (13338, 3), (13339, 3), (13340, 3), (13341, 3), (13342, 3), (13343, 3), (13344, 3), (13345, 3), (13346, 3), (13347, 3), (13348, 3), (13349, 3), (13350, 3), (13351, 3), (13352, 3), (13353, 3), (13354, 3), (13355, 3), (13356, 3), (13357, 3), (13358, 3), (13359, 3), (13360, 3), (13361, 3), (13362, 3), (13363, 3), (13364, 3), (13365, 3), (13366, 3), (13367, 3), (13368, 3), (13369, 3), (13370, 3), (13371, 3), (13372, 3), (13373, 3), (13374, 3), (13375, 3), (13376, 3), (13377, 3), (13378, 3), (13379, 3), (13380, 3), (13381, 3), (13382, 3), (13383, 3), (13384, 3), (13385, 3), (13386, 3), (13387, 3), (13388, 3), (13389, 3), (13390, 3), (13391, 3), (13392, 3), (13393, 3), (13394, 3), (13395, 3), (13396, 3), (13397, 3), (13398, 3), (13399, 3), (13400, 3), (13401, 3), (13402, 3), (13403, 3), (13404, 3), (13405, 3), (13406, 3), (13407, 3), (13408, 3), (13409, 3), (13410, 3), (13411, 3), (13412, 3), (13413, 3), (13414, 3), (13415, 3), (13416, 3), (13417, 3), (13418, 3), (13419, 3), (13420, 3), (13421, 3), (13422, 3), (13423, 3), (13424, 3), (13425, 3), (13426, 3), (13427, 3), (13428, 3), (13429, 3), (13430, 3), (13431, 3), (13432, 3), (13433, 3), (13434, 3), (13435, 3), (13436, 3), (13437, 3), (13438, 3), (13439, 3), (13440, 3), (13441, 3), (13442, 3), (13443, 3), (13444, 3), (13445, 3), (13446, 3), (13447, 3), (13448, 3), (13449, 3), (13450, 3), (13451, 3), (13452, 3), (13453, 3), (13454, 3), (13455, 3), (13456, 3), (13457, 3), (13458, 3), (13459, 3), (13460, 3), (13461, 3), (13462, 3), (13463, 3), (13464, 3), (13465, 3), (13466, 3), (13467, 3), (13468, 3), (13469, 3), (13470, 3), (13471, 3), (13472, 3), (13473, 3), (13474, 3), (13475, 3), (13476, 3), (13477, 3), (13478, 3), (13479, 3), (13480, 3), (13481, 3), (13482, 3), (13483, 3), (13484, 3), (13485, 3), (13486, 3), (13487, 3), (13488, 3), (13489, 3), (13490, 3), (13491, 3), (13492, 3), (13493, 3), (13494, 3), (13495, 3), (13496, 3), (13497, 3), (13498, 3), (13499, 3), (13500, 3), (13501, 3), (13502, 3), (13503, 3), (13504, 3), (13505, 3), (13506, 3), (13507, 3), (13508, 3), (13509, 3), (13510, 3), (13511, 3), (13512, 3), (13513, 3), (13514, 3), (13515, 3), (13516, 3), (13517, 3), (13518, 3), (13519, 3), (13520, 3), (13521, 3), (13522, 3), (13523, 3), (13524, 3), (13525, 3), (13526, 3), (13527, 3), (13528, 3), (13529, 3), (13530, 3), (13531, 3), (13532, 3), (13533, 3), (13534, 3), (13535, 3), (13536, 3), (13537, 3), (13538, 3), (13539, 3), (13540, 3), (13541, 3), (13542, 3), (13543, 3), (13544, 3), (13545, 3), (13546, 3), (13547, 3), (13548, 3), (13549, 3), (13550, 3), (13551, 3), (13552, 3), (13553, 3), (13554, 3), (13555, 3), (13556, 3), (13557, 3), (13558, 3), (13559, 3), (13560, 3), (13561, 3), (13562, 3), (13563, 3), (13564, 3), (13565, 3), (13566, 3), (13567, 3), (13568, 3), (13569, 3), (13570, 3), (13571, 3), (13572, 3), (13573, 3), (13574, 3), (13575, 3), (13576, 3), (13577, 3), (13578, 3), (13579, 3), (13580, 3), (13581, 3), (13582, 3), (13583, 3), (13584, 3), (13585, 3), (13586, 3), (13587, 3), (13588, 3), (13589, 3), (13590, 3), (13591, 3), (13592, 3), (13593, 3), (13594, 3), (13595, 3), (13596, 3), (13597, 3), (13598, 3), (13599, 3), (13600, 3), (13601, 3), (13602, 3), (13603, 3), (13604, 3), (13605, 3), (13606, 3), (13607, 3), (13608, 3), (13609, 3), (13610, 3), (13611, 3), (13612, 3), (13613, 3), (13614, 3), (13615, 3), (13616, 3), (13617, 3), (13618, 3), (13619, 3), (13620, 3), (13621, 3), (13622, 3), (13623, 3), (13624, 3), (13625, 3), (13626, 3), (13627, 3), (13628, 3), (13629, 3), (13630, 3), (13631, 3), (13632, 3), (13633, 3), (13634, 3), (13635, 3), (13636, 3), (13637, 3), (13638, 3), (13639, 3), (13640, 3), (13641, 3), (13642, 3), (13643, 3), (13644, 3), (13645, 3), (13646, 3), (13647, 3), (13648, 3), (13649, 3), (13650, 3), (13651, 3), (13652, 3), (13653, 3), (13654, 3), (13655, 3), (13656, 3), (13657, 3), (13658, 3), (13659, 3), (13660, 3), (13661, 3), (13662, 3), (13663, 3), (13664, 3), (13665, 3), (13666, 3), (13667, 3), (13668, 3), (13669, 3), (13670, 3), (13671, 3), (13672, 3), (13673, 3), (13674, 3), (13675, 3), (13676, 3), (13677, 3), (13678, 3), (13679, 3), (13680, 3), (13681, 3), (13682, 3), (13683, 3), (13684, 3), (13685, 3), (13686, 3), (13687, 3), (13688, 3), (13689, 3), (13690, 3), (13691, 3), (13692, 3), (13693, 3), (13694, 3), (13695, 3), (13696, 3), (13697, 3), (13698, 3), (13699, 3), (13700, 3), (13701, 3), (13702, 3), (13703, 3), (13704, 3), (13705, 3), (13706, 3), (13707, 3), (13708, 3), (13709, 3), (13710, 3), (13711, 3), (13712, 3), (13713, 3), (13714, 3), (13715, 3), (13716, 3), (13717, 3), (13718, 3), (13719, 3), (13720, 3), (13721, 3), (13722, 3), (13723, 3), (13724, 3), (13725, 3), (13726, 3), (13727, 3), (13728, 3), (13729, 3), (13730, 3), (13731, 3), (13732, 3), (13733, 3), (13734, 3), (13735, 3), (13736, 3), (13737, 3), (13738, 3), (13739, 3), (13740, 3), (13741, 3), (13742, 3), (13743, 3), (13744, 3), (13745, 3), (13746, 3), (13747, 3), (13748, 3), (13749, 3), (13750, 3), (13751, 3), (13752, 3), (13753, 3), (13754, 3), (13755, 3), (13756, 3), (13757, 3), (13758, 3), (13759, 3), (13760, 3), (13761, 3), (13762, 3), (13763, 3), (13764, 3), (13765, 3), (13766, 3), (13767, 3), (13768, 3), (13769, 3), (13770, 3), (13771, 3), (13772, 3), (13773, 3), (13774, 3), (13775, 3), (13776, 3), (13777, 3), (13778, 3), (13779, 3), (13780, 3), (13781, 3), (13782, 3), (13783, 3), (13784, 3), (13785, 3), (13786, 3), (13787, 3), (13788, 3), (13789, 3), (13790, 3), (13791, 3), (13792, 3), (13793, 3), (13794, 3), (13795, 3), (13796, 3), (13797, 3), (13798, 3), (13799, 3), (13800, 3), (13801, 3), (13802, 3), (13803, 3), (13804, 3), (13805, 3), (13806, 3), (13807, 3), (13808, 3), (13809, 3), (13810, 3), (13811, 3), (13812, 3), (13813, 3), (13814, 3), (13815, 3), (13816, 3), (13817, 3), (13818, 3), (13819, 3), (13820, 3), (13821, 3), (13822, 3), (13823, 3), (13824, 3), (13825, 3), (13826, 3), (13827, 3), (13828, 3), (13829, 3), (13830, 3), (13831, 3), (13832, 3), (13833, 3), (13834, 3), (13835, 3), (13836, 3), (13837, 3), (13838, 3), (13839, 3), (13840, 3), (13841, 3), (13842, 3), (13843, 3), (13844, 3), (13845, 3), (13846, 3), (13847, 3), (13848, 3), (13849, 3), (13850, 3), (13851, 3), (13852, 3), (13853, 3), (13854, 3), (13855, 3), (13856, 3), (13857, 3), (13858, 3), (13859, 3), (13860, 3), (13861, 3), (13862, 3), (13863, 3), (13864, 3), (13865, 3), (13866, 3), (13867, 3), (13868, 3), (13869, 3), (13870, 3), (13871, 3), (13872, 3), (13873, 3), (13874, 3), (13875, 3), (13876, 3), (13877, 3), (13878, 3), (13879, 3), (13880, 3), (13881, 3), (13882, 3), (13883, 3), (13884, 3), (13885, 3), (13886, 3), (13887, 3), (13888, 3), (13889, 3), (13890, 3), (13891, 3), (13892, 3), (13893, 3), (13894, 3), (13895, 3), (13896, 3), (13897, 3), (13898, 3), (13899, 3), (13900, 3), (13901, 3), (13902, 3), (13903, 3), (13904, 3), (13905, 3), (13906, 3), (13907, 3), (13908, 3), (13909, 3), (13910, 3), (13911, 3), (13912, 3), (13913, 3), (13914, 3), (13915, 3), (13916, 3), (13917, 3), (13918, 3), (13919, 3), (13920, 3), (13921, 3), (13922, 3), (13923, 3), (13924, 3), (13925, 3), (13926, 3), (13927, 3), (13928, 3), (13929, 3), (13930, 3), (13931, 3), (13932, 3), (13933, 3), (13934, 3), (13935, 3), (13936, 3), (13937, 3), (13938, 3), (13939, 3), (13940, 3), (13941, 3), (13942, 3), (13943, 3), (13944, 3), (13945, 3), (13946, 3), (13947, 3), (13948, 3), (13949, 3), (13950, 3), (13951, 3), (13952, 3), (13953, 3), (13954, 3), (13955, 3), (13956, 3), (13957, 3), (13958, 3), (13959, 3), (13960, 3), (13961, 3), (13962, 3), (13963, 3), (13964, 3), (13965, 3), (13966, 3), (13967, 3), (13968, 3), (13969, 3), (13970, 3), (13971, 3), (13972, 3), (13973, 3), (13974, 3), (13975, 3), (13976, 3), (13977, 3), (13978, 3), (13979, 3), (13980, 3), (13981, 3), (13982, 3), (13983, 3), (13984, 3), (13985, 3), (13986, 3), (13987, 3), (13988, 3), (13989, 3), (13990, 3), (13991, 3), (13992, 3), (13993, 3), (13994, 3), (13995, 3), (13996, 3), (13997, 3), (13998, 3), (13999, 3), (14000, 3), (14001, 3), (14002, 3), (14003, 3), (14004, 3), (14005, 3), (14006, 3), (14007, 3), (14008, 3), (14009, 3), (14010, 3), (14011, 3), (14012, 3), (14013, 3), (14014, 3), (14015, 3), (14016, 3), (14017, 3), (14018, 3), (14019, 3), (14020, 3), (14021, 3), (14022, 3), (14023, 3), (14024, 3), (14025, 3), (14026, 3), (14027, 3), (14028, 3), (14029, 3), (14030, 3), (14031, 3), (14032, 3), (14033, 3), (14034, 3), (14035, 3), (14036, 3), (14037, 3), (14038, 3), (14039, 3), (14040, 3), (14041, 3), (14042, 3), (14043, 3), (14044, 3), (14045, 3), (14046, 3), (14047, 3), (14048, 3), (14049, 3), (14050, 3), (14051, 3), (14052, 3), (14053, 3), (14054, 3), (14055, 3), (14056, 3), (14057, 3), (14058, 3), (14059, 3), (14060, 3), (14061, 3), (14062, 3), (14063, 3), (14064, 3), (14065, 3), (14066, 3), (14067, 3), (14068, 3), (14069, 3), (14070, 3), (14071, 3), (14072, 3), (14073, 3), (14074, 3), (14075, 3), (14076, 3), (14077, 3), (14078, 3), (14079, 3), (14080, 3), (14081, 3), (14082, 3), (14083, 3), (14084, 3), (14085, 3), (14086, 3), (14087, 3), (14088, 3), (14089, 3), (14090, 3), (14091, 3), (14092, 3), (14093, 3), (14094, 3), (14095, 3), (14096, 3), (14097, 3), (14098, 3), (14099, 3), (14100, 3), (14101, 3), (14102, 3), (14103, 3), (14104, 3), (14105, 3), (14106, 3), (14107, 3), (14108, 3), (14109, 3), (14110, 3), (14111, 3), (14112, 3), (14113, 3), (14114, 3), (14115, 3), (14116, 3), (14117, 3), (14118, 3), (14119, 3), (14120, 3), (14121, 3), (14122, 3), (14123, 3), (14124, 3), (14125, 3), (14126, 3), (14127, 3), (14128, 3), (14129, 3), (14130, 3), (14131, 3), (14132, 3), (14133, 3), (14134, 3), (14135, 3), (14136, 3), (14137, 3), (14138, 3), (14139, 3), (14140, 3), (14141, 3), (14142, 3), (14143, 3), (14144, 3), (14145, 3), (14146, 3), (14147, 3), (14148, 3), (14149, 3), (14150, 3), (14151, 3), (14152, 3), (14153, 3), (14154, 3), (14155, 3), (14156, 3), (14157, 3), (14158, 3), (14159, 3), (14160, 3), (14161, 3), (14162, 3), (14163, 3), (14164, 3), (14165, 3), (14166, 3), (14167, 3), (14168, 3), (14169, 3), (14170, 3), (14171, 3), (14172, 3), (14173, 3), (14174, 3), (14175, 3), (14176, 3), (14177, 3), (14178, 3), (14179, 3), (14180, 3), (14181, 3), (14182, 3), (14183, 3), (14184, 3), (14185, 3), (14186, 3), (14187, 3), (14188, 3), (14189, 3), (14190, 3), (14191, 3), (14192, 3), (14193, 3), (14194, 3), (14195, 3), (14196, 3), (14197, 3), (14198, 3), (14199, 3), (14200, 3), (14201, 3), (14202, 3), (14203, 3), (14204, 3), (14205, 3), (14206, 3), (14207, 3), (14208, 3), (14209, 3), (14210, 3), (14211, 3), (14212, 3), (14213, 3), (14214, 3), (14215, 3), (14216, 3), (14217, 3), (14218, 3), (14219, 3), (14220, 3), (14221, 3), (14222, 3), (14223, 3), (14224, 3), (14225, 3), (14226, 3), (14227, 3), (14228, 3), (14229, 3), (14230, 3), (14231, 3), (14232, 3), (14233, 3), (14234, 3), (14235, 3), (14236, 3), (14237, 3), (14238, 3), (14239, 3), (14240, 3), (14241, 3), (14242, 3), (14243, 3), (14244, 3), (14245, 3), (14246, 3), (14247, 3), (14248, 3), (14249, 3), (14250, 3), (14251, 3), (14252, 3), (14253, 3), (14254, 3), (14255, 3), (14256, 3), (14257, 3), (14258, 3), (14259, 3), (14260, 3), (14261, 3), (14262, 3), (14263, 3), (14264, 3), (14265, 3), (14266, 3), (14267, 3), (14268, 3), (14269, 3), (14270, 3), (14271, 3), (14272, 3), (14273, 3), (14274, 3), (14275, 3), (14276, 3), (14277, 3), (14278, 3), (14279, 3), (14280, 3), (14281, 3), (14282, 3), (14283, 3), (14284, 3), (14285, 3), (14286, 3), (14287, 3), (14288, 3), (14289, 3), (14290, 3), (14291, 3), (14292, 3), (14293, 3), (14294, 3), (14295, 3), (14296, 3), (14297, 3), (14298, 3), (14299, 3), (14300, 3), (14301, 3), (14302, 3), (14303, 3), (14304, 3), (14305, 3), (14306, 3), (14307, 3), (14308, 3), (14309, 3), (14310, 3), (14311, 3), (14312, 3), (14313, 3), (14314, 3), (14315, 3), (14316, 3), (14317, 3), (14318, 3), (14319, 3), (14320, 3), (14321, 3), (14322, 3), (14323, 3), (14324, 3), (14325, 3), (14326, 3), (14327, 3), (14328, 3), (14329, 3), (14330, 3), (14331, 3), (14332, 3), (14333, 3), (14334, 3), (14335, 3), (14336, 3), (14337, 3), (14338, 3), (14339, 3), (14340, 3), (14341, 3), (14342, 3), (14343, 3), (14344, 3), (14345, 3), (14346, 3), (14347, 3), (14348, 3), (14349, 3), (14350, 3), (14351, 3), (14352, 3), (14353, 3), (14354, 3), (14355, 3), (14356, 3), (14357, 3), (14358, 3), (14359, 3), (14360, 3), (14361, 3), (14362, 3), (14363, 3), (14364, 3), (14365, 3), (14366, 3), (14367, 3), (14368, 3), (14369, 3), (14370, 3), (14371, 3), (14372, 3), (14373, 3), (14374, 3), (14375, 3), (14376, 3), (14377, 3), (14378, 3), (14379, 3), (14380, 3), (14381, 3), (14382, 3), (14383, 3), (14384, 3), (14385, 3), (14386, 3), (14387, 3), (14388, 3), (14389, 3), (14390, 3), (14391, 3), (14392, 3), (14393, 3), (14394, 3), (14395, 3), (14396, 3), (14397, 3), (14398, 3), (14399, 3), (14400, 3), (14401, 3), (14402, 3), (14403, 3), (14404, 3), (14405, 3), (14406, 3), (14407, 3), (14408, 3), (14409, 3), (14410, 3), (14411, 3), (14412, 3), (14413, 3), (14414, 3), (14415, 3), (14416, 3), (14417, 3), (14418, 3), (14419, 3), (14420, 3), (14421, 3), (14422, 3), (14423, 3), (14424, 3), (14425, 3), (14426, 3), (14427, 3), (14428, 3), (14429, 3), (14430, 3), (14431, 3), (14432, 3), (14433, 3), (14434, 3), (14435, 3), (14436, 3), (14437, 3), (14438, 3), (14439, 3), (14440, 3), (14441, 3), (14442, 3), (14443, 3), (14444, 3), (14445, 3), (14446, 3), (14447, 3), (14448, 3), (14449, 3), (14450, 3), (14451, 3), (14452, 3), (14453, 3), (14454, 3), (14455, 3), (14456, 3), (14457, 3), (14458, 3), (14459, 3), (14460, 3), (14461, 3), (14462, 3), (14463, 3), (14464, 3), (14465, 3), (14466, 3), (14467, 3), (14468, 3), (14469, 3), (14470, 3), (14471, 3), (14472, 3), (14473, 3), (14474, 3), (14475, 3), (14476, 3), (14477, 3), (14478, 3), (14479, 3), (14480, 3), (14481, 3), (14482, 3), (14483, 3), (14484, 3), (14485, 3), (14486, 3), (14487, 3), (14488, 3), (14489, 3), (14490, 3), (14491, 3), (14492, 3), (14493, 3), (14494, 3), (14495, 3), (14496, 3), (14497, 3), (14498, 3), (14499, 3), (14500, 3), (14501, 3), (14502, 3), (14503, 3), (14504, 3), (14505, 3), (14506, 3), (14507, 3), (14508, 3), (14509, 3), (14510, 3), (14511, 3), (14512, 3), (14513, 3), (14514, 3), (14515, 3), (14516, 3), (14517, 3), (14518, 3), (14519, 3), (14520, 3), (14521, 3), (14522, 3), (14523, 3), (14524, 3), (14525, 3), (14526, 3), (14527, 3), (14528, 3), (14529, 3), (14530, 3), (14531, 3), (14532, 3), (14533, 3), (14534, 3), (14535, 3), (14536, 3), (14537, 3), (14538, 3), (14539, 3), (14540, 3), (14541, 3), (14542, 3), (14543, 3), (14544, 3), (14545, 3), (14546, 3), (14547, 3), (14548, 3), (14549, 3), (14550, 3), (14551, 3), (14552, 3), (14553, 3), (14554, 3), (14555, 3), (14556, 3), (14557, 3), (14558, 3), (14559, 3), (14560, 3), (14561, 3), (14562, 3), (14563, 3), (14564, 3), (14565, 3), (14566, 3), (14567, 3), (14568, 3), (14569, 3), (14570, 3), (14571, 3), (14572, 3), (14573, 3), (14574, 3), (14575, 3), (14576, 3), (14577, 3), (14578, 3), (14579, 3), (14580, 3), (14581, 3), (14582, 3), (14583, 3), (14584, 3), (14585, 3), (14586, 3), (14587, 3), (14588, 3), (14589, 3), (14590, 3), (14591, 3), (14592, 3), (14593, 3), (14594, 3), (14595, 3), (14596, 3), (14597, 3), (14598, 3), (14599, 3), (14600, 3), (14601, 3), (14602, 3), (14603, 3), (14604, 3), (14605, 3), (14606, 3), (14607, 3), (14608, 3), (14609, 3), (14610, 3), (14611, 3), (14612, 3), (14613, 3), (14614, 3), (14615, 3), (14616, 3), (14617, 3), (14618, 3), (14619, 3), (14620, 3), (14621, 3), (14622, 3), (14623, 3), (14624, 3), (14625, 3), (14626, 3), (14627, 3), (14628, 3), (14629, 3), (14630, 3), (14631, 3), (14632, 3), (14633, 3), (14634, 3), (14635, 3), (14636, 3), (14637, 3), (14638, 3), (14639, 3), (14640, 3), (14641, 3), (14642, 3), (14643, 3), (14644, 3), (14645, 3), (14646, 3), (14647, 3), (14648, 3), (14649, 3), (14650, 3), (14651, 3), (14652, 3), (14653, 3), (14654, 3), (14655, 3), (14656, 3), (14657, 3), (14658, 3), (14659, 3), (14660, 3), (14661, 3), (14662, 3), (14663, 3), (14664, 3), (14665, 3), (14666, 3), (14667, 3), (14668, 3), (14669, 3), (14670, 3), (14671, 3), (14672, 3), (14673, 3), (14674, 3), (14675, 3), (14676, 3), (14677, 3), (14678, 3), (14679, 3), (14680, 3), (14681, 3), (14682, 3), (14683, 3), (14684, 3), (14685, 3), (14686, 3), (14687, 3), (14688, 3), (14689, 3), (14690, 3), (14691, 3), (14692, 3), (14693, 3), (14694, 3), (14695, 3), (14696, 3), (14697, 3), (14698, 3), (14699, 3), (14700, 3), (14701, 3), (14702, 3), (14703, 3), (14704, 3), (14705, 3), (14706, 3), (14707, 3), (14708, 3), (14709, 3), (14710, 3), (14711, 3), (14712, 3), (14713, 3), (14714, 3), (14715, 3), (14716, 3), (14717, 3), (14718, 3), (14719, 3), (14720, 3), (14721, 3), (14722, 3), (14723, 3), (14724, 3), (14725, 3), (14726, 3), (14727, 3), (14728, 3), (14729, 3), (14730, 3), (14731, 3), (14732, 3), (14733, 3), (14734, 3), (14735, 3), (14736, 3), (14737, 3), (14738, 3), (14739, 3), (14740, 3), (14741, 3), (14742, 3), (14743, 3), (14744, 3), (14745, 3), (14746, 3), (14747, 3), (14748, 3), (14749, 3), (14750, 3), (14751, 3), (14752, 3), (14753, 3), (14754, 3), (14755, 3), (14756, 3), (14757, 3), (14758, 3), (14759, 3), (14760, 3), (14761, 3), (14762, 3), (14763, 3), (14764, 3), (14765, 3), (14766, 3), (14767, 3), (14768, 3), (14769, 3), (14770, 3), (14771, 3), (14772, 3), (14773, 3), (14774, 3), (14775, 3), (14776, 3), (14777, 3), (14778, 3), (14779, 3), (14780, 3), (14781, 3), (14782, 3), (14783, 3), (14784, 3), (14785, 3), (14786, 3), (14787, 3), (14788, 3), (14789, 3), (14790, 3), (14791, 3), (14792, 3), (14793, 3), (14794, 3), (14795, 3), (14796, 3), (14797, 3), (14798, 3), (14799, 3), (14800, 3), (14801, 3), (14802, 3), (14803, 3), (14804, 3), (14805, 3), (14806, 3), (14807, 3), (14808, 3), (14809, 3), (14810, 3), (14811, 3), (14812, 3), (14813, 3), (14814, 3), (14815, 3), (14816, 3), (14817, 3), (14818, 3), (14819, 3), (14820, 3), (14821, 3), (14822, 3), (14823, 3), (14824, 3), (14825, 3), (14826, 3), (14827, 3), (14828, 3), (14829, 3), (14830, 3), (14831, 3), (14832, 3), (14833, 3), (14834, 3), (14835, 3), (14836, 3), (14837, 3), (14838, 3), (14839, 3), (14840, 3), (14841, 3), (14842, 3), (14843, 3), (14844, 3), (14845, 3), (14846, 3), (14847, 3), (14848, 3), (14849, 3), (14850, 3), (14851, 3), (14852, 3), (14853, 3), (14854, 3), (14855, 3), (14856, 3), (14857, 3), (14858, 3), (14859, 3), (14860, 3), (14861, 3), (14862, 3), (14863, 3), (14864, 3), (14865, 3), (14866, 3), (14867, 3), (14868, 3), (14869, 3), (14870, 3), (14871, 3), (14872, 3), (14873, 3), (14874, 3), (14875, 3), (14876, 3), (14877, 3), (14878, 3), (14879, 3), (14880, 3), (14881, 3), (14882, 3), (14883, 3), (14884, 3), (14885, 3), (14886, 3), (14887, 3), (14888, 3), (14889, 3), (14890, 3), (14891, 3), (14892, 3), (14893, 3), (14894, 3), (14895, 3), (14896, 3), (14897, 3), (14898, 3), (14899, 3), (14900, 3), (14901, 3), (14902, 3), (14903, 3), (14904, 3), (14905, 3), (14906, 3), (14907, 3), (14908, 3), (14909, 3), (14910, 3), (14911, 3), (14912, 3), (14913, 3), (14914, 3), (14915, 3), (14916, 3), (14917, 3), (14918, 3), (14919, 3), (14920, 3), (14921, 3), (14922, 3), (14923, 3), (14924, 3), (14925, 3), (14926, 3), (14927, 3), (14928, 3), (14929, 3), (14930, 3), (14931, 3), (14932, 3), (14933, 3), (14934, 3), (14935, 3), (14936, 3), (14937, 3), (14938, 3), (14939, 3), (14940, 3), (14941, 3), (14942, 3), (14943, 3), (14944, 3), (14945, 3), (14946, 3), (14947, 3), (14948, 3), (14949, 3), (14950, 3), (14951, 3), (14952, 3), (14953, 3), (14954, 3), (14955, 3), (14956, 3), (14957, 3), (14958, 3), (14959, 3), (14960, 3), (14961, 3), (14962, 3), (14963, 3), (14964, 3), (14965, 3), (14966, 3), (14967, 3), (14968, 3), (14969, 3), (14970, 3), (14971, 3), (14972, 3), (14973, 3), (14974, 3), (14975, 3), (14976, 3), (14977, 3), (14978, 3), (14979, 3), (14980, 3), (14981, 3), (14982, 3), (14983, 3), (14984, 3), (14985, 3), (14986, 3), (14987, 3), (14988, 3), (14989, 3), (14990, 3), (14991, 3), (14992, 3), (14993, 3), (14994, 3), (14995, 3), (14996, 3), (14997, 3), (14998, 3), (14999, 3), (15000, 3), (15001, 3), (15002, 3), (15003, 3), (15004, 3), (15005, 3), (15006, 3), (15007, 3), (15008, 3), (15009, 3), (15010, 3), (15011, 3), (15012, 3), (15013, 3), (15014, 3), (15015, 3), (15016, 3), (15017, 3), (15018, 3), (15019, 3), (15020, 3), (15021, 3), (15022, 3), (15023, 3), (15024, 3), (15025, 3), (15026, 3), (15027, 3), (15028, 3), (15029, 3), (15030, 3), (15031, 3), (15032, 3), (15033, 3), (15034, 3), (15035, 3), (15036, 3), (15037, 3), (15038, 3), (15039, 3), (15040, 3), (15041, 3), (15042, 3), (15043, 3), (15044, 3), (15045, 3), (15046, 3), (15047, 3), (15048, 3), (15049, 3), (15050, 3), (15051, 3), (15052, 3), (15053, 3), (15054, 3), (15055, 3), (15056, 3), (15057, 3), (15058, 3), (15059, 3), (15060, 3), (15061, 3), (15062, 3), (15063, 3), (15064, 3), (15065, 3), (15066, 3), (15067, 3), (15068, 3), (15069, 3), (15070, 3), (15071, 3), (15072, 3), (15073, 3), (15074, 3), (15075, 3), (15076, 3), (15077, 3), (15078, 3), (15079, 3), (15080, 3), (15081, 3), (15082, 3), (15083, 3), (15084, 3), (15085, 3), (15086, 3), (15087, 3), (15088, 3), (15089, 3), (15090, 3), (15091, 3), (15092, 3), (15093, 3), (15094, 3), (15095, 3), (15096, 3), (15097, 3), (15098, 3), (15099, 3), (15100, 3), (15101, 3), (15102, 3), (15103, 3), (15104, 3), (15105, 3), (15106, 3), (15107, 3), (15108, 3), (15109, 3), (15110, 3), (15111, 3), (15112, 3), (15113, 3), (15114, 3), (15115, 3), (15116, 3), (15117, 3), (15118, 3), (15119, 3), (15120, 3), (15121, 3), (15122, 3), (15123, 3), (15124, 3), (15125, 3), (15126, 3), (15127, 3), (15128, 3), (15129, 3), (15130, 3), (15131, 3), (15132, 3), (15133, 3), (15134, 3), (15135, 3), (15136, 3), (15137, 3), (15138, 3), (15139, 3), (15140, 3), (15141, 3), (15142, 3), (15143, 3), (15144, 3), (15145, 3), (15146, 3), (15147, 3), (15148, 3), (15149, 3), (15150, 3), (15151, 3), (15152, 3), (15153, 3), (15154, 3), (15155, 3), (15156, 3), (15157, 3), (15158, 3), (15159, 3), (15160, 3), (15161, 3), (15162, 3), (15163, 3), (15164, 3), (15165, 3), (15166, 3), (15167, 3), (15168, 3), (15169, 3), (15170, 3), (15171, 3), (15172, 3), (15173, 3), (15174, 3), (15175, 3), (15176, 3), (15177, 3), (15178, 3), (15179, 3), (15180, 3), (15181, 3), (15182, 3), (15183, 3), (15184, 3), (15185, 3), (15186, 3), (15187, 3), (15188, 3), (15189, 3), (15190, 3), (15191, 3), (15192, 3), (15193, 3), (15194, 3), (15195, 3), (15196, 3), (15197, 3), (15198, 3), (15199, 3), (15200, 3), (15201, 3), (15202, 3), (15203, 3), (15204, 3), (15205, 3), (15206, 3), (15207, 3), (15208, 3), (15209, 3), (15210, 3), (15211, 3), (15212, 3), (15213, 3), (15214, 3), (15215, 3), (15216, 3), (15217, 3), (15218, 3), (15219, 3), (15220, 3), (15221, 3), (15222, 3), (15223, 3), (15224, 3), (15225, 3), (15226, 3), (15227, 3), (15228, 3), (15229, 3), (15230, 3), (15231, 3), (15232, 3), (15233, 3), (15234, 3), (15235, 3), (15236, 3), (15237, 3), (15238, 3), (15239, 3), (15240, 3), (15241, 3), (15242, 3), (15243, 3), (15244, 3), (15245, 3), (15246, 3), (15247, 3), (15248, 3), (15249, 3), (15250, 3), (15251, 3), (15252, 3), (15253, 3), (15254, 3), (15255, 3), (15256, 3), (15257, 3), (15258, 3), (15259, 3), (15260, 3), (15261, 3), (15262, 3), (15263, 3), (15264, 3), (15265, 3), (15266, 3), (15267, 3), (15268, 3), (15269, 3), (15270, 3), (15271, 3), (15272, 3), (15273, 3), (15274, 3), (15275, 3), (15276, 3), (15277, 3), (15278, 3), (15279, 3), (15280, 3), (15281, 3), (15282, 3), (15283, 3), (15284, 3), (15285, 3), (15286, 3), (15287, 3), (15288, 3), (15289, 3), (15290, 3), (15291, 3), (15292, 3), (15293, 3), (15294, 3), (15295, 3), (15296, 3), (15297, 3), (15298, 3), (15299, 3), (15300, 3), (15301, 3), (15302, 3), (15303, 3), (15304, 3), (15305, 3), (15306, 3), (15307, 3), (15308, 3), (15309, 3), (15310, 3), (15311, 3), (15312, 3), (15313, 3), (15314, 3), (15315, 3), (15316, 3), (15317, 3), (15318, 3), (15319, 3), (15320, 3), (15321, 3), (15322, 3), (15323, 3), (15324, 3), (15325, 3), (15326, 3), (15327, 3), (15328, 3), (15329, 3), (15330, 3), (15331, 3), (15332, 3), (15333, 3), (15334, 3), (15335, 3), (15336, 3), (15337, 3), (15338, 3), (15339, 3), (15340, 3), (15341, 3), (15342, 3), (15343, 3), (15344, 3), (15345, 3), (15346, 3), (15347, 3), (15348, 3), (15349, 3), (15350, 3), (15351, 3), (15352, 3), (15353, 3), (15354, 3), (15355, 3), (15356, 3), (15357, 3), (15358, 3), (15359, 3), (15360, 3), (15361, 3), (15362, 3), (15363, 3), (15364, 3), (15365, 3), (15366, 3), (15367, 3), (15368, 3), (15369, 3), (15370, 3), (15371, 3), (15372, 3), (15373, 3), (15374, 3), (15375, 3), (15376, 3), (15377, 3), (15378, 3), (15379, 3), (15380, 3), (15381, 3), (15382, 3), (15383, 3), (15384, 3), (15385, 3), (15386, 3), (15387, 3), (15388, 3), (15389, 3), (15390, 3), (15391, 3), (15392, 3), (15393, 3), (15394, 3), (15395, 3), (15396, 3), (15397, 3), (15398, 3), (15399, 3), (15400, 3), (15401, 3), (15402, 3), (15403, 3), (15404, 3), (15405, 3), (15406, 3), (15407, 3), (15408, 3), (15409, 3), (15410, 3), (15411, 3), (15412, 3), (15413, 3), (15414, 3), (15415, 3), (15416, 3), (15417, 3), (15418, 3), (15419, 3), (15420, 3), (15421, 3), (15422, 3), (15423, 3), (15424, 3), (15425, 3), (15426, 3), (15427, 3), (15428, 3), (15429, 3), (15430, 3), (15431, 3), (15432, 3), (15433, 3), (15434, 3), (15435, 3), (15436, 3), (15437, 3), (15438, 3), (15439, 3), (15440, 3), (15441, 3), (15442, 3), (15443, 3), (15444, 3), (15445, 3), (15446, 3), (15447, 3), (15448, 3), (15449, 3), (15450, 3), (15451, 3), (15452, 3), (15453, 3), (15454, 3), (15455, 3), (15456, 3), (15457, 3), (15458, 3), (15459, 3), (15460, 3), (15461, 3), (15462, 3), (15463, 3), (15464, 3), (15465, 3), (15466, 3), (15467, 3), (15468, 3), (15469, 3), (15470, 3), (15471, 3), (15472, 3), (15473, 3), (15474, 3), (15475, 3), (15476, 3), (15477, 3), (15478, 3), (15479, 3), (15480, 3), (15481, 3), (15482, 3), (15483, 3), (15484, 3), (15485, 3), (15486, 3), (15487, 3), (15488, 3), (15489, 3), (15490, 3), (15491, 3), (15492, 3), (15493, 3), (15494, 3), (15495, 3), (15496, 3), (15497, 3), (15498, 3), (15499, 3), (15500, 3), (15501, 3), (15502, 3), (15503, 3), (15504, 3), (15505, 3), (15506, 3), (15507, 3), (15508, 3), (15509, 3), (15510, 3), (15511, 3), (15512, 3), (15513, 3), (15514, 3), (15515, 3), (15516, 3), (15517, 3), (15518, 3), (15519, 3), (15520, 3), (15521, 3), (15522, 3), (15523, 3), (15524, 3), (15525, 3), (15526, 3), (15527, 3), (15528, 3), (15529, 3), (15530, 3), (15531, 3), (15532, 3), (15533, 3), (15534, 3), (15535, 3), (15536, 3), (15537, 3), (15538, 3), (15539, 3), (15540, 3), (15541, 3), (15542, 3), (15543, 3), (15544, 3), (15545, 3), (15546, 3), (15547, 3), (15548, 3), (15549, 3), (15550, 3), (15551, 3), (15552, 3), (15553, 3), (15554, 3), (15555, 3), (15556, 3), (15557, 3), (15558, 3), (15559, 3), (15560, 3), (15561, 3), (15562, 3), (15563, 3), (15564, 3), (15565, 3), (15566, 3), (15567, 3), (15568, 3), (15569, 3), (15570, 3), (15571, 3), (15572, 3), (15573, 3), (15574, 3), (15575, 3), (15576, 3), (15577, 3), (15578, 3), (15579, 3), (15580, 3), (15581, 3), (15582, 3), (15583, 3), (15584, 3), (15585, 3), (15586, 3), (15587, 3), (15588, 3), (15589, 3), (15590, 3), (15591, 3), (15592, 3), (15593, 3), (15594, 3), (15595, 3), (15596, 3), (15597, 3), (15598, 3), (15599, 3), (15600, 3), (15601, 3), (15602, 3), (15603, 3), (15604, 3), (15605, 3), (15606, 3), (15607, 3), (15608, 3), (15609, 3), (15610, 3), (15611, 3), (15612, 3), (15613, 3), (15614, 3), (15615, 3), (15616, 3), (15617, 3), (15618, 3), (15619, 3), (15620, 3), (15621, 3), (15622, 3), (15623, 3), (15624, 3), (15625, 3), (15626, 3), (15627, 3), (15628, 3), (15629, 3), (15630, 3), (15631, 3), (15632, 3), (15633, 3), (15634, 3), (15635, 3), (15636, 3), (15637, 3), (15638, 3), (15639, 3), (15640, 3), (15641, 3), (15642, 3), (15643, 3), (15644, 3), (15645, 3), (15646, 3), (15647, 3), (15648, 3), (15649, 3), (15650, 3), (15651, 3), (15652, 3), (15653, 3), (15654, 3), (15655, 3), (15656, 3), (15657, 3), (15658, 3), (15659, 3), (15660, 3), (15661, 3), (15662, 3), (15663, 3), (15664, 3), (15665, 3), (15666, 3), (15667, 3), (15668, 3), (15669, 3), (15670, 3), (15671, 3), (15672, 3), (15673, 3), (15674, 3), (15675, 3), (15676, 3), (15677, 3), (15678, 3), (15679, 3), (15680, 3), (15681, 3), (15682, 3), (15683, 3), (15684, 3), (15685, 3), (15686, 3), (15687, 3), (15688, 3), (15689, 3), (15690, 3), (15691, 3), (15692, 3), (15693, 3), (15694, 3), (15695, 3), (15696, 3), (15697, 3), (15698, 3), (15699, 3), (15700, 3), (15701, 3), (15702, 3), (15703, 3), (15704, 3), (15705, 3), (15706, 3), (15707, 3), (15708, 3), (15709, 3), (15710, 3), (15711, 3), (15712, 3), (15713, 3), (15714, 3), (15715, 3), (15716, 3), (15717, 3), (15718, 3), (15719, 3), (15720, 3), (15721, 3), (15722, 3), (15723, 3), (15724, 3), (15725, 3), (15726, 3), (15727, 3), (15728, 3), (15729, 3), (15730, 3), (15731, 3), (15732, 3), (15733, 3), (15734, 3), (15735, 3), (15736, 3), (15737, 3), (15738, 3), (15739, 3), (15740, 3), (15741, 3), (15742, 3), (15743, 3), (15744, 3), (15745, 3), (15746, 3), (15747, 3), (15748, 3), (15749, 3), (15750, 3), (15751, 3), (15752, 3), (15753, 3), (15754, 3), (15755, 3), (15756, 3), (15757, 3), (15758, 3), (15759, 3), (15760, 3), (15761, 3), (15762, 3), (15763, 3), (15764, 3), (15765, 3), (15766, 3), (15767, 3), (15768, 3), (15769, 3), (15770, 3), (15771, 3), (15772, 3), (15773, 3), (15774, 3), (15775, 3), (15776, 3), (15777, 3), (15778, 3), (15779, 3), (15780, 3), (15781, 3), (15782, 3), (15783, 3), (15784, 3), (15785, 3), (15786, 3), (15787, 3), (15788, 3), (15789, 3), (15790, 3), (15791, 3), (15792, 3), (15793, 3), (15794, 3), (15795, 3), (15796, 3), (15797, 3), (15798, 3), (15799, 3), (15800, 3), (15801, 3), (15802, 3), (15803, 3), (15804, 3), (15805, 3), (15806, 3), (15807, 3), (15808, 3), (15809, 3), (15810, 3), (15811, 3), (15812, 3), (15813, 3), (15814, 3), (15815, 3), (15816, 3), (15817, 3), (15818, 3), (15819, 3), (15820, 3), (15821, 3), (15822, 3), (15823, 3), (15824, 3), (15825, 3), (15826, 3), (15827, 3), (15828, 3), (15829, 3), (15830, 3), (15831, 3), (15832, 3), (15833, 3), (15834, 3), (15835, 3), (15836, 3), (15837, 3), (15838, 3), (15839, 3), (15840, 3), (15841, 3), (15842, 3), (15843, 3), (15844, 3), (15845, 3), (15846, 3), (15847, 3), (15848, 3), (15849, 3), (15850, 3), (15851, 3), (15852, 3), (15853, 3), (15854, 3), (15855, 3), (15856, 3), (15857, 3), (15858, 3), (15859, 3), (15860, 3), (15861, 3), (15862, 3), (15863, 3), (15864, 3), (15865, 3), (15866, 3), (15867, 3), (15868, 3), (15869, 3), (15870, 3), (15871, 3), (15872, 3), (15873, 3), (15874, 3), (15875, 3), (15876, 3), (15877, 3), (15878, 3), (15879, 3), (15880, 3), (15881, 3), (15882, 3), (15883, 3), (15884, 3), (15885, 3), (15886, 3), (15887, 3), (15888, 3), (15889, 3), (15890, 3), (15891, 3), (15892, 3), (15893, 3), (15894, 3), (15895, 3), (15896, 3), (15897, 3), (15898, 3), (15899, 3), (15900, 3), (15901, 3), (15902, 3), (15903, 3), (15904, 3), (15905, 3), (15906, 3), (15907, 3), (15908, 3), (15909, 3), (15910, 3), (15911, 3), (15912, 3), (15913, 3), (15914, 3), (15915, 3), (15916, 3), (15917, 3), (15918, 3), (15919, 3), (15920, 3), (15921, 3), (15922, 3), (15923, 3), (15924, 3), (15925, 3), (15926, 3), (15927, 3), (15928, 3), (15929, 3), (15930, 3), (15931, 3), (15932, 3), (15933, 3), (15934, 3), (15935, 3), (15936, 3), (15937, 3), (15938, 3), (15939, 3), (15940, 3), (15941, 3), (15942, 3), (15943, 3), (15944, 3), (15945, 3), (15946, 3), (15947, 3), (15948, 3), (15949, 3), (15950, 3), (15951, 3), (15952, 3), (15953, 3), (15954, 3), (15955, 3), (15956, 3), (15957, 3), (15958, 3), (15959, 3), (15960, 3), (15961, 3), (15962, 3), (15963, 3), (15964, 3), (15965, 3), (15966, 3), (15967, 3), (15968, 3), (15969, 3), (15970, 3), (15971, 3), (15972, 3), (15973, 3), (15974, 3), (15975, 3), (15976, 3), (15977, 3), (15978, 3), (15979, 3), (15980, 3), (15981, 3), (15982, 3), (15983, 3), (15984, 3), (15985, 3), (15986, 3), (15987, 3), (15988, 3), (15989, 3), (15990, 3), (15991, 3), (15992, 3), (15993, 3), (15994, 3), (15995, 3), (15996, 3), (15997, 3), (15998, 3), (15999, 3), (16000, 3), (16001, 3), (16002, 3), (16003, 3), (16004, 3), (16005, 3), (16006, 3), (16007, 3), (16008, 3), (16009, 3), (16010, 3), (16011, 3), (16012, 3), (16013, 3), (16014, 3), (16015, 3), (16016, 3), (16017, 3), (16018, 3), (16019, 3), (16020, 3), (16021, 3), (16022, 3), (16023, 3), (16024, 3), (16025, 3), (16026, 3), (16027, 3), (16028, 3), (16029, 3), (16030, 3), (16031, 3), (16032, 3), (16033, 3), (16034, 3), (16035, 3), (16036, 3), (16037, 3), (16038, 3), (16039, 3), (16040, 3), (16041, 3), (16042, 3), (16043, 3), (16044, 3), (16045, 3), (16046, 3), (16047, 3), (16048, 3), (16049, 3), (16050, 3), (16051, 3), (16052, 3), (16053, 3), (16054, 3), (16055, 3), (16056, 3), (16057, 3), (16058, 3), (16059, 3), (16060, 3), (16061, 3), (16062, 3), (16063, 3), (16064, 3), (16065, 3), (16066, 3), (16067, 3), (16068, 3), (16069, 3), (16070, 3), (16071, 3), (16072, 3), (16073, 3), (16074, 3), (16075, 3), (16076, 3), (16077, 3), (16078, 3), (16079, 3), (16080, 3), (16081, 3), (16082, 3), (16083, 3), (16084, 3), (16085, 3), (16086, 3), (16087, 3), (16088, 3), (16089, 3), (16090, 3), (16091, 3), (16092, 3), (16093, 3), (16094, 3), (16095, 3), (16096, 3), (16097, 3), (16098, 3), (16099, 3), (16100, 3), (16101, 3), (16102, 3), (16103, 3), (16104, 3), (16105, 3), (16106, 3), (16107, 3), (16108, 3), (16109, 3), (16110, 3), (16111, 3), (16112, 3), (16113, 3), (16114, 3), (16115, 3), (16116, 3), (16117, 3), (16118, 3), (16119, 3), (16120, 3), (16121, 3), (16122, 3), (16123, 3), (16124, 3), (16125, 3), (16126, 3), (16127, 3), (16128, 3), (16129, 3), (16130, 3), (16131, 3), (16132, 3), (16133, 3), (16134, 3), (16135, 3), (16136, 3), (16137, 3), (16138, 3), (16139, 3), (16140, 3), (16141, 3), (16142, 3), (16143, 3), (16144, 3), (16145, 3), (16146, 3), (16147, 3), (16148, 3), (16149, 3), (16150, 3), (16151, 3), (16152, 3), (16153, 3), (16154, 3), (16155, 3), (16156, 3), (16157, 3), (16158, 3), (16159, 3), (16160, 3), (16161, 3), (16162, 3), (16163, 3), (16164, 3), (16165, 3), (16166, 3), (16167, 3), (16168, 3), (16169, 3), (16170, 3), (16171, 3), (16172, 3), (16173, 3), (16174, 3), (16175, 3), (16176, 3), (16177, 3), (16178, 3), (16179, 3), (16180, 3), (16181, 3), (16182, 3), (16183, 3), (16184, 3), (16185, 3), (16186, 3), (16187, 3), (16188, 3), (16189, 3), (16190, 3), (16191, 3), (16192, 3), (16193, 3), (16194, 3), (16195, 3), (16196, 3), (16197, 3), (16198, 3), (16199, 3), (16200, 3), (16201, 3), (16202, 3), (16203, 3), (16204, 3), (16205, 3), (16206, 3), (16207, 3), (16208, 3), (16209, 3), (16210, 3), (16211, 3), (16212, 3), (16213, 3), (16214, 3), (16215, 3), (16216, 3), (16217, 3), (16218, 3), (16219, 3), (16220, 3), (16221, 3), (16222, 3), (16223, 3), (16224, 3), (16225, 3), (16226, 3), (16227, 3), (16228, 3), (16229, 3), (16230, 3), (16231, 3), (16232, 3), (16233, 3), (16234, 3), (16235, 3), (16236, 3), (16237, 3), (16238, 3), (16239, 3), (16240, 3), (16241, 3), (16242, 3), (16243, 3), (16244, 3), (16245, 3), (16246, 3), (16247, 3), (16248, 3), (16249, 3), (16250, 3), (16251, 3), (16252, 3), (16253, 3), (16254, 3), (16255, 3), (16256, 3), (16257, 3), (16258, 3), (16259, 3), (16260, 3), (16261, 3), (16262, 3), (16263, 3), (16264, 3), (16265, 3), (16266, 3), (16267, 3), (16268, 3), (16269, 3), (16270, 3), (16271, 3), (16272, 3), (16273, 3), (16274, 3), (16275, 3), (16276, 3), (16277, 3), (16278, 3), (16279, 3), (16280, 3), (16281, 3), (16282, 3), (16283, 3), (16284, 3), (16285, 3), (16286, 3), (16287, 3), (16288, 3), (16289, 3), (16290, 3), (16291, 3), (16292, 3), (16293, 3), (16294, 3), (16295, 3), (16296, 3), (16297, 3), (16298, 3), (16299, 3), (16300, 3), (16301, 3), (16302, 3), (16303, 3), (16304, 3), (16305, 3), (16306, 3), (16307, 3), (16308, 3), (16309, 3), (16310, 3), (16311, 3), (16312, 3), (16313, 3), (16314, 3), (16315, 3), (16316, 3), (16317, 3), (16318, 3), (16319, 3), (16320, 3), (16321, 3), (16322, 3), (16323, 3), (16324, 3), (16325, 3), (16326, 3), (16327, 3), (16328, 3), (16329, 3), (16330, 3), (16331, 3), (16332, 3), (16333, 3), (16334, 3), (16335, 3), (16336, 3), (16337, 3), (16338, 3), (16339, 3), (16340, 3), (16341, 3), (16342, 3), (16343, 3), (16344, 3), (16345, 3), (16346, 3), (16347, 3), (16348, 3), (16349, 3), (16350, 3), (16351, 3), (16352, 3), (16353, 3), (16354, 3), (16355, 3), (16356, 3), (16357, 3), (16358, 3), (16359, 3), (16360, 3), (16361, 3), (16362, 3), (16363, 3), (16364, 3), (16365, 3), (16366, 3), (16367, 3), (16368, 3), (16369, 3), (16370, 3), (16371, 3), (16372, 3), (16373, 3), (16374, 3), (16375, 3), (16376, 3), (16377, 3), (16378, 3), (16379, 3), (16380, 3), (16381, 3), (16382, 3), (16383, 3), (16384, 3), (16385, 3), (16386, 3), (16387, 3), (16388, 3), (16389, 3), (16390, 3), (16391, 3), (16392, 3), (16393, 3), (16394, 3), (16395, 3), (16396, 3), (16397, 3), (16398, 3), (16399, 3), (16400, 3), (16401, 3), (16402, 3), (16403, 3), (16404, 3), (16405, 3), (16406, 3), (16407, 3), (16408, 3), (16409, 3), (16410, 3), (16411, 3), (16412, 3), (16413, 3), (16414, 3), (16415, 3), (16416, 3), (16417, 3), (16418, 3), (16419, 3), (16420, 3), (16421, 3), (16422, 3), (16423, 3), (16424, 3), (16425, 3), (16426, 3), (16427, 3), (16428, 3), (16429, 3), (16430, 3), (16431, 3), (16432, 3), (16433, 3), (16434, 3), (16435, 3), (16436, 3), (16437, 3), (16438, 3), (16439, 3), (16440, 3), (16441, 3), (16442, 3), (16443, 3), (16444, 3), (16445, 3), (16446, 3), (16447, 3), (16448, 3), (16449, 3), (16450, 3), (16451, 3), (16452, 3), (16453, 3), (16454, 3), (16455, 3), (16456, 3), (16457, 3), (16458, 3), (16459, 3), (16460, 3), (16461, 3), (16462, 3), (16463, 3), (16464, 3), (16465, 3), (16466, 3), (16467, 3), (16468, 3), (16469, 3), (16470, 3), (16471, 3), (16472, 3), (16473, 3), (16474, 3), (16475, 3), (16476, 3), (16477, 3), (16478, 3), (16479, 3), (16480, 3), (16481, 3), (16482, 3), (16483, 3), (16484, 3), (16485, 3), (16486, 3), (16487, 3), (16488, 3), (16489, 3), (16490, 3), (16491, 3), (16492, 3), (16493, 3), (16494, 3), (16495, 3), (16496, 3), (16497, 3), (16498, 3), (16499, 3), (16500, 3), (16501, 3), (16502, 3), (16503, 3), (16504, 3), (16505, 3), (16506, 3), (16507, 3), (16508, 3), (16509, 3), (16510, 3), (16511, 3), (16512, 3), (16513, 3), (16514, 3), (16515, 3), (16516, 3), (16517, 3), (16518, 3), (16519, 3), (16520, 3), (16521, 3), (16522, 3), (16523, 3), (16524, 3), (16525, 3), (16526, 3), (16527, 3), (16528, 3), (16529, 3), (16530, 3), (16531, 3), (16532, 3), (16533, 3), (16534, 3), (16535, 3), (16536, 3), (16537, 3), (16538, 3), (16539, 3), (16540, 3), (16541, 3), (16542, 3), (16543, 3), (16544, 3), (16545, 3), (16546, 3), (16547, 3), (16548, 3), (16549, 3), (16550, 3), (16551, 3), (16552, 3), (16553, 3), (16554, 3), (16555, 3), (16556, 3), (16557, 3), (16558, 3), (16559, 3), (16560, 3), (16561, 3), (16562, 3), (16563, 3), (16564, 3), (16565, 3), (16566, 3), (16567, 3), (16568, 3), (16569, 3), (16570, 3), (16571, 3), (16572, 3), (16573, 3), (16574, 3), (16575, 3), (16576, 3), (16577, 3), (16578, 3), (16579, 3), (16580, 3), (16581, 3), (16582, 3), (16583, 3), (16584, 3), (16585, 3), (16586, 3), (16587, 3), (16588, 3), (16589, 3), (16590, 3), (16591, 3), (16592, 3), (16593, 3), (16594, 3), (16595, 3), (16596, 3), (16597, 3), (16598, 3), (16599, 3), (16600, 3), (16601, 3), (16602, 3), (16603, 3), (16604, 3), (16605, 3), (16606, 3), (16607, 3), (16608, 3), (16609, 3), (16610, 3), (16611, 3), (16612, 3), (16613, 3), (16614, 3), (16615, 3), (16616, 3), (16617, 3), (16618, 3), (16619, 3), (16620, 3), (16621, 3), (16622, 3), (16623, 3), (16624, 3), (16625, 3), (16626, 3), (16627, 3), (16628, 3), (16629, 3), (16630, 3), (16631, 3), (16632, 3), (16633, 3), (16634, 3), (16635, 3), (16636, 3), (16637, 3), (16638, 3), (16639, 3), (16640, 3), (16641, 3), (16642, 3), (16643, 3), (16644, 3), (16645, 3), (16646, 3), (16647, 3), (16648, 3), (16649, 3), (16650, 3), (16651, 3), (16652, 3), (16653, 3), (16654, 3), (16655, 3), (16656, 3), (16657, 3), (16658, 3), (16659, 3), (16660, 3), (16661, 3), (16662, 3), (16663, 3), (16664, 3), (16665, 3), (16666, 3), (16667, 3), (16668, 3), (16669, 3), (16670, 3), (16671, 3), (16672, 3), (16673, 3), (16674, 3), (16675, 3), (16676, 3), (16677, 3), (16678, 3), (16679, 3), (16680, 3), (16681, 3), (16682, 3), (16683, 3), (16684, 3), (16685, 3), (16686, 3), (16687, 3), (16688, 3), (16689, 3), (16690, 3), (16691, 3), (16692, 3), (16693, 3), (16694, 3), (16695, 3), (16696, 3), (16697, 3), (16698, 3), (16699, 3), (16700, 3), (16701, 3), (16702, 3), (16703, 3), (16704, 3), (16705, 3), (16706, 3), (16707, 3), (16708, 3), (16709, 3), (16710, 3), (16711, 3), (16712, 3), (16713, 3), (16714, 3), (16715, 3), (16716, 3), (16717, 3), (16718, 3), (16719, 3), (16720, 3), (16721, 3), (16722, 3), (16723, 3), (16724, 3), (16725, 3), (16726, 3), (16727, 3), (16728, 3), (16729, 3), (16730, 3), (16731, 3), (16732, 3), (16733, 3), (16734, 3), (16735, 3), (16736, 3), (16737, 3), (16738, 3), (16739, 3), (16740, 3), (16741, 3), (16742, 3), (16743, 3), (16744, 3), (16745, 3), (16746, 3), (16747, 3), (16748, 3), (16749, 3), (16750, 3), (16751, 3), (16752, 3), (16753, 3), (16754, 3), (16755, 3), (16756, 3), (16757, 3), (16758, 3), (16759, 3), (16760, 3), (16761, 3), (16762, 3), (16763, 3), (16764, 3), (16765, 3), (16766, 3), (16767, 3), (16768, 3), (16769, 3), (16770, 3), (16771, 3), (16772, 3), (16773, 3), (16774, 3), (16775, 3), (16776, 3), (16777, 3), (16778, 3), (16779, 3), (16780, 3), (16781, 3), (16782, 3), (16783, 3), (16784, 3), (16785, 3), (16786, 3), (16787, 3), (16788, 3), (16789, 3), (16790, 3), (16791, 3), (16792, 3), (16793, 3), (16794, 3), (16795, 3), (16796, 3), (16797, 3), (16798, 3), (16799, 3), (16800, 3), (16801, 3), (16802, 3), (16803, 3), (16804, 3), (16805, 3), (16806, 3), (16807, 3), (16808, 3), (16809, 3), (16810, 3), (16811, 3), (16812, 3), (16813, 3), (16814, 3), (16815, 3), (16816, 3), (16817, 3), (16818, 3), (16819, 3), (16820, 3), (16821, 3), (16822, 3), (16823, 3), (16824, 3), (16825, 3), (16826, 3), (16827, 3), (16828, 3), (16829, 3), (16830, 3), (16831, 3), (16832, 3), (16833, 3), (16834, 3), (16835, 3), (16836, 3), (16837, 3), (16838, 3), (16839, 3), (16840, 3), (16841, 3), (16842, 3), (16843, 3), (16844, 3), (16845, 3), (16846, 3), (16847, 3), (16848, 3), (16849, 3), (16850, 3), (16851, 3), (16852, 3), (16853, 3), (16854, 3), (16855, 3), (16856, 3), (16857, 3), (16858, 3), (16859, 3), (16860, 3), (16861, 3), (16862, 3), (16863, 3), (16864, 3), (16865, 3), (16866, 3), (16867, 3), (16868, 3), (16869, 3), (16870, 3), (16871, 3), (16872, 3), (16873, 3), (16874, 3), (16875, 3), (16876, 3), (16877, 3), (16878, 3), (16879, 3), (16880, 3), (16881, 3), (16882, 3), (16883, 3), (16884, 3), (16885, 3), (16886, 3), (16887, 3), (16888, 3), (16889, 3), (16890, 3), (16891, 3), (16892, 3), (16893, 3), (16894, 3), (16895, 3), (16896, 3), (16897, 3), (16898, 3), (16899, 3), (16900, 3), (16901, 3), (16902, 3), (16903, 3), (16904, 3), (16905, 3), (16906, 3), (16907, 3), (16908, 3), (16909, 3), (16910, 3), (16911, 3), (16912, 3), (16913, 3), (16914, 3), (16915, 3), (16916, 3), (16917, 3), (16918, 3), (16919, 3), (16920, 3), (16921, 3), (16922, 3), (16923, 3), (16924, 3), (16925, 3), (16926, 3), (16927, 3), (16928, 3), (16929, 3), (16930, 3), (16931, 3), (16932, 3), (16933, 3), (16934, 3), (16935, 3), (16936, 3), (16937, 3), (16938, 3), (16939, 3), (16940, 3), (16941, 3), (16942, 3), (16943, 3), (16944, 3), (16945, 3), (16946, 3), (16947, 3), (16948, 3), (16949, 3), (16950, 3), (16951, 3), (16952, 3), (16953, 3), (16954, 3), (16955, 3), (16956, 3), (16957, 3), (16958, 3), (16959, 3), (16960, 3), (16961, 3), (16962, 3), (16963, 3), (16964, 3), (16965, 3), (16966, 3), (16967, 3), (16968, 3), (16969, 3), (16970, 3), (16971, 3), (16972, 3), (16973, 3), (16974, 3), (16975, 3), (16976, 3), (16977, 3), (16978, 3), (16979, 3), (16980, 3), (16981, 3), (16982, 3), (16983, 3), (16984, 3), (16985, 3), (16986, 3), (16987, 3), (16988, 3), (16989, 3), (16990, 3), (16991, 3), (16992, 3), (16993, 3), (16994, 3), (16995, 3), (16996, 3), (16997, 3), (16998, 3), (16999, 3), (17000, 3), (17001, 3), (17002, 3), (17003, 3), (17004, 3), (17005, 3), (17006, 3), (17007, 3), (17008, 3), (17009, 3), (17010, 3), (17011, 3), (17012, 3), (17013, 3), (17014, 3), (17015, 3), (17016, 3), (17017, 3), (17018, 3), (17019, 3), (17020, 3), (17021, 3), (17022, 3), (17023, 3), (17024, 3), (17025, 3), (17026, 3), (17027, 3), (17028, 3), (17029, 3), (17030, 3), (17031, 3), (17032, 3), (17033, 3), (17034, 3), (17035, 3), (17036, 3), (17037, 3), (17038, 3), (17039, 3), (17040, 3), (17041, 3), (17042, 3), (17043, 3), (17044, 3), (17045, 3), (17046, 3), (17047, 3), (17048, 3), (17049, 3), (17050, 3), (17051, 3), (17052, 3), (17053, 3), (17054, 3), (17055, 3), (17056, 3), (17057, 3), (17058, 3), (17059, 3), (17060, 3), (17061, 3), (17062, 3), (17063, 3), (17064, 3), (17065, 3), (17066, 3), (17067, 3), (17068, 3), (17069, 3), (17070, 3), (17071, 3), (17072, 3), (17073, 3), (17074, 3), (17075, 3), (17076, 3), (17077, 3), (17078, 3), (17079, 3), (17080, 3), (17081, 3), (17082, 3), (17083, 3), (17084, 3), (17085, 3), (17086, 3), (17087, 3), (17088, 3), (17089, 3), (17090, 3), (17091, 3), (17092, 3), (17093, 3), (17094, 3), (17095, 3), (17096, 3), (17097, 3), (17098, 3), (17099, 3), (17100, 3), (17101, 3), (17102, 3), (17103, 3), (17104, 3), (17105, 3), (17106, 3), (17107, 3), (17108, 3), (17109, 3), (17110, 3), (17111, 3), (17112, 3), (17113, 3), (17114, 3), (17115, 3), (17116, 3), (17117, 3), (17118, 3), (17119, 3), (17120, 3), (17121, 3), (17122, 3), (17123, 3), (17124, 3), (17125, 3), (17126, 3), (17127, 3), (17128, 3), (17129, 3), (17130, 3), (17131, 3), (17132, 3), (17133, 3), (17134, 3), (17135, 3), (17136, 3), (17137, 3), (17138, 3), (17139, 3), (17140, 3), (17141, 3), (17142, 3), (17143, 3), (17144, 3), (17145, 3), (17146, 3), (17147, 3), (17148, 3), (17149, 3), (17150, 3), (17151, 3), (17152, 3), (17153, 3), (17154, 3), (17155, 3), (17156, 3), (17157, 3), (17158, 3), (17159, 3), (17160, 3), (17161, 3), (17162, 3), (17163, 3), (17164, 3), (17165, 3), (17166, 3), (17167, 3), (17168, 3), (17169, 3), (17170, 3), (17171, 3), (17172, 3), (17173, 3), (17174, 3), (17175, 3), (17176, 3), (17177, 3), (17178, 3), (17179, 3), (17180, 3), (17181, 3), (17182, 3), (17183, 3), (17184, 3), (17185, 3), (17186, 3), (17187, 3), (17188, 3), (17189, 3), (17190, 3), (17191, 3), (17192, 3), (17193, 3), (17194, 3), (17195, 3), (17196, 3), (17197, 3), (17198, 3), (17199, 3), (17200, 3), (17201, 3), (17202, 3), (17203, 3), (17204, 3), (17205, 3), (17206, 3), (17207, 3), (17208, 3), (17209, 3), (17210, 3), (17211, 3), (17212, 3), (17213, 3), (17214, 3), (17215, 3), (17216, 3), (17217, 3), (17218, 3), (17219, 3), (17220, 3), (17221, 3), (17222, 3), (17223, 3), (17224, 3), (17225, 3), (17226, 3), (17227, 3), (17228, 3), (17229, 3), (17230, 3), (17231, 3), (17232, 3), (17233, 3), (17234, 3), (17235, 3), (17236, 3), (17237, 3), (17238, 3), (17239, 3), (17240, 3), (17241, 3), (17242, 3), (17243, 3), (17244, 3), (17245, 3), (17246, 3), (17247, 3), (17248, 3), (17249, 3), (17250, 3), (17251, 3), (17252, 3), (17253, 3), (17254, 3), (17255, 3), (17256, 3), (17257, 3), (17258, 3), (17259, 3), (17260, 3), (17261, 3), (17262, 3), (17263, 3), (17264, 3), (17265, 3), (17266, 3), (17267, 3), (17268, 3), (17269, 3), (17270, 3), (17271, 3), (17272, 3), (17273, 3), (17274, 3), (17275, 3), (17276, 3), (17277, 3), (17278, 3), (17279, 3), (17280, 3), (17281, 3), (17282, 3), (17283, 3), (17284, 3), (17285, 3), (17286, 3), (17287, 3), (17288, 3), (17289, 3), (17290, 3), (17291, 3), (17292, 3), (17293, 3), (17294, 3), (17295, 3), (17296, 3), (17297, 3), (17298, 3), (17299, 3), (17300, 3), (17301, 3), (17302, 3), (17303, 3), (17304, 3), (17305, 3), (17306, 3), (17307, 3), (17308, 3), (17309, 3), (17310, 3), (17311, 3), (17312, 3), (17313, 3), (17314, 3), (17315, 3), (17316, 3), (17317, 3), (17318, 3), (17319, 3), (17320, 3), (17321, 3), (17322, 3), (17323, 3), (17324, 3), (17325, 3), (17326, 3), (17327, 3), (17328, 3), (17329, 3), (17330, 3), (17331, 3), (17332, 3), (17333, 3), (17334, 3), (17335, 3), (17336, 3), (17337, 3), (17338, 3), (17339, 3), (17340, 3), (17341, 3), (17342, 3), (17343, 3), (17344, 3), (17345, 3), (17346, 3), (17347, 3), (17348, 3), (17349, 3), (17350, 3), (17351, 3), (17352, 3), (17353, 3), (17354, 3), (17355, 3), (17356, 3), (17357, 3), (17358, 3), (17359, 3), (17360, 3), (17361, 3), (17362, 3), (17363, 3), (17364, 3), (17365, 3), (17366, 3), (17367, 3), (17368, 3), (17369, 3), (17370, 3), (17371, 3), (17372, 3), (17373, 3), (17374, 3), (17375, 3), (17376, 3), (17377, 3), (17378, 3), (17379, 3), (17380, 3), (17381, 3), (17382, 3), (17383, 3), (17384, 3), (17385, 3), (17386, 3), (17387, 3), (17388, 3), (17389, 3), (17390, 3), (17391, 3), (17392, 3), (17393, 3), (17394, 3), (17395, 3), (17396, 3), (17397, 3), (17398, 3), (17399, 3), (17400, 3), (17401, 3), (17402, 3), (17403, 3), (17404, 3), (17405, 3), (17406, 3), (17407, 3), (17408, 3), (17409, 3), (17410, 3), (17411, 3), (17412, 3), (17413, 3), (17414, 3), (17415, 3), (17416, 3), (17417, 3), (17418, 3), (17419, 3), (17420, 3), (17421, 3), (17422, 3), (17423, 3), (17424, 3), (17425, 3), (17426, 3), (17427, 3), (17428, 3), (17429, 3), (17430, 3), (17431, 3), (17432, 3), (17433, 3), (17434, 3), (17435, 3), (17436, 3), (17437, 3), (17438, 3), (17439, 3), (17440, 3), (17441, 3), (17442, 3), (17443, 3), (17444, 3), (17445, 3), (17446, 3), (17447, 3), (17448, 3), (17449, 3), (17450, 3), (17451, 3), (17452, 3), (17453, 3), (17454, 3), (17455, 3), (17456, 3), (17457, 3), (17458, 3), (17459, 3), (17460, 3), (17461, 3), (17462, 3), (17463, 3), (17464, 3), (17465, 3), (17466, 3), (17467, 3), (17468, 3), (17469, 3), (17470, 3), (17471, 3), (17472, 3), (17473, 3), (17474, 3), (17475, 3), (17476, 3), (17477, 3), (17478, 3), (17479, 3), (17480, 3), (17481, 3), (17482, 3), (17483, 3), (17484, 3), (17485, 3), (17486, 3), (17487, 3), (17488, 3), (17489, 3), (17490, 3), (17491, 3), (17492, 3), (17493, 3), (17494, 3), (17495, 3), (17496, 3), (17497, 3), (17498, 3), (17499, 3), (17500, 3), (17501, 3), (17502, 3), (17503, 3), (17504, 3), (17505, 3), (17506, 3), (17507, 3), (17508, 3), (17509, 3), (17510, 3), (17511, 3), (17512, 3), (17513, 3), (17514, 3), (17515, 3), (17516, 3), (17517, 3), (17518, 3), (17519, 3), (17520, 3), (17521, 3), (17522, 3), (17523, 3), (17524, 3), (17525, 3), (17526, 3), (17527, 3), (17528, 3), (17529, 3), (17530, 3), (17531, 3), (17532, 3), (17533, 3), (17534, 3), (17535, 3), (17536, 3), (17537, 3), (17538, 3), (17539, 3), (17540, 3), (17541, 3), (17542, 3), (17543, 3), (17544, 3), (17545, 3), (17546, 3), (17547, 3), (17548, 3), (17549, 3), (17550, 3), (17551, 3), (17552, 3), (17553, 3), (17554, 3), (17555, 3), (17556, 3), (17557, 3), (17558, 3), (17559, 3), (17560, 3), (17561, 3), (17562, 3), (17563, 3), (17564, 3), (17565, 3), (17566, 3), (17567, 3), (17568, 3), (17569, 3), (17570, 3), (17571, 3), (17572, 3), (17573, 3), (17574, 3), (17575, 3), (17576, 3), (17577, 3), (17578, 3), (17579, 3), (17580, 3), (17581, 3), (17582, 3), (17583, 3), (17584, 3), (17585, 3), (17586, 3), (17587, 3), (17588, 3), (17589, 3), (17590, 3), (17591, 3), (17592, 3), (17593, 3), (17594, 3), (17595, 3), (17596, 3), (17597, 3), (17598, 3), (17599, 3), (17600, 3), (17601, 3), (17602, 3), (17603, 3), (17604, 3), (17605, 3), (17606, 3), (17607, 3), (17608, 3), (17609, 3), (17610, 3), (17611, 3), (17612, 3), (17613, 3), (17614, 3), (17615, 3), (17616, 3), (17617, 3), (17618, 3), (17619, 3), (17620, 3), (17621, 3), (17622, 3), (17623, 3), (17624, 3), (17625, 3), (17626, 3), (17627, 3), (17628, 3), (17629, 3), (17630, 3), (17631, 3), (17632, 3), (17633, 3), (17634, 3), (17635, 3), (17636, 3), (17637, 3), (17638, 3), (17639, 3), (17640, 3), (17641, 3), (17642, 3), (17643, 3), (17644, 3), (17645, 3), (17646, 3), (17647, 3), (17648, 3), (17649, 3), (17650, 3), (17651, 3), (17652, 3), (17653, 3), (17654, 3), (17655, 3), (17656, 3), (17657, 3), (17658, 3), (17659, 3), (17660, 3), (17661, 3), (17662, 3), (17663, 3), (17664, 3), (17665, 3), (17666, 3), (17667, 3), (17668, 3), (17669, 3), (17670, 3), (17671, 3), (17672, 3), (17673, 3), (17674, 3), (17675, 3), (17676, 3), (17677, 3), (17678, 3), (17679, 3), (17680, 3), (17681, 3), (17682, 3), (17683, 3), (17684, 3), (17685, 3), (17686, 3), (17687, 3), (17688, 3), (17689, 3), (17690, 3), (17691, 3), (17692, 3), (17693, 3), (17694, 3), (17695, 3), (17696, 3), (17697, 3), (17698, 3), (17699, 3), (17700, 3), (17701, 3), (17702, 3), (17703, 3), (17704, 3), (17705, 3), (17706, 3), (17707, 3), (17708, 3), (17709, 3), (17710, 3), (17711, 3), (17712, 3), (17713, 3), (17714, 3), (17715, 3), (17716, 3), (17717, 3), (17718, 3), (17719, 3), (17720, 3), (17721, 3), (17722, 3), (17723, 3), (17724, 3), (17725, 3), (17726, 3), (17727, 3), (17728, 3), (17729, 3), (17730, 3), (17731, 3), (17732, 3), (17733, 3), (17734, 3), (17735, 3), (17736, 3), (17737, 3), (17738, 3), (17739, 3), (17740, 3), (17741, 3), (17742, 3), (17743, 3), (17744, 3), (17745, 3), (17746, 3), (17747, 3), (17748, 3), (17749, 3), (17750, 3), (17751, 3), (17752, 3), (17753, 3), (17754, 3), (17755, 3), (17756, 3), (17757, 3), (17758, 3), (17759, 3), (17760, 3), (17761, 3), (17762, 3), (17763, 3), (17764, 3), (17765, 3), (17766, 3), (17767, 3), (17768, 3), (17769, 3), (17770, 3), (17771, 3), (17772, 3), (17773, 3), (17774, 3), (17775, 3), (17776, 3), (17777, 3), (17778, 3), (17779, 3), (17780, 3), (17781, 3), (17782, 3), (17783, 3), (17784, 3), (17785, 3), (17786, 3), (17787, 3), (17788, 3), (17789, 3), (17790, 3), (17791, 3), (17792, 3), (17793, 3), (17794, 3), (17795, 3), (17796, 3), (17797, 3), (17798, 3), (17799, 3), (17800, 3), (17801, 3), (17802, 3), (17803, 3), (17804, 3), (17805, 3), (17806, 3), (17807, 3), (17808, 3), (17809, 3), (17810, 3), (17811, 3), (17812, 3), (17813, 3), (17814, 3), (17815, 3), (17816, 3), (17817, 3), (17818, 3), (17819, 3), (17820, 3), (17821, 3), (17822, 3), (17823, 3), (17824, 3), (17825, 3), (17826, 3), (17827, 3), (17828, 3), (17829, 3), (17830, 3), (17831, 3), (17832, 3), (17833, 3), (17834, 3), (17835, 3), (17836, 3), (17837, 3), (17838, 3), (17839, 3), (17840, 3), (17841, 3), (17842, 3), (17843, 3), (17844, 3), (17845, 3), (17846, 3), (17847, 3), (17848, 3), (17849, 3), (17850, 3), (17851, 3), (17852, 3), (17853, 3), (17854, 3), (17855, 3), (17856, 3), (17857, 3), (17858, 3), (17859, 3), (17860, 3), (17861, 3), (17862, 3), (17863, 3), (17864, 3), (17865, 3), (17866, 3), (17867, 3), (17868, 3), (17869, 3), (17870, 3), (17871, 3), (17872, 3), (17873, 3), (17874, 3), (17875, 3), (17876, 3), (17877, 3), (17878, 3), (17879, 3), (17880, 3), (17881, 3), (17882, 3), (17883, 3), (17884, 3), (17885, 3), (17886, 3), (17887, 3), (17888, 3), (17889, 3), (17890, 3), (17891, 3), (17892, 3), (17893, 3), (17894, 3), (17895, 3), (17896, 3), (17897, 3), (17898, 3), (17899, 3), (17900, 3), (17901, 3), (17902, 3), (17903, 3), (17904, 3), (17905, 3), (17906, 3), (17907, 3), (17908, 3), (17909, 3), (17910, 3), (17911, 3), (17912, 3), (17913, 3), (17914, 3), (17915, 3), (17916, 3), (17917, 3), (17918, 3), (17919, 3), (17920, 3), (17921, 3), (17922, 3), (17923, 3), (17924, 3), (17925, 3), (17926, 3), (17927, 3), (17928, 3), (17929, 3), (17930, 3), (17931, 3), (17932, 3), (17933, 3), (17934, 3), (17935, 3), (17936, 3), (17937, 3), (17938, 3), (17939, 3), (17940, 3), (17941, 3), (17942, 3), (17943, 3), (17944, 3), (17945, 3), (17946, 3), (17947, 3), (17948, 3), (17949, 3), (17950, 3), (17951, 3), (17952, 3), (17953, 3), (17954, 3), (17955, 3), (17956, 3), (17957, 3), (17958, 3), (17959, 3), (17960, 3), (17961, 3), (17962, 3), (17963, 3), (17964, 3), (17965, 3), (17966, 3), (17967, 3), (17968, 3), (17969, 3), (17970, 3), (17971, 3), (17972, 3), (17973, 3), (17974, 3), (17975, 3), (17976, 3), (17977, 3), (17978, 3), (17979, 3), (17980, 3), (17981, 3), (17982, 3), (17983, 3), (17984, 3), (17985, 3), (17986, 3), (17987, 3), (17988, 3), (17989, 3), (17990, 3), (17991, 3), (17992, 3), (17993, 3), (17994, 3), (17995, 3), (17996, 3), (17997, 3), (17998, 3), (17999, 3), (18000, 3), (18001, 3), (18002, 3), (18003, 3), (18004, 3), (18005, 3), (18006, 3), (18007, 3), (18008, 3), (18009, 3), (18010, 3), (18011, 3), (18012, 3), (18013, 3), (18014, 3), (18015, 3), (18016, 3), (18017, 3), (18018, 3), (18019, 3), (18020, 3), (18021, 3), (18022, 3), (18023, 3), (18024, 3), (18025, 3), (18026, 3), (18027, 3), (18028, 3), (18029, 3), (18030, 3), (18031, 3), (18032, 3), (18033, 3), (18034, 3), (18035, 3), (18036, 3), (18037, 3), (18038, 3), (18039, 3), (18040, 3), (18041, 3), (18042, 3), (18043, 3), (18044, 3), (18045, 3), (18046, 3), (18047, 3), (18048, 3), (18049, 3), (18050, 3), (18051, 3), (18052, 3), (18053, 3), (18054, 3), (18055, 3), (18056, 3), (18057, 3), (18058, 3), (18059, 3), (18060, 3), (18061, 3), (18062, 3), (18063, 3), (18064, 3), (18065, 3), (18066, 3), (18067, 3), (18068, 3), (18069, 3), (18070, 3), (18071, 3), (18072, 3), (18073, 3), (18074, 3), (18075, 3), (18076, 3), (18077, 3), (18078, 3), (18079, 3), (18080, 3), (18081, 3), (18082, 3), (18083, 3), (18084, 3), (18085, 3), (18086, 3), (18087, 3), (18088, 3), (18089, 3), (18090, 3), (18091, 3), (18092, 3), (18093, 3), (18094, 3), (18095, 3), (18096, 3), (18097, 3), (18098, 3), (18099, 3), (18100, 3), (18101, 3), (18102, 3), (18103, 3), (18104, 3), (18105, 3), (18106, 3), (18107, 3), (18108, 3), (18109, 3), (18110, 3), (18111, 3), (18112, 3), (18113, 3), (18114, 3), (18115, 3), (18116, 3), (18117, 3), (18118, 3), (18119, 3), (18120, 3), (18121, 3), (18122, 3), (18123, 3), (18124, 3), (18125, 3), (18126, 3), (18127, 3), (18128, 3), (18129, 3), (18130, 3), (18131, 3), (18132, 3), (18133, 3), (18134, 3), (18135, 3), (18136, 3), (18137, 3), (18138, 3), (18139, 3), (18140, 3), (18141, 3), (18142, 3), (18143, 3), (18144, 3), (18145, 3), (18146, 3), (18147, 3), (18148, 3), (18149, 3), (18150, 3), (18151, 3), (18152, 3), (18153, 3), (18154, 3), (18155, 3), (18156, 3), (18157, 3), (18158, 3), (18159, 3), (18160, 3), (18161, 3), (18162, 3), (18163, 3), (18164, 3), (18165, 3), (18166, 3), (18167, 3), (18168, 3), (18169, 3), (18170, 3), (18171, 3), (18172, 3), (18173, 3), (18174, 3), (18175, 3), (18176, 3), (18177, 3), (18178, 3), (18179, 3), (18180, 3), (18181, 3), (18182, 3), (18183, 3), (18184, 3), (18185, 3), (18186, 3), (18187, 3), (18188, 3), (18189, 3), (18190, 3), (18191, 3), (18192, 3), (18193, 3), (18194, 3), (18195, 3), (18196, 3), (18197, 3), (18198, 3), (18199, 3), (18200, 3), (18201, 3), (18202, 3), (18203, 3), (18204, 3), (18205, 3), (18206, 3), (18207, 3), (18208, 3), (18209, 3), (18210, 3), (18211, 3), (18212, 3), (18213, 3), (18214, 3), (18215, 3), (18216, 3), (18217, 3), (18218, 3), (18219, 3), (18220, 3), (18221, 3), (18222, 3), (18223, 3), (18224, 3), (18225, 3), (18226, 3), (18227, 3), (18228, 3), (18229, 3), (18230, 3), (18231, 3), (18232, 3), (18233, 3), (18234, 3), (18235, 3), (18236, 3), (18237, 3), (18238, 3), (18239, 3), (18240, 3), (18241, 3), (18242, 3), (18243, 3), (18244, 3), (18245, 3), (18246, 3), (18247, 3), (18248, 3), (18249, 3), (18250, 3), (18251, 3), (18252, 3), (18253, 3), (18254, 3), (18255, 3), (18256, 3), (18257, 3), (18258, 3), (18259, 3), (18260, 3), (18261, 3), (18262, 3), (18263, 3), (18264, 3), (18265, 3), (18266, 3), (18267, 3), (18268, 3), (18269, 3), (18270, 3), (18271, 3), (18272, 3), (18273, 3), (18274, 3), (18275, 3), (18276, 3), (18277, 3), (18278, 3), (18279, 3), (18280, 3), (18281, 3), (18282, 3), (18283, 3), (18284, 3), (18285, 3), (18286, 3), (18287, 3), (18288, 3), (18289, 3), (18290, 3), (18291, 3), (18292, 3), (18293, 3), (18294, 3), (18295, 3), (18296, 3), (18297, 3), (18298, 3), (18299, 3), (18300, 3), (18301, 3), (18302, 3), (18303, 3), (18304, 3), (18305, 3), (18306, 3), (18307, 3), (18308, 3), (18309, 3), (18310, 3), (18311, 3), (18312, 3), (18313, 3), (18314, 3), (18315, 3), (18316, 3), (18317, 3), (18318, 3), (18319, 3), (18320, 3), (18321, 3), (18322, 3), (18323, 3), (18324, 3), (18325, 3), (18326, 3), (18327, 3), (18328, 3), (18329, 3), (18330, 3), (18331, 3), (18332, 3), (18333, 3), (18334, 3), (18335, 3), (18336, 3), (18337, 3), (18338, 3), (18339, 3), (18340, 3), (18341, 3), (18342, 3), (18343, 3), (18344, 3), (18345, 3), (18346, 3), (18347, 3), (18348, 3), (18349, 3), (18350, 3), (18351, 3), (18352, 3), (18353, 3), (18354, 3), (18355, 3), (18356, 3), (18357, 3), (18358, 3), (18359, 3), (18360, 3), (18361, 3), (18362, 3), (18363, 3), (18364, 3), (18365, 3), (18366, 3), (18367, 3), (18368, 3), (18369, 3), (18370, 3), (18371, 3), (18372, 3), (18373, 3), (18374, 3), (18375, 3), (18376, 3), (18377, 3), (18378, 3), (18379, 3), (18380, 3), (18381, 3), (18382, 3), (18383, 3), (18384, 3), (18385, 3), (18386, 3), (18387, 3), (18388, 3), (18389, 3), (18390, 3), (18391, 3), (18392, 3), (18393, 3), (18394, 3), (18395, 3), (18396, 3), (18397, 3), (18398, 3), (18399, 3), (18400, 3), (18401, 3), (18402, 3), (18403, 3), (18404, 3), (18405, 3), (18406, 3), (18407, 3), (18408, 3), (18409, 3), (18410, 3), (18411, 3), (18412, 3), (18413, 3), (18414, 3), (18415, 3), (18416, 3), (18417, 3), (18418, 3), (18419, 3), (18420, 3), (18421, 3), (18422, 3), (18423, 3), (18424, 3), (18425, 3), (18426, 3), (18427, 3), (18428, 3), (18429, 3), (18430, 3), (18431, 3), (18432, 3), (18433, 3), (18434, 3), (18435, 3), (18436, 3), (18437, 3), (18438, 3), (18439, 3), (18440, 3), (18441, 3), (18442, 3), (18443, 3), (18444, 3), (18445, 3), (18446, 3), (18447, 3), (18448, 3), (18449, 3), (18450, 3), (18451, 3), (18452, 3), (18453, 3), (18454, 3), (18455, 3), (18456, 3), (18457, 3), (18458, 3), (18459, 3), (18460, 3), (18461, 3), (18462, 3), (18463, 3), (18464, 3), (18465, 3), (18466, 3), (18467, 3), (18468, 3), (18469, 3), (18470, 3), (18471, 3), (18472, 3), (18473, 3), (18474, 3), (18475, 3), (18476, 3), (18477, 3), (18478, 3), (18479, 3), (18480, 3), (18481, 3), (18482, 3), (18483, 3), (18484, 3), (18485, 3), (18486, 3), (18487, 3), (18488, 3), (18489, 3), (18490, 3), (18491, 3), (18492, 3), (18493, 3), (18494, 3), (18495, 3), (18496, 3), (18497, 3), (18498, 3), (18499, 3), (18500, 3), (18501, 3), (18502, 3), (18503, 3), (18504, 3), (18505, 3), (18506, 3), (18507, 3), (18508, 3), (18509, 3), (18510, 3), (18511, 3), (18512, 3), (18513, 3), (18514, 3), (18515, 3), (18516, 3), (18517, 3), (18518, 3), (18519, 3), (18520, 3), (18521, 3), (18522, 3), (18523, 3), (18524, 3), (18525, 3), (18526, 3), (18527, 3), (18528, 3), (18529, 3), (18530, 3), (18531, 3), (18532, 3), (18533, 3), (18534, 3), (18535, 3), (18536, 3), (18537, 3), (18538, 3), (18539, 3), (18540, 3), (18541, 3), (18542, 3), (18543, 3), (18544, 3), (18545, 3), (18546, 3), (18547, 3), (18548, 3), (18549, 3), (18550, 3), (18551, 3), (18552, 3), (18553, 3), (18554, 3), (18555, 3), (18556, 3), (18557, 3), (18558, 3), (18559, 3), (18560, 3), (18561, 3), (18562, 3), (18563, 3), (18564, 3), (18565, 3), (18566, 3), (18567, 3), (18568, 3), (18569, 3), (18570, 3), (18571, 3), (18572, 3), (18573, 3), (18574, 3), (18575, 3), (18576, 3), (18577, 3), (18578, 3), (18579, 3), (18580, 3), (18581, 3), (18582, 3), (18583, 3), (18584, 3), (18585, 3), (18586, 3), (18587, 3), (18588, 3), (18589, 3), (18590, 3), (18591, 3), (18592, 3), (18593, 3), (18594, 3), (18595, 3), (18596, 3), (18597, 3), (18598, 3), (18599, 3), (18600, 3), (18601, 3), (18602, 3), (18603, 3), (18604, 3), (18605, 3), (18606, 3), (18607, 3), (18608, 3), (18609, 3), (18610, 3), (18611, 3), (18612, 3), (18613, 3), (18614, 3), (18615, 3), (18616, 3), (18617, 3), (18618, 3), (18619, 3), (18620, 3), (18621, 3), (18622, 3), (18623, 3), (18624, 3), (18625, 3), (18626, 3), (18627, 3), (18628, 3), (18629, 3), (18630, 3), (18631, 3), (18632, 3), (18633, 3), (18634, 3), (18635, 3), (18636, 3), (18637, 3), (18638, 3), (18639, 3), (18640, 3), (18641, 3), (18642, 3), (18643, 3), (18644, 3), (18645, 3), (18646, 3), (18647, 3), (18648, 3), (18649, 3), (18650, 3), (18651, 3), (18652, 3), (18653, 3), (18654, 3), (18655, 3), (18656, 3), (18657, 3), (18658, 3), (18659, 3), (18660, 3), (18661, 3), (18662, 3), (18663, 3), (18664, 3), (18665, 3), (18666, 3), (18667, 3), (18668, 3), (18669, 3), (18670, 3), (18671, 3), (18672, 3), (18673, 3), (18674, 3), (18675, 3), (18676, 3), (18677, 3), (18678, 3), (18679, 3), (18680, 3), (18681, 3), (18682, 3), (18683, 3), (18684, 3), (18685, 3), (18686, 3), (18687, 3), (18688, 3), (18689, 3), (18690, 3), (18691, 3), (18692, 3), (18693, 3), (18694, 3), (18695, 3), (18696, 3), (18697, 3), (18698, 3), (18699, 3), (18700, 3), (18701, 3), (18702, 3), (18703, 3), (18704, 3), (18705, 3), (18706, 3), (18707, 3), (18708, 3), (18709, 3), (18710, 3), (18711, 3), (18712, 3), (18713, 3), (18714, 3), (18715, 3), (18716, 3), (18717, 3), (18718, 3), (18719, 3), (18720, 3), (18721, 3), (18722, 3), (18723, 3), (18724, 3), (18725, 3), (18726, 3), (18727, 3), (18728, 3), (18729, 3), (18730, 3), (18731, 3), (18732, 3), (18733, 3), (18734, 3), (18735, 3), (18736, 3), (18737, 3), (18738, 3), (18739, 3), (18740, 3), (18741, 3), (18742, 3), (18743, 3), (18744, 3), (18745, 3), (18746, 3), (18747, 3), (18748, 3), (18749, 3), (18750, 3), (18751, 3), (18752, 3), (18753, 3), (18754, 3), (18755, 3), (18756, 3), (18757, 3), (18758, 3), (18759, 3), (18760, 3), (18761, 3), (18762, 3), (18763, 3), (18764, 3), (18765, 3), (18766, 3), (18767, 3), (18768, 3), (18769, 3), (18770, 3), (18771, 3), (18772, 3), (18773, 3), (18774, 3), (18775, 3), (18776, 3), (18777, 3), (18778, 3), (18779, 3), (18780, 3), (18781, 3), (18782, 3), (18783, 3), (18784, 3), (18785, 3), (18786, 3), (18787, 3), (18788, 3), (18789, 3), (18790, 3), (18791, 3), (18792, 3), (18793, 3), (18794, 3), (18795, 3), (18796, 3), (18797, 3), (18798, 3), (18799, 3), (18800, 3), (18801, 3), (18802, 3), (18803, 3), (18804, 3), (18805, 3), (18806, 3), (18807, 3), (18808, 3), (18809, 3), (18810, 3), (18811, 3), (18812, 3), (18813, 3), (18814, 3), (18815, 3), (18816, 3), (18817, 3), (18818, 3), (18819, 3), (18820, 3), (18821, 3), (18822, 1), (18823, 1), (18824, 1), (18825, 1), (18826, 1), (18827, 1), (18828, 1), (18829, 1), (18830, 1), (18831, 1), (18832, 1), (18833, 1), (18834, 1), (18835, 1), (18836, 1), (18837, 1), (18838, 1), (18839, 1), (18840, 1), (18841, 1), (18842, 1), (18843, 1), (18844, 1), (18845, 1), (18846, 1), (18847, 1), (18848, 1), (18849, 1), (18850, 1), (18851, 1), (18852, 1), (18853, 1), (18854, 1), (18855, 1), (18856, 1), (18857, 1), (18858, 1), (18859, 1), (18860, 1), (18861, 1), (18862, 1), (18863, 1), (18864, 1), (18865, 1), (18866, 1), (18867, 1), (18868, 1), (18869, 1), (18870, 1), (18871, 1), (18872, 1), (18873, 1), (18874, 1), (18875, 1), (18876, 1), (18877, 1), (18878, 1), (18879, 1), (18880, 1), (18881, 1), (18882, 1), (18883, 1), (18884, 1), (18885, 1), (18886, 1), (18887, 1), (18888, 1), (18889, 1), (18890, 1), (18891, 1), (18892, 1), (18893, 1), (18894, 1), (18895, 1), (18896, 1), (18897, 1), (18898, 1), (18899, 1), (18900, 1), (18901, 1), (18902, 1), (18903, 1), (18904, 1), (18905, 1), (18906, 1), (18907, 1), (18908, 1), (18909, 1), (18910, 1), (18911, 1), (18912, 1), (18913, 1), (18914, 1), (18915, 1), (18916, 1), (18917, 1), (18918, 1), (18919, 1), (18920, 1), (18921, 1), (18922, 1), (18923, 1), (18924, 1), (18925, 1), (18926, 1), (18927, 1), (18928, 1), (18929, 1), (18930, 1), (18931, 1), (18932, 1), (18933, 1), (18934, 1), (18935, 1), (18936, 1), (18937, 1), (18938, 1), (18939, 1), (18940, 1), (18941, 1), (18942, 1), (18943, 1), (18944, 1), (18945, 1), (18946, 1), (18947, 1), (18948, 1), (18949, 1), (18950, 1), (18951, 1), (18952, 1), (18953, 1), (18954, 1), (18955, 1), (18956, 1), (18957, 1), (18958, 1), (18959, 1), (18960, 1), (18961, 1), (18962, 1), (18963, 1), (18964, 1), (18965, 1), (18966, 1), (18967, 1), (18968, 1), (18969, 1), (18970, 1), (18971, 1), (18972, 1), (18973, 1), (18974, 1), (18975, 1), (18976, 1), (18977, 1), (18978, 1), (18979, 1), (18980, 1), (18981, 1), (18982, 1), (18983, 1), (18984, 1), (18985, 1), (18986, 1), (18987, 1), (18988, 1), (18989, 1), (18990, 1), (18991, 1), (18992, 1), (18993, 1), (18994, 1), (18995, 1), (18996, 1), (18997, 1), (18998, 1), (18999, 1), (19000, 1), (19001, 1), (19002, 1), (19003, 1), (19004, 1), (19005, 1), (19006, 1), (19007, 1), (19008, 1), (19009, 1), (19010, 1), (19011, 1), (19012, 1), (19013, 1), (19014, 1), (19015, 1), (19016, 1), (19017, 1), (19018, 1), (19019, 1), (19020, 1), (19021, 1), (19022, 1), (19023, 1), (19024, 1), (19025, 1), (19026, 1), (19027, 1), (19028, 1), (19029, 1), (19030, 1), (19031, 1), (19032, 1), (19033, 1), (19034, 1), (19035, 1), (19036, 1), (19037, 1), (19038, 1), (19039, 1), (19040, 1), (19041, 1), (19042, 1), (19043, 1), (19044, 1), (19045, 1), (19046, 1), (19047, 1), (19048, 1), (19049, 1), (19050, 1), (19051, 1), (19052, 1), (19053, 1), (19054, 1), (19055, 1), (19056, 1), (19057, 1), (19058, 1), (19059, 1), (19060, 1), (19061, 1), (19062, 1), (19063, 1), (19064, 1), (19065, 1), (19066, 1), (19067, 1), (19068, 1), (19069, 1), (19070, 1), (19071, 1), (19072, 1), (19073, 1), (19074, 1), (19075, 1), (19076, 1), (19077, 1), (19078, 1), (19079, 1), (19080, 1), (19081, 1), (19082, 1), (19083, 1), (19084, 1), (19085, 1), (19086, 1), (19087, 1), (19088, 1), (19089, 1), (19090, 1), (19091, 1), (19092, 1), (19093, 1), (19094, 1), (19095, 1), (19096, 1), (19097, 1), (19098, 1), (19099, 1), (19100, 1), (19101, 1), (19102, 1), (19103, 1), (19104, 1), (19105, 1), (19106, 1), (19107, 1), (19108, 1), (19109, 1), (19110, 1), (19111, 1), (19112, 1), (19113, 1), (19114, 1), (19115, 1), (19116, 1), (19117, 1), (19118, 1), (19119, 1), (19120, 1), (19121, 1), (19122, 1), (19123, 1), (19124, 1), (19125, 1), (19126, 1), (19127, 1), (19128, 1), (19129, 1), (19130, 1), (19131, 1), (19132, 1), (19133, 1), (19134, 1), (19135, 1), (19136, 1), (19137, 1), (19138, 1), (19139, 1), (19140, 1), (19141, 1), (19142, 1), (19143, 1), (19144, 1), (19145, 1), (19146, 1), (19147, 1), (19148, 1), (19149, 1), (19150, 1), (19151, 1), (19152, 1), (19153, 1), (19154, 1), (19155, 1), (19156, 1), (19157, 1), (19158, 1), (19159, 1), (19160, 1), (19161, 1), (19162, 1), (19163, 1), (19164, 1), (19165, 1), (19166, 1), (19167, 1), (19168, 1), (19169, 1), (19170, 1), (19171, 1), (19172, 1), (19173, 1), (19174, 1), (19175, 1), (19176, 1), (19177, 1), (19178, 1), (19179, 1), (19180, 1), (19181, 1), (19182, 1), (19183, 1), (19184, 1), (19185, 1), (19186, 1), (19187, 1), (19188, 1), (19189, 1), (19190, 1), (19191, 1), (19192, 1), (19193, 1), (19194, 1), (19195, 1), (19196, 1), (19197, 1), (19198, 1), (19199, 1), (19200, 1), (19201, 1), (19202, 1), (19203, 1), (19204, 1), (19205, 1), (19206, 1), (19207, 1), (19208, 1), (19209, 1), (19210, 1), (19211, 1), (19212, 1), (19213, 1), (19214, 1), (19215, 1), (19216, 1), (19217, 1), (19218, 1), (19219, 1), (19220, 1), (19221, 1), (19222, 1), (19223, 1), (19224, 1), (19225, 1), (19226, 1), (19227, 1), (19228, 1), (19229, 1), (19230, 1), (19231, 1), (19232, 1), (19233, 1), (19234, 1), (19235, 1), (19236, 1), (19237, 1), (19238, 1), (19239, 1), (19240, 1), (19241, 1), (19242, 1), (19243, 1), (19244, 1), (19245, 1), (19246, 1), (19247, 1), (19248, 1), (19249, 1), (19250, 1), (19251, 1), (19252, 1), (19253, 1), (19254, 1), (19255, 1), (19256, 1), (19257, 1), (19258, 1), (19259, 1), (19260, 1), (19261, 1), (19262, 1), (19263, 1), (19264, 1), (19265, 1), (19266, 1), (19267, 1), (19268, 1), (19269, 1), (19270, 1), (19271, 1), (19272, 1), (19273, 1), (19274, 1), (19275, 1), (19276, 1), (19277, 1), (19278, 1), (19279, 1), (19280, 1), (19281, 1), (19282, 1), (19283, 1), (19284, 1), (19285, 1), (19286, 1), (19287, 1), (19288, 1), (19289, 1), (19290, 1), (19291, 1), (19292, 1), (19293, 1), (19294, 1), (19295, 1), (19296, 1), (19297, 1), (19298, 1), (19299, 1), (19300, 1), (19301, 1), (19302, 1), (19303, 1), (19304, 1), (19305, 1), (19306, 1), (19307, 1), (19308, 1), (19309, 1), (19310, 1), (19311, 1), (19312, 1), (19313, 1), (19314, 1), (19315, 1), (19316, 1), (19317, 1), (19318, 1), (19319, 1), (19320, 1), (19321, 1), (19322, 1), (19323, 1), (19324, 1), (19325, 1), (19326, 1), (19327, 1), (19328, 1), (19329, 1), (19330, 1), (19331, 1), (19332, 1), (19333, 1), (19334, 1), (19335, 1), (19336, 1), (19337, 1), (19338, 1), (19339, 1), (19340, 1), (19341, 1), (19342, 1), (19343, 1), (19344, 1), (19345, 1), (19346, 1), (19347, 1), (19348, 1), (19349, 1), (19350, 1), (19351, 1), (19352, 1), (19353, 1), (19354, 1), (19355, 1), (19356, 1), (19357, 1), (19358, 1), (19359, 1), (19360, 1), (19361, 1), (19362, 1), (19363, 1), (19364, 1), (19365, 1), (19366, 1), (19367, 1), (19368, 1), (19369, 1), (19370, 1), (19371, 1), (19372, 1), (19373, 1), (19374, 1), (19375, 1), (19376, 1), (19377, 1), (19378, 1), (19379, 1), (19380, 1), (19381, 1), (19382, 1), (19383, 1), (19384, 1), (19385, 1), (19386, 1), (19387, 1), (19388, 1), (19389, 1), (19390, 1), (19391, 1), (19392, 1), (19393, 1), (19394, 1), (19395, 1), (19396, 1), (19397, 1), (19398, 1), (19399, 1), (19400, 1), (19401, 1), (19402, 1), (19403, 1), (19404, 1), (19405, 1), (19406, 1), (19407, 1), (19408, 1), (19409, 1), (19410, 1), (19411, 1), (19412, 1), (19413, 1), (19414, 1), (19415, 1), (19416, 1), (19417, 1), (19418, 1), (19419, 1), (19420, 1), (19421, 1), (19422, 1), (19423, 1), (19424, 1), (19425, 1), (19426, 1), (19427, 1), (19428, 1), (19429, 1), (19430, 1), (19431, 1), (19432, 1), (19433, 1), (19434, 1), (19435, 1), (19436, 1), (19437, 1), (19438, 1), (19439, 1), (19440, 1), (19441, 1), (19442, 1), (19443, 1), (19444, 1), (19445, 1), (19446, 1), (19447, 1), (19448, 1), (19449, 1), (19450, 1), (19451, 1), (19452, 1), (19453, 1), (19454, 1), (19455, 1), (19456, 1), (19457, 1), (19458, 1), (19459, 1), (19460, 1), (19461, 1), (19462, 1), (19463, 1), (19464, 1), (19465, 1), (19466, 1), (19467, 1), (19468, 1), (19469, 1), (19470, 1), (19471, 1), (19472, 1), (19473, 1), (19474, 1), (19475, 1), (19476, 1), (19477, 1), (19478, 1), (19479, 1), (19480, 1), (19481, 1), (19482, 1), (19483, 1), (19484, 1), (19485, 1), (19486, 1), (19487, 1), (19488, 1), (19489, 1), (19490, 1), (19491, 1), (19492, 1), (19493, 1), (19494, 1), (19495, 1), (19496, 1), (19497, 1), (19498, 1), (19499, 1), (19500, 1), (19501, 1), (19502, 1), (19503, 1), (19504, 1), (19505, 1), (19506, 1), (19507, 1), (19508, 1), (19509, 1), (19510, 1), (19511, 1), (19512, 1), (19513, 1), (19514, 1), (19515, 1), (19516, 1), (19517, 1), (19518, 1), (19519, 1), (19520, 1), (19521, 1), (19522, 1), (19523, 1), (19524, 1), (19525, 1), (19526, 1), (19527, 1), (19528, 1), (19529, 1), (19530, 1), (19531, 1), (19532, 1), (19533, 1), (19534, 1), (19535, 1), (19536, 1), (19537, 1), (19538, 1), (19539, 1), (19540, 1), (19541, 1), (19542, 1), (19543, 1), (19544, 1), (19545, 1), (19546, 1), (19547, 1), (19548, 1), (19549, 1), (19550, 1), (19551, 1), (19552, 1), (19553, 1), (19554, 1), (19555, 1), (19556, 1), (19557, 1), (19558, 1), (19559, 1), (19560, 1), (19561, 1), (19562, 1), (19563, 1), (19564, 1), (19565, 1), (19566, 1), (19567, 1), (19568, 1), (19569, 1), (19570, 1), (19571, 1), (19572, 1), (19573, 1), (19574, 1), (19575, 1), (19576, 1), (19577, 1), (19578, 1), (19579, 1), (19580, 1), (19581, 1), (19582, 1), (19583, 1), (19584, 1), (19585, 1), (19586, 1), (19587, 1), (19588, 1), (19589, 1), (19590, 1), (19591, 1), (19592, 1), (19593, 1), (19594, 1), (19595, 1), (19596, 1), (19597, 1), (19598, 1), (19599, 1), (19600, 1), (19601, 1), (19602, 1), (19603, 1), (19604, 1), (19605, 1), (19606, 1), (19607, 1), (19608, 1), (19609, 1), (19610, 1), (19611, 1), (19612, 1), (19613, 1), (19614, 1), (19615, 1), (19616, 1), (19617, 1), (19618, 1), (19619, 1), (19620, 1), (19621, 1), (19622, 1), (19623, 1), (19624, 1), (19625, 1), (19626, 1), (19627, 1), (19628, 1), (19629, 1), (19630, 1), (19631, 1), (19632, 1), (19633, 1), (19634, 1), (19635, 1), (19636, 1), (19637, 1), (19638, 1), (19639, 1), (19640, 1), (19641, 1), (19642, 1), (19643, 1), (19644, 1), (19645, 1), (19646, 1), (19647, 1), (19648, 1), (19649, 1), (19650, 1), (19651, 1), (19652, 1), (19653, 1), (19654, 1), (19655, 1), (19656, 1), (19657, 1), (19658, 1), (19659, 1), (19660, 1), (19661, 1), (19662, 1), (19663, 1), (19664, 1), (19665, 1), (19666, 1), (19667, 1), (19668, 1), (19669, 1), (19670, 1), (19671, 1), (19672, 1), (19673, 1), (19674, 1), (19675, 1), (19676, 1), (19677, 1), (19678, 1), (19679, 1), (19680, 1), (19681, 1), (19682, 1), (19683, 1), (19684, 1), (19685, 1), (19686, 1), (19687, 1), (19688, 1), (19689, 1), (19690, 1), (19691, 1), (19692, 1), (19693, 1), (19694, 1), (19695, 1), (19696, 1), (19697, 1), (19698, 1), (19699, 1), (19700, 1), (19701, 1), (19702, 1), (19703, 1), (19704, 1), (19705, 1), (19706, 1), (19707, 1), (19708, 1), (19709, 1), (19710, 1), (19711, 1), (19712, 1), (19713, 1), (19714, 1), (19715, 1), (19716, 1), (19717, 1), (19718, 1), (19719, 1), (19720, 1), (19721, 1), (19722, 1), (19723, 1), (19724, 1), (19725, 1), (19726, 1), (19727, 1), (19728, 1), (19729, 1), (19730, 1), (19731, 1), (19732, 1), (19733, 1), (19734, 1), (19735, 1), (19736, 1), (19737, 1), (19738, 1), (19739, 1), (19740, 1), (19741, 1), (19742, 1), (19743, 1), (19744, 1), (19745, 1), (19746, 1), (19747, 1), (19748, 1), (19749, 1), (19750, 1), (19751, 1), (19752, 1), (19753, 1), (19754, 1), (19755, 1), (19756, 1), (19757, 1), (19758, 1), (19759, 1), (19760, 1), (19761, 1), (19762, 1), (19763, 1), (19764, 1), (19765, 1), (19766, 1), (19767, 1), (19768, 1), (19769, 1), (19770, 1), (19771, 1), (19772, 1), (19773, 1), (19774, 1), (19775, 1), (19776, 1), (19777, 1), (19778, 1), (19779, 1), (19780, 1), (19781, 1), (19782, 1), (19783, 1), (19784, 1), (19785, 1), (19786, 1), (19787, 1), (19788, 1), (19789, 1), (19790, 1), (19791, 1), (19792, 1), (19793, 1), (19794, 1), (19795, 1), (19796, 1), (19797, 1), (19798, 1), (19799, 1), (19800, 1), (19801, 1), (19802, 1), (19803, 1), (19804, 1), (19805, 1), (19806, 1), (19807, 1), (19808, 1), (19809, 1), (19810, 1), (19811, 1), (19812, 1), (19813, 1), (19814, 1), (19815, 1), (19816, 1), (19817, 1), (19818, 1), (19819, 1), (19820, 1), (19821, 1), (19822, 1), (19823, 1), (19824, 1), (19825, 1), (19826, 1), (19827, 1), (19828, 1), (19829, 1), (19830, 1), (19831, 1), (19832, 1), (19833, 1), (19834, 1), (19835, 1), (19836, 1), (19837, 1), (19838, 1), (19839, 1), (19840, 1), (19841, 1), (19842, 1), (19843, 1), (19844, 1), (19845, 1), (19846, 1), (19847, 1), (19848, 1), (19849, 1), (19850, 1), (19851, 1), (19852, 1), (19853, 1), (19854, 1), (19855, 1), (19856, 1), (19857, 1), (19858, 1), (19859, 1), (19860, 1), (19861, 1), (19862, 1), (19863, 1), (19864, 1), (19865, 1), (19866, 1), (19867, 1), (19868, 1), (19869, 1), (19870, 1), (19871, 1), (19872, 1), (19873, 1), (19874, 1), (19875, 1), (19876, 1), (19877, 1), (19878, 1), (19879, 1), (19880, 1), (19881, 1), (19882, 1), (19883, 1), (19884, 1), (19885, 1), (19886, 1), (19887, 1), (19888, 1), (19889, 1), (19890, 1), (19891, 1), (19892, 1), (19893, 1), (19894, 1), (19895, 1), (19896, 1), (19897, 1), (19898, 1), (19899, 1), (19900, 1), (19901, 1), (19902, 1), (19903, 1), (19904, 1), (19905, 1), (19906, 1), (19907, 1), (19908, 1), (19909, 1), (19910, 1), (19911, 1), (19912, 1), (19913, 1), (19914, 1), (19915, 1), (19916, 1), (19917, 1), (19918, 1), (19919, 1), (19920, 1), (19921, 1), (19922, 1), (19923, 1), (19924, 1), (19925, 1), (19926, 1), (19927, 1), (19928, 1), (19929, 1), (19930, 1), (19931, 1), (19932, 1), (19933, 1), (19934, 1), (19935, 1), (19936, 1), (19937, 1), (19938, 1), (19939, 1), (19940, 1), (19941, 1), (19942, 1), (19943, 1), (19944, 1), (19945, 1), (19946, 1), (19947, 1), (19948, 1), (19949, 1), (19950, 1), (19951, 1), (19952, 1), (19953, 1), (19954, 1), (19955, 1), (19956, 1), (19957, 1), (19958, 1), (19959, 1), (19960, 1), (19961, 1), (19962, 1), (19963, 1), (19964, 1), (19965, 1), (19966, 1), (19967, 1), (19968, 1), (19969, 1), (19970, 1), (19971, 1), (19972, 1), (19973, 1), (19974, 1), (19975, 1), (19976, 1), (19977, 1), (19978, 1), (19979, 1), (19980, 1), (19981, 1), (19982, 1), (19983, 1), (19984, 1), (19985, 1), (19986, 1), (19987, 1), (19988, 1), (19989, 1), (19990, 1), (19991, 1), (19992, 1), (19993, 1), (19994, 1), (19995, 1), (19996, 1), (19997, 1), (19998, 1), (19999, 1), (20000, 1), (20001, 1), (20002, 1), (20003, 1), (20004, 1), (20005, 1), (20006, 1), (20007, 1), (20008, 1), (20009, 1), (20010, 1), (20011, 1), (20012, 1), (20013, 1), (20014, 1), (20015, 1), (20016, 1), (20017, 1), (20018, 1), (20019, 1), (20020, 1), (20021, 1), (20022, 1), (20023, 1), (20024, 1), (20025, 1), (20026, 1), (20027, 1), (20028, 1), (20029, 1), (20030, 1), (20031, 1), (20032, 1), (20033, 1), (20034, 1), (20035, 1), (20036, 1), (20037, 1), (20038, 1), (20039, 1), (20040, 1), (20041, 1), (20042, 1), (20043, 1), (20044, 1), (20045, 1), (20046, 1), (20047, 1), (20048, 1), (20049, 1), (20050, 1), (20051, 1), (20052, 1), (20053, 1), (20054, 1), (20055, 1), (20056, 1), (20057, 1), (20058, 1), (20059, 1), (20060, 1), (20061, 1), (20062, 1), (20063, 1), (20064, 1), (20065, 1), (20066, 1), (20067, 1), (20068, 1), (20069, 1), (20070, 1), (20071, 1), (20072, 1), (20073, 1), (20074, 1), (20075, 1), (20076, 1), (20077, 1), (20078, 1), (20079, 1), (20080, 1), (20081, 1), (20082, 1), (20083, 1), (20084, 1), (20085, 1), (20086, 1), (20087, 1), (20088, 1), (20089, 1), (20090, 1), (20091, 1), (20092, 1), (20093, 1), (20094, 1), (20095, 1), (20096, 1), (20097, 1), (20098, 1), (20099, 1), (20100, 1), (20101, 1), (20102, 1), (20103, 1), (20104, 1), (20105, 1), (20106, 1), (20107, 1), (20108, 1), (20109, 1), (20110, 1), (20111, 1), (20112, 1), (20113, 1), (20114, 1), (20115, 1), (20116, 1), (20117, 1), (20118, 1), (20119, 1), (20120, 1), (20121, 1), (20122, 1), (20123, 1), (20124, 1), (20125, 1), (20126, 1), (20127, 1), (20128, 1), (20129, 1), (20130, 1), (20131, 1), (20132, 1), (20133, 1), (20134, 1), (20135, 1), (20136, 1), (20137, 1), (20138, 1), (20139, 1), (20140, 1), (20141, 1), (20142, 1), (20143, 1), (20144, 1), (20145, 1), (20146, 1), (20147, 1), (20148, 1), (20149, 1), (20150, 1), (20151, 1), (20152, 1), (20153, 1), (20154, 1), (20155, 1), (20156, 1), (20157, 1), (20158, 1), (20159, 1), (20160, 1), (20161, 1), (20162, 1), (20163, 1), (20164, 1), (20165, 1), (20166, 1), (20167, 1), (20168, 1), (20169, 1), (20170, 1), (20171, 1), (20172, 1), (20173, 1), (20174, 1), (20175, 1), (20176, 1), (20177, 1), (20178, 1), (20179, 1), (20180, 1), (20181, 1), (20182, 1), (20183, 1), (20184, 1), (20185, 1), (20186, 1), (20187, 1), (20188, 1), (20189, 1), (20190, 1), (20191, 1), (20192, 1), (20193, 1), (20194, 1), (20195, 1), (20196, 1), (20197, 1), (20198, 1), (20199, 1), (20200, 1), (20201, 1), (20202, 1), (20203, 1), (20204, 1), (20205, 1), (20206, 1), (20207, 1), (20208, 1), (20209, 1), (20210, 1), (20211, 1), (20212, 1), (20213, 1), (20214, 1), (20215, 1), (20216, 1), (20217, 1), (20218, 1), (20219, 1), (20220, 1), (20221, 1), (20222, 1), (20223, 1), (20224, 1), (20225, 1), (20226, 1), (20227, 1), (20228, 1), (20229, 1), (20230, 1), (20231, 1), (20232, 1), (20233, 1), (20234, 1), (20235, 1), (20236, 1), (20237, 1), (20238, 1), (20239, 1), (20240, 1), (20241, 1), (20242, 1), (20243, 1), (20244, 1), (20245, 1), (20246, 1), (20247, 1), (20248, 1), (20249, 1), (20250, 1), (20251, 1), (20252, 1), (20253, 1), (20254, 1), (20255, 1), (20256, 1), (20257, 1), (20258, 1), (20259, 1), (20260, 1), (20261, 1), (20262, 1), (20263, 1), (20264, 1), (20265, 1), (20266, 1), (20267, 1), (20268, 1), (20269, 1), (20270, 1), (20271, 1), (20272, 1), (20273, 1), (20274, 1), (20275, 1), (20276, 1), (20277, 1), (20278, 1), (20279, 1), (20280, 1), (20281, 1), (20282, 1), (20283, 1), (20284, 1), (20285, 1), (20286, 1), (20287, 1), (20288, 1), (20289, 1), (20290, 1), (20291, 1), (20292, 1), (20293, 1), (20294, 1), (20295, 1), (20296, 1), (20297, 1), (20298, 1), (20299, 1), (20300, 1), (20301, 1), (20302, 1), (20303, 1), (20304, 1), (20305, 1), (20306, 1), (20307, 1), (20308, 1), (20309, 1), (20310, 1), (20311, 1), (20312, 1), (20313, 1), (20314, 1), (20315, 1), (20316, 1), (20317, 1), (20318, 1), (20319, 1), (20320, 1), (20321, 1), (20322, 1), (20323, 1), (20324, 1), (20325, 1), (20326, 1), (20327, 1), (20328, 1), (20329, 1), (20330, 1), (20331, 1), (20332, 1), (20333, 1), (20334, 1), (20335, 1), (20336, 1), (20337, 1), (20338, 1), (20339, 1), (20340, 1), (20341, 1), (20342, 1), (20343, 1), (20344, 1), (20345, 1), (20346, 1), (20347, 1), (20348, 1), (20349, 1), (20350, 1), (20351, 1), (20352, 1), (20353, 1), (20354, 1), (20355, 1), (20356, 1), (20357, 1), (20358, 1), (20359, 1), (20360, 1), (20361, 1), (20362, 1), (20363, 1), (20364, 1), (20365, 1), (20366, 1), (20367, 1), (20368, 1), (20369, 1), (20370, 1), (20371, 1), (20372, 1), (20373, 1), (20374, 1), (20375, 1), (20376, 1), (20377, 1), (20378, 1), (20379, 1), (20380, 1), (20381, 1), (20382, 1), (20383, 1), (20384, 1), (20385, 1), (20386, 1), (20387, 1), (20388, 1), (20389, 1), (20390, 1), (20391, 1), (20392, 1), (20393, 1), (20394, 1), (20395, 1), (20396, 1), (20397, 1), (20398, 1), (20399, 1), (20400, 1), (20401, 1), (20402, 1), (20403, 1), (20404, 1), (20405, 1), (20406, 1), (20407, 1), (20408, 1), (20409, 1), (20410, 1), (20411, 1), (20412, 1), (20413, 1), (20414, 1), (20415, 1), (20416, 1), (20417, 1), (20418, 1), (20419, 1), (20420, 1), (20421, 1), (20422, 1), (20423, 1), (20424, 1), (20425, 1), (20426, 1), (20427, 1), (20428, 1), (20429, 1), (20430, 1), (20431, 1), (20432, 1), (20433, 1), (20434, 1), (20435, 1), (20436, 1), (20437, 1), (20438, 1), (20439, 1), (20440, 1), (20441, 1), (20442, 1), (20443, 1), (20444, 1), (20445, 1), (20446, 1), (20447, 1), (20448, 1), (20449, 1), (20450, 1), (20451, 1), (20452, 1), (20453, 1), (20454, 1), (20455, 1), (20456, 1), (20457, 1), (20458, 1), (20459, 1), (20460, 1), (20461, 1), (20462, 1), (20463, 1), (20464, 1), (20465, 1), (20466, 1), (20467, 1), (20468, 1), (20469, 1), (20470, 1), (20471, 1), (20472, 1), (20473, 1), (20474, 1), (20475, 1), (20476, 1), (20477, 1), (20478, 1), (20479, 1), (20480, 1), (20481, 1), (20482, 1), (20483, 1), (20484, 1), (20485, 1), (20486, 1), (20487, 1), (20488, 1), (20489, 1), (20490, 1), (20491, 1), (20492, 1), (20493, 1), (20494, 1), (20495, 1), (20496, 1), (20497, 1), (20498, 1), (20499, 1), (20500, 1), (20501, 1), (20502, 1), (20503, 1), (20504, 1), (20505, 1), (20506, 1), (20507, 1), (20508, 1), (20509, 1), (20510, 1), (20511, 1), (20512, 1), (20513, 1), (20514, 1), (20515, 1), (20516, 1), (20517, 1), (20518, 1), (20519, 1), (20520, 1), (20521, 1), (20522, 1), (20523, 1), (20524, 1), (20525, 1), (20526, 1), (20527, 1), (20528, 1), (20529, 1), (20530, 1), (20531, 1), (20532, 1), (20533, 1), (20534, 1), (20535, 1), (20536, 1), (20537, 1), (20538, 1), (20539, 1), (20540, 1), (20541, 1), (20542, 1), (20543, 1), (20544, 1), (20545, 1), (20546, 1), (20547, 1), (20548, 1), (20549, 1), (20550, 1), (20551, 1), (20552, 1), (20553, 1), (20554, 1), (20555, 1), (20556, 1), (20557, 1), (20558, 1), (20559, 1), (20560, 1), (20561, 1), (20562, 1), (20563, 1), (20564, 1), (20565, 1), (20566, 1), (20567, 1), (20568, 1), (20569, 1), (20570, 1), (20571, 1), (20572, 1), (20573, 1), (20574, 1), (20575, 1), (20576, 1), (20577, 1), (20578, 1), (20579, 1), (20580, 1), (20581, 1), (20582, 1), (20583, 1), (20584, 1), (20585, 1), (20586, 1), (20587, 1), (20588, 1), (20589, 1), (20590, 1), (20591, 1), (20592, 1), (20593, 1), (20594, 1), (20595, 1), (20596, 1), (20597, 1), (20598, 1), (20599, 1), (20600, 1), (20601, 1), (20602, 1), (20603, 1), (20604, 1), (20605, 1), (20606, 1), (20607, 1), (20608, 1), (20609, 1), (20610, 1), (20611, 1), (20612, 1), (20613, 1), (20614, 1), (20615, 1), (20616, 1), (20617, 1), (20618, 1), (20619, 1), (20620, 1), (20621, 1), (20622, 1), (20623, 1), (20624, 1), (20625, 1), (20626, 1), (20627, 1), (20628, 1), (20629, 1), (20630, 1), (20631, 1), (20632, 1), (20633, 1), (20634, 1), (20635, 1), (20636, 1), (20637, 1), (20638, 1), (20639, 1), (20640, 1), (20641, 1), (20642, 1), (20643, 1), (20644, 1), (20645, 1), (20646, 1), (20647, 1), (20648, 1), (20649, 1), (20650, 1), (20651, 1), (20652, 1), (20653, 1), (20654, 1), (20655, 1), (20656, 1), (20657, 1), (20658, 1), (20659, 1), (20660, 1), (20661, 1), (20662, 1), (20663, 1), (20664, 1), (20665, 1), (20666, 1), (20667, 1), (20668, 1), (20669, 1), (20670, 1), (20671, 1), (20672, 1), (20673, 1), (20674, 1), (20675, 1), (20676, 1), (20677, 1), (20678, 1), (20679, 1), (20680, 1), (20681, 1), (20682, 1), (20683, 1), (20684, 1), (20685, 1), (20686, 1), (20687, 1), (20688, 1), (20689, 1), (20690, 1), (20691, 1), (20692, 1), (20693, 1), (20694, 1), (20695, 1), (20696, 1), (20697, 1), (20698, 1), (20699, 1), (20700, 1), (20701, 1), (20702, 1), (20703, 1), (20704, 1), (20705, 1), (20706, 1), (20707, 1), (20708, 1), (20709, 1), (20710, 1), (20711, 1), (20712, 1), (20713, 1), (20714, 1), (20715, 1), (20716, 1), (20717, 1), (20718, 1), (20719, 1), (20720, 1), (20721, 1), (20722, 1), (20723, 1), (20724, 1), (20725, 1), (20726, 1), (20727, 1), (20728, 1), (20729, 1), (20730, 1), (20731, 1), (20732, 1), (20733, 1), (20734, 1), (20735, 1), (20736, 1), (20737, 1), (20738, 1), (20739, 1), (20740, 1), (20741, 1), (20742, 1), (20743, 1), (20744, 1), (20745, 1), (20746, 1), (20747, 1), (20748, 1), (20749, 1), (20750, 1), (20751, 1), (20752, 1), (20753, 1), (20754, 1), (20755, 1), (20756, 1), (20757, 1), (20758, 1), (20759, 1), (20760, 1), (20761, 1), (20762, 1), (20763, 1), (20764, 1), (20765, 1), (20766, 1), (20767, 1), (20768, 1), (20769, 1), (20770, 1), (20771, 1), (20772, 1), (20773, 1), (20774, 1), (20775, 1), (20776, 1), (20777, 1), (20778, 1), (20779, 1), (20780, 1), (20781, 1), (20782, 1), (20783, 1), (20784, 1), (20785, 1), (20786, 1), (20787, 1), (20788, 1), (20789, 1), (20790, 1), (20791, 1), (20792, 1), (20793, 1), (20794, 1), (20795, 1), (20796, 1), (20797, 1), (20798, 1), (20799, 1), (20800, 1), (20801, 1), (20802, 1), (20803, 1), (20804, 1), (20805, 1), (20806, 1), (20807, 1), (20808, 1), (20809, 1), (20810, 1), (20811, 1), (20812, 1), (20813, 1), (20814, 1), (20815, 1), (20816, 1), (20817, 1), (20818, 1), (20819, 1), (20820, 1), (20821, 1), (20822, 1), (20823, 1), (20824, 1), (20825, 1), (20826, 1), (20827, 1), (20828, 1), (20829, 1), (20830, 1), (20831, 1), (20832, 1), (20833, 1), (20834, 1), (20835, 1), (20836, 1), (20837, 1), (20838, 1), (20839, 1), (20840, 1), (20841, 1), (20842, 1), (20843, 1), (20844, 1), (20845, 1), (20846, 1), (20847, 1), (20848, 1), (20849, 1), (20850, 1), (20851, 1), (20852, 1), (20853, 1), (20854, 1), (20855, 1), (20856, 1), (20857, 1), (20858, 1), (20859, 1), (20860, 1), (20861, 1), (20862, 1), (20863, 1), (20864, 1), (20865, 1), (20866, 1), (20867, 1), (20868, 1), (20869, 1), (20870, 1), (20871, 1), (20872, 1), (20873, 1), (20874, 1), (20875, 1), (20876, 1), (20877, 1), (20878, 1), (20879, 1), (20880, 1), (20881, 1), (20882, 1), (20883, 1), (20884, 1), (20885, 1), (20886, 1), (20887, 1), (20888, 1), (20889, 1), (20890, 1), (20891, 1), (20892, 1), (20893, 1), (20894, 1), (20895, 1), (20896, 1), (20897, 1), (20898, 1), (20899, 1), (20900, 1), (20901, 1), (20902, 1), (20903, 1), (20904, 1), (20905, 1), (20906, 1), (20907, 1), (20908, 1), (20909, 1), (20910, 1), (20911, 1), (20912, 1), (20913, 1), (20914, 1), (20915, 1), (20916, 1), (20917, 1), (20918, 1), (20919, 1), (20920, 1), (20921, 1), (20922, 1), (20923, 1), (20924, 1), (20925, 1), (20926, 1), (20927, 1), (20928, 1), (20929, 1), (20930, 1), (20931, 1), (20932, 1), (20933, 1), (20934, 1), (20935, 1), (20936, 1), (20937, 1), (20938, 1), (20939, 1), (20940, 1), (20941, 1), (20942, 1), (20943, 1), (20944, 1), (20945, 1), (20946, 1), (20947, 1), (20948, 1), (20949, 1), (20950, 1), (20951, 1), (20952, 1), (20953, 1), (20954, 1), (20955, 1), (20956, 1), (20957, 1), (20958, 1), (20959, 1), (20960, 1), (20961, 1), (20962, 1), (20963, 1), (20964, 1), (20965, 1), (20966, 1), (20967, 1), (20968, 1), (20969, 1), (20970, 1), (20971, 1), (20972, 1), (20973, 1), (20974, 1), (20975, 1), (20976, 1), (20977, 1), (20978, 1), (20979, 1), (20980, 1), (20981, 1), (20982, 1), (20983, 1), (20984, 1), (20985, 1), (20986, 1), (20987, 1), (20988, 1), (20989, 1), (20990, 1), (20991, 1), (20992, 1), (20993, 1), (20994, 1), (20995, 1), (20996, 1), (20997, 1), (20998, 1), (20999, 1), (21000, 1), (21001, 1), (21002, 1), (21003, 1), (21004, 1), (21005, 1), (21006, 1), (21007, 1), (21008, 1), (21009, 1), (21010, 1), (21011, 1), (21012, 1), (21013, 1), (21014, 1), (21015, 1), (21016, 1), (21017, 1), (21018, 1), (21019, 1), (21020, 1), (21021, 1), (21022, 1), (21023, 1), (21024, 1), (21025, 1), (21026, 1), (21027, 1), (21028, 1), (21029, 1), (21030, 1), (21031, 1), (21032, 1), (21033, 1), (21034, 1), (21035, 1), (21036, 1), (21037, 1), (21038, 1), (21039, 1), (21040, 1), (21041, 1), (21042, 1), (21043, 1), (21044, 1), (21045, 1), (21046, 1), (21047, 1), (21048, 1), (21049, 1), (21050, 1), (21051, 1), (21052, 1), (21053, 1), (21054, 1), (21055, 1), (21056, 1), (21057, 1), (21058, 1), (21059, 1), (21060, 1), (21061, 1), (21062, 1), (21063, 1), (21064, 1), (21065, 1), (21066, 1), (21067, 1), (21068, 1), (21069, 1), (21070, 1), (21071, 1), (21072, 1), (21073, 1), (21074, 1), (21075, 1), (21076, 1), (21077, 1), (21078, 1), (21079, 1), (21080, 1), (21081, 1), (21082, 1), (21083, 1), (21084, 1), (21085, 1), (21086, 1), (21087, 1), (21088, 1), (21089, 1), (21090, 1), (21091, 1), (21092, 1), (21093, 1), (21094, 1), (21095, 1), (21096, 1), (21097, 1), (21098, 1), (21099, 1), (21100, 1), (21101, 1), (21102, 1), (21103, 1), (21104, 1), (21105, 1), (21106, 1), (21107, 1), (21108, 1), (21109, 1), (21110, 1), (21111, 1), (21112, 1), (21113, 1), (21114, 1), (21115, 1), (21116, 1), (21117, 1), (21118, 1), (21119, 1), (21120, 1), (21121, 1), (21122, 1), (21123, 1), (21124, 1), (21125, 1), (21126, 1), (21127, 1), (21128, 1), (21129, 1), (21130, 1), (21131, 1), (21132, 1), (21133, 1), (21134, 1), (21135, 1), (21136, 1), (21137, 1), (21138, 1), (21139, 1), (21140, 1), (21141, 1), (21142, 1), (21143, 1), (21144, 1), (21145, 1), (21146, 1), (21147, 1), (21148, 1), (21149, 1), (21150, 1), (21151, 1), (21152, 1), (21153, 1), (21154, 1), (21155, 1), (21156, 1), (21157, 1), (21158, 1), (21159, 1), (21160, 1), (21161, 1), (21162, 1), (21163, 1), (21164, 1), (21165, 1), (21166, 1), (21167, 1), (21168, 1), (21169, 1), (21170, 1), (21171, 1), (21172, 1), (21173, 1), (21174, 1), (21175, 1), (21176, 1), (21177, 1), (21178, 1), (21179, 1), (21180, 1), (21181, 1), (21182, 1), (21183, 1), (21184, 1), (21185, 1), (21186, 1), (21187, 1), (21188, 1), (21189, 1), (21190, 1), (21191, 1), (21192, 1), (21193, 1), (21194, 1), (21195, 1), (21196, 1), (21197, 1), (21198, 1), (21199, 1), (21200, 1), (21201, 1), (21202, 1), (21203, 1), (21204, 1), (21205, 1), (21206, 1), (21207, 1), (21208, 1), (21209, 1), (21210, 1), (21211, 1), (21212, 1), (21213, 1), (21214, 1), (21215, 1), (21216, 1), (21217, 1), (21218, 1), (21219, 1), (21220, 1), (21221, 1), (21222, 1), (21223, 1), (21224, 1), (21225, 1), (21226, 1), (21227, 1), (21228, 1), (21229, 1), (21230, 1), (21231, 1), (21232, 1), (21233, 1), (21234, 1), (21235, 1), (21236, 1), (21237, 1), (21238, 1), (21239, 1), (21240, 1), (21241, 1), (21242, 1), (21243, 1), (21244, 1), (21245, 1), (21246, 1), (21247, 1), (21248, 1), (21249, 1), (21250, 1), (21251, 1), (21252, 1), (21253, 1), (21254, 1), (21255, 1), (21256, 1), (21257, 1), (21258, 1), (21259, 1), (21260, 1), (21261, 1), (21262, 1), (21263, 1), (21264, 1), (21265, 1), (21266, 1), (21267, 1), (21268, 1), (21269, 1), (21270, 1), (21271, 1), (21272, 1), (21273, 1), (21274, 1), (21275, 1), (21276, 1), (21277, 1), (21278, 1), (21279, 1), (21280, 1), (21281, 1), (21282, 1), (21283, 1), (21284, 1), (21285, 1), (21286, 1), (21287, 1), (21288, 1), (21289, 1), (21290, 1), (21291, 1), (21292, 1), (21293, 1), (21294, 1), (21295, 1), (21296, 1), (21297, 1), (21298, 1), (21299, 1), (21300, 1), (21301, 1), (21302, 1), (21303, 1), (21304, 1), (21305, 1), (21306, 1), (21307, 1), (21308, 1), (21309, 1), (21310, 1), (21311, 1), (21312, 1), (21313, 1), (21314, 1), (21315, 1), (21316, 1), (21317, 1), (21318, 1), (21319, 1), (21320, 1), (21321, 1), (21322, 1), (21323, 1), (21324, 1), (21325, 1), (21326, 1), (21327, 1), (21328, 1), (21329, 1), (21330, 1), (21331, 1), (21332, 1), (21333, 1), (21334, 1), (21335, 1), (21336, 1), (21337, 1), (21338, 1), (21339, 1), (21340, 1), (21341, 1), (21342, 1), (21343, 1), (21344, 1), (21345, 1), (21346, 1), (21347, 1), (21348, 1), (21349, 1), (21350, 1), (21351, 1), (21352, 1), (21353, 1), (21354, 1), (21355, 1), (21356, 1), (21357, 1), (21358, 1), (21359, 1), (21360, 1), (21361, 1), (21362, 1), (21363, 1), (21364, 1), (21365, 1), (21366, 1), (21367, 1), (21368, 1), (21369, 1), (21370, 1), (21371, 1), (21372, 1), (21373, 1), (21374, 1), (21375, 1), (21376, 1), (21377, 1), (21378, 1), (21379, 1), (21380, 1), (21381, 1), (21382, 1), (21383, 1), (21384, 1), (21385, 1), (21386, 1), (21387, 1), (21388, 1), (21389, 1), (21390, 1), (21391, 1), (21392, 1), (21393, 1), (21394, 1), (21395, 1), (21396, 1), (21397, 1), (21398, 1), (21399, 1), (21400, 1), (21401, 1), (21402, 1), (21403, 1), (21404, 1), (21405, 1), (21406, 1), (21407, 1), (21408, 1), (21409, 1), (21410, 1), (21411, 1), (21412, 1), (21413, 1), (21414, 1), (21415, 1), (21416, 1), (21417, 1), (21418, 1), (21419, 1), (21420, 1), (21421, 1), (21422, 1), (21423, 1), (21424, 1), (21425, 1), (21426, 1), (21427, 1), (21428, 1), (21429, 1), (21430, 1), (21431, 1), (21432, 1), (21433, 1), (21434, 1), (21435, 1), (21436, 1), (21437, 1), (21438, 1), (21439, 1), (21440, 1), (21441, 1), (21442, 1), (21443, 1), (21444, 1), (21445, 1), (21446, 1), (21447, 1), (21448, 1), (21449, 1), (21450, 1), (21451, 1), (21452, 1), (21453, 1), (21454, 1), (21455, 1), (21456, 1), (21457, 1), (21458, 1), (21459, 1), (21460, 1), (21461, 1), (21462, 1), (21463, 1), (21464, 1), (21465, 1), (21466, 1), (21467, 1), (21468, 1), (21469, 1), (21470, 1), (21471, 1), (21472, 1), (21473, 1), (21474, 1), (21475, 1), (21476, 1), (21477, 1), (21478, 1), (21479, 1), (21480, 1), (21481, 1), (21482, 1), (21483, 1), (21484, 1), (21485, 1), (21486, 1), (21487, 1), (21488, 1), (21489, 1), (21490, 1), (21491, 1), (21492, 1), (21493, 1), (21494, 1), (21495, 1), (21496, 1), (21497, 1), (21498, 1), (21499, 1), (21500, 1), (21501, 1), (21502, 1), (21503, 1), (21504, 1), (21505, 1), (21506, 1), (21507, 1), (21508, 1), (21509, 1), (21510, 1), (21511, 1), (21512, 1), (21513, 1), (21514, 1), (21515, 1), (21516, 1), (21517, 1), (21518, 1), (21519, 1), (21520, 1), (21521, 1), (21522, 1), (21523, 1), (21524, 1), (21525, 1), (21526, 1), (21527, 1), (21528, 1), (21529, 1), (21530, 1), (21531, 1), (21532, 1), (21533, 1), (21534, 1), (21535, 1), (21536, 1), (21537, 1), (21538, 1), (21539, 1), (21540, 1), (21541, 1), (21542, 1), (21543, 1), (21544, 1), (21545, 1), (21546, 1), (21547, 1), (21548, 1), (21549, 1), (21550, 1), (21551, 1), (21552, 1), (21553, 1), (21554, 1), (21555, 1), (21556, 1), (21557, 1), (21558, 1), (21559, 1), (21560, 1), (21561, 1), (21562, 1), (21563, 1), (21564, 1), (21565, 1), (21566, 1), (21567, 1), (21568, 1), (21569, 1), (21570, 1), (21571, 1), (21572, 1), (21573, 1), (21574, 1), (21575, 1), (21576, 1), (21577, 1), (21578, 1), (21579, 1), (21580, 1), (21581, 1), (21582, 1), (21583, 1), (21584, 1), (21585, 1), (21586, 1), (21587, 1), (21588, 1), (21589, 1), (21590, 1), (21591, 1), (21592, 1), (21593, 1), (21594, 1), (21595, 1), (21596, 1), (21597, 1), (21598, 1), (21599, 1), (21600, 1), (21601, 1), (21602, 1), (21603, 1), (21604, 1), (21605, 1), (21606, 1), (21607, 1), (21608, 1), (21609, 1), (21610, 1), (21611, 1), (21612, 1), (21613, 1), (21614, 1), (21615, 1), (21616, 1), (21617, 1), (21618, 1), (21619, 1), (21620, 1), (21621, 1), (21622, 1), (21623, 1), (21624, 1), (21625, 1), (21626, 1), (21627, 1), (21628, 1), (21629, 1), (21630, 1), (21631, 1), (21632, 1), (21633, 1), (21634, 1), (21635, 1), (21636, 1), (21637, 1), (21638, 1), (21639, 1), (21640, 1), (21641, 1), (21642, 1), (21643, 1), (21644, 1), (21645, 1), (21646, 1), (21647, 1), (21648, 1), (21649, 1), (21650, 1), (21651, 1), (21652, 1), (21653, 1), (21654, 1), (21655, 1), (21656, 1), (21657, 1), (21658, 1), (21659, 1), (21660, 1), (21661, 1), (21662, 1), (21663, 1), (21664, 1), (21665, 1), (21666, 1), (21667, 1), (21668, 1), (21669, 1), (21670, 1), (21671, 1), (21672, 1), (21673, 1), (21674, 1), (21675, 1), (21676, 1), (21677, 1), (21678, 1), (21679, 1), (21680, 1), (21681, 1), (21682, 1), (21683, 1), (21684, 1), (21685, 1), (21686, 1), (21687, 1), (21688, 1), (21689, 1), (21690, 1), (21691, 1), (21692, 1), (21693, 1), (21694, 1), (21695, 1), (21696, 1), (21697, 1), (21698, 1), (21699, 1), (21700, 1), (21701, 1), (21702, 1), (21703, 1), (21704, 1), (21705, 1), (21706, 1), (21707, 1), (21708, 1), (21709, 1), (21710, 1), (21711, 1), (21712, 1), (21713, 1), (21714, 1), (21715, 1), (21716, 1), (21717, 1), (21718, 1), (21719, 1), (21720, 1), (21721, 1), (21722, 1), (21723, 1), (21724, 1), (21725, 1), (21726, 1), (21727, 1), (21728, 1), (21729, 1), (21730, 1), (21731, 1), (21732, 1), (21733, 1), (21734, 1), (21735, 1), (21736, 1), (21737, 1), (21738, 1), (21739, 1), (21740, 1), (21741, 1), (21742, 1), (21743, 1), (21744, 1), (21745, 1), (21746, 1), (21747, 1), (21748, 1), (21749, 1), (21750, 1), (21751, 1), (21752, 1), (21753, 1), (21754, 1), (21755, 1), (21756, 1), (21757, 1), (21758, 1), (21759, 1), (21760, 1), (21761, 1), (21762, 1), (21763, 1), (21764, 1), (21765, 1), (21766, 1), (21767, 1), (21768, 1), (21769, 1), (21770, 1), (21771, 1), (21772, 1), (21773, 1), (21774, 1), (21775, 1), (21776, 1), (21777, 1), (21778, 1), (21779, 1), (21780, 1), (21781, 1), (21782, 1), (21783, 1), (21784, 1), (21785, 1), (21786, 1), (21787, 1), (21788, 1), (21789, 1), (21790, 1), (21791, 1), (21792, 1), (21793, 1), (21794, 1), (21795, 1), (21796, 1), (21797, 1), (21798, 1), (21799, 1), (21800, 1), (21801, 1), (21802, 1), (21803, 1), (21804, 1), (21805, 1), (21806, 1), (21807, 1), (21808, 1), (21809, 1), (21810, 1), (21811, 1), (21812, 1), (21813, 1), (21814, 1), (21815, 1), (21816, 1), (21817, 1), (21818, 1), (21819, 1), (21820, 1), (21821, 1), (21822, 1), (21823, 1), (21824, 1), (21825, 1), (21826, 1), (21827, 1), (21828, 1), (21829, 1), (21830, 1), (21831, 1), (21832, 1), (21833, 1), (21834, 1), (21835, 1), (21836, 1), (21837, 1), (21838, 1), (21839, 1), (21840, 1), (21841, 1), (21842, 1), (21843, 1), (21844, 1), (21845, 1), (21846, 1), (21847, 1), (21848, 1), (21849, 1), (21850, 1), (21851, 1), (21852, 1), (21853, 1), (21854, 1), (21855, 1), (21856, 1), (21857, 1), (21858, 1), (21859, 1), (21860, 1), (21861, 1), (21862, 1), (21863, 1), (21864, 1), (21865, 1), (21866, 1), (21867, 1), (21868, 1), (21869, 1), (21870, 1), (21871, 1), (21872, 1), (21873, 1), (21874, 1), (21875, 1), (21876, 1), (21877, 1), (21878, 1), (21879, 1), (21880, 1), (21881, 1), (21882, 1), (21883, 1), (21884, 1), (21885, 1), (21886, 1), (21887, 1), (21888, 1), (21889, 1), (21890, 1), (21891, 1), (21892, 1), (21893, 1), (21894, 1), (21895, 1), (21896, 1), (21897, 1), (21898, 1), (21899, 1), (21900, 1), (21901, 1), (21902, 1), (21903, 1), (21904, 1), (21905, 1), (21906, 1), (21907, 1), (21908, 1), (21909, 1), (21910, 1), (21911, 1), (21912, 1), (21913, 1), (21914, 1), (21915, 1), (21916, 1), (21917, 1), (21918, 1), (21919, 1), (21920, 1), (21921, 1), (21922, 1), (21923, 1), (21924, 1), (21925, 1), (21926, 1), (21927, 1), (21928, 1), (21929, 1), (21930, 1), (21931, 1), (21932, 1), (21933, 1), (21934, 1), (21935, 1), (21936, 1), (21937, 1), (21938, 1), (21939, 1), (21940, 1), (21941, 1), (21942, 1), (21943, 1), (21944, 1), (21945, 1), (21946, 1), (21947, 1), (21948, 1), (21949, 1), (21950, 1), (21951, 1), (21952, 1), (21953, 1), (21954, 1), (21955, 1), (21956, 1), (21957, 1), (21958, 1), (21959, 1), (21960, 1), (21961, 1), (21962, 1), (21963, 1), (21964, 1), (21965, 1), (21966, 1), (21967, 1), (21968, 1), (21969, 1), (21970, 1), (21971, 1), (21972, 1), (21973, 1), (21974, 1), (21975, 1), (21976, 1), (21977, 1), (21978, 1), (21979, 1), (21980, 1), (21981, 1), (21982, 1), (21983, 1), (21984, 1), (21985, 1), (21986, 1), (21987, 1), (21988, 1), (21989, 1), (21990, 1), (21991, 1), (21992, 1), (21993, 1), (21994, 1), (21995, 1), (21996, 1), (21997, 1), (21998, 1), (21999, 1), (22000, 1), (22001, 1), (22002, 1), (22003, 1), (22004, 1), (22005, 1), (22006, 1), (22007, 1), (22008, 1), (22009, 1), (22010, 1), (22011, 1), (22012, 1), (22013, 1), (22014, 1), (22015, 1), (22016, 1), (22017, 1), (22018, 1), (22019, 1), (22020, 1), (22021, 1), (22022, 1), (22023, 1), (22024, 1), (22025, 1), (22026, 1), (22027, 1), (22028, 1), (22029, 1), (22030, 1), (22031, 1), (22032, 1), (22033, 1), (22034, 1), (22035, 1), (22036, 1), (22037, 1), (22038, 1), (22039, 1), (22040, 1), (22041, 1), (22042, 1), (22043, 1), (22044, 1), (22045, 1), (22046, 1), (22047, 1), (22048, 1), (22049, 1), (22050, 1), (22051, 1), (22052, 1), (22053, 1), (22054, 1), (22055, 1), (22056, 1), (22057, 1), (22058, 1), (22059, 1), (22060, 1), (22061, 1), (22062, 1), (22063, 1), (22064, 1), (22065, 1), (22066, 1), (22067, 1), (22068, 1), (22069, 1), (22070, 1), (22071, 1), (22072, 1), (22073, 1), (22074, 1), (22075, 1), (22076, 1), (22077, 1), (22078, 1), (22079, 1), (22080, 1), (22081, 1), (22082, 1), (22083, 1), (22084, 1), (22085, 1), (22086, 1), (22087, 1), (22088, 1), (22089, 1), (22090, 1), (22091, 1), (22092, 1), (22093, 1), (22094, 1), (22095, 1), (22096, 1), (22097, 1), (22098, 1), (22099, 1), (22100, 1), (22101, 1), (22102, 1), (22103, 1), (22104, 1), (22105, 1), (22106, 1), (22107, 1), (22108, 1), (22109, 1), (22110, 1), (22111, 1), (22112, 1), (22113, 1), (22114, 1), (22115, 1), (22116, 1), (22117, 1), (22118, 1), (22119, 1), (22120, 1), (22121, 1), (22122, 1), (22123, 1), (22124, 1), (22125, 1), (22126, 1), (22127, 1), (22128, 1), (22129, 1), (22130, 1), (22131, 1), (22132, 1), (22133, 1), (22134, 1), (22135, 1), (22136, 1), (22137, 1), (22138, 1), (22139, 1), (22140, 1), (22141, 1), (22142, 1), (22143, 1), (22144, 1), (22145, 1), (22146, 1), (22147, 1), (22148, 1), (22149, 1), (22150, 1), (22151, 1), (22152, 1), (22153, 1), (22154, 1), (22155, 1), (22156, 1), (22157, 1), (22158, 1), (22159, 1), (22160, 1), (22161, 1), (22162, 1), (22163, 1), (22164, 1), (22165, 1), (22166, 1), (22167, 1), (22168, 1), (22169, 1), (22170, 1), (22171, 1), (22172, 1), (22173, 1), (22174, 1), (22175, 1), (22176, 1), (22177, 1), (22178, 1), (22179, 1), (22180, 1), (22181, 1), (22182, 1), (22183, 1), (22184, 1), (22185, 1), (22186, 1), (22187, 1), (22188, 1), (22189, 1), (22190, 1), (22191, 1), (22192, 1), (22193, 1), (22194, 1), (22195, 1), (22196, 1), (22197, 1), (22198, 1), (22199, 1), (22200, 1), (22201, 1), (22202, 1), (22203, 1), (22204, 1), (22205, 1), (22206, 1), (22207, 1), (22208, 1), (22209, 1), (22210, 1), (22211, 1), (22212, 1), (22213, 1), (22214, 1), (22215, 1), (22216, 1), (22217, 1), (22218, 1), (22219, 1), (22220, 1), (22221, 1), (22222, 1), (22223, 1), (22224, 1), (22225, 1), (22226, 1), (22227, 1), (22228, 1), (22229, 1), (22230, 1), (22231, 1), (22232, 1), (22233, 1), (22234, 1), (22235, 1), (22236, 1), (22237, 1), (22238, 1), (22239, 1), (22240, 1), (22241, 1), (22242, 1), (22243, 1), (22244, 1), (22245, 1), (22246, 1), (22247, 1), (22248, 1), (22249, 1), (22250, 1), (22251, 1), (22252, 1), (22253, 1), (22254, 1), (22255, 1), (22256, 1), (22257, 1), (22258, 1), (22259, 1), (22260, 1), (22261, 1), (22262, 1), (22263, 1), (22264, 1), (22265, 1), (22266, 1), (22267, 1), (22268, 1), (22269, 1), (22270, 1), (22271, 1), (22272, 1), (22273, 1), (22274, 1), (22275, 1), (22276, 1), (22277, 1), (22278, 1), (22279, 1), (22280, 1), (22281, 1), (22282, 1), (22283, 1), (22284, 1), (22285, 1), (22286, 1), (22287, 1), (22288, 1), (22289, 1), (22290, 1), (22291, 1), (22292, 1), (22293, 1), (22294, 1), (22295, 1), (22296, 1), (22297, 1), (22298, 1), (22299, 1), (22300, 1), (22301, 1), (22302, 1), (22303, 1), (22304, 1), (22305, 1), (22306, 1), (22307, 1), (22308, 1), (22309, 1), (22310, 1), (22311, 1), (22312, 1), (22313, 1), (22314, 1), (22315, 1), (22316, 1), (22317, 1), (22318, 1), (22319, 1), (22320, 1), (22321, 1), (22322, 1), (22323, 1), (22324, 1), (22325, 1), (22326, 1), (22327, 1), (22328, 1), (22329, 1), (22330, 1), (22331, 1), (22332, 1), (22333, 1), (22334, 1), (22335, 1), (22336, 1), (22337, 1), (22338, 1), (22339, 1), (22340, 1), (22341, 1), (22342, 1), (22343, 1), (22344, 1), (22345, 1), (22346, 1), (22347, 1), (22348, 1), (22349, 1), (22350, 1), (22351, 1), (22352, 1), (22353, 1), (22354, 1), (22355, 1), (22356, 1), (22357, 1), (22358, 1), (22359, 1), (22360, 1), (22361, 1), (22362, 1), (22363, 1), (22364, 1), (22365, 1), (22366, 1), (22367, 1), (22368, 1), (22369, 1), (22370, 1), (22371, 1), (22372, 1), (22373, 1), (22374, 1), (22375, 1), (22376, 1), (22377, 1), (22378, 1), (22379, 1), (22380, 1), (22381, 1), (22382, 1), (22383, 1), (22384, 1), (22385, 1), (22386, 1), (22387, 1), (22388, 1), (22389, 1), (22390, 1), (22391, 1), (22392, 1), (22393, 1), (22394, 1), (22395, 1), (22396, 1), (22397, 1), (22398, 1), (22399, 1), (22400, 1), (22401, 1), (22402, 1), (22403, 1), (22404, 1), (22405, 1), (22406, 1), (22407, 1), (22408, 1), (22409, 1), (22410, 1), (22411, 1), (22412, 1), (22413, 1), (22414, 1), (22415, 1), (22416, 1), (22417, 1), (22418, 1), (22419, 1), (22420, 1), (22421, 1), (22422, 1), (22423, 1), (22424, 1), (22425, 1), (22426, 1), (22427, 1), (22428, 1), (22429, 1), (22430, 1), (22431, 1), (22432, 1), (22433, 1), (22434, 1), (22435, 1), (22436, 1), (22437, 1), (22438, 1), (22439, 1), (22440, 1), (22441, 1), (22442, 1), (22443, 1), (22444, 1), (22445, 1), (22446, 1), (22447, 1), (22448, 1), (22449, 1), (22450, 1), (22451, 1), (22452, 1), (22453, 1), (22454, 1), (22455, 1), (22456, 1), (22457, 1), (22458, 1), (22459, 1), (22460, 1), (22461, 1), (22462, 1), (22463, 1), (22464, 1), (22465, 1), (22466, 1), (22467, 1), (22468, 1), (22469, 1), (22470, 1), (22471, 1), (22472, 1), (22473, 1), (22474, 1), (22475, 1), (22476, 1), (22477, 1), (22478, 1), (22479, 1), (22480, 1), (22481, 1), (22482, 1), (22483, 1), (22484, 1), (22485, 1), (22486, 1), (22487, 1), (22488, 1), (22489, 1), (22490, 1), (22491, 1), (22492, 1), (22493, 1), (22494, 1), (22495, 1), (22496, 1), (22497, 1), (22498, 1), (22499, 1), (22500, 1), (22501, 1), (22502, 1), (22503, 1), (22504, 1), (22505, 1), (22506, 1), (22507, 1), (22508, 1), (22509, 1), (22510, 1), (22511, 1), (22512, 1), (22513, 1), (22514, 1), (22515, 1), (22516, 1), (22517, 1), (22518, 1), (22519, 1), (22520, 1), (22521, 1), (22522, 1), (22523, 1), (22524, 1), (22525, 1), (22526, 1), (22527, 1), (22528, 1), (22529, 1), (22530, 1), (22531, 1), (22532, 1), (22533, 1), (22534, 1), (22535, 1), (22536, 1), (22537, 1), (22538, 1), (22539, 1), (22540, 1), (22541, 1), (22542, 1), (22543, 1), (22544, 1), (22545, 1), (22546, 1), (22547, 1), (22548, 1), (22549, 1), (22550, 1), (22551, 1), (22552, 1), (22553, 1), (22554, 1), (22555, 1), (22556, 1), (22557, 1), (22558, 1), (22559, 1), (22560, 1), (22561, 1), (22562, 1), (22563, 1), (22564, 1), (22565, 1), (22566, 1), (22567, 1), (22568, 1), (22569, 1), (22570, 1), (22571, 1), (22572, 1), (22573, 1), (22574, 1), (22575, 1), (22576, 1), (22577, 1), (22578, 1), (22579, 1), (22580, 1), (22581, 1), (22582, 1), (22583, 1), (22584, 1), (22585, 1), (22586, 1), (22587, 1), (22588, 1), (22589, 1), (22590, 1), (22591, 1), (22592, 1), (22593, 1), (22594, 1), (22595, 1), (22596, 1), (22597, 1), (22598, 1), (22599, 1), (22600, 1), (22601, 1), (22602, 1), (22603, 1), (22604, 1), (22605, 1), (22606, 1), (22607, 1), (22608, 1), (22609, 1), (22610, 1), (22611, 1), (22612, 1), (22613, 1), (22614, 1), (22615, 1), (22616, 1), (22617, 1), (22618, 1), (22619, 1), (22620, 1), (22621, 1), (22622, 1), (22623, 1), (22624, 1), (22625, 1), (22626, 1), (22627, 1), (22628, 1), (22629, 1), (22630, 1), (22631, 1), (22632, 1), (22633, 1), (22634, 1), (22635, 1), (22636, 1), (22637, 1), (22638, 1), (22639, 1), (22640, 1), (22641, 1), (22642, 1), (22643, 1), (22644, 1), (22645, 1), (22646, 1), (22647, 1), (22648, 1), (22649, 1), (22650, 1), (22651, 1), (22652, 1), (22653, 1), (22654, 1), (22655, 1), (22656, 1), (22657, 1), (22658, 1), (22659, 1), (22660, 1), (22661, 1), (22662, 1), (22663, 1), (22664, 1), (22665, 1), (22666, 1), (22667, 1), (22668, 1), (22669, 1), (22670, 1), (22671, 1), (22672, 1), (22673, 1), (22674, 1), (22675, 1), (22676, 1), (22677, 1), (22678, 1), (22679, 1), (22680, 1), (22681, 1), (22682, 1), (22683, 1), (22684, 1), (22685, 1), (22686, 1), (22687, 1), (22688, 1), (22689, 1), (22690, 1), (22691, 1), (22692, 1), (22693, 1), (22694, 1), (22695, 1), (22696, 1), (22697, 1), (22698, 1), (22699, 1), (22700, 1), (22701, 1), (22702, 1), (22703, 1), (22704, 1), (22705, 1), (22706, 1), (22707, 1), (22708, 1), (22709, 1), (22710, 1), (22711, 1), (22712, 1), (22713, 1), (22714, 1), (22715, 1), (22716, 1), (22717, 1), (22718, 1), (22719, 1), (22720, 1), (22721, 1), (22722, 1), (22723, 1), (22724, 1), (22725, 1), (22726, 1), (22727, 1), (22728, 1), (22729, 1), (22730, 1), (22731, 1), (22732, 1), (22733, 1), (22734, 1), (22735, 1), (22736, 1), (22737, 1), (22738, 1), (22739, 1), (22740, 1), (22741, 1), (22742, 1), (22743, 1), (22744, 1), (22745, 1), (22746, 1), (22747, 1), (22748, 1), (22749, 1), (22750, 1), (22751, 1), (22752, 1), (22753, 1), (22754, 1), (22755, 1), (22756, 1), (22757, 1), (22758, 1), (22759, 1), (22760, 1), (22761, 1), (22762, 1), (22763, 1), (22764, 1), (22765, 1), (22766, 1), (22767, 1), (22768, 1), (22769, 1), (22770, 1), (22771, 1), (22772, 1), (22773, 1), (22774, 1), (22775, 1), (22776, 1), (22777, 1), (22778, 1), (22779, 1), (22780, 1), (22781, 1), (22782, 1), (22783, 1), (22784, 1), (22785, 1), (22786, 1), (22787, 1), (22788, 1), (22789, 1), (22790, 1), (22791, 1), (22792, 1), (22793, 1), (22794, 1), (22795, 1), (22796, 1), (22797, 1), (22798, 1), (22799, 1), (22800, 1), (22801, 1), (22802, 1), (22803, 1), (22804, 1), (22805, 1), (22806, 1), (22807, 1), (22808, 1), (22809, 1), (22810, 1), (22811, 1), (22812, 1), (22813, 1), (22814, 1), (22815, 1), (22816, 1), (22817, 1), (22818, 1), (22819, 1), (22820, 1), (22821, 1), (22822, 1), (22823, 1), (22824, 1), (22825, 1), (22826, 1), (22827, 1), (22828, 1), (22829, 1), (22830, 1), (22831, 1), (22832, 1), (22833, 1), (22834, 1), (22835, 1), (22836, 1), (22837, 1), (22838, 1), (22839, 1), (22840, 1), (22841, 1), (22842, 1), (22843, 1), (22844, 1), (22845, 1), (22846, 1), (22847, 1), (22848, 1), (22849, 1), (22850, 1), (22851, 1), (22852, 1), (22853, 1), (22854, 1), (22855, 1), (22856, 1), (22857, 1), (22858, 1), (22859, 1), (22860, 1), (22861, 1), (22862, 1), (22863, 1), (22864, 1), (22865, 1), (22866, 1), (22867, 1), (22868, 1), (22869, 1), (22870, 1), (22871, 1), (22872, 1), (22873, 1), (22874, 1), (22875, 1), (22876, 1), (22877, 1), (22878, 1), (22879, 1), (22880, 1), (22881, 1), (22882, 1), (22883, 1), (22884, 1), (22885, 1), (22886, 1), (22887, 1), (22888, 1), (22889, 1), (22890, 1), (22891, 1), (22892, 1), (22893, 1), (22894, 1), (22895, 1), (22896, 1), (22897, 1), (22898, 1), (22899, 1), (22900, 1), (22901, 1), (22902, 1), (22903, 1), (22904, 1), (22905, 1), (22906, 1), (22907, 1), (22908, 1), (22909, 1), (22910, 1), (22911, 1), (22912, 1), (22913, 1), (22914, 1), (22915, 1), (22916, 1), (22917, 1), (22918, 1), (22919, 1), (22920, 1), (22921, 1), (22922, 1), (22923, 1), (22924, 1), (22925, 1), (22926, 1), (22927, 1), (22928, 1), (22929, 1), (22930, 1), (22931, 1), (22932, 1), (22933, 1), (22934, 1), (22935, 1), (22936, 1), (22937, 1), (22938, 1), (22939, 1), (22940, 1), (22941, 1), (22942, 1), (22943, 1), (22944, 1), (22945, 1), (22946, 1), (22947, 1), (22948, 1), (22949, 1), (22950, 1), (22951, 1), (22952, 1), (22953, 1), (22954, 1), (22955, 1), (22956, 1), (22957, 1), (22958, 1), (22959, 1), (22960, 1), (22961, 1), (22962, 1), (22963, 1), (22964, 1), (22965, 1), (22966, 1), (22967, 1), (22968, 1), (22969, 1), (22970, 1), (22971, 1), (22972, 1), (22973, 1), (22974, 1), (22975, 1), (22976, 1), (22977, 1), (22978, 1), (22979, 1), (22980, 1), (22981, 1), (22982, 1), (22983, 1), (22984, 1), (22985, 1), (22986, 1), (22987, 1), (22988, 1), (22989, 1), (22990, 1), (22991, 1), (22992, 1), (22993, 1), (22994, 1), (22995, 1), (22996, 1), (22997, 1), (22998, 1), (22999, 1), (23000, 1), (23001, 1), (23002, 1), (23003, 1), (23004, 1), (23005, 1), (23006, 1), (23007, 1), (23008, 1), (23009, 1), (23010, 1), (23011, 1), (23012, 1), (23013, 1), (23014, 1), (23015, 1), (23016, 1), (23017, 1), (23018, 1), (23019, 1), (23020, 1), (23021, 1), (23022, 1), (23023, 1), (23024, 1), (23025, 1), (23026, 1), (23027, 1), (23028, 1), (23029, 1), (23030, 1), (23031, 1), (23032, 1), (23033, 1), (23034, 1), (23035, 1), (23036, 1), (23037, 1), (23038, 1), (23039, 1), (23040, 1), (23041, 1), (23042, 1), (23043, 1), (23044, 1), (23045, 1), (23046, 1), (23047, 1), (23048, 1), (23049, 1), (23050, 1), (23051, 1), (23052, 1), (23053, 1), (23054, 1), (23055, 1), (23056, 1), (23057, 1), (23058, 1), (23059, 1), (23060, 1), (23061, 1), (23062, 1), (23063, 1), (23064, 1), (23065, 1), (23066, 1), (23067, 1), (23068, 1), (23069, 1), (23070, 1), (23071, 1), (23072, 1), (23073, 1), (23074, 1), (23075, 1), (23076, 1), (23077, 1), (23078, 1), (23079, 1), (23080, 1), (23081, 1), (23082, 1), (23083, 1), (23084, 1), (23085, 1), (23086, 1), (23087, 1), (23088, 1), (23089, 1), (23090, 1), (23091, 1), (23092, 1), (23093, 1), (23094, 1), (23095, 1), (23096, 1), (23097, 1), (23098, 1), (23099, 1), (23100, 1), (23101, 1), (23102, 1), (23103, 1), (23104, 1), (23105, 1), (23106, 1), (23107, 1), (23108, 1), (23109, 1), (23110, 1), (23111, 1), (23112, 1), (23113, 1), (23114, 1), (23115, 1), (23116, 1), (23117, 1), (23118, 1), (23119, 1), (23120, 1), (23121, 1), (23122, 1), (23123, 1), (23124, 1), (23125, 1), (23126, 1), (23127, 1), (23128, 1), (23129, 1), (23130, 1), (23131, 1), (23132, 1), (23133, 1), (23134, 1), (23135, 1), (23136, 1), (23137, 1), (23138, 1), (23139, 1), (23140, 1), (23141, 1), (23142, 1), (23143, 1), (23144, 1), (23145, 1), (23146, 1), (23147, 1), (23148, 1), (23149, 1), (23150, 1), (23151, 1), (23152, 1), (23153, 1), (23154, 1), (23155, 1), (23156, 1), (23157, 1), (23158, 1), (23159, 1), (23160, 1), (23161, 1), (23162, 1), (23163, 1), (23164, 1), (23165, 1), (23166, 1), (23167, 1), (23168, 1), (23169, 1), (23170, 1), (23171, 1), (23172, 1), (23173, 1), (23174, 1), (23175, 1), (23176, 1), (23177, 1), (23178, 1), (23179, 1), (23180, 1), (23181, 1), (23182, 1), (23183, 1), (23184, 1), (23185, 1), (23186, 1), (23187, 1), (23188, 1), (23189, 1), (23190, 1), (23191, 1), (23192, 1), (23193, 1), (23194, 1), (23195, 1), (23196, 1), (23197, 1), (23198, 1), (23199, 1), (23200, 1), (23201, 1), (23202, 1), (23203, 1), (23204, 1), (23205, 1), (23206, 1), (23207, 1), (23208, 1), (23209, 1), (23210, 1), (23211, 1), (23212, 1), (23213, 1), (23214, 1), (23215, 1), (23216, 1), (23217, 1), (23218, 1), (23219, 1), (23220, 1), (23221, 1), (23222, 1), (23223, 1), (23224, 1), (23225, 1), (23226, 1), (23227, 1), (23228, 1), (23229, 1), (23230, 1), (23231, 1), (23232, 1), (23233, 1), (23234, 1), (23235, 1), (23236, 1), (23237, 1), (23238, 1), (23239, 1), (23240, 1), (23241, 1), (23242, 1), (23243, 1), (23244, 1), (23245, 1), (23246, 1), (23247, 1), (23248, 1), (23249, 1), (23250, 1), (23251, 1), (23252, 1), (23253, 1), (23254, 1), (23255, 1), (23256, 1), (23257, 1), (23258, 1), (23259, 1), (23260, 1), (23261, 1), (23262, 1), (23263, 1), (23264, 1), (23265, 1), (23266, 1), (23267, 1), (23268, 1), (23269, 1), (23270, 1), (23271, 1), (23272, 1), (23273, 1), (23274, 1), (23275, 1), (23276, 1), (23277, 1), (23278, 1), (23279, 1), (23280, 1), (23281, 1), (23282, 1), (23283, 1), (23284, 1), (23285, 1), (23286, 1), (23287, 1), (23288, 1), (23289, 1), (23290, 1), (23291, 1), (23292, 1), (23293, 1), (23294, 1), (23295, 1), (23296, 1), (23297, 1), (23298, 1), (23299, 1), (23300, 1), (23301, 1), (23302, 1), (23303, 1), (23304, 1), (23305, 1), (23306, 1), (23307, 1), (23308, 1), (23309, 1), (23310, 1), (23311, 1), (23312, 1), (23313, 1), (23314, 1), (23315, 1), (23316, 1), (23317, 1), (23318, 1), (23319, 1), (23320, 1), (23321, 1), (23322, 1), (23323, 1), (23324, 1), (23325, 1), (23326, 1), (23327, 1), (23328, 1), (23329, 1), (23330, 1), (23331, 1), (23332, 1), (23333, 1), (23334, 1), (23335, 1), (23336, 1), (23337, 1), (23338, 1), (23339, 1), (23340, 1), (23341, 1), (23342, 1), (23343, 1), (23344, 1), (23345, 1), (23346, 1), (23347, 1), (23348, 1), (23349, 1), (23350, 1), (23351, 1), (23352, 1), (23353, 1), (23354, 1), (23355, 1), (23356, 1), (23357, 1), (23358, 1), (23359, 1), (23360, 1), (23361, 1), (23362, 1), (23363, 1), (23364, 1), (23365, 1), (23366, 1), (23367, 1), (23368, 1), (23369, 1), (23370, 1), (23371, 1), (23372, 1), (23373, 1), (23374, 1), (23375, 1), (23376, 1), (23377, 1), (23378, 1), (23379, 1), (23380, 1), (23381, 1), (23382, 1), (23383, 1), (23384, 1), (23385, 1), (23386, 1), (23387, 1), (23388, 1), (23389, 1), (23390, 1), (23391, 1), (23392, 1), (23393, 1), (23394, 1), (23395, 1), (23396, 1), (23397, 1), (23398, 1), (23399, 1), (23400, 1), (23401, 1), (23402, 1), (23403, 1), (23404, 1), (23405, 1), (23406, 1), (23407, 1), (23408, 1), (23409, 1), (23410, 1), (23411, 1), (23412, 1), (23413, 1), (23414, 1), (23415, 1), (23416, 1), (23417, 1), (23418, 1), (23419, 1), (23420, 1), (23421, 1), (23422, 1), (23423, 1), (23424, 1), (23425, 1), (23426, 1), (23427, 1), (23428, 1), (23429, 1), (23430, 1), (23431, 1), (23432, 1), (23433, 1), (23434, 1), (23435, 1), (23436, 1), (23437, 1), (23438, 1), (23439, 1), (23440, 1), (23441, 1), (23442, 1), (23443, 1), (23444, 1), (23445, 1), (23446, 1), (23447, 1), (23448, 1), (23449, 1), (23450, 1), (23451, 1), (23452, 1), (23453, 1), (23454, 1), (23455, 1), (23456, 1), (23457, 1), (23458, 1), (23459, 1), (23460, 1), (23461, 1), (23462, 1), (23463, 1), (23464, 1), (23465, 1), (23466, 1), (23467, 1), (23468, 1), (23469, 1), (23470, 1), (23471, 1), (23472, 1), (23473, 1), (23474, 1), (23475, 1), (23476, 1), (23477, 1), (23478, 1), (23479, 1), (23480, 1), (23481, 1), (23482, 1), (23483, 1), (23484, 1), (23485, 1), (23486, 1), (23487, 1), (23488, 1), (23489, 1), (23490, 1), (23491, 1), (23492, 1), (23493, 1), (23494, 1), (23495, 1), (23496, 1), (23497, 1), (23498, 1), (23499, 1), (23500, 1), (23501, 1), (23502, 1), (23503, 1), (23504, 1), (23505, 1), (23506, 1), (23507, 1), (23508, 1), (23509, 1), (23510, 1), (23511, 1), (23512, 1), (23513, 1), (23514, 1), (23515, 1), (23516, 1), (23517, 1), (23518, 1), (23519, 1), (23520, 1), (23521, 1), (23522, 1), (23523, 1), (23524, 1), (23525, 1), (23526, 1), (23527, 1), (23528, 1), (23529, 1), (23530, 1), (23531, 1), (23532, 1), (23533, 1), (23534, 1), (23535, 1), (23536, 1), (23537, 1), (23538, 1), (23539, 1), (23540, 1), (23541, 1), (23542, 1), (23543, 1), (23544, 1), (23545, 1), (23546, 1), (23547, 1), (23548, 1), (23549, 1), (23550, 1), (23551, 1), (23552, 1), (23553, 1), (23554, 1), (23555, 1), (23556, 1), (23557, 1), (23558, 1), (23559, 1), (23560, 1), (23561, 1), (23562, 1), (23563, 1), (23564, 1), (23565, 1), (23566, 1), (23567, 1), (23568, 1), (23569, 1), (23570, 1), (23571, 1), (23572, 1), (23573, 1), (23574, 1), (23575, 1), (23576, 1), (23577, 1), (23578, 1), (23579, 1), (23580, 1), (23581, 1), (23582, 1), (23583, 1), (23584, 1), (23585, 1), (23586, 1), (23587, 1), (23588, 1), (23589, 1), (23590, 1), (23591, 1), (23592, 1), (23593, 1), (23594, 1), (23595, 1), (23596, 1), (23597, 1), (23598, 1), (23599, 1), (23600, 1), (23601, 1), (23602, 1), (23603, 1), (23604, 1), (23605, 1), (23606, 1), (23607, 1), (23608, 1), (23609, 1), (23610, 1), (23611, 1), (23612, 1), (23613, 1), (23614, 1), (23615, 1), (23616, 1), (23617, 1), (23618, 1), (23619, 1), (23620, 1), (23621, 1), (23622, 1), (23623, 1), (23624, 1), (23625, 1), (23626, 1), (23627, 1), (23628, 1), (23629, 1), (23630, 1), (23631, 1), (23632, 1), (23633, 1), (23634, 1), (23635, 1), (23636, 1), (23637, 1), (23638, 1), (23639, 1), (23640, 1), (23641, 1), (23642, 1), (23643, 1), (23644, 1), (23645, 1), (23646, 1), (23647, 1), (23648, 1), (23649, 1), (23650, 1), (23651, 1), (23652, 1), (23653, 1), (23654, 1), (23655, 1), (23656, 1), (23657, 1), (23658, 1), (23659, 1), (23660, 1), (23661, 1), (23662, 1), (23663, 1), (23664, 1), (23665, 1), (23666, 1), (23667, 1), (23668, 1), (23669, 1), (23670, 1), (23671, 1), (23672, 1), (23673, 1), (23674, 1), (23675, 1), (23676, 1), (23677, 1), (23678, 1), (23679, 1), (23680, 1), (23681, 1), (23682, 1), (23683, 1), (23684, 1), (23685, 1), (23686, 1), (23687, 1), (23688, 1), (23689, 1), (23690, 1), (23691, 1), (23692, 1), (23693, 1), (23694, 1), (23695, 1), (23696, 1), (23697, 1), (23698, 1), (23699, 1), (23700, 1), (23701, 1), (23702, 1), (23703, 1), (23704, 1), (23705, 1), (23706, 1), (23707, 1), (23708, 1), (23709, 1), (23710, 1), (23711, 1), (23712, 1), (23713, 1), (23714, 1), (23715, 1), (23716, 1), (23717, 1), (23718, 1), (23719, 1), (23720, 1), (23721, 1), (23722, 1), (23723, 1), (23724, 1), (23725, 1), (23726, 1), (23727, 1), (23728, 1), (23729, 1), (23730, 1), (23731, 1), (23732, 1), (23733, 1), (23734, 1), (23735, 1), (23736, 1), (23737, 1), (23738, 1), (23739, 1), (23740, 1), (23741, 1), (23742, 1), (23743, 1), (23744, 1), (23745, 1), (23746, 1), (23747, 1), (23748, 1), (23749, 1), (23750, 1), (23751, 1), (23752, 1), (23753, 1), (23754, 1), (23755, 1), (23756, 1), (23757, 1), (23758, 1), (23759, 1), (23760, 1), (23761, 1), (23762, 1), (23763, 1), (23764, 1), (23765, 1), (23766, 1), (23767, 1), (23768, 1), (23769, 1), (23770, 1), (23771, 1), (23772, 1), (23773, 1), (23774, 1), (23775, 1), (23776, 1), (23777, 1), (23778, 1), (23779, 1), (23780, 1), (23781, 1), (23782, 1), (23783, 1), (23784, 1), (23785, 1), (23786, 1), (23787, 1), (23788, 1), (23789, 1), (23790, 1), (23791, 1), (23792, 1), (23793, 1), (23794, 1), (23795, 1), (23796, 1), (23797, 1), (23798, 1), (23799, 1), (23800, 1), (23801, 1), (23802, 1), (23803, 1), (23804, 1), (23805, 1), (23806, 1), (23807, 1), (23808, 1), (23809, 1), (23810, 1), (23811, 1), (23812, 1), (23813, 1), (23814, 1), (23815, 1), (23816, 1), (23817, 1), (23818, 1), (23819, 1), (23820, 1), (23821, 1), (23822, 1), (23823, 1), (23824, 1), (23825, 1), (23826, 1), (23827, 1), (23828, 1), (23829, 1), (23830, 1), (23831, 1), (23832, 1), (23833, 1), (23834, 1), (23835, 1), (23836, 1), (23837, 1), (23838, 1), (23839, 1), (23840, 1), (23841, 1), (23842, 1), (23843, 1), (23844, 1), (23845, 1), (23846, 1), (23847, 1), (23848, 1), (23849, 1), (23850, 1), (23851, 1), (23852, 1), (23853, 1), (23854, 1), (23855, 1), (23856, 1), (23857, 1), (23858, 1), (23859, 1), (23860, 1), (23861, 1), (23862, 1), (23863, 1), (23864, 1), (23865, 1), (23866, 1), (23867, 1), (23868, 1), (23869, 1), (23870, 1), (23871, 1), (23872, 1), (23873, 1), (23874, 1), (23875, 1), (23876, 1), (23877, 1), (23878, 1), (23879, 1), (23880, 1), (23881, 1), (23882, 1), (23883, 1), (23884, 1), (23885, 1), (23886, 1), (23887, 1), (23888, 1), (23889, 1), (23890, 1), (23891, 1), (23892, 1), (23893, 1), (23894, 1), (23895, 1), (23896, 1), (23897, 1), (23898, 1), (23899, 1), (23900, 1), (23901, 1), (23902, 1), (23903, 1), (23904, 1), (23905, 1), (23906, 1), (23907, 1), (23908, 1), (23909, 1), (23910, 1), (23911, 1), (23912, 1), (23913, 1), (23914, 1), (23915, 1), (23916, 1), (23917, 1), (23918, 1), (23919, 1), (23920, 1), (23921, 1), (23922, 1), (23923, 1), (23924, 1), (23925, 1), (23926, 1), (23927, 1), (23928, 1), (23929, 1), (23930, 1), (23931, 1), (23932, 1), (23933, 1), (23934, 1), (23935, 1), (23936, 1), (23937, 1), (23938, 1), (23939, 1), (23940, 1), (23941, 1), (23942, 1), (23943, 1), (23944, 1), (23945, 1), (23946, 1), (23947, 1), (23948, 1), (23949, 1), (23950, 1), (23951, 1), (23952, 1), (23953, 1), (23954, 1), (23955, 1), (23956, 1), (23957, 1), (23958, 1), (23959, 1), (23960, 1), (23961, 1), (23962, 1), (23963, 1), (23964, 1), (23965, 1), (23966, 1), (23967, 1), (23968, 1), (23969, 1), (23970, 1), (23971, 1), (23972, 1), (23973, 1), (23974, 1), (23975, 1), (23976, 1), (23977, 1), (23978, 1), (23979, 1), (23980, 1), (23981, 1), (23982, 1), (23983, 1), (23984, 1), (23985, 1), (23986, 1), (23987, 1), (23988, 1), (23989, 1), (23990, 1), (23991, 1), (23992, 1), (23993, 1), (23994, 1), (23995, 1), (23996, 1), (23997, 8), (23998, 8), (23999, 8), (24000, 8), (24001, 8), (24002, 8), (24003, 8), (24004, 8), (24005, 8), (24006, 8), (24007, 8), (24008, 8), (24009, 8), (24010, 8), (24011, 8), (24012, 8), (24013, 8), (24014, 8), (24015, 8), (24016, 8), (24017, 8), (24018, 8), (24019, 8), (24020, 8), (24021, 8), (24022, 8), (24023, 8), (24024, 8), (24025, 8), (24026, 8), (24027, 8), (24028, 8), (24029, 8), (24030, 8), (24031, 8), (24032, 8), (24033, 8), (24034, 8), (24035, 8), (24036, 8), (24037, 8), (24038, 8), (24039, 8), (24040, 8), (24041, 8), (24042, 8), (24043, 8), (24044, 8), (24045, 8), (24046, 8), (24047, 8), (24048, 8), (24049, 8), (24050, 8), (24051, 8), (24052, 8), (24053, 8), (24054, 8), (24055, 8), (24056, 8), (24057, 8), (24058, 8), (24059, 8), (24060, 8), (24061, 8), (24062, 8), (24063, 8), (24064, 7), (24065, 7), (24066, 7), (24067, 7), (24068, 7), (24069, 7), (24070, 7), (24071, 7), (24072, 7), (24073, 7), (24074, 7), (24075, 7), (24076, 7), (24077, 7), (24078, 7), (24079, 7), (24080, 7), (24081, 7), (24082, 7), (24083, 7), (24084, 7), (24085, 7), (24086, 7), (24087, 7), (24088, 7), (24089, 7), (24090, 7), (24091, 7), (24092, 7), (24093, 7), (24094, 7), (24095, 7), (24096, 7), (24097, 7), (24098, 7), (24099, 7), (24100, 7), (24101, 7), (24102, 7), (24103, 7), (24104, 7), (24105, 7), (24106, 7), (24107, 7), (24108, 7), (24109, 7), (24110, 7), (24111, 7), (24112, 7), (24113, 7), (24114, 7), (24115, 7), (24116, 7), (24117, 7), (24118, 7), (24119, 7), (24120, 7), (24121, 7), (24122, 7), (24123, 7), (24124, 7), (24125, 7), (24126, 7), (24127, 7), (24128, 7), (24129, 7), (24130, 7), (24131, 7), (24132, 7), (24133, 7), (24134, 7), (24135, 7), (24136, 7), (24137, 7), (24138, 7), (24139, 7), (24140, 7), (24141, 7), (24142, 7), (24143, 7), (24144, 7), (24145, 7), (24146, 7), (24147, 7), (24148, 7), (24149, 7), (24150, 7), (24151, 7), (24152, 7), (24153, 7), (24154, 7), (24155, 7), (24156, 7), (24157, 7), (24158, 7), (24159, 7), (24160, 7), (24161, 7), (24162, 7), (24163, 7), (24164, 7), (24165, 7), (24166, 7), (24167, 7), (24168, 7), (24169, 7), (24170, 7), (24171, 7), (24172, 7), (24173, 7), (24174, 7), (24175, 7), (24176, 7), (24177, 7), (24178, 7), (24179, 7), (24180, 7), (24181, 7), (24182, 7), (24183, 7), (24184, 7), (24185, 7), (24186, 7), (24187, 7), (24188, 7), (24189, 7), (24190, 7), (24191, 7), (24192, 7), (24193, 7), (24194, 7), (24195, 7), (24196, 7), (24197, 7), (24198, 7), (24199, 7), (24200, 7), (24201, 7), (24202, 7), (24203, 7), (24204, 7), (24205, 7), (24206, 7), (24207, 7), (24208, 7), (24209, 7), (24210, 7), (24211, 7), (24212, 7), (24213, 7), (24214, 7), (24215, 7), (24216, 7), (24217, 7), (24218, 7), (24219, 7), (24220, 7), (24221, 7), (24222, 7), (24223, 7), (24224, 7), (24225, 7), (24226, 7), (24227, 7), (24228, 7), (24229, 7), (24230, 7), (24231, 7), (24232, 7), (24233, 7), (24234, 7), (24235, 7), (24236, 7), (24237, 7), (24238, 7), (24239, 7), (24240, 7), (24241, 7), (24242, 7), (24243, 7), (24244, 7), (24245, 7), (24246, 7), (24247, 7), (24248, 7), (24249, 7), (24250, 7), (24251, 7), (24252, 7), (24253, 7), (24254, 7), (24255, 7), (24256, 7), (24257, 7), (24258, 7), (24259, 7), (24260, 7), (24261, 7), (24262, 7), (24263, 7), (24264, 7), (24265, 7), (24266, 7), (24267, 7), (24268, 7), (24269, 7), (24270, 7), (24271, 7), (24272, 7), (24273, 7), (24274, 7), (24275, 7), (24276, 7), (24277, 7), (24278, 7), (24279, 7), (24280, 7), (24281, 7), (24282, 7), (24283, 7), (24284, 7), (24285, 7), (24286, 7), (24287, 7), (24288, 7), (24289, 7), (24290, 7), (24291, 7), (24292, 7), (24293, 7), (24294, 7), (24295, 7), (24296, 7), (24297, 7), (24298, 7), (24299, 7), (24300, 7), (24301, 7), (24302, 7), (24303, 7), (24304, 7), (24305, 7), (24306, 7), (24307, 7), (24308, 7), (24309, 7), (24310, 7), (24311, 7), (24312, 7), (24313, 7), (24314, 7), (24315, 7), (24316, 7), (24317, 7), (24318, 7), (24319, 7), (24320, 7), (24321, 7), (24322, 7), (24323, 7), (24324, 7), (24325, 7), (24326, 7), (24327, 7), (24328, 7), (24329, 7), (24330, 7), (24331, 7), (24332, 7), (24333, 7), (24334, 7), (24335, 7), (24336, 7), (24337, 7), (24338, 7), (24339, 7), (24340, 7), (24341, 7), (24342, 7), (24343, 7), (24344, 7), (24345, 7), (24346, 7), (24347, 7), (24348, 7), (24349, 7), (24350, 7), (24351, 7), (24352, 7), (24353, 7), (24354, 7), (24355, 7), (24356, 7), (24357, 7), (24358, 7), (24359, 7), (24360, 7), (24361, 7), (24362, 7), (24363, 7), (24364, 7), (24365, 7), (24366, 7), (24367, 7), (24368, 7), (24369, 7), (24370, 7), (24371, 7), (24372, 7), (24373, 7), (24374, 7), (24375, 7), (24376, 7), (24377, 7), (24378, 7), (24379, 7), (24380, 7), (24381, 7), (24382, 7), (24383, 7), (24384, 7), (24385, 7), (24386, 7), (24387, 7), (24388, 7), (24389, 7), (24390, 7), (24391, 7), (24392, 7), (24393, 7), (24394, 7), (24395, 7), (24396, 7), (24397, 7), (24398, 7), (24399, 7), (24400, 7), (24401, 7), (24402, 7), (24403, 7), (24404, 7), (24405, 7), (24406, 7), (24407, 7), (24408, 7), (24409, 7), (24410, 7), (24411, 7), (24412, 7), (24413, 7), (24414, 7), (24415, 7), (24416, 7), (24417, 7), (24418, 7), (24419, 7), (24420, 7), (24421, 7), (24422, 7), (24423, 7), (24424, 7), (24425, 7), (24426, 7), (24427, 7), (24428, 7), (24429, 7), (24430, 7), (24431, 7), (24432, 7), (24433, 7), (24434, 7), (24435, 7), (24436, 7), (24437, 7), (24438, 7), (24439, 7), (24440, 7), (24441, 7), (24442, 7), (24443, 7), (24444, 7), (24445, 7), (24446, 7), (24447, 7), (24448, 7), (24449, 7), (24450, 7), (24451, 7), (24452, 7), (24453, 7), (24454, 7), (24455, 7), (24456, 7), (24457, 7), (24458, 7), (24459, 7), (24460, 7), (24461, 7), (24462, 7), (24463, 7), (24464, 7), (24465, 7), (24466, 7), (24467, 7), (24468, 7), (24469, 7), (24470, 7), (24471, 7), (24472, 7), (24473, 7), (24474, 7), (24475, 7), (24476, 7), (24477, 7), (24478, 7), (24479, 7), (24480, 7), (24481, 7), (24482, 7), (24483, 7), (24484, 7), (24485, 7), (24486, 7), (24487, 7), (24488, 7), (24489, 7), (24490, 7), (24491, 7), (24492, 7), (24493, 7), (24494, 7), (24495, 7), (24496, 7), (24497, 7), (24498, 7), (24499, 7), (24500, 7), (24501, 7), (24502, 7), (24503, 7), (24504, 7), (24505, 7), (24506, 7), (24507, 7), (24508, 7), (24509, 7), (24510, 7), (24511, 7), (24512, 7), (24513, 7), (24514, 7), (24515, 7), (24516, 7), (24517, 7), (24518, 7), (24519, 7), (24520, 7), (24521, 7), (24522, 7), (24523, 7), (24524, 7), (24525, 7), (24526, 7), (24527, 7), (24528, 7), (24529, 7), (24530, 7), (24531, 7), (24532, 7), (24533, 7), (24534, 7), (24535, 7), (24536, 7), (24537, 7), (24538, 7), (24539, 7), (24540, 7), (24541, 7), (24542, 7), (24543, 7), (24544, 7), (24545, 7), (24546, 7), (24547, 7), (24548, 7), (24549, 7), (24550, 7), (24551, 7), (24552, 7), (24553, 7), (24554, 7), (24555, 7), (24556, 7), (24557, 7), (24558, 7), (24559, 7), (24560, 7), (24561, 7), (24562, 7), (24563, 7), (24564, 7), (24565, 7), (24566, 7), (24567, 7), (24568, 7), (24569, 7), (24570, 7), (24571, 7), (24572, 7), (24573, 7), (24574, 7), (24575, 7), (24576, 7), (24577, 7), (24578, 7), (24579, 7), (24580, 7), (24581, 7), (24582, 7), (24583, 7), (24584, 7), (24585, 7), (24586, 7), (24587, 7), (24588, 7), (24589, 7), (24590, 7), (24591, 7), (24592, 7), (24593, 7), (24594, 7), (24595, 7), (24596, 7), (24597, 7), (24598, 7), (24599, 7), (24600, 7), (24601, 7), (24602, 7), (24603, 7), (24604, 7), (24605, 7), (24606, 7), (24607, 7), (24608, 7), (24609, 7), (24610, 7), (24611, 7), (24612, 7), (24613, 7), (24614, 7), (24615, 7), (24616, 7), (24617, 7), (24618, 7), (24619, 7), (24620, 7), (24621, 7), (24622, 7), (24623, 7), (24624, 7), (24625, 7), (24626, 7), (24627, 7), (24628, 7), (24629, 7), (24630, 7), (24631, 7), (24632, 7), (24633, 7), (24634, 7), (24635, 7), (24636, 7), (24637, 7), (24638, 7), (24639, 7), (24640, 7), (24641, 7), (24642, 7), (24643, 7), (24644, 7), (24645, 7), (24646, 7), (24647, 7), (24648, 7), (24649, 7), (24650, 7), (24651, 7), (24652, 7), (24653, 7), (24654, 7), (24655, 7), (24656, 7), (24657, 7), (24658, 7), (24659, 7), (24660, 7), (24661, 7), (24662, 7), (24663, 7), (24664, 7), (24665, 7), (24666, 7), (24667, 7), (24668, 7), (24669, 7), (24670, 7), (24671, 7), (24672, 7), (24673, 7), (24674, 7), (24675, 7), (24676, 7), (24677, 7), (24678, 7), (24679, 7), (24680, 7), (24681, 7), (24682, 7), (24683, 7), (24684, 7), (24685, 7), (24686, 7), (24687, 7), (24688, 7), (24689, 7), (24690, 7), (24691, 7), (24692, 7), (24693, 7), (24694, 7), (24695, 7), (24696, 7), (24697, 7), (24698, 7), (24699, 7), (24700, 7), (24701, 7), (24702, 7), (24703, 7), (24704, 7), (24705, 7), (24706, 7), (24707, 7), (24708, 7), (24709, 7), (24710, 7), (24711, 7), (24712, 7), (24713, 7), (24714, 7), (24715, 7), (24716, 7), (24717, 7), (24718, 7), (24719, 7), (24720, 7), (24721, 7), (24722, 7), (24723, 7), (24724, 7), (24725, 7), (24726, 7), (24727, 7), (24728, 7), (24729, 7), (24730, 7), (24731, 7), (24732, 7), (24733, 7), (24734, 7), (24735, 7), (24736, 7), (24737, 7), (24738, 7), (24739, 7), (24740, 7), (24741, 7), (24742, 7), (24743, 7), (24744, 7), (24745, 7), (24746, 7), (24747, 7), (24748, 7), (24749, 7), (24750, 7), (24751, 7), (24752, 7), (24753, 7), (24754, 7), (24755, 7), (24756, 7), (24757, 7), (24758, 7), (24759, 7), (24760, 7), (24761, 7), (24762, 7), (24763, 7), (24764, 7), (24765, 7), (24766, 7), (24767, 7), (24768, 7), (24769, 7), (24770, 7), (24771, 7), (24772, 7), (24773, 7), (24774, 7), (24775, 7), (24776, 7), (24777, 7), (24778, 7), (24779, 7), (24780, 7), (24781, 7), (24782, 7), (24783, 7), (24784, 7), (24785, 7), (24786, 7), (24787, 7), (24788, 7), (24789, 7), (24790, 7), (24791, 7), (24792, 7), (24793, 7), (24794, 7), (24795, 7), (24796, 7), (24797, 7), (24798, 7), (24799, 7), (24800, 7), (24801, 7), (24802, 7), (24803, 7), (24804, 7), (24805, 7), (24806, 7), (24807, 7), (24808, 7), (24809, 7), (24810, 7), (24811, 7), (24812, 7), (24813, 7), (24814, 7), (24815, 7), (24816, 7), (24817, 7), (24818, 7), (24819, 7), (24820, 7), (24821, 7), (24822, 7), (24823, 7), (24824, 7), (24825, 7), (24826, 7), (24827, 7), (24828, 7), (24829, 7), (24830, 7), (24831, 7), (24832, 7), (24833, 7), (24834, 7), (24835, 7), (24836, 7), (24837, 7), (24838, 7), (24839, 7), (24840, 7), (24841, 7), (24842, 7), (24843, 7), (24844, 7), (24845, 7), (24846, 7), (24847, 7), (24848, 7), (24849, 7), (24850, 7), (24851, 7), (24852, 7), (24853, 7), (24854, 7), (24855, 7), (24856, 7), (24857, 7), (24858, 7), (24859, 7), (24860, 7), (24861, 7), (24862, 7), (24863, 7), (24864, 7), (24865, 7), (24866, 7), (24867, 7), (24868, 7), (24869, 7), (24870, 7), (24871, 7), (24872, 7), (24873, 7), (24874, 7), (24875, 7), (24876, 7), (24877, 7), (24878, 7), (24879, 7), (24880, 7), (24881, 7), (24882, 7), (24883, 7), (24884, 7), (24885, 7), (24886, 7), (24887, 7), (24888, 7), (24889, 7), (24890, 7), (24891, 7), (24892, 7), (24893, 7), (24894, 7), (24895, 7), (24896, 7), (24897, 7), (24898, 7), (24899, 7), (24900, 7), (24901, 7), (24902, 7), (24903, 7), (24904, 7), (24905, 7), (24906, 7), (24907, 7), (24908, 7), (24909, 7), (24910, 7), (24911, 7), (24912, 7), (24913, 7), (24914, 7), (24915, 7), (24916, 7), (24917, 7), (24918, 7), (24919, 7), (24920, 7), (24921, 7), (24922, 7), (24923, 7), (24924, 7), (24925, 7), (24926, 7), (24927, 7), (24928, 7), (24929, 7), (24930, 7), (24931, 7), (24932, 7), (24933, 7), (24934, 7), (24935, 7), (24936, 7), (24937, 7), (24938, 7), (24939, 7), (24940, 7), (24941, 7), (24942, 7), (24943, 7), (24944, 7), (24945, 7), (24946, 7), (24947, 7), (24948, 7), (24949, 7), (24950, 7), (24951, 7), (24952, 7), (24953, 7), (24954, 7), (24955, 7), (24956, 7), (24957, 7), (24958, 7), (24959, 7), (24960, 7), (24961, 7), (24962, 7), (24963, 7), (24964, 7), (24965, 7), (24966, 7), (24967, 7), (24968, 7), (24969, 7), (24970, 7), (24971, 7), (24972, 7), (24973, 7), (24974, 7), (24975, 7), (24976, 7), (24977, 7), (24978, 7), (24979, 7), (24980, 7), (24981, 7), (24982, 7), (24983, 7), (24984, 7), (24985, 7), (24986, 7), (24987, 7), (24988, 7), (24989, 7), (24990, 7), (24991, 7), (24992, 7), (24993, 7), (24994, 7), (24995, 7), (24996, 7), (24997, 7), (24998, 7), (24999, 7), (25000, 7), (25001, 7), (25002, 7), (25003, 7), (25004, 7), (25005, 7), (25006, 7), (25007, 7), (25008, 7), (25009, 7), (25010, 7), (25011, 7), (25012, 7), (25013, 7), (25014, 7), (25015, 7), (25016, 7), (25017, 7), (25018, 7), (25019, 7), (25020, 7), (25021, 7), (25022, 7), (25023, 7), (25024, 7), (25025, 7), (25026, 7), (25027, 7), (25028, 7), (25029, 7), (25030, 7), (25031, 7), (25032, 7), (25033, 7), (25034, 7), (25035, 7), (25036, 7), (25037, 7), (25038, 7), (25039, 7), (25040, 7), (25041, 7), (25042, 7), (25043, 7), (25044, 7), (25045, 7), (25046, 7), (25047, 7), (25048, 7), (25049, 7), (25050, 7), (25051, 7), (25052, 7), (25053, 7), (25054, 7), (25055, 7), (25056, 7), (25057, 7), (25058, 7), (25059, 7), (25060, 7), (25061, 7), (25062, 7), (25063, 7), (25064, 7), (25065, 7), (25066, 7), (25067, 7), (25068, 7), (25069, 7), (25070, 7), (25071, 7), (25072, 7), (25073, 7), (25074, 7), (25075, 7), (25076, 7), (25077, 7), (25078, 7), (25079, 7), (25080, 7), (25081, 7), (25082, 7), (25083, 7), (25084, 7), (25085, 7), (25086, 7), (25087, 7), (25088, 7), (25089, 7), (25090, 7), (25091, 7), (25092, 7), (25093, 7), (25094, 7), (25095, 7), (25096, 7), (25097, 7), (25098, 7), (25099, 7), (25100, 7), (25101, 7), (25102, 7), (25103, 7), (25104, 7), (25105, 7), (25106, 7), (25107, 7), (25108, 7), (25109, 7), (25110, 7), (25111, 7), (25112, 7), (25113, 7), (25114, 7), (25115, 7), (25116, 7), (25117, 7), (25118, 7), (25119, 7), (25120, 7), (25121, 7), (25122, 7), (25123, 7), (25124, 7), (25125, 7), (25126, 7), (25127, 7), (25128, 7), (25129, 7), (25130, 7), (25131, 7), (25132, 7), (25133, 7), (25134, 7), (25135, 7), (25136, 7), (25137, 7), (25138, 7), (25139, 7), (25140, 7), (25141, 7), (25142, 7), (25143, 7), (25144, 7), (25145, 7), (25146, 7), (25147, 7), (25148, 7), (25149, 7), (25150, 7), (25151, 7), (25152, 7), (25153, 7), (25154, 7), (25155, 7), (25156, 7), (25157, 7), (25158, 7), (25159, 7), (25160, 7), (25161, 7), (25162, 7), (25163, 7), (25164, 7), (25165, 7), (25166, 7), (25167, 7), (25168, 7), (25169, 7), (25170, 7), (25171, 7), (25172, 7), (25173, 7), (25174, 7), (25175, 7), (25176, 7), (25177, 7), (25178, 7), (25179, 7), (25180, 7), (25181, 7), (25182, 7), (25183, 7), (25184, 7), (25185, 7), (25186, 7), (25187, 7), (25188, 7), (25189, 7), (25190, 7), (25191, 7), (25192, 7), (25193, 7), (25194, 7), (25195, 7), (25196, 7), (25197, 7), (25198, 7), (25199, 7), (25200, 7), (25201, 7), (25202, 7), (25203, 7), (25204, 7), (25205, 7), (25206, 7), (25207, 7), (25208, 7), (25209, 7), (25210, 7), (25211, 7), (25212, 7), (25213, 7), (25214, 7), (25215, 7), (25216, 7), (25217, 7), (25218, 7), (25219, 7), (25220, 7), (25221, 7), (25222, 7), (25223, 7), (25224, 7), (25225, 7), (25226, 7), (25227, 7), (25228, 7), (25229, 7), (25230, 7), (25231, 7), (25232, 7), (25233, 7), (25234, 7), (25235, 7), (25236, 7), (25237, 7), (25238, 7), (25239, 7), (25240, 7), (25241, 7), (25242, 7), (25243, 7), (25244, 7), (25245, 7), (25246, 7), (25247, 7), (25248, 7), (25249, 7), (25250, 7), (25251, 7), (25252, 7), (25253, 7), (25254, 7), (25255, 7), (25256, 7), (25257, 7), (25258, 7), (25259, 7), (25260, 7), (25261, 7), (25262, 7), (25263, 7), (25264, 7), (25265, 7), (25266, 7), (25267, 7), (25268, 7), (25269, 7), (25270, 7), (25271, 7), (25272, 7), (25273, 7), (25274, 7), (25275, 7), (25276, 7), (25277, 7), (25278, 7), (25279, 7), (25280, 7), (25281, 7), (25282, 7), (25283, 7), (25284, 7), (25285, 7), (25286, 7), (25287, 7), (25288, 7), (25289, 7), (25290, 7), (25291, 7), (25292, 7), (25293, 7), (25294, 7), (25295, 7), (25296, 7), (25297, 7), (25298, 7), (25299, 7), (25300, 7), (25301, 7), (25302, 7), (25303, 7), (25304, 7), (25305, 7), (25306, 7), (25307, 7), (25308, 7), (25309, 7), (25310, 7), (25311, 7), (25312, 7), (25313, 7), (25314, 7), (25315, 7), (25316, 7), (25317, 7), (25318, 7), (25319, 7), (25320, 7), (25321, 7), (25322, 7), (25323, 7), (25324, 7), (25325, 7), (25326, 7), (25327, 7), (25328, 7), (25329, 7), (25330, 7), (25331, 7), (25332, 7), (25333, 7), (25334, 7), (25335, 7), (25336, 7), (25337, 7), (25338, 7), (25339, 7), (25340, 7), (25341, 7), (25342, 7), (25343, 7), (25344, 7), (25345, 7), (25346, 7), (25347, 7), (25348, 7), (25349, 7), (25350, 7), (25351, 7), (25352, 7), (25353, 7), (25354, 7), (25355, 7), (25356, 7), (25357, 7), (25358, 7), (25359, 7), (25360, 7), (25361, 7), (25362, 7), (25363, 7), (25364, 7), (25365, 7), (25366, 7), (25367, 7), (25368, 7), (25369, 7), (25370, 7), (25371, 7), (25372, 7), (25373, 7), (25374, 7), (25375, 7), (25376, 7), (25377, 7), (25378, 7), (25379, 7), (25380, 7), (25381, 7), (25382, 7), (25383, 7), (25384, 7), (25385, 7), (25386, 7), (25387, 7), (25388, 7), (25389, 7), (25390, 7), (25391, 7), (25392, 7), (25393, 7), (25394, 7), (25395, 7), (25396, 7), (25397, 7), (25398, 7), (25399, 7), (25400, 7), (25401, 7), (25402, 7), (25403, 7), (25404, 7), (25405, 7), (25406, 7), (25407, 7), (25408, 7), (25409, 7), (25410, 7), (25411, 7), (25412, 7), (25413, 7), (25414, 7), (25415, 7), (25416, 7), (25417, 7), (25418, 7), (25419, 7), (25420, 7), (25421, 7), (25422, 7), (25423, 7), (25424, 7), (25425, 7), (25426, 7), (25427, 7), (25428, 7), (25429, 7), (25430, 7), (25431, 7), (25432, 7), (25433, 7), (25434, 7), (25435, 7), (25436, 7), (25437, 7), (25438, 7), (25439, 7), (25440, 7), (25441, 7), (25442, 7), (25443, 7), (25444, 7), (25445, 7), (25446, 7), (25447, 7), (25448, 7), (25449, 7), (25450, 7), (25451, 7), (25452, 7), (25453, 7), (25454, 7), (25455, 7), (25456, 7), (25457, 7), (25458, 7), (25459, 7), (25460, 7), (25461, 7), (25462, 7), (25463, 7), (25464, 7), (25465, 7), (25466, 7), (25467, 7), (25468, 7), (25469, 7), (25470, 7), (25471, 7), (25472, 7), (25473, 7), (25474, 7), (25475, 7), (25476, 7), (25477, 7), (25478, 7), (25479, 7), (25480, 7), (25481, 7), (25482, 7), (25483, 7), (25484, 7), (25485, 7), (25486, 7), (25487, 7), (25488, 7), (25489, 7), (25490, 7), (25491, 7), (25492, 7), (25493, 7), (25494, 7), (25495, 7), (25496, 7), (25497, 7), (25498, 7), (25499, 7), (25500, 7), (25501, 7), (25502, 7), (25503, 7), (25504, 7), (25505, 7), (25506, 7), (25507, 7), (25508, 7), (25509, 7), (25510, 7), (25511, 7), (25512, 7), (25513, 7), (25514, 7), (25515, 7), (25516, 7), (25517, 7), (25518, 7), (25519, 7), (25520, 7), (25521, 7), (25522, 7), (25523, 7), (25524, 7), (25525, 7), (25526, 7), (25527, 7), (25528, 7), (25529, 7), (25530, 7), (25531, 7), (25532, 7), (25533, 7), (25534, 7), (25535, 7), (25536, 7), (25537, 7), (25538, 7), (25539, 7), (25540, 7), (25541, 7), (25542, 7), (25543, 7), (25544, 7), (25545, 7), (25546, 7), (25547, 7), (25548, 7), (25549, 7), (25550, 7), (25551, 7), (25552, 7), (25553, 7), (25554, 7), (25555, 7), (25556, 7), (25557, 7), (25558, 7), (25559, 7), (25560, 7), (25561, 7), (25562, 7), (25563, 7), (25564, 7), (25565, 7), (25566, 7), (25567, 7), (25568, 7), (25569, 7), (25570, 7), (25571, 7), (25572, 7), (25573, 7), (25574, 7), (25575, 7), (25576, 7), (25577, 7), (25578, 7), (25579, 7), (25580, 7), (25581, 7), (25582, 7), (25583, 7), (25584, 7), (25585, 7), (25586, 7), (25587, 7), (25588, 7), (25589, 7), (25590, 7), (25591, 7), (25592, 7), (25593, 7), (25594, 7), (25595, 7), (25596, 7), (25597, 7), (25598, 7), (25599, 7), (25600, 7), (25601, 7), (25602, 7), (25603, 7), (25604, 7), (25605, 7), (25606, 7), (25607, 7), (25608, 7), (25609, 7), (25610, 7), (25611, 7), (25612, 7), (25613, 7), (25614, 7), (25615, 7), (25616, 7), (25617, 7), (25618, 7), (25619, 7), (25620, 7), (25621, 7), (25622, 7), (25623, 7), (25624, 7), (25625, 7), (25626, 7), (25627, 7), (25628, 7), (25629, 7), (25630, 7), (25631, 7), (25632, 7), (25633, 7), (25634, 7), (25635, 7), (25636, 7), (25637, 7), (25638, 7), (25639, 7), (25640, 7), (25641, 7), (25642, 7), (25643, 7), (25644, 7), (25645, 7), (25646, 7), (25647, 7), (25648, 7), (25649, 7), (25650, 7), (25651, 7), (25652, 7), (25653, 7), (25654, 7), (25655, 7), (25656, 7), (25657, 7), (25658, 7), (25659, 7), (25660, 7), (25661, 7), (25662, 7), (25663, 7), (25664, 7), (25665, 7), (25666, 7), (25667, 7), (25668, 7), (25669, 7), (25670, 7), (25671, 7), (25672, 7), (25673, 7), (25674, 7), (25675, 7), (25676, 7), (25677, 7), (25678, 7), (25679, 7), (25680, 7), (25681, 7), (25682, 7), (25683, 7), (25684, 7), (25685, 7), (25686, 7), (25687, 7), (25688, 7), (25689, 7), (25690, 7), (25691, 7), (25692, 7), (25693, 7), (25694, 7), (25695, 7), (25696, 7), (25697, 7), (25698, 7), (25699, 7), (25700, 7), (25701, 7), (25702, 7), (25703, 7), (25704, 7), (25705, 7), (25706, 7), (25707, 7), (25708, 7), (25709, 7), (25710, 7), (25711, 7), (25712, 7), (25713, 7), (25714, 7), (25715, 7), (25716, 7), (25717, 7), (25718, 7), (25719, 7), (25720, 7), (25721, 7), (25722, 7), (25723, 7), (25724, 7), (25725, 7), (25726, 7), (25727, 7), (25728, 7), (25729, 7), (25730, 7), (25731, 7), (25732, 7), (25733, 7), (25734, 7), (25735, 7), (25736, 7), (25737, 7), (25738, 7), (25739, 7), (25740, 7), (25741, 7), (25742, 7), (25743, 7), (25744, 7), (25745, 7), (25746, 7), (25747, 7), (25748, 7), (25749, 7), (25750, 7), (25751, 7), (25752, 7), (25753, 7), (25754, 7), (25755, 7), (25756, 7), (25757, 7), (25758, 7), (25759, 7), (25760, 7), (25761, 7), (25762, 7), (25763, 7), (25764, 7), (25765, 7), (25766, 7), (25767, 7), (25768, 7), (25769, 7), (25770, 7), (25771, 7), (25772, 7), (25773, 7), (25774, 7), (25775, 7), (25776, 7), (25777, 7), (25778, 7), (25779, 7), (25780, 7), (25781, 7), (25782, 7), (25783, 7), (25784, 7), (25785, 7), (25786, 7), (25787, 7), (25788, 7), (25789, 7), (25790, 7), (25791, 7), (25792, 7), (25793, 7), (25794, 7), (25795, 7), (25796, 7), (25797, 7), (25798, 7), (25799, 7), (25800, 7), (25801, 7), (25802, 7), (25803, 7), (25804, 7), (25805, 7), (25806, 7), (25807, 7), (25808, 7), (25809, 7), (25810, 7), (25811, 7), (25812, 7), (25813, 7), (25814, 7), (25815, 7), (25816, 7), (25817, 7), (25818, 7), (25819, 7), (25820, 7), (25821, 7), (25822, 7), (25823, 7), (25824, 7), (25825, 7), (25826, 7), (25827, 7), (25828, 7), (25829, 7), (25830, 7), (25831, 7), (25832, 7), (25833, 7), (25834, 7), (25835, 7), (25836, 7), (25837, 7), (25838, 7), (25839, 7), (25840, 7), (25841, 7), (25842, 7), (25843, 7), (25844, 7), (25845, 7), (25846, 7), (25847, 7), (25848, 7), (25849, 7), (25850, 7), (25851, 7), (25852, 7), (25853, 7), (25854, 7), (25855, 7), (25856, 7), (25857, 7), (25858, 7), (25859, 7), (25860, 7), (25861, 7), (25862, 7), (25863, 7), (25864, 7), (25865, 7), (25866, 7), (25867, 7), (25868, 7), (25869, 7), (25870, 7), (25871, 7), (25872, 7), (25873, 7), (25874, 7), (25875, 7), (25876, 7), (25877, 7), (25878, 7), (25879, 7), (25880, 7), (25881, 7), (25882, 7), (25883, 7), (25884, 7), (25885, 7), (25886, 7), (25887, 7), (25888, 7), (25889, 7), (25890, 7), (25891, 7), (25892, 7), (25893, 7), (25894, 7), (25895, 7), (25896, 7), (25897, 7), (25898, 7), (25899, 7), (25900, 7), (25901, 7), (25902, 7), (25903, 7), (25904, 7), (25905, 7), (25906, 7), (25907, 7), (25908, 7), (25909, 7), (25910, 7), (25911, 7), (25912, 7), (25913, 7), (25914, 7), (25915, 7), (25916, 7), (25917, 7), (25918, 7), (25919, 7), (25920, 7), (25921, 7), (25922, 7), (25923, 7), (25924, 7), (25925, 7), (25926, 7), (25927, 7), (25928, 7), (25929, 7), (25930, 7), (25931, 7), (25932, 7), (25933, 7), (25934, 7), (25935, 7), (25936, 7), (25937, 7), (25938, 7), (25939, 7), (25940, 7), (25941, 7), (25942, 7), (25943, 7), (25944, 7), (25945, 7), (25946, 7), (25947, 7), (25948, 7), (25949, 7), (25950, 7), (25951, 7), (25952, 7), (25953, 7), (25954, 7), (25955, 7), (25956, 7), (25957, 7), (25958, 7), (25959, 7), (25960, 7), (25961, 7), (25962, 7), (25963, 7), (25964, 7), (25965, 7), (25966, 7), (25967, 7), (25968, 7), (25969, 7), (25970, 7), (25971, 7), (25972, 7), (25973, 7), (25974, 7), (25975, 7), (25976, 7), (25977, 7), (25978, 7), (25979, 7), (25980, 7), (25981, 7), (25982, 7), (25983, 7), (25984, 7), (25985, 7), (25986, 7), (25987, 7), (25988, 7), (25989, 7), (25990, 7), (25991, 7), (25992, 7), (25993, 7), (25994, 7), (25995, 7), (25996, 7), (25997, 7), (25998, 7), (25999, 7), (26000, 7), (26001, 7), (26002, 7), (26003, 7), (26004, 7), (26005, 7), (26006, 7), (26007, 7), (26008, 7), (26009, 7), (26010, 7), (26011, 7), (26012, 7), (26013, 7), (26014, 7), (26015, 7), (26016, 7), (26017, 7), (26018, 7), (26019, 7), (26020, 7), (26021, 7), (26022, 7), (26023, 7), (26024, 7), (26025, 7), (26026, 7), (26027, 7), (26028, 7), (26029, 7), (26030, 7), (26031, 7), (26032, 7), (26033, 7), (26034, 7), (26035, 7), (26036, 7), (26037, 7), (26038, 7), (26039, 7), (26040, 7), (26041, 7), (26042, 7), (26043, 7), (26044, 7), (26045, 7), (26046, 7), (26047, 7), (26048, 7), (26049, 7), (26050, 7), (26051, 7), (26052, 7), (26053, 7), (26054, 7), (26055, 7), (26056, 7), (26057, 7), (26058, 7), (26059, 7), (26060, 7), (26061, 7), (26062, 7), (26063, 7), (26064, 7), (26065, 7), (26066, 7), (26067, 7), (26068, 7), (26069, 7), (26070, 7), (26071, 7), (26072, 7), (26073, 7), (26074, 7), (26075, 7), (26076, 7), (26077, 7), (26078, 7), (26079, 7), (26080, 7), (26081, 7), (26082, 7), (26083, 7), (26084, 7), (26085, 7), (26086, 7), (26087, 7), (26088, 7), (26089, 7), (26090, 7), (26091, 7), (26092, 7), (26093, 7), (26094, 7), (26095, 7), (26096, 7), (26097, 7), (26098, 7), (26099, 7), (26100, 7), (26101, 7), (26102, 7), (26103, 7), (26104, 7), (26105, 7), (26106, 7), (26107, 7), (26108, 7), (26109, 7), (26110, 7), (26111, 7), (26112, 7), (26113, 7), (26114, 7), (26115, 7), (26116, 7), (26117, 7), (26118, 7), (26119, 7), (26120, 7), (26121, 7), (26122, 7), (26123, 7), (26124, 7), (26125, 7), (26126, 7), (26127, 7), (26128, 7), (26129, 7), (26130, 7), (26131, 7), (26132, 7), (26133, 7), (26134, 7), (26135, 7), (26136, 7), (26137, 7), (26138, 7), (26139, 7), (26140, 7), (26141, 7), (26142, 7), (26143, 7), (26144, 7), (26145, 7), (26146, 7), (26147, 7), (26148, 7), (26149, 7), (26150, 7), (26151, 7), (26152, 7), (26153, 7), (26154, 7), (26155, 7), (26156, 7), (26157, 7), (26158, 7), (26159, 7), (26160, 7), (26161, 7), (26162, 7), (26163, 7), (26164, 7), (26165, 7), (26166, 7), (26167, 7), (26168, 7), (26169, 7), (26170, 7), (26171, 7), (26172, 7), (26173, 7), (26174, 7), (26175, 7), (26176, 7), (26177, 7), (26178, 7), (26179, 7), (26180, 7), (26181, 7), (26182, 7), (26183, 7), (26184, 7), (26185, 7), (26186, 7), (26187, 7), (26188, 7), (26189, 7), (26190, 7), (26191, 7), (26192, 7), (26193, 7), (26194, 7), (26195, 7), (26196, 7), (26197, 7), (26198, 7), (26199, 7), (26200, 7), (26201, 7), (26202, 7), (26203, 7), (26204, 7), (26205, 7), (26206, 7), (26207, 7), (26208, 7), (26209, 7), (26210, 7), (26211, 7), (26212, 7), (26213, 7), (26214, 7), (26215, 7), (26216, 7), (26217, 7), (26218, 7), (26219, 7), (26220, 7), (26221, 7), (26222, 7), (26223, 7), (26224, 7), (26225, 7), (26226, 7), (26227, 7), (26228, 7), (26229, 7), (26230, 7), (26231, 7), (26232, 7), (26233, 7), (26234, 7), (26235, 7), (26236, 7), (26237, 7), (26238, 7), (26239, 7), (26240, 7), (26241, 7), (26242, 7), (26243, 7), (26244, 7), (26245, 7), (26246, 7), (26247, 7), (26248, 7), (26249, 7), (26250, 7), (26251, 7), (26252, 7), (26253, 7), (26254, 7), (26255, 7), (26256, 7), (26257, 7), (26258, 7), (26259, 7), (26260, 7), (26261, 7), (26262, 7), (26263, 7), (26264, 7), (26265, 7), (26266, 7), (26267, 7), (26268, 7), (26269, 7), (26270, 7), (26271, 7), (26272, 7), (26273, 7), (26274, 7), (26275, 7), (26276, 7), (26277, 7), (26278, 7), (26279, 7), (26280, 7), (26281, 7), (26282, 7), (26283, 7), (26284, 7), (26285, 7), (26286, 7), (26287, 7), (26288, 7), (26289, 7), (26290, 7), (26291, 7), (26292, 7), (26293, 7), (26294, 7), (26295, 7), (26296, 7), (26297, 7), (26298, 7), (26299, 7), (26300, 7), (26301, 7), (26302, 7), (26303, 7), (26304, 7), (26305, 7), (26306, 7), (26307, 7), (26308, 7), (26309, 7), (26310, 7), (26311, 7), (26312, 7), (26313, 7), (26314, 7), (26315, 7), (26316, 7), (26317, 7), (26318, 7), (26319, 7), (26320, 7), (26321, 7), (26322, 7), (26323, 7), (26324, 7), (26325, 7), (26326, 7), (26327, 7), (26328, 7), (26329, 7), (26330, 7), (26331, 7), (26332, 7), (26333, 7), (26334, 7), (26335, 7), (26336, 7), (26337, 7), (26338, 7), (26339, 7), (26340, 7), (26341, 7), (26342, 7), (26343, 7), (26344, 7), (26345, 7), (26346, 7), (26347, 7), (26348, 7), (26349, 7), (26350, 7), (26351, 7), (26352, 7), (26353, 7), (26354, 7), (26355, 7), (26356, 7), (26357, 7), (26358, 7), (26359, 7), (26360, 7), (26361, 7), (26362, 7), (26363, 7), (26364, 7), (26365, 7), (26366, 7), (26367, 7), (26368, 7), (26369, 7), (26370, 7), (26371, 7), (26372, 7), (26373, 7), (26374, 7), (26375, 7), (26376, 7), (26377, 7), (26378, 7), (26379, 7), (26380, 7), (26381, 7), (26382, 7), (26383, 7), (26384, 7), (26385, 7), (26386, 7), (26387, 7), (26388, 7), (26389, 7), (26390, 7), (26391, 7), (26392, 7), (26393, 7), (26394, 7), (26395, 7), (26396, 7), (26397, 7), (26398, 7), (26399, 7), (26400, 7), (26401, 7), (26402, 7), (26403, 7), (26404, 7), (26405, 7), (26406, 7), (26407, 7), (26408, 7), (26409, 7), (26410, 7), (26411, 7), (26412, 7), (26413, 7), (26414, 7), (26415, 7), (26416, 7), (26417, 7), (26418, 7), (26419, 7), (26420, 7), (26421, 7), (26422, 7), (26423, 7), (26424, 7), (26425, 7), (26426, 7), (26427, 7), (26428, 7), (26429, 7), (26430, 7), (26431, 7), (26432, 7), (26433, 7), (26434, 7), (26435, 7), (26436, 7), (26437, 7), (26438, 7), (26439, 7), (26440, 7), (26441, 7), (26442, 7), (26443, 7), (26444, 7), (26445, 7), (26446, 7), (26447, 7), (26448, 7), (26449, 7), (26450, 7), (26451, 7), (26452, 7), (26453, 7), (26454, 7), (26455, 7), (26456, 7), (26457, 7), (26458, 7), (26459, 7), (26460, 7), (26461, 7), (26462, 7), (26463, 7), (26464, 7), (26465, 7), (26466, 7), (26467, 7), (26468, 7), (26469, 7), (26470, 7), (26471, 7), (26472, 7), (26473, 7), (26474, 7), (26475, 7), (26476, 7), (26477, 7), (26478, 7), (26479, 7), (26480, 7), (26481, 7), (26482, 7), (26483, 7), (26484, 7), (26485, 7), (26486, 7), (26487, 7), (26488, 7), (26489, 7), (26490, 7), (26491, 7), (26492, 7), (26493, 7), (26494, 7), (26495, 7), (26496, 7), (26497, 7), (26498, 7), (26499, 7), (26500, 7), (26501, 7), (26502, 7), (26503, 7), (26504, 7), (26505, 7), (26506, 7), (26507, 7), (26508, 7), (26509, 7), (26510, 7), (26511, 7), (26512, 7), (26513, 7), (26514, 7), (26515, 7), (26516, 7), (26517, 7), (26518, 7), (26519, 7), (26520, 7), (26521, 7), (26522, 7), (26523, 7), (26524, 7), (26525, 7), (26526, 7), (26527, 7), (26528, 7), (26529, 7), (26530, 7), (26531, 7), (26532, 7), (26533, 7), (26534, 7), (26535, 7), (26536, 7), (26537, 7), (26538, 7), (26539, 7), (26540, 7), (26541, 7), (26542, 7), (26543, 7), (26544, 7), (26545, 7), (26546, 7), (26547, 7), (26548, 7), (26549, 7), (26550, 7), (26551, 7), (26552, 7), (26553, 7), (26554, 7), (26555, 7), (26556, 7), (26557, 7), (26558, 7), (26559, 7), (26560, 7), (26561, 7), (26562, 7), (26563, 7), (26564, 7), (26565, 7), (26566, 7), (26567, 7), (26568, 7), (26569, 7), (26570, 7), (26571, 7), (26572, 7), (26573, 7), (26574, 7), (26575, 7), (26576, 7), (26577, 7), (26578, 7), (26579, 7), (26580, 7), (26581, 7), (26582, 7), (26583, 7), (26584, 7), (26585, 7), (26586, 7), (26587, 7), (26588, 7), (26589, 7), (26590, 7), (26591, 7), (26592, 7), (26593, 7), (26594, 7), (26595, 7), (26596, 7), (26597, 7), (26598, 7), (26599, 7), (26600, 7), (26601, 7), (26602, 7), (26603, 7), (26604, 7), (26605, 7), (26606, 7), (26607, 7), (26608, 7), (26609, 7), (26610, 7), (26611, 7), (26612, 7), (26613, 7), (26614, 7), (26615, 7), (26616, 7), (26617, 7), (26618, 7), (26619, 7), (26620, 7), (26621, 7), (26622, 7), (26623, 7), (26624, 7), (26625, 7), (26626, 7), (26627, 7), (26628, 7), (26629, 7), (26630, 7), (26631, 7), (26632, 7), (26633, 7), (26634, 7), (26635, 7), (26636, 7), (26637, 7), (26638, 7), (26639, 7), (26640, 7), (26641, 7), (26642, 7), (26643, 7), (26644, 7), (26645, 7), (26646, 7), (26647, 7), (26648, 7), (26649, 7), (26650, 7), (26651, 7), (26652, 7), (26653, 7), (26654, 7), (26655, 7), (26656, 7), (26657, 7), (26658, 7), (26659, 7), (26660, 7), (26661, 7), (26662, 7), (26663, 7), (26664, 7), (26665, 7), (26666, 7), (26667, 7), (26668, 7), (26669, 7), (26670, 7), (26671, 7), (26672, 7), (26673, 7), (26674, 7), (26675, 7), (26676, 7), (26677, 7), (26678, 7), (26679, 7), (26680, 7), (26681, 7), (26682, 7), (26683, 7), (26684, 7), (26685, 7), (26686, 7), (26687, 7), (26688, 7), (26689, 7), (26690, 7), (26691, 7), (26692, 7), (26693, 7), (26694, 7), (26695, 7), (26696, 7), (26697, 7), (26698, 7), (26699, 7), (26700, 7), (26701, 7), (26702, 7), (26703, 7), (26704, 7), (26705, 7), (26706, 7), (26707, 7), (26708, 7), (26709, 7), (26710, 7), (26711, 7), (26712, 7), (26713, 7), (26714, 7), (26715, 7), (26716, 7), (26717, 7), (26718, 7), (26719, 7), (26720, 7), (26721, 7), (26722, 7), (26723, 7), (26724, 7), (26725, 7), (26726, 7), (26727, 7), (26728, 7), (26729, 7), (26730, 7), (26731, 7), (26732, 7), (26733, 7), (26734, 7), (26735, 7), (26736, 7), (26737, 7), (26738, 7), (26739, 7), (26740, 7), (26741, 7), (26742, 7), (26743, 7), (26744, 7), (26745, 7), (26746, 7), (26747, 7), (26748, 7), (26749, 7), (26750, 7), (26751, 7), (26752, 7), (26753, 7), (26754, 7), (26755, 7), (26756, 7), (26757, 7), (26758, 7), (26759, 7), (26760, 7), (26761, 7), (26762, 7), (26763, 7), (26764, 7), (26765, 7), (26766, 7), (26767, 7), (26768, 7), (26769, 7), (26770, 7), (26771, 7), (26772, 7), (26773, 7), (26774, 7), (26775, 7), (26776, 7), (26777, 7), (26778, 7), (26779, 7), (26780, 7), (26781, 7), (26782, 7), (26783, 7), (26784, 7), (26785, 7), (26786, 7), (26787, 7), (26788, 7), (26789, 7), (26790, 7), (26791, 7), (26792, 7), (26793, 7), (26794, 7), (26795, 7), (26796, 7), (26797, 7), (26798, 7), (26799, 7), (26800, 7), (26801, 7), (26802, 7), (26803, 7), (26804, 7), (26805, 7), (26806, 7), (26807, 7), (26808, 7), (26809, 7), (26810, 7), (26811, 7), (26812, 7), (26813, 7), (26814, 7), (26815, 7), (26816, 7), (26817, 7), (26818, 7), (26819, 7), (26820, 7), (26821, 7), (26822, 7), (26823, 7), (26824, 7), (26825, 7), (26826, 7), (26827, 7), (26828, 7), (26829, 7), (26830, 7), (26831, 7), (26832, 7), (26833, 7), (26834, 7), (26835, 7), (26836, 7), (26837, 7), (26838, 7), (26839, 7), (26840, 7), (26841, 7), (26842, 7), (26843, 7), (26844, 7), (26845, 7), (26846, 7), (26847, 7), (26848, 7), (26849, 7), (26850, 7), (26851, 7), (26852, 7), (26853, 7), (26854, 7), (26855, 7), (26856, 7), (26857, 7), (26858, 7), (26859, 7), (26860, 7), (26861, 7), (26862, 7), (26863, 7), (26864, 7), (26865, 7), (26866, 7), (26867, 7), (26868, 7), (26869, 7), (26870, 7), (26871, 7), (26872, 7), (26873, 7), (26874, 7), (26875, 7), (26876, 7), (26877, 7), (26878, 7), (26879, 7), (26880, 7), (26881, 7), (26882, 7), (26883, 7), (26884, 7), (26885, 7), (26886, 7), (26887, 7), (26888, 7), (26889, 7), (26890, 7), (26891, 7), (26892, 7), (26893, 7), (26894, 7), (26895, 7), (26896, 7), (26897, 7), (26898, 7), (26899, 7), (26900, 7), (26901, 7), (26902, 7), (26903, 7), (26904, 7), (26905, 7), (26906, 7), (26907, 7), (26908, 7), (26909, 7), (26910, 7), (26911, 7), (26912, 7), (26913, 7), (26914, 7), (26915, 7), (26916, 7), (26917, 7), (26918, 7), (26919, 7), (26920, 7), (26921, 7), (26922, 7), (26923, 7), (26924, 7), (26925, 7), (26926, 7), (26927, 7), (26928, 7), (26929, 7), (26930, 7), (26931, 7), (26932, 7), (26933, 7), (26934, 7), (26935, 7), (26936, 7), (26937, 7), (26938, 7), (26939, 7), (26940, 7), (26941, 7), (26942, 7), (26943, 7), (26944, 7), (26945, 7), (26946, 7), (26947, 7), (26948, 7), (26949, 7), (26950, 7), (26951, 7), (26952, 7), (26953, 7), (26954, 7), (26955, 7), (26956, 7), (26957, 7), (26958, 7), (26959, 7), (26960, 7), (26961, 7), (26962, 7), (26963, 7), (26964, 7), (26965, 7), (26966, 7), (26967, 7), (26968, 7), (26969, 7), (26970, 7), (26971, 7), (26972, 7), (26973, 7), (26974, 7), (26975, 7), (26976, 7), (26977, 7), (26978, 7), (26979, 7), (26980, 7), (26981, 7), (26982, 7), (26983, 7), (26984, 7), (26985, 7), (26986, 7), (26987, 7), (26988, 7), (26989, 7), (26990, 7), (26991, 7), (26992, 7), (26993, 7), (26994, 7), (26995, 7), (26996, 7), (26997, 7), (26998, 7), (26999, 7), (27000, 7), (27001, 7), (27002, 7), (27003, 7), (27004, 7), (27005, 7), (27006, 7), (27007, 7), (27008, 7), (27009, 7), (27010, 7), (27011, 7), (27012, 7), (27013, 7), (27014, 7), (27015, 7), (27016, 7), (27017, 7), (27018, 7), (27019, 7), (27020, 7), (27021, 7), (27022, 7), (27023, 7), (27024, 7), (27025, 7), (27026, 7), (27027, 7), (27028, 7), (27029, 7), (27030, 7), (27031, 7), (27032, 7), (27033, 7), (27034, 7), (27035, 7), (27036, 7), (27037, 7), (27038, 7), (27039, 7), (27040, 7), (27041, 7), (27042, 7), (27043, 7), (27044, 7), (27045, 7), (27046, 7), (27047, 7), (27048, 7), (27049, 7), (27050, 7), (27051, 7), (27052, 7), (27053, 7), (27054, 7), (27055, 7), (27056, 7), (27057, 7), (27058, 7), (27059, 7), (27060, 7), (27061, 7), (27062, 7), (27063, 7), (27064, 7), (27065, 7), (27066, 7), (27067, 7), (27068, 7), (27069, 7), (27070, 7), (27071, 7), (27072, 7), (27073, 7), (27074, 7), (27075, 7), (27076, 7), (27077, 7), (27078, 7), (27079, 7), (27080, 7), (27081, 7), (27082, 7), (27083, 7), (27084, 7), (27085, 7), (27086, 7), (27087, 7), (27088, 7), (27089, 7), (27090, 7), (27091, 7), (27092, 7), (27093, 7), (27094, 7), (27095, 7), (27096, 7), (27097, 7), (27098, 7), (27099, 7), (27100, 7), (27101, 7), (27102, 7), (27103, 7), (27104, 7), (27105, 7), (27106, 7), (27107, 7), (27108, 7), (27109, 7), (27110, 7), (27111, 7), (27112, 7), (27113, 7), (27114, 7), (27115, 7), (27116, 7), (27117, 7), (27118, 7), (27119, 7), (27120, 7), (27121, 7), (27122, 7), (27123, 7), (27124, 7), (27125, 7), (27126, 7), (27127, 7), (27128, 7), (27129, 7), (27130, 7), (27131, 7), (27132, 7), (27133, 7), (27134, 7), (27135, 7), (27136, 7), (27137, 7), (27138, 7), (27139, 7), (27140, 7), (27141, 7), (27142, 7), (27143, 7), (27144, 7), (27145, 7), (27146, 7), (27147, 7), (27148, 7), (27149, 7), (27150, 7), (27151, 7), (27152, 7), (27153, 7), (27154, 7), (27155, 7), (27156, 7), (27157, 7), (27158, 7), (27159, 7), (27160, 7), (27161, 7), (27162, 7), (27163, 7), (27164, 7), (27165, 7), (27166, 7), (27167, 7), (27168, 7), (27169, 7), (27170, 7), (27171, 7), (27172, 7), (27173, 7), (27174, 7), (27175, 7), (27176, 7), (27177, 7), (27178, 7), (27179, 7), (27180, 7), (27181, 7), (27182, 7), (27183, 7), (27184, 7), (27185, 7), (27186, 7), (27187, 7), (27188, 7), (27189, 7), (27190, 7), (27191, 7), (27192, 7), (27193, 7), (27194, 7), (27195, 7), (27196, 7), (27197, 7), (27198, 7), (27199, 7), (27200, 7), (27201, 7), (27202, 7), (27203, 7), (27204, 7), (27205, 7), (27206, 7), (27207, 7), (27208, 7), (27209, 7), (27210, 7), (27211, 7), (27212, 7), (27213, 7), (27214, 7), (27215, 7), (27216, 7), (27217, 7), (27218, 7), (27219, 7), (27220, 7), (27221, 7), (27222, 7), (27223, 7), (27224, 7), (27225, 7), (27226, 7), (27227, 7), (27228, 7), (27229, 7), (27230, 7), (27231, 7), (27232, 7), (27233, 7), (27234, 7), (27235, 7), (27236, 7), (27237, 7), (27238, 7), (27239, 7), (27240, 7), (27241, 7), (27242, 7), (27243, 7), (27244, 7), (27245, 7), (27246, 7), (27247, 7), (27248, 7), (27249, 7), (27250, 7), (27251, 7), (27252, 7), (27253, 7), (27254, 7), (27255, 7), (27256, 7), (27257, 7), (27258, 7), (27259, 7), (27260, 7), (27261, 7), (27262, 7), (27263, 7), (27264, 7), (27265, 7), (27266, 7), (27267, 7), (27268, 7), (27269, 7), (27270, 7), (27271, 7), (27272, 7), (27273, 7), (27274, 7), (27275, 7), (27276, 7), (27277, 7), (27278, 7), (27279, 7), (27280, 7), (27281, 7), (27282, 7), (27283, 7), (27284, 7), (27285, 7), (27286, 7), (27287, 7), (27288, 7), (27289, 7), (27290, 7), (27291, 7), (27292, 7), (27293, 7), (27294, 7), (27295, 7), (27296, 7), (27297, 7), (27298, 7), (27299, 7), (27300, 7), (27301, 7), (27302, 7), (27303, 7), (27304, 7), (27305, 7), (27306, 7), (27307, 7), (27308, 7), (27309, 7), (27310, 7), (27311, 7), (27312, 7), (27313, 7), (27314, 7), (27315, 7), (27316, 7), (27317, 7), (27318, 7), (27319, 7), (27320, 7), (27321, 7), (27322, 7), (27323, 7), (27324, 7), (27325, 7), (27326, 7), (27327, 7), (27328, 7), (27329, 7), (27330, 7), (27331, 7), (27332, 7), (27333, 7), (27334, 7), (27335, 7), (27336, 7), (27337, 7), (27338, 7), (27339, 7), (27340, 7), (27341, 7), (27342, 7), (27343, 7), (27344, 7), (27345, 7), (27346, 7), (27347, 7), (27348, 7), (27349, 7), (27350, 7), (27351, 7), (27352, 7), (27353, 7), (27354, 7), (27355, 7), (27356, 7), (27357, 7), (27358, 7), (27359, 7), (27360, 7), (27361, 7), (27362, 7), (27363, 7), (27364, 7), (27365, 7), (27366, 7), (27367, 7), (27368, 7), (27369, 7), (27370, 7), (27371, 7), (27372, 7), (27373, 7), (27374, 7), (27375, 7), (27376, 7), (27377, 7), (27378, 7), (27379, 7), (27380, 7), (27381, 7), (27382, 7), (27383, 7), (27384, 7), (27385, 7), (27386, 7), (27387, 7), (27388, 7), (27389, 7), (27390, 7), (27391, 7), (27392, 7), (27393, 7), (27394, 7), (27395, 7), (27396, 7), (27397, 7), (27398, 7), (27399, 7), (27400, 7), (27401, 7), (27402, 7), (27403, 7), (27404, 7), (27405, 7), (27406, 7), (27407, 7), (27408, 7), (27409, 7), (27410, 7), (27411, 7), (27412, 7), (27413, 7), (27414, 7), (27415, 7), (27416, 7), (27417, 7), (27418, 7), (27419, 7), (27420, 7), (27421, 7), (27422, 7), (27423, 7), (27424, 7), (27425, 7), (27426, 7), (27427, 7), (27428, 7), (27429, 7), (27430, 7), (27431, 7), (27432, 7), (27433, 7), (27434, 7), (27435, 7), (27436, 7), (27437, 7), (27438, 7), (27439, 7), (27440, 7), (27441, 7), (27442, 7), (27443, 7), (27444, 7), (27445, 7), (27446, 7), (27447, 7), (27448, 7), (27449, 7), (27450, 7), (27451, 7), (27452, 7), (27453, 7), (27454, 7), (27455, 7), (27456, 7), (27457, 7), (27458, 7), (27459, 7), (27460, 7), (27461, 7), (27462, 7), (27463, 7), (27464, 7), (27465, 7), (27466, 7), (27467, 7), (27468, 7), (27469, 7), (27470, 7), (27471, 7), (27472, 7), (27473, 7), (27474, 7), (27475, 7), (27476, 7), (27477, 7), (27478, 7), (27479, 7), (27480, 7), (27481, 7), (27482, 7), (27483, 7), (27484, 7), (27485, 7), (27486, 7), (27487, 7), (27488, 7), (27489, 7), (27490, 7), (27491, 7), (27492, 7), (27493, 7), (27494, 7), (27495, 7), (27496, 7), (27497, 7), (27498, 7), (27499, 7), (27500, 7), (27501, 7), (27502, 7), (27503, 7), (27504, 7), (27505, 7), (27506, 7), (27507, 7), (27508, 7), (27509, 7), (27510, 7), (27511, 7), (27512, 7), (27513, 7), (27514, 7), (27515, 7), (27516, 7), (27517, 7), (27518, 7), (27519, 7), (27520, 7), (27521, 7), (27522, 7), (27523, 7), (27524, 7), (27525, 7), (27526, 7), (27527, 7), (27528, 7), (27529, 7), (27530, 7), (27531, 7), (27532, 7), (27533, 7), (27534, 7), (27535, 7), (27536, 7), (27537, 7), (27538, 7), (27539, 7), (27540, 7), (27541, 7), (27542, 7), (27543, 7), (27544, 7), (27545, 7), (27546, 7), (27547, 7), (27548, 7), (27549, 7), (27550, 7), (27551, 7), (27552, 7), (27553, 7), (27554, 7), (27555, 7), (27556, 7), (27557, 7), (27558, 7), (27559, 7), (27560, 7), (27561, 7), (27562, 7), (27563, 7), (27564, 7), (27565, 7), (27566, 7), (27567, 7), (27568, 7), (27569, 7), (27570, 7), (27571, 7), (27572, 7), (27573, 7), (27574, 7), (27575, 7), (27576, 7), (27577, 7), (27578, 7), (27579, 7), (27580, 7), (27581, 7), (27582, 7), (27583, 7), (27584, 7), (27585, 7), (27586, 7), (27587, 7), (27588, 7), (27589, 7), (27590, 7), (27591, 7), (27592, 7), (27593, 7), (27594, 7), (27595, 7), (27596, 7), (27597, 7), (27598, 7), (27599, 7), (27600, 7), (27601, 7), (27602, 7), (27603, 7), (27604, 7), (27605, 7), (27606, 7), (27607, 7), (27608, 7), (27609, 7), (27610, 7), (27611, 7), (27612, 7), (27613, 7), (27614, 7), (27615, 7), (27616, 7), (27617, 7), (27618, 7), (27619, 7), (27620, 7), (27621, 7), (27622, 7), (27623, 7), (27624, 7), (27625, 7), (27626, 7), (27627, 7), (27628, 7), (27629, 7), (27630, 7), (27631, 7), (27632, 7), (27633, 7), (27634, 7), (27635, 7), (27636, 7), (27637, 7), (27638, 7), (27639, 7), (27640, 7), (27641, 7), (27642, 7), (27643, 7), (27644, 7), (27645, 7), (27646, 7), (27647, 7), (27648, 7), (27649, 7), (27650, 7), (27651, 7), (27652, 7), (27653, 7), (27654, 7), (27655, 7), (27656, 7), (27657, 7), (27658, 7), (27659, 7), (27660, 7), (27661, 7), (27662, 7), (27663, 7), (27664, 7), (27665, 7), (27666, 7), (27667, 7), (27668, 7), (27669, 7), (27670, 7), (27671, 7), (27672, 7), (27673, 7), (27674, 7), (27675, 7), (27676, 7), (27677, 7), (27678, 7), (27679, 7), (27680, 2), (27681, 2), (27682, 2), (27683, 2), (27684, 2), (27685, 2), (27686, 2), (27687, 2), (27688, 2), (27689, 2), (27690, 5), (27691, 5), (27692, 5), (27693, 5), (27694, 5), (27695, 5), (27696, 5), (27697, 5), (27698, 5), (27699, 5), (27700, 5), (27701, 5), (27702, 5), (27703, 5), (27704, 5), (27705, 5), (27706, 5), (27707, 5), (27708, 5), (27709, 5), (27710, 5), (27711, 5), (27712, 5), (27713, 5), (27714, 5), (27715, 5), (27716, 5), (27717, 5), (27718, 5), (27719, 5), (27720, 5), (27721, 5), (27722, 5), (27723, 5), (27724, 5), (27725, 5), (27726, 5), (27727, 5), (27728, 5), (27729, 5), (27730, 5), (27731, 5), (27732, 5), (27733, 5), (27734, 5), (27735, 5), (27736, 5), (27737, 5), (27738, 5), (27739, 5), (27740, 5), (27741, 5), (27742, 5), (27743, 5), (27744, 5), (27745, 5), (27746, 5), (27747, 5), (27748, 5), (27749, 5), (27750, 5), (27751, 5), (27752, 5), (27753, 5), (27754, 5), (27755, 5), (27756, 5), (27757, 5), (27758, 5), (27759, 5), (27760, 5), (27761, 5), (27762, 5), (27763, 5), (27764, 5), (27765, 5), (27766, 5), (27767, 5), (27768, 5), (27769, 5), (27770, 5), (27771, 5), (27772, 5), (27773, 5), (27774, 5), (27775, 5), (27776, 5), (27777, 5), (27778, 5), (27779, 5), (27780, 5), (27781, 5), (27782, 5), (27783, 5), (27784, 5), (27785, 5), (27786, 5), (27787, 5), (27788, 5), (27789, 5), (27790, 5), (27791, 5), (27792, 5), (27793, 5), (27794, 5), (27795, 5), (27796, 5), (27797, 5), (27798, 5), (27799, 5), (27800, 5), (27801, 5), (27802, 5), (27803, 5), (27804, 5), (27805, 5), (27806, 5), (27807, 5), (27808, 5), (27809, 5), (27810, 5), (27811, 5), (27812, 5), (27813, 5), (27814, 5), (27815, 5), (27816, 5), (27817, 5), (27818, 5), (27819, 5), (27820, 5), (27821, 5), (27822, 5), (27823, 5), (27824, 5), (27825, 5), (27826, 5), (27827, 5), (27828, 5), (27829, 5), (27830, 5), (27831, 5), (27832, 5), (27833, 5), (27834, 5), (27835, 5), (27836, 5), (27837, 5), (27838, 5), (27839, 5), (27840, 5), (27841, 5), (27842, 5), (27843, 5), (27844, 5), (27845, 5), (27846, 5), (27847, 5), (27848, 5), (27849, 5), (27850, 5), (27851, 5), (27852, 5), (27853, 5), (27854, 5), (27855, 5), (27856, 5), (27857, 5), (27858, 5), (27859, 5), (27860, 5), (27861, 5), (27862, 5), (27863, 5), (27864, 5), (27865, 5), (27866, 5), (27867, 5), (27868, 5), (27869, 5), (27870, 5), (27871, 5), (27872, 5), (27873, 5), (27874, 5), (27875, 5), (27876, 5), (27877, 5), (27878, 5), (27879, 5), (27880, 5), (27881, 5), (27882, 5), (27883, 5), (27884, 5), (27885, 5), (27886, 5), (27887, 5), (27888, 5), (27889, 5), (27890, 5), (27891, 5), (27892, 5), (27893, 5), (27894, 5), (27895, 5), (27896, 5), (27897, 5), (27898, 5), (27899, 5), (27900, 5), (27901, 5), (27902, 5), (27903, 5), (27904, 5), (27905, 5), (27906, 5), (27907, 5), (27908, 5), (27909, 5), (27910, 5), (27911, 5), (27912, 5), (27913, 5), (27914, 5), (27915, 5), (27916, 5), (27917, 5), (27918, 5), (27919, 5), (27920, 5), (27921, 5), (27922, 5), (27923, 5), (27924, 5), (27925, 5), (27926, 5), (27927, 5), (27928, 5), (27929, 5), (27930, 5), (27931, 5), (27932, 5), (27933, 5), (27934, 5), (27935, 5), (27936, 5), (27937, 5), (27938, 5), (27939, 5), (27940, 5), (27941, 5), (27942, 5), (27943, 5), (27944, 5), (27945, 5), (27946, 5), (27947, 5), (27948, 5), (27949, 5), (27950, 5), (27951, 5), (27952, 5), (27953, 5), (27954, 5), (27955, 5), (27956, 5), (27957, 5), (27958, 5), (27959, 5), (27960, 5), (27961, 5), (27962, 5), (27963, 5), (27964, 5), (27965, 5), (27966, 5), (27967, 5), (27968, 5), (27969, 5), (27970, 5), (27971, 5), (27972, 0), (27973, 0), (27974, 0), (27975, 0), (27976, 0), (27977, 0), (27978, 0), (27979, 0), (27980, 0), (27981, 0), (27982, 0), (27983, 0), (27984, 0), (27985, 0), (27986, 0), (27987, 0), (27988, 0), (27989, 0), (27990, 0), (27991, 0), (27992, 0), (27993, 0), (27994, 0), (27995, 0), (27996, 0), (27997, 0), (27998, 0), (27999, 0), (28000, 0), (28001, 0), (28002, 0), (28003, 0), (28004, 0), (28005, 0), (28006, 0), (28007, 0), (28008, 0), (28009, 0), (28010, 0), (28011, 0), (28012, 0), (28013, 0), (28014, 0), (28015, 0), (28016, 0), (28017, 0), (28018, 0), (28019, 0), (28020, 0), (28021, 0), (28022, 0), (28023, 0), (28024, 0), (28025, 0), (28026, 0), (28027, 0), (28028, 0), (28029, 0), (28030, 0), (28031, 0), (28032, 0), (28033, 0), (28034, 0), (28035, 0), (28036, 0), (28037, 0), (28038, 0), (28039, 0), (28040, 0), (28041, 0), (28042, 0), (28043, 0), (28044, 0), (28045, 0), (28046, 0), (28047, 0), (28048, 0), (28049, 0), (28050, 0), (28051, 0), (28052, 0), (28053, 0), (28054, 0), (28055, 0), (28056, 0), (28057, 0), (28058, 0), (28059, 0), (28060, 0), (28061, 0), (28062, 0), (28063, 0), (28064, 0), (28065, 0), (28066, 0), (28067, 0), (28068, 0), (28069, 0), (28070, 0), (28071, 0), (28072, 0), (28073, 0), (28074, 0), (28075, 0), (28076, 0), (28077, 0), (28078, 0), (28079, 0), (28080, 0), (28081, 0), (28082, 0), (28083, 0), (28084, 0), (28085, 0), (28086, 0), (28087, 0), (28088, 0), (28089, 0), (28090, 0), (28091, 0), (28092, 0), (28093, 0), (28094, 0), (28095, 0), (28096, 0), (28097, 0), (28098, 0), (28099, 0), (28100, 0), (28101, 0), (28102, 0), (28103, 0), (28104, 0), (28105, 0), (28106, 0), (28107, 0), (28108, 0), (28109, 0), (28110, 0), (28111, 0), (28112, 0), (28113, 0), (28114, 0), (28115, 0), (28116, 0), (28117, 0), (28118, 0), (28119, 0), (28120, 0), (28121, 0), (28122, 0), (28123, 0), (28124, 0), (28125, 0), (28126, 0), (28127, 0), (28128, 0), (28129, 0), (28130, 0), (28131, 0), (28132, 0), (28133, 0), (28134, 0), (28135, 0), (28136, 0), (28137, 0), (28138, 0), (28139, 0), (28140, 0), (28141, 0), (28142, 0), (28143, 0), (28144, 0), (28145, 0), (28146, 0), (28147, 0), (28148, 0), (28149, 0), (28150, 0), (28151, 0), (28152, 0), (28153, 0), (28154, 0), (28155, 0), (28156, 0), (28157, 0), (28158, 0), (28159, 0), (28160, 0), (28161, 0), (28162, 0), (28163, 0), (28164, 0), (28165, 0), (28166, 0), (28167, 0), (28168, 0), (28169, 0), (28170, 0), (28171, 0), (28172, 0), (28173, 0), (28174, 0), (28175, 0), (28176, 0), (28177, 0), (28178, 0), (28179, 0), (28180, 0), (28181, 0), (28182, 0), (28183, 0), (28184, 0), (28185, 0), (28186, 0), (28187, 0), (28188, 0), (28189, 0), (28190, 0), (28191, 0), (28192, 0), (28193, 0), (28194, 0), (28195, 0), (28196, 0), (28197, 0), (28198, 0), (28199, 0), (28200, 0), (28201, 0), (28202, 0), (28203, 0), (28204, 0), (28205, 0), (28206, 0), (28207, 0), (28208, 0), (28209, 0), (28210, 0), (28211, 0), (28212, 0), (28213, 0), (28214, 0), (28215, 0), (28216, 0), (28217, 0), (28218, 0), (28219, 0), (28220, 0), (28221, 0), (28222, 0), (28223, 0), (28224, 0), (28225, 0), (28226, 0), (28227, 0), (28228, 0), (28229, 0), (28230, 0), (28231, 0), (28232, 0), (28233, 0), (28234, 0), (28235, 0), (28236, 0), (28237, 0), (28238, 0), (28239, 0), (28240, 0), (28241, 0), (28242, 0), (28243, 0), (28244, 0), (28245, 0), (28246, 0), (28247, 0), (28248, 0), (28249, 0), (28250, 0), (28251, 0), (28252, 0), (28253, 0), (28254, 0), (28255, 0), (28256, 0), (28257, 0), (28258, 0), (28259, 0), (28260, 0), (28261, 0), (28262, 0), (28263, 0), (28264, 0), (28265, 0), (28266, 0), (28267, 0), (28268, 0), (28269, 0), (28270, 0), (28271, 0), (28272, 0), (28273, 0), (28274, 0), (28275, 0), (28276, 0), (28277, 0), (28278, 0), (28279, 0), (28280, 0), (28281, 0), (28282, 0), (28283, 0), (28284, 0), (28285, 0), (28286, 0), (28287, 0), (28288, 0), (28289, 0), (28290, 0), (28291, 0), (28292, 0), (28293, 0), (28294, 0), (28295, 0), (28296, 0), (28297, 0), (28298, 0), (28299, 0), (28300, 0), (28301, 0), (28302, 0), (28303, 0), (28304, 0), (28305, 0), (28306, 0), (28307, 0), (28308, 0), (28309, 0), (28310, 0), (28311, 0), (28312, 0), (28313, 0), (28314, 0), (28315, 0), (28316, 0), (28317, 0), (28318, 0), (28319, 0), (28320, 0), (28321, 0), (28322, 0), (28323, 0), (28324, 0), (28325, 0), (28326, 0), (28327, 0), (28328, 0), (28329, 0), (28330, 0), (28331, 0), (28332, 0), (28333, 0), (28334, 0), (28335, 0), (28336, 0), (28337, 0), (28338, 0), (28339, 0), (28340, 0), (28341, 0), (28342, 0), (28343, 0), (28344, 0), (28345, 0), (28346, 0), (28347, 0), (28348, 0), (28349, 0), (28350, 0), (28351, 0), (28352, 0), (28353, 0), (28354, 0), (28355, 0), (28356, 0), (28357, 0), (28358, 0), (28359, 0), (28360, 0), (28361, 0), (28362, 0), (28363, 0), (28364, 0), (28365, 0), (28366, 0), (28367, 0), (28368, 0), (28369, 0), (28370, 0), (28371, 0), (28372, 0), (28373, 0), (28374, 0), (28375, 0), (28376, 0), (28377, 0), (28378, 0), (28379, 0), (28380, 0), (28381, 0), (28382, 0), (28383, 0), (28384, 0), (28385, 0), (28386, 0), (28387, 0), (28388, 0), (28389, 0), (28390, 0), (28391, 0), (28392, 0), (28393, 0), (28394, 0), (28395, 0), (28396, 0), (28397, 0), (28398, 0), (28399, 0), (28400, 0), (28401, 0), (28402, 0), (28403, 0), (28404, 0), (28405, 0), (28406, 0), (28407, 0), (28408, 0), (28409, 0), (28410, 0), (28411, 0), (28412, 0), (28413, 0), (28414, 0), (28415, 0), (28416, 0), (28417, 0), (28418, 0), (28419, 0), (28420, 0), (28421, 0), (28422, 0), (28423, 0), (28424, 0), (28425, 0), (28426, 0), (28427, 0), (28428, 0), (28429, 0), (28430, 0), (28431, 0), (28432, 0), (28433, 0), (28434, 0), (28435, 0), (28436, 0), (28437, 0), (28438, 0), (28439, 0), (28440, 0), (28441, 0), (28442, 0), (28443, 0), (28444, 0), (28445, 0), (28446, 0), (28447, 0), (28448, 0), (28449, 0), (28450, 0), (28451, 0), (28452, 0), (28453, 0), (28454, 0), (28455, 0), (28456, 0), (28457, 0), (28458, 0), (28459, 0), (28460, 0), (28461, 0), (28462, 0), (28463, 0), (28464, 0), (28465, 0), (28466, 0), (28467, 0), (28468, 0), (28469, 0), (28470, 0), (28471, 0), (28472, 0), (28473, 0), (28474, 0), (28475, 0), (28476, 0), (28477, 0), (28478, 0), (28479, 0), (28480, 0), (28481, 0), (28482, 0), (28483, 0), (28484, 0), (28485, 0), (28486, 0), (28487, 0), (28488, 0), (28489, 0), (28490, 0), (28491, 0), (28492, 0), (28493, 0), (28494, 0), (28495, 0), (28496, 0), (28497, 0), (28498, 0), (28499, 0), (28500, 0), (28501, 0), (28502, 0), (28503, 0), (28504, 0), (28505, 0), (28506, 0), (28507, 0), (28508, 0), (28509, 0), (28510, 0), (28511, 0), (28512, 0), (28513, 0), (28514, 0), (28515, 0), (28516, 0), (28517, 0), (28518, 0), (28519, 0), (28520, 0), (28521, 0), (28522, 0), (28523, 0), (28524, 0), (28525, 0), (28526, 0), (28527, 0), (28528, 0), (28529, 0), (28530, 0), (28531, 0), (28532, 0), (28533, 0), (28534, 0), (28535, 0), (28536, 0), (28537, 0), (28538, 0), (28539, 0), (28540, 0), (28541, 0), (28542, 0), (28543, 0), (28544, 0), (28545, 0), (28546, 0), (28547, 0), (28548, 0), (28549, 0), (28550, 0), (28551, 0), (28552, 0), (28553, 0), (28554, 0), (28555, 0), (28556, 0), (28557, 0), (28558, 0), (28559, 0), (28560, 0), (28561, 0), (28562, 0), (28563, 0), (28564, 0), (28565, 0), (28566, 0), (28567, 0), (28568, 0), (28569, 0), (28570, 0), (28571, 0), (28572, 0), (28573, 0), (28574, 0), (28575, 0), (28576, 0), (28577, 0), (28578, 0), (28579, 0), (28580, 0), (28581, 0), (28582, 0), (28583, 0), (28584, 0), (28585, 0), (28586, 0), (28587, 0), (28588, 0), (28589, 0), (28590, 0), (28591, 0), (28592, 0), (28593, 0), (28594, 0), (28595, 0), (28596, 0), (28597, 0), (28598, 0), (28599, 0), (28600, 0), (28601, 0), (28602, 0), (28603, 0), (28604, 0), (28605, 0), (28606, 0), (28607, 0), (28608, 0), (28609, 0), (28610, 0), (28611, 0), (28612, 0), (28613, 0), (28614, 0), (28615, 0), (28616, 0), (28617, 0), (28618, 0), (28619, 0), (28620, 0), (28621, 0), (28622, 0), (28623, 0), (28624, 0), (28625, 0), (28626, 0), (28627, 0), (28628, 0), (28629, 0), (28630, 0), (28631, 0), (28632, 0), (28633, 0), (28634, 0), (28635, 0), (28636, 0), (28637, 0), (28638, 0), (28639, 0), (28640, 0), (28641, 0), (28642, 0), (28643, 0), (28644, 0), (28645, 0), (28646, 0), (28647, 0), (28648, 0), (28649, 0), (28650, 0), (28651, 0), (28652, 0), (28653, 0), (28654, 0), (28655, 0), (28656, 0), (28657, 0), (28658, 0), (28659, 0), (28660, 0), (28661, 0), (28662, 0), (28663, 0), (28664, 0), (28665, 0), (28666, 0), (28667, 0), (28668, 0), (28669, 0), (28670, 0), (28671, 0), (28672, 0), (28673, 0), (28674, 0), (28675, 0), (28676, 0), (28677, 0), (28678, 0), (28679, 0), (28680, 0), (28681, 0), (28682, 0), (28683, 0), (28684, 0), (28685, 0), (28686, 0), (28687, 0), (28688, 0), (28689, 0), (28690, 0), (28691, 0), (28692, 0), (28693, 0), (28694, 0), (28695, 0), (28696, 0), (28697, 0), (28698, 0), (28699, 0), (28700, 0), (28701, 0), (28702, 0), (28703, 0), (28704, 0), (28705, 0), (28706, 0), (28707, 0), (28708, 0), (28709, 0), (28710, 0), (28711, 0), (28712, 0), (28713, 0), (28714, 0), (28715, 0), (28716, 0), (28717, 0), (28718, 0), (28719, 0), (28720, 0), (28721, 0), (28722, 0), (28723, 0), (28724, 0), (28725, 0), (28726, 0), (28727, 0), (28728, 0), (28729, 0), (28730, 0), (28731, 0), (28732, 0), (28733, 0), (28734, 0), (28735, 0), (28736, 0), (28737, 0), (28738, 0), (28739, 0), (28740, 0), (28741, 0), (28742, 0), (28743, 0), (28744, 0), (28745, 0), (28746, 0), (28747, 0), (28748, 0), (28749, 0), (28750, 0), (28751, 0), (28752, 0), (28753, 0), (28754, 0), (28755, 0), (28756, 0), (28757, 0), (28758, 0), (28759, 0), (28760, 0), (28761, 0), (28762, 0), (28763, 0), (28764, 0), (28765, 0), (28766, 0), (28767, 0), (28768, 0), (28769, 0), (28770, 0), (28771, 0), (28772, 0), (28773, 0), (28774, 0), (28775, 0), (28776, 0), (28777, 0), (28778, 0), (28779, 0), (28780, 0), (28781, 0), (28782, 0), (28783, 0), (28784, 0), (28785, 0), (28786, 0), (28787, 0), (28788, 0), (28789, 0), (28790, 0), (28791, 0), (28792, 0), (28793, 0), (28794, 0), (28795, 0), (28796, 0), (28797, 0), (28798, 0), (28799, 0), (28800, 0), (28801, 0), (28802, 0), (28803, 0), (28804, 0), (28805, 0), (28806, 0), (28807, 0), (28808, 0), (28809, 0), (28810, 0), (28811, 0), (28812, 0), (28813, 0), (28814, 0), (28815, 0), (28816, 0), (28817, 0), (28818, 0), (28819, 0), (28820, 0), (28821, 0), (28822, 0), (28823, 0), (28824, 0), (28825, 0), (28826, 0), (28827, 0), (28828, 0), (28829, 0), (28830, 0), (28831, 0), (28832, 0), (28833, 0), (28834, 0), (28835, 0), (28836, 0), (28837, 0), (28838, 0), (28839, 0), (28840, 0), (28841, 0), (28842, 0), (28843, 0), (28844, 0), (28845, 0), (28846, 0), (28847, 0), (28848, 0), (28849, 0), (28850, 0), (28851, 0), (28852, 0), (28853, 0), (28854, 0), (28855, 0), (28856, 0), (28857, 0), (28858, 0), (28859, 0), (28860, 0), (28861, 0), (28862, 0), (28863, 0), (28864, 0), (28865, 0), (28866, 0), (28867, 0), (28868, 0), (28869, 0), (28870, 0), (28871, 0), (28872, 0), (28873, 0), (28874, 0), (28875, 0), (28876, 0), (28877, 0), (28878, 0), (28879, 0), (28880, 0), (28881, 0), (28882, 0), (28883, 0), (28884, 0), (28885, 0), (28886, 0), (28887, 0), (28888, 0), (28889, 0), (28890, 0), (28891, 0), (28892, 0), (28893, 0), (28894, 0), (28895, 0), (28896, 0), (28897, 0), (28898, 0), (28899, 0), (28900, 0), (28901, 0), (28902, 0), (28903, 0), (28904, 0), (28905, 0), (28906, 0), (28907, 0), (28908, 0), (28909, 0), (28910, 0), (28911, 0), (28912, 0), (28913, 0), (28914, 0), (28915, 0), (28916, 0), (28917, 0), (28918, 0), (28919, 0), (28920, 0), (28921, 0), (28922, 0), (28923, 0), (28924, 0), (28925, 0), (28926, 0), (28927, 0), (28928, 0), (28929, 0), (28930, 0), (28931, 0), (28932, 0), (28933, 0), (28934, 0), (28935, 0), (28936, 0), (28937, 0), (28938, 0), (28939, 0), (28940, 0), (28941, 0), (28942, 0), (28943, 0), (28944, 0), (28945, 0), (28946, 0), (28947, 0), (28948, 0), (28949, 0), (28950, 0), (28951, 0), (28952, 0), (28953, 0), (28954, 0), (28955, 0), (28956, 0), (28957, 0), (28958, 0), (28959, 0), (28960, 0), (28961, 0), (28962, 0), (28963, 0), (28964, 0), (28965, 0), (28966, 0), (28967, 0), (28968, 0), (28969, 0), (28970, 0), (28971, 0), (28972, 0), (28973, 0), (28974, 0), (28975, 0), (28976, 0), (28977, 0), (28978, 0), (28979, 0), (28980, 0), (28981, 0), (28982, 0), (28983, 0), (28984, 0), (28985, 0), (28986, 0), (28987, 0), (28988, 0), (28989, 0), (28990, 0), (28991, 0), (28992, 0), (28993, 0), (28994, 0), (28995, 0), (28996, 0), (28997, 0), (28998, 0), (28999, 0), (29000, 0), (29001, 0), (29002, 0), (29003, 0), (29004, 0), (29005, 0), (29006, 0), (29007, 0), (29008, 0), (29009, 0), (29010, 0), (29011, 0), (29012, 0), (29013, 0), (29014, 0), (29015, 0), (29016, 0), (29017, 0), (29018, 0), (29019, 0), (29020, 0), (29021, 0), (29022, 0), (29023, 0), (29024, 0), (29025, 0), (29026, 0), (29027, 0), (29028, 0), (29029, 0), (29030, 0), (29031, 0), (29032, 0), (29033, 0), (29034, 0), (29035, 0), (29036, 0), (29037, 0), (29038, 0), (29039, 0), (29040, 0), (29041, 0), (29042, 0), (29043, 0), (29044, 0), (29045, 0), (29046, 0), (29047, 0), (29048, 0), (29049, 0), (29050, 0), (29051, 0), (29052, 0), (29053, 0), (29054, 0), (29055, 0), (29056, 0), (29057, 0), (29058, 0), (29059, 0), (29060, 0), (29061, 0), (29062, 0), (29063, 0), (29064, 0), (29065, 0), (29066, 0), (29067, 0), (29068, 0), (29069, 0), (29070, 0), (29071, 0), (29072, 0), (29073, 0), (29074, 0), (29075, 0), (29076, 0), (29077, 0), (29078, 0), (29079, 0), (29080, 0), (29081, 0), (29082, 0), (29083, 0), (29084, 0), (29085, 0), (29086, 0), (29087, 0), (29088, 0), (29089, 0), (29090, 0), (29091, 0), (29092, 0), (29093, 0), (29094, 0), (29095, 0), (29096, 0), (29097, 0), (29098, 0), (29099, 0), (29100, 0), (29101, 0), (29102, 0), (29103, 0), (29104, 0), (29105, 0), (29106, 0), (29107, 0), (29108, 0), (29109, 0), (29110, 0), (29111, 0), (29112, 0), (29113, 0), (29114, 0), (29115, 0), (29116, 0), (29117, 0), (29118, 0), (29119, 0), (29120, 0), (29121, 0), (29122, 0), (29123, 0), (29124, 0), (29125, 0), (29126, 0), (29127, 0), (29128, 0), (29129, 0), (29130, 0), (29131, 0), (29132, 0), (29133, 0), (29134, 0), (29135, 0), (29136, 0), (29137, 0), (29138, 0), (29139, 0), (29140, 0), (29141, 0), (29142, 0), (29143, 0), (29144, 0), (29145, 0), (29146, 0), (29147, 0), (29148, 0), (29149, 0), (29150, 0), (29151, 0), (29152, 0), (29153, 0), (29154, 0), (29155, 0), (29156, 0), (29157, 0), (29158, 0), (29159, 0), (29160, 0), (29161, 0), (29162, 0), (29163, 0), (29164, 0), (29165, 0), (29166, 0), (29167, 0), (29168, 0), (29169, 0), (29170, 0), (29171, 0), (29172, 0), (29173, 0), (29174, 0), (29175, 0), (29176, 0), (29177, 0), (29178, 0), (29179, 0), (29180, 0), (29181, 0), (29182, 0), (29183, 0), (29184, 0), (29185, 0), (29186, 0), (29187, 0), (29188, 0), (29189, 0), (29190, 0), (29191, 0), (29192, 0), (29193, 0), (29194, 0), (29195, 0), (29196, 0), (29197, 0), (29198, 0), (29199, 0), (29200, 0), (29201, 0), (29202, 0), (29203, 0), (29204, 0), (29205, 0), (29206, 0), (29207, 0), (29208, 0), (29209, 0), (29210, 0), (29211, 0), (29212, 0), (29213, 0), (29214, 0), (29215, 0), (29216, 0), (29217, 0), (29218, 0), (29219, 0), (29220, 0), (29221, 0), (29222, 0), (29223, 0), (29224, 0), (29225, 0), (29226, 0), (29227, 0), (29228, 0), (29229, 0), (29230, 0), (29231, 0), (29232, 0), (29233, 0), (29234, 0), (29235, 0), (29236, 0), (29237, 0), (29238, 0), (29239, 0), (29240, 0), (29241, 0), (29242, 0), (29243, 0), (29244, 0), (29245, 0), (29246, 0), (29247, 0), (29248, 0), (29249, 0), (29250, 0), (29251, 0), (29252, 0), (29253, 0), (29254, 0), (29255, 0), (29256, 0), (29257, 0), (29258, 0), (29259, 0), (29260, 0), (29261, 0), (29262, 0), (29263, 0), (29264, 0), (29265, 0), (29266, 0), (29267, 0), (29268, 0), (29269, 0), (29270, 0), (29271, 0), (29272, 0), (29273, 0), (29274, 0), (29275, 0), (29276, 0), (29277, 0), (29278, 0), (29279, 0), (29280, 0), (29281, 0), (29282, 0), (29283, 0), (29284, 0), (29285, 0), (29286, 0), (29287, 0), (29288, 0), (29289, 0), (29290, 0), (29291, 0), (29292, 0), (29293, 0), (29294, 0), (29295, 0), (29296, 0), (29297, 0), (29298, 0), (29299, 0), (29300, 0), (29301, 0), (29302, 0), (29303, 0), (29304, 0), (29305, 0), (29306, 0), (29307, 0), (29308, 0), (29309, 0), (29310, 0), (29311, 0), (29312, 0), (29313, 0), (29314, 0), (29315, 0), (29316, 0), (29317, 0), (29318, 0), (29319, 0), (29320, 0), (29321, 0), (29322, 0), (29323, 0), (29324, 0), (29325, 0), (29326, 0), (29327, 0), (29328, 0), (29329, 0), (29330, 0), (29331, 0), (29332, 0), (29333, 0), (29334, 0), (29335, 0), (29336, 0), (29337, 0), (29338, 0), (29339, 0), (29340, 0), (29341, 0), (29342, 0), (29343, 0), (29344, 0), (29345, 0), (29346, 0), (29347, 0), (29348, 0), (29349, 0), (29350, 0), (29351, 0), (29352, 0), (29353, 0), (29354, 0), (29355, 0), (29356, 0), (29357, 0), (29358, 0), (29359, 0), (29360, 0), (29361, 0), (29362, 0), (29363, 0), (29364, 0), (29365, 0), (29366, 0), (29367, 0), (29368, 0), (29369, 0), (29370, 0), (29371, 0), (29372, 0), (29373, 0), (29374, 0), (29375, 0), (29376, 0), (29377, 0), (29378, 0), (29379, 0), (29380, 0), (29381, 0), (29382, 0), (29383, 0), (29384, 0), (29385, 0), (29386, 0), (29387, 0), (29388, 0), (29389, 0), (29390, 0), (29391, 0), (29392, 0), (29393, 0), (29394, 0), (29395, 0), (29396, 0), (29397, 0), (29398, 0), (29399, 0), (29400, 0), (29401, 0), (29402, 0), (29403, 0), (29404, 0), (29405, 0), (29406, 0), (29407, 0), (29408, 0), (29409, 0), (29410, 0), (29411, 0), (29412, 0), (29413, 0), (29414, 0), (29415, 0), (29416, 0), (29417, 0), (29418, 0), (29419, 0), (29420, 0), (29421, 0), (29422, 0), (29423, 0), (29424, 0), (29425, 0), (29426, 0), (29427, 0), (29428, 0), (29429, 0), (29430, 0), (29431, 0), (29432, 0), (29433, 0), (29434, 0), (29435, 0), (29436, 0), (29437, 0), (29438, 0), (29439, 0), (29440, 0), (29441, 0), (29442, 0), (29443, 0), (29444, 0), (29445, 0), (29446, 0), (29447, 0), (29448, 0), (29449, 0), (29450, 0), (29451, 0), (29452, 0), (29453, 0), (29454, 0), (29455, 0), (29456, 0), (29457, 0), (29458, 0), (29459, 0), (29460, 0), (29461, 0), (29462, 0), (29463, 0), (29464, 0), (29465, 0), (29466, 0), (29467, 0), (29468, 0), (29469, 0), (29470, 0), (29471, 0), (29472, 0), (29473, 0), (29474, 0), (29475, 0), (29476, 0), (29477, 0), (29478, 0), (29479, 0), (29480, 0), (29481, 0), (29482, 0), (29483, 0), (29484, 0), (29485, 0), (29486, 0), (29487, 0), (29488, 0), (29489, 0), (29490, 0), (29491, 0), (29492, 0), (29493, 0), (29494, 0), (29495, 0), (29496, 0), (29497, 0), (29498, 0), (29499, 0), (29500, 0), (29501, 0), (29502, 0), (29503, 0), (29504, 0), (29505, 0), (29506, 0), (29507, 0), (29508, 0), (29509, 0), (29510, 0), (29511, 0), (29512, 0), (29513, 0), (29514, 0), (29515, 0), (29516, 0), (29517, 0), (29518, 0), (29519, 0), (29520, 0), (29521, 0), (29522, 0), (29523, 0), (29524, 0), (29525, 0), (29526, 0), (29527, 0), (29528, 0), (29529, 0), (29530, 0), (29531, 0), (29532, 0), (29533, 0), (29534, 0), (29535, 0), (29536, 0), (29537, 0), (29538, 0), (29539, 0), (29540, 0), (29541, 0), (29542, 0), (29543, 0), (29544, 0), (29545, 0), (29546, 0), (29547, 0), (29548, 0), (29549, 0), (29550, 0), (29551, 0), (29552, 0), (29553, 0), (29554, 0), (29555, 0), (29556, 0), (29557, 0), (29558, 0), (29559, 0), (29560, 0), (29561, 0), (29562, 0), (29563, 0), (29564, 0), (29565, 0), (29566, 0), (29567, 0), (29568, 0), (29569, 0), (29570, 0), (29571, 0), (29572, 0), (29573, 0), (29574, 0), (29575, 0), (29576, 0), (29577, 0), (29578, 0), (29579, 0), (29580, 0), (29581, 0), (29582, 0), (29583, 0), (29584, 0), (29585, 0), (29586, 0), (29587, 0), (29588, 0), (29589, 0), (29590, 0), (29591, 0), (29592, 0), (29593, 0), (29594, 0), (29595, 0), (29596, 0), (29597, 0), (29598, 0), (29599, 0), (29600, 0), (29601, 0), (29602, 0), (29603, 0), (29604, 0), (29605, 0), (29606, 0), (29607, 0), (29608, 0), (29609, 0), (29610, 0), (29611, 0), (29612, 0), (29613, 0), (29614, 0), (29615, 0), (29616, 0), (29617, 0), (29618, 0), (29619, 0), (29620, 0), (29621, 0), (29622, 0), (29623, 0), (29624, 0), (29625, 0), (29626, 0), (29627, 0), (29628, 0), (29629, 0), (29630, 0), (29631, 0), (29632, 0), (29633, 0), (29634, 0), (29635, 0), (29636, 0), (29637, 0), (29638, 0), (29639, 0), (29640, 0), (29641, 0), (29642, 0), (29643, 0), (29644, 0), (29645, 0), (29646, 0), (29647, 0), (29648, 0), (29649, 0), (29650, 0), (29651, 0), (29652, 0), (29653, 0), (29654, 0), (29655, 0), (29656, 0), (29657, 0), (29658, 0), (29659, 0), (29660, 0), (29661, 0), (29662, 0), (29663, 0), (29664, 0), (29665, 0), (29666, 0), (29667, 0), (29668, 0), (29669, 0), (29670, 0), (29671, 0), (29672, 0), (29673, 0), (29674, 0), (29675, 0), (29676, 0), (29677, 0), (29678, 0), (29679, 0), (29680, 0), (29681, 0), (29682, 0), (29683, 0), (29684, 0), (29685, 0), (29686, 0), (29687, 0), (29688, 0), (29689, 0), (29690, 0), (29691, 0), (29692, 0), (29693, 0), (29694, 0), (29695, 0), (29696, 0), (29697, 0), (29698, 0), (29699, 0), (29700, 0), (29701, 0), (29702, 0), (29703, 0), (29704, 0), (29705, 0), (29706, 0), (29707, 0), (29708, 0), (29709, 0), (29710, 0), (29711, 0), (29712, 0), (29713, 0), (29714, 0), (29715, 0), (29716, 0), (29717, 0), (29718, 0), (29719, 0), (29720, 0), (29721, 0), (29722, 0), (29723, 0), (29724, 0), (29725, 0), (29726, 0), (29727, 0), (29728, 0), (29729, 0), (29730, 0), (29731, 0), (29732, 0), (29733, 0), (29734, 0), (29735, 0), (29736, 0), (29737, 0), (29738, 0), (29739, 0), (29740, 0), (29741, 0), (29742, 0), (29743, 0), (29744, 0), (29745, 0), (29746, 0), (29747, 0), (29748, 0), (29749, 0), (29750, 0), (29751, 0), (29752, 0), (29753, 0), (29754, 0), (29755, 0), (29756, 0), (29757, 0), (29758, 0), (29759, 0), (29760, 0), (29761, 0), (29762, 0), (29763, 0), (29764, 0), (29765, 0), (29766, 0), (29767, 0), (29768, 0), (29769, 0), (29770, 0), (29771, 0), (29772, 0), (29773, 0), (29774, 0), (29775, 0), (29776, 0), (29777, 0), (29778, 0), (29779, 0), (29780, 0), (29781, 0), (29782, 0), (29783, 0), (29784, 0), (29785, 0), (29786, 0), (29787, 0), (29788, 0), (29789, 0), (29790, 0), (29791, 0), (29792, 0), (29793, 0), (29794, 0), (29795, 0), (29796, 0), (29797, 0), (29798, 0), (29799, 0), (29800, 0), (29801, 0), (29802, 0), (29803, 0), (29804, 0), (29805, 0), (29806, 0), (29807, 0), (29808, 0), (29809, 0), (29810, 0), (29811, 0), (29812, 0), (29813, 0), (29814, 0), (29815, 0), (29816, 0), (29817, 0), (29818, 0), (29819, 0), (29820, 0), (29821, 0), (29822, 0), (29823, 0), (29824, 0), (29825, 0), (29826, 0), (29827, 0), (29828, 0), (29829, 0), (29830, 0), (29831, 0), (29832, 0), (29833, 0), (29834, 0), (29835, 0), (29836, 0), (29837, 0), (29838, 0), (29839, 0), (29840, 0), (29841, 0), (29842, 0), (29843, 0), (29844, 0), (29845, 0), (29846, 0), (29847, 0), (29848, 0), (29849, 0), (29850, 0), (29851, 0), (29852, 0), (29853, 0), (29854, 0), (29855, 0), (29856, 0), (29857, 0), (29858, 0), (29859, 0), (29860, 0), (29861, 0), (29862, 0), (29863, 0), (29864, 0), (29865, 0), (29866, 0), (29867, 0), (29868, 0), (29869, 0), (29870, 0), (29871, 0), (29872, 0), (29873, 0), (29874, 0), (29875, 0), (29876, 0), (29877, 0), (29878, 0), (29879, 0), (29880, 0), (29881, 0), (29882, 0), (29883, 0), (29884, 0), (29885, 0), (29886, 0), (29887, 0), (29888, 0), (29889, 0), (29890, 0), (29891, 0), (29892, 0), (29893, 0), (29894, 0), (29895, 0), (29896, 0), (29897, 0), (29898, 0), (29899, 0), (29900, 0), (29901, 0), (29902, 0), (29903, 0), (29904, 0), (29905, 0), (29906, 0), (29907, 0), (29908, 0), (29909, 0), (29910, 0), (29911, 0), (29912, 0), (29913, 0), (29914, 0), (29915, 0), (29916, 0), (29917, 0), (29918, 0), (29919, 0), (29920, 0), (29921, 0), (29922, 0), (29923, 0), (29924, 0), (29925, 0), (29926, 0), (29927, 0), (29928, 0), (29929, 0), (29930, 0), (29931, 0), (29932, 0), (29933, 0), (29934, 0), (29935, 0), (29936, 0), (29937, 0), (29938, 0), (29939, 0), (29940, 0), (29941, 0), (29942, 0), (29943, 0), (29944, 0), (29945, 0), (29946, 0), (29947, 0), (29948, 0), (29949, 0), (29950, 0), (29951, 0), (29952, 0), (29953, 0), (29954, 0), (29955, 0), (29956, 0), (29957, 0), (29958, 0), (29959, 0), (29960, 0), (29961, 0), (29962, 0), (29963, 0), (29964, 0), (29965, 0), (29966, 0), (29967, 0), (29968, 0), (29969, 0), (29970, 0), (29971, 0), (29972, 0), (29973, 0), (29974, 0), (29975, 0), (29976, 0), (29977, 0), (29978, 0), (29979, 0), (29980, 0), (29981, 0), (29982, 0), (29983, 0), (29984, 0), (29985, 0), (29986, 0), (29987, 0), (29988, 0), (29989, 0), (29990, 0), (29991, 0), (29992, 0), (29993, 0), (29994, 0), (29995, 0), (29996, 0), (29997, 0), (29998, 0), (29999, 0), (30000, 0), (30001, 0), (30002, 0), (30003, 0), (30004, 0), (30005, 0), (30006, 0), (30007, 0), (30008, 0), (30009, 0), (30010, 0), (30011, 0), (30012, 0), (30013, 0), (30014, 0), (30015, 0), (30016, 0), (30017, 0), (30018, 0), (30019, 0), (30020, 0), (30021, 0), (30022, 0), (30023, 0), (30024, 0), (30025, 0), (30026, 0), (30027, 0), (30028, 0), (30029, 0), (30030, 0), (30031, 0), (30032, 0), (30033, 0), (30034, 0), (30035, 0), (30036, 0), (30037, 0), (30038, 0), (30039, 0), (30040, 0), (30041, 0), (30042, 0), (30043, 0), (30044, 0), (30045, 0), (30046, 0), (30047, 0), (30048, 0), (30049, 0), (30050, 0), (30051, 0), (30052, 0), (30053, 0), (30054, 0), (30055, 0), (30056, 0), (30057, 0), (30058, 0), (30059, 0), (30060, 0), (30061, 0), (30062, 0), (30063, 0), (30064, 0), (30065, 0), (30066, 0), (30067, 0), (30068, 0), (30069, 0), (30070, 0), (30071, 0), (30072, 0), (30073, 0), (30074, 0), (30075, 0), (30076, 0), (30077, 0), (30078, 0), (30079, 0), (30080, 0), (30081, 0), (30082, 0), (30083, 0), (30084, 0), (30085, 0), (30086, 0), (30087, 0), (30088, 0), (30089, 0), (30090, 0), (30091, 0), (30092, 0), (30093, 0), (30094, 0), (30095, 0), (30096, 0), (30097, 0), (30098, 0), (30099, 0), (30100, 0), (30101, 0), (30102, 0), (30103, 0), (30104, 0), (30105, 0), (30106, 0), (30107, 0), (30108, 0), (30109, 0), (30110, 0), (30111, 0), (30112, 0), (30113, 0), (30114, 0), (30115, 0), (30116, 0), (30117, 0), (30118, 0), (30119, 0), (30120, 0), (30121, 0), (30122, 0), (30123, 0), (30124, 0), (30125, 0), (30126, 0), (30127, 0), (30128, 0), (30129, 0), (30130, 0), (30131, 0), (30132, 0), (30133, 0), (30134, 0), (30135, 0), (30136, 0), (30137, 0), (30138, 0), (30139, 0), (30140, 0), (30141, 0), (30142, 0), (30143, 0), (30144, 0), (30145, 0), (30146, 0), (30147, 0), (30148, 0), (30149, 0), (30150, 0), (30151, 0), (30152, 0), (30153, 0), (30154, 0), (30155, 0), (30156, 0), (30157, 0), (30158, 0), (30159, 0), (30160, 0), (30161, 0), (30162, 0), (30163, 0), (30164, 0), (30165, 0), (30166, 0), (30167, 0), (30168, 0), (30169, 0), (30170, 0), (30171, 0), (30172, 0), (30173, 0), (30174, 0), (30175, 0), (30176, 0), (30177, 0), (30178, 0), (30179, 0), (30180, 0), (30181, 0), (30182, 0), (30183, 0), (30184, 0), (30185, 0), (30186, 0), (30187, 0), (30188, 0), (30189, 0), (30190, 0), (30191, 0), (30192, 0), (30193, 0), (30194, 0), (30195, 0), (30196, 0), (30197, 0), (30198, 0), (30199, 0), (30200, 0), (30201, 0), (30202, 0), (30203, 0), (30204, 0), (30205, 0), (30206, 0), (30207, 0), (30208, 0), (30209, 0), (30210, 0), (30211, 0), (30212, 0), (30213, 0), (30214, 0), (30215, 0), (30216, 0), (30217, 0), (30218, 0), (30219, 0), (30220, 0), (30221, 0), (30222, 0), (30223, 0), (30224, 0), (30225, 0), (30226, 0), (30227, 0), (30228, 0), (30229, 0), (30230, 0), (30231, 0), (30232, 0), (30233, 0), (30234, 0), (30235, 0), (30236, 0), (30237, 0), (30238, 0), (30239, 0), (30240, 0), (30241, 0), (30242, 0), (30243, 0), (30244, 0), (30245, 0), (30246, 0), (30247, 0), (30248, 0), (30249, 0), (30250, 0), (30251, 0), (30252, 0), (30253, 0), (30254, 0), (30255, 0), (30256, 0), (30257, 0), (30258, 0), (30259, 0), (30260, 0), (30261, 0), (30262, 0), (30263, 0), (30264, 0), (30265, 0), (30266, 0), (30267, 0), (30268, 0), (30269, 0), (30270, 0), (30271, 0), (30272, 0), (30273, 0), (30274, 0), (30275, 0), (30276, 0), (30277, 0), (30278, 0), (30279, 0), (30280, 0), (30281, 0), (30282, 0), (30283, 0), (30284, 0), (30285, 0), (30286, 0), (30287, 0), (30288, 0), (30289, 0), (30290, 0), (30291, 0), (30292, 0), (30293, 0), (30294, 0), (30295, 0), (30296, 0), (30297, 0), (30298, 0), (30299, 0), (30300, 0), (30301, 0), (30302, 0), (30303, 0), (30304, 0), (30305, 0), (30306, 0), (30307, 0), (30308, 0), (30309, 0), (30310, 0), (30311, 0), (30312, 0), (30313, 0), (30314, 0), (30315, 0), (30316, 0), (30317, 0), (30318, 0), (30319, 0), (30320, 0), (30321, 0), (30322, 0), (30323, 0), (30324, 0), (30325, 0), (30326, 0), (30327, 0), (30328, 0), (30329, 0), (30330, 0), (30331, 0), (30332, 0), (30333, 0), (30334, 0), (30335, 0), (30336, 0), (30337, 0), (30338, 0), (30339, 0), (30340, 0), (30341, 0), (30342, 0), (30343, 0), (30344, 0), (30345, 0), (30346, 0), (30347, 0), (30348, 0), (30349, 0), (30350, 0), (30351, 0), (30352, 0), (30353, 0), (30354, 0), (30355, 0), (30356, 0), (30357, 0), (30358, 0), (30359, 0), (30360, 0), (30361, 0), (30362, 0), (30363, 0), (30364, 0), (30365, 0), (30366, 0), (30367, 0), (30368, 0), (30369, 0), (30370, 0), (30371, 0), (30372, 0), (30373, 0), (30374, 0), (30375, 0), (30376, 0), (30377, 0), (30378, 0), (30379, 0), (30380, 0), (30381, 0), (30382, 0), (30383, 0), (30384, 0), (30385, 0), (30386, 0), (30387, 0), (30388, 0), (30389, 0), (30390, 0), (30391, 0), (30392, 0), (30393, 0), (30394, 0), (30395, 0), (30396, 0), (30397, 0), (30398, 0), (30399, 0), (30400, 0), (30401, 0), (30402, 0), (30403, 0), (30404, 0), (30405, 0), (30406, 0), (30407, 0), (30408, 0), (30409, 0), (30410, 0), (30411, 0), (30412, 0), (30413, 0), (30414, 0), (30415, 0), (30416, 0), (30417, 0), (30418, 0), (30419, 0), (30420, 0), (30421, 0), (30422, 0), (30423, 0), (30424, 0), (30425, 0), (30426, 0), (30427, 0), (30428, 0), (30429, 0), (30430, 6), (30431, 6), (30432, 6), (30433, 6), (30434, 6), (30435, 6), (30436, 6), (30437, 6), (30438, 6), (30439, 6), (30440, 6), (30441, 6), (30442, 6), (30443, 6), (30444, 6), (30445, 6), (30446, 6), (30447, 6), (30448, 6), (30449, 6), (30450, 6), (30451, 6), (30452, 6), (30453, 6), (30454, 6), (30455, 6), (30456, 6), (30457, 6), (30458, 6), (30459, 6), (30460, 6), (30461, 6), (30462, 6), (30463, 6), (30464, 6), (30465, 6), (30466, 6), (30467, 6), (30468, 6), (30469, 6), (30470, 6), (30471, 6), (30472, 6), (30473, 6), (30474, 6), (30475, 6), (30476, 6), (30477, 6), (30478, 6), (30479, 6), (30480, 6), (30481, 6), (30482, 6), (30483, 6), (30484, 6), (30485, 6), (30486, 6), (30487, 6), (30488, 6), (30489, 6), (30490, 6), (30491, 6), (30492, 6), (30493, 6), (30494, 6), (30495, 6), (30496, 6), (30497, 6), (30498, 6), (30499, 6), (30500, 6), (30501, 6), (30502, 6), (30503, 6), (30504, 6), (30505, 6), (30506, 6), (30507, 6), (30508, 6), (30509, 6), (30510, 6), (30511, 6), (30512, 6), (30513, 6), (30514, 6), (30515, 6), (30516, 6), (30517, 6), (30518, 6), (30519, 6), (30520, 6), (30521, 6), (30522, 6), (30523, 6), (30524, 6), (30525, 6), (30526, 6), (30527, 6), (30528, 6), (30529, 6), (30530, 6), (30531, 6), (30532, 6), (30533, 6), (30534, 6), (30535, 6), (30536, 6), (30537, 6), (30538, 6), (30539, 6), (30540, 6), (30541, 6), (30542, 6), (30543, 6), (30544, 6), (30545, 6), (30546, 6), (30547, 6), (30548, 6), (30549, 6), (30550, 6), (30551, 6), (30552, 6), (30553, 6), (30554, 6), (30555, 6), (30556, 6), (30557, 6), (30558, 6), (30559, 6), (30560, 6), (30561, 6), (30562, 6), (30563, 6), (30564, 6), (30565, 6), (30566, 6), (30567, 6), (30568, 6), (30569, 6), (30570, 6), (30571, 6), (30572, 6), (30573, 6), (30574, 6), (30575, 6), (30576, 6), (30577, 6), (30578, 6), (30579, 6), (30580, 6), (30581, 6), (30582, 6), (30583, 6), (30584, 6), (30585, 6), (30586, 6), (30587, 6), (30588, 6), (30589, 6), (30590, 6), (30591, 6), (30592, 6), (30593, 6), (30594, 6), (30595, 6), (30596, 6), (30597, 6), (30598, 6), (30599, 6), (30600, 6), (30601, 6), (30602, 6), (30603, 6), (30604, 6), (30605, 6), (30606, 6), (30607, 6), (30608, 6), (30609, 6), (30610, 6), (30611, 6), (30612, 6), (30613, 6), (30614, 6), (30615, 6), (30616, 6), (30617, 6), (30618, 6), (30619, 6), (30620, 6), (30621, 6), (30622, 6), (30623, 6), (30624, 6), (30625, 6), (30626, 6), (30627, 6), (30628, 6), (30629, 6), (30630, 6), (30631, 6), (30632, 6), (30633, 6), (30634, 6), (30635, 6), (30636, 6), (30637, 6), (30638, 6), (30639, 6), (30640, 6), (30641, 6), (30642, 6), (30643, 6), (30644, 6), (30645, 6), (30646, 6), (30647, 6), (30648, 6), (30649, 6), (30650, 6), (30651, 6), (30652, 6), (30653, 6), (30654, 6), (30655, 6), (30656, 6), (30657, 6), (30658, 6), (30659, 6), (30660, 6), (30661, 6), (30662, 6), (30663, 6), (30664, 6), (30665, 6), (30666, 6), (30667, 6), (30668, 6), (30669, 6), (30670, 6), (30671, 6), (30672, 6), (30673, 6), (30674, 6), (30675, 6), (30676, 6), (30677, 6), (30678, 6), (30679, 6), (30680, 6), (30681, 6), (30682, 6), (30683, 6), (30684, 6), (30685, 6), (30686, 6), (30687, 6), (30688, 6), (30689, 6), (30690, 6), (30691, 6), (30692, 6), (30693, 6), (30694, 6), (30695, 6), (30696, 6), (30697, 6), (30698, 6), (30699, 6), (30700, 6), (30701, 6), (30702, 6), (30703, 6), (30704, 6), (30705, 6), (30706, 6), (30707, 6), (30708, 6), (30709, 6), (30710, 6), (30711, 6), (30712, 6), (30713, 6), (30714, 6), (30715, 6), (30716, 6), (30717, 6), (30718, 6), (30719, 6), (30720, 6), (30721, 6), (30722, 6), (30723, 6), (30724, 6), (30725, 6), (30726, 6), (30727, 6), (30728, 6), (30729, 6), (30730, 6), (30731, 6), (30732, 6), (30733, 6), (30734, 6), (30735, 6), (30736, 6), (30737, 6), (30738, 6), (30739, 6), (30740, 6), (30741, 6), (30742, 6), (30743, 6), (30744, 6), (30745, 6), (30746, 6), (30747, 6), (30748, 6), (30749, 6), (30750, 6), (30751, 6), (30752, 6), (30753, 6), (30754, 6), (30755, 6), (30756, 6), (30757, 6), (30758, 6), (30759, 6), (30760, 6), (30761, 6), (30762, 6), (30763, 6), (30764, 6), (30765, 6), (30766, 6), (30767, 6), (30768, 6), (30769, 6), (30770, 6), (30771, 6), (30772, 6), (30773, 6), (30774, 6), (30775, 6), (30776, 6), (30777, 6), (30778, 6), (30779, 6), (30780, 6), (30781, 6), (30782, 6), (30783, 6), (30784, 6), (30785, 6), (30786, 6), (30787, 6), (30788, 6), (30789, 6), (30790, 6), (30791, 6), (30792, 6), (30793, 6), (30794, 6), (30795, 6), (30796, 6), (30797, 6), (30798, 6), (30799, 6), (30800, 6), (30801, 6), (30802, 6), (30803, 6), (30804, 6), (30805, 6), (30806, 6), (30807, 6), (30808, 6), (30809, 6), (30810, 6), (30811, 6), (30812, 6), (30813, 6), (30814, 6), (30815, 6), (30816, 6), (30817, 6), (30818, 6), (30819, 6), (30820, 6), (30821, 6), (30822, 6), (30823, 6), (30824, 6), (30825, 6), (30826, 6), (30827, 6), (30828, 6), (30829, 6), (30830, 6), (30831, 6), (30832, 6), (30833, 6), (30834, 6), (30835, 6), (30836, 6), (30837, 6), (30838, 6), (30839, 6), (30840, 6), (30841, 6), (30842, 6), (30843, 6), (30844, 6), (30845, 6), (30846, 6), (30847, 6), (30848, 6), (30849, 6), (30850, 6), (30851, 6), (30852, 6), (30853, 6), (30854, 6), (30855, 6), (30856, 6), (30857, 6), (30858, 6), (30859, 6), (30860, 6), (30861, 6), (30862, 6), (30863, 6), (30864, 6), (30865, 6), (30866, 6), (30867, 6), (30868, 6), (30869, 6), (30870, 6), (30871, 6), (30872, 6), (30873, 6), (30874, 6), (30875, 6), (30876, 6), (30877, 6), (30878, 6), (30879, 6), (30880, 6), (30881, 6), (30882, 6), (30883, 6), (30884, 6), (30885, 6), (30886, 6), (30887, 6), (30888, 6), (30889, 6), (30890, 6), (30891, 6), (30892, 6), (30893, 6), (30894, 6), (30895, 6), (30896, 6), (30897, 6), (30898, 6), (30899, 6), (30900, 6), (30901, 6), (30902, 6), (30903, 6), (30904, 6), (30905, 6), (30906, 6), (30907, 6), (30908, 6), (30909, 6), (30910, 6), (30911, 6), (30912, 6), (30913, 6), (30914, 6), (30915, 6), (30916, 6), (30917, 6), (30918, 6), (30919, 6), (30920, 6), (30921, 6), (30922, 6), (30923, 6), (30924, 6), (30925, 6), (30926, 6), (30927, 6), (30928, 6), (30929, 6), (30930, 6), (30931, 6), (30932, 6), (30933, 6), (30934, 6), (30935, 6), (30936, 6), (30937, 6), (30938, 6), (30939, 6), (30940, 6), (30941, 6), (30942, 6), (30943, 6), (30944, 6), (30945, 6), (30946, 6), (30947, 6), (30948, 6), (30949, 6), (30950, 6), (30951, 6), (30952, 6), (30953, 6), (30954, 6), (30955, 6), (30956, 6), (30957, 6), (30958, 6), (30959, 6), (30960, 6), (30961, 6), (30962, 6), (30963, 6), (30964, 6), (30965, 6), (30966, 6), (30967, 6), (30968, 6), (30969, 6), (30970, 6), (30971, 6), (30972, 6), (30973, 6), (30974, 6), (30975, 6), (30976, 6), (30977, 6), (30978, 6), (30979, 6), (30980, 6), (30981, 6), (30982, 6), (30983, 6), (30984, 6), (30985, 6), (30986, 6), (30987, 6), (30988, 6), (30989, 6), (30990, 6), (30991, 6), (30992, 6), (30993, 6), (30994, 6), (30995, 6), (30996, 6), (30997, 6), (30998, 6), (30999, 6), (31000, 6), (31001, 6), (31002, 6), (31003, 6), (31004, 6), (31005, 6), (31006, 6), (31007, 6), (31008, 6), (31009, 6), (31010, 6), (31011, 6), (31012, 6), (31013, 6), (31014, 6), (31015, 6), (31016, 6), (31017, 6), (31018, 6), (31019, 6), (31020, 6), (31021, 6), (31022, 6), (31023, 6), (31024, 6), (31025, 6), (31026, 6), (31027, 6), (31028, 6), (31029, 6), (31030, 6), (31031, 6), (31032, 6), (31033, 6), (31034, 6), (31035, 6), (31036, 6), (31037, 6), (31038, 6), (31039, 6), (31040, 6), (31041, 6), (31042, 6), (31043, 6), (31044, 6), (31045, 6), (31046, 6), (31047, 6), (31048, 6), (31049, 6), (31050, 6), (31051, 6), (31052, 6), (31053, 6), (31054, 6), (31055, 6), (31056, 6), (31057, 6), (31058, 6), (31059, 6), (31060, 6), (31061, 6), (31062, 6), (31063, 6), (31064, 6), (31065, 6), (31066, 6), (31067, 6), (31068, 6), (31069, 6), (31070, 6), (31071, 6), (31072, 6), (31073, 6), (31074, 6), (31075, 6), (31076, 6), (31077, 6), (31078, 6), (31079, 6), (31080, 6), (31081, 6), (31082, 6), (31083, 6), (31084, 6), (31085, 6), (31086, 6), (31087, 6), (31088, 6), (31089, 6), (31090, 6), (31091, 6), (31092, 6), (31093, 6), (31094, 6), (31095, 6), (31096, 6), (31097, 6), (31098, 6), (31099, 6), (31100, 6), (31101, 6), (31102, 6), (31103, 6), (31104, 6), (31105, 6), (31106, 6), (31107, 6), (31108, 6), (31109, 6), (31110, 6), (31111, 6), (31112, 6), (31113, 6), (31114, 6), (31115, 6), (31116, 6), (31117, 6), (31118, 6), (31119, 6), (31120, 6), (31121, 6), (31122, 6), (31123, 6), (31124, 6), (31125, 6), (31126, 6), (31127, 6), (31128, 6), (31129, 6), (31130, 6), (31131, 6), (31132, 6), (31133, 6), (31134, 6), (31135, 6), (31136, 6), (31137, 6), (31138, 6), (31139, 6), (31140, 6), (31141, 6), (31142, 6), (31143, 6), (31144, 6), (31145, 6), (31146, 6), (31147, 6), (31148, 6), (31149, 6), (31150, 6), (31151, 6), (31152, 6), (31153, 6), (31154, 6), (31155, 6), (31156, 6), (31157, 6), (31158, 6), (31159, 6), (31160, 6), (31161, 6), (31162, 6), (31163, 6), (31164, 6), (31165, 6), (31166, 6), (31167, 6), (31168, 6), (31169, 6), (31170, 6), (31171, 6), (31172, 6), (31173, 6), (31174, 6), (31175, 6), (31176, 6), (31177, 6), (31178, 6), (31179, 6), (31180, 6), (31181, 6), (31182, 6), (31183, 6), (31184, 6), (31185, 6), (31186, 6), (31187, 6), (31188, 6), (31189, 6), (31190, 6), (31191, 6), (31192, 6), (31193, 6), (31194, 6), (31195, 6), (31196, 6), (31197, 6), (31198, 6), (31199, 6), (31200, 6), (31201, 6), (31202, 6), (31203, 6), (31204, 6), (31205, 6), (31206, 6), (31207, 6), (31208, 6), (31209, 6), (31210, 6), (31211, 6), (31212, 6), (31213, 6), (31214, 6), (31215, 6), (31216, 6), (31217, 6), (31218, 6), (31219, 6), (31220, 6), (31221, 6), (31222, 6), (31223, 6), (31224, 6), (31225, 6), (31226, 6), (31227, 6), (31228, 6), (31229, 6), (31230, 6), (31231, 6), (31232, 6), (31233, 6), (31234, 6), (31235, 6), (31236, 6), (31237, 6), (31238, 6), (31239, 6), (31240, 6), (31241, 6), (31242, 6), (31243, 6), (31244, 6), (31245, 6), (31246, 6), (31247, 6), (31248, 6), (31249, 6), (31250, 6), (31251, 6), (31252, 6), (31253, 6), (31254, 6), (31255, 6), (31256, 6), (31257, 6), (31258, 6), (31259, 6), (31260, 6), (31261, 6), (31262, 6), (31263, 6), (31264, 6), (31265, 6), (31266, 6), (31267, 6), (31268, 6), (31269, 6), (31270, 6), (31271, 6), (31272, 6), (31273, 6), (31274, 6), (31275, 6), (31276, 6), (31277, 6), (31278, 6), (31279, 6), (31280, 6), (31281, 6), (31282, 6), (31283, 6), (31284, 6), (31285, 6), (31286, 6), (31287, 6), (31288, 6), (31289, 6), (31290, 6), (31291, 6), (31292, 6), (31293, 6), (31294, 6), (31295, 6), (31296, 6), (31297, 6), (31298, 6), (31299, 6), (31300, 6), (31301, 6), (31302, 6), (31303, 6), (31304, 6), (31305, 6), (31306, 6), (31307, 6), (31308, 6), (31309, 6), (31310, 6), (31311, 6), (31312, 6), (31313, 6), (31314, 6), (31315, 6), (31316, 6), (31317, 6), (31318, 6), (31319, 6), (31320, 6), (31321, 6), (31322, 6), (31323, 6), (31324, 6), (31325, 6), (31326, 6), (31327, 6), (31328, 6), (31329, 6), (31330, 6), (31331, 6), (31332, 6), (31333, 6), (31334, 6), (31335, 6), (31336, 6), (31337, 6), (31338, 6), (31339, 6), (31340, 6), (31341, 6), (31342, 6), (31343, 6), (31344, 6), (31345, 6), (31346, 6), (31347, 6), (31348, 6), (31349, 6), (31350, 6), (31351, 6), (31352, 6), (31353, 6), (31354, 6), (31355, 6), (31356, 6), (31357, 6), (31358, 6), (31359, 6), (31360, 6), (31361, 6), (31362, 6), (31363, 6), (31364, 6), (31365, 6), (31366, 6), (31367, 6), (31368, 6), (31369, 6), (31370, 6), (31371, 6), (31372, 6), (31373, 6), (31374, 6), (31375, 6), (31376, 6), (31377, 6), (31378, 6), (31379, 6), (31380, 6), (31381, 6), (31382, 6), (31383, 6), (31384, 6), (31385, 6), (31386, 6), (31387, 6), (31388, 6), (31389, 6), (31390, 6), (31391, 6), (31392, 6), (31393, 6), (31394, 6), (31395, 6), (31396, 6), (31397, 6), (31398, 6), (31399, 6), (31400, 6), (31401, 6), (31402, 6), (31403, 6), (31404, 6), (31405, 6), (31406, 6), (31407, 6), (31408, 6), (31409, 6), (31410, 6), (31411, 6), (31412, 6), (31413, 6), (31414, 6), (31415, 6), (31416, 6), (31417, 6), (31418, 6), (31419, 6), (31420, 6), (31421, 6), (31422, 6), (31423, 6), (31424, 6), (31425, 6), (31426, 6), (31427, 6), (31428, 6), (31429, 6), (31430, 6), (31431, 6), (31432, 6), (31433, 6), (31434, 6), (31435, 6), (31436, 6), (31437, 6), (31438, 6), (31439, 6), (31440, 6), (31441, 6), (31442, 6), (31443, 6), (31444, 6), (31445, 6), (31446, 6), (31447, 6), (31448, 6), (31449, 6), (31450, 6), (31451, 6), (31452, 6), (31453, 6), (31454, 6), (31455, 6), (31456, 6), (31457, 6), (31458, 6), (31459, 6), (31460, 6), (31461, 6), (31462, 6), (31463, 6), (31464, 6), (31465, 6), (31466, 6), (31467, 6), (31468, 6), (31469, 6), (31470, 6), (31471, 6), (31472, 6), (31473, 6), (31474, 6), (31475, 6), (31476, 6), (31477, 6), (31478, 6), (31479, 6), (31480, 6), (31481, 6), (31482, 6), (31483, 6), (31484, 6), (31485, 6), (31486, 6), (31487, 6), (31488, 6), (31489, 6), (31490, 6), (31491, 6), (31492, 6), (31493, 6), (31494, 6), (31495, 6), (31496, 6), (31497, 6), (31498, 6), (31499, 6), (31500, 6), (31501, 6), (31502, 6), (31503, 6), (31504, 6), (31505, 6), (31506, 6), (31507, 6), (31508, 6), (31509, 6), (31510, 6), (31511, 6), (31512, 6), (31513, 6), (31514, 6), (31515, 6), (31516, 6), (31517, 6), (31518, 6), (31519, 6), (31520, 6), (31521, 6), (31522, 6), (31523, 6), (31524, 6), (31525, 6), (31526, 6), (31527, 6), (31528, 6), (31529, 6), (31530, 6), (31531, 6), (31532, 6), (31533, 6), (31534, 6), (31535, 6), (31536, 6), (31537, 6), (31538, 6), (31539, 6), (31540, 6), (31541, 6), (31542, 6), (31543, 6), (31544, 6), (31545, 6), (31546, 6), (31547, 6), (31548, 6), (31549, 6), (31550, 6), (31551, 6), (31552, 6), (31553, 6), (31554, 6), (31555, 6), (31556, 6), (31557, 6), (31558, 6), (31559, 6), (31560, 6), (31561, 6), (31562, 6), (31563, 6), (31564, 6), (31565, 6), (31566, 6), (31567, 6), (31568, 6), (31569, 6), (31570, 6), (31571, 6), (31572, 6), (31573, 6), (31574, 6), (31575, 6), (31576, 6), (31577, 6), (31578, 6), (31579, 6), (31580, 6), (31581, 6), (31582, 6), (31583, 6), (31584, 6), (31585, 6), (31586, 6), (31587, 6), (31588, 6), (31589, 6), (31590, 6), (31591, 6), (31592, 6), (31593, 6), (31594, 6), (31595, 6), (31596, 6), (31597, 6), (31598, 6), (31599, 6), (31600, 6), (31601, 6), (31602, 6), (31603, 6), (31604, 6), (31605, 6), (31606, 6), (31607, 6), (31608, 6), (31609, 6), (31610, 6), (31611, 6), (31612, 6), (31613, 6), (31614, 6), (31615, 6), (31616, 6), (31617, 6), (31618, 6), (31619, 6), (31620, 6), (31621, 6), (31622, 6), (31623, 6), (31624, 6), (31625, 6), (31626, 6), (31627, 6), (31628, 6), (31629, 6), (31630, 6), (31631, 6), (31632, 6), (31633, 6), (31634, 6), (31635, 6), (31636, 6), (31637, 6), (31638, 6), (31639, 6), (31640, 6), (31641, 6), (31642, 6), (31643, 6), (31644, 6), (31645, 6), (31646, 6), (31647, 6), (31648, 6), (31649, 6), (31650, 6), (31651, 6), (31652, 6), (31653, 6), (31654, 6), (31655, 6), (31656, 6), (31657, 6), (31658, 6), (31659, 6), (31660, 6), (31661, 6), (31662, 6), (31663, 6), (31664, 6), (31665, 6), (31666, 6), (31667, 6), (31668, 6), (31669, 6), (31670, 6), (31671, 6), (31672, 6), (31673, 6), (31674, 6), (31675, 6), (31676, 6), (31677, 6), (31678, 6), (31679, 6), (31680, 6), (31681, 6), (31682, 6), (31683, 6), (31684, 6), (31685, 6), (31686, 6), (31687, 6), (31688, 6), (31689, 6), (31690, 6), (31691, 6), (31692, 6), (31693, 6), (31694, 6), (31695, 6), (31696, 6), (31697, 6), (31698, 6), (31699, 6), (31700, 6), (31701, 6), (31702, 6), (31703, 6), (31704, 6), (31705, 6), (31706, 6), (31707, 6), (31708, 6), (31709, 6), (31710, 6), (31711, 6), (31712, 6), (31713, 6), (31714, 6), (31715, 6), (31716, 6), (31717, 6), (31718, 6), (31719, 6), (31720, 6), (31721, 6), (31722, 6), (31723, 6), (31724, 6), (31725, 6), (31726, 6), (31727, 6), (31728, 6), (31729, 6), (31730, 6), (31731, 6), (31732, 6), (31733, 6), (31734, 6), (31735, 6), (31736, 6), (31737, 6), (31738, 6), (31739, 6), (31740, 6), (31741, 6), (31742, 6), (31743, 6), (31744, 6), (31745, 6), (31746, 6), (31747, 6), (31748, 6), (31749, 6), (31750, 6), (31751, 6), (31752, 6), (31753, 6), (31754, 6), (31755, 6), (31756, 6), (31757, 6), (31758, 6), (31759, 6), (31760, 6), (31761, 6), (31762, 6), (31763, 6), (31764, 6), (31765, 6), (31766, 6), (31767, 6), (31768, 6), (31769, 6), (31770, 6), (31771, 6), (31772, 6), (31773, 6), (31774, 6), (31775, 6), (31776, 6), (31777, 6), (31778, 6), (31779, 6), (31780, 6), (31781, 6), (31782, 6), (31783, 6), (31784, 6), (31785, 6), (31786, 6), (31787, 6), (31788, 6), (31789, 6), (31790, 6), (31791, 6), (31792, 6), (31793, 6), (31794, 6), (31795, 6), (31796, 6), (31797, 6), (31798, 6), (31799, 6), (31800, 6), (31801, 6), (31802, 6), (31803, 6), (31804, 6), (31805, 6), (31806, 6), (31807, 6), (31808, 6), (31809, 6), (31810, 6), (31811, 6), (31812, 6), (31813, 6), (31814, 6), (31815, 6), (31816, 6), (31817, 6), (31818, 6), (31819, 6), (31820, 6), (31821, 6), (31822, 6), (31823, 6), (31824, 6), (31825, 6), (31826, 6), (31827, 6), (31828, 6), (31829, 6), (31830, 6), (31831, 6), (31832, 6), (31833, 6), (31834, 6), (31835, 6), (31836, 6), (31837, 6), (31838, 6), (31839, 6), (31840, 6), (31841, 6), (31842, 6), (31843, 6), (31844, 6), (31845, 6), (31846, 6), (31847, 6), (31848, 6), (31849, 6), (31850, 6), (31851, 6), (31852, 6), (31853, 6), (31854, 6), (31855, 6), (31856, 6), (31857, 6), (31858, 6), (31859, 6), (31860, 6), (31861, 6), (31862, 6), (31863, 6), (31864, 6), (31865, 6), (31866, 6), (31867, 6), (31868, 6), (31869, 6), (31870, 6), (31871, 6), (31872, 6), (31873, 6), (31874, 6), (31875, 6), (31876, 6), (31877, 6), (31878, 6), (31879, 6), (31880, 6), (31881, 6), (31882, 6), (31883, 6), (31884, 6), (31885, 6), (31886, 6), (31887, 6), (31888, 6), (31889, 6), (31890, 6), (31891, 6), (31892, 6), (31893, 6), (31894, 6), (31895, 6), (31896, 6), (31897, 6), (31898, 6), (31899, 6), (31900, 6), (31901, 6), (31902, 6), (31903, 6), (31904, 6), (31905, 6), (31906, 6), (31907, 6), (31908, 6), (31909, 6), (31910, 6), (31911, 6), (31912, 6), (31913, 6), (31914, 6), (31915, 6), (31916, 6), (31917, 6), (31918, 6), (31919, 6), (31920, 6), (31921, 6), (31922, 6), (31923, 6), (31924, 6), (31925, 6), (31926, 6), (31927, 6), (31928, 6), (31929, 6), (31930, 6), (31931, 6), (31932, 6), (31933, 6), (31934, 6), (31935, 6), (31936, 6), (31937, 6), (31938, 6), (31939, 6), (31940, 6), (31941, 6), (31942, 6), (31943, 6), (31944, 6), (31945, 6), (31946, 6), (31947, 6), (31948, 6), (31949, 6), (31950, 6), (31951, 6), (31952, 6), (31953, 6), (31954, 6), (31955, 6), (31956, 6), (31957, 6), (31958, 6), (31959, 6), (31960, 6), (31961, 6), (31962, 6), (31963, 6), (31964, 6), (31965, 6), (31966, 6), (31967, 6), (31968, 6), (31969, 6), (31970, 6), (31971, 6), (31972, 6), (31973, 6), (31974, 6), (31975, 6), (31976, 6), (31977, 6), (31978, 6), (31979, 6), (31980, 6), (31981, 6), (31982, 6), (31983, 6), (31984, 6), (31985, 6), (31986, 6), (31987, 6), (31988, 6), (31989, 6), (31990, 6), (31991, 6), (31992, 6), (31993, 6), (31994, 6), (31995, 6), (31996, 6), (31997, 6), (31998, 6), (31999, 6), (32000, 6), (32001, 6), (32002, 6), (32003, 6), (32004, 6), (32005, 6), (32006, 6), (32007, 6), (32008, 6), (32009, 6), (32010, 6), (32011, 6), (32012, 6), (32013, 6), (32014, 6), (32015, 6), (32016, 6), (32017, 6), (32018, 6), (32019, 6), (32020, 6), (32021, 6), (32022, 6), (32023, 6), (32024, 6), (32025, 6), (32026, 6), (32027, 6), (32028, 6), (32029, 6), (32030, 6), (32031, 6), (32032, 6), (32033, 6), (32034, 6), (32035, 6), (32036, 6), (32037, 6), (32038, 6), (32039, 6), (32040, 6), (32041, 6), (32042, 6), (32043, 6), (32044, 6), (32045, 6), (32046, 6), (32047, 6), (32048, 6), (32049, 6), (32050, 6), (32051, 6), (32052, 6), (32053, 6), (32054, 6), (32055, 6), (32056, 6), (32057, 6), (32058, 6), (32059, 6), (32060, 6), (32061, 6), (32062, 6), (32063, 6), (32064, 6), (32065, 6), (32066, 6), (32067, 6), (32068, 6), (32069, 6), (32070, 6), (32071, 6), (32072, 6), (32073, 6), (32074, 6), (32075, 6), (32076, 6), (32077, 6), (32078, 6), (32079, 6), (32080, 6), (32081, 6), (32082, 6), (32083, 6), (32084, 6), (32085, 6), (32086, 6), (32087, 6), (32088, 6), (32089, 6), (32090, 6), (32091, 6), (32092, 6), (32093, 6), (32094, 6), (32095, 6), (32096, 6), (32097, 6), (32098, 6), (32099, 6), (32100, 6), (32101, 6), (32102, 6), (32103, 6), (32104, 6), (32105, 6), (32106, 6), (32107, 6), (32108, 6), (32109, 6), (32110, 6), (32111, 6), (32112, 6), (32113, 6), (32114, 6), (32115, 6), (32116, 6), (32117, 6), (32118, 6), (32119, 6), (32120, 6), (32121, 6), (32122, 6), (32123, 6), (32124, 6), (32125, 6), (32126, 6), (32127, 6), (32128, 6), (32129, 6), (32130, 6), (32131, 6), (32132, 6), (32133, 6), (32134, 6), (32135, 6), (32136, 6), (32137, 6), (32138, 6), (32139, 6), (32140, 6), (32141, 6), (32142, 6), (32143, 6), (32144, 6), (32145, 6), (32146, 6), (32147, 6), (32148, 6), (32149, 6), (32150, 6), (32151, 6), (32152, 6), (32153, 6), (32154, 6), (32155, 6), (32156, 6), (32157, 6), (32158, 6), (32159, 6), (32160, 6), (32161, 6), (32162, 6), (32163, 6), (32164, 6), (32165, 6), (32166, 6), (32167, 6), (32168, 6), (32169, 6), (32170, 6), (32171, 6), (32172, 6), (32173, 6), (32174, 6), (32175, 6), (32176, 6), (32177, 6), (32178, 6), (32179, 6), (32180, 6), (32181, 6), (32182, 6), (32183, 6), (32184, 6), (32185, 6), (32186, 6), (32187, 6), (32188, 6), (32189, 6), (32190, 6), (32191, 6), (32192, 6), (32193, 6), (32194, 6), (32195, 6), (32196, 6), (32197, 6), (32198, 6), (32199, 6), (32200, 6), (32201, 6), (32202, 6), (32203, 6), (32204, 6), (32205, 6), (32206, 6), (32207, 6), (32208, 6), (32209, 6), (32210, 6), (32211, 6), (32212, 6), (32213, 6), (32214, 6), (32215, 6), (32216, 6), (32217, 6), (32218, 6), (32219, 6), (32220, 6), (32221, 6), (32222, 6), (32223, 6), (32224, 6), (32225, 6), (32226, 6), (32227, 6), (32228, 6), (32229, 6), (32230, 6), (32231, 6), (32232, 6), (32233, 6), (32234, 6), (32235, 6), (32236, 6), (32237, 6), (32238, 6), (32239, 6), (32240, 6), (32241, 6), (32242, 6), (32243, 6), (32244, 6), (32245, 6), (32246, 6), (32247, 6), (32248, 6), (32249, 6), (32250, 6), (32251, 6), (32252, 6), (32253, 6), (32254, 6), (32255, 6), (32256, 6), (32257, 6), (32258, 6), (32259, 6), (32260, 6), (32261, 6), (32262, 6), (32263, 6), (32264, 6), (32265, 6), (32266, 6), (32267, 6), (32268, 6), (32269, 6), (32270, 6), (32271, 6), (32272, 6), (32273, 6), (32274, 6), (32275, 6), (32276, 6), (32277, 6), (32278, 6), (32279, 6), (32280, 6), (32281, 6), (32282, 6), (32283, 6), (32284, 6), (32285, 6), (32286, 6), (32287, 6), (32288, 6), (32289, 6), (32290, 6), (32291, 6), (32292, 6), (32293, 6), (32294, 6), (32295, 6), (32296, 6), (32297, 6), (32298, 6), (32299, 6), (32300, 6), (32301, 6), (32302, 6), (32303, 6), (32304, 6), (32305, 6), (32306, 6), (32307, 6), (32308, 6), (32309, 6), (32310, 6), (32311, 6), (32312, 6), (32313, 6), (32314, 6), (32315, 6), (32316, 6), (32317, 6), (32318, 6), (32319, 6), (32320, 6), (32321, 6), (32322, 6), (32323, 6), (32324, 6), (32325, 6), (32326, 6), (32327, 6), (32328, 6), (32329, 6), (32330, 6), (32331, 6), (32332, 6), (32333, 6), (32334, 6), (32335, 6), (32336, 6), (32337, 6), (32338, 6), (32339, 6), (32340, 6), (32341, 6), (32342, 6), (32343, 6), (32344, 6), (32345, 6), (32346, 6), (32347, 6), (32348, 6), (32349, 6), (32350, 6), (32351, 6), (32352, 6), (32353, 6), (32354, 6), (32355, 6), (32356, 6), (32357, 6), (32358, 6), (32359, 6), (32360, 6), (32361, 6), (32362, 6), (32363, 6), (32364, 6), (32365, 6), (32366, 6), (32367, 6), (32368, 6), (32369, 6), (32370, 6), (32371, 6), (32372, 6), (32373, 6), (32374, 6), (32375, 6), (32376, 6), (32377, 6), (32378, 6), (32379, 6), (32380, 6), (32381, 6), (32382, 6), (32383, 6), (32384, 6), (32385, 6), (32386, 6), (32387, 6), (32388, 6), (32389, 6), (32390, 6), (32391, 6), (32392, 6), (32393, 6), (32394, 6), (32395, 6), (32396, 6), (32397, 6), (32398, 6), (32399, 6), (32400, 6), (32401, 6), (32402, 6), (32403, 6), (32404, 6), (32405, 6), (32406, 6), (32407, 6), (32408, 6), (32409, 6), (32410, 6), (32411, 6), (32412, 6), (32413, 6), (32414, 6), (32415, 6), (32416, 6), (32417, 6), (32418, 6), (32419, 6), (32420, 6), (32421, 6), (32422, 6), (32423, 6), (32424, 6), (32425, 6), (32426, 6), (32427, 6), (32428, 6), (32429, 6), (32430, 6), (32431, 6), (32432, 6), (32433, 6), (32434, 6), (32435, 6), (32436, 6), (32437, 6), (32438, 6), (32439, 6), (32440, 6), (32441, 6), (32442, 6), (32443, 6), (32444, 6), (32445, 6), (32446, 6), (32447, 6), (32448, 6), (32449, 6), (32450, 6), (32451, 6), (32452, 6), (32453, 6), (32454, 6), (32455, 6), (32456, 6), (32457, 6), (32458, 6), (32459, 6), (32460, 6), (32461, 6), (32462, 6), (32463, 6), (32464, 6), (32465, 6), (32466, 6), (32467, 6), (32468, 6), (32469, 6), (32470, 6), (32471, 6), (32472, 6), (32473, 6), (32474, 6), (32475, 6), (32476, 6), (32477, 6), (32478, 6), (32479, 6), (32480, 6), (32481, 6), (32482, 6), (32483, 6), (32484, 6), (32485, 6), (32486, 6), (32487, 6), (32488, 6), (32489, 6), (32490, 6), (32491, 6), (32492, 6), (32493, 6), (32494, 6), (32495, 6), (32496, 6), (32497, 6), (32498, 6), (32499, 6), (32500, 6), (32501, 6), (32502, 6), (32503, 6), (32504, 6), (32505, 6), (32506, 6), (32507, 6), (32508, 6), (32509, 6), (32510, 6), (32511, 6), (32512, 6), (32513, 6), (32514, 6), (32515, 6), (32516, 6), (32517, 6), (32518, 6), (32519, 6), (32520, 6), (32521, 6), (32522, 6), (32523, 6), (32524, 6), (32525, 6), (32526, 6), (32527, 6), (32528, 6), (32529, 6), (32530, 6), (32531, 6), (32532, 6), (32533, 6), (32534, 6), (32535, 6), (32536, 6), (32537, 6), (32538, 6), (32539, 6), (32540, 6), (32541, 6), (32542, 6), (32543, 6), (32544, 6), (32545, 6), (32546, 6), (32547, 6), (32548, 6), (32549, 6), (32550, 6), (32551, 6), (32552, 6), (32553, 6), (32554, 6), (32555, 6), (32556, 6), (32557, 6), (32558, 6), (32559, 6), (32560, 6), (32561, 6), (32562, 6), (32563, 6), (32564, 6), (32565, 6), (32566, 6), (32567, 6), (32568, 6), (32569, 6), (32570, 6), (32571, 6), (32572, 6), (32573, 6), (32574, 6), (32575, 6), (32576, 6), (32577, 6), (32578, 6), (32579, 6), (32580, 6), (32581, 6), (32582, 6), (32583, 6), (32584, 6), (32585, 6), (32586, 6), (32587, 6), (32588, 6), (32589, 6), (32590, 6), (32591, 6), (32592, 6), (32593, 6), (32594, 6), (32595, 6), (32596, 6), (32597, 6), (32598, 6), (32599, 6), (32600, 6), (32601, 6), (32602, 6), (32603, 6), (32604, 6), (32605, 6), (32606, 6), (32607, 6), (32608, 6), (32609, 6), (32610, 6), (32611, 6), (32612, 6), (32613, 6), (32614, 6), (32615, 6), (32616, 6), (32617, 6), (32618, 6), (32619, 6), (32620, 6), (32621, 6), (32622, 6), (32623, 6), (32624, 6), (32625, 6), (32626, 6), (32627, 6), (32628, 6), (32629, 6), (32630, 6), (32631, 6), (32632, 6), (32633, 6), (32634, 6), (32635, 6), (32636, 6), (32637, 6), (32638, 6), (32639, 6), (32640, 6), (32641, 6), (32642, 6), (32643, 6), (32644, 6), (32645, 6), (32646, 6), (32647, 6), (32648, 6), (32649, 6), (32650, 6), (32651, 6), (32652, 6), (32653, 6), (32654, 6), (32655, 6), (32656, 6), (32657, 6), (32658, 6), (32659, 6), (32660, 6), (32661, 6), (32662, 6), (32663, 6), (32664, 6), (32665, 6), (32666, 6), (32667, 6), (32668, 6), (32669, 6), (32670, 6), (32671, 6), (32672, 6), (32673, 6), (32674, 6), (32675, 6), (32676, 6), (32677, 6), (32678, 6), (32679, 6), (32680, 6), (32681, 6), (32682, 6), (32683, 6), (32684, 6), (32685, 6), (32686, 6), (32687, 6), (32688, 6), (32689, 6), (32690, 6), (32691, 6), (32692, 6), (32693, 6), (32694, 6), (32695, 6), (32696, 6), (32697, 6), (32698, 6), (32699, 6), (32700, 6), (32701, 6), (32702, 6), (32703, 6), (32704, 6), (32705, 6), (32706, 6), (32707, 6), (32708, 6), (32709, 6), (32710, 6), (32711, 6), (32712, 6), (32713, 6), (32714, 6), (32715, 6), (32716, 6), (32717, 6), (32718, 6), (32719, 6), (32720, 6), (32721, 6), (32722, 6), (32723, 6), (32724, 6), (32725, 6), (32726, 6), (32727, 6), (32728, 6), (32729, 6), (32730, 6), (32731, 6), (32732, 6), (32733, 6), (32734, 6), (32735, 6), (32736, 6), (32737, 6), (32738, 6), (32739, 6), (32740, 6), (32741, 6), (32742, 6), (32743, 6), (32744, 6), (32745, 6), (32746, 6), (32747, 6), (32748, 6), (32749, 6), (32750, 6), (32751, 6), (32752, 6), (32753, 6), (32754, 6), (32755, 6), (32756, 6), (32757, 6), (32758, 6), (32759, 6), (32760, 6), (32761, 6), (32762, 6), (32763, 6), (32764, 6), (32765, 6), (32766, 6), (32767, 6), (32768, 6), (32769, 6), (32770, 6), (32771, 6), (32772, 6), (32773, 6), (32774, 6), (32775, 6), (32776, 6), (32777, 6), (32778, 6), (32779, 6), (32780, 6), (32781, 6), (32782, 6), (32783, 6), (32784, 6), (32785, 6), (32786, 6), (32787, 6), (32788, 6), (32789, 6), (32790, 6), (32791, 6), (32792, 6), (32793, 6), (32794, 6), (32795, 6), (32796, 6), (32797, 6), (32798, 6), (32799, 6), (32800, 6), (32801, 6), (32802, 6), (32803, 6), (32804, 6), (32805, 6), (32806, 6), (32807, 6), (32808, 6), (32809, 6), (32810, 6), (32811, 6), (32812, 6), (32813, 6), (32814, 6), (32815, 6), (32816, 6), (32817, 6), (32818, 6), (32819, 6), (32820, 6), (32821, 6), (32822, 6), (32823, 6), (32824, 6), (32825, 6), (32826, 6), (32827, 6), (32828, 6), (32829, 6), (32830, 6), (32831, 6), (32832, 6), (32833, 6), (32834, 6), (32835, 6), (32836, 6), (32837, 6), (32838, 6), (32839, 6), (32840, 6), (32841, 6), (32842, 6), (32843, 6), (32844, 6), (32845, 6), (32846, 6), (32847, 6), (32848, 6), (32849, 6), (32850, 6), (32851, 6), (32852, 6), (32853, 6), (32854, 6), (32855, 6), (32856, 6), (32857, 6), (32858, 6), (32859, 6), (32860, 6), (32861, 6), (32862, 6), (32863, 6), (32864, 6), (32865, 6), (32866, 6), (32867, 6), (32868, 6), (32869, 6), (32870, 6), (32871, 6), (32872, 6), (32873, 6), (32874, 6), (32875, 6), (32876, 6), (32877, 6), (32878, 6), (32879, 6), (32880, 6), (32881, 6), (32882, 6), (32883, 6), (32884, 6), (32885, 6), (32886, 6), (32887, 6), (32888, 6), (32889, 6), (32890, 6), (32891, 6), (32892, 6), (32893, 6), (32894, 6), (32895, 6), (32896, 6), (32897, 6), (32898, 6), (32899, 6), (32900, 6), (32901, 6), (32902, 6), (32903, 6), (32904, 6), (32905, 6), (32906, 6), (32907, 6), (32908, 6), (32909, 6), (32910, 6), (32911, 6), (32912, 6), (32913, 6), (32914, 6), (32915, 6), (32916, 6), (32917, 6), (32918, 6), (32919, 6), (32920, 6), (32921, 6), (32922, 6), (32923, 6), (32924, 6), (32925, 6), (32926, 6), (32927, 6), (32928, 6), (32929, 6), (32930, 6), (32931, 6), (32932, 6), (32933, 6), (32934, 6), (32935, 6), (32936, 6), (32937, 6), (32938, 6), (32939, 6), (32940, 6), (32941, 6), (32942, 6), (32943, 6), (32944, 6), (32945, 6), (32946, 6), (32947, 6), (32948, 6), (32949, 6), (32950, 6), (32951, 6), (32952, 6), (32953, 6), (32954, 6), (32955, 6), (32956, 6), (32957, 6), (32958, 6), (32959, 6), (32960, 6), (32961, 6), (32962, 6), (32963, 6), (32964, 6), (32965, 6), (32966, 6), (32967, 6), (32968, 6), (32969, 6), (32970, 6), (32971, 6), (32972, 6), (32973, 6), (32974, 6), (32975, 6), (32976, 6), (32977, 6), (32978, 6), (32979, 6), (32980, 6), (32981, 6), (32982, 6), (32983, 6), (32984, 6), (32985, 6), (32986, 6), (32987, 6), (32988, 6), (32989, 6), (32990, 6), (32991, 6), (32992, 6), (32993, 6), (32994, 6), (32995, 6), (32996, 6), (32997, 6), (32998, 6), (32999, 6), (33000, 6), (33001, 6), (33002, 6), (33003, 6), (33004, 6), (33005, 6), (33006, 6), (33007, 6), (33008, 6), (33009, 6), (33010, 6), (33011, 6), (33012, 6), (33013, 6), (33014, 6), (33015, 6), (33016, 6), (33017, 6), (33018, 6), (33019, 6), (33020, 6), (33021, 6), (33022, 6), (33023, 6), (33024, 6), (33025, 6), (33026, 6), (33027, 6), (33028, 6), (33029, 6), (33030, 6), (33031, 6), (33032, 6), (33033, 6), (33034, 6), (33035, 6), (33036, 6), (33037, 6), (33038, 6), (33039, 6), (33040, 6), (33041, 6), (33042, 6), (33043, 6), (33044, 6), (33045, 6), (33046, 6), (33047, 6), (33048, 6), (33049, 6), (33050, 6), (33051, 6), (33052, 6), (33053, 6), (33054, 6), (33055, 6), (33056, 6), (33057, 6), (33058, 6), (33059, 6), (33060, 6), (33061, 6), (33062, 6), (33063, 6), (33064, 6), (33065, 6), (33066, 6), (33067, 6), (33068, 6), (33069, 6), (33070, 6), (33071, 6), (33072, 6), (33073, 6), (33074, 6), (33075, 6), (33076, 6), (33077, 6), (33078, 6), (33079, 6), (33080, 6), (33081, 6), (33082, 6), (33083, 6), (33084, 6), (33085, 6), (33086, 6), (33087, 6), (33088, 6), (33089, 6), (33090, 6), (33091, 6), (33092, 6), (33093, 6), (33094, 6), (33095, 6), (33096, 6), (33097, 6), (33098, 6), (33099, 6), (33100, 6), (33101, 6), (33102, 6), (33103, 6), (33104, 6), (33105, 6), (33106, 6), (33107, 6), (33108, 6), (33109, 6), (33110, 6), (33111, 6), (33112, 6), (33113, 6), (33114, 6), (33115, 6), (33116, 6), (33117, 6), (33118, 6), (33119, 6), (33120, 6), (33121, 6), (33122, 6), (33123, 6), (33124, 6), (33125, 6), (33126, 6), (33127, 6), (33128, 6), (33129, 6), (33130, 6), (33131, 6), (33132, 6), (33133, 6), (33134, 6), (33135, 6), (33136, 6), (33137, 6), (33138, 6), (33139, 6), (33140, 6), (33141, 6), (33142, 6), (33143, 6), (33144, 6), (33145, 6), (33146, 6), (33147, 6), (33148, 6), (33149, 6), (33150, 6), (33151, 6), (33152, 6), (33153, 6), (33154, 6), (33155, 6), (33156, 6), (33157, 6), (33158, 6), (33159, 6), (33160, 6), (33161, 6), (33162, 6), (33163, 6), (33164, 6), (33165, 6), (33166, 6), (33167, 6), (33168, 6), (33169, 6), (33170, 6), (33171, 6), (33172, 6), (33173, 6), (33174, 6), (33175, 6), (33176, 6), (33177, 6), (33178, 6), (33179, 6), (33180, 6), (33181, 6), (33182, 6), (33183, 6), (33184, 6), (33185, 6), (33186, 6), (33187, 6), (33188, 6), (33189, 6), (33190, 6), (33191, 6), (33192, 6), (33193, 6), (33194, 6), (33195, 6), (33196, 6), (33197, 6), (33198, 6), (33199, 6), (33200, 6), (33201, 6), (33202, 6), (33203, 6), (33204, 6), (33205, 6), (33206, 6), (33207, 6), (33208, 6), (33209, 6), (33210, 6), (33211, 6), (33212, 6), (33213, 6), (33214, 6), (33215, 6), (33216, 6), (33217, 6), (33218, 6), (33219, 6), (33220, 6), (33221, 6), (33222, 6), (33223, 6), (33224, 6), (33225, 6), (33226, 6), (33227, 6), (33228, 6), (33229, 6), (33230, 6), (33231, 6), (33232, 6), (33233, 6), (33234, 6), (33235, 6), (33236, 6), (33237, 6), (33238, 6), (33239, 6), (33240, 6), (33241, 6), (33242, 6), (33243, 6), (33244, 6), (33245, 6), (33246, 6), (33247, 6), (33248, 6), (33249, 6), (33250, 6), (33251, 6), (33252, 6), (33253, 6), (33254, 6), (33255, 6), (33256, 6), (33257, 6), (33258, 6), (33259, 6), (33260, 6), (33261, 6), (33262, 6), (33263, 6), (33264, 6), (33265, 6), (33266, 6), (33267, 6), (33268, 6), (33269, 6), (33270, 6), (33271, 6), (33272, 6), (33273, 6), (33274, 6), (33275, 6), (33276, 6), (33277, 6), (33278, 6), (33279, 6), (33280, 6), (33281, 6), (33282, 6), (33283, 6), (33284, 6), (33285, 6), (33286, 6), (33287, 6), (33288, 6), (33289, 6), (33290, 6), (33291, 6), (33292, 6), (33293, 6), (33294, 6), (33295, 6), (33296, 6), (33297, 6), (33298, 6), (33299, 6), (33300, 6), (33301, 6), (33302, 6), (33303, 6), (33304, 6), (33305, 6), (33306, 6), (33307, 6), (33308, 6), (33309, 6), (33310, 6), (33311, 6), (33312, 6), (33313, 6), (33314, 6), (33315, 6), (33316, 6), (33317, 6), (33318, 6), (33319, 6), (33320, 6), (33321, 6), (33322, 6), (33323, 6), (33324, 6), (33325, 6), (33326, 6), (33327, 6), (33328, 6), (33329, 6), (33330, 6), (33331, 6), (33332, 6), (33333, 6), (33334, 6), (33335, 6), (33336, 6), (33337, 6), (33338, 6), (33339, 6), (33340, 6), (33341, 6), (33342, 6), (33343, 6), (33344, 6), (33345, 6), (33346, 6), (33347, 6), (33348, 6), (33349, 6), (33350, 6), (33351, 6), (33352, 6), (33353, 6), (33354, 6), (33355, 6), (33356, 6), (33357, 6), (33358, 6), (33359, 6), (33360, 6), (33361, 6), (33362, 6), (33363, 6), (33364, 6), (33365, 6), (33366, 6), (33367, 6), (33368, 6), (33369, 6), (33370, 6), (33371, 6), (33372, 6), (33373, 6), (33374, 6), (33375, 6), (33376, 6), (33377, 6), (33378, 6), (33379, 6), (33380, 6), (33381, 6), (33382, 6), (33383, 6), (33384, 6), (33385, 6), (33386, 6), (33387, 6), (33388, 6), (33389, 6), (33390, 6), (33391, 6), (33392, 6), (33393, 6), (33394, 6), (33395, 6), (33396, 6), (33397, 6), (33398, 6), (33399, 6), (33400, 6), (33401, 6), (33402, 6), (33403, 6), (33404, 6), (33405, 6), (33406, 6), (33407, 6), (33408, 6), (33409, 6), (33410, 6), (33411, 6), (33412, 6), (33413, 6), (33414, 6), (33415, 6), (33416, 6), (33417, 6), (33418, 6), (33419, 6), (33420, 6), (33421, 6), (33422, 6), (33423, 6), (33424, 6), (33425, 6), (33426, 6), (33427, 6), (33428, 6), (33429, 6), (33430, 6), (33431, 6), (33432, 6), (33433, 6), (33434, 6), (33435, 6), (33436, 6), (33437, 6), (33438, 6), (33439, 6), (33440, 6), (33441, 6), (33442, 6), (33443, 6), (33444, 6), (33445, 6), (33446, 6), (33447, 6), (33448, 6), (33449, 6), (33450, 6), (33451, 6), (33452, 6), (33453, 6), (33454, 6), (33455, 6), (33456, 6), (33457, 6), (33458, 6), (33459, 6), (33460, 6), (33461, 6), (33462, 6), (33463, 6), (33464, 6), (33465, 6), (33466, 6), (33467, 6), (33468, 6), (33469, 6), (33470, 6), (33471, 6), (33472, 6), (33473, 6), (33474, 6), (33475, 6), (33476, 6), (33477, 6), (33478, 6), (33479, 6), (33480, 6), (33481, 6), (33482, 6), (33483, 6), (33484, 6), (33485, 6), (33486, 6), (33487, 6), (33488, 6), (33489, 6), (33490, 6), (33491, 6), (33492, 6), (33493, 6), (33494, 6), (33495, 6), (33496, 6), (33497, 6), (33498, 6), (33499, 6), (33500, 6), (33501, 6), (33502, 6), (33503, 6), (33504, 6), (33505, 6), (33506, 6), (33507, 6), (33508, 6), (33509, 6), (33510, 6), (33511, 6), (33512, 6), (33513, 6), (33514, 6), (33515, 6), (33516, 6), (33517, 6), (33518, 6), (33519, 6), (33520, 6), (33521, 6), (33522, 6), (33523, 6), (33524, 6), (33525, 6), (33526, 6), (33527, 6), (33528, 6), (33529, 6), (33530, 6), (33531, 6), (33532, 6), (33533, 6), (33534, 6), (33535, 6), (33536, 6), (33537, 6), (33538, 6), (33539, 6), (33540, 6), (33541, 6), (33542, 6), (33543, 6), (33544, 6), (33545, 6), (33546, 6), (33547, 6), (33548, 6), (33549, 6), (33550, 6), (33551, 6), (33552, 6), (33553, 6), (33554, 6), (33555, 6), (33556, 6), (33557, 6), (33558, 6), (33559, 6), (33560, 6), (33561, 6), (33562, 6), (33563, 6), (33564, 6), (33565, 6), (33566, 6), (33567, 6), (33568, 6), (33569, 6), (33570, 6), (33571, 6), (33572, 6), (33573, 6), (33574, 6), (33575, 6), (33576, 6), (33577, 6), (33578, 6), (33579, 6), (33580, 6), (33581, 6), (33582, 6), (33583, 6), (33584, 6), (33585, 6), (33586, 6), (33587, 6), (33588, 6), (33589, 6), (33590, 6), (33591, 6), (33592, 6), (33593, 6), (33594, 6), (33595, 6), (33596, 6), (33597, 6), (33598, 6), (33599, 6), (33600, 6), (33601, 6), (33602, 6), (33603, 6), (33604, 6), (33605, 6), (33606, 6), (33607, 6), (33608, 6), (33609, 6), (33610, 6), (33611, 6), (33612, 6), (33613, 6), (33614, 6), (33615, 6), (33616, 6), (33617, 6), (33618, 6), (33619, 6), (33620, 6), (33621, 6), (33622, 6), (33623, 6), (33624, 6), (33625, 6), (33626, 6), (33627, 6), (33628, 6), (33629, 6), (33630, 6), (33631, 6), (33632, 6), (33633, 6), (33634, 6), (33635, 6), (33636, 6), (33637, 6), (33638, 6), (33639, 6), (33640, 6), (33641, 6), (33642, 6), (33643, 6), (33644, 6), (33645, 6), (33646, 6), (33647, 6), (33648, 6), (33649, 6), (33650, 6), (33651, 6), (33652, 6), (33653, 6), (33654, 6), (33655, 6), (33656, 6), (33657, 6), (33658, 6), (33659, 6), (33660, 6), (33661, 6), (33662, 6), (33663, 6), (33664, 6), (33665, 6), (33666, 6), (33667, 6), (33668, 6), (33669, 6), (33670, 6), (33671, 6), (33672, 6), (33673, 6), (33674, 6), (33675, 6), (33676, 6), (33677, 6), (33678, 6), (33679, 6), (33680, 6), (33681, 6), (33682, 6), (33683, 6), (33684, 6), (33685, 6), (33686, 6), (33687, 6), (33688, 6), (33689, 6), (33690, 6), (33691, 6), (33692, 6), (33693, 6), (33694, 6), (33695, 6), (33696, 6), (33697, 6), (33698, 6), (33699, 6), (33700, 6), (33701, 6), (33702, 6), (33703, 6), (33704, 6), (33705, 6), (33706, 6), (33707, 6), (33708, 6), (33709, 6), (33710, 6), (33711, 6), (33712, 6), (33713, 6), (33714, 6), (33715, 6), (33716, 6), (33717, 6), (33718, 6), (33719, 6), (33720, 6), (33721, 6), (33722, 6), (33723, 6), (33724, 6), (33725, 6), (33726, 6), (33727, 6), (33728, 6), (33729, 6), (33730, 6), (33731, 6), (33732, 6), (33733, 6), (33734, 6), (33735, 6), (33736, 6), (33737, 6), (33738, 6), (33739, 6), (33740, 6), (33741, 6), (33742, 6), (33743, 6), (33744, 6), (33745, 6), (33746, 6), (33747, 6), (33748, 6), (33749, 6), (33750, 6), (33751, 6), (33752, 6), (33753, 6), (33754, 6), (33755, 6), (33756, 6), (33757, 6), (33758, 6), (33759, 6), (33760, 6), (33761, 6), (33762, 6), (33763, 6), (33764, 6), (33765, 6), (33766, 6), (33767, 6), (33768, 6), (33769, 6), (33770, 6), (33771, 6), (33772, 6), (33773, 6), (33774, 6), (33775, 6), (33776, 6), (33777, 6), (33778, 6), (33779, 6), (33780, 6), (33781, 6), (33782, 6), (33783, 6), (33784, 6), (33785, 6), (33786, 6), (33787, 6), (33788, 6), (33789, 6), (33790, 6), (33791, 6), (33792, 6), (33793, 6), (33794, 6), (33795, 6), (33796, 6), (33797, 6), (33798, 6), (33799, 6), (33800, 6), (33801, 6), (33802, 6), (33803, 6), (33804, 6), (33805, 6), (33806, 6), (33807, 6), (33808, 6), (33809, 6), (33810, 6), (33811, 6), (33812, 6), (33813, 6), (33814, 6), (33815, 6), (33816, 6), (33817, 6), (33818, 6), (33819, 6), (33820, 6), (33821, 6), (33822, 6), (33823, 6), (33824, 6), (33825, 6), (33826, 6), (33827, 6), (33828, 6), (33829, 6), (33830, 6), (33831, 6), (33832, 6), (33833, 6), (33834, 6), (33835, 6), (33836, 6), (33837, 6), (33838, 6), (33839, 6), (33840, 6), (33841, 6), (33842, 6), (33843, 6), (33844, 6), (33845, 6), (33846, 6), (33847, 6), (33848, 6), (33849, 6), (33850, 6), (33851, 6), (33852, 6), (33853, 6), (33854, 6), (33855, 6), (33856, 6), (33857, 6), (33858, 6), (33859, 6), (33860, 6), (33861, 6), (33862, 6), (33863, 6), (33864, 6), (33865, 6), (33866, 6), (33867, 6), (33868, 6), (33869, 6), (33870, 6), (33871, 6), (33872, 6), (33873, 6), (33874, 6), (33875, 6), (33876, 6), (33877, 6), (33878, 6), (33879, 6), (33880, 6), (33881, 6), (33882, 6), (33883, 6), (33884, 6), (33885, 6), (33886, 6), (33887, 6), (33888, 6), (33889, 6), (33890, 6), (33891, 6), (33892, 6), (33893, 6), (33894, 6), (33895, 6), (33896, 6), (33897, 6), (33898, 6), (33899, 6), (33900, 6), (33901, 6), (33902, 6), (33903, 6), (33904, 6), (33905, 6), (33906, 6), (33907, 6), (33908, 6), (33909, 6), (33910, 6), (33911, 6), (33912, 6), (33913, 6), (33914, 6), (33915, 6), (33916, 6), (33917, 6), (33918, 6), (33919, 6), (33920, 6), (33921, 6), (33922, 6), (33923, 6), (33924, 6), (33925, 6), (33926, 6), (33927, 6), (33928, 6), (33929, 6), (33930, 6), (33931, 6), (33932, 6), (33933, 6), (33934, 6), (33935, 6), (33936, 6), (33937, 6), (33938, 6), (33939, 6), (33940, 6), (33941, 6), (33942, 6), (33943, 6), (33944, 6), (33945, 6), (33946, 6), (33947, 6), (33948, 6), (33949, 6), (33950, 6), (33951, 6), (33952, 6), (33953, 6), (33954, 6), (33955, 6), (33956, 6), (33957, 6), (33958, 6), (33959, 6), (33960, 6), (33961, 6), (33962, 6), (33963, 6), (33964, 6), (33965, 6), (33966, 6), (33967, 6), (33968, 6), (33969, 6), (33970, 6), (33971, 6), (33972, 6), (33973, 6), (33974, 6), (33975, 6), (33976, 6), (33977, 6), (33978, 6), (33979, 6), (33980, 6), (33981, 6), (33982, 6), (33983, 6), (33984, 6), (33985, 6), (33986, 6), (33987, 6), (33988, 6), (33989, 6), (33990, 6), (33991, 6), (33992, 6), (33993, 6), (33994, 6), (33995, 6), (33996, 6), (33997, 6), (33998, 6), (33999, 6), (34000, 6), (34001, 6), (34002, 6), (34003, 6), (34004, 6), (34005, 6), (34006, 6), (34007, 6), (34008, 6), (34009, 6), (34010, 6), (34011, 6), (34012, 6), (34013, 6), (34014, 6), (34015, 6), (34016, 6), (34017, 6), (34018, 6), (34019, 6), (34020, 6), (34021, 6), (34022, 6), (34023, 6), (34024, 6), (34025, 6), (34026, 6), (34027, 6), (34028, 6), (34029, 6), (34030, 6), (34031, 6), (34032, 6), (34033, 6), (34034, 6), (34035, 6), (34036, 6), (34037, 6), (34038, 6), (34039, 6), (34040, 6), (34041, 6), (34042, 6), (34043, 6), (34044, 6), (34045, 6), (34046, 6), (34047, 6), (34048, 6), (34049, 6), (34050, 6), (34051, 6), (34052, 6), (34053, 6), (34054, 6), (34055, 6), (34056, 6), (34057, 6), (34058, 6), (34059, 6), (34060, 6), (34061, 6), (34062, 6), (34063, 6), (34064, 6), (34065, 6), (34066, 6), (34067, 6), (34068, 6), (34069, 6), (34070, 6), (34071, 6), (34072, 6), (34073, 6), (34074, 6), (34075, 6), (34076, 6), (34077, 6), (34078, 6), (34079, 6), (34080, 6), (34081, 6), (34082, 6), (34083, 6), (34084, 6), (34085, 6), (34086, 6), (34087, 6), (34088, 6), (34089, 6), (34090, 6), (34091, 6), (34092, 6), (34093, 6), (34094, 6), (34095, 6), (34096, 6), (34097, 6), (34098, 6), (34099, 6), (34100, 6), (34101, 6), (34102, 6), (34103, 6), (34104, 6), (34105, 6), (34106, 6), (34107, 6), (34108, 6), (34109, 6), (34110, 6), (34111, 6), (34112, 6), (34113, 6), (34114, 6), (34115, 6), (34116, 6), (34117, 6), (34118, 6), (34119, 6), (34120, 6), (34121, 6), (34122, 6), (34123, 6), (34124, 6), (34125, 6), (34126, 6), (34127, 6), (34128, 6), (34129, 6), (34130, 6), (34131, 6), (34132, 6), (34133, 6), (34134, 6), (34135, 6), (34136, 6), (34137, 6), (34138, 6), (34139, 6), (34140, 6), (34141, 6), (34142, 6), (34143, 6), (34144, 6), (34145, 6), (34146, 6), (34147, 6), (34148, 6), (34149, 6), (34150, 6), (34151, 6), (34152, 6), (34153, 6), (34154, 6), (34155, 6), (34156, 6), (34157, 6), (34158, 6), (34159, 6), (34160, 6), (34161, 6), (34162, 6), (34163, 6), (34164, 6), (34165, 6), (34166, 6), (34167, 6), (34168, 6), (34169, 6), (34170, 6), (34171, 6), (34172, 6), (34173, 6), (34174, 6), (34175, 6), (34176, 6), (34177, 6), (34178, 6), (34179, 6), (34180, 6), (34181, 6), (34182, 6), (34183, 6), (34184, 6), (34185, 6), (34186, 6), (34187, 6), (34188, 6), (34189, 6), (34190, 6), (34191, 6), (34192, 6), (34193, 6), (34194, 6), (34195, 6), (34196, 6), (34197, 6), (34198, 6), (34199, 6), (34200, 6), (34201, 6), (34202, 6), (34203, 6), (34204, 6), (34205, 6), (34206, 6), (34207, 6), (34208, 6), (34209, 6), (34210, 6), (34211, 6), (34212, 6), (34213, 6), (34214, 6), (34215, 6), (34216, 6), (34217, 6), (34218, 6), (34219, 6), (34220, 6), (34221, 6), (34222, 6), (34223, 6), (34224, 6), (34225, 6), (34226, 6), (34227, 6), (34228, 6), (34229, 6), (34230, 6), (34231, 6), (34232, 6), (34233, 6), (34234, 6), (34235, 6), (34236, 6), (34237, 6), (34238, 6), (34239, 6), (34240, 6), (34241, 6), (34242, 6), (34243, 6), (34244, 6), (34245, 6), (34246, 6), (34247, 6), (34248, 6), (34249, 6), (34250, 6), (34251, 6), (34252, 6), (34253, 6), (34254, 6), (34255, 6), (34256, 6), (34257, 6), (34258, 6), (34259, 6), (34260, 6), (34261, 6), (34262, 6), (34263, 6), (34264, 6), (34265, 6), (34266, 6), (34267, 6), (34268, 6), (34269, 6), (34270, 6), (34271, 6), (34272, 6), (34273, 6), (34274, 6), (34275, 6), (34276, 6), (34277, 6), (34278, 6), (34279, 6), (34280, 6), (34281, 6), (34282, 6), (34283, 6), (34284, 6), (34285, 6), (34286, 6), (34287, 6), (34288, 6), (34289, 6), (34290, 6), (34291, 6), (34292, 6), (34293, 6), (34294, 6), (34295, 6), (34296, 6), (34297, 6), (34298, 6), (34299, 6), (34300, 6), (34301, 6), (34302, 6), (34303, 6), (34304, 6), (34305, 6), (34306, 6), (34307, 6), (34308, 6), (34309, 6), (34310, 6), (34311, 6), (34312, 6), (34313, 6), (34314, 6), (34315, 6), (34316, 6), (34317, 6), (34318, 6), (34319, 6), (34320, 6), (34321, 6), (34322, 6), (34323, 6), (34324, 6), (34325, 6), (34326, 6), (34327, 6), (34328, 6), (34329, 6), (34330, 6), (34331, 6), (34332, 6), (34333, 6), (34334, 6), (34335, 6), (34336, 6), (34337, 6), (34338, 6), (34339, 6), (34340, 6), (34341, 6), (34342, 6), (34343, 6), (34344, 6), (34345, 6), (34346, 6), (34347, 6), (34348, 6), (34349, 6), (34350, 6), (34351, 6), (34352, 6), (34353, 6), (34354, 6), (34355, 6), (34356, 6), (34357, 6), (34358, 6), (34359, 6), (34360, 6), (34361, 6), (34362, 6), (34363, 6), (34364, 6), (34365, 6), (34366, 6), (34367, 6), (34368, 6), (34369, 6), (34370, 6), (34371, 6), (34372, 6), (34373, 6), (34374, 6), (34375, 6), (34376, 6), (34377, 6), (34378, 6), (34379, 6), (34380, 6), (34381, 6), (34382, 6), (34383, 6), (34384, 6), (34385, 6), (34386, 6), (34387, 6), (34388, 6), (34389, 6), (34390, 6), (34391, 6), (34392, 6), (34393, 6), (34394, 6), (34395, 6), (34396, 6), (34397, 6), (34398, 6), (34399, 6), (34400, 6), (34401, 6), (34402, 6), (34403, 6), (34404, 6), (34405, 6), (34406, 6), (34407, 6), (34408, 6), (34409, 6), (34410, 6), (34411, 6), (34412, 6), (34413, 6), (34414, 6), (34415, 6), (34416, 6), (34417, 6), (34418, 6), (34419, 6), (34420, 6), (34421, 6), (34422, 6), (34423, 6), (34424, 6), (34425, 6), (34426, 6), (34427, 6), (34428, 6), (34429, 6), (34430, 6), (34431, 6), (34432, 6), (34433, 6), (34434, 6), (34435, 6), (34436, 6), (34437, 6), (34438, 6), (34439, 6), (34440, 6), (34441, 6), (34442, 6), (34443, 6), (34444, 6), (34445, 6), (34446, 6), (34447, 6), (34448, 6), (34449, 6), (34450, 6), (34451, 6), (34452, 6), (34453, 6), (34454, 6), (34455, 6), (34456, 6), (34457, 6), (34458, 6), (34459, 6), (34460, 6), (34461, 6), (34462, 6), (34463, 6), (34464, 6), (34465, 6), (34466, 6), (34467, 6), (34468, 6), (34469, 6), (34470, 6), (34471, 6), (34472, 6), (34473, 6), (34474, 6), (34475, 6), (34476, 6), (34477, 6), (34478, 6), (34479, 6), (34480, 6), (34481, 6), (34482, 6), (34483, 6), (34484, 6), (34485, 6), (34486, 6), (34487, 6), (34488, 6), (34489, 6), (34490, 6), (34491, 6), (34492, 6), (34493, 6), (34494, 6), (34495, 6), (34496, 6), (34497, 6), (34498, 6), (34499, 6), (34500, 6), (34501, 6), (34502, 6), (34503, 6), (34504, 6), (34505, 6), (34506, 6), (34507, 6), (34508, 6), (34509, 6), (34510, 6), (34511, 6), (34512, 6), (34513, 6), (34514, 6), (34515, 6), (34516, 6), (34517, 6), (34518, 6), (34519, 6), (34520, 6), (34521, 6), (34522, 6), (34523, 6), (34524, 6), (34525, 6), (34526, 6), (34527, 6), (34528, 6), (34529, 6), (34530, 6), (34531, 6), (34532, 6), (34533, 6), (34534, 6), (34535, 6), (34536, 6), (34537, 6), (34538, 6), (34539, 6), (34540, 6), (34541, 6), (34542, 6), (34543, 6), (34544, 6), (34545, 6), (34546, 6), (34547, 6), (34548, 6), (34549, 6), (34550, 6), (34551, 6), (34552, 6), (34553, 6), (34554, 6), (34555, 6), (34556, 6), (34557, 6), (34558, 6), (34559, 6), (34560, 6), (34561, 6), (34562, 6), (34563, 6), (34564, 6), (34565, 6), (34566, 6), (34567, 6), (34568, 6), (34569, 6), (34570, 6), (34571, 6), (34572, 6), (34573, 6), (34574, 6), (34575, 6), (34576, 6), (34577, 6), (34578, 6), (34579, 6), (34580, 6), (34581, 6), (34582, 6), (34583, 6), (34584, 6), (34585, 6), (34586, 6), (34587, 6), (34588, 6), (34589, 6), (34590, 6), (34591, 6), (34592, 6), (34593, 6), (34594, 6), (34595, 6), (34596, 6), (34597, 6), (34598, 6), (34599, 6), (34600, 6), (34601, 6), (34602, 6), (34603, 6), (34604, 6), (34605, 6), (34606, 6), (34607, 6), (34608, 6), (34609, 6), (34610, 6), (34611, 6), (34612, 6), (34613, 6), (34614, 6), (34615, 6), (34616, 6), (34617, 6), (34618, 6), (34619, 6), (34620, 6), (34621, 6), (34622, 6), (34623, 6), (34624, 6), (34625, 6), (34626, 6), (34627, 6), (34628, 6), (34629, 6), (34630, 6), (34631, 6), (34632, 6), (34633, 6), (34634, 6), (34635, 6), (34636, 6), (34637, 6), (34638, 6), (34639, 6), (34640, 6), (34641, 6), (34642, 6), (34643, 6), (34644, 6), (34645, 6), (34646, 6), (34647, 6), (34648, 6), (34649, 6), (34650, 6), (34651, 6), (34652, 6), (34653, 6), (34654, 6), (34655, 6), (34656, 6), (34657, 6), (34658, 6), (34659, 6), (34660, 6), (34661, 6), (34662, 6), (34663, 6), (34664, 6), (34665, 6), (34666, 6), (34667, 6), (34668, 6), (34669, 6), (34670, 6), (34671, 6), (34672, 6), (34673, 6), (34674, 6), (34675, 6), (34676, 6), (34677, 6), (34678, 6), (34679, 6), (34680, 6), (34681, 6), (34682, 6), (34683, 6), (34684, 6), (34685, 6), (34686, 6), (34687, 6), (34688, 6), (34689, 6), (34690, 6), (34691, 6), (34692, 6), (34693, 6), (34694, 6), (34695, 6), (34696, 6), (34697, 6), (34698, 6), (34699, 6), (34700, 6), (34701, 6), (34702, 6), (34703, 6), (34704, 6), (34705, 6), (34706, 6), (34707, 6), (34708, 6), (34709, 6), (34710, 6), (34711, 6), (34712, 6), (34713, 6), (34714, 6), (34715, 6), (34716, 6), (34717, 6), (34718, 6), (34719, 6), (34720, 6), (34721, 6), (34722, 6), (34723, 6), (34724, 6), (34725, 6), (34726, 6), (34727, 6), (34728, 6), (34729, 6), (34730, 6), (34731, 6), (34732, 6), (34733, 6), (34734, 6), (34735, 6), (34736, 6), (34737, 6), (34738, 6), (34739, 6), (34740, 6), (34741, 6), (34742, 6), (34743, 6), (34744, 6), (34745, 6), (34746, 6), (34747, 6), (34748, 6), (34749, 6), (34750, 6), (34751, 6), (34752, 6), (34753, 6), (34754, 6), (34755, 6), (34756, 6), (34757, 6), (34758, 6), (34759, 6), (34760, 6), (34761, 6), (34762, 6), (34763, 6), (34764, 6), (34765, 6), (34766, 6), (34767, 6), (34768, 6), (34769, 6), (34770, 6), (34771, 6), (34772, 6), (34773, 6), (34774, 6), (34775, 6), (34776, 6), (34777, 6), (34778, 6), (34779, 6), (34780, 6), (34781, 6), (34782, 6), (34783, 6), (34784, 6), (34785, 6), (34786, 6), (34787, 6), (34788, 6), (34789, 6), (34790, 6), (34791, 6), (34792, 6), (34793, 6), (34794, 6), (34795, 6), (34796, 6), (34797, 6), (34798, 6), (34799, 6), (34800, 6), (34801, 6), (34802, 6), (34803, 6), (34804, 6), (34805, 6), (34806, 6), (34807, 6), (34808, 6), (34809, 6), (34810, 6), (34811, 6), (34812, 6), (34813, 6), (34814, 6), (34815, 6), (34816, 6), (34817, 6), (34818, 6), (34819, 6), (34820, 6), (34821, 6), (34822, 6), (34823, 6), (34824, 6), (34825, 6), (34826, 6), (34827, 6), (34828, 6), (34829, 6), (34830, 6), (34831, 6), (34832, 6), (34833, 6), (34834, 6), (34835, 6), (34836, 6), (34837, 6), (34838, 6), (34839, 6), (34840, 6), (34841, 6), (34842, 6), (34843, 6), (34844, 6), (34845, 6), (34846, 6), (34847, 6), (34848, 6), (34849, 6), (34850, 6), (34851, 6), (34852, 6), (34853, 6), (34854, 6), (34855, 6), (34856, 6), (34857, 6), (34858, 6), (34859, 6), (34860, 6), (34861, 6), (34862, 6), (34863, 6), (34864, 6), (34865, 6), (34866, 6), (34867, 6), (34868, 6), (34869, 6), (34870, 6), (34871, 6), (34872, 6), (34873, 6), (34874, 6), (34875, 6), (34876, 6), (34877, 6), (34878, 6), (34879, 6), (34880, 6), (34881, 6), (34882, 6), (34883, 6), (34884, 6), (34885, 6), (34886, 6), (34887, 6), (34888, 6), (34889, 6), (34890, 6), (34891, 6), (34892, 6), (34893, 6), (34894, 6), (34895, 6), (34896, 6), (34897, 6), (34898, 6), (34899, 6), (34900, 6), (34901, 6), (34902, 6), (34903, 6), (34904, 6), (34905, 6), (34906, 6), (34907, 6), (34908, 6), (34909, 6), (34910, 6), (34911, 6), (34912, 6), (34913, 6), (34914, 6), (34915, 6), (34916, 6), (34917, 6), (34918, 6), (34919, 6), (34920, 6), (34921, 6), (34922, 6), (34923, 6), (34924, 6), (34925, 6), (34926, 6), (34927, 6), (34928, 6), (34929, 6), (34930, 6), (34931, 6), (34932, 6), (34933, 6), (34934, 6), (34935, 6), (34936, 6), (34937, 6), (34938, 6), (34939, 6), (34940, 6), (34941, 6), (34942, 6), (34943, 6), (34944, 6), (34945, 6), (34946, 6), (34947, 6), (34948, 6), (34949, 6), (34950, 6), (34951, 6), (34952, 6), (34953, 6), (34954, 6), (34955, 6), (34956, 6), (34957, 6), (34958, 6), (34959, 6), (34960, 6), (34961, 6), (34962, 6), (34963, 6), (34964, 6), (34965, 6), (34966, 6), (34967, 6), (34968, 6), (34969, 6), (34970, 6), (34971, 6), (34972, 6), (34973, 6), (34974, 6), (34975, 6), (34976, 6), (34977, 6), (34978, 6), (34979, 6), (34980, 6), (34981, 6), (34982, 6), (34983, 6), (34984, 6), (34985, 6), (34986, 6), (34987, 6), (34988, 6), (34989, 6), (34990, 6), (34991, 6), (34992, 6), (34993, 6), (34994, 6), (34995, 6), (34996, 6), (34997, 6), (34998, 6), (34999, 6), (35000, 6), (35001, 6), (35002, 6), (35003, 6), (35004, 6), (35005, 6), (35006, 6), (35007, 6), (35008, 6), (35009, 6), (35010, 6), (35011, 6), (35012, 6), (35013, 6), (35014, 6), (35015, 6), (35016, 6), (35017, 6), (35018, 6), (35019, 6), (35020, 6), (35021, 6), (35022, 6), (35023, 6), (35024, 6), (35025, 6), (35026, 6), (35027, 6), (35028, 6), (35029, 6), (35030, 6), (35031, 6), (35032, 6), (35033, 6), (35034, 6), (35035, 6), (35036, 6), (35037, 6), (35038, 6), (35039, 6), (35040, 6), (35041, 6), (35042, 6), (35043, 6), (35044, 6), (35045, 6), (35046, 6), (35047, 6), (35048, 6), (35049, 6), (35050, 6), (35051, 6), (35052, 6), (35053, 6), (35054, 6), (35055, 6), (35056, 6), (35057, 6), (35058, 6), (35059, 6), (35060, 6), (35061, 6), (35062, 6), (35063, 6), (35064, 6), (35065, 6), (35066, 6), (35067, 6), (35068, 6), (35069, 6), (35070, 6), (35071, 6), (35072, 6), (35073, 6), (35074, 6), (35075, 6), (35076, 6), (35077, 6), (35078, 6), (35079, 6), (35080, 6), (35081, 6), (35082, 6), (35083, 6), (35084, 6), (35085, 6), (35086, 6), (35087, 6), (35088, 6), (35089, 6), (35090, 6), (35091, 6), (35092, 6), (35093, 6), (35094, 6), (35095, 6), (35096, 6), (35097, 6), (35098, 6), (35099, 6), (35100, 6), (35101, 6), (35102, 6), (35103, 6), (35104, 6), (35105, 6), (35106, 6), (35107, 6), (35108, 6), (35109, 6), (35110, 6), (35111, 6), (35112, 6), (35113, 6), (35114, 6), (35115, 6), (35116, 6), (35117, 6), (35118, 6), (35119, 6), (35120, 6), (35121, 6), (35122, 6), (35123, 6), (35124, 6), (35125, 6), (35126, 6), (35127, 6), (35128, 6), (35129, 6), (35130, 6), (35131, 6), (35132, 6), (35133, 6), (35134, 6), (35135, 6), (35136, 6), (35137, 6), (35138, 6), (35139, 6), (35140, 6), (35141, 6), (35142, 6), (35143, 6), (35144, 6), (35145, 6), (35146, 6), (35147, 6), (35148, 6), (35149, 6), (35150, 6), (35151, 6), (35152, 6), (35153, 6), (35154, 6), (35155, 6), (35156, 6), (35157, 6), (35158, 6), (35159, 6), (35160, 6), (35161, 6), (35162, 6), (35163, 6), (35164, 6), (35165, 6), (35166, 6), (35167, 6), (35168, 6), (35169, 6), (35170, 6), (35171, 6), (35172, 6), (35173, 6), (35174, 6), (35175, 6), (35176, 6), (35177, 6), (35178, 6), (35179, 6), (35180, 6), (35181, 6), (35182, 6), (35183, 6), (35184, 6), (35185, 6), (35186, 6), (35187, 6), (35188, 6), (35189, 6), (35190, 6), (35191, 6), (35192, 6), (35193, 6), (35194, 6), (35195, 6), (35196, 6), (35197, 6), (35198, 6), (35199, 6), (35200, 6), (35201, 6), (35202, 6), (35203, 6), (35204, 6), (35205, 6), (35206, 6), (35207, 6), (35208, 6), (35209, 6), (35210, 6), (35211, 6), (35212, 6), (35213, 6), (35214, 6), (35215, 6), (35216, 6), (35217, 6), (35218, 6), (35219, 6), (35220, 6), (35221, 6), (35222, 6), (35223, 6), (35224, 6), (35225, 6), (35226, 6), (35227, 6), (35228, 6), (35229, 6), (35230, 6), (35231, 6), (35232, 6), (35233, 6), (35234, 6), (35235, 6), (35236, 6), (35237, 6), (35238, 6), (35239, 6), (35240, 6), (35241, 6), (35242, 6), (35243, 6), (35244, 6), (35245, 6), (35246, 6), (35247, 6), (35248, 6), (35249, 6), (35250, 6), (35251, 6), (35252, 6), (35253, 6), (35254, 6), (35255, 6), (35256, 6), (35257, 6), (35258, 6), (35259, 6), (35260, 6), (35261, 6), (35262, 6), (35263, 6), (35264, 6), (35265, 6), (35266, 6), (35267, 6), (35268, 6), (35269, 6), (35270, 6), (35271, 6), (35272, 6), (35273, 6), (35274, 6), (35275, 6), (35276, 6), (35277, 6), (35278, 6), (35279, 6), (35280, 6), (35281, 6), (35282, 6), (35283, 6), (35284, 6), (35285, 6), (35286, 6), (35287, 6), (35288, 6), (35289, 6), (35290, 6), (35291, 6), (35292, 6), (35293, 6), (35294, 6), (35295, 6), (35296, 6), (35297, 6), (35298, 6), (35299, 6), (35300, 6), (35301, 6), (35302, 6), (35303, 6), (35304, 6), (35305, 6), (35306, 6), (35307, 6), (35308, 6), (35309, 6), (35310, 6), (35311, 6), (35312, 6), (35313, 6), (35314, 6), (35315, 6), (35316, 6), (35317, 6), (35318, 6), (35319, 6), (35320, 6), (35321, 6), (35322, 6), (35323, 6), (35324, 6), (35325, 6), (35326, 6), (35327, 6), (35328, 6), (35329, 6), (35330, 6), (35331, 6), (35332, 6), (35333, 6), (35334, 6), (35335, 6), (35336, 6), (35337, 6), (35338, 6), (35339, 6), (35340, 6), (35341, 6), (35342, 6), (35343, 6), (35344, 6), (35345, 6), (35346, 6), (35347, 6), (35348, 6), (35349, 6), (35350, 6), (35351, 6), (35352, 6), (35353, 6), (35354, 6), (35355, 6), (35356, 6), (35357, 6), (35358, 6), (35359, 6), (35360, 6), (35361, 6), (35362, 6), (35363, 6), (35364, 6), (35365, 6), (35366, 6), (35367, 6), (35368, 6), (35369, 6), (35370, 6), (35371, 6), (35372, 6), (35373, 6), (35374, 6), (35375, 6), (35376, 6), (35377, 6), (35378, 6), (35379, 6), (35380, 6), (35381, 6), (35382, 6), (35383, 6), (35384, 6), (35385, 6), (35386, 6), (35387, 6), (35388, 6), (35389, 6), (35390, 6), (35391, 6), (35392, 6), (35393, 6), (35394, 6), (35395, 6), (35396, 6), (35397, 6), (35398, 6), (35399, 6), (35400, 6), (35401, 6), (35402, 6), (35403, 6), (35404, 6), (35405, 6), (35406, 6), (35407, 6), (35408, 6), (35409, 6), (35410, 6), (35411, 6), (35412, 6), (35413, 6), (35414, 6), (35415, 6), (35416, 6), (35417, 6), (35418, 6), (35419, 6), (35420, 6), (35421, 6), (35422, 6), (35423, 6), (35424, 6), (35425, 6), (35426, 6), (35427, 6), (35428, 6), (35429, 6), (35430, 6), (35431, 6), (35432, 6), (35433, 6), (35434, 6), (35435, 6), (35436, 6), (35437, 6), (35438, 6), (35439, 6), (35440, 6), (35441, 6), (35442, 6), (35443, 6), (35444, 6), (35445, 6), (35446, 6), (35447, 6), (35448, 6), (35449, 6), (35450, 6), (35451, 6), (35452, 6), (35453, 6), (35454, 6), (35455, 6), (35456, 6), (35457, 6), (35458, 6), (35459, 6), (35460, 6), (35461, 6), (35462, 6), (35463, 6), (35464, 6), (35465, 6), (35466, 6), (35467, 6), (35468, 6), (35469, 6), (35470, 6), (35471, 6), (35472, 6), (35473, 6), (35474, 6), (35475, 6), (35476, 6), (35477, 6), (35478, 6), (35479, 6), (35480, 6), (35481, 6), (35482, 6), (35483, 6), (35484, 6), (35485, 6), (35486, 6), (35487, 6), (35488, 6), (35489, 6), (35490, 6), (35491, 6), (35492, 6), (35493, 6), (35494, 6), (35495, 6), (35496, 6), (35497, 6), (35498, 6), (35499, 6), (35500, 6), (35501, 6), (35502, 6), (35503, 6), (35504, 6), (35505, 6), (35506, 6), (35507, 6), (35508, 6), (35509, 6), (35510, 6), (35511, 6), (35512, 6), (35513, 6), (35514, 6), (35515, 6), (35516, 6), (35517, 6), (35518, 6), (35519, 6), (35520, 6), (35521, 6), (35522, 6), (35523, 6), (35524, 6), (35525, 6), (35526, 6), (35527, 6), (35528, 6), (35529, 6), (35530, 6), (35531, 6), (35532, 6), (35533, 6), (35534, 6), (35535, 6), (35536, 6), (35537, 6), (35538, 6), (35539, 6), (35540, 6), (35541, 6), (35542, 6), (35543, 6), (35544, 6), (35545, 6), (35546, 6), (35547, 6), (35548, 6), (35549, 6), (35550, 6), (35551, 6), (35552, 6), (35553, 6), (35554, 6), (35555, 6), (35556, 6), (35557, 6), (35558, 6), (35559, 6), (35560, 6), (35561, 6), (35562, 6), (35563, 6), (35564, 6), (35565, 6), (35566, 6), (35567, 6), (35568, 6), (35569, 6), (35570, 6), (35571, 6), (35572, 6), (35573, 6), (35574, 6), (35575, 6), (35576, 6), (35577, 6), (35578, 6), (35579, 6), (35580, 6), (35581, 6), (35582, 6), (35583, 6), (35584, 6), (35585, 6), (35586, 6), (35587, 6), (35588, 6), (35589, 6), (35590, 6), (35591, 6), (35592, 6), (35593, 6), (35594, 6), (35595, 6), (35596, 6), (35597, 6), (35598, 6), (35599, 6), (35600, 6), (35601, 6), (35602, 6), (35603, 6), (35604, 6), (35605, 6), (35606, 6), (35607, 6), (35608, 6), (35609, 6), (35610, 6), (35611, 6), (35612, 6), (35613, 6), (35614, 6), (35615, 6), (35616, 6), (35617, 6), (35618, 6), (35619, 6), (35620, 6), (35621, 6), (35622, 6), (35623, 6), (35624, 6), (35625, 6), (35626, 6), (35627, 6), (35628, 6), (35629, 6), (35630, 6), (35631, 6), (35632, 6), (35633, 6), (35634, 6), (35635, 6), (35636, 6), (35637, 6), (35638, 6), (35639, 6), (35640, 6), (35641, 6), (35642, 6), (35643, 6), (35644, 6), (35645, 6), (35646, 6), (35647, 6), (35648, 6), (35649, 6), (35650, 6), (35651, 6), (35652, 6), (35653, 6), (35654, 6), (35655, 6), (35656, 6), (35657, 6), (35658, 6), (35659, 6), (35660, 6), (35661, 6), (35662, 6), (35663, 6), (35664, 6), (35665, 6), (35666, 6), (35667, 6), (35668, 6), (35669, 6), (35670, 6), (35671, 6), (35672, 6), (35673, 6), (35674, 6), (35675, 6), (35676, 6), (35677, 6), (35678, 6), (35679, 6), (35680, 6), (35681, 6), (35682, 6), (35683, 6), (35684, 6), (35685, 6), (35686, 6), (35687, 6), (35688, 6), (35689, 6), (35690, 6), (35691, 6), (35692, 6), (35693, 6), (35694, 6), (35695, 6), (35696, 6), (35697, 6), (35698, 6), (35699, 6), (35700, 6), (35701, 6), (35702, 6), (35703, 6), (35704, 6), (35705, 6), (35706, 6), (35707, 6), (35708, 6), (35709, 6), (35710, 6), (35711, 6), (35712, 6), (35713, 6), (35714, 6), (35715, 6), (35716, 6), (35717, 6), (35718, 6), (35719, 6), (35720, 6), (35721, 6), (35722, 6), (35723, 6), (35724, 6), (35725, 6), (35726, 6), (35727, 6), (35728, 6), (35729, 6), (35730, 6), (35731, 6), (35732, 6), (35733, 6), (35734, 6), (35735, 6), (35736, 6), (35737, 6), (35738, 6), (35739, 6), (35740, 6), (35741, 6), (35742, 6), (35743, 6), (35744, 6), (35745, 6), (35746, 6), (35747, 6), (35748, 6), (35749, 6), (35750, 6), (35751, 6), (35752, 6), (35753, 6), (35754, 6), (35755, 6), (35756, 6), (35757, 6), (35758, 6), (35759, 6), (35760, 6), (35761, 6), (35762, 6), (35763, 6), (35764, 6), (35765, 6), (35766, 6), (35767, 6), (35768, 6), (35769, 6), (35770, 6), (35771, 6), (35772, 6), (35773, 6), (35774, 6), (35775, 6), (35776, 6), (35777, 6), (35778, 6), (35779, 6), (35780, 6), (35781, 6), (35782, 6), (35783, 6), (35784, 6), (35785, 6), (35786, 6), (35787, 6), (35788, 6), (35789, 6), (35790, 6), (35791, 6), (35792, 6), (35793, 6), (35794, 6), (35795, 6), (35796, 6), (35797, 6), (35798, 6), (35799, 6), (35800, 6), (35801, 6), (35802, 6), (35803, 6), (35804, 6), (35805, 6), (35806, 6), (35807, 6), (35808, 6), (35809, 6), (35810, 6), (35811, 6), (35812, 6), (35813, 6), (35814, 6), (35815, 6), (35816, 6), (35817, 6), (35818, 6), (35819, 6), (35820, 6), (35821, 6), (35822, 6), (35823, 6), (35824, 6), (35825, 6), (35826, 6), (35827, 6), (35828, 6), (35829, 6), (35830, 6), (35831, 6), (35832, 6), (35833, 6), (35834, 6), (35835, 6), (35836, 6), (35837, 6), (35838, 6), (35839, 6), (35840, 6), (35841, 6), (35842, 6), (35843, 6), (35844, 6), (35845, 6), (35846, 6), (35847, 6), (35848, 6), (35849, 6), (35850, 6), (35851, 6), (35852, 6), (35853, 6), (35854, 6), (35855, 6), (35856, 6), (35857, 6), (35858, 6), (35859, 6), (35860, 6), (35861, 6), (35862, 6), (35863, 6), (35864, 6), (35865, 6), (35866, 6), (35867, 6), (35868, 6), (35869, 6), (35870, 6), (35871, 6), (35872, 6), (35873, 6), (35874, 6), (35875, 6), (35876, 6), (35877, 6), (35878, 6), (35879, 6), (35880, 6), (35881, 6), (35882, 6), (35883, 6), (35884, 6), (35885, 6), (35886, 6), (35887, 6), (35888, 6), (35889, 6), (35890, 6), (35891, 6), (35892, 6), (35893, 6), (35894, 6), (35895, 6), (35896, 6), (35897, 6), (35898, 6), (35899, 6), (35900, 6), (35901, 6), (35902, 6), (35903, 6), (35904, 6), (35905, 6), (35906, 6), (35907, 6), (35908, 6), (35909, 6), (35910, 6), (35911, 6), (35912, 6), (35913, 6), (35914, 6), (35915, 6), (35916, 6), (35917, 6), (35918, 6), (35919, 6), (35920, 6), (35921, 6), (35922, 6), (35923, 6), (35924, 6), (35925, 6), (35926, 6), (35927, 6), (35928, 6), (35929, 6), (35930, 6), (35931, 6), (35932, 6), (35933, 6), (35934, 6), (35935, 6), (35936, 6), (35937, 6), (35938, 6), (35939, 6), (35940, 6), (35941, 6), (35942, 6), (35943, 6), (35944, 6), (35945, 6), (35946, 6), (35947, 6), (35948, 6), (35949, 6), (35950, 6), (35951, 6), (35952, 6), (35953, 6), (35954, 6), (35955, 6), (35956, 6), (35957, 6), (35958, 6), (35959, 6), (35960, 6), (35961, 6), (35962, 6), (35963, 6), (35964, 6), (35965, 6), (35966, 6), (35967, 6), (35968, 6), (35969, 6), (35970, 6), (35971, 6), (35972, 6), (35973, 6), (35974, 6), (35975, 6), (35976, 6), (35977, 6), (35978, 6), (35979, 6), (35980, 6), (35981, 6), (35982, 6), (35983, 6), (35984, 6), (35985, 6), (35986, 6), (35987, 6), (35988, 6), (35989, 6), (35990, 6), (35991, 6), (35992, 6), (35993, 6), (35994, 6), (35995, 6), (35996, 6), (35997, 6), (35998, 6), (35999, 6), (36000, 6), (36001, 6), (36002, 6), (36003, 6), (36004, 6), (36005, 6), (36006, 6), (36007, 6), (36008, 6), (36009, 6), (36010, 6), (36011, 6), (36012, 6), (36013, 6), (36014, 6), (36015, 6), (36016, 6), (36017, 6), (36018, 6), (36019, 6), (36020, 6), (36021, 6), (36022, 6), (36023, 6), (36024, 6), (36025, 6), (36026, 6), (36027, 6), (36028, 6), (36029, 6), (36030, 6), (36031, 6), (36032, 6), (36033, 6), (36034, 6), (36035, 6), (36036, 6), (36037, 6), (36038, 6), (36039, 6), (36040, 6), (36041, 6), (36042, 6), (36043, 6), (36044, 6), (36045, 6), (36046, 6), (36047, 6), (36048, 6), (36049, 6), (36050, 6), (36051, 6), (36052, 6), (36053, 6), (36054, 6), (36055, 6), (36056, 6), (36057, 6), (36058, 6), (36059, 6), (36060, 6), (36061, 6), (36062, 6), (36063, 6), (36064, 6), (36065, 6), (36066, 6), (36067, 6), (36068, 6), (36069, 6), (36070, 6), (36071, 6), (36072, 6), (36073, 6), (36074, 6), (36075, 6), (36076, 6), (36077, 6), (36078, 6), (36079, 6), (36080, 6), (36081, 6), (36082, 6), (36083, 6), (36084, 6), (36085, 6), (36086, 6), (36087, 6), (36088, 6), (36089, 6), (36090, 6), (36091, 6), (36092, 6), (36093, 6), (36094, 6), (36095, 6), (36096, 6), (36097, 6), (36098, 6), (36099, 6), (36100, 6), (36101, 6), (36102, 6), (36103, 6), (36104, 6), (36105, 6), (36106, 6), (36107, 6), (36108, 6), (36109, 6), (36110, 6), (36111, 6), (36112, 6), (36113, 6), (36114, 6), (36115, 6), (36116, 6), (36117, 6), (36118, 6), (36119, 6), (36120, 6), (36121, 6), (36122, 6), (36123, 6), (36124, 6), (36125, 6), (36126, 6), (36127, 6), (36128, 6), (36129, 6), (36130, 6), (36131, 6), (36132, 6), (36133, 6), (36134, 6), (36135, 6), (36136, 6), (36137, 6), (36138, 6), (36139, 6), (36140, 6), (36141, 6), (36142, 6), (36143, 6), (36144, 6), (36145, 6), (36146, 6), (36147, 6), (36148, 6), (36149, 6), (36150, 6), (36151, 6), (36152, 6), (36153, 6), (36154, 6), (36155, 6), (36156, 6), (36157, 6), (36158, 6), (36159, 6), (36160, 6), (36161, 6), (36162, 6), (36163, 6), (36164, 6), (36165, 6), (36166, 6), (36167, 6), (36168, 6), (36169, 6), (36170, 6), (36171, 6), (36172, 6), (36173, 6), (36174, 6), (36175, 6), (36176, 6), (36177, 6), (36178, 6), (36179, 6), (36180, 6), (36181, 6), (36182, 6), (36183, 6), (36184, 6), (36185, 6), (36186, 6), (36187, 6), (36188, 6), (36189, 6), (36190, 6), (36191, 6), (36192, 6), (36193, 6), (36194, 6), (36195, 6), (36196, 6), (36197, 6), (36198, 6), (36199, 6), (36200, 6), (36201, 6), (36202, 6), (36203, 6), (36204, 6), (36205, 6), (36206, 6), (36207, 6), (36208, 6), (36209, 6), (36210, 6), (36211, 6), (36212, 6), (36213, 6), (36214, 6), (36215, 6), (36216, 6), (36217, 6), (36218, 6), (36219, 6), (36220, 6), (36221, 6), (36222, 6), (36223, 6), (36224, 4), (36225, 4), (36226, 4), (36227, 4), (36228, 4), (36229, 4), (36230, 4), (36231, 4), (36232, 4), (36233, 4), (36234, 4), (36235, 4), (36236, 4), (36237, 4), (36238, 4), (36239, 4), (36240, 4), (36241, 4), (36242, 4), (36243, 4), (36244, 4), (36245, 4), (36246, 4), (36247, 4), (36248, 4), (36249, 4), (36250, 4), (36251, 4), (36252, 4), (36253, 4), (36254, 4), (36255, 4), (36256, 4), (36257, 4), (36258, 4), (36259, 4), (36260, 4), (36261, 4), (36262, 4), (36263, 4), (36264, 4), (36265, 4), (36266, 4), (36267, 4), (36268, 4), (36269, 4), (36270, 4), (36271, 4), (36272, 4), (36273, 4), (36274, 4), (36275, 4), (36276, 4), (36277, 4), (36278, 4), (36279, 4), (36280, 4), (36281, 4), (36282, 4), (36283, 4), (36284, 4), (36285, 4), (36286, 4), (36287, 4), (36288, 4), (36289, 4), (36290, 4), (36291, 4), (36292, 4), (36293, 4), (36294, 4), (36295, 4), (36296, 4), (36297, 4), (36298, 4), (36299, 4), (36300, 4), (36301, 4), (36302, 4), (36303, 4), (36304, 4), (36305, 4), (36306, 4), (36307, 4), (36308, 4), (36309, 4), (36310, 4), (36311, 4), (36312, 4), (36313, 4), (36314, 4), (36315, 4), (36316, 4), (36317, 4), (36318, 4), (36319, 4), (36320, 4), (36321, 4), (36322, 4), (36323, 4), (36324, 4), (36325, 4), (36326, 4), (36327, 4), (36328, 4), (36329, 4), (36330, 4), (36331, 4), (36332, 4), (36333, 4), (36334, 4), (36335, 4), (36336, 4), (36337, 4), (36338, 4), (36339, 4), (36340, 4), (36341, 4), (36342, 4), (36343, 4), (36344, 4), (36345, 4), (36346, 4), (36347, 4), (36348, 4), (36349, 4), (36350, 4), (36351, 4), (36352, 4), (36353, 4), (36354, 4), (36355, 4), (36356, 4), (36357, 4), (36358, 4), (36359, 4), (36360, 4), (36361, 4), (36362, 4), (36363, 4), (36364, 4), (36365, 4), (36366, 4), (36367, 4), (36368, 4), (36369, 4), (36370, 4), (36371, 4), (36372, 4), (36373, 4), (36374, 4), (36375, 4), (36376, 4), (36377, 4), (36378, 4), (36379, 4), (36380, 4), (36381, 4), (36382, 4), (36383, 4), (36384, 4), (36385, 4), (36386, 4), (36387, 4), (36388, 4), (36389, 4), (36390, 4), (36391, 4), (36392, 4), (36393, 4), (36394, 4), (36395, 4), (36396, 4), (36397, 4), (36398, 4), (36399, 4), (36400, 4), (36401, 4), (36402, 4), (36403, 4), (36404, 4), (36405, 4), (36406, 4), (36407, 4), (36408, 4), (36409, 4), (36410, 4), (36411, 4), (36412, 4), (36413, 4), (36414, 4), (36415, 4), (36416, 4), (36417, 4), (36418, 4), (36419, 4), (36420, 4), (36421, 4), (36422, 4), (36423, 4), (36424, 4), (36425, 4), (36426, 4), (36427, 4), (36428, 4), (36429, 4), (36430, 4), (36431, 4), (36432, 4), (36433, 4), (36434, 4), (36435, 4), (36436, 4), (36437, 4), (36438, 4), (36439, 4), (36440, 4), (36441, 4), (36442, 4), (36443, 4), (36444, 4), (36445, 4), (36446, 4), (36447, 4), (36448, 4), (36449, 4), (36450, 4), (36451, 4), (36452, 4), (36453, 4), (36454, 4), (36455, 4), (36456, 4), (36457, 4), (36458, 4), (36459, 4), (36460, 4), (36461, 4), (36462, 4), (36463, 4), (36464, 4), (36465, 4), (36466, 4), (36467, 4), (36468, 4), (36469, 4), (36470, 4), (36471, 4), (36472, 4), (36473, 4), (36474, 4), (36475, 4), (36476, 4), (36477, 4), (36478, 4), (36479, 4), (36480, 4), (36481, 4), (36482, 4), (36483, 4), (36484, 4), (36485, 4), (36486, 4), (36487, 4), (36488, 4), (36489, 4), (36490, 4), (36491, 4), (36492, 4), (36493, 4), (36494, 4), (36495, 4), (36496, 4), (36497, 4), (36498, 4), (36499, 4), (36500, 4), (36501, 4), (36502, 4), (36503, 4), (36504, 4), (36505, 4), (36506, 4), (36507, 4), (36508, 4), (36509, 4), (36510, 4), (36511, 4), (36512, 4), (36513, 4), (36514, 4), (36515, 4), (36516, 4), (36517, 4), (36518, 4), (36519, 4), (36520, 4), (36521, 4), (36522, 4), (36523, 4), (36524, 4), (36525, 4), (36526, 4), (36527, 4), (36528, 4), (36529, 4), (36530, 4), (36531, 4), (36532, 4), (36533, 4), (36534, 4), (36535, 4), (36536, 4), (36537, 4), (36538, 4), (36539, 4), (36540, 4), (36541, 4), (36542, 4), (36543, 4), (36544, 4), (36545, 4), (36546, 4), (36547, 4), (36548, 4), (36549, 4), (36550, 4), (36551, 4), (36552, 4), (36553, 4), (36554, 4), (36555, 4), (36556, 4), (36557, 4), (36558, 4), (36559, 4), (36560, 4), (36561, 4), (36562, 4), (36563, 4), (36564, 4), (36565, 4), (36566, 4), (36567, 4), (36568, 4), (36569, 4), (36570, 4), (36571, 4), (36572, 4), (36573, 4), (36574, 4), (36575, 4), (36576, 4), (36577, 4), (36578, 4), (36579, 4), (36580, 4), (36581, 4), (36582, 4), (36583, 4), (36584, 4), (36585, 4), (36586, 4), (36587, 4), (36588, 4), (36589, 4), (36590, 4), (36591, 4), (36592, 4), (36593, 4), (36594, 4), (36595, 4), (36596, 4), (36597, 4), (36598, 4), (36599, 4), (36600, 4), (36601, 4), (36602, 4), (36603, 4), (36604, 4), (36605, 4), (36606, 4), (36607, 4), (36608, 4), (36609, 4), (36610, 4), (36611, 4), (36612, 4), (36613, 4), (36614, 4), (36615, 4), (36616, 4), (36617, 4), (36618, 4), (36619, 4), (36620, 4), (36621, 4), (36622, 4), (36623, 4), (36624, 4), (36625, 4), (36626, 4), (36627, 4), (36628, 4), (36629, 4), (36630, 4), (36631, 4), (36632, 4), (36633, 4), (36634, 4), (36635, 4), (36636, 4), (36637, 4), (36638, 4), (36639, 4), (36640, 4), (36641, 4), (36642, 4), (36643, 4), (36644, 4), (36645, 4), (36646, 4), (36647, 4), (36648, 4), (36649, 4), (36650, 4), (36651, 4), (36652, 4), (36653, 4), (36654, 4), (36655, 4), (36656, 4), (36657, 4), (36658, 4), (36659, 4), (36660, 4), (36661, 4), (36662, 4), (36663, 4), (36664, 4), (36665, 4), (36666, 4), (36667, 4), (36668, 4), (36669, 4), (36670, 4), (36671, 4), (36672, 4), (36673, 4), (36674, 4), (36675, 4), (36676, 4), (36677, 4), (36678, 4), (36679, 4), (36680, 4), (36681, 4), (36682, 4), (36683, 4), (36684, 4), (36685, 4), (36686, 4), (36687, 4), (36688, 4), (36689, 4), (36690, 4), (36691, 4), (36692, 4), (36693, 4), (36694, 4), (36695, 4), (36696, 4), (36697, 4), (36698, 4), (36699, 4), (36700, 4), (36701, 4), (36702, 4), (36703, 4), (36704, 4), (36705, 4), (36706, 4), (36707, 4), (36708, 4), (36709, 4), (36710, 4), (36711, 4), (36712, 4), (36713, 4), (36714, 4), (36715, 4), (36716, 4), (36717, 4), (36718, 4), (36719, 4), (36720, 4), (36721, 4), (36722, 4), (36723, 4), (36724, 4), (36725, 4), (36726, 4), (36727, 4), (36728, 4), (36729, 4), (36730, 4), (36731, 4), (36732, 4), (36733, 4), (36734, 4), (36735, 4), (36736, 4), (36737, 4), (36738, 4), (36739, 4), (36740, 4), (36741, 4), (36742, 4), (36743, 4), (36744, 4), (36745, 4), (36746, 4), (36747, 4), (36748, 4), (36749, 4), (36750, 4), (36751, 4), (36752, 4), (36753, 4), (36754, 4), (36755, 4), (36756, 4), (36757, 4), (36758, 4), (36759, 4), (36760, 4), (36761, 4), (36762, 4), (36763, 4), (36764, 4), (36765, 4), (36766, 4), (36767, 4), (36768, 4), (36769, 4), (36770, 4), (36771, 4), (36772, 4), (36773, 4), (36774, 4), (36775, 4), (36776, 4), (36777, 4), (36778, 4), (36779, 4), (36780, 4), (36781, 4), (36782, 4), (36783, 4), (36784, 4), (36785, 4), (36786, 4), (36787, 4), (36788, 4), (36789, 4), (36790, 4), (36791, 4), (36792, 4), (36793, 4), (36794, 4), (36795, 4), (36796, 4), (36797, 4), (36798, 4), (36799, 4), (36800, 4), (36801, 4), (36802, 4), (36803, 4), (36804, 4), (36805, 4), (36806, 4), (36807, 4), (36808, 4), (36809, 4), (36810, 4), (36811, 4), (36812, 4), (36813, 4), (36814, 4), (36815, 4), (36816, 4), (36817, 4), (36818, 4), (36819, 4), (36820, 4), (36821, 4), (36822, 4), (36823, 4), (36824, 4), (36825, 4), (36826, 4), (36827, 4), (36828, 4), (36829, 4), (36830, 4), (36831, 4), (36832, 4), (36833, 4), (36834, 4), (36835, 4), (36836, 4), (36837, 4), (36838, 4), (36839, 4), (36840, 4), (36841, 4), (36842, 4), (36843, 4), (36844, 4), (36845, 4), (36846, 4), (36847, 4), (36848, 4), (36849, 4), (36850, 4), (36851, 4), (36852, 4), (36853, 4), (36854, 4), (36855, 4), (36856, 4), (36857, 4), (36858, 4), (36859, 4), (36860, 4), (36861, 4), (36862, 4), (36863, 4), (36864, 4), (36865, 4), (36866, 4), (36867, 4), (36868, 4), (36869, 4), (36870, 4), (36871, 4), (36872, 4), (36873, 4), (36874, 4), (36875, 4), (36876, 4), (36877, 4), (36878, 4), (36879, 4), (36880, 4), (36881, 4), (36882, 4), (36883, 4), (36884, 4), (36885, 4), (36886, 4), (36887, 4), (36888, 4), (36889, 4), (36890, 4), (36891, 4), (36892, 4), (36893, 4), (36894, 4), (36895, 4), (36896, 4), (36897, 4), (36898, 4), (36899, 4), (36900, 4), (36901, 4), (36902, 4), (36903, 4), (36904, 4), (36905, 4), (36906, 4), (36907, 4), (36908, 4), (36909, 4), (36910, 4), (36911, 4), (36912, 4), (36913, 4), (36914, 4), (36915, 4), (36916, 4), (36917, 4), (36918, 4), (36919, 4), (36920, 4), (36921, 4), (36922, 4), (36923, 4), (36924, 4), (36925, 4), (36926, 4), (36927, 4), (36928, 4), (36929, 4), (36930, 4), (36931, 4), (36932, 4), (36933, 4), (36934, 4), (36935, 4), (36936, 4), (36937, 4), (36938, 4), (36939, 3), (36940, 3), (36941, 3), (36942, 3), (36943, 3), (36944, 3), (36945, 3), (36946, 3), (36947, 3), (36948, 3), (36949, 3), (36950, 3), (36951, 3), (36952, 3), (36953, 3), (36954, 3), (36955, 3), (36956, 3), (36957, 3), (36958, 3), (36959, 3), (36960, 3), (36961, 3), (36962, 3), (36963, 3), (36964, 3), (36965, 3), (36966, 3), (36967, 3), (36968, 3), (36969, 3), (36970, 3), (36971, 3), (36972, 3), (36973, 3), (36974, 3), (36975, 3), (36976, 3), (36977, 3), (36978, 3), (36979, 3), (36980, 3), (36981, 3), (36982, 3), (36983, 3), (36984, 3), (36985, 3), (36986, 3), (36987, 3), (36988, 3), (36989, 3), (36990, 3), (36991, 3), (36992, 3), (36993, 3), (36994, 3), (36995, 3), (36996, 3), (36997, 3), (36998, 3), (36999, 3), (37000, 3), (37001, 3), (37002, 3), (37003, 3), (37004, 3), (37005, 3), (37006, 3), (37007, 3), (37008, 3), (37009, 3), (37010, 3), (37011, 3), (37012, 3), (37013, 3), (37014, 3), (37015, 3), (37016, 3), (37017, 3), (37018, 3), (37019, 3), (37020, 3), (37021, 3), (37022, 3), (37023, 3), (37024, 3), (37025, 3), (37026, 3), (37027, 3), (37028, 3), (37029, 3), (37030, 3), (37031, 3), (37032, 3), (37033, 3), (37034, 3), (37035, 3), (37036, 3), (37037, 3), (37038, 3), (37039, 3), (37040, 3), (37041, 3), (37042, 3), (37043, 3), (37044, 3), (37045, 3), (37046, 3), (37047, 3), (37048, 3), (37049, 3), (37050, 3), (37051, 3), (37052, 3), (37053, 3), (37054, 3), (37055, 3), (37056, 3), (37057, 3), (37058, 3), (37059, 3), (37060, 3), (37061, 3), (37062, 3), (37063, 3), (37064, 3), (37065, 3), (37066, 3), (37067, 3), (37068, 3), (37069, 3), (37070, 3), (37071, 3), (37072, 3), (37073, 3), (37074, 3), (37075, 3), (37076, 3), (37077, 3), (37078, 3), (37079, 3), (37080, 3), (37081, 3), (37082, 3), (37083, 3), (37084, 3), (37085, 3), (37086, 3), (37087, 3), (37088, 3), (37089, 3), (37090, 3), (37091, 3), (37092, 3), (37093, 3), (37094, 3), (37095, 3), (37096, 3), (37097, 3), (37098, 3), (37099, 3), (37100, 3), (37101, 3), (37102, 3), (37103, 3), (37104, 3), (37105, 3), (37106, 3), (37107, 3), (37108, 3), (37109, 3), (37110, 3), (37111, 3), (37112, 3), (37113, 3), (37114, 3), (37115, 3), (37116, 3), (37117, 1), (37118, 1), (37119, 1), (37120, 1), (37121, 1), (37122, 1), (37123, 1), (37124, 1), (37125, 1), (37126, 1), (37127, 1), (37128, 1), (37129, 1), (37130, 1), (37131, 1), (37132, 1), (37133, 1), (37134, 1), (37135, 1), (37136, 1), (37137, 1), (37138, 1), (37139, 1), (37140, 1), (37141, 1), (37142, 1), (37143, 1), (37144, 1), (37145, 1), (37146, 1), (37147, 1), (37148, 1), (37149, 1), (37150, 1), (37151, 1), (37152, 1), (37153, 1), (37154, 1), (37155, 1), (37156, 1), (37157, 1), (37158, 1), (37159, 1), (37160, 1), (37161, 1), (37162, 1), (37163, 1), (37164, 1), (37165, 1), (37166, 1), (37167, 1), (37168, 1), (37169, 1), (37170, 1), (37171, 1), (37172, 1), (37173, 1), (37174, 1), (37175, 1), (37176, 1), (37177, 1), (37178, 1), (37179, 1), (37180, 1), (37181, 1), (37182, 1), (37183, 1), (37184, 1), (37185, 1), (37186, 1), (37187, 1), (37188, 1), (37189, 1), (37190, 1), (37191, 1), (37192, 1), (37193, 1), (37194, 1), (37195, 1), (37196, 1), (37197, 1), (37198, 1), (37199, 1), (37200, 1), (37201, 1), (37202, 1), (37203, 1), (37204, 1), (37205, 1), (37206, 1), (37207, 1), (37208, 1), (37209, 1), (37210, 1), (37211, 1), (37212, 1), (37213, 1), (37214, 1), (37215, 1), (37216, 1), (37217, 1), (37218, 1), (37219, 1), (37220, 1), (37221, 1), (37222, 1), (37223, 1), (37224, 1), (37225, 1), (37226, 1), (37227, 1), (37228, 1), (37229, 1), (37230, 1), (37231, 1), (37232, 1), (37233, 1), (37234, 1), (37235, 1), (37236, 1), (37237, 1), (37238, 1), (37239, 1), (37240, 1), (37241, 1), (37242, 1), (37243, 1), (37244, 1), (37245, 1), (37246, 1), (37247, 1), (37248, 1), (37249, 1), (37250, 1), (37251, 1), (37252, 1), (37253, 1), (37254, 1), (37255, 1), (37256, 1), (37257, 1), (37258, 1), (37259, 1), (37260, 1), (37261, 1), (37262, 1), (37263, 1), (37264, 1), (37265, 1), (37266, 1), (37267, 1), (37268, 1), (37269, 1), (37270, 1), (37271, 1), (37272, 1), (37273, 1), (37274, 1), (37275, 1), (37276, 1), (37277, 1), (37278, 1), (37279, 1), (37280, 1), (37281, 1), (37282, 1), (37283, 1), (37284, 1), (37285, 1), (37286, 1), (37287, 1), (37288, 1), (37289, 1), (37290, 1), (37291, 1), (37292, 1), (37293, 1), (37294, 1), (37295, 1), (37296, 1), (37297, 1), (37298, 1), (37299, 1), (37300, 1), (37301, 1), (37302, 1), (37303, 1), (37304, 1), (37305, 1), (37306, 1), (37307, 1), (37308, 1), (37309, 1), (37310, 1), (37311, 1), (37312, 1), (37313, 1), (37314, 1), (37315, 1), (37316, 1), (37317, 1), (37318, 1), (37319, 1), (37320, 1), (37321, 1), (37322, 1), (37323, 1), (37324, 1), (37325, 1), (37326, 1), (37327, 1), (37328, 1), (37329, 1), (37330, 1), (37331, 1), (37332, 1), (37333, 1), (37334, 1), (37335, 1), (37336, 1), (37337, 1), (37338, 1), (37339, 1), (37340, 1), (37341, 1), (37342, 1), (37343, 1), (37344, 1), (37345, 1), (37346, 1), (37347, 1), (37348, 1), (37349, 1), (37350, 1), (37351, 1), (37352, 1), (37353, 1), (37354, 1), (37355, 1), (37356, 1), (37357, 1), (37358, 1), (37359, 1), (37360, 1), (37361, 1), (37362, 1), (37363, 1), (37364, 1), (37365, 1), (37366, 1), (37367, 1), (37368, 1), (37369, 1), (37370, 1), (37371, 1), (37372, 1), (37373, 1), (37374, 1), (37375, 1), (37376, 1), (37377, 1), (37378, 1), (37379, 1), (37380, 1), (37381, 1), (37382, 1), (37383, 1), (37384, 1), (37385, 1), (37386, 1), (37387, 1), (37388, 1), (37389, 1), (37390, 1), (37391, 1), (37392, 1), (37393, 1), (37394, 1), (37395, 1), (37396, 1), (37397, 1), (37398, 1), (37399, 1), (37400, 1), (37401, 1), (37402, 1), (37403, 1), (37404, 1), (37405, 1), (37406, 1), (37407, 1), (37408, 1), (37409, 1), (37410, 1), (37411, 1), (37412, 1), (37413, 1), (37414, 1), (37415, 1), (37416, 1), (37417, 1), (37418, 1), (37419, 1), (37420, 1), (37421, 1), (37422, 1), (37423, 1), (37424, 1), (37425, 1), (37426, 1), (37427, 1), (37428, 1), (37429, 1), (37430, 1), (37431, 1), (37432, 1), (37433, 1), (37434, 1), (37435, 1), (37436, 1), (37437, 1), (37438, 1), (37439, 1), (37440, 1), (37441, 1), (37442, 1), (37443, 1), (37444, 1), (37445, 1), (37446, 1), (37447, 1), (37448, 1), (37449, 1), (37450, 1), (37451, 1), (37452, 1), (37453, 1), (37454, 1), (37455, 1), (37456, 1), (37457, 1), (37458, 1), (37459, 1), (37460, 1), (37461, 1), (37462, 1), (37463, 1), (37464, 1), (37465, 1), (37466, 1), (37467, 1), (37468, 1), (37469, 1), (37470, 1), (37471, 1), (37472, 1), (37473, 1), (37474, 1), (37475, 1), (37476, 1), (37477, 1), (37478, 1), (37479, 1), (37480, 1), (37481, 1), (37482, 1), (37483, 1), (37484, 1), (37485, 1), (37486, 1), (37487, 1), (37488, 1), (37489, 1), (37490, 1), (37491, 1), (37492, 1), (37493, 1), (37494, 1), (37495, 1), (37496, 1), (37497, 1), (37498, 1), (37499, 1), (37500, 1), (37501, 1), (37502, 1), (37503, 1), (37504, 1), (37505, 1), (37506, 1), (37507, 1), (37508, 1), (37509, 1), (37510, 1), (37511, 1), (37512, 1), (37513, 1), (37514, 1), (37515, 1), (37516, 1), (37517, 1), (37518, 1), (37519, 1), (37520, 1), (37521, 1), (37522, 1), (37523, 1), (37524, 1), (37525, 1), (37526, 1), (37527, 1), (37528, 1), (37529, 1), (37530, 1), (37531, 1), (37532, 1), (37533, 1), (37534, 1), (37535, 1), (37536, 1), (37537, 1), (37538, 1), (37539, 1), (37540, 1), (37541, 1), (37542, 1), (37543, 1), (37544, 1), (37545, 1), (37546, 1), (37547, 1), (37548, 1), (37549, 1), (37550, 1), (37551, 1), (37552, 1), (37553, 1), (37554, 1), (37555, 1), (37556, 1), (37557, 1), (37558, 1), (37559, 1), (37560, 1), (37561, 1), (37562, 1), (37563, 1), (37564, 1), (37565, 1), (37566, 1), (37567, 1), (37568, 1), (37569, 1), (37570, 1), (37571, 1), (37572, 1), (37573, 1), (37574, 1), (37575, 1), (37576, 1), (37577, 1), (37578, 1), (37579, 1), (37580, 1), (37581, 1), (37582, 1), (37583, 1), (37584, 1), (37585, 1), (37586, 1), (37587, 1), (37588, 1), (37589, 1), (37590, 1), (37591, 1), (37592, 1), (37593, 1), (37594, 1), (37595, 1), (37596, 1), (37597, 1), (37598, 1), (37599, 1), (37600, 1), (37601, 1), (37602, 1), (37603, 1), (37604, 1), (37605, 1), (37606, 1), (37607, 1), (37608, 1), (37609, 1), (37610, 1), (37611, 1), (37612, 1), (37613, 1), (37614, 1), (37615, 1), (37616, 1), (37617, 1), (37618, 1), (37619, 1), (37620, 1), (37621, 1), (37622, 1), (37623, 1), (37624, 1), (37625, 1), (37626, 1), (37627, 1), (37628, 1), (37629, 1), (37630, 1), (37631, 1), (37632, 1), (37633, 1), (37634, 1), (37635, 1), (37636, 1), (37637, 1), (37638, 1), (37639, 1), (37640, 1), (37641, 1), (37642, 1), (37643, 1), (37644, 1), (37645, 1), (37646, 1), (37647, 1), (37648, 1), (37649, 1), (37650, 1), (37651, 1), (37652, 1), (37653, 1), (37654, 1), (37655, 1), (37656, 1), (37657, 1), (37658, 1), (37659, 1), (37660, 1), (37661, 1), (37662, 1), (37663, 1), (37664, 1), (37665, 1), (37666, 1), (37667, 1), (37668, 1), (37669, 1), (37670, 1), (37671, 1), (37672, 1), (37673, 1), (37674, 1), (37675, 1), (37676, 1), (37677, 1), (37678, 1), (37679, 1), (37680, 1), (37681, 1), (37682, 1), (37683, 1), (37684, 1), (37685, 1), (37686, 1), (37687, 1), (37688, 1), (37689, 1), (37690, 1), (37691, 1), (37692, 1), (37693, 1), (37694, 1), (37695, 1), (37696, 1), (37697, 1), (37698, 1), (37699, 1), (37700, 1), (37701, 1), (37702, 1), (37703, 1), (37704, 1), (37705, 1), (37706, 1), (37707, 1), (37708, 1), (37709, 1), (37710, 1), (37711, 1), (37712, 1), (37713, 1), (37714, 1), (37715, 1), (37716, 1), (37717, 1), (37718, 1), (37719, 1), (37720, 1), (37721, 1), (37722, 1), (37723, 1), (37724, 1), (37725, 1), (37726, 1), (37727, 1), (37728, 1), (37729, 1), (37730, 1), (37731, 1), (37732, 1), (37733, 1), (37734, 1), (37735, 1), (37736, 1), (37737, 1), (37738, 1), (37739, 1), (37740, 1), (37741, 1), (37742, 1), (37743, 1), (37744, 1), (37745, 1), (37746, 1), (37747, 1), (37748, 1), (37749, 1), (37750, 1), (37751, 1), (37752, 1), (37753, 1), (37754, 1), (37755, 1), (37756, 1), (37757, 1), (37758, 1), (37759, 1), (37760, 1), (37761, 1), (37762, 1), (37763, 1), (37764, 1), (37765, 1), (37766, 1), (37767, 1), (37768, 1), (37769, 1), (37770, 1), (37771, 1), (37772, 1), (37773, 1), (37774, 1), (37775, 1), (37776, 1), (37777, 1), (37778, 1), (37779, 1), (37780, 1), (37781, 1), (37782, 1), (37783, 1), (37784, 1), (37785, 1), (37786, 1), (37787, 1), (37788, 1), (37789, 1), (37790, 1), (37791, 1), (37792, 1), (37793, 1), (37794, 1), (37795, 1), (37796, 1), (37797, 1), (37798, 1), (37799, 1), (37800, 1), (37801, 1), (37802, 1), (37803, 1), (37804, 1), (37805, 1), (37806, 1), (37807, 1), (37808, 1), (37809, 1), (37810, 1), (37811, 1), (37812, 1), (37813, 1), (37814, 1), (37815, 1), (37816, 1), (37817, 1), (37818, 1), (37819, 1), (37820, 1), (37821, 1), (37822, 1), (37823, 1), (37824, 1), (37825, 1), (37826, 1), (37827, 1), (37828, 1), (37829, 1), (37830, 1), (37831, 1), (37832, 1), (37833, 1), (37834, 1), (37835, 1), (37836, 1), (37837, 1), (37838, 1), (37839, 1), (37840, 1), (37841, 1), (37842, 1), (37843, 1), (37844, 1), (37845, 1), (37846, 1), (37847, 1), (37848, 1), (37849, 1), (37850, 1), (37851, 1), (37852, 1), (37853, 1), (37854, 1), (37855, 1), (37856, 1), (37857, 1), (37858, 1), (37859, 1), (37860, 1), (37861, 1), (37862, 1), (37863, 1), (37864, 1), (37865, 1), (37866, 1), (37867, 1), (37868, 1), (37869, 1), (37870, 1), (37871, 1), (37872, 1), (37873, 1), (37874, 1), (37875, 1), (37876, 1), (37877, 1), (37878, 1), (37879, 1), (37880, 1), (37881, 1), (37882, 1), (37883, 1), (37884, 1), (37885, 1), (37886, 1), (37887, 9), (37888, 9), (37889, 9), (37890, 9), (37891, 9), (37892, 9), (37893, 9), (37894, 9), (37895, 9), (37896, 9), (37897, 9), (37898, 9), (37899, 9), (37900, 9), (37901, 9), (37902, 9), (37903, 9), (37904, 9), (37905, 9), (37906, 9), (37907, 9), (37908, 9), (37909, 9), (37910, 9), (37911, 9), (37912, 9), (37913, 9), (37914, 9), (37915, 9), (37916, 9), (37917, 9), (37918, 9), (37919, 9), (37920, 9), (37921, 9), (37922, 9), (37923, 9), (37924, 9), (37925, 9), (37926, 9), (37927, 9), (37928, 9), (37929, 9), (37930, 9), (37931, 9), (37932, 9), (37933, 9), (37934, 9), (37935, 9), (37936, 9), (37937, 9), (37938, 9), (37939, 9), (37940, 9), (37941, 9), (37942, 9), (37943, 9), (37944, 9), (37945, 9), (37946, 9), (37947, 9), (37948, 9), (37949, 9), (37950, 9), (37951, 9), (37952, 9), (37953, 9), (37954, 9), (37955, 9), (37956, 9), (37957, 9), (37958, 9), (37959, 9), (37960, 9), (37961, 9), (37962, 9), (37963, 9), (37964, 9), (37965, 9), (37966, 9), (37967, 9), (37968, 9), (37969, 9), (37970, 9), (37971, 9), (37972, 9), (37973, 9), (37974, 9), (37975, 9), (37976, 9), (37977, 9), (37978, 9), (37979, 9), (37980, 9), (37981, 9), (37982, 9), (37983, 9), (37984, 9), (37985, 9), (37986, 9), (37987, 9), (37988, 9), (37989, 9), (37990, 9), (37991, 9), (37992, 9), (37993, 9), (37994, 9), (37995, 9), (37996, 9), (37997, 9), (37998, 9), (37999, 9), (38000, 9), (38001, 9), (38002, 9), (38003, 9), (38004, 9), (38005, 9), (38006, 9), (38007, 9), (38008, 9), (38009, 9), (38010, 9), (38011, 9), (38012, 9), (38013, 9), (38014, 9), (38015, 9), (38016, 9), (38017, 9), (38018, 9), (38019, 9), (38020, 9), (38021, 9), (38022, 9), (38023, 9), (38024, 9), (38025, 9), (38026, 9), (38027, 9), (38028, 9), (38029, 9), (38030, 9), (38031, 9), (38032, 9), (38033, 9), (38034, 9), (38035, 9), (38036, 9), (38037, 9), (38038, 9), (38039, 9), (38040, 9), (38041, 9), (38042, 9), (38043, 9), (38044, 9), (38045, 9), (38046, 9), (38047, 9), (38048, 9), (38049, 9), (38050, 9), (38051, 9), (38052, 9), (38053, 9), (38054, 9), (38055, 9), (38056, 9), (38057, 9), (38058, 9), (38059, 9), (38060, 9), (38061, 9), (38062, 9), (38063, 9), (38064, 9), (38065, 9), (38066, 9), (38067, 9), (38068, 9), (38069, 9), (38070, 9), (38071, 9), (38072, 9), (38073, 9), (38074, 9), (38075, 9), (38076, 9), (38077, 9), (38078, 9), (38079, 9), (38080, 9), (38081, 9), (38082, 9), (38083, 9), (38084, 9), (38085, 9), (38086, 9), (38087, 9), (38088, 9), (38089, 9), (38090, 9), (38091, 9), (38092, 9), (38093, 9), (38094, 9), (38095, 9), (38096, 9), (38097, 9), (38098, 9), (38099, 9), (38100, 9), (38101, 9), (38102, 9), (38103, 9), (38104, 9), (38105, 9), (38106, 9), (38107, 9), (38108, 9), (38109, 9), (38110, 9), (38111, 9), (38112, 9), (38113, 9), (38114, 9), (38115, 9), (38116, 9), (38117, 9), (38118, 9), (38119, 9), (38120, 9), (38121, 9), (38122, 9), (38123, 9), (38124, 9), (38125, 9), (38126, 9), (38127, 9), (38128, 9), (38129, 9), (38130, 9), (38131, 9), (38132, 9), (38133, 9), (38134, 9), (38135, 9), (38136, 9), (38137, 9), (38138, 9), (38139, 9), (38140, 9), (38141, 9), (38142, 9), (38143, 9), (38144, 9), (38145, 9), (38146, 9), (38147, 9), (38148, 9), (38149, 9), (38150, 9), (38151, 9), (38152, 9), (38153, 9), (38154, 8), (38155, 8), (38156, 8), (38157, 8), (38158, 8), (38159, 8), (38160, 8), (38161, 8), (38162, 8), (38163, 8), (38164, 8), (38165, 8), (38166, 8), (38167, 8), (38168, 8), (38169, 8), (38170, 8), (38171, 8), (38172, 8), (38173, 8), (38174, 8), (38175, 8), (38176, 8), (38177, 8), (38178, 8), (38179, 8), (38180, 8), (38181, 8), (38182, 8), (38183, 8), (38184, 8), (38185, 8), (38186, 8), (38187, 8), (38188, 8), (38189, 8), (38190, 8), (38191, 8), (38192, 8), (38193, 8), (38194, 8), (38195, 8), (38196, 8), (38197, 8), (38198, 8), (38199, 8), (38200, 8), (38201, 8), (38202, 8), (38203, 8), (38204, 8), (38205, 8), (38206, 8), (38207, 8), (38208, 8), (38209, 8), (38210, 8), (38211, 8), (38212, 8), (38213, 8), (38214, 8), (38215, 8), (38216, 8), (38217, 8), (38218, 8), (38219, 8), (38220, 8), (38221, 8), (38222, 8), (38223, 8), (38224, 8), (38225, 8), (38226, 8), (38227, 8), (38228, 8), (38229, 8), (38230, 8), (38231, 8), (38232, 8), (38233, 8), (38234, 8), (38235, 8), (38236, 8), (38237, 8), (38238, 8), (38239, 8), (38240, 8), (38241, 8), (38242, 8), (38243, 8), (38244, 8), (38245, 8), (38246, 8), (38247, 8), (38248, 8), (38249, 8), (38250, 8), (38251, 8), (38252, 8), (38253, 8), (38254, 8), (38255, 8), (38256, 8), (38257, 8), (38258, 8), (38259, 8), (38260, 8), (38261, 8), (38262, 8), (38263, 8), (38264, 8), (38265, 8), (38266, 8), (38267, 8), (38268, 8), (38269, 8), (38270, 8), (38271, 8), (38272, 8), (38273, 8), (38274, 8), (38275, 8), (38276, 8), (38277, 8), (38278, 8), (38279, 8), (38280, 8), (38281, 8), (38282, 8), (38283, 8), (38284, 8), (38285, 8), (38286, 8), (38287, 8), (38288, 8), (38289, 8), (38290, 8), (38291, 8), (38292, 8), (38293, 8), (38294, 8), (38295, 8), (38296, 8), (38297, 8), (38298, 8), (38299, 8), (38300, 8), (38301, 8), (38302, 8), (38303, 8), (38304, 8), (38305, 8), (38306, 8), (38307, 8), (38308, 8), (38309, 8), (38310, 8), (38311, 8), (38312, 8), (38313, 8), (38314, 8), (38315, 8), (38316, 8), (38317, 8), (38318, 8), (38319, 8), (38320, 8), (38321, 8), (38322, 8), (38323, 8), (38324, 8), (38325, 8), (38326, 8), (38327, 8), (38328, 8), (38329, 8), (38330, 8), (38331, 8), (38332, 8), (38333, 8), (38334, 8), (38335, 8), (38336, 8), (38337, 8), (38338, 8), (38339, 8), (38340, 8), (38341, 8), (38342, 8), (38343, 8), (38344, 8), (38345, 8), (38346, 8), (38347, 8), (38348, 8), (38349, 8), (38350, 8), (38351, 8), (38352, 8), (38353, 8), (38354, 8), (38355, 8), (38356, 8), (38357, 8), (38358, 8), (38359, 8), (38360, 8), (38361, 8), (38362, 8), (38363, 8), (38364, 8), (38365, 8), (38366, 8), (38367, 8), (38368, 8), (38369, 8), (38370, 8), (38371, 8), (38372, 8), (38373, 8), (38374, 8), (38375, 8), (38376, 8), (38377, 8), (38378, 8), (38379, 8), (38380, 8), (38381, 8), (38382, 8), (38383, 8), (38384, 8), (38385, 8), (38386, 8), (38387, 8), (38388, 8), (38389, 8), (38390, 8), (38391, 8), (38392, 8), (38393, 8), (38394, 8), (38395, 8), (38396, 8), (38397, 8), (38398, 8), (38399, 8), (38400, 8), (38401, 8), (38402, 8), (38403, 8), (38404, 8), (38405, 8), (38406, 8), (38407, 8), (38408, 8), (38409, 8), (38410, 8), (38411, 8), (38412, 8), (38413, 8), (38414, 8), (38415, 8), (38416, 8), (38417, 8), (38418, 8), (38419, 8), (38420, 8), (38421, 8), (38422, 8), (38423, 8), (38424, 8), (38425, 8), (38426, 8), (38427, 8), (38428, 8), (38429, 8), (38430, 8), (38431, 8), (38432, 8), (38433, 8), (38434, 8), (38435, 8), (38436, 8), (38437, 8), (38438, 8), (38439, 8), (38440, 8), (38441, 8), (38442, 8), (38443, 8), (38444, 8), (38445, 8), (38446, 8), (38447, 8), (38448, 8), (38449, 8), (38450, 8), (38451, 8), (38452, 8), (38453, 8), (38454, 8), (38455, 8), (38456, 8), (38457, 8), (38458, 8), (38459, 8), (38460, 8), (38461, 8), (38462, 8), (38463, 8), (38464, 8), (38465, 8), (38466, 8), (38467, 8), (38468, 8), (38469, 8), (38470, 8), (38471, 8), (38472, 8), (38473, 8), (38474, 8), (38475, 8), (38476, 8), (38477, 8), (38478, 8), (38479, 8), (38480, 8), (38481, 8), (38482, 8), (38483, 8), (38484, 8), (38485, 8), (38486, 8), (38487, 8), (38488, 8), (38489, 8), (38490, 8), (38491, 8), (38492, 8), (38493, 8), (38494, 8), (38495, 8), (38496, 8), (38497, 8), (38498, 8), (38499, 8), (38500, 8), (38501, 8), (38502, 8), (38503, 8), (38504, 8), (38505, 8), (38506, 8), (38507, 8), (38508, 8), (38509, 8), (38510, 8), (38511, 8), (38512, 8), (38513, 8), (38514, 8), (38515, 8), (38516, 8), (38517, 8), (38518, 8), (38519, 8), (38520, 8), (38521, 8), (38522, 8), (38523, 8), (38524, 8), (38525, 8), (38526, 8), (38527, 8), (38528, 8), (38529, 8), (38530, 8), (38531, 8), (38532, 8), (38533, 8), (38534, 8), (38535, 8), (38536, 8), (38537, 8), (38538, 8), (38539, 8), (38540, 8), (38541, 8), (38542, 8), (38543, 8), (38544, 8), (38545, 8), (38546, 8), (38547, 8), (38548, 8), (38549, 8), (38550, 8), (38551, 8), (38552, 8), (38553, 8), (38554, 8), (38555, 8), (38556, 8), (38557, 8), (38558, 8), (38559, 8), (38560, 8), (38561, 8), (38562, 8), (38563, 8), (38564, 8), (38565, 8), (38566, 8), (38567, 8), (38568, 8), (38569, 8), (38570, 8), (38571, 8), (38572, 8), (38573, 8), (38574, 8), (38575, 8), (38576, 8), (38577, 8), (38578, 8), (38579, 8), (38580, 8), (38581, 8), (38582, 8), (38583, 8), (38584, 8), (38585, 8), (38586, 8), (38587, 8), (38588, 8), (38589, 8), (38590, 8), (38591, 8), (38592, 8), (38593, 8), (38594, 8), (38595, 8), (38596, 8), (38597, 8), (38598, 8), (38599, 8), (38600, 8), (38601, 7), (38602, 7), (38603, 7), (38604, 7), (38605, 7), (38606, 7), (38607, 7), (38608, 7), (38609, 7), (38610, 7), (38611, 7), (38612, 7), (38613, 7), (38614, 7), (38615, 7), (38616, 7), (38617, 7), (38618, 7), (38619, 7), (38620, 7), (38621, 7), (38622, 7), (38623, 7), (38624, 7), (38625, 7), (38626, 7), (38627, 7), (38628, 7), (38629, 7), (38630, 7), (38631, 7), (38632, 7), (38633, 7), (38634, 7), (38635, 7), (38636, 7), (38637, 7), (38638, 7), (38639, 7), (38640, 7), (38641, 7), (38642, 7), (38643, 7), (38644, 7), (38645, 7), (38646, 7), (38647, 7), (38648, 7), (38649, 7), (38650, 7), (38651, 7), (38652, 7), (38653, 7), (38654, 7), (38655, 7), (38656, 7), (38657, 7), (38658, 7), (38659, 7), (38660, 7), (38661, 7), (38662, 7), (38663, 7), (38664, 7), (38665, 7), (38666, 7), (38667, 7), (38668, 7), (38669, 7), (38670, 7), (38671, 7), (38672, 7), (38673, 7), (38674, 7), (38675, 7), (38676, 7), (38677, 7), (38678, 7), (38679, 7), (38680, 7), (38681, 7), (38682, 7), (38683, 7), (38684, 7), (38685, 7), (38686, 7), (38687, 7), (38688, 7), (38689, 7), (38690, 7), (38691, 7), (38692, 7), (38693, 7), (38694, 7), (38695, 7), (38696, 7), (38697, 7), (38698, 7), (38699, 7), (38700, 7), (38701, 7), (38702, 7), (38703, 7), (38704, 7), (38705, 7), (38706, 7), (38707, 7), (38708, 7), (38709, 7), (38710, 7), (38711, 7), (38712, 7), (38713, 7), (38714, 7), (38715, 7), (38716, 7), (38717, 7), (38718, 7), (38719, 7), (38720, 7), (38721, 7), (38722, 7), (38723, 7), (38724, 7), (38725, 7), (38726, 7), (38727, 7), (38728, 7), (38729, 7), (38730, 7), (38731, 7), (38732, 7), (38733, 7), (38734, 7), (38735, 7), (38736, 7), (38737, 7), (38738, 7), (38739, 7), (38740, 7), (38741, 7), (38742, 7), (38743, 7), (38744, 7), (38745, 7), (38746, 7), (38747, 7), (38748, 7), (38749, 7), (38750, 7), (38751, 7), (38752, 7), (38753, 7), (38754, 7), (38755, 7), (38756, 7), (38757, 7), (38758, 7), (38759, 7), (38760, 7), (38761, 7), (38762, 7), (38763, 7), (38764, 7), (38765, 7), (38766, 7), (38767, 7), (38768, 7), (38769, 7), (38770, 7), (38771, 7), (38772, 7), (38773, 7), (38774, 7), (38775, 7), (38776, 7), (38777, 7), (38778, 7), (38779, 7), (38780, 7), (38781, 7), (38782, 7), (38783, 7), (38784, 7), (38785, 7), (38786, 7), (38787, 7), (38788, 7), (38789, 7), (38790, 7), (38791, 7), (38792, 7), (38793, 7), (38794, 7), (38795, 7), (38796, 7), (38797, 7), (38798, 7), (38799, 7), (38800, 7), (38801, 7), (38802, 7), (38803, 7), (38804, 7), (38805, 7), (38806, 7), (38807, 7), (38808, 7), (38809, 7), (38810, 7), (38811, 7), (38812, 7), (38813, 7), (38814, 7), (38815, 7), (38816, 7), (38817, 7), (38818, 7), (38819, 7), (38820, 7), (38821, 7), (38822, 7), (38823, 7), (38824, 7), (38825, 7), (38826, 7), (38827, 7), (38828, 7), (38829, 7), (38830, 7), (38831, 7), (38832, 7), (38833, 7), (38834, 7), (38835, 7), (38836, 7), (38837, 7), (38838, 7), (38839, 7), (38840, 7), (38841, 7), (38842, 7), (38843, 7), (38844, 7), (38845, 7), (38846, 7), (38847, 7), (38848, 7), (38849, 7), (38850, 7), (38851, 7), (38852, 7), (38853, 7), (38854, 7), (38855, 7), (38856, 7), (38857, 7), (38858, 7), (38859, 7), (38860, 7), (38861, 7), (38862, 7), (38863, 7), (38864, 7), (38865, 7), (38866, 7), (38867, 7), (38868, 7), (38869, 7), (38870, 7), (38871, 7), (38872, 7), (38873, 7), (38874, 7), (38875, 7), (38876, 7), (38877, 7), (38878, 7), (38879, 7), (38880, 7), (38881, 7), (38882, 7), (38883, 7), (38884, 7), (38885, 7), (38886, 7), (38887, 7), (38888, 7), (38889, 7), (38890, 7), (38891, 7), (38892, 7), (38893, 7), (38894, 7), (38895, 7), (38896, 7), (38897, 7), (38898, 7), (38899, 7), (38900, 7), (38901, 7), (38902, 7), (38903, 7), (38904, 7), (38905, 7), (38906, 7), (38907, 7), (38908, 7), (38909, 7), (38910, 7), (38911, 7), (38912, 7), (38913, 7), (38914, 7), (38915, 7), (38916, 7), (38917, 7), (38918, 7), (38919, 7), (38920, 7), (38921, 7), (38922, 7), (38923, 7), (38924, 7), (38925, 7), (38926, 7), (38927, 7), (38928, 7), (38929, 7), (38930, 7), (38931, 7), (38932, 7), (38933, 7), (38934, 7), (38935, 7), (38936, 7), (38937, 7), (38938, 7), (38939, 7), (38940, 7), (38941, 7), (38942, 7), (38943, 7), (38944, 7), (38945, 7), (38946, 7), (38947, 7), (38948, 7), (38949, 7), (38950, 7), (38951, 7), (38952, 7), (38953, 7), (38954, 7), (38955, 7), (38956, 7), (38957, 7), (38958, 2), (38959, 2), (38960, 2), (38961, 2), (38962, 2), (38963, 2), (38964, 2), (38965, 2), (38966, 2), (38967, 2), (38968, 2), (38969, 2), (38970, 2), (38971, 2), (38972, 2), (38973, 2), (38974, 2), (38975, 2), (38976, 2), (38977, 2), (38978, 2), (38979, 2), (38980, 2), (38981, 2), (38982, 2), (38983, 2), (38984, 2), (38985, 2), (38986, 2), (38987, 2), (38988, 2), (38989, 2), (38990, 2), (38991, 2), (38992, 2), (38993, 2), (38994, 2), (38995, 2), (38996, 2), (38997, 2), (38998, 2), (38999, 2), (39000, 2), (39001, 2), (39002, 2), (39003, 2), (39004, 2), (39005, 2), (39006, 2), (39007, 2), (39008, 2), (39009, 2), (39010, 2), (39011, 2), (39012, 2), (39013, 2), (39014, 2), (39015, 2), (39016, 2), (39017, 2), (39018, 2), (39019, 2), (39020, 2), (39021, 2), (39022, 2), (39023, 2), (39024, 2), (39025, 2), (39026, 2), (39027, 2), (39028, 2), (39029, 2), (39030, 2), (39031, 2), (39032, 2), (39033, 2), (39034, 2), (39035, 2), (39036, 2), (39037, 2), (39038, 2), (39039, 2), (39040, 2), (39041, 2), (39042, 2), (39043, 2), (39044, 2), (39045, 2), (39046, 2), (39047, 2), (39048, 2), (39049, 2), (39050, 2), (39051, 2), (39052, 2), (39053, 2), (39054, 2), (39055, 2), (39056, 2), (39057, 2), (39058, 2), (39059, 2), (39060, 2), (39061, 2), (39062, 2), (39063, 2), (39064, 2), (39065, 2), (39066, 2), (39067, 2), (39068, 2), (39069, 2), (39070, 2), (39071, 2), (39072, 2), (39073, 2), (39074, 2), (39075, 2), (39076, 2), (39077, 2), (39078, 2), (39079, 2), (39080, 2), (39081, 2), (39082, 2), (39083, 2), (39084, 2), (39085, 2), (39086, 2), (39087, 2), (39088, 2), (39089, 2), (39090, 2), (39091, 2), (39092, 2), (39093, 2), (39094, 2), (39095, 2), (39096, 2), (39097, 2), (39098, 2), (39099, 2), (39100, 2), (39101, 2), (39102, 2), (39103, 2), (39104, 2), (39105, 2), (39106, 2), (39107, 2), (39108, 2), (39109, 2), (39110, 2), (39111, 2), (39112, 2), (39113, 2), (39114, 2), (39115, 2), (39116, 2), (39117, 2), (39118, 2), (39119, 2), (39120, 2), (39121, 2), (39122, 2), (39123, 2), (39124, 2), (39125, 2), (39126, 2), (39127, 2), (39128, 2), (39129, 2), (39130, 5), (39131, 5), (39132, 5), (39133, 5), (39134, 5), (39135, 5), (39136, 5), (39137, 5), (39138, 5), (39139, 5), (39140, 5), (39141, 5), (39142, 5), (39143, 5), (39144, 5), (39145, 5), (39146, 5), (39147, 5), (39148, 5), (39149, 5), (39150, 5), (39151, 5), (39152, 5), (39153, 5), (39154, 5), (39155, 5), (39156, 5), (39157, 5), (39158, 5), (39159, 5), (39160, 5), (39161, 5), (39162, 5), (39163, 5), (39164, 5), (39165, 5), (39166, 5), (39167, 5), (39168, 5), (39169, 5), (39170, 5), (39171, 5), (39172, 5), (39173, 5), (39174, 5), (39175, 5), (39176, 5), (39177, 5), (39178, 5), (39179, 5), (39180, 5), (39181, 5), (39182, 5), (39183, 5), (39184, 5), (39185, 5), (39186, 5), (39187, 5), (39188, 5), (39189, 5), (39190, 5), (39191, 5), (39192, 5), (39193, 5), (39194, 5), (39195, 5), (39196, 5), (39197, 5), (39198, 5), (39199, 5), (39200, 5), (39201, 5), (39202, 5), (39203, 5), (39204, 5), (39205, 5), (39206, 5), (39207, 5), (39208, 5), (39209, 5), (39210, 5), (39211, 5), (39212, 5), (39213, 5), (39214, 5), (39215, 5), (39216, 5), (39217, 5), (39218, 5), (39219, 5), (39220, 5), (39221, 5), (39222, 5), (39223, 5), (39224, 5), (39225, 5), (39226, 5), (39227, 5), (39228, 5), (39229, 5), (39230, 5), (39231, 5), (39232, 5), (39233, 5), (39234, 5), (39235, 5), (39236, 5), (39237, 5), (39238, 5), (39239, 5), (39240, 5), (39241, 5), (39242, 5), (39243, 5), (39244, 5), (39245, 5), (39246, 5), (39247, 5), (39248, 5), (39249, 5), (39250, 5), (39251, 5), (39252, 5), (39253, 5), (39254, 5), (39255, 5), (39256, 5), (39257, 5), (39258, 5), (39259, 5), (39260, 5), (39261, 5), (39262, 5), (39263, 5), (39264, 5), (39265, 5), (39266, 5), (39267, 5), (39268, 5), (39269, 5), (39270, 5), (39271, 5), (39272, 5), (39273, 5), (39274, 5), (39275, 5), (39276, 5), (39277, 5), (39278, 5), (39279, 5), (39280, 5), (39281, 5), (39282, 5), (39283, 5), (39284, 5), (39285, 5), (39286, 5), (39287, 5), (39288, 5), (39289, 5), (39290, 5), (39291, 5), (39292, 5), (39293, 5), (39294, 5), (39295, 5), (39296, 5), (39297, 5), (39298, 5), (39299, 5), (39300, 5), (39301, 5), (39302, 5), (39303, 5), (39304, 5), (39305, 5), (39306, 5), (39307, 5), (39308, 5), (39309, 5), (39310, 5), (39311, 5), (39312, 5), (39313, 5), (39314, 5), (39315, 5), (39316, 5), (39317, 5), (39318, 5), (39319, 5), (39320, 5), (39321, 5), (39322, 5), (39323, 5), (39324, 5), (39325, 5), (39326, 5), (39327, 5), (39328, 5), (39329, 5), (39330, 5), (39331, 5), (39332, 5), (39333, 5), (39334, 5), (39335, 5), (39336, 5), (39337, 5), (39338, 5), (39339, 5), (39340, 5), (39341, 5), (39342, 5), (39343, 5), (39344, 5), (39345, 5), (39346, 5), (39347, 5), (39348, 5), (39349, 5), (39350, 5), (39351, 5), (39352, 5), (39353, 5), (39354, 5), (39355, 5), (39356, 5), (39357, 5), (39358, 5), (39359, 5), (39360, 5), (39361, 5), (39362, 5), (39363, 5), (39364, 5), (39365, 5), (39366, 5), (39367, 5), (39368, 5), (39369, 5), (39370, 5), (39371, 5), (39372, 5), (39373, 5), (39374, 5), (39375, 5), (39376, 5), (39377, 5), (39378, 5), (39379, 5), (39380, 5), (39381, 5), (39382, 5), (39383, 5), (39384, 5), (39385, 5), (39386, 5), (39387, 5), (39388, 5), (39389, 5), (39390, 5), (39391, 5), (39392, 5), (39393, 5), (39394, 0), (39395, 0), (39396, 0), (39397, 0), (39398, 0), (39399, 0), (39400, 0), (39401, 0), (39402, 0), (39403, 0), (39404, 0), (39405, 0), (39406, 0), (39407, 0), (39408, 0), (39409, 0), (39410, 0), (39411, 0), (39412, 0), (39413, 0), (39414, 0), (39415, 0), (39416, 0), (39417, 0), (39418, 0), (39419, 0), (39420, 0), (39421, 0), (39422, 0), (39423, 0), (39424, 0), (39425, 0), (39426, 0), (39427, 0), (39428, 0), (39429, 0), (39430, 0), (39431, 0), (39432, 0), (39433, 0), (39434, 0), (39435, 0), (39436, 0), (39437, 0), (39438, 0), (39439, 0), (39440, 0), (39441, 0), (39442, 0), (39443, 0), (39444, 0), (39445, 0), (39446, 0), (39447, 0), (39448, 0), (39449, 0), (39450, 0), (39451, 0), (39452, 0), (39453, 0), (39454, 0), (39455, 0), (39456, 0), (39457, 0), (39458, 0), (39459, 0), (39460, 0), (39461, 0), (39462, 0), (39463, 0), (39464, 0), (39465, 0), (39466, 0), (39467, 0), (39468, 0), (39469, 0), (39470, 0), (39471, 0), (39472, 0), (39473, 0), (39474, 0), (39475, 0), (39476, 0), (39477, 0), (39478, 0), (39479, 0), (39480, 0), (39481, 0), (39482, 0), (39483, 0), (39484, 0), (39485, 0), (39486, 0), (39487, 0), (39488, 0), (39489, 0), (39490, 0), (39491, 0), (39492, 0), (39493, 0), (39494, 0), (39495, 0), (39496, 0), (39497, 0), (39498, 0), (39499, 0), (39500, 0), (39501, 0), (39502, 0), (39503, 0), (39504, 0), (39505, 0), (39506, 0), (39507, 0), (39508, 0), (39509, 0), (39510, 0), (39511, 0), (39512, 0), (39513, 0), (39514, 0), (39515, 0), (39516, 0), (39517, 0), (39518, 0), (39519, 0), (39520, 0), (39521, 0), (39522, 0), (39523, 0), (39524, 0), (39525, 0), (39526, 0), (39527, 0), (39528, 0), (39529, 0), (39530, 0), (39531, 0), (39532, 0), (39533, 0), (39534, 0), (39535, 0), (39536, 0), (39537, 0), (39538, 0), (39539, 0), (39540, 0), (39541, 0), (39542, 0), (39543, 0), (39544, 0), (39545, 0), (39546, 0), (39547, 0), (39548, 0), (39549, 0), (39550, 0), (39551, 0), (39552, 0), (39553, 0), (39554, 0), (39555, 0), (39556, 0), (39557, 0), (39558, 0), (39559, 0), (39560, 0), (39561, 0), (39562, 0), (39563, 0), (39564, 0), (39565, 0), (39566, 0), (39567, 0), (39568, 6), (39569, 6), (39570, 6), (39571, 6), (39572, 6), (39573, 6), (39574, 6), (39575, 6), (39576, 6), (39577, 6), (39578, 6), (39579, 6), (39580, 6), (39581, 6), (39582, 6), (39583, 6), (39584, 6), (39585, 6), (39586, 6), (39587, 6), (39588, 6), (39589, 6), (39590, 6), (39591, 6), (39592, 6), (39593, 6), (39594, 6), (39595, 6), (39596, 6), (39597, 6), (39598, 6), (39599, 6), (39600, 6), (39601, 6), (39602, 6), (39603, 6), (39604, 6), (39605, 6), (39606, 6), (39607, 6), (39608, 6), (39609, 6), (39610, 6), (39611, 6), (39612, 6), (39613, 6), (39614, 6), (39615, 6), (39616, 6), (39617, 6), (39618, 6), (39619, 6), (39620, 6), (39621, 6), (39622, 6), (39623, 6), (39624, 6), (39625, 6), (39626, 6), (39627, 6), (39628, 6), (39629, 6), (39630, 6), (39631, 6), (39632, 6), (39633, 6), (39634, 6), (39635, 6), (39636, 6), (39637, 6), (39638, 6), (39639, 6), (39640, 6), (39641, 6), (39642, 6), (39643, 6), (39644, 6), (39645, 6), (39646, 6), (39647, 6), (39648, 6), (39649, 6), (39650, 6), (39651, 6), (39652, 6), (39653, 6), (39654, 6), (39655, 6), (39656, 6), (39657, 6), (39658, 6), (39659, 6), (39660, 6), (39661, 6), (39662, 6), (39663, 6), (39664, 6), (39665, 6), (39666, 6), (39667, 6), (39668, 6), (39669, 6), (39670, 6), (39671, 6), (39672, 6), (39673, 6), (39674, 6), (39675, 6), (39676, 6), (39677, 6), (39678, 6), (39679, 6), (39680, 6), (39681, 6), (39682, 6), (39683, 6), (39684, 6), (39685, 6), (39686, 6), (39687, 6), (39688, 6), (39689, 6), (39690, 6), (39691, 6), (39692, 6), (39693, 6), (39694, 6), (39695, 6), (39696, 6), (39697, 6), (39698, 6), (39699, 6), (39700, 6), (39701, 6), (39702, 6), (39703, 6), (39704, 6), (39705, 6), (39706, 6), (39707, 6), (39708, 6), (39709, 6), (39710, 6), (39711, 6), (39712, 6), (39713, 6), (39714, 6), (39715, 6), (39716, 6), (39717, 6), (39718, 6), (39719, 6), (39720, 6), (39721, 6), (39722, 6), (39723, 6), (39724, 6), (39725, 6), (39726, 6), (39727, 6), (39728, 6), (39729, 6), (39730, 6), (39731, 6), (39732, 6), (39733, 6), (39734, 6), (39735, 6), (39736, 6), (39737, 6), (39738, 6), (39739, 6), (39740, 6), (39741, 6), (39742, 6), (39743, 6), (39744, 6), (39745, 6), (39746, 6), (39747, 6), (39748, 6), (39749, 6), (39750, 6), (39751, 6), (39752, 6), (39753, 6), (39754, 6), (39755, 6), (39756, 6), (39757, 6), (39758, 6), (39759, 6), (39760, 6), (39761, 6), (39762, 6), (39763, 6), (39764, 6), (39765, 6), (39766, 6), (39767, 6), (39768, 6), (39769, 6), (39770, 6), (39771, 6), (39772, 6), (39773, 6), (39774, 6), (39775, 6), (39776, 6), (39777, 6), (39778, 6), (39779, 6), (39780, 4), (39781, 4), (39782, 4), (39783, 4), (39784, 4), (39785, 4), (39786, 4), (39787, 4), (39788, 4), (39789, 4), (39790, 4), (39791, 4), (39792, 4), (39793, 4), (39794, 4), (39795, 4), (39796, 4), (39797, 4), (39798, 4), (39799, 4), (39800, 4), (39801, 4), (39802, 4), (39803, 4), (39804, 4), (39805, 4), (39806, 4), (39807, 4), (39808, 4), (39809, 4), (39810, 4), (39811, 4), (39812, 4), (39813, 4), (39814, 4), (39815, 4), (39816, 4), (39817, 4), (39818, 4), (39819, 4), (39820, 4), (39821, 4), (39822, 4), (39823, 4), (39824, 4), (39825, 4), (39826, 4), (39827, 4), (39828, 4), (39829, 4), (39830, 4), (39831, 4), (39832, 4), (39833, 4), (39834, 4), (39835, 4), (39836, 4), (39837, 4), (39838, 4), (39839, 4), (39840, 4), (39841, 4), (39842, 4), (39843, 4), (39844, 4), (39845, 4), (39846, 4), (39847, 4), (39848, 4), (39849, 4), (39850, 4), (39851, 4), (39852, 4), (39853, 4), (39854, 4), (39855, 4), (39856, 4), (39857, 4), (39858, 4), (39859, 4), (39860, 4), (39861, 4), (39862, 4), (39863, 4), (39864, 4), (39865, 4), (39866, 4), (39867, 4), (39868, 4), (39869, 4), (39870, 4), (39871, 4), (39872, 4), (39873, 4), (39874, 4), (39875, 4), (39876, 4), (39877, 4), (39878, 4), (39879, 4), (39880, 4), (39881, 4), (39882, 4), (39883, 4), (39884, 4), (39885, 4), (39886, 4), (39887, 4), (39888, 4), (39889, 4), (39890, 4), (39891, 4), (39892, 4), (39893, 4), (39894, 4), (39895, 4), (39896, 4), (39897, 4), (39898, 4), (39899, 4), (39900, 4), (39901, 4), (39902, 4), (39903, 4), (39904, 4), (39905, 4), (39906, 4), (39907, 4), (39908, 4), (39909, 4), (39910, 4), (39911, 4), (39912, 4), (39913, 4), (39914, 4), (39915, 4), (39916, 4), (39917, 4), (39918, 4), (39919, 4), (39920, 4), (39921, 4), (39922, 4), (39923, 4), (39924, 4), (39925, 4), (39926, 4), (39927, 4), (39928, 4), (39929, 4), (39930, 4), (39931, 4), (39932, 4), (39933, 4), (39934, 4), (39935, 4), (39936, 4), (39937, 4), (39938, 4), (39939, 4), (39940, 4), (39941, 4), (39942, 4), (39943, 4), (39944, 4), (39945, 4), (39946, 4), (39947, 4), (39948, 4), (39949, 4), (39950, 4), (39951, 4), (39952, 4), (39953, 4), (39954, 4), (39955, 4), (39956, 4), (39957, 4), (39958, 4), (39959, 4), (39960, 4), (39961, 4), (39962, 4), (39963, 4), (39964, 4), (39965, 4), (39966, 4), (39967, 4), (39968, 4), (39969, 4), (39970, 4), (39971, 4), (39972, 4), (39973, 4), (39974, 4), (39975, 4), (39976, 4), (39977, 4), (39978, 4), (39979, 4), (39980, 4), (39981, 4), (39982, 4), (39983, 4), (39984, 4), (39985, 4), (39986, 4), (39987, 4), (39988, 4), (39989, 4), (39990, 4), (39991, 4), (39992, 4), (39993, 4), (39994, 4), (39995, 4), (39996, 4), (39997, 4), (39998, 4), (39999, 4), (40000, 4), (40001, 4), (40002, 4), (40003, 4), (40004, 4), (40005, 4), (40006, 4), (40007, 4), (40008, 4), (40009, 3), (40010, 3), (40011, 3), (40012, 3), (40013, 3), (40014, 3), (40015, 3), (40016, 3), (40017, 3), (40018, 3), (40019, 3), (40020, 3), (40021, 3), (40022, 3), (40023, 3), (40024, 3), (40025, 3), (40026, 3), (40027, 3), (40028, 3), (40029, 3), (40030, 3), (40031, 3), (40032, 3), (40033, 3), (40034, 3), (40035, 3), (40036, 3), (40037, 3), (40038, 3), (40039, 3), (40040, 3), (40041, 3), (40042, 3), (40043, 3), (40044, 3), (40045, 3), (40046, 3), (40047, 3), (40048, 3), (40049, 3), (40050, 3), (40051, 3), (40052, 3), (40053, 3), (40054, 3), (40055, 3), (40056, 3), (40057, 3), (40058, 3), (40059, 3), (40060, 3), (40061, 3), (40062, 3), (40063, 3), (40064, 3), (40065, 3), (40066, 3), (40067, 3), (40068, 3), (40069, 3), (40070, 3), (40071, 3), (40072, 3), (40073, 3), (40074, 3), (40075, 3), (40076, 3), (40077, 3), (40078, 3), (40079, 3), (40080, 3), (40081, 3), (40082, 3), (40083, 3), (40084, 3), (40085, 3), (40086, 3), (40087, 3), (40088, 3), (40089, 3), (40090, 3), (40091, 3), (40092, 3), (40093, 3), (40094, 3), (40095, 3), (40096, 3), (40097, 3), (40098, 3), (40099, 3), (40100, 3), (40101, 3), (40102, 3), (40103, 3), (40104, 3), (40105, 3), (40106, 3), (40107, 3), (40108, 3), (40109, 3), (40110, 3), (40111, 3), (40112, 3), (40113, 3), (40114, 3), (40115, 3), (40116, 3), (40117, 3), (40118, 3), (40119, 3), (40120, 3), (40121, 3), (40122, 3), (40123, 3), (40124, 3), (40125, 3), (40126, 3), (40127, 3), (40128, 3), (40129, 3), (40130, 3), (40131, 3), (40132, 3), (40133, 3), (40134, 3), (40135, 3), (40136, 3), (40137, 3), (40138, 3), (40139, 3), (40140, 3), (40141, 3), (40142, 3), (40143, 3), (40144, 3), (40145, 3), (40146, 3), (40147, 3), (40148, 3), (40149, 3), (40150, 3), (40151, 3), (40152, 3), (40153, 3), (40154, 3), (40155, 3), (40156, 3), (40157, 3), (40158, 3), (40159, 3), (40160, 3), (40161, 3), (40162, 3), (40163, 3), (40164, 3), (40165, 3), (40166, 3), (40167, 3), (40168, 3), (40169, 3), (40170, 3), (40171, 3), (40172, 3), (40173, 3), (40174, 3), (40175, 3), (40176, 3), (40177, 3), (40178, 3), (40179, 3), (40180, 3), (40181, 3), (40182, 3), (40183, 3), (40184, 3), (40185, 3), (40186, 3), (40187, 3), (40188, 3), (40189, 3), (40190, 3), (40191, 3), (40192, 3), (40193, 3), (40194, 3), (40195, 3), (40196, 3), (40197, 3), (40198, 3), (40199, 3), (40200, 3), (40201, 3), (40202, 3), (40203, 3), (40204, 3), (40205, 3), (40206, 3), (40207, 3), (40208, 3), (40209, 3), (40210, 3), (40211, 3), (40212, 3), (40213, 3), (40214, 3), (40215, 3), (40216, 3), (40217, 3), (40218, 3), (40219, 3), (40220, 3), (40221, 3), (40222, 3), (40223, 3), (40224, 3), (40225, 3), (40226, 3), (40227, 3), (40228, 3), (40229, 3), (40230, 3), (40231, 3), (40232, 3), (40233, 3), (40234, 3), (40235, 3), (40236, 3), (40237, 3), (40238, 3), (40239, 3), (40240, 3), (40241, 3), (40242, 3), (40243, 3), (40244, 3), (40245, 3), (40246, 3), (40247, 3), (40248, 3), (40249, 3), (40250, 3), (40251, 3), (40252, 3), (40253, 3), (40254, 3), (40255, 3), (40256, 3), (40257, 3), (40258, 3), (40259, 3), (40260, 3), (40261, 3), (40262, 3), (40263, 3), (40264, 3), (40265, 3), (40266, 3), (40267, 3), (40268, 3), (40269, 3), (40270, 3), (40271, 3), (40272, 3), (40273, 3), (40274, 3), (40275, 3), (40276, 3), (40277, 3), (40278, 3), (40279, 3), (40280, 3), (40281, 3), (40282, 3), (40283, 3), (40284, 3), (40285, 3), (40286, 3), (40287, 3), (40288, 3), (40289, 3), (40290, 3), (40291, 3), (40292, 3), (40293, 3), (40294, 3), (40295, 3), (40296, 3), (40297, 3), (40298, 3), (40299, 3), (40300, 3), (40301, 3), (40302, 3), (40303, 3), (40304, 3), (40305, 3), (40306, 3), (40307, 3), (40308, 3), (40309, 3), (40310, 3), (40311, 3), (40312, 3), (40313, 3), (40314, 3), (40315, 3), (40316, 3), (40317, 3), (40318, 3), (40319, 3), (40320, 1), (40321, 1), (40322, 1), (40323, 1), (40324, 1), (40325, 1), (40326, 1), (40327, 1), (40328, 1), (40329, 1), (40330, 1), (40331, 1), (40332, 1), (40333, 1), (40334, 1), (40335, 1), (40336, 1), (40337, 1), (40338, 1), (40339, 1), (40340, 1), (40341, 1), (40342, 1), (40343, 1), (40344, 1), (40345, 1), (40346, 1), (40347, 1), (40348, 1), (40349, 1), (40350, 1), (40351, 1), (40352, 1), (40353, 1), (40354, 1), (40355, 1), (40356, 1), (40357, 1), (40358, 1), (40359, 1), (40360, 1), (40361, 1), (40362, 1), (40363, 1), (40364, 1), (40365, 1), (40366, 1), (40367, 1), (40368, 1), (40369, 1), (40370, 1), (40371, 1), (40372, 1), (40373, 1), (40374, 1), (40375, 1), (40376, 1), (40377, 1), (40378, 1), (40379, 1), (40380, 1), (40381, 1), (40382, 1), (40383, 1), (40384, 1), (40385, 1), (40386, 1), (40387, 1), (40388, 1), (40389, 1), (40390, 1), (40391, 1), (40392, 1), (40393, 1), (40394, 1), (40395, 1), (40396, 1), (40397, 1), (40398, 1), (40399, 1), (40400, 1), (40401, 1), (40402, 1), (40403, 1), (40404, 1), (40405, 1), (40406, 1), (40407, 1), (40408, 1), (40409, 1), (40410, 1), (40411, 1), (40412, 1), (40413, 1), (40414, 1), (40415, 1), (40416, 1), (40417, 1), (40418, 1), (40419, 1), (40420, 1), (40421, 1), (40422, 1), (40423, 1), (40424, 1), (40425, 1), (40426, 1), (40427, 1), (40428, 1), (40429, 1), (40430, 1), (40431, 1), (40432, 1), (40433, 1), (40434, 1), (40435, 1), (40436, 1), (40437, 1), (40438, 1), (40439, 1), (40440, 1), (40441, 1), (40442, 1), (40443, 1), (40444, 1), (40445, 1), (40446, 1), (40447, 1), (40448, 1), (40449, 1), (40450, 1), (40451, 1), (40452, 1), (40453, 1), (40454, 1), (40455, 1), (40456, 1), (40457, 1), (40458, 1), (40459, 1), (40460, 1), (40461, 1), (40462, 1), (40463, 1), (40464, 1), (40465, 1), (40466, 1), (40467, 1), (40468, 1), (40469, 1), (40470, 1), (40471, 1), (40472, 1), (40473, 1), (40474, 1), (40475, 1), (40476, 1), (40477, 1), (40478, 1), (40479, 1), (40480, 1), (40481, 1), (40482, 1), (40483, 1), (40484, 1), (40485, 1), (40486, 1), (40487, 1), (40488, 1), (40489, 1), (40490, 1), (40491, 1), (40492, 1), (40493, 1), (40494, 1), (40495, 1), (40496, 1), (40497, 1), (40498, 1), (40499, 1), (40500, 1), (40501, 1), (40502, 1), (40503, 1), (40504, 1), (40505, 1), (40506, 1), (40507, 1), (40508, 1), (40509, 1), (40510, 1), (40511, 1), (40512, 1), (40513, 1), (40514, 1), (40515, 1), (40516, 1), (40517, 1), (40518, 1), (40519, 1), (40520, 1), (40521, 1), (40522, 1), (40523, 1), (40524, 1), (40525, 1), (40526, 1), (40527, 1), (40528, 1), (40529, 1), (40530, 1), (40531, 1), (40532, 1), (40533, 1), (40534, 1), (40535, 1), (40536, 1), (40537, 1), (40538, 1), (40539, 1), (40540, 1), (40541, 1), (40542, 1), (40543, 1), (40544, 1), (40545, 1), (40546, 1), (40547, 1), (40548, 1), (40549, 1), (40550, 1), (40551, 1), (40552, 1), (40553, 9), (40554, 9), (40555, 9), (40556, 9), (40557, 9), (40558, 9), (40559, 9), (40560, 9), (40561, 9), (40562, 9), (40563, 9), (40564, 9), (40565, 9), (40566, 9), (40567, 9), (40568, 9), (40569, 9), (40570, 9), (40571, 9), (40572, 9), (40573, 9), (40574, 9), (40575, 9), (40576, 9), (40577, 9), (40578, 9), (40579, 9), (40580, 9), (40581, 9), (40582, 9), (40583, 9), (40584, 9), (40585, 9), (40586, 9), (40587, 9), (40588, 9), (40589, 9), (40590, 9), (40591, 9), (40592, 9), (40593, 9), (40594, 9), (40595, 9), (40596, 9), (40597, 9), (40598, 9), (40599, 9), (40600, 9), (40601, 9), (40602, 9), (40603, 9), (40604, 9), (40605, 9), (40606, 9), (40607, 9), (40608, 9), (40609, 9), (40610, 9), (40611, 9), (40612, 9), (40613, 9), (40614, 9), (40615, 9), (40616, 9), (40617, 9), (40618, 9), (40619, 9), (40620, 9), (40621, 9), (40622, 9), (40623, 9), (40624, 9), (40625, 9), (40626, 9), (40627, 9), (40628, 9), (40629, 9), (40630, 9), (40631, 9), (40632, 9), (40633, 9), (40634, 9), (40635, 9), (40636, 9), (40637, 9), (40638, 9), (40639, 9), (40640, 9), (40641, 9), (40642, 9), (40643, 9), (40644, 9), (40645, 9), (40646, 9), (40647, 9), (40648, 9), (40649, 9), (40650, 9), (40651, 9), (40652, 9), (40653, 9), (40654, 9), (40655, 9), (40656, 9), (40657, 9), (40658, 9), (40659, 9), (40660, 9), (40661, 9), (40662, 9), (40663, 9), (40664, 9), (40665, 9), (40666, 9), (40667, 9), (40668, 9), (40669, 9), (40670, 9), (40671, 9), (40672, 9), (40673, 9), (40674, 9), (40675, 9), (40676, 9), (40677, 9), (40678, 9), (40679, 9), (40680, 9), (40681, 9), (40682, 9), (40683, 9), (40684, 9), (40685, 9), (40686, 9), (40687, 9), (40688, 9), (40689, 9), (40690, 9), (40691, 9), (40692, 9), (40693, 9), (40694, 9), (40695, 9), (40696, 9), (40697, 9), (40698, 9), (40699, 9), (40700, 9), (40701, 9), (40702, 9), (40703, 9), (40704, 9), (40705, 9), (40706, 9), (40707, 9), (40708, 9), (40709, 9), (40710, 9), (40711, 9), (40712, 9), (40713, 9), (40714, 9), (40715, 9), (40716, 9), (40717, 9), (40718, 9), (40719, 9), (40720, 9), (40721, 9), (40722, 9), (40723, 9), (40724, 9), (40725, 9), (40726, 9), (40727, 9), (40728, 9), (40729, 9), (40730, 9), (40731, 9), (40732, 9), (40733, 9), (40734, 9), (40735, 9), (40736, 9), (40737, 9), (40738, 9), (40739, 9), (40740, 9), (40741, 9), (40742, 9), (40743, 9), (40744, 9), (40745, 9), (40746, 9), (40747, 9), (40748, 9), (40749, 9), (40750, 9), (40751, 9), (40752, 9), (40753, 9), (40754, 9), (40755, 9), (40756, 9), (40757, 9), (40758, 9), (40759, 9), (40760, 9), (40761, 9), (40762, 9), (40763, 9), (40764, 9), (40765, 9), (40766, 9), (40767, 9), (40768, 9), (40769, 9), (40770, 9), (40771, 9), (40772, 9), (40773, 9), (40774, 9), (40775, 9), (40776, 9), (40777, 9), (40778, 9), (40779, 9), (40780, 9), (40781, 9), (40782, 9), (40783, 9), (40784, 9), (40785, 9), (40786, 9), (40787, 9), (40788, 9), (40789, 9), (40790, 9), (40791, 9), (40792, 9), (40793, 9), (40794, 9), (40795, 9), (40796, 9), (40797, 9), (40798, 9), (40799, 9), (40800, 9), (40801, 9), (40802, 9), (40803, 9), (40804, 9), (40805, 9), (40806, 9), (40807, 9), (40808, 9), (40809, 9), (40810, 9), (40811, 9), (40812, 9), (40813, 9), (40814, 9), (40815, 9), (40816, 9), (40817, 9), (40818, 9), (40819, 9), (40820, 9), (40821, 9), (40822, 9), (40823, 9), (40824, 9), (40825, 9), (40826, 9), (40827, 9), (40828, 9), (40829, 9), (40830, 9), (40831, 9), (40832, 9), (40833, 9), (40834, 9), (40835, 9), (40836, 9), (40837, 9), (40838, 9), (40839, 9), (40840, 9), (40841, 9), (40842, 9), (40843, 9), (40844, 9), (40845, 9), (40846, 9), (40847, 9), (40848, 9), (40849, 9), (40850, 9), (40851, 9), (40852, 9), (40853, 9), (40854, 9), (40855, 9), (40856, 8), (40857, 8), (40858, 8), (40859, 8), (40860, 8), (40861, 8), (40862, 8), (40863, 8), (40864, 8), (40865, 8), (40866, 8), (40867, 8), (40868, 8), (40869, 8), (40870, 8), (40871, 8), (40872, 8), (40873, 8), (40874, 8), (40875, 8), (40876, 8), (40877, 8), (40878, 8), (40879, 8), (40880, 8), (40881, 8), (40882, 8), (40883, 8), (40884, 8), (40885, 8), (40886, 8), (40887, 8), (40888, 8), (40889, 8), (40890, 8), (40891, 8), (40892, 8), (40893, 8), (40894, 8), (40895, 8), (40896, 8), (40897, 8), (40898, 8), (40899, 8), (40900, 8), (40901, 8), (40902, 8), (40903, 8), (40904, 8), (40905, 8), (40906, 8), (40907, 8), (40908, 8), (40909, 8), (40910, 8), (40911, 8), (40912, 8), (40913, 8), (40914, 8), (40915, 8), (40916, 8), (40917, 8), (40918, 8), (40919, 8), (40920, 8), (40921, 8), (40922, 8), (40923, 8), (40924, 8), (40925, 8), (40926, 8), (40927, 8), (40928, 8), (40929, 8), (40930, 8), (40931, 8), (40932, 8), (40933, 8), (40934, 8), (40935, 8), (40936, 8), (40937, 8), (40938, 8), (40939, 8), (40940, 8), (40941, 8), (40942, 8), (40943, 8), (40944, 8), (40945, 8), (40946, 8), (40947, 8), (40948, 8), (40949, 8), (40950, 8), (40951, 8), (40952, 8), (40953, 8), (40954, 8), (40955, 8), (40956, 8), (40957, 8), (40958, 8), (40959, 8), (40960, 8), (40961, 8), (40962, 8), (40963, 8), (40964, 8), (40965, 8), (40966, 8), (40967, 8), (40968, 8), (40969, 8), (40970, 8), (40971, 8), (40972, 8), (40973, 8), (40974, 8), (40975, 8), (40976, 8), (40977, 8), (40978, 8), (40979, 8), (40980, 8), (40981, 8), (40982, 8), (40983, 8), (40984, 8), (40985, 8), (40986, 8), (40987, 8), (40988, 8), (40989, 8), (40990, 8), (40991, 8), (40992, 8), (40993, 8), (40994, 8), (40995, 8), (40996, 8), (40997, 8), (40998, 8), (40999, 8), (41000, 8), (41001, 8), (41002, 8), (41003, 8), (41004, 8), (41005, 8), (41006, 8), (41007, 8), (41008, 8), (41009, 8), (41010, 8), (41011, 8), (41012, 8), (41013, 8), (41014, 8), (41015, 8), (41016, 8), (41017, 8), (41018, 8), (41019, 8), (41020, 8), (41021, 8), (41022, 8), (41023, 8), (41024, 8), (41025, 8), (41026, 8), (41027, 8), (41028, 8), (41029, 8), (41030, 8), (41031, 8), (41032, 8), (41033, 8), (41034, 8), (41035, 8), (41036, 8), (41037, 8), (41038, 8), (41039, 8), (41040, 8), (41041, 8), (41042, 8), (41043, 8), (41044, 8), (41045, 8), (41046, 8), (41047, 8), (41048, 8), (41049, 8), (41050, 8), (41051, 8), (41052, 8), (41053, 8), (41054, 8), (41055, 8), (41056, 8), (41057, 8), (41058, 8), (41059, 8), (41060, 7), (41061, 7), (41062, 7), (41063, 7), (41064, 7), (41065, 7), (41066, 7), (41067, 7), (41068, 7), (41069, 7), (41070, 7), (41071, 7), (41072, 7), (41073, 7), (41074, 7), (41075, 7), (41076, 7), (41077, 7), (41078, 7), (41079, 7), (41080, 7), (41081, 7), (41082, 7), (41083, 7), (41084, 7), (41085, 7), (41086, 7), (41087, 7), (41088, 7), (41089, 7), (41090, 7), (41091, 7), (41092, 7), (41093, 7), (41094, 7), (41095, 7), (41096, 7), (41097, 7), (41098, 7), (41099, 7), (41100, 7), (41101, 7), (41102, 7), (41103, 7), (41104, 7), (41105, 7), (41106, 7), (41107, 7), (41108, 7), (41109, 7), (41110, 7), (41111, 7), (41112, 7), (41113, 7), (41114, 7), (41115, 7), (41116, 7), (41117, 7), (41118, 7), (41119, 7), (41120, 7), (41121, 7), (41122, 7), (41123, 7), (41124, 7), (41125, 7), (41126, 7), (41127, 7), (41128, 7), (41129, 7), (41130, 7), (41131, 7), (41132, 7), (41133, 7), (41134, 7), (41135, 7), (41136, 7), (41137, 7), (41138, 7), (41139, 7), (41140, 7), (41141, 7), (41142, 7), (41143, 7), (41144, 7), (41145, 7), (41146, 7), (41147, 7), (41148, 7), (41149, 7), (41150, 7), (41151, 7), (41152, 7), (41153, 7), (41154, 7), (41155, 7), (41156, 7), (41157, 7), (41158, 7), (41159, 7), (41160, 7), (41161, 7), (41162, 7), (41163, 7), (41164, 7), (41165, 7), (41166, 7), (41167, 7), (41168, 7), (41169, 7), (41170, 7), (41171, 7), (41172, 7), (41173, 7), (41174, 7), (41175, 7), (41176, 7), (41177, 7), (41178, 7), (41179, 7), (41180, 7), (41181, 7), (41182, 7), (41183, 7), (41184, 7), (41185, 7), (41186, 7), (41187, 7)])"
      ]
     },
     "execution_count": 49,
     "metadata": {},
     "output_type": "execute_result"
    }
   ],
   "source": [
    "genre_mappings={index : label for index ,label in enumerate(Bank_related['month'])}\n",
    "genre_mappings.items()"
   ]
  },
  {
   "cell_type": "markdown",
   "metadata": {},
   "source": [
    "### Other attributes"
   ]
  },
  {
   "cell_type": "code",
   "execution_count": 50,
   "metadata": {},
   "outputs": [
    {
     "data": {
      "text/html": [
       "<div>\n",
       "<style scoped>\n",
       "    .dataframe tbody tr th:only-of-type {\n",
       "        vertical-align: middle;\n",
       "    }\n",
       "\n",
       "    .dataframe tbody tr th {\n",
       "        vertical-align: top;\n",
       "    }\n",
       "\n",
       "    .dataframe thead th {\n",
       "        text-align: right;\n",
       "    }\n",
       "</style>\n",
       "<table border=\"1\" class=\"dataframe\">\n",
       "  <thead>\n",
       "    <tr style=\"text-align: right;\">\n",
       "      <th></th>\n",
       "      <th>campaign</th>\n",
       "      <th>pdays</th>\n",
       "      <th>previous</th>\n",
       "      <th>poutcome</th>\n",
       "    </tr>\n",
       "  </thead>\n",
       "  <tbody>\n",
       "    <tr>\n",
       "      <th>0</th>\n",
       "      <td>1</td>\n",
       "      <td>999</td>\n",
       "      <td>0</td>\n",
       "      <td>nonexistent</td>\n",
       "    </tr>\n",
       "    <tr>\n",
       "      <th>1</th>\n",
       "      <td>1</td>\n",
       "      <td>999</td>\n",
       "      <td>0</td>\n",
       "      <td>nonexistent</td>\n",
       "    </tr>\n",
       "    <tr>\n",
       "      <th>2</th>\n",
       "      <td>1</td>\n",
       "      <td>999</td>\n",
       "      <td>0</td>\n",
       "      <td>nonexistent</td>\n",
       "    </tr>\n",
       "    <tr>\n",
       "      <th>3</th>\n",
       "      <td>1</td>\n",
       "      <td>999</td>\n",
       "      <td>0</td>\n",
       "      <td>nonexistent</td>\n",
       "    </tr>\n",
       "    <tr>\n",
       "      <th>4</th>\n",
       "      <td>1</td>\n",
       "      <td>999</td>\n",
       "      <td>0</td>\n",
       "      <td>nonexistent</td>\n",
       "    </tr>\n",
       "  </tbody>\n",
       "</table>\n",
       "</div>"
      ],
      "text/plain": [
       "   campaign  pdays  previous     poutcome\n",
       "0         1    999         0  nonexistent\n",
       "1         1    999         0  nonexistent\n",
       "2         1    999         0  nonexistent\n",
       "3         1    999         0  nonexistent\n",
       "4         1    999         0  nonexistent"
      ]
     },
     "execution_count": 50,
     "metadata": {},
     "output_type": "execute_result"
    }
   ],
   "source": [
    "Bank_other=df.loc[:,['campaign', 'pdays','previous', 'poutcome']]\n",
    "Bank_other.head()"
   ]
  },
  {
   "cell_type": "code",
   "execution_count": 51,
   "metadata": {},
   "outputs": [
    {
     "data": {
      "text/plain": [
       "array(['nonexistent', 'failure', 'success'], dtype=object)"
      ]
     },
     "execution_count": 51,
     "metadata": {},
     "output_type": "execute_result"
    }
   ],
   "source": [
    "Bank_other['poutcome'].unique()"
   ]
  },
  {
   "cell_type": "code",
   "execution_count": 52,
   "metadata": {},
   "outputs": [
    {
     "data": {
      "text/plain": [
       "nonexistent    35563\n",
       "failure         4252\n",
       "success         1373\n",
       "Name: poutcome, dtype: int64"
      ]
     },
     "execution_count": 52,
     "metadata": {},
     "output_type": "execute_result"
    }
   ],
   "source": [
    "Bank_other['poutcome'].value_counts()"
   ]
  },
  {
   "cell_type": "code",
   "execution_count": 53,
   "metadata": {},
   "outputs": [
    {
     "data": {
      "image/png": "[encoded data removed]",
      "text/plain": [
       "<Figure size 576x432 with 1 Axes>"
      ]
     },
     "metadata": {},
     "output_type": "display_data"
    }
   ],
   "source": [
    "plt.figure(figsize=(8,6))\n",
    "sns.countplot(Bank_other['poutcome'])\n",
    "plt.show()"
   ]
  },
  {
   "cell_type": "code",
   "execution_count": 54,
   "metadata": {},
   "outputs": [
    {
     "data": {
      "text/plain": [
       "0    35563\n",
       "1     4561\n",
       "2      754\n",
       "3      216\n",
       "4       70\n",
       "5       18\n",
       "6        5\n",
       "7        1\n",
       "Name: previous, dtype: int64"
      ]
     },
     "execution_count": 54,
     "metadata": {},
     "output_type": "execute_result"
    }
   ],
   "source": [
    "Bank_other['previous'].value_counts()"
   ]
  },
  {
   "cell_type": "code",
   "execution_count": 55,
   "metadata": {},
   "outputs": [
    {
     "data": {
      "text/plain": [
       "1     17642\n",
       "2     10570\n",
       "3      5341\n",
       "4      2651\n",
       "5      1599\n",
       "6       979\n",
       "7       629\n",
       "8       400\n",
       "9       283\n",
       "10      225\n",
       "Name: campaign, dtype: int64"
      ]
     },
     "execution_count": 55,
     "metadata": {},
     "output_type": "execute_result"
    }
   ],
   "source": [
    "Bank_other['campaign'].value_counts()[0:10]"
   ]
  },
  {
   "cell_type": "code",
   "execution_count": 56,
   "metadata": {},
   "outputs": [
    {
     "data": {
      "text/plain": [
       "999    39673\n",
       "3        439\n",
       "6        412\n",
       "4        118\n",
       "9         64\n",
       "Name: pdays, dtype: int64"
      ]
     },
     "execution_count": 56,
     "metadata": {},
     "output_type": "execute_result"
    }
   ],
   "source": [
    "Bank_other['pdays'].value_counts()[0:5]"
   ]
  },
  {
   "cell_type": "code",
   "execution_count": 57,
   "metadata": {},
   "outputs": [
    {
     "data": {
      "text/plain": [
       "<Figure size 432x288 with 0 Axes>"
      ]
     },
     "execution_count": 57,
     "metadata": {},
     "output_type": "execute_result"
    },
    {
     "data": {
      "image/png": "[encoded data removed]",
      "text/plain": [
       "<Figure size 720x432 with 1 Axes>"
      ]
     },
     "metadata": {},
     "output_type": "display_data"
    },
    {
     "data": {
      "text/plain": [
       "<Figure size 432x288 with 0 Axes>"
      ]
     },
     "metadata": {},
     "output_type": "display_data"
    }
   ],
   "source": [
    "plt.figure(figsize=(10,6))\n",
    "sns.countplot(Bank_other['pdays'])\n",
    "plt.figure()"
   ]
  },
  {
   "cell_type": "markdown",
   "metadata": {},
   "source": [
    "-  It seems most of the customers previously hasn't contacted."
   ]
  },
  {
   "cell_type": "code",
   "execution_count": 58,
   "metadata": {},
   "outputs": [],
   "source": [
    "Bank_other['poutcome'].replace(['nonexistent', 'failure', 'success'],[1,2,3],inplace=True)"
   ]
  },
  {
   "cell_type": "code",
   "execution_count": 59,
   "metadata": {},
   "outputs": [
    {
     "data": {
      "text/html": [
       "<div>\n",
       "<style scoped>\n",
       "    .dataframe tbody tr th:only-of-type {\n",
       "        vertical-align: middle;\n",
       "    }\n",
       "\n",
       "    .dataframe tbody tr th {\n",
       "        vertical-align: top;\n",
       "    }\n",
       "\n",
       "    .dataframe thead th {\n",
       "        text-align: right;\n",
       "    }\n",
       "</style>\n",
       "<table border=\"1\" class=\"dataframe\">\n",
       "  <thead>\n",
       "    <tr style=\"text-align: right;\">\n",
       "      <th></th>\n",
       "      <th>campaign</th>\n",
       "      <th>pdays</th>\n",
       "      <th>previous</th>\n",
       "      <th>poutcome</th>\n",
       "    </tr>\n",
       "  </thead>\n",
       "  <tbody>\n",
       "    <tr>\n",
       "      <th>0</th>\n",
       "      <td>1</td>\n",
       "      <td>999</td>\n",
       "      <td>0</td>\n",
       "      <td>1</td>\n",
       "    </tr>\n",
       "    <tr>\n",
       "      <th>1</th>\n",
       "      <td>1</td>\n",
       "      <td>999</td>\n",
       "      <td>0</td>\n",
       "      <td>1</td>\n",
       "    </tr>\n",
       "    <tr>\n",
       "      <th>2</th>\n",
       "      <td>1</td>\n",
       "      <td>999</td>\n",
       "      <td>0</td>\n",
       "      <td>1</td>\n",
       "    </tr>\n",
       "    <tr>\n",
       "      <th>3</th>\n",
       "      <td>1</td>\n",
       "      <td>999</td>\n",
       "      <td>0</td>\n",
       "      <td>1</td>\n",
       "    </tr>\n",
       "    <tr>\n",
       "      <th>4</th>\n",
       "      <td>1</td>\n",
       "      <td>999</td>\n",
       "      <td>0</td>\n",
       "      <td>1</td>\n",
       "    </tr>\n",
       "  </tbody>\n",
       "</table>\n",
       "</div>"
      ],
      "text/plain": [
       "   campaign  pdays  previous  poutcome\n",
       "0         1    999         0         1\n",
       "1         1    999         0         1\n",
       "2         1    999         0         1\n",
       "3         1    999         0         1\n",
       "4         1    999         0         1"
      ]
     },
     "execution_count": 59,
     "metadata": {},
     "output_type": "execute_result"
    }
   ],
   "source": [
    "Bank_other.head()"
   ]
  },
  {
   "cell_type": "code",
   "execution_count": 60,
   "metadata": {},
   "outputs": [
    {
     "data": {
      "text/plain": [
       "{0: 1,\n",
       " 1: 1,\n",
       " 2: 1,\n",
       " 3: 1,\n",
       " 4: 1,\n",
       " 5: 1,\n",
       " 6: 1,\n",
       " 7: 1,\n",
       " 8: 1,\n",
       " 9: 1,\n",
       " 10: 1,\n",
       " 11: 1,\n",
       " 12: 1,\n",
       " 13: 1,\n",
       " 14: 1,\n",
       " 15: 1,\n",
       " 16: 1,\n",
       " 17: 1,\n",
       " 18: 1,\n",
       " 19: 1,\n",
       " 20: 1,\n",
       " 21: 1,\n",
       " 22: 1,\n",
       " 23: 1,\n",
       " 24: 1,\n",
       " 25: 1,\n",
       " 26: 1,\n",
       " 27: 1,\n",
       " 28: 1,\n",
       " 29: 1,\n",
       " 30: 1,\n",
       " 31: 1,\n",
       " 32: 1,\n",
       " 33: 1,\n",
       " 34: 1,\n",
       " 35: 1,\n",
       " 36: 1,\n",
       " 37: 1,\n",
       " 38: 1,\n",
       " 39: 1,\n",
       " 40: 1,\n",
       " 41: 1,\n",
       " 42: 1,\n",
       " 43: 1,\n",
       " 44: 1,\n",
       " 45: 1,\n",
       " 46: 1,\n",
       " 47: 1,\n",
       " 48: 1,\n",
       " 49: 1,\n",
       " 50: 1,\n",
       " 51: 1,\n",
       " 52: 1,\n",
       " 53: 1,\n",
       " 54: 1,\n",
       " 55: 1,\n",
       " 56: 1,\n",
       " 57: 1,\n",
       " 58: 1,\n",
       " 59: 1,\n",
       " 60: 1,\n",
       " 61: 1,\n",
       " 62: 1,\n",
       " 63: 1,\n",
       " 64: 1,\n",
       " 65: 1,\n",
       " 66: 1,\n",
       " 67: 1,\n",
       " 68: 1,\n",
       " 69: 1,\n",
       " 70: 1,\n",
       " 71: 1,\n",
       " 72: 1,\n",
       " 73: 1,\n",
       " 74: 1,\n",
       " 75: 1,\n",
       " 76: 1,\n",
       " 77: 1,\n",
       " 78: 1,\n",
       " 79: 1,\n",
       " 80: 1,\n",
       " 81: 1,\n",
       " 82: 1,\n",
       " 83: 1,\n",
       " 84: 1,\n",
       " 85: 1,\n",
       " 86: 1,\n",
       " 87: 1,\n",
       " 88: 1,\n",
       " 89: 1,\n",
       " 90: 1,\n",
       " 91: 1,\n",
       " 92: 1,\n",
       " 93: 1,\n",
       " 94: 1,\n",
       " 95: 1,\n",
       " 96: 1,\n",
       " 97: 1,\n",
       " 98: 1,\n",
       " 99: 1,\n",
       " 100: 1,\n",
       " 101: 1,\n",
       " 102: 1,\n",
       " 103: 1,\n",
       " 104: 1,\n",
       " 105: 1,\n",
       " 106: 1,\n",
       " 107: 1,\n",
       " 108: 1,\n",
       " 109: 1,\n",
       " 110: 1,\n",
       " 111: 1,\n",
       " 112: 1,\n",
       " 113: 1,\n",
       " 114: 1,\n",
       " 115: 1,\n",
       " 116: 1,\n",
       " 117: 1,\n",
       " 118: 1,\n",
       " 119: 1,\n",
       " 120: 1,\n",
       " 121: 1,\n",
       " 122: 1,\n",
       " 123: 1,\n",
       " 124: 1,\n",
       " 125: 1,\n",
       " 126: 1,\n",
       " 127: 1,\n",
       " 128: 1,\n",
       " 129: 1,\n",
       " 130: 1,\n",
       " 131: 1,\n",
       " 132: 1,\n",
       " 133: 1,\n",
       " 134: 1,\n",
       " 135: 1,\n",
       " 136: 1,\n",
       " 137: 1,\n",
       " 138: 1,\n",
       " 139: 1,\n",
       " 140: 1,\n",
       " 141: 1,\n",
       " 142: 1,\n",
       " 143: 1,\n",
       " 144: 1,\n",
       " 145: 1,\n",
       " 146: 1,\n",
       " 147: 1,\n",
       " 148: 1,\n",
       " 149: 1,\n",
       " 150: 1,\n",
       " 151: 1,\n",
       " 152: 1,\n",
       " 153: 1,\n",
       " 154: 1,\n",
       " 155: 1,\n",
       " 156: 1,\n",
       " 157: 1,\n",
       " 158: 1,\n",
       " 159: 1,\n",
       " 160: 1,\n",
       " 161: 1,\n",
       " 162: 1,\n",
       " 163: 1,\n",
       " 164: 1,\n",
       " 165: 1,\n",
       " 166: 1,\n",
       " 167: 1,\n",
       " 168: 1,\n",
       " 169: 1,\n",
       " 170: 1,\n",
       " 171: 1,\n",
       " 172: 1,\n",
       " 173: 1,\n",
       " 174: 1,\n",
       " 175: 1,\n",
       " 176: 1,\n",
       " 177: 1,\n",
       " 178: 1,\n",
       " 179: 1,\n",
       " 180: 1,\n",
       " 181: 1,\n",
       " 182: 1,\n",
       " 183: 1,\n",
       " 184: 1,\n",
       " 185: 1,\n",
       " 186: 1,\n",
       " 187: 1,\n",
       " 188: 1,\n",
       " 189: 1,\n",
       " 190: 1,\n",
       " 191: 1,\n",
       " 192: 1,\n",
       " 193: 1,\n",
       " 194: 1,\n",
       " 195: 1,\n",
       " 196: 1,\n",
       " 197: 1,\n",
       " 198: 1,\n",
       " 199: 1,\n",
       " 200: 1,\n",
       " 201: 1,\n",
       " 202: 1,\n",
       " 203: 1,\n",
       " 204: 1,\n",
       " 205: 1,\n",
       " 206: 1,\n",
       " 207: 1,\n",
       " 208: 1,\n",
       " 209: 1,\n",
       " 210: 1,\n",
       " 211: 1,\n",
       " 212: 1,\n",
       " 213: 1,\n",
       " 214: 1,\n",
       " 215: 1,\n",
       " 216: 1,\n",
       " 217: 1,\n",
       " 218: 1,\n",
       " 219: 1,\n",
       " 220: 1,\n",
       " 221: 1,\n",
       " 222: 1,\n",
       " 223: 1,\n",
       " 224: 1,\n",
       " 225: 1,\n",
       " 226: 1,\n",
       " 227: 1,\n",
       " 228: 1,\n",
       " 229: 1,\n",
       " 230: 1,\n",
       " 231: 1,\n",
       " 232: 1,\n",
       " 233: 1,\n",
       " 234: 1,\n",
       " 235: 1,\n",
       " 236: 1,\n",
       " 237: 1,\n",
       " 238: 1,\n",
       " 239: 1,\n",
       " 240: 1,\n",
       " 241: 1,\n",
       " 242: 1,\n",
       " 243: 1,\n",
       " 244: 1,\n",
       " 245: 1,\n",
       " 246: 1,\n",
       " 247: 1,\n",
       " 248: 1,\n",
       " 249: 1,\n",
       " 250: 1,\n",
       " 251: 1,\n",
       " 252: 1,\n",
       " 253: 1,\n",
       " 254: 1,\n",
       " 255: 1,\n",
       " 256: 1,\n",
       " 257: 1,\n",
       " 258: 1,\n",
       " 259: 1,\n",
       " 260: 1,\n",
       " 261: 1,\n",
       " 262: 1,\n",
       " 263: 1,\n",
       " 264: 1,\n",
       " 265: 1,\n",
       " 266: 1,\n",
       " 267: 1,\n",
       " 268: 1,\n",
       " 269: 1,\n",
       " 270: 1,\n",
       " 271: 1,\n",
       " 272: 1,\n",
       " 273: 1,\n",
       " 274: 1,\n",
       " 275: 1,\n",
       " 276: 1,\n",
       " 277: 1,\n",
       " 278: 1,\n",
       " 279: 1,\n",
       " 280: 1,\n",
       " 281: 1,\n",
       " 282: 1,\n",
       " 283: 1,\n",
       " 284: 1,\n",
       " 285: 1,\n",
       " 286: 1,\n",
       " 287: 1,\n",
       " 288: 1,\n",
       " 289: 1,\n",
       " 290: 1,\n",
       " 291: 1,\n",
       " 292: 1,\n",
       " 293: 1,\n",
       " 294: 1,\n",
       " 295: 1,\n",
       " 296: 1,\n",
       " 297: 1,\n",
       " 298: 1,\n",
       " 299: 1,\n",
       " 300: 1,\n",
       " 301: 1,\n",
       " 302: 1,\n",
       " 303: 1,\n",
       " 304: 1,\n",
       " 305: 1,\n",
       " 306: 1,\n",
       " 307: 1,\n",
       " 308: 1,\n",
       " 309: 1,\n",
       " 310: 1,\n",
       " 311: 1,\n",
       " 312: 1,\n",
       " 313: 1,\n",
       " 314: 1,\n",
       " 315: 1,\n",
       " 316: 1,\n",
       " 317: 1,\n",
       " 318: 1,\n",
       " 319: 1,\n",
       " 320: 1,\n",
       " 321: 1,\n",
       " 322: 1,\n",
       " 323: 1,\n",
       " 324: 1,\n",
       " 325: 1,\n",
       " 326: 1,\n",
       " 327: 1,\n",
       " 328: 1,\n",
       " 329: 1,\n",
       " 330: 1,\n",
       " 331: 1,\n",
       " 332: 1,\n",
       " 333: 1,\n",
       " 334: 1,\n",
       " 335: 1,\n",
       " 336: 1,\n",
       " 337: 1,\n",
       " 338: 1,\n",
       " 339: 1,\n",
       " 340: 1,\n",
       " 341: 1,\n",
       " 342: 1,\n",
       " 343: 1,\n",
       " 344: 1,\n",
       " 345: 1,\n",
       " 346: 1,\n",
       " 347: 1,\n",
       " 348: 1,\n",
       " 349: 1,\n",
       " 350: 1,\n",
       " 351: 1,\n",
       " 352: 1,\n",
       " 353: 1,\n",
       " 354: 1,\n",
       " 355: 1,\n",
       " 356: 1,\n",
       " 357: 1,\n",
       " 358: 1,\n",
       " 359: 1,\n",
       " 360: 1,\n",
       " 361: 1,\n",
       " 362: 1,\n",
       " 363: 1,\n",
       " 364: 1,\n",
       " 365: 1,\n",
       " 366: 1,\n",
       " 367: 1,\n",
       " 368: 1,\n",
       " 369: 1,\n",
       " 370: 1,\n",
       " 371: 1,\n",
       " 372: 1,\n",
       " 373: 1,\n",
       " 374: 1,\n",
       " 375: 1,\n",
       " 376: 1,\n",
       " 377: 1,\n",
       " 378: 1,\n",
       " 379: 1,\n",
       " 380: 1,\n",
       " 381: 1,\n",
       " 382: 1,\n",
       " 383: 1,\n",
       " 384: 1,\n",
       " 385: 1,\n",
       " 386: 1,\n",
       " 387: 1,\n",
       " 388: 1,\n",
       " 389: 1,\n",
       " 390: 1,\n",
       " 391: 1,\n",
       " 392: 1,\n",
       " 393: 1,\n",
       " 394: 1,\n",
       " 395: 1,\n",
       " 396: 1,\n",
       " 397: 1,\n",
       " 398: 1,\n",
       " 399: 1,\n",
       " 400: 1,\n",
       " 401: 1,\n",
       " 402: 1,\n",
       " 403: 1,\n",
       " 404: 1,\n",
       " 405: 1,\n",
       " 406: 1,\n",
       " 407: 1,\n",
       " 408: 1,\n",
       " 409: 1,\n",
       " 410: 1,\n",
       " 411: 1,\n",
       " 412: 1,\n",
       " 413: 1,\n",
       " 414: 1,\n",
       " 415: 1,\n",
       " 416: 1,\n",
       " 417: 1,\n",
       " 418: 1,\n",
       " 419: 1,\n",
       " 420: 1,\n",
       " 421: 1,\n",
       " 422: 1,\n",
       " 423: 1,\n",
       " 424: 1,\n",
       " 425: 1,\n",
       " 426: 1,\n",
       " 427: 1,\n",
       " 428: 1,\n",
       " 429: 1,\n",
       " 430: 1,\n",
       " 431: 1,\n",
       " 432: 1,\n",
       " 433: 1,\n",
       " 434: 1,\n",
       " 435: 1,\n",
       " 436: 1,\n",
       " 437: 1,\n",
       " 438: 1,\n",
       " 439: 1,\n",
       " 440: 1,\n",
       " 441: 1,\n",
       " 442: 1,\n",
       " 443: 1,\n",
       " 444: 1,\n",
       " 445: 1,\n",
       " 446: 1,\n",
       " 447: 1,\n",
       " 448: 1,\n",
       " 449: 1,\n",
       " 450: 1,\n",
       " 451: 1,\n",
       " 452: 1,\n",
       " 453: 1,\n",
       " 454: 1,\n",
       " 455: 1,\n",
       " 456: 1,\n",
       " 457: 1,\n",
       " 458: 1,\n",
       " 459: 1,\n",
       " 460: 1,\n",
       " 461: 1,\n",
       " 462: 1,\n",
       " 463: 1,\n",
       " 464: 1,\n",
       " 465: 1,\n",
       " 466: 1,\n",
       " 467: 1,\n",
       " 468: 1,\n",
       " 469: 1,\n",
       " 470: 1,\n",
       " 471: 1,\n",
       " 472: 1,\n",
       " 473: 1,\n",
       " 474: 1,\n",
       " 475: 1,\n",
       " 476: 1,\n",
       " 477: 1,\n",
       " 478: 1,\n",
       " 479: 1,\n",
       " 480: 1,\n",
       " 481: 1,\n",
       " 482: 1,\n",
       " 483: 1,\n",
       " 484: 1,\n",
       " 485: 1,\n",
       " 486: 1,\n",
       " 487: 1,\n",
       " 488: 1,\n",
       " 489: 1,\n",
       " 490: 1,\n",
       " 491: 1,\n",
       " 492: 1,\n",
       " 493: 1,\n",
       " 494: 1,\n",
       " 495: 1,\n",
       " 496: 1,\n",
       " 497: 1,\n",
       " 498: 1,\n",
       " 499: 1,\n",
       " 500: 1,\n",
       " 501: 1,\n",
       " 502: 1,\n",
       " 503: 1,\n",
       " 504: 1,\n",
       " 505: 1,\n",
       " 506: 1,\n",
       " 507: 1,\n",
       " 508: 1,\n",
       " 509: 1,\n",
       " 510: 1,\n",
       " 511: 1,\n",
       " 512: 1,\n",
       " 513: 1,\n",
       " 514: 1,\n",
       " 515: 1,\n",
       " 516: 1,\n",
       " 517: 1,\n",
       " 518: 1,\n",
       " 519: 1,\n",
       " 520: 1,\n",
       " 521: 1,\n",
       " 522: 1,\n",
       " 523: 1,\n",
       " 524: 1,\n",
       " 525: 1,\n",
       " 526: 1,\n",
       " 527: 1,\n",
       " 528: 1,\n",
       " 529: 1,\n",
       " 530: 1,\n",
       " 531: 1,\n",
       " 532: 1,\n",
       " 533: 1,\n",
       " 534: 1,\n",
       " 535: 1,\n",
       " 536: 1,\n",
       " 537: 1,\n",
       " 538: 1,\n",
       " 539: 1,\n",
       " 540: 1,\n",
       " 541: 1,\n",
       " 542: 1,\n",
       " 543: 1,\n",
       " 544: 1,\n",
       " 545: 1,\n",
       " 546: 1,\n",
       " 547: 1,\n",
       " 548: 1,\n",
       " 549: 1,\n",
       " 550: 1,\n",
       " 551: 1,\n",
       " 552: 1,\n",
       " 553: 1,\n",
       " 554: 1,\n",
       " 555: 1,\n",
       " 556: 1,\n",
       " 557: 1,\n",
       " 558: 1,\n",
       " 559: 1,\n",
       " 560: 1,\n",
       " 561: 1,\n",
       " 562: 1,\n",
       " 563: 1,\n",
       " 564: 1,\n",
       " 565: 1,\n",
       " 566: 1,\n",
       " 567: 1,\n",
       " 568: 1,\n",
       " 569: 1,\n",
       " 570: 1,\n",
       " 571: 1,\n",
       " 572: 1,\n",
       " 573: 1,\n",
       " 574: 1,\n",
       " 575: 1,\n",
       " 576: 1,\n",
       " 577: 1,\n",
       " 578: 1,\n",
       " 579: 1,\n",
       " 580: 1,\n",
       " 581: 1,\n",
       " 582: 1,\n",
       " 583: 1,\n",
       " 584: 1,\n",
       " 585: 1,\n",
       " 586: 1,\n",
       " 587: 1,\n",
       " 588: 1,\n",
       " 589: 1,\n",
       " 590: 1,\n",
       " 591: 1,\n",
       " 592: 1,\n",
       " 593: 1,\n",
       " 594: 1,\n",
       " 595: 1,\n",
       " 596: 1,\n",
       " 597: 1,\n",
       " 598: 1,\n",
       " 599: 1,\n",
       " 600: 1,\n",
       " 601: 1,\n",
       " 602: 1,\n",
       " 603: 1,\n",
       " 604: 1,\n",
       " 605: 1,\n",
       " 606: 1,\n",
       " 607: 1,\n",
       " 608: 1,\n",
       " 609: 1,\n",
       " 610: 1,\n",
       " 611: 1,\n",
       " 612: 1,\n",
       " 613: 1,\n",
       " 614: 1,\n",
       " 615: 1,\n",
       " 616: 1,\n",
       " 617: 1,\n",
       " 618: 1,\n",
       " 619: 1,\n",
       " 620: 1,\n",
       " 621: 1,\n",
       " 622: 1,\n",
       " 623: 1,\n",
       " 624: 1,\n",
       " 625: 1,\n",
       " 626: 1,\n",
       " 627: 1,\n",
       " 628: 1,\n",
       " 629: 1,\n",
       " 630: 1,\n",
       " 631: 1,\n",
       " 632: 1,\n",
       " 633: 1,\n",
       " 634: 1,\n",
       " 635: 1,\n",
       " 636: 1,\n",
       " 637: 1,\n",
       " 638: 1,\n",
       " 639: 1,\n",
       " 640: 1,\n",
       " 641: 1,\n",
       " 642: 1,\n",
       " 643: 1,\n",
       " 644: 1,\n",
       " 645: 1,\n",
       " 646: 1,\n",
       " 647: 1,\n",
       " 648: 1,\n",
       " 649: 1,\n",
       " 650: 1,\n",
       " 651: 1,\n",
       " 652: 1,\n",
       " 653: 1,\n",
       " 654: 1,\n",
       " 655: 1,\n",
       " 656: 1,\n",
       " 657: 1,\n",
       " 658: 1,\n",
       " 659: 1,\n",
       " 660: 1,\n",
       " 661: 1,\n",
       " 662: 1,\n",
       " 663: 1,\n",
       " 664: 1,\n",
       " 665: 1,\n",
       " 666: 1,\n",
       " 667: 1,\n",
       " 668: 1,\n",
       " 669: 1,\n",
       " 670: 1,\n",
       " 671: 1,\n",
       " 672: 1,\n",
       " 673: 1,\n",
       " 674: 1,\n",
       " 675: 1,\n",
       " 676: 1,\n",
       " 677: 1,\n",
       " 678: 1,\n",
       " 679: 1,\n",
       " 680: 1,\n",
       " 681: 1,\n",
       " 682: 1,\n",
       " 683: 1,\n",
       " 684: 1,\n",
       " 685: 1,\n",
       " 686: 1,\n",
       " 687: 1,\n",
       " 688: 1,\n",
       " 689: 1,\n",
       " 690: 1,\n",
       " 691: 1,\n",
       " 692: 1,\n",
       " 693: 1,\n",
       " 694: 1,\n",
       " 695: 1,\n",
       " 696: 1,\n",
       " 697: 1,\n",
       " 698: 1,\n",
       " 699: 1,\n",
       " 700: 1,\n",
       " 701: 1,\n",
       " 702: 1,\n",
       " 703: 1,\n",
       " 704: 1,\n",
       " 705: 1,\n",
       " 706: 1,\n",
       " 707: 1,\n",
       " 708: 1,\n",
       " 709: 1,\n",
       " 710: 1,\n",
       " 711: 1,\n",
       " 712: 1,\n",
       " 713: 1,\n",
       " 714: 1,\n",
       " 715: 1,\n",
       " 716: 1,\n",
       " 717: 1,\n",
       " 718: 1,\n",
       " 719: 1,\n",
       " 720: 1,\n",
       " 721: 1,\n",
       " 722: 1,\n",
       " 723: 1,\n",
       " 724: 1,\n",
       " 725: 1,\n",
       " 726: 1,\n",
       " 727: 1,\n",
       " 728: 1,\n",
       " 729: 1,\n",
       " 730: 1,\n",
       " 731: 1,\n",
       " 732: 1,\n",
       " 733: 1,\n",
       " 734: 1,\n",
       " 735: 1,\n",
       " 736: 1,\n",
       " 737: 1,\n",
       " 738: 1,\n",
       " 739: 1,\n",
       " 740: 1,\n",
       " 741: 1,\n",
       " 742: 1,\n",
       " 743: 1,\n",
       " 744: 1,\n",
       " 745: 1,\n",
       " 746: 1,\n",
       " 747: 1,\n",
       " 748: 1,\n",
       " 749: 1,\n",
       " 750: 1,\n",
       " 751: 1,\n",
       " 752: 1,\n",
       " 753: 1,\n",
       " 754: 1,\n",
       " 755: 1,\n",
       " 756: 1,\n",
       " 757: 1,\n",
       " 758: 1,\n",
       " 759: 1,\n",
       " 760: 1,\n",
       " 761: 1,\n",
       " 762: 1,\n",
       " 763: 1,\n",
       " 764: 1,\n",
       " 765: 1,\n",
       " 766: 1,\n",
       " 767: 1,\n",
       " 768: 1,\n",
       " 769: 1,\n",
       " 770: 1,\n",
       " 771: 1,\n",
       " 772: 1,\n",
       " 773: 1,\n",
       " 774: 1,\n",
       " 775: 1,\n",
       " 776: 1,\n",
       " 777: 1,\n",
       " 778: 1,\n",
       " 779: 1,\n",
       " 780: 1,\n",
       " 781: 1,\n",
       " 782: 1,\n",
       " 783: 1,\n",
       " 784: 1,\n",
       " 785: 1,\n",
       " 786: 1,\n",
       " 787: 1,\n",
       " 788: 1,\n",
       " 789: 1,\n",
       " 790: 1,\n",
       " 791: 1,\n",
       " 792: 1,\n",
       " 793: 1,\n",
       " 794: 1,\n",
       " 795: 1,\n",
       " 796: 1,\n",
       " 797: 1,\n",
       " 798: 1,\n",
       " 799: 1,\n",
       " 800: 1,\n",
       " 801: 1,\n",
       " 802: 1,\n",
       " 803: 1,\n",
       " 804: 1,\n",
       " 805: 1,\n",
       " 806: 1,\n",
       " 807: 1,\n",
       " 808: 1,\n",
       " 809: 1,\n",
       " 810: 1,\n",
       " 811: 1,\n",
       " 812: 1,\n",
       " 813: 1,\n",
       " 814: 1,\n",
       " 815: 1,\n",
       " 816: 1,\n",
       " 817: 1,\n",
       " 818: 1,\n",
       " 819: 1,\n",
       " 820: 1,\n",
       " 821: 1,\n",
       " 822: 1,\n",
       " 823: 1,\n",
       " 824: 1,\n",
       " 825: 1,\n",
       " 826: 1,\n",
       " 827: 1,\n",
       " 828: 1,\n",
       " 829: 1,\n",
       " 830: 1,\n",
       " 831: 1,\n",
       " 832: 1,\n",
       " 833: 1,\n",
       " 834: 1,\n",
       " 835: 1,\n",
       " 836: 1,\n",
       " 837: 1,\n",
       " 838: 1,\n",
       " 839: 1,\n",
       " 840: 1,\n",
       " 841: 1,\n",
       " 842: 1,\n",
       " 843: 1,\n",
       " 844: 1,\n",
       " 845: 1,\n",
       " 846: 1,\n",
       " 847: 1,\n",
       " 848: 1,\n",
       " 849: 1,\n",
       " 850: 1,\n",
       " 851: 1,\n",
       " 852: 1,\n",
       " 853: 1,\n",
       " 854: 1,\n",
       " 855: 1,\n",
       " 856: 1,\n",
       " 857: 1,\n",
       " 858: 1,\n",
       " 859: 1,\n",
       " 860: 1,\n",
       " 861: 1,\n",
       " 862: 1,\n",
       " 863: 1,\n",
       " 864: 1,\n",
       " 865: 1,\n",
       " 866: 1,\n",
       " 867: 1,\n",
       " 868: 1,\n",
       " 869: 1,\n",
       " 870: 1,\n",
       " 871: 1,\n",
       " 872: 1,\n",
       " 873: 1,\n",
       " 874: 1,\n",
       " 875: 1,\n",
       " 876: 1,\n",
       " 877: 1,\n",
       " 878: 1,\n",
       " 879: 1,\n",
       " 880: 1,\n",
       " 881: 1,\n",
       " 882: 1,\n",
       " 883: 1,\n",
       " 884: 1,\n",
       " 885: 1,\n",
       " 886: 1,\n",
       " 887: 1,\n",
       " 888: 1,\n",
       " 889: 1,\n",
       " 890: 1,\n",
       " 891: 1,\n",
       " 892: 1,\n",
       " 893: 1,\n",
       " 894: 1,\n",
       " 895: 1,\n",
       " 896: 1,\n",
       " 897: 1,\n",
       " 898: 1,\n",
       " 899: 1,\n",
       " 900: 1,\n",
       " 901: 1,\n",
       " 902: 1,\n",
       " 903: 1,\n",
       " 904: 1,\n",
       " 905: 1,\n",
       " 906: 1,\n",
       " 907: 1,\n",
       " 908: 1,\n",
       " 909: 1,\n",
       " 910: 1,\n",
       " 911: 1,\n",
       " 912: 1,\n",
       " 913: 1,\n",
       " 914: 1,\n",
       " 915: 1,\n",
       " 916: 1,\n",
       " 917: 1,\n",
       " 918: 1,\n",
       " 919: 1,\n",
       " 920: 1,\n",
       " 921: 1,\n",
       " 922: 1,\n",
       " 923: 1,\n",
       " 924: 1,\n",
       " 925: 1,\n",
       " 926: 1,\n",
       " 927: 1,\n",
       " 928: 1,\n",
       " 929: 1,\n",
       " 930: 1,\n",
       " 931: 1,\n",
       " 932: 1,\n",
       " 933: 1,\n",
       " 934: 1,\n",
       " 935: 1,\n",
       " 936: 1,\n",
       " 937: 1,\n",
       " 938: 1,\n",
       " 939: 1,\n",
       " 940: 1,\n",
       " 941: 1,\n",
       " 942: 1,\n",
       " 943: 1,\n",
       " 944: 1,\n",
       " 945: 1,\n",
       " 946: 1,\n",
       " 947: 1,\n",
       " 948: 1,\n",
       " 949: 1,\n",
       " 950: 1,\n",
       " 951: 1,\n",
       " 952: 1,\n",
       " 953: 1,\n",
       " 954: 1,\n",
       " 955: 1,\n",
       " 956: 1,\n",
       " 957: 1,\n",
       " 958: 1,\n",
       " 959: 1,\n",
       " 960: 1,\n",
       " 961: 1,\n",
       " 962: 1,\n",
       " 963: 1,\n",
       " 964: 1,\n",
       " 965: 1,\n",
       " 966: 1,\n",
       " 967: 1,\n",
       " 968: 1,\n",
       " 969: 1,\n",
       " 970: 1,\n",
       " 971: 1,\n",
       " 972: 1,\n",
       " 973: 1,\n",
       " 974: 1,\n",
       " 975: 1,\n",
       " 976: 1,\n",
       " 977: 1,\n",
       " 978: 1,\n",
       " 979: 1,\n",
       " 980: 1,\n",
       " 981: 1,\n",
       " 982: 1,\n",
       " 983: 1,\n",
       " 984: 1,\n",
       " 985: 1,\n",
       " 986: 1,\n",
       " 987: 1,\n",
       " 988: 1,\n",
       " 989: 1,\n",
       " 990: 1,\n",
       " 991: 1,\n",
       " 992: 1,\n",
       " 993: 1,\n",
       " 994: 1,\n",
       " 995: 1,\n",
       " 996: 1,\n",
       " 997: 1,\n",
       " 998: 1,\n",
       " 999: 1,\n",
       " ...}"
      ]
     },
     "execution_count": 60,
     "metadata": {},
     "output_type": "execute_result"
    }
   ],
   "source": [
    "genre_maps={index:label for index,label in enumerate(Bank_other['poutcome'])}\n",
    "genre_maps"
   ]
  },
  {
   "cell_type": "markdown",
   "metadata": {},
   "source": [
    "### Social and economic context attributes"
   ]
  },
  {
   "cell_type": "code",
   "execution_count": 61,
   "metadata": {},
   "outputs": [
    {
     "data": {
      "text/html": [
       "<div>\n",
       "<style scoped>\n",
       "    .dataframe tbody tr th:only-of-type {\n",
       "        vertical-align: middle;\n",
       "    }\n",
       "\n",
       "    .dataframe tbody tr th {\n",
       "        vertical-align: top;\n",
       "    }\n",
       "\n",
       "    .dataframe thead th {\n",
       "        text-align: right;\n",
       "    }\n",
       "</style>\n",
       "<table border=\"1\" class=\"dataframe\">\n",
       "  <thead>\n",
       "    <tr style=\"text-align: right;\">\n",
       "      <th></th>\n",
       "      <th>emp.var.rate</th>\n",
       "      <th>cons.price.idx</th>\n",
       "      <th>cons.conf.idx</th>\n",
       "      <th>euribor3m</th>\n",
       "      <th>nr.employed</th>\n",
       "    </tr>\n",
       "  </thead>\n",
       "  <tbody>\n",
       "    <tr>\n",
       "      <th>0</th>\n",
       "      <td>1.1</td>\n",
       "      <td>93.994</td>\n",
       "      <td>-36.4</td>\n",
       "      <td>4.857</td>\n",
       "      <td>5191.0</td>\n",
       "    </tr>\n",
       "    <tr>\n",
       "      <th>1</th>\n",
       "      <td>1.1</td>\n",
       "      <td>93.994</td>\n",
       "      <td>-36.4</td>\n",
       "      <td>4.857</td>\n",
       "      <td>5191.0</td>\n",
       "    </tr>\n",
       "    <tr>\n",
       "      <th>2</th>\n",
       "      <td>1.1</td>\n",
       "      <td>93.994</td>\n",
       "      <td>-36.4</td>\n",
       "      <td>4.857</td>\n",
       "      <td>5191.0</td>\n",
       "    </tr>\n",
       "    <tr>\n",
       "      <th>3</th>\n",
       "      <td>1.1</td>\n",
       "      <td>93.994</td>\n",
       "      <td>-36.4</td>\n",
       "      <td>4.857</td>\n",
       "      <td>5191.0</td>\n",
       "    </tr>\n",
       "    <tr>\n",
       "      <th>4</th>\n",
       "      <td>1.1</td>\n",
       "      <td>93.994</td>\n",
       "      <td>-36.4</td>\n",
       "      <td>4.857</td>\n",
       "      <td>5191.0</td>\n",
       "    </tr>\n",
       "  </tbody>\n",
       "</table>\n",
       "</div>"
      ],
      "text/plain": [
       "   emp.var.rate  cons.price.idx  cons.conf.idx  euribor3m  nr.employed\n",
       "0           1.1          93.994          -36.4      4.857       5191.0\n",
       "1           1.1          93.994          -36.4      4.857       5191.0\n",
       "2           1.1          93.994          -36.4      4.857       5191.0\n",
       "3           1.1          93.994          -36.4      4.857       5191.0\n",
       "4           1.1          93.994          -36.4      4.857       5191.0"
      ]
     },
     "execution_count": 61,
     "metadata": {},
     "output_type": "execute_result"
    }
   ],
   "source": [
    "Bank_se=df.loc[:,['emp.var.rate', 'cons.price.idx', 'cons.conf.idx', 'euribor3m', 'nr.employed']]\n",
    "Bank_se.head()"
   ]
  },
  {
   "cell_type": "markdown",
   "metadata": {},
   "source": [
    "#### Concating the all the columns"
   ]
  },
  {
   "cell_type": "code",
   "execution_count": 62,
   "metadata": {},
   "outputs": [],
   "source": [
    "Bank_final=pd.concat([Bank_client,Bank_related,Bank_other,Bank_se],axis=1)"
   ]
  },
  {
   "cell_type": "code",
   "execution_count": 63,
   "metadata": {},
   "outputs": [
    {
     "data": {
      "text/html": [
       "<div>\n",
       "<style scoped>\n",
       "    .dataframe tbody tr th:only-of-type {\n",
       "        vertical-align: middle;\n",
       "    }\n",
       "\n",
       "    .dataframe tbody tr th {\n",
       "        vertical-align: top;\n",
       "    }\n",
       "\n",
       "    .dataframe thead th {\n",
       "        text-align: right;\n",
       "    }\n",
       "</style>\n",
       "<table border=\"1\" class=\"dataframe\">\n",
       "  <thead>\n",
       "    <tr style=\"text-align: right;\">\n",
       "      <th></th>\n",
       "      <th>age</th>\n",
       "      <th>job</th>\n",
       "      <th>marital</th>\n",
       "      <th>education</th>\n",
       "      <th>default</th>\n",
       "      <th>housing</th>\n",
       "      <th>loan</th>\n",
       "      <th>contact</th>\n",
       "      <th>month</th>\n",
       "      <th>day_of_week</th>\n",
       "      <th>duration</th>\n",
       "      <th>campaign</th>\n",
       "      <th>pdays</th>\n",
       "      <th>previous</th>\n",
       "      <th>poutcome</th>\n",
       "      <th>emp.var.rate</th>\n",
       "      <th>cons.price.idx</th>\n",
       "      <th>cons.conf.idx</th>\n",
       "      <th>euribor3m</th>\n",
       "      <th>nr.employed</th>\n",
       "    </tr>\n",
       "  </thead>\n",
       "  <tbody>\n",
       "    <tr>\n",
       "      <th>0</th>\n",
       "      <td>39</td>\n",
       "      <td>3</td>\n",
       "      <td>1</td>\n",
       "      <td>0</td>\n",
       "      <td>0</td>\n",
       "      <td>0</td>\n",
       "      <td>0</td>\n",
       "      <td>1</td>\n",
       "      <td>6</td>\n",
       "      <td>1</td>\n",
       "      <td>261</td>\n",
       "      <td>1</td>\n",
       "      <td>999</td>\n",
       "      <td>0</td>\n",
       "      <td>1</td>\n",
       "      <td>1.1</td>\n",
       "      <td>93.994</td>\n",
       "      <td>-36.4</td>\n",
       "      <td>4.857</td>\n",
       "      <td>5191.0</td>\n",
       "    </tr>\n",
       "    <tr>\n",
       "      <th>1</th>\n",
       "      <td>40</td>\n",
       "      <td>7</td>\n",
       "      <td>1</td>\n",
       "      <td>3</td>\n",
       "      <td>1</td>\n",
       "      <td>0</td>\n",
       "      <td>0</td>\n",
       "      <td>1</td>\n",
       "      <td>6</td>\n",
       "      <td>1</td>\n",
       "      <td>149</td>\n",
       "      <td>1</td>\n",
       "      <td>999</td>\n",
       "      <td>0</td>\n",
       "      <td>1</td>\n",
       "      <td>1.1</td>\n",
       "      <td>93.994</td>\n",
       "      <td>-36.4</td>\n",
       "      <td>4.857</td>\n",
       "      <td>5191.0</td>\n",
       "    </tr>\n",
       "    <tr>\n",
       "      <th>2</th>\n",
       "      <td>20</td>\n",
       "      <td>7</td>\n",
       "      <td>1</td>\n",
       "      <td>3</td>\n",
       "      <td>0</td>\n",
       "      <td>2</td>\n",
       "      <td>0</td>\n",
       "      <td>1</td>\n",
       "      <td>6</td>\n",
       "      <td>1</td>\n",
       "      <td>226</td>\n",
       "      <td>1</td>\n",
       "      <td>999</td>\n",
       "      <td>0</td>\n",
       "      <td>1</td>\n",
       "      <td>1.1</td>\n",
       "      <td>93.994</td>\n",
       "      <td>-36.4</td>\n",
       "      <td>4.857</td>\n",
       "      <td>5191.0</td>\n",
       "    </tr>\n",
       "    <tr>\n",
       "      <th>3</th>\n",
       "      <td>23</td>\n",
       "      <td>0</td>\n",
       "      <td>1</td>\n",
       "      <td>1</td>\n",
       "      <td>0</td>\n",
       "      <td>0</td>\n",
       "      <td>0</td>\n",
       "      <td>1</td>\n",
       "      <td>6</td>\n",
       "      <td>1</td>\n",
       "      <td>151</td>\n",
       "      <td>1</td>\n",
       "      <td>999</td>\n",
       "      <td>0</td>\n",
       "      <td>1</td>\n",
       "      <td>1.1</td>\n",
       "      <td>93.994</td>\n",
       "      <td>-36.4</td>\n",
       "      <td>4.857</td>\n",
       "      <td>5191.0</td>\n",
       "    </tr>\n",
       "    <tr>\n",
       "      <th>4</th>\n",
       "      <td>39</td>\n",
       "      <td>7</td>\n",
       "      <td>1</td>\n",
       "      <td>3</td>\n",
       "      <td>0</td>\n",
       "      <td>0</td>\n",
       "      <td>2</td>\n",
       "      <td>1</td>\n",
       "      <td>6</td>\n",
       "      <td>1</td>\n",
       "      <td>307</td>\n",
       "      <td>1</td>\n",
       "      <td>999</td>\n",
       "      <td>0</td>\n",
       "      <td>1</td>\n",
       "      <td>1.1</td>\n",
       "      <td>93.994</td>\n",
       "      <td>-36.4</td>\n",
       "      <td>4.857</td>\n",
       "      <td>5191.0</td>\n",
       "    </tr>\n",
       "  </tbody>\n",
       "</table>\n",
       "</div>"
      ],
      "text/plain": [
       "   age  job  marital  education  default  housing  loan  contact  month  \\\n",
       "0   39    3        1          0        0        0     0        1      6   \n",
       "1   40    7        1          3        1        0     0        1      6   \n",
       "2   20    7        1          3        0        2     0        1      6   \n",
       "3   23    0        1          1        0        0     0        1      6   \n",
       "4   39    7        1          3        0        0     2        1      6   \n",
       "\n",
       "   day_of_week  duration  campaign  pdays  previous  poutcome  emp.var.rate  \\\n",
       "0            1       261         1    999         0         1           1.1   \n",
       "1            1       149         1    999         0         1           1.1   \n",
       "2            1       226         1    999         0         1           1.1   \n",
       "3            1       151         1    999         0         1           1.1   \n",
       "4            1       307         1    999         0         1           1.1   \n",
       "\n",
       "   cons.price.idx  cons.conf.idx  euribor3m  nr.employed  \n",
       "0          93.994          -36.4      4.857       5191.0  \n",
       "1          93.994          -36.4      4.857       5191.0  \n",
       "2          93.994          -36.4      4.857       5191.0  \n",
       "3          93.994          -36.4      4.857       5191.0  \n",
       "4          93.994          -36.4      4.857       5191.0  "
      ]
     },
     "execution_count": 63,
     "metadata": {},
     "output_type": "execute_result"
    }
   ],
   "source": [
    "Bank_final.head()"
   ]
  },
  {
   "cell_type": "code",
   "execution_count": 64,
   "metadata": {},
   "outputs": [],
   "source": [
    "Bank_final['y']=df['y']"
   ]
  },
  {
   "cell_type": "code",
   "execution_count": 65,
   "metadata": {
    "scrolled": false
   },
   "outputs": [],
   "source": [
    "Bank_final['y']=pd.get_dummies(Bank_final['y'],drop_first=True)"
   ]
  },
  {
   "cell_type": "code",
   "execution_count": 66,
   "metadata": {},
   "outputs": [
    {
     "data": {
      "text/html": [
       "<div>\n",
       "<style scoped>\n",
       "    .dataframe tbody tr th:only-of-type {\n",
       "        vertical-align: middle;\n",
       "    }\n",
       "\n",
       "    .dataframe tbody tr th {\n",
       "        vertical-align: top;\n",
       "    }\n",
       "\n",
       "    .dataframe thead th {\n",
       "        text-align: right;\n",
       "    }\n",
       "</style>\n",
       "<table border=\"1\" class=\"dataframe\">\n",
       "  <thead>\n",
       "    <tr style=\"text-align: right;\">\n",
       "      <th></th>\n",
       "      <th>age</th>\n",
       "      <th>job</th>\n",
       "      <th>marital</th>\n",
       "      <th>education</th>\n",
       "      <th>default</th>\n",
       "      <th>housing</th>\n",
       "      <th>loan</th>\n",
       "      <th>contact</th>\n",
       "      <th>month</th>\n",
       "      <th>day_of_week</th>\n",
       "      <th>duration</th>\n",
       "      <th>campaign</th>\n",
       "      <th>pdays</th>\n",
       "      <th>previous</th>\n",
       "      <th>poutcome</th>\n",
       "      <th>emp.var.rate</th>\n",
       "      <th>cons.price.idx</th>\n",
       "      <th>cons.conf.idx</th>\n",
       "      <th>euribor3m</th>\n",
       "      <th>nr.employed</th>\n",
       "      <th>y</th>\n",
       "    </tr>\n",
       "  </thead>\n",
       "  <tbody>\n",
       "    <tr>\n",
       "      <th>0</th>\n",
       "      <td>39</td>\n",
       "      <td>3</td>\n",
       "      <td>1</td>\n",
       "      <td>0</td>\n",
       "      <td>0</td>\n",
       "      <td>0</td>\n",
       "      <td>0</td>\n",
       "      <td>1</td>\n",
       "      <td>6</td>\n",
       "      <td>1</td>\n",
       "      <td>261</td>\n",
       "      <td>1</td>\n",
       "      <td>999</td>\n",
       "      <td>0</td>\n",
       "      <td>1</td>\n",
       "      <td>1.1</td>\n",
       "      <td>93.994</td>\n",
       "      <td>-36.4</td>\n",
       "      <td>4.857</td>\n",
       "      <td>5191.0</td>\n",
       "      <td>0</td>\n",
       "    </tr>\n",
       "    <tr>\n",
       "      <th>1</th>\n",
       "      <td>40</td>\n",
       "      <td>7</td>\n",
       "      <td>1</td>\n",
       "      <td>3</td>\n",
       "      <td>1</td>\n",
       "      <td>0</td>\n",
       "      <td>0</td>\n",
       "      <td>1</td>\n",
       "      <td>6</td>\n",
       "      <td>1</td>\n",
       "      <td>149</td>\n",
       "      <td>1</td>\n",
       "      <td>999</td>\n",
       "      <td>0</td>\n",
       "      <td>1</td>\n",
       "      <td>1.1</td>\n",
       "      <td>93.994</td>\n",
       "      <td>-36.4</td>\n",
       "      <td>4.857</td>\n",
       "      <td>5191.0</td>\n",
       "      <td>0</td>\n",
       "    </tr>\n",
       "    <tr>\n",
       "      <th>2</th>\n",
       "      <td>20</td>\n",
       "      <td>7</td>\n",
       "      <td>1</td>\n",
       "      <td>3</td>\n",
       "      <td>0</td>\n",
       "      <td>2</td>\n",
       "      <td>0</td>\n",
       "      <td>1</td>\n",
       "      <td>6</td>\n",
       "      <td>1</td>\n",
       "      <td>226</td>\n",
       "      <td>1</td>\n",
       "      <td>999</td>\n",
       "      <td>0</td>\n",
       "      <td>1</td>\n",
       "      <td>1.1</td>\n",
       "      <td>93.994</td>\n",
       "      <td>-36.4</td>\n",
       "      <td>4.857</td>\n",
       "      <td>5191.0</td>\n",
       "      <td>0</td>\n",
       "    </tr>\n",
       "    <tr>\n",
       "      <th>3</th>\n",
       "      <td>23</td>\n",
       "      <td>0</td>\n",
       "      <td>1</td>\n",
       "      <td>1</td>\n",
       "      <td>0</td>\n",
       "      <td>0</td>\n",
       "      <td>0</td>\n",
       "      <td>1</td>\n",
       "      <td>6</td>\n",
       "      <td>1</td>\n",
       "      <td>151</td>\n",
       "      <td>1</td>\n",
       "      <td>999</td>\n",
       "      <td>0</td>\n",
       "      <td>1</td>\n",
       "      <td>1.1</td>\n",
       "      <td>93.994</td>\n",
       "      <td>-36.4</td>\n",
       "      <td>4.857</td>\n",
       "      <td>5191.0</td>\n",
       "      <td>0</td>\n",
       "    </tr>\n",
       "    <tr>\n",
       "      <th>4</th>\n",
       "      <td>39</td>\n",
       "      <td>7</td>\n",
       "      <td>1</td>\n",
       "      <td>3</td>\n",
       "      <td>0</td>\n",
       "      <td>0</td>\n",
       "      <td>2</td>\n",
       "      <td>1</td>\n",
       "      <td>6</td>\n",
       "      <td>1</td>\n",
       "      <td>307</td>\n",
       "      <td>1</td>\n",
       "      <td>999</td>\n",
       "      <td>0</td>\n",
       "      <td>1</td>\n",
       "      <td>1.1</td>\n",
       "      <td>93.994</td>\n",
       "      <td>-36.4</td>\n",
       "      <td>4.857</td>\n",
       "      <td>5191.0</td>\n",
       "      <td>0</td>\n",
       "    </tr>\n",
       "  </tbody>\n",
       "</table>\n",
       "</div>"
      ],
      "text/plain": [
       "   age  job  marital  education  default  housing  loan  contact  month  \\\n",
       "0   39    3        1          0        0        0     0        1      6   \n",
       "1   40    7        1          3        1        0     0        1      6   \n",
       "2   20    7        1          3        0        2     0        1      6   \n",
       "3   23    0        1          1        0        0     0        1      6   \n",
       "4   39    7        1          3        0        0     2        1      6   \n",
       "\n",
       "   day_of_week  duration  campaign  pdays  previous  poutcome  emp.var.rate  \\\n",
       "0            1       261         1    999         0         1           1.1   \n",
       "1            1       149         1    999         0         1           1.1   \n",
       "2            1       226         1    999         0         1           1.1   \n",
       "3            1       151         1    999         0         1           1.1   \n",
       "4            1       307         1    999         0         1           1.1   \n",
       "\n",
       "   cons.price.idx  cons.conf.idx  euribor3m  nr.employed  y  \n",
       "0          93.994          -36.4      4.857       5191.0  0  \n",
       "1          93.994          -36.4      4.857       5191.0  0  \n",
       "2          93.994          -36.4      4.857       5191.0  0  \n",
       "3          93.994          -36.4      4.857       5191.0  0  \n",
       "4          93.994          -36.4      4.857       5191.0  0  "
      ]
     },
     "execution_count": 66,
     "metadata": {},
     "output_type": "execute_result"
    }
   ],
   "source": [
    "Bank_final.head()"
   ]
  },
  {
   "cell_type": "code",
   "execution_count": 67,
   "metadata": {},
   "outputs": [
    {
     "data": {
      "text/plain": [
       "(41188, 21)"
      ]
     },
     "execution_count": 67,
     "metadata": {},
     "output_type": "execute_result"
    }
   ],
   "source": [
    "Bank_final.shape"
   ]
  },
  {
   "cell_type": "code",
   "execution_count": 68,
   "metadata": {},
   "outputs": [],
   "source": [
    "#Removing the outliers as we already know when the duration is 0 it means customer hadn't subscribed to it.\n",
    "outliers=Bank_final[Bank_final['duration']<=0].index"
   ]
  },
  {
   "cell_type": "code",
   "execution_count": 69,
   "metadata": {
    "scrolled": true
   },
   "outputs": [
    {
     "data": {
      "text/plain": [
       "(41184, 21)"
      ]
     },
     "execution_count": 69,
     "metadata": {},
     "output_type": "execute_result"
    }
   ],
   "source": [
    "Bank_final.drop(labels=outliers,inplace=True)\n",
    "Bank_final.shape"
   ]
  },
  {
   "cell_type": "code",
   "execution_count": 70,
   "metadata": {},
   "outputs": [
    {
     "data": {
      "text/plain": [
       "0    36544\n",
       "1     4640\n",
       "Name: y, dtype: int64"
      ]
     },
     "execution_count": 70,
     "metadata": {},
     "output_type": "execute_result"
    }
   ],
   "source": [
    "Bank_final['y'].value_counts()"
   ]
  },
  {
   "cell_type": "code",
   "execution_count": 71,
   "metadata": {},
   "outputs": [
    {
     "data": {
      "image/png": "[encoded data removed]",
      "text/plain": [
       "<Figure size 576x432 with 1 Axes>"
      ]
     },
     "metadata": {},
     "output_type": "display_data"
    }
   ],
   "source": [
    "plt.figure(figsize=(8,6))\n",
    "sns.countplot(Bank_final['y'])\n",
    "plt.show()"
   ]
  },
  {
   "cell_type": "markdown",
   "metadata": {},
   "source": [
    "- It was an imbalanced dataset, so we need to balance it ."
   ]
  },
  {
   "cell_type": "code",
   "execution_count": 72,
   "metadata": {},
   "outputs": [],
   "source": [
    "X=Bank_final.drop(columns=['y'])\n",
    "y=Bank_final['y']"
   ]
  },
  {
   "cell_type": "code",
   "execution_count": 73,
   "metadata": {},
   "outputs": [
    {
     "name": "stdout",
     "output_type": "stream",
     "text": [
      "(41184, 20) (41184,)\n"
     ]
    }
   ],
   "source": [
    "print(X.shape,y.shape)"
   ]
  },
  {
   "cell_type": "code",
   "execution_count": 74,
   "metadata": {},
   "outputs": [
    {
     "name": "stdout",
     "output_type": "stream",
     "text": [
      "(0, 21) (0, 21)\n"
     ]
    }
   ],
   "source": [
    "yes=Bank_final[Bank_final['y']=='yes']\n",
    "no=Bank_final[Bank_final['y']=='no']\n",
    "print(yes.shape,no.shape)"
   ]
  },
  {
   "cell_type": "code",
   "execution_count": 75,
   "metadata": {},
   "outputs": [],
   "source": [
    "from imblearn.combine import SMOTETomek\n",
    "st=SMOTETomek(random_state=27)\n",
    "X_res,Y_res=st.fit_sample(X,y)"
   ]
  },
  {
   "cell_type": "code",
   "execution_count": 76,
   "metadata": {},
   "outputs": [
    {
     "name": "stdout",
     "output_type": "stream",
     "text": [
      "(72780, 20) (72780,)\n"
     ]
    }
   ],
   "source": [
    "print(X_res.shape,Y_res.shape)"
   ]
  },
  {
   "cell_type": "code",
   "execution_count": 77,
   "metadata": {},
   "outputs": [
    {
     "data": {
      "text/plain": [
       "1    36390\n",
       "0    36390\n",
       "Name: y, dtype: int64"
      ]
     },
     "execution_count": 77,
     "metadata": {},
     "output_type": "execute_result"
    }
   ],
   "source": [
    "Y_res.value_counts()"
   ]
  },
  {
   "cell_type": "markdown",
   "metadata": {},
   "source": [
    "# *Model Analysis*"
   ]
  },
  {
   "cell_type": "code",
   "execution_count": 78,
   "metadata": {},
   "outputs": [],
   "source": [
    "#splitting into train and test splits\n",
    "from sklearn.model_selection import train_test_split\n",
    "X_train, X_test, y_train, y_test=train_test_split(X_res,Y_res,test_size=0.3,random_state=27)"
   ]
  },
  {
   "cell_type": "code",
   "execution_count": 79,
   "metadata": {
    "scrolled": true
   },
   "outputs": [
    {
     "name": "stdout",
     "output_type": "stream",
     "text": [
      "(50946, 20)\n",
      "(21834, 20)\n",
      "(50946,)\n",
      "(21834,)\n"
     ]
    }
   ],
   "source": [
    "print(X_train.shape)\n",
    "print(X_test.shape)\n",
    "print(y_train.shape)\n",
    "print(y_test.shape)"
   ]
  },
  {
   "cell_type": "code",
   "execution_count": 80,
   "metadata": {},
   "outputs": [],
   "source": [
    "#Standardizing the colummns\n",
    "from sklearn.preprocessing import StandardScaler\n",
    "sc=StandardScaler()\n",
    "X_train=sc.fit_transform(X_train)  #standardizing xtrain\n",
    "X_test=sc.transform(X_test)        #standardizing xtest"
   ]
  },
  {
   "cell_type": "code",
   "execution_count": 81,
   "metadata": {},
   "outputs": [
    {
     "data": {
      "text/plain": [
       "array([[ 0.16995053, -0.48355339, -0.17442948, ..., -1.14553998,\n",
       "        -0.91019376, -0.42094713],\n",
       "       [-0.43785662,  0.98941556, -1.83328413, ..., -0.47785617,\n",
       "         1.05391575,  1.06335274],\n",
       "       [-0.00370866, -1.07274097, -0.17442948, ...,  0.72397469,\n",
       "         1.00045979,  0.6364727 ],\n",
       "       ...,\n",
       "       [ 1.29873525, -0.1889596 , -0.17442948, ..., -0.47785617,\n",
       "         1.05179868,  1.06335274],\n",
       "       [ 0.51726891, -1.07274097, -1.83328413, ..., -0.11539924,\n",
       "        -0.90490109, -0.68443912],\n",
       "       [ 0.6040985 ,  0.10563419, -1.83328413, ...,  0.72397469,\n",
       "         0.99887199,  0.6364727 ]])"
      ]
     },
     "execution_count": 81,
     "metadata": {},
     "output_type": "execute_result"
    }
   ],
   "source": [
    "X_train"
   ]
  },
  {
   "cell_type": "code",
   "execution_count": 82,
   "metadata": {},
   "outputs": [
    {
     "data": {
      "text/plain": [
       "array([[-0.26419744, -0.77814718, -1.83328413, ...,  1.29591886,\n",
       "        -1.21581839, -1.43098696],\n",
       "       [-0.95883419,  1.28400935, -0.17442948, ...,  0.64529731,\n",
       "         1.05444501,  1.06335274],\n",
       "       [-0.61151581, -1.07274097, -0.17442948, ..., -0.47785617,\n",
       "         1.05179868,  1.06335274],\n",
       "       ...,\n",
       "       [-0.69834541,  0.10563419,  1.48442517, ..., -0.34431941,\n",
       "         0.60880227,  0.69170246],\n",
       "       [ 0.95141687, -1.07274097, -1.83328413, ..., -0.34431941,\n",
       "         0.58551453,  0.69170246],\n",
       "       [-1.30615256, -0.77814718,  1.48442517, ..., -0.47785617,\n",
       "         1.05444501,  1.06335274]])"
      ]
     },
     "execution_count": 82,
     "metadata": {},
     "output_type": "execute_result"
    }
   ],
   "source": [
    "X_test"
   ]
  },
  {
   "cell_type": "markdown",
   "metadata": {},
   "source": [
    "### Logistic Regression"
   ]
  },
  {
   "cell_type": "code",
   "execution_count": 83,
   "metadata": {},
   "outputs": [
    {
     "data": {
      "text/plain": [
       "LogisticRegression(C=1.0, class_weight=None, dual=False, fit_intercept=True,\n",
       "                   intercept_scaling=1, l1_ratio=None, max_iter=100,\n",
       "                   multi_class='auto', n_jobs=None, penalty='l2',\n",
       "                   random_state=None, solver='lbfgs', tol=0.0001, verbose=0,\n",
       "                   warm_start=False)"
      ]
     },
     "execution_count": 83,
     "metadata": {},
     "output_type": "execute_result"
    }
   ],
   "source": [
    "from sklearn.linear_model import LogisticRegression\n",
    "lr=LogisticRegression()\n",
    "lr.fit(X_train,y_train)"
   ]
  },
  {
   "cell_type": "code",
   "execution_count": 84,
   "metadata": {},
   "outputs": [],
   "source": [
    "Y_train_pred=lr.predict(X_train)\n",
    "Y_test_pred=lr.predict(X_test)"
   ]
  },
  {
   "cell_type": "code",
   "execution_count": 85,
   "metadata": {},
   "outputs": [
    {
     "name": "stdout",
     "output_type": "stream",
     "text": [
      "CV : 0.8877438627795315\n",
      "Training Acc : 0.8881364582106545\n",
      "Testing Acc : 0.8893468901712924\n"
     ]
    }
   ],
   "source": [
    "from sklearn.metrics import accuracy_score\n",
    "from sklearn.model_selection import cross_val_score\n",
    "cv_score=cross_val_score(lr,X_train,y_train,scoring='accuracy',cv=5)\n",
    "print('CV :',cv_score.mean())\n",
    "print('Training Acc :',accuracy_score(y_train,Y_train_pred))\n",
    "print('Testing Acc :',accuracy_score(y_test,Y_test_pred))"
   ]
  },
  {
   "cell_type": "code",
   "execution_count": 86,
   "metadata": {},
   "outputs": [
    {
     "name": "stdout",
     "output_type": "stream",
     "text": [
      "[[9584 1312]\n",
      " [1104 9834]]\n"
     ]
    }
   ],
   "source": [
    "#classification report and confusion matrix on test data\n",
    "from sklearn.metrics import confusion_matrix,classification_report\n",
    "print(confusion_matrix(y_test,Y_test_pred))"
   ]
  },
  {
   "cell_type": "code",
   "execution_count": 87,
   "metadata": {
    "scrolled": false
   },
   "outputs": [
    {
     "name": "stdout",
     "output_type": "stream",
     "text": [
      "              precision    recall  f1-score   support\n",
      "\n",
      "           0       0.90      0.88      0.89     10896\n",
      "           1       0.88      0.90      0.89     10938\n",
      "\n",
      "    accuracy                           0.89     21834\n",
      "   macro avg       0.89      0.89      0.89     21834\n",
      "weighted avg       0.89      0.89      0.89     21834\n",
      "\n"
     ]
    }
   ],
   "source": [
    "print(classification_report(y_test,Y_test_pred))"
   ]
  },
  {
   "cell_type": "code",
   "execution_count": 88,
   "metadata": {},
   "outputs": [],
   "source": [
    "tn_lr=confusion_matrix(y_test,Y_test_pred)[0,0]\n",
    "fp_lr=confusion_matrix(y_test,Y_test_pred)[0,1]\n",
    "fn_lr=confusion_matrix(y_test,Y_test_pred)[1,0]\n",
    "tp_lr=confusion_matrix(y_test,Y_test_pred)[1,1]"
   ]
  },
  {
   "cell_type": "code",
   "execution_count": 89,
   "metadata": {
    "scrolled": true
   },
   "outputs": [
    {
     "name": "stdout",
     "output_type": "stream",
     "text": [
      "9584 1312 1104 9834\n"
     ]
    }
   ],
   "source": [
    "print(tn_lr,fp_lr,fn_lr,tp_lr)"
   ]
  },
  {
   "cell_type": "code",
   "execution_count": 92,
   "metadata": {
    "scrolled": true
   },
   "outputs": [
    {
     "name": "stdout",
     "output_type": "stream",
     "text": [
      "No skill Auc 0.5\n",
      "Logistic Auc 0.9495596626721861\n",
      "0.9495596626721861\n"
     ]
    }
   ],
   "source": [
    "from sklearn.metrics import roc_auc_score,roc_curve,auc\n",
    "ns_probs=[0 for i in range(len(y_test))]\n",
    "lr_probs=lr.predict_proba(X_test)[:,1]\n",
    "\n",
    "ns_auc=roc_auc_score(y_test,ns_probs)\n",
    "lr_auc=roc_auc_score(y_test,lr_probs)\n",
    "\n",
    "ns_fpr,ns_tpr,thre=roc_curve(y_test,ns_probs)\n",
    "lr_fpr,lr_tpr,thre=roc_curve(y_test,lr_probs)\n",
    "print('No skill Auc',ns_auc)\n",
    "print('Logistic Auc',lr_auc)\n",
    "roc=auc(lr_fpr,lr_tpr)\n",
    "print(roc)"
   ]
  },
  {
   "cell_type": "code",
   "execution_count": null,
   "metadata": {},
   "outputs": [],
   "source": []
  },
  {
   "cell_type": "code",
   "execution_count": 91,
   "metadata": {},
   "outputs": [
    {
     "data": {
      "image/png": "[encoded data removed]",
      "text/plain": [
       "<Figure size 432x288 with 1 Axes>"
      ]
     },
     "metadata": {},
     "output_type": "display_data"
    }
   ],
   "source": [
    "plt.plot(ns_fpr, ns_tpr, linestyle='--',label='No Skill AUC {}'.format(ns_auc))\n",
    "plt.plot(lr_fpr, lr_tpr, marker='.',label='Logistic AUC {}'.format(round(lr_auc,2)))\n",
    "plt.xlabel('False Positive Rate')\n",
    "plt.ylabel('True Positive Rate')\n",
    "plt.legend()\n",
    "plt.show()"
   ]
  },
  {
   "cell_type": "markdown",
   "metadata": {},
   "source": [
    "## KNN"
   ]
  },
  {
   "cell_type": "code",
   "execution_count": 92,
   "metadata": {},
   "outputs": [
    {
     "name": "stdout",
     "output_type": "stream",
     "text": [
      "CV : 0.9142622453297061\n"
     ]
    }
   ],
   "source": [
    "from sklearn.neighbors import KNeighborsClassifier\n",
    "Knn=KNeighborsClassifier()\n",
    "Knn.fit(X_train,y_train)\n",
    "cv_score=cross_val_score(Knn,X_train,y_train,cv=5,scoring='accuracy')\n",
    "print(\"CV :\",cv_score.mean())\n"
   ]
  },
  {
   "cell_type": "code",
   "execution_count": 93,
   "metadata": {},
   "outputs": [],
   "source": [
    "Y_train_pred=Knn.predict(X_train)\n",
    "Y_test_pred=Knn.predict(X_test)"
   ]
  },
  {
   "cell_type": "code",
   "execution_count": 94,
   "metadata": {
    "scrolled": true
   },
   "outputs": [
    {
     "name": "stdout",
     "output_type": "stream",
     "text": [
      "CV : 0.9142622453297061\n",
      "Training Score 0.941761865504652\n",
      "Testing score 0.9181551708344783\n"
     ]
    }
   ],
   "source": [
    "print(\"CV :\",cv_score.mean())\n",
    "print(\"Training Score\",accuracy_score(y_train,Y_train_pred))\n",
    "print('Testing score', accuracy_score(y_test,Y_test_pred))"
   ]
  },
  {
   "cell_type": "markdown",
   "metadata": {},
   "source": [
    "### *Choosing K value*"
   ]
  },
  {
   "cell_type": "code",
   "execution_count": 95,
   "metadata": {},
   "outputs": [],
   "source": [
    "# error_rate=[]\n",
    "# for i in range(1,20,2):  #Changing k range so that it run fast\n",
    "#     Knn=KNeighborsClassifier(n_neighbors=i)\n",
    "#     Knn.fit(X_train,y_train)\n",
    "#     Y_test_pred=Knn.predict(X_test)\n",
    "#     error_rate.append(np.mean(Y_test_pred!=y_test))\n",
    "    \n",
    "# plt.figure(figsize=(10,6))\n",
    "# plt.plot(range(1,20,2),error_rate,'b--',marker='o',markerfacecolor='red')\n",
    "# plt.xlabel('K value')\n",
    "# plt.ylabel('Error Rate')\n",
    "# plt.show()    \n",
    "\n",
    "    "
   ]
  },
  {
   "cell_type": "code",
   "execution_count": 96,
   "metadata": {},
   "outputs": [
    {
     "name": "stdout",
     "output_type": "stream",
     "text": [
      "CV : 0.919051556591221\n",
      "Training Score 1.0\n",
      "Testing score 0.9231473848126774\n"
     ]
    }
   ],
   "source": [
    "Knn=KNeighborsClassifier(n_neighbors=1)\n",
    "Knn.fit(X_train,y_train)\n",
    "cv_score=cross_val_score(Knn,X_train,y_train,cv=5,scoring='accuracy')\n",
    "Y_train_pred=Knn.predict(X_train)\n",
    "Y_test_pred=Knn.predict(X_test)\n",
    "print(\"CV :\",cv_score.mean())\n",
    "print(\"Training Score\",accuracy_score(y_train,Y_train_pred))\n",
    "print('Testing score', accuracy_score(y_test,Y_test_pred))"
   ]
  },
  {
   "cell_type": "code",
   "execution_count": 97,
   "metadata": {},
   "outputs": [
    {
     "name": "stdout",
     "output_type": "stream",
     "text": [
      "[[ 9825  1071]\n",
      " [  607 10331]]\n"
     ]
    }
   ],
   "source": [
    "print(confusion_matrix(y_test,Y_test_pred))"
   ]
  },
  {
   "cell_type": "code",
   "execution_count": 98,
   "metadata": {},
   "outputs": [],
   "source": [
    "from sklearn.metrics import precision_score,recall_score"
   ]
  },
  {
   "cell_type": "code",
   "execution_count": 99,
   "metadata": {},
   "outputs": [
    {
     "data": {
      "text/plain": [
       "0.9060691106823364"
      ]
     },
     "execution_count": 99,
     "metadata": {},
     "output_type": "execute_result"
    }
   ],
   "source": [
    "precision_score(y_test,Y_test_pred)"
   ]
  },
  {
   "cell_type": "code",
   "execution_count": 100,
   "metadata": {},
   "outputs": [
    {
     "data": {
      "text/plain": [
       "0.9445053940391296"
      ]
     },
     "execution_count": 100,
     "metadata": {},
     "output_type": "execute_result"
    }
   ],
   "source": [
    "recall_score(y_test,Y_test_pred)"
   ]
  },
  {
   "cell_type": "code",
   "execution_count": 102,
   "metadata": {},
   "outputs": [],
   "source": [
    "ns_probs=[0 for i in range(len(y_test))]\n",
    "knn_probs=Knn.predict_proba(X_test)[:,1]\n",
    "\n",
    "ns_auc=roc_auc_score(y_test,ns_probs)\n",
    "Knn_auc=roc_auc_score(y_test,knn_probs)\n",
    "\n",
    "\n",
    "\n"
   ]
  },
  {
   "cell_type": "code",
   "execution_count": 104,
   "metadata": {},
   "outputs": [
    {
     "data": {
      "text/plain": [
       "0.9231062212486397"
      ]
     },
     "execution_count": 104,
     "metadata": {},
     "output_type": "execute_result"
    }
   ],
   "source": [
    "Knn_auc"
   ]
  },
  {
   "cell_type": "code",
   "execution_count": 105,
   "metadata": {},
   "outputs": [],
   "source": [
    "ns_fpr,ns_tpr,thre_n=roc_curve(y_test,ns_probs)"
   ]
  },
  {
   "cell_type": "code",
   "execution_count": 108,
   "metadata": {},
   "outputs": [
    {
     "data": {
      "text/plain": [
       "(array([0., 1.]),\n",
       " array([0., 1.]),\n",
       " array([1.99999761e+00, 9.99997609e-01, 9.99974067e-01, ...,\n",
       "        5.23616746e-03, 5.23550722e-03, 1.61968397e-06]))"
      ]
     },
     "execution_count": 108,
     "metadata": {},
     "output_type": "execute_result"
    }
   ],
   "source": [
    "ns_fpr,ns_tpr,thre"
   ]
  },
  {
   "cell_type": "code",
   "execution_count": 109,
   "metadata": {},
   "outputs": [],
   "source": [
    "Knn_fpr,Knn_tpr,thre_k=roc_curve(y_test,knn_probs)"
   ]
  },
  {
   "cell_type": "code",
   "execution_count": 110,
   "metadata": {
    "scrolled": true
   },
   "outputs": [
    {
     "data": {
      "image/png": "[encoded data removed]",
      "text/plain": [
       "<Figure size 432x288 with 1 Axes>"
      ]
     },
     "metadata": {},
     "output_type": "display_data"
    }
   ],
   "source": [
    "plt.plot(ns_fpr, ns_tpr, linestyle='--',label='No Skill AUC {}'.format(ns_auc))\n",
    "plt.plot(Knn_fpr, Knn_tpr, marker='.',label='KNN AUC {}'.format(round(Knn_auc,2)))\n",
    "plt.xlabel('False Positive Rate')\n",
    "plt.ylabel('True Positive Rate')\n",
    "plt.legend()\n",
    "plt.show()"
   ]
  },
  {
   "cell_type": "code",
   "execution_count": 113,
   "metadata": {},
   "outputs": [],
   "source": [
    "from sklearn.tree import DecisionTreeClassifier"
   ]
  },
  {
   "cell_type": "code",
   "execution_count": 114,
   "metadata": {},
   "outputs": [
    {
     "name": "stdout",
     "output_type": "stream",
     "text": [
      "CV : 0.9250578505837075\n"
     ]
    }
   ],
   "source": [
    "dt=DecisionTreeClassifier()\n",
    "dt.fit(X_train,y_train)\n",
    "cv_score=cross_val_score(dt,X_train,y_train,scoring='accuracy',cv=10)\n",
    "print(\"CV :\",cv_score.mean())\n"
   ]
  },
  {
   "cell_type": "code",
   "execution_count": 118,
   "metadata": {},
   "outputs": [
    {
     "name": "stdout",
     "output_type": "stream",
     "text": [
      "CV : 0.814764395989355 ----> 2\n",
      "CV : 0.8703726911492786 ----> 4\n",
      "CV : 0.895163611060059 ----> 6\n",
      "CV : 0.9064891058887806 ----> 8\n",
      "CV : 0.9160876445301348 ----> 10\n",
      "CV : 0.9216621644583306 ----> 12\n",
      "CV : 0.9243512177153903 ----> 14\n",
      "CV : 0.924567196567148 ----> 16\n",
      "CV : 0.9258233184723854 ----> 18\n"
     ]
    }
   ],
   "source": [
    "\n",
    "for i in range(2,20,2):\n",
    "    dt=DecisionTreeClassifier(max_depth=i)\n",
    "    cv_score=cross_val_score(dt,X_train,y_train,scoring='accuracy',cv=10)\n",
    "    print(\"CV :\",cv_score.mean(),'---->',i)"
   ]
  },
  {
   "cell_type": "code",
   "execution_count": 121,
   "metadata": {},
   "outputs": [
    {
     "data": {
      "image/png": "[encoded data removed]",
      "text/plain": [
       "<Figure size 720x432 with 1 Axes>"
      ]
     },
     "metadata": {},
     "output_type": "display_data"
    }
   ],
   "source": [
    "error_rate=[]\n",
    "for i in range(2,60,2):\n",
    "    dt=DecisionTreeClassifier(max_depth=i)\n",
    "    dt.fit(X_train,y_train)\n",
    "    y_test_pred=dt.predict(X_test)\n",
    "    error_rate.append(np.mean(y_test_pred!=y_test))\n",
    "plt.figure(figsize=(10,6))\n",
    "plt.plot(range(2,60,2),error_rate,'b--',marker='o',markerfacecolor='red')\n",
    "plt.xlabel('Max_Depth value')\n",
    "plt.ylabel('Error Rate')\n",
    "plt.show()"
   ]
  },
  {
   "cell_type": "code",
   "execution_count": 123,
   "metadata": {},
   "outputs": [
    {
     "name": "stdout",
     "output_type": "stream",
     "text": [
      "CV : 0.9260981516094093\n"
     ]
    }
   ],
   "source": [
    "dt=DecisionTreeClassifier(max_depth=18)\n",
    "dt.fit(X_train,y_train)\n",
    "cv_score=cross_val_score(dt,X_train,y_train,scoring='accuracy',cv=10)\n",
    "print(\"CV :\",cv_score.mean())"
   ]
  },
  {
   "cell_type": "code",
   "execution_count": 124,
   "metadata": {},
   "outputs": [
    {
     "name": "stdout",
     "output_type": "stream",
     "text": [
      "[[24991   503]\n",
      " [  154 25298]]\n",
      "------------------------------------------------------------\n",
      "[[ 9996   900]\n",
      " [  647 10291]]\n"
     ]
    }
   ],
   "source": [
    "Y_train_pred=dt.predict(X_train)\n",
    "Y_test_pred=dt.predict(X_test)\n",
    "print(confusion_matrix(y_train,Y_train_pred))\n",
    "print(\"--\"*30)\n",
    "print(confusion_matrix(y_test,Y_test_pred))"
   ]
  },
  {
   "cell_type": "code",
   "execution_count": 126,
   "metadata": {},
   "outputs": [
    {
     "name": "stdout",
     "output_type": "stream",
     "text": [
      "0.9871039924626075\n",
      "0.9291472016121645\n"
     ]
    }
   ],
   "source": [
    "print(accuracy_score(y_train,Y_train_pred))\n",
    "print(accuracy_score(y_test,Y_test_pred))"
   ]
  },
  {
   "cell_type": "code",
   "execution_count": 133,
   "metadata": {},
   "outputs": [],
   "source": [
    "error_rate=[]\n",
    "for i in range(2,30,2):\n",
    "    dt=DecisionTreeClassifier(max_depth=i)\n",
    "    dt.fit(X_train,y_train)\n",
    "    y_test_pred=dt.score(X_test,y_test)\n",
    "    error_rate.append(y_test_pred)\n",
    "    #error_rate.append(np.mean(y_test_pred!=y_test))\n",
    "# plt.figure(figsize=(10,6))\n",
    "# plt.plot(range(2,60,2),error_rate,'b--',marker='o',markerfacecolor='red')\n",
    "# plt.xlabel('Max_Depth value')\n",
    "# plt.ylabel('Error Rate')\n",
    "# plt.show()"
   ]
  },
  {
   "cell_type": "code",
   "execution_count": 135,
   "metadata": {},
   "outputs": [
    {
     "data": {
      "image/png": "[encoded data removed]",
      "text/plain": [
       "<Figure size 720x432 with 1 Axes>"
      ]
     },
     "metadata": {},
     "output_type": "display_data"
    }
   ],
   "source": [
    "plt.figure(figsize=(10,6))\n",
    "plt.plot(range(2,30,2),error_rate,'b--',marker='o',markerfacecolor='red')\n",
    "plt.xlabel('Max_Depth value')\n",
    "plt.ylabel('Error Rate')\n",
    "plt.show()"
   ]
  },
  {
   "cell_type": "code",
   "execution_count": null,
   "metadata": {},
   "outputs": [],
   "source": []
  }
 ],
 "metadata": {
  "kernelspec": {
   "display_name": "Python 3",
   "language": "python",
   "name": "python3"
  },
  "language_info": {
   "codemirror_mode": {
    "name": "ipython",
    "version": 3
   },
   "file_extension": ".py",
   "mimetype": "text/x-python",
   "name": "python",
   "nbconvert_exporter": "python",
   "pygments_lexer": "ipython3",
   "version": "3.7.6"
  }
 },
 "nbformat": 4,
 "nbformat_minor": 4
}
