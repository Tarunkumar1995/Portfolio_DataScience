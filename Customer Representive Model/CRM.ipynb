{
 "cells": [
  {
   "cell_type": "code",
   "execution_count": 1,
   "metadata": {},
   "outputs": [],
   "source": [
    "import pandas as pd\n",
    "import numpy as np\n",
    "\n",
    "import warnings\n",
    "warnings.filterwarnings('ignore')"
   ]
  },
  {
   "cell_type": "code",
   "execution_count": 2,
   "metadata": {},
   "outputs": [
    {
     "data": {
      "text/html": [
       "<div>\n",
       "<style scoped>\n",
       "    .dataframe tbody tr th:only-of-type {\n",
       "        vertical-align: middle;\n",
       "    }\n",
       "\n",
       "    .dataframe tbody tr th {\n",
       "        vertical-align: top;\n",
       "    }\n",
       "\n",
       "    .dataframe thead th {\n",
       "        text-align: right;\n",
       "    }\n",
       "</style>\n",
       "<table border=\"1\" class=\"dataframe\">\n",
       "  <thead>\n",
       "    <tr style=\"text-align: right;\">\n",
       "      <th></th>\n",
       "      <th>Lead Name</th>\n",
       "      <th>Location</th>\n",
       "      <th>Status</th>\n",
       "      <th>Status information</th>\n",
       "      <th>Unnamed: 4</th>\n",
       "    </tr>\n",
       "  </thead>\n",
       "  <tbody>\n",
       "    <tr>\n",
       "      <th>0</th>\n",
       "      <td>Raja</td>\n",
       "      <td>hyderabad</td>\n",
       "      <td>Not Converted</td>\n",
       "      <td>14/8/prema: share me details, available in evn...</td>\n",
       "      <td>NaN</td>\n",
       "    </tr>\n",
       "    <tr>\n",
       "      <th>1</th>\n",
       "      <td>Anirudh Reddy</td>\n",
       "      <td>pune</td>\n",
       "      <td>Not Converted</td>\n",
       "      <td>14/8/prema: cal me tmrw, shared details to ema...</td>\n",
       "      <td>NaN</td>\n",
       "    </tr>\n",
       "    <tr>\n",
       "      <th>2</th>\n",
       "      <td>Sapna Dewani</td>\n",
       "      <td>bangalore</td>\n",
       "      <td>Converted</td>\n",
       "      <td>16|AuG|moHan:rnr</td>\n",
       "      <td>NaN</td>\n",
       "    </tr>\n",
       "    <tr>\n",
       "      <th>3</th>\n",
       "      <td>suresh</td>\n",
       "      <td>mumbai</td>\n",
       "      <td>Not Converted</td>\n",
       "      <td>14/8/17(Surendra):i want only Server 16|AuG|mo...</td>\n",
       "      <td>NaN</td>\n",
       "    </tr>\n",
       "    <tr>\n",
       "      <th>4</th>\n",
       "      <td>Akshay Shinde</td>\n",
       "      <td>hyderabad</td>\n",
       "      <td>Not Converted</td>\n",
       "      <td>14/8/prema:rnr 16/8/prema: gave info, he said ...</td>\n",
       "      <td>NaN</td>\n",
       "    </tr>\n",
       "  </tbody>\n",
       "</table>\n",
       "</div>"
      ],
      "text/plain": [
       "       Lead Name   Location        Status   \\\n",
       "0           Raja  hyderabad  Not Converted   \n",
       "1  Anirudh Reddy       pune  Not Converted   \n",
       "2   Sapna Dewani  bangalore     Converted    \n",
       "3         suresh     mumbai  Not Converted   \n",
       "4  Akshay Shinde  hyderabad  Not Converted   \n",
       "\n",
       "                                  Status information  Unnamed: 4  \n",
       "0  14/8/prema: share me details, available in evn...         NaN  \n",
       "1  14/8/prema: cal me tmrw, shared details to ema...         NaN  \n",
       "2                                   16|AuG|moHan:rnr         NaN  \n",
       "3  14/8/17(Surendra):i want only Server 16|AuG|mo...         NaN  \n",
       "4  14/8/prema:rnr 16/8/prema: gave info, he said ...         NaN  "
      ]
     },
     "execution_count": 2,
     "metadata": {},
     "output_type": "execute_result"
    }
   ],
   "source": [
    "df=pd.read_excel('~/Desktop/NLP/CRM/1000 leads.xlsx')\n",
    "df.head()"
   ]
  },
  {
   "cell_type": "code",
   "execution_count": 3,
   "metadata": {},
   "outputs": [],
   "source": [
    "df.drop(columns=['Unnamed: 4'],axis=1,inplace=True)"
   ]
  },
  {
   "cell_type": "code",
   "execution_count": 4,
   "metadata": {},
   "outputs": [
    {
     "data": {
      "text/html": [
       "<div>\n",
       "<style scoped>\n",
       "    .dataframe tbody tr th:only-of-type {\n",
       "        vertical-align: middle;\n",
       "    }\n",
       "\n",
       "    .dataframe tbody tr th {\n",
       "        vertical-align: top;\n",
       "    }\n",
       "\n",
       "    .dataframe thead th {\n",
       "        text-align: right;\n",
       "    }\n",
       "</style>\n",
       "<table border=\"1\" class=\"dataframe\">\n",
       "  <thead>\n",
       "    <tr style=\"text-align: right;\">\n",
       "      <th></th>\n",
       "      <th>Lead Name</th>\n",
       "      <th>Location</th>\n",
       "      <th>Status</th>\n",
       "      <th>Status information</th>\n",
       "    </tr>\n",
       "  </thead>\n",
       "  <tbody>\n",
       "    <tr>\n",
       "      <th>0</th>\n",
       "      <td>Raja</td>\n",
       "      <td>hyderabad</td>\n",
       "      <td>Not Converted</td>\n",
       "      <td>14/8/prema: share me details, available in evn...</td>\n",
       "    </tr>\n",
       "    <tr>\n",
       "      <th>1</th>\n",
       "      <td>Anirudh Reddy</td>\n",
       "      <td>pune</td>\n",
       "      <td>Not Converted</td>\n",
       "      <td>14/8/prema: cal me tmrw, shared details to ema...</td>\n",
       "    </tr>\n",
       "    <tr>\n",
       "      <th>2</th>\n",
       "      <td>Sapna Dewani</td>\n",
       "      <td>bangalore</td>\n",
       "      <td>Converted</td>\n",
       "      <td>16|AuG|moHan:rnr</td>\n",
       "    </tr>\n",
       "    <tr>\n",
       "      <th>3</th>\n",
       "      <td>suresh</td>\n",
       "      <td>mumbai</td>\n",
       "      <td>Not Converted</td>\n",
       "      <td>14/8/17(Surendra):i want only Server 16|AuG|mo...</td>\n",
       "    </tr>\n",
       "    <tr>\n",
       "      <th>4</th>\n",
       "      <td>Akshay Shinde</td>\n",
       "      <td>hyderabad</td>\n",
       "      <td>Not Converted</td>\n",
       "      <td>14/8/prema:rnr 16/8/prema: gave info, he said ...</td>\n",
       "    </tr>\n",
       "    <tr>\n",
       "      <th>...</th>\n",
       "      <td>...</td>\n",
       "      <td>...</td>\n",
       "      <td>...</td>\n",
       "      <td>...</td>\n",
       "    </tr>\n",
       "    <tr>\n",
       "      <th>996</th>\n",
       "      <td>vipin</td>\n",
       "      <td>bangalore</td>\n",
       "      <td>Not Converted</td>\n",
       "      <td>25/4/17(Surendra):please send me details tomor...</td>\n",
       "    </tr>\n",
       "    <tr>\n",
       "      <th>997</th>\n",
       "      <td>dheeraj</td>\n",
       "      <td>chennai</td>\n",
       "      <td>Not Converted</td>\n",
       "      <td>24/4/17(prema): need CT, but our venue is far....</td>\n",
       "    </tr>\n",
       "    <tr>\n",
       "      <th>998</th>\n",
       "      <td>kuldeep singh</td>\n",
       "      <td>bangalore</td>\n",
       "      <td>Not Converted</td>\n",
       "      <td>24/Apr/moHan:intrstd in evng batch trail perd ...</td>\n",
       "    </tr>\n",
       "    <tr>\n",
       "      <th>999</th>\n",
       "      <td>ankur sharma</td>\n",
       "      <td>bangalore</td>\n",
       "      <td>Not Converted</td>\n",
       "      <td>1/5/17(Surendra):please share me details 11/5/...</td>\n",
       "    </tr>\n",
       "    <tr>\n",
       "      <th>1000</th>\n",
       "      <td>Saugata Chakrabarti</td>\n",
       "      <td>bangalore</td>\n",
       "      <td>Not Converted</td>\n",
       "      <td>24/4/17(prema): shared details need only Cert....</td>\n",
       "    </tr>\n",
       "  </tbody>\n",
       "</table>\n",
       "<p>1001 rows × 4 columns</p>\n",
       "</div>"
      ],
      "text/plain": [
       "                Lead Name   Location        Status   \\\n",
       "0                    Raja  hyderabad  Not Converted   \n",
       "1           Anirudh Reddy       pune  Not Converted   \n",
       "2            Sapna Dewani  bangalore     Converted    \n",
       "3                  suresh     mumbai  Not Converted   \n",
       "4           Akshay Shinde  hyderabad  Not Converted   \n",
       "...                   ...        ...            ...   \n",
       "996                 vipin  bangalore  Not Converted   \n",
       "997               dheeraj    chennai  Not Converted   \n",
       "998         kuldeep singh  bangalore  Not Converted   \n",
       "999          ankur sharma  bangalore  Not Converted   \n",
       "1000  Saugata Chakrabarti  bangalore  Not Converted   \n",
       "\n",
       "                                     Status information  \n",
       "0     14/8/prema: share me details, available in evn...  \n",
       "1     14/8/prema: cal me tmrw, shared details to ema...  \n",
       "2                                      16|AuG|moHan:rnr  \n",
       "3     14/8/17(Surendra):i want only Server 16|AuG|mo...  \n",
       "4     14/8/prema:rnr 16/8/prema: gave info, he said ...  \n",
       "...                                                 ...  \n",
       "996   25/4/17(Surendra):please send me details tomor...  \n",
       "997   24/4/17(prema): need CT, but our venue is far....  \n",
       "998   24/Apr/moHan:intrstd in evng batch trail perd ...  \n",
       "999   1/5/17(Surendra):please share me details 11/5/...  \n",
       "1000  24/4/17(prema): shared details need only Cert....  \n",
       "\n",
       "[1001 rows x 4 columns]"
      ]
     },
     "execution_count": 4,
     "metadata": {},
     "output_type": "execute_result"
    }
   ],
   "source": [
    "df"
   ]
  },
  {
   "cell_type": "code",
   "execution_count": 5,
   "metadata": {},
   "outputs": [
    {
     "data": {
      "text/plain": [
       "56"
      ]
     },
     "execution_count": 5,
     "metadata": {},
     "output_type": "execute_result"
    }
   ],
   "source": [
    "len(df['Location'].unique())"
   ]
  },
  {
   "cell_type": "code",
   "execution_count": 6,
   "metadata": {},
   "outputs": [
    {
     "data": {
      "text/plain": [
       "Index(['Lead Name', 'Location', 'Status ', 'Status information'], dtype='object')"
      ]
     },
     "execution_count": 6,
     "metadata": {},
     "output_type": "execute_result"
    }
   ],
   "source": [
    "df.keys()"
   ]
  },
  {
   "cell_type": "code",
   "execution_count": 7,
   "metadata": {},
   "outputs": [],
   "source": [
    "df.rename(columns={'Status ':'Status'},inplace=True)"
   ]
  },
  {
   "cell_type": "code",
   "execution_count": 8,
   "metadata": {},
   "outputs": [
    {
     "data": {
      "text/plain": [
       "array(['Not Converted', 'Converted ', 'NOt Converted', nan, 'Conveted'],\n",
       "      dtype=object)"
      ]
     },
     "execution_count": 8,
     "metadata": {},
     "output_type": "execute_result"
    }
   ],
   "source": [
    "df['Status'].unique()"
   ]
  },
  {
   "cell_type": "code",
   "execution_count": 9,
   "metadata": {},
   "outputs": [],
   "source": [
    "Status=[]\n",
    "for i in df['Status']:\n",
    "    if i == 'NOt Converted':\n",
    "        Status.append('Not Converted')\n",
    "    elif i == 'Conveted':\n",
    "        Status.append('Converted')\n",
    "    elif i == 'Converted ':\n",
    "        Status.append('Converted')\n",
    "    else:\n",
    "        Status.append(i)\n",
    "    "
   ]
  },
  {
   "cell_type": "code",
   "execution_count": 10,
   "metadata": {},
   "outputs": [],
   "source": [
    "df['Status']=Status"
   ]
  },
  {
   "cell_type": "code",
   "execution_count": 11,
   "metadata": {
    "scrolled": true
   },
   "outputs": [
    {
     "data": {
      "text/html": [
       "<div>\n",
       "<style scoped>\n",
       "    .dataframe tbody tr th:only-of-type {\n",
       "        vertical-align: middle;\n",
       "    }\n",
       "\n",
       "    .dataframe tbody tr th {\n",
       "        vertical-align: top;\n",
       "    }\n",
       "\n",
       "    .dataframe thead th {\n",
       "        text-align: right;\n",
       "    }\n",
       "</style>\n",
       "<table border=\"1\" class=\"dataframe\">\n",
       "  <thead>\n",
       "    <tr style=\"text-align: right;\">\n",
       "      <th></th>\n",
       "      <th>Lead Name</th>\n",
       "      <th>Location</th>\n",
       "      <th>Status</th>\n",
       "      <th>Status information</th>\n",
       "    </tr>\n",
       "  </thead>\n",
       "  <tbody>\n",
       "    <tr>\n",
       "      <th>0</th>\n",
       "      <td>Raja</td>\n",
       "      <td>hyderabad</td>\n",
       "      <td>Not Converted</td>\n",
       "      <td>14/8/prema: share me details, available in evn...</td>\n",
       "    </tr>\n",
       "    <tr>\n",
       "      <th>1</th>\n",
       "      <td>Anirudh Reddy</td>\n",
       "      <td>pune</td>\n",
       "      <td>Not Converted</td>\n",
       "      <td>14/8/prema: cal me tmrw, shared details to ema...</td>\n",
       "    </tr>\n",
       "    <tr>\n",
       "      <th>2</th>\n",
       "      <td>Sapna Dewani</td>\n",
       "      <td>bangalore</td>\n",
       "      <td>Converted</td>\n",
       "      <td>16|AuG|moHan:rnr</td>\n",
       "    </tr>\n",
       "    <tr>\n",
       "      <th>3</th>\n",
       "      <td>suresh</td>\n",
       "      <td>mumbai</td>\n",
       "      <td>Not Converted</td>\n",
       "      <td>14/8/17(Surendra):i want only Server 16|AuG|mo...</td>\n",
       "    </tr>\n",
       "    <tr>\n",
       "      <th>4</th>\n",
       "      <td>Akshay Shinde</td>\n",
       "      <td>hyderabad</td>\n",
       "      <td>Not Converted</td>\n",
       "      <td>14/8/prema:rnr 16/8/prema: gave info, he said ...</td>\n",
       "    </tr>\n",
       "    <tr>\n",
       "      <th>...</th>\n",
       "      <td>...</td>\n",
       "      <td>...</td>\n",
       "      <td>...</td>\n",
       "      <td>...</td>\n",
       "    </tr>\n",
       "    <tr>\n",
       "      <th>996</th>\n",
       "      <td>vipin</td>\n",
       "      <td>bangalore</td>\n",
       "      <td>Not Converted</td>\n",
       "      <td>25/4/17(Surendra):please send me details tomor...</td>\n",
       "    </tr>\n",
       "    <tr>\n",
       "      <th>997</th>\n",
       "      <td>dheeraj</td>\n",
       "      <td>chennai</td>\n",
       "      <td>Not Converted</td>\n",
       "      <td>24/4/17(prema): need CT, but our venue is far....</td>\n",
       "    </tr>\n",
       "    <tr>\n",
       "      <th>998</th>\n",
       "      <td>kuldeep singh</td>\n",
       "      <td>bangalore</td>\n",
       "      <td>Not Converted</td>\n",
       "      <td>24/Apr/moHan:intrstd in evng batch trail perd ...</td>\n",
       "    </tr>\n",
       "    <tr>\n",
       "      <th>999</th>\n",
       "      <td>ankur sharma</td>\n",
       "      <td>bangalore</td>\n",
       "      <td>Not Converted</td>\n",
       "      <td>1/5/17(Surendra):please share me details 11/5/...</td>\n",
       "    </tr>\n",
       "    <tr>\n",
       "      <th>1000</th>\n",
       "      <td>Saugata Chakrabarti</td>\n",
       "      <td>bangalore</td>\n",
       "      <td>Not Converted</td>\n",
       "      <td>24/4/17(prema): shared details need only Cert....</td>\n",
       "    </tr>\n",
       "  </tbody>\n",
       "</table>\n",
       "<p>1001 rows × 4 columns</p>\n",
       "</div>"
      ],
      "text/plain": [
       "                Lead Name   Location         Status  \\\n",
       "0                    Raja  hyderabad  Not Converted   \n",
       "1           Anirudh Reddy       pune  Not Converted   \n",
       "2            Sapna Dewani  bangalore      Converted   \n",
       "3                  suresh     mumbai  Not Converted   \n",
       "4           Akshay Shinde  hyderabad  Not Converted   \n",
       "...                   ...        ...            ...   \n",
       "996                 vipin  bangalore  Not Converted   \n",
       "997               dheeraj    chennai  Not Converted   \n",
       "998         kuldeep singh  bangalore  Not Converted   \n",
       "999          ankur sharma  bangalore  Not Converted   \n",
       "1000  Saugata Chakrabarti  bangalore  Not Converted   \n",
       "\n",
       "                                     Status information  \n",
       "0     14/8/prema: share me details, available in evn...  \n",
       "1     14/8/prema: cal me tmrw, shared details to ema...  \n",
       "2                                      16|AuG|moHan:rnr  \n",
       "3     14/8/17(Surendra):i want only Server 16|AuG|mo...  \n",
       "4     14/8/prema:rnr 16/8/prema: gave info, he said ...  \n",
       "...                                                 ...  \n",
       "996   25/4/17(Surendra):please send me details tomor...  \n",
       "997   24/4/17(prema): need CT, but our venue is far....  \n",
       "998   24/Apr/moHan:intrstd in evng batch trail perd ...  \n",
       "999   1/5/17(Surendra):please share me details 11/5/...  \n",
       "1000  24/4/17(prema): shared details need only Cert....  \n",
       "\n",
       "[1001 rows x 4 columns]"
      ]
     },
     "execution_count": 11,
     "metadata": {},
     "output_type": "execute_result"
    }
   ],
   "source": [
    "df"
   ]
  },
  {
   "cell_type": "code",
   "execution_count": 12,
   "metadata": {},
   "outputs": [
    {
     "data": {
      "text/plain": [
       "\"24/4/17(prema): shared details need only Cert. 26/4/17(prema): need to call at 4pm In a meeting will cal later 29/4/17(prema): rnr 2/5/17(prema): will get back to u 11/5/17(gowtham)tim nedded 31/5/17|(gowtham)RNR 2/6/17(gowtham)RNR 7/6/17(prema)RNR 8/6/17(prema): shared ITIL intermediate details 12/6/17(prema)RNR 13/6/17(prema)RNR 14/6/17(prema)RNR 16/6/17(prema): i'm in a meeting cal u back later 28/6/17(prema): RNR\""
      ]
     },
     "execution_count": 12,
     "metadata": {},
     "output_type": "execute_result"
    }
   ],
   "source": [
    "df['Status information'].loc[1000]"
   ]
  },
  {
   "cell_type": "code",
   "execution_count": 13,
   "metadata": {},
   "outputs": [
    {
     "data": {
      "text/plain": [
       "array(['Not Converted', 'Converted', nan], dtype=object)"
      ]
     },
     "execution_count": 13,
     "metadata": {},
     "output_type": "execute_result"
    }
   ],
   "source": [
    "df['Status'].unique()"
   ]
  },
  {
   "cell_type": "code",
   "execution_count": 14,
   "metadata": {},
   "outputs": [
    {
     "data": {
      "text/plain": [
       "array(['hyderabad', 'pune', 'bangalore', 'mumbai', 'delhi', 'australia',\n",
       "       'nagpur', 'madurai', 'mysore', 'chennai', nan, 'kerala', 'hubli',\n",
       "       'guntur', 'Bangalore', 'Hyderabad', 'jalandhar', 'tiruttani',\n",
       "       'USA', 'Faridabad', 'Online', 'gurgoan', 'kochi', 'noida',\n",
       "       'ahmedabad', 'khammam', 'Chennai', 'vishakapatnam', 'solapur',\n",
       "       'Mumbai', 'nasik', 'Thane', 'UAE', 'Aurangabad', 'rayagada',\n",
       "       'bilgi', 'gurgaon', 'Rajamundry', 'kadapa', 'aurangabad',\n",
       "       'kolkatta', 'vijayawada', 'Vijayawada', 'Pune', 'India', 'india',\n",
       "       'meerut', 'jaipur', 'coimbatore', 'gujarat', 'ghazibad', 'ongole',\n",
       "       'Nepal', 'Gurgaon', 'bihar', 'thane'], dtype=object)"
      ]
     },
     "execution_count": 14,
     "metadata": {},
     "output_type": "execute_result"
    }
   ],
   "source": [
    "df['Location'].unique()"
   ]
  },
  {
   "cell_type": "code",
   "execution_count": 15,
   "metadata": {},
   "outputs": [],
   "source": [
    "Location=[]\n",
    "for i in df['Location']:\n",
    "    if i=='hyderabad':\n",
    "        Location.append('Hyderabad')\n",
    "    elif i=='pune':\n",
    "        Location.append('Pune')\n",
    "    elif i=='bangalore':\n",
    "        Location.append('Bangalore')\n",
    "    elif i=='mumbai':\n",
    "        Location.append('Mumbai')\n",
    "    elif i=='chennai':\n",
    "        Location.append('Chennai')\n",
    "    elif i=='gurgoan':\n",
    "        Location.append('Gurgaon')\n",
    "    elif i=='gurgaon':\n",
    "        Location.append('Gurgaon')\n",
    "    elif i=='Gurgoan':\n",
    "        Location.append('Gurgaon')\n",
    "    elif i=='thane':\n",
    "        Location.append('Thane')\n",
    "    elif i=='vijayawada':\n",
    "        Location.append('Vijayawada')\n",
    "    elif i=='aurangabad':\n",
    "        Location.append('Aurangabad')\n",
    "    elif i=='india':\n",
    "        Location.append('India')\n",
    "    else :\n",
    "        Location.append(i)\n",
    "    \n",
    "        "
   ]
  },
  {
   "cell_type": "code",
   "execution_count": 16,
   "metadata": {},
   "outputs": [],
   "source": [
    "df['Location']=Location"
   ]
  },
  {
   "cell_type": "code",
   "execution_count": 17,
   "metadata": {},
   "outputs": [
    {
     "data": {
      "text/plain": [
       "array(['Hyderabad', 'Pune', 'Bangalore', 'Mumbai', 'delhi', 'australia',\n",
       "       'nagpur', 'madurai', 'mysore', 'Chennai', nan, 'kerala', 'hubli',\n",
       "       'guntur', 'jalandhar', 'tiruttani', 'USA', 'Faridabad', 'Online',\n",
       "       'Gurgaon', 'kochi', 'noida', 'ahmedabad', 'khammam',\n",
       "       'vishakapatnam', 'solapur', 'nasik', 'Thane', 'UAE', 'Aurangabad',\n",
       "       'rayagada', 'bilgi', 'Rajamundry', 'kadapa', 'kolkatta',\n",
       "       'Vijayawada', 'India', 'meerut', 'jaipur', 'coimbatore', 'gujarat',\n",
       "       'ghazibad', 'ongole', 'Nepal', 'bihar'], dtype=object)"
      ]
     },
     "execution_count": 17,
     "metadata": {},
     "output_type": "execute_result"
    }
   ],
   "source": [
    "df['Location'].unique()"
   ]
  },
  {
   "cell_type": "code",
   "execution_count": 18,
   "metadata": {},
   "outputs": [
    {
     "data": {
      "text/plain": [
       "0       14/8/prema: share me details, available in evn...\n",
       "1       14/8/prema: cal me tmrw, shared details to ema...\n",
       "2                                        16|AuG|moHan:rnr\n",
       "3       14/8/17(Surendra):i want only Server 16|AuG|mo...\n",
       "4       14/8/prema:rnr 16/8/prema: gave info, he said ...\n",
       "                              ...                        \n",
       "996     25/4/17(Surendra):please send me details tomor...\n",
       "997     24/4/17(prema): need CT, but our venue is far....\n",
       "998     24/Apr/moHan:intrstd in evng batch trail perd ...\n",
       "999     1/5/17(Surendra):please share me details 11/5/...\n",
       "1000    24/4/17(prema): shared details need only Cert....\n",
       "Name: Status information, Length: 1001, dtype: object"
      ]
     },
     "execution_count": 18,
     "metadata": {},
     "output_type": "execute_result"
    }
   ],
   "source": [
    "df['Status information']"
   ]
  },
  {
   "cell_type": "code",
   "execution_count": 19,
   "metadata": {},
   "outputs": [
    {
     "data": {
      "text/plain": [
       "Lead Name              0\n",
       "Location              21\n",
       "Status                 3\n",
       "Status information    24\n",
       "dtype: int64"
      ]
     },
     "execution_count": 19,
     "metadata": {},
     "output_type": "execute_result"
    }
   ],
   "source": [
    "df.isnull().sum()"
   ]
  },
  {
   "cell_type": "code",
   "execution_count": 20,
   "metadata": {},
   "outputs": [],
   "source": [
    "df.dropna(inplace=True)"
   ]
  },
  {
   "cell_type": "code",
   "execution_count": 21,
   "metadata": {},
   "outputs": [
    {
     "data": {
      "text/plain": [
       "Lead Name             0\n",
       "Location              0\n",
       "Status                0\n",
       "Status information    0\n",
       "dtype: int64"
      ]
     },
     "execution_count": 21,
     "metadata": {},
     "output_type": "execute_result"
    }
   ],
   "source": [
    "df.isnull().sum()"
   ]
  },
  {
   "cell_type": "code",
   "execution_count": 22,
   "metadata": {},
   "outputs": [],
   "source": [
    "import nltk\n",
    "import re\n",
    "from nltk import pos_tag\n",
    "from nltk.stem import WordNetLemmatizer\n",
    "from nltk.stem import PorterStemmer\n",
    "import string"
   ]
  },
  {
   "cell_type": "code",
   "execution_count": 23,
   "metadata": {},
   "outputs": [],
   "source": [
    "df.drop(columns=['Lead Name'],inplace=True)"
   ]
  },
  {
   "cell_type": "code",
   "execution_count": 24,
   "metadata": {},
   "outputs": [
    {
     "data": {
      "text/html": [
       "<div>\n",
       "<style scoped>\n",
       "    .dataframe tbody tr th:only-of-type {\n",
       "        vertical-align: middle;\n",
       "    }\n",
       "\n",
       "    .dataframe tbody tr th {\n",
       "        vertical-align: top;\n",
       "    }\n",
       "\n",
       "    .dataframe thead th {\n",
       "        text-align: right;\n",
       "    }\n",
       "</style>\n",
       "<table border=\"1\" class=\"dataframe\">\n",
       "  <thead>\n",
       "    <tr style=\"text-align: right;\">\n",
       "      <th></th>\n",
       "      <th>Location</th>\n",
       "      <th>Status</th>\n",
       "      <th>Status information</th>\n",
       "    </tr>\n",
       "  </thead>\n",
       "  <tbody>\n",
       "    <tr>\n",
       "      <th>0</th>\n",
       "      <td>Hyderabad</td>\n",
       "      <td>Not Converted</td>\n",
       "      <td>14/8/prema: share me details, available in evn...</td>\n",
       "    </tr>\n",
       "    <tr>\n",
       "      <th>1</th>\n",
       "      <td>Pune</td>\n",
       "      <td>Not Converted</td>\n",
       "      <td>14/8/prema: cal me tmrw, shared details to ema...</td>\n",
       "    </tr>\n",
       "    <tr>\n",
       "      <th>2</th>\n",
       "      <td>Bangalore</td>\n",
       "      <td>Converted</td>\n",
       "      <td>16|AuG|moHan:rnr</td>\n",
       "    </tr>\n",
       "    <tr>\n",
       "      <th>3</th>\n",
       "      <td>Mumbai</td>\n",
       "      <td>Not Converted</td>\n",
       "      <td>14/8/17(Surendra):i want only Server 16|AuG|mo...</td>\n",
       "    </tr>\n",
       "    <tr>\n",
       "      <th>4</th>\n",
       "      <td>Hyderabad</td>\n",
       "      <td>Not Converted</td>\n",
       "      <td>14/8/prema:rnr 16/8/prema: gave info, he said ...</td>\n",
       "    </tr>\n",
       "  </tbody>\n",
       "</table>\n",
       "</div>"
      ],
      "text/plain": [
       "    Location         Status                                 Status information\n",
       "0  Hyderabad  Not Converted  14/8/prema: share me details, available in evn...\n",
       "1       Pune  Not Converted  14/8/prema: cal me tmrw, shared details to ema...\n",
       "2  Bangalore      Converted                                   16|AuG|moHan:rnr\n",
       "3     Mumbai  Not Converted  14/8/17(Surendra):i want only Server 16|AuG|mo...\n",
       "4  Hyderabad  Not Converted  14/8/prema:rnr 16/8/prema: gave info, he said ..."
      ]
     },
     "execution_count": 24,
     "metadata": {},
     "output_type": "execute_result"
    }
   ],
   "source": [
    "df.head()"
   ]
  },
  {
   "cell_type": "code",
   "execution_count": 25,
   "metadata": {},
   "outputs": [],
   "source": [
    "from sklearn.preprocessing import LabelEncoder\n",
    "le=LabelEncoder()"
   ]
  },
  {
   "cell_type": "code",
   "execution_count": 26,
   "metadata": {},
   "outputs": [],
   "source": [
    "#Converted -->>1 Not Converted-->0"
   ]
  },
  {
   "cell_type": "code",
   "execution_count": 27,
   "metadata": {},
   "outputs": [],
   "source": [
    "df['Status_num']=df['Status'].replace(['Not Converted','Converted'],[0,1])"
   ]
  },
  {
   "cell_type": "code",
   "execution_count": 28,
   "metadata": {},
   "outputs": [],
   "source": [
    "df['Status information_num']=df['Status information'].apply(len)"
   ]
  },
  {
   "cell_type": "code",
   "execution_count": 29,
   "metadata": {},
   "outputs": [
    {
     "data": {
      "text/plain": [
       "0        5\n",
       "1       10\n",
       "2        1\n",
       "3        7\n",
       "4        5\n",
       "        ..\n",
       "996      1\n",
       "997      2\n",
       "998      1\n",
       "999      1\n",
       "1000     1\n",
       "Name: Location_num, Length: 956, dtype: int32"
      ]
     },
     "execution_count": 29,
     "metadata": {},
     "output_type": "execute_result"
    }
   ],
   "source": [
    "df['Location_num']=le.fit_transform(df['Location'])\n",
    "df['Location_num']"
   ]
  },
  {
   "cell_type": "code",
   "execution_count": 30,
   "metadata": {},
   "outputs": [
    {
     "data": {
      "text/html": [
       "<div>\n",
       "<style scoped>\n",
       "    .dataframe tbody tr th:only-of-type {\n",
       "        vertical-align: middle;\n",
       "    }\n",
       "\n",
       "    .dataframe tbody tr th {\n",
       "        vertical-align: top;\n",
       "    }\n",
       "\n",
       "    .dataframe thead th {\n",
       "        text-align: right;\n",
       "    }\n",
       "</style>\n",
       "<table border=\"1\" class=\"dataframe\">\n",
       "  <thead>\n",
       "    <tr style=\"text-align: right;\">\n",
       "      <th></th>\n",
       "      <th>Status_num</th>\n",
       "      <th>Status information_num</th>\n",
       "      <th>Location_num</th>\n",
       "    </tr>\n",
       "  </thead>\n",
       "  <tbody>\n",
       "    <tr>\n",
       "      <th>count</th>\n",
       "      <td>829.0</td>\n",
       "      <td>829.000000</td>\n",
       "      <td>829.000000</td>\n",
       "    </tr>\n",
       "    <tr>\n",
       "      <th>mean</th>\n",
       "      <td>0.0</td>\n",
       "      <td>141.288299</td>\n",
       "      <td>6.611580</td>\n",
       "    </tr>\n",
       "    <tr>\n",
       "      <th>std</th>\n",
       "      <td>0.0</td>\n",
       "      <td>94.838460</td>\n",
       "      <td>8.009424</td>\n",
       "    </tr>\n",
       "    <tr>\n",
       "      <th>min</th>\n",
       "      <td>0.0</td>\n",
       "      <td>9.000000</td>\n",
       "      <td>0.000000</td>\n",
       "    </tr>\n",
       "    <tr>\n",
       "      <th>25%</th>\n",
       "      <td>0.0</td>\n",
       "      <td>71.000000</td>\n",
       "      <td>1.000000</td>\n",
       "    </tr>\n",
       "    <tr>\n",
       "      <th>50%</th>\n",
       "      <td>0.0</td>\n",
       "      <td>123.000000</td>\n",
       "      <td>5.000000</td>\n",
       "    </tr>\n",
       "    <tr>\n",
       "      <th>75%</th>\n",
       "      <td>0.0</td>\n",
       "      <td>191.000000</td>\n",
       "      <td>7.000000</td>\n",
       "    </tr>\n",
       "    <tr>\n",
       "      <th>max</th>\n",
       "      <td>0.0</td>\n",
       "      <td>797.000000</td>\n",
       "      <td>43.000000</td>\n",
       "    </tr>\n",
       "  </tbody>\n",
       "</table>\n",
       "</div>"
      ],
      "text/plain": [
       "       Status_num  Status information_num  Location_num\n",
       "count       829.0              829.000000    829.000000\n",
       "mean          0.0              141.288299      6.611580\n",
       "std           0.0               94.838460      8.009424\n",
       "min           0.0                9.000000      0.000000\n",
       "25%           0.0               71.000000      1.000000\n",
       "50%           0.0              123.000000      5.000000\n",
       "75%           0.0              191.000000      7.000000\n",
       "max           0.0              797.000000     43.000000"
      ]
     },
     "execution_count": 30,
     "metadata": {},
     "output_type": "execute_result"
    }
   ],
   "source": [
    "df[df['Status_num']==0].describe()"
   ]
  },
  {
   "cell_type": "code",
   "execution_count": 31,
   "metadata": {},
   "outputs": [
    {
     "data": {
      "text/html": [
       "<div>\n",
       "<style scoped>\n",
       "    .dataframe tbody tr th:only-of-type {\n",
       "        vertical-align: middle;\n",
       "    }\n",
       "\n",
       "    .dataframe tbody tr th {\n",
       "        vertical-align: top;\n",
       "    }\n",
       "\n",
       "    .dataframe thead th {\n",
       "        text-align: right;\n",
       "    }\n",
       "</style>\n",
       "<table border=\"1\" class=\"dataframe\">\n",
       "  <thead>\n",
       "    <tr style=\"text-align: right;\">\n",
       "      <th></th>\n",
       "      <th>Status_num</th>\n",
       "      <th>Status information_num</th>\n",
       "      <th>Location_num</th>\n",
       "    </tr>\n",
       "  </thead>\n",
       "  <tbody>\n",
       "    <tr>\n",
       "      <th>count</th>\n",
       "      <td>127.0</td>\n",
       "      <td>127.000000</td>\n",
       "      <td>127.000000</td>\n",
       "    </tr>\n",
       "    <tr>\n",
       "      <th>mean</th>\n",
       "      <td>1.0</td>\n",
       "      <td>135.173228</td>\n",
       "      <td>6.425197</td>\n",
       "    </tr>\n",
       "    <tr>\n",
       "      <th>std</th>\n",
       "      <td>0.0</td>\n",
       "      <td>104.969012</td>\n",
       "      <td>7.712616</td>\n",
       "    </tr>\n",
       "    <tr>\n",
       "      <th>min</th>\n",
       "      <td>1.0</td>\n",
       "      <td>9.000000</td>\n",
       "      <td>1.000000</td>\n",
       "    </tr>\n",
       "    <tr>\n",
       "      <th>25%</th>\n",
       "      <td>1.0</td>\n",
       "      <td>66.000000</td>\n",
       "      <td>1.000000</td>\n",
       "    </tr>\n",
       "    <tr>\n",
       "      <th>50%</th>\n",
       "      <td>1.0</td>\n",
       "      <td>108.000000</td>\n",
       "      <td>5.000000</td>\n",
       "    </tr>\n",
       "    <tr>\n",
       "      <th>75%</th>\n",
       "      <td>1.0</td>\n",
       "      <td>176.000000</td>\n",
       "      <td>7.000000</td>\n",
       "    </tr>\n",
       "    <tr>\n",
       "      <th>max</th>\n",
       "      <td>1.0</td>\n",
       "      <td>692.000000</td>\n",
       "      <td>43.000000</td>\n",
       "    </tr>\n",
       "  </tbody>\n",
       "</table>\n",
       "</div>"
      ],
      "text/plain": [
       "       Status_num  Status information_num  Location_num\n",
       "count       127.0              127.000000    127.000000\n",
       "mean          1.0              135.173228      6.425197\n",
       "std           0.0              104.969012      7.712616\n",
       "min           1.0                9.000000      1.000000\n",
       "25%           1.0               66.000000      1.000000\n",
       "50%           1.0              108.000000      5.000000\n",
       "75%           1.0              176.000000      7.000000\n",
       "max           1.0              692.000000     43.000000"
      ]
     },
     "execution_count": 31,
     "metadata": {},
     "output_type": "execute_result"
    }
   ],
   "source": [
    "df[df['Status_num']==1].describe()"
   ]
  },
  {
   "cell_type": "code",
   "execution_count": 32,
   "metadata": {},
   "outputs": [],
   "source": [
    "import matplotlib.pyplot as plt\n",
    "import seaborn as sns\n",
    "%matplotlib inline"
   ]
  },
  {
   "cell_type": "code",
   "execution_count": 33,
   "metadata": {},
   "outputs": [
    {
     "data": {
      "image/png": "[encoded data removed]",
      "text/plain": [
       "<Figure size 432x288 with 1 Axes>"
      ]
     },
     "metadata": {
      "needs_background": "light"
     },
     "output_type": "display_data"
    }
   ],
   "source": [
    "sns.countplot(df['Status'])\n",
    "plt.show()"
   ]
  },
  {
   "cell_type": "markdown",
   "metadata": {},
   "source": [
    "### Converting the text into a lower"
   ]
  },
  {
   "cell_type": "code",
   "execution_count": 34,
   "metadata": {},
   "outputs": [],
   "source": [
    "message=df['Status information'].str.lower()"
   ]
  },
  {
   "cell_type": "code",
   "execution_count": 35,
   "metadata": {},
   "outputs": [],
   "source": [
    "message=message.apply(lambda x : re.sub(r'[^a-zA-Z]',' ',str(x)))"
   ]
  },
  {
   "cell_type": "code",
   "execution_count": 36,
   "metadata": {},
   "outputs": [],
   "source": [
    "message=message.apply(lambda x: nltk.word_tokenize(x))"
   ]
  },
  {
   "cell_type": "code",
   "execution_count": 37,
   "metadata": {},
   "outputs": [
    {
     "data": {
      "text/plain": [
       "0       [prema, share, me, details, available, in, evn...\n",
       "1       [prema, cal, me, tmrw, shared, details, to, em...\n",
       "2                                       [aug, mohan, rnr]\n",
       "3       [surendra, i, want, only, server, aug, mohan, ...\n",
       "4       [prema, rnr, prema, gave, info, he, said, he, ...\n",
       "                              ...                        \n",
       "996     [surendra, please, send, me, details, tomorrow...\n",
       "997     [prema, need, ct, but, our, venue, is, far, sh...\n",
       "998     [apr, mohan, intrstd, in, evng, batch, trail, ...\n",
       "999     [surendra, please, share, me, details, gowtham...\n",
       "1000    [prema, shared, details, need, only, cert, pre...\n",
       "Name: Status information, Length: 956, dtype: object"
      ]
     },
     "execution_count": 37,
     "metadata": {},
     "output_type": "execute_result"
    }
   ],
   "source": [
    "message"
   ]
  },
  {
   "cell_type": "code",
   "execution_count": 38,
   "metadata": {},
   "outputs": [],
   "source": [
    "message=message.apply(lambda x : pos_tag(x))"
   ]
  },
  {
   "cell_type": "code",
   "execution_count": 39,
   "metadata": {},
   "outputs": [
    {
     "data": {
      "text/plain": [
       "0       [(prema, NN), (share, NN), (me, PRP), (details...\n",
       "1       [(prema, NN), (cal, JJ), (me, PRP), (tmrw, JJ)...\n",
       "2                     [(aug, NN), (mohan, NN), (rnr, NN)]\n",
       "3       [(surendra, NN), (i, NN), (want, VBP), (only, ...\n",
       "4       [(prema, NN), (rnr, NN), (prema, NN), (gave, V...\n",
       "                              ...                        \n",
       "996     [(surendra, JJ), (please, NN), (send, VB), (me...\n",
       "997     [(prema, NNS), (need, VBP), (ct, NNS), (but, C...\n",
       "998     [(apr, NN), (mohan, NN), (intrstd, NN), (in, I...\n",
       "999     [(surendra, NN), (please, NN), (share, NN), (m...\n",
       "1000    [(prema, NN), (shared, VBD), (details, NNS), (...\n",
       "Name: Status information, Length: 956, dtype: object"
      ]
     },
     "execution_count": 39,
     "metadata": {},
     "output_type": "execute_result"
    }
   ],
   "source": [
    "message"
   ]
  },
  {
   "cell_type": "code",
   "execution_count": 40,
   "metadata": {},
   "outputs": [],
   "source": [
    "def textnormaliation(text):\n",
    "    text=text.lower()\n",
    "    spl_char=re.sub(r'[^a-zA-z]',' ',text)\n",
    "    \n",
    "    tokens=nltk.word_tokenize(spl_char)\n",
    "    \n",
    "    char=[word for word in tokens if word not in string.punctuation]\n",
    "    #chars=[word for word in char if word not in set(stopwords.words('english'))]\n",
    "    lr=WordNetLemmatizer()\n",
    "    tag_list=pos_tag(char,tagset=None)\n",
    "    \n",
    "    lemma_words=[]\n",
    "    for a,b in tag_list:\n",
    "        if b.startswith('V'):  # Verb\n",
    "            pos_val='v'\n",
    "        elif b.startswith('J'): # Adjective\n",
    "            pos_val='a'\n",
    "        elif b.startswith('R'): # Adverb\n",
    "            pos_val='r'\n",
    "        else:\n",
    "            pos_val='n'\n",
    "        \n",
    "        lemma_tokens=lr.lemmatize(a,pos_val)\n",
    "        lemma_words.append(lemma_tokens)\n",
    "    x=' '.join(lemma_words)\n",
    "    return x"
   ]
  },
  {
   "cell_type": "code",
   "execution_count": 41,
   "metadata": {},
   "outputs": [],
   "source": [
    "df['clean_Status_info']=df['Status information'].apply(lambda x: textnormaliation(x))"
   ]
  },
  {
   "cell_type": "code",
   "execution_count": 42,
   "metadata": {},
   "outputs": [],
   "source": [
    "df['clean_Status_info_num']=df['clean_Status_info'].apply(len)"
   ]
  },
  {
   "cell_type": "code",
   "execution_count": 43,
   "metadata": {},
   "outputs": [],
   "source": [
    "df.drop(columns=['Location_num'],inplace=True)"
   ]
  },
  {
   "cell_type": "code",
   "execution_count": 63,
   "metadata": {},
   "outputs": [],
   "source": [
    "from sklearn.feature_extraction.text import CountVectorizer\n"
   ]
  },
  {
   "cell_type": "code",
   "execution_count": 46,
   "metadata": {},
   "outputs": [
    {
     "name": "stdout",
     "output_type": "stream",
     "text": [
      "(956, 2)\n",
      "(956,)\n"
     ]
    }
   ],
   "source": [
    "X=df[['Location','clean_Status_info']]\n",
    "Y=df['Status_num']\n",
    "print(X.shape)\n",
    "print(Y.shape)"
   ]
  },
  {
   "cell_type": "code",
   "execution_count": 48,
   "metadata": {},
   "outputs": [
    {
     "name": "stdout",
     "output_type": "stream",
     "text": [
      "(736, 2)\n",
      "(220, 2)\n",
      "(736,)\n",
      "(220,)\n"
     ]
    }
   ],
   "source": [
    "from sklearn.model_selection import train_test_split\n",
    "X_train,X_test,y_train,y_test=train_test_split(X,Y,test_size=0.23,random_state=3)\n",
    "print(X_train.shape)\n",
    "print(X_test.shape)\n",
    "print(y_train.shape)\n",
    "print(y_test.shape)"
   ]
  },
  {
   "cell_type": "code",
   "execution_count": 49,
   "metadata": {},
   "outputs": [
    {
     "data": {
      "text/html": [
       "<div>\n",
       "<style scoped>\n",
       "    .dataframe tbody tr th:only-of-type {\n",
       "        vertical-align: middle;\n",
       "    }\n",
       "\n",
       "    .dataframe tbody tr th {\n",
       "        vertical-align: top;\n",
       "    }\n",
       "\n",
       "    .dataframe thead th {\n",
       "        text-align: right;\n",
       "    }\n",
       "</style>\n",
       "<table border=\"1\" class=\"dataframe\">\n",
       "  <thead>\n",
       "    <tr style=\"text-align: right;\">\n",
       "      <th></th>\n",
       "      <th>Location</th>\n",
       "      <th>clean_Status_info</th>\n",
       "    </tr>\n",
       "  </thead>\n",
       "  <tbody>\n",
       "    <tr>\n",
       "      <th>484</th>\n",
       "      <td>Bangalore</td>\n",
       "      <td>prema rnr prema not interested student do his ...</td>\n",
       "    </tr>\n",
       "    <tr>\n",
       "      <th>432</th>\n",
       "      <td>Mumbai</td>\n",
       "      <td>july mohan trainer</td>\n",
       "    </tr>\n",
       "    <tr>\n",
       "      <th>569</th>\n",
       "      <td>Bangalore</td>\n",
       "      <td>prema want tableau desktop server k prema rnr ...</td>\n",
       "    </tr>\n",
       "    <tr>\n",
       "      <th>713</th>\n",
       "      <td>Hyderabad</td>\n",
       "      <td>surendra iam in hyderabad i will come your ban...</td>\n",
       "    </tr>\n",
       "    <tr>\n",
       "      <th>444</th>\n",
       "      <td>Gurgaon</td>\n",
       "      <td>soma not reachable soma not look</td>\n",
       "    </tr>\n",
       "  </tbody>\n",
       "</table>\n",
       "</div>"
      ],
      "text/plain": [
       "      Location                                  clean_Status_info\n",
       "484  Bangalore  prema rnr prema not interested student do his ...\n",
       "432     Mumbai                                 july mohan trainer\n",
       "569  Bangalore  prema want tableau desktop server k prema rnr ...\n",
       "713  Hyderabad  surendra iam in hyderabad i will come your ban...\n",
       "444    Gurgaon                   soma not reachable soma not look"
      ]
     },
     "execution_count": 49,
     "metadata": {},
     "output_type": "execute_result"
    }
   ],
   "source": [
    "X_train.head()"
   ]
  },
  {
   "cell_type": "code",
   "execution_count": 79,
   "metadata": {},
   "outputs": [],
   "source": [
    "combined_2=X_train['Location'] +' '+ X_train['clean_Status_info']"
   ]
  },
  {
   "cell_type": "code",
   "execution_count": 84,
   "metadata": {},
   "outputs": [],
   "source": [
    "X_train_cv=cv.fit_transform(combined_2).toarray()\n"
   ]
  },
  {
   "cell_type": "code",
   "execution_count": 86,
   "metadata": {},
   "outputs": [],
   "source": [
    "combined_2_test=X_test['Location'] + ' ' + X_test['clean_Status_info']\n",
    "X_test_cv=cv.transform(combined_2_test).toarray()"
   ]
  },
  {
   "cell_type": "code",
   "execution_count": 88,
   "metadata": {},
   "outputs": [
    {
     "data": {
      "text/plain": [
       "(736, 1016)"
      ]
     },
     "execution_count": 88,
     "metadata": {},
     "output_type": "execute_result"
    }
   ],
   "source": [
    "X_train_cv.shape"
   ]
  },
  {
   "cell_type": "code",
   "execution_count": 89,
   "metadata": {},
   "outputs": [
    {
     "data": {
      "text/plain": [
       "(220, 1016)"
      ]
     },
     "execution_count": 89,
     "metadata": {},
     "output_type": "execute_result"
    }
   ],
   "source": [
    "X_test_cv.shape"
   ]
  },
  {
   "cell_type": "code",
   "execution_count": 90,
   "metadata": {},
   "outputs": [],
   "source": [
    "from sklearn.naive_bayes import MultinomialNB\n",
    "nb=MultinomialNB()"
   ]
  },
  {
   "cell_type": "code",
   "execution_count": 91,
   "metadata": {},
   "outputs": [],
   "source": [
    "model=nb.fit(X_train_cv,y_train)"
   ]
  },
  {
   "cell_type": "code",
   "execution_count": 92,
   "metadata": {},
   "outputs": [],
   "source": [
    "from sklearn.metrics import accuracy_score\n"
   ]
  },
  {
   "cell_type": "code",
   "execution_count": 93,
   "metadata": {},
   "outputs": [
    {
     "name": "stdout",
     "output_type": "stream",
     "text": [
      "0.8681818181818182\n"
     ]
    }
   ],
   "source": [
    "print(accuracy_score(y_test,model.predict(X_test_cv)))"
   ]
  },
  {
   "cell_type": "code",
   "execution_count": null,
   "metadata": {},
   "outputs": [],
   "source": []
  }
 ],
 "metadata": {
  "kernelspec": {
   "display_name": "Python 3",
   "language": "python",
   "name": "python3"
  },
  "language_info": {
   "codemirror_mode": {
    "name": "ipython",
    "version": 3
   },
   "file_extension": ".py",
   "mimetype": "text/x-python",
   "name": "python",
   "nbconvert_exporter": "python",
   "pygments_lexer": "ipython3",
   "version": "3.7.6"
  }
 },
 "nbformat": 4,
 "nbformat_minor": 4
}
